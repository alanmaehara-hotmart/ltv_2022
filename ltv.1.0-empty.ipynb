{
 "cells": [
  {
   "cell_type": "markdown",
   "metadata": {
    "heading_collapsed": true,
    "id": "_KBjZQLnCJXM"
   },
   "source": [
    "# Import Libraries"
   ]
  },
  {
   "cell_type": "code",
   "execution_count": null,
   "metadata": {
    "ExecuteTime": {
     "end_time": "2022-09-15T12:03:52.502501Z",
     "start_time": "2022-09-15T12:03:49.700766Z"
    },
    "hidden": true,
    "id": "JHifvmHZCJXV"
   },
   "outputs": [],
   "source": [
    "# data manipulation and viz\n",
    "import datetime\n",
    "import math\n",
    "import random\n",
    "import numpy as np\n",
    "import pandas as pd\n",
    "import seaborn as sns\n",
    "from numpy                         import log\n",
    "from matplotlib                    import pyplot as plt\n",
    "import pickle\n",
    "from matplotlib.ticker             import PercentFormatter\n",
    "import matplotlib as mpl\n",
    "# stats tests\n",
    "from scipy                         import stats as stats\n",
    "import statsmodels.formula.api as smf\n",
    "\n",
    "# notebook settings\n",
    "from IPython.core.display          import HTML\n",
    "from IPython.display               import Image\n",
    "import matplotlib.font_manager as font_manager\n",
    "from pathlib import Path\n",
    "\n",
    "\n",
    "import warnings\n",
    "warnings.filterwarnings('ignore')"
   ]
  },
  {
   "cell_type": "markdown",
   "metadata": {
    "heading_collapsed": true,
    "id": "peHRBitjCJX7"
   },
   "source": [
    "# Helper Functions"
   ]
  },
  {
   "cell_type": "code",
   "execution_count": null,
   "metadata": {
    "ExecuteTime": {
     "end_time": "2022-09-15T12:03:52.606106Z",
     "start_time": "2022-09-15T12:03:52.504855Z"
    },
    "colab": {
     "base_uri": "https://localhost:8080/",
     "height": 34
    },
    "hidden": true,
    "id": "QEaAJGxcCJYH",
    "outputId": "a73802e5-be3d-476d-9bce-7af1af1e9643"
   },
   "outputs": [],
   "source": [
    "def jupyter_settings():\n",
    "    \"\"\"\n",
    "    Settings for best jupyter layout\n",
    "    \"\"\"\n",
    "    %matplotlib inline\n",
    "#     %pylab inline\n",
    "    \n",
    "    plt.style.use( 'bmh' )\n",
    "    plt.rcParams['figure.figsize'] = [25, 12]\n",
    "    plt.rcParams['font.size'] = 21\n",
    "    \n",
    "    display( HTML( '<style>.container { width:100% !important; }</style>') )\n",
    "    pd.options.display.max_columns = None\n",
    "    pd.options.display.max_rows = 150\n",
    "    pd.set_option('display.width', None)\n",
    "    pd.set_option('display.max_colwidth', -1)\n",
    "    pd.set_option( 'display.expand_frame_repr', False )    \n",
    "    pd.options.display.float_format = '{:,.4f}'.format\n",
    "    sns.set_style('white')\n",
    "    sns.set(font_scale=2)\n",
    "\n",
    "jupyter_settings()\n",
    "\n",
    "\n",
    "def get_descriptive_statistics(data):\n",
    "    \"\"\"\n",
    "    Get descriptive statistics of a dataframe. \n",
    "    It only works for int or float variables - for categorical vars, use a boxplot.\n",
    "\n",
    "    data: pandas dataframe containing numerical features\n",
    "    \"\"\"\n",
    "    #### Central Tendency \n",
    "    # 1st moment (mean)\n",
    "    ct_mean = pd.DataFrame(data.apply( np.mean )).T\n",
    "    # median\n",
    "    ct_median = pd.DataFrame(data.apply( np.median )).T\n",
    "\n",
    "    #### Dispersion\n",
    "    # 2nd moment (variance)\n",
    "    d_var = pd.DataFrame(data.apply( np.var)).T\n",
    "    # Standard Deviation\n",
    "    d_std = pd.DataFrame(data.apply( np.std)).T\n",
    "    # min\n",
    "    d_min = pd.DataFrame(data.apply(min)).T\n",
    "    # max\n",
    "    d_max = pd.DataFrame(data.apply(max)).T\n",
    "    # range\n",
    "    d_range = pd.DataFrame(data.apply(lambda x: x.max() - x.min())).T\n",
    "    # 3rd moment (Skew)\n",
    "    d_sk = pd.DataFrame(data.apply(lambda x: x.skew())).T\n",
    "    # 4th moment (Kurtosis)\n",
    "    d_kurt = pd.DataFrame(data.apply(lambda x: x.kurtosis())).T\n",
    "    # Q1 quantile\n",
    "    d_q1 = pd.DataFrame(data.apply(lambda x: np.quantile(x, .25))).T\n",
    "    # Q3 quantile\n",
    "    d_q3 = pd.DataFrame(data.apply(lambda x: np.quantile(x, .75))).T\n",
    "    # 95th\n",
    "    d_95 = pd.DataFrame(data.apply(lambda x: np.quantile(x, .95))).T\n",
    "    # concatenate\n",
    "    m = pd.concat([d_min, d_max, d_range, ct_mean, d_q1, ct_median, d_q3, d_95, d_std, d_sk, d_kurt]).T.reset_index()\n",
    "    m.columns = ['attributes', 'min', 'max','range','mean','25%', '50%','75%','95%','std', 'skew', 'kurtosis']\n",
    "    return m\n",
    "\n",
    "def IQR(var, df):\n",
    "    \"\"\"\n",
    "    Calculate the lower and upper fence of a variable's boxplot. It takes two arguments:\n",
    "    var: str, name of the variable (should be used with quotes)\n",
    "    df: pandas dataframe containing the var\n",
    "    \"\"\"\n",
    "    Q1 = np.quantile(df[var], .25)\n",
    "    Q3 = np.quantile(df[var], .75)\n",
    "    IQR = Q3 - Q1\n",
    "    upper_fence = Q3 + (1.5 * IQR)\n",
    "    lower_fence = Q1 - (1.5 * IQR)\n",
    "\n",
    "    return print('For variable {}, upper fence is {} and lower fence is {}.'.format(var, upper_fence, lower_fence))\n",
    "\n",
    "# set palette for plots\n",
    "palette_types = ['#053D4E','#9EA4AC','#51C1C3', '#9EA4AC'] # dark, cyan, grey\n",
    "palette_topics = ['#053D4E','#EF4E23', '#51C1C3', '#9EA4AC'] # dark, orange, cyan, grey (old version)\n",
    "palette_topics = ['#9EA4AC','#9EA4AC', '#9EA4AC', '#9EA4AC'] # grey (ppt version)\n",
    "for n in range(0, 15):\n",
    "    palette_topics = palette_topics + ['#9EA4AC']\n",
    "# palette_segment = {'NONE': '#053D4E','SEED': '#9EA4AC', 'SMALL': '#51C1C3', 'MEDIUM':'#EF4E23','LARGE':'#053D4E'} # dark, grey, cyan, orange, dark\n",
    "palette_bins = ['#9EA4AC'] \n",
    "for n in range(0, 24):\n",
    "    if n < 19:\n",
    "        palette_bins = palette_bins + ['#9EA4AC'] # grey\n",
    "    else:\n",
    "        palette_bins = palette_bins + ['#51C1C3'] # cyan\n",
    "\n",
    "\n",
    "    \n",
    "list_topics = ['ANIMAIS E  PETS',\n",
    " 'AUTOCONHECIMENTO E ESPIRITUALIDADE',\n",
    " 'CARREIRA E DESENVOLVIMENTO PESSOAL',\n",
    " 'CULINÁRIA E GASTRONOMIA',\n",
    " 'DESIGN E FOTOGRAFIA',\n",
    " 'EDUCAÇÃO INFANTIL E FAMÍLIA',\n",
    " 'ENGENHARIA E ARQUITETURA',\n",
    " 'ENSINO E ESTUDO ACADÊMICO',\n",
    " 'FINANÇAS E NEGÓCIOS',\n",
    " 'HOBBIES E LAZER',\n",
    " 'MANUTENÇÃO DE EQUIPAMENTOS',\n",
    " 'MARKETING E VENDAS',\n",
    " 'MODA E BELEZA',\n",
    " 'MÚSICA E ARTES',\n",
    " 'PLANTAS E ECOLOGIA',\n",
    " 'RELACIONAMENTOS',\n",
    " 'SAÚDE E ESPORTES',\n",
    " 'TECNOLOGIA E DESENVOLVIMENTO DE SOFTWARE', 'SPARKLE']\n",
    "\n",
    "palette_two = {'single-purchase': '#9EA4AC', 'repurchase': '#EF4E23'} # grey, orange\n",
    "palette_above = {'below': '#9EA4AC', 'above': '#EF4E23'} # grey, orange\n",
    "\n",
    "millnames = ['',' K',' MM',' B',' T']\n",
    "\n",
    "def millify(n):\n",
    "    n = float(n)\n",
    "    millidx = max(0,min(len(millnames)-1,\n",
    "                        int(math.floor(0 if n == 0 else math.log10(abs(n))/3))))\n",
    "\n",
    "    return '{:.0f}{}'.format(n / 10**(3 * millidx), millnames[millidx])\n",
    "\n",
    "\n",
    "light = Path(mpl.get_data_path(), '/Users/alan.maehara/Downloads/nunito-sans/NunitoSans-Regular.ttf')\n",
    "\n",
    "# Add every font at the specified location\n",
    "font_dir = ['/Users/alan.maehara/Downloads/nunito-sans']\n",
    "for font in font_manager.findSystemFonts(font_dir):\n",
    "    print(font)\n",
    "    font_manager.fontManager.addfont(font)\n",
    "\n",
    "# Set font family globally\n",
    "plt.rcParams['font.family'] = 'nunito-sans'"
   ]
  },
  {
   "cell_type": "markdown",
   "metadata": {
    "heading_collapsed": true,
    "id": "uGAqDmiDCJYo"
   },
   "source": [
    "# Load Dataset"
   ]
  },
  {
   "cell_type": "code",
   "execution_count": null,
   "metadata": {
    "ExecuteTime": {
     "end_time": "2022-09-04T13:35:11.583446Z",
     "start_time": "2022-09-04T13:35:11.581137Z"
    },
    "hidden": true,
    "scrolled": true
   },
   "outputs": [],
   "source": [
    "# aux2 = aux1[['is_below_10_exact', 'producer_id']].groupby('is_below_10_exact').count().reset_index()\n",
    "# aux2['%'] = aux2['producer_id'] / aux2['producer_id'].sum() * 100\n",
    "# aux2"
   ]
  },
  {
   "cell_type": "code",
   "execution_count": null,
   "metadata": {
    "ExecuteTime": {
     "end_time": "2022-09-04T13:35:11.589409Z",
     "start_time": "2022-09-04T13:35:11.586925Z"
    },
    "hidden": true
   },
   "outputs": [],
   "source": [
    "# aux3 = aux1[['is_below_10_mean', 'producer_id']].groupby('is_below_10_mean').count().reset_index()\n",
    "# aux3['%'] = aux3['producer_id'] / aux3['producer_id'].sum() * 100\n",
    "# aux3"
   ]
  },
  {
   "cell_type": "code",
   "execution_count": null,
   "metadata": {
    "ExecuteTime": {
     "end_time": "2022-09-04T13:35:22.430035Z",
     "start_time": "2022-09-04T13:35:11.591815Z"
    },
    "hidden": true,
    "scrolled": false
   },
   "outputs": [],
   "source": [
    "elastic = pd.read_pickle('data/elastic.pkl')\n",
    "club = pd.read_pickle('data/club.pkl')\n",
    "club = club[['user_buyer_id', 'product_id', 'is_course_complete',\n",
    "       'completion_course_date', 'join_course_date', 'membership_status',\n",
    "       'last_access']].drop_duplicates()\n",
    "order = pd.read_csv('data/orderbump.csv', delimiter=';')\n",
    "order = order.drop_duplicates()\n",
    "dev = pd.read_csv('data/device.csv', delimiter=';')\n",
    "df = pd.read_csv('data/purchase_2022.csv', delimiter=';')\n",
    "prod = pd.read_csv('data/producers_ltv.csv', delimiter=';')\n",
    "prod.columns = ['producer_id', 'gmv_brl_exact', 'gmv_brl_entire', 'gmv_2021', 'gmv_2022']\n",
    "print(f\"size devices: {len(dev):,}\")\n",
    "print(f\"size elastic: {len(elastic):,}\")\n",
    "print(f\"size club: {len(club):,}\")\n",
    "print(f\"size purchases: {len(df):,}\")\n",
    "print(f\"size duplicates: {len(dup):,}\")\n",
    "print(f\"size prod: {len(prod):,}\")\n",
    "df = df.merge(dev, how = 'left', on = 'purchase_transaction')\n",
    "df = df.merge(order, how = 'left', on = 'purchase_id')\n",
    "df = df.merge(elastic, how = 'left', on = ['user_buyer_id', 'product_id'])\n",
    "df = df.merge(club, how = 'left', on = ['user_buyer_id', 'product_id'])\n",
    "df = df.drop(['purchase_payment_engine', 'club_access_type', 'club_quantity_dependents'], axis =1).drop_duplicates()\n",
    "print(f\"size after join: {len(df):,}\")\n",
    "df.head()"
   ]
  },
  {
   "cell_type": "code",
   "execution_count": null,
   "metadata": {
    "ExecuteTime": {
     "end_time": "2022-09-04T13:35:22.452064Z",
     "start_time": "2022-09-04T13:35:22.452050Z"
    },
    "hidden": true
   },
   "outputs": [],
   "source": [
    "dev.head()"
   ]
  },
  {
   "cell_type": "code",
   "execution_count": null,
   "metadata": {
    "ExecuteTime": {
     "end_time": "2022-09-04T13:35:22.454301Z",
     "start_time": "2022-09-04T13:35:22.454285Z"
    },
    "hidden": true
   },
   "outputs": [],
   "source": [
    "dup = pd.read_csv('data/duplicates.csv', delimiter=';')\n",
    "# remove entries without more than one user id\n",
    "dup = dup[dup['user2_date'].notnull()]\n",
    "\n",
    "# remove invalid users - these users should not be in the df\n",
    "dup['out'] = 0 \n",
    "dup.loc[(dup['user1_date'] < '2021-07-01') & (dup['user1_date'].notnull()), 'out'] = 1\n",
    "dup.loc[(dup['user2_date'] < '2021-07-01') & (dup['user2_date'].notnull()), 'out'] = 1\n",
    "dup.loc[(dup['user3_date'] < '2021-07-01') & (dup['user3_date'].notnull()), 'out'] = 1\n",
    "dup.loc[(dup['user4_date'] < '2021-07-01') & (dup['user4_date'].notnull()), 'out'] = 1\n",
    "dup.loc[(dup['user5_date'] < '2021-07-01') & (dup['user5_date'].notnull()), 'out'] = 1\n",
    "dup.loc[(dup['user6_date'] < '2021-07-01') & (dup['user6_date'].notnull()), 'out'] = 1\n",
    "\n",
    "dup['user1_date'] = pd.to_datetime(dup['user1_date'] )\n",
    "dup['user2_date'] = pd.to_datetime(dup['user2_date'] )\n",
    "dup['user3_date'] = pd.to_datetime(dup['user3_date'] )\n",
    "dup['user4_date'] = pd.to_datetime(dup['user4_date'] )\n",
    "dup['user5_date'] = pd.to_datetime(dup['user5_date'] )\n",
    "dup['user6_date'] = pd.to_datetime(dup['user6_date'] )\n",
    "# dup['user1'] = dup['user1'].astype(int)\n",
    "# dup['user2'] = dup['user2'].astype(int)\n",
    "# dup['user3'] = dup['user3'].astype(int)\n",
    "# dup['user4'] = dup['user4'].astype(int)\n",
    "# dup['user5'] = dup['user5'].astype(int)\n",
    "# dup['user6'] = dup['user6'].astype(int)\n"
   ]
  },
  {
   "cell_type": "code",
   "execution_count": null,
   "metadata": {
    "ExecuteTime": {
     "end_time": "2022-09-04T13:35:22.456087Z",
     "start_time": "2022-09-04T13:35:22.456074Z"
    },
    "hidden": true
   },
   "outputs": [],
   "source": [
    "\n",
    "df = df.merge(dup, on = 'purchase_transaction', how = 'left').drop_duplicates()"
   ]
  },
  {
   "cell_type": "markdown",
   "metadata": {
    "heading_collapsed": true,
    "id": "GwUPUKNtCJZ-"
   },
   "source": [
    "# STEP 01 - DATA PREPARATION "
   ]
  },
  {
   "cell_type": "markdown",
   "metadata": {
    "heading_collapsed": true,
    "hidden": true,
    "id": "RdAC3Mw8CJbF"
   },
   "source": [
    "## Data Dimensions"
   ]
  },
  {
   "cell_type": "code",
   "execution_count": null,
   "metadata": {
    "ExecuteTime": {
     "end_time": "2022-09-04T13:35:22.457236Z",
     "start_time": "2022-09-04T13:35:22.457223Z"
    },
    "hidden": true,
    "id": "netUOkvNCJaU"
   },
   "outputs": [],
   "source": [
    "# df.to_pickle('data/df.pkl')\n",
    "# dup.to_pickle('data/dup_cleaned.pkl')\n",
    "# # read pickle file as dataframe\n",
    "df1 = pd.read_pickle('data/df.pkl')\n",
    "dup = pd.read_pickle('data/dup_cleaned.pkl')\n",
    "first = pd.read_csv('data/first_purchase_per_product.csv')\n",
    "first['remove_first_entry'] = 1\n",
    "df1 = df1.merge(first, on = 'purchase_id', how = 'left')"
   ]
  },
  {
   "cell_type": "code",
   "execution_count": null,
   "metadata": {
    "ExecuteTime": {
     "end_time": "2022-09-04T13:35:22.458416Z",
     "start_time": "2022-09-04T13:35:22.458402Z"
    },
    "colab": {
     "base_uri": "https://localhost:8080/",
     "height": 52
    },
    "hidden": true,
    "id": "Dt6kQ2vVCJbK",
    "outputId": "8d73d13e-6f98-460d-b085-a6487e5b2821"
   },
   "outputs": [],
   "source": [
    "# check dataset shape and column names\n",
    "print(f'The dataset has {df1.shape[0]:,} rows and {df1.shape[1]} columns.')\n",
    "print(f'Columns: {df1.columns}')"
   ]
  },
  {
   "cell_type": "markdown",
   "metadata": {
    "heading_collapsed": true,
    "hidden": true,
    "id": "jKoWgSBpCJbt"
   },
   "source": [
    "## Remove inconsistencies"
   ]
  },
  {
   "cell_type": "code",
   "execution_count": null,
   "metadata": {
    "ExecuteTime": {
     "end_time": "2022-09-04T13:35:22.459883Z",
     "start_time": "2022-09-04T13:35:22.459870Z"
    },
    "hidden": true
   },
   "outputs": [],
   "source": [
    "# get original df size\n",
    "orig_shape = len(df1)\n",
    "count_outliers = len(df1)\n",
    "\n",
    "# remove inconsistencies \n",
    "df1 = df1[(df1['user_type'].notnull())]\n",
    "print(f'Outliers removed: {(count_outliers-len(df1)):,} ')\n",
    "count_outliers = len(df1)\n",
    "df1 = df1[~((df1['purchase_id'].duplicated(keep=False)) & ((df1['subscription_feature_type'] == 'MIGRATION') | (df1['subscription_feature_type'] == 'MONTHLY_PLAN_AS_ANNUAL')) )] # remove entries with duplicates\n",
    "print(f'Outliers removed: {(count_outliers-len(df1)):,} ')\n",
    "count_outliers = len(df1)\n",
    "df1 = df1[(df1['avg_rating'] != 0)]\n",
    "print(f'Outliers removed: {(count_outliers-len(df1)):,} ')\n",
    "count_outliers = len(df1)\n",
    "df1 = df1[~(df1['subs_value'] < 0)]\n",
    "print(f'Outliers removed: {(count_outliers-len(df1)):,} ')\n",
    "count_outliers = len(df1)\n",
    "\n",
    "### replace userid and user creation date with the oldest entry\n",
    "df1['user_creation_datetime'] = pd.to_datetime(df1['user_creation_datetime'])\n",
    "df1['user1_date'] = pd.to_datetime(df1['user1_date'])\n",
    "aux1 = df1[(df1['user_creation_datetime'] > df1['user1_date'])][['user_buyer_id', 'user1', 'user1_date', 'prod_signup_datetime']].drop_duplicates()\n",
    "aux1.columns = ['user_buyer_id', 'user', 'user_date', 'producer_signup_datetime']\n",
    "aux1['user'] = aux1['user'].astype(int)\n",
    "aux1['rank'] = aux1.groupby(\"user_buyer_id\")[\"user_date\"].rank(method=\"first\", ascending=True)\n",
    "aux1 = aux1[aux1['rank'] == 1]\n",
    "df1 = df1.merge(aux1, on = 'user_buyer_id', how = 'left')\n",
    "df1.loc[df1['user'].notnull(), 'user_creation_datetime'] = df1['user_date']\n",
    "df1.loc[df1['user'].notnull(), 'user_creation_date'] = df1['user_date'].dt.date\n",
    "df1.loc[df1['user'].notnull(), 'user_buyer_id'] = df1['user']\n",
    "df1.loc[df1['user'].notnull(), 'prod_signup_datetime'] = df1['producer_signup_datetime']\n",
    "df1['user_creation_date'] = df1['user_creation_date'].astype(str)\n",
    "\n",
    "### remove users with creation date above purchase date\n",
    "unique_users = list(set(df1[(df1['user_creation_date'] > df1['purchase_order_date'])]['user_buyer_id'].drop_duplicates()))\n",
    "aux2 = pd.DataFrame(data={'user_buyer_id': unique_users})\n",
    "aux2['user_buyer_id'] = aux2['user_buyer_id'].astype(int)\n",
    "aux2['remove'] = 1\n",
    "df1 = df1.merge(aux2, how = 'left', on = 'user_buyer_id')\n",
    "df1 = df1[~(df1['remove'] == 1)]\n",
    "print(f'Outliers removed: {(count_outliers-len(df1)):,} ')\n",
    "count_outliers = len(df1)"
   ]
  },
  {
   "cell_type": "code",
   "execution_count": null,
   "metadata": {
    "ExecuteTime": {
     "end_time": "2022-09-04T13:35:22.461338Z",
     "start_time": "2022-09-04T13:35:22.461324Z"
    },
    "hidden": true
   },
   "outputs": [],
   "source": [
    "### flag users who should be removed due to old user_creation_date (before 2021-07-01)\n",
    "aux1 = dup[dup['out'] == 1][['user1', 'user2', 'user3', 'user4', 'user5', 'user6']]\n",
    "unique_users = []\n",
    "for n in ['user1', 'user2', 'user3', 'user4', 'user5', 'user6']:\n",
    "    unique_users += list(aux1[aux1[n].notnull()][n])\n",
    "unique_users = list(set(unique_users))\n",
    "aux2 = pd.DataFrame(data={'user_buyer_id': unique_users})\n",
    "aux2['user_buyer_id'] = aux2['user_buyer_id'].astype(int)\n",
    "aux2['remove_old_entry'] = 1\n",
    "df1 = df1.merge(aux2, how = 'left', on = 'user_buyer_id')\n",
    "df1 = df1[~(df1['remove_old_entry'] == 1)]\n",
    "print(f'Outliers removed: {(count_outliers-len(df1)):,} ')\n",
    "count_outliers = len(df1)\n",
    "\n",
    "# remove na segment\n",
    "unique_prod = list(set(df1[df1['segment'].isna()]['producer_id']))\n",
    "aux2 = pd.DataFrame(data={'producer_id': unique_prod})\n",
    "aux2['producer_id'] = aux2['producer_id'].astype(int)\n",
    "aux2['remove_na_segment'] = 1\n",
    "df1 = df1.merge(aux2, how = 'left', on = 'producer_id')\n",
    "df1 = df1[~(df1['remove_na_segment'] == 1)]\n",
    "print(f'Outliers removed: {(count_outliers-len(df1)):,} ')\n",
    "count_outliers = len(df1)\n",
    "\n",
    "# remove na segmentation_final_name\n",
    "unique_prod = list(set(df1[df1['segmentation_final_name'].isna()]['producer_id']))\n",
    "aux2 = pd.DataFrame(data={'producer_id': unique_prod})\n",
    "aux2['producer_id'] = aux2['producer_id'].astype(int)\n",
    "aux2['remove_na_segmentation_final_name'] = 1\n",
    "df1 = df1.merge(aux2, how = 'left', on = 'producer_id')\n",
    "df1 = df1[~(df1['remove_na_segmentation_final_name'] == 1)]\n",
    "print(f'Outliers removed: {(count_outliers-len(df1)):,} ')\n",
    "count_outliers = len(df1)\n",
    "\n",
    "# remove null order_bump_type\n",
    "df1 = df1[df1['order_bump_type'].notnull()]\n",
    "print(f'Outliers removed: {(count_outliers-len(df1)):,} ')\n",
    "count_outliers = len(df1)\n"
   ]
  },
  {
   "cell_type": "code",
   "execution_count": null,
   "metadata": {
    "ExecuteTime": {
     "end_time": "2022-09-04T13:35:22.462907Z",
     "start_time": "2022-09-04T13:35:22.462892Z"
    },
    "hidden": true
   },
   "outputs": [],
   "source": [
    "# remove cols\n",
    "cols = ['origin_datetime',\n",
    "       'user1_date', 'user2_date', 'user3_date', 'user4_date',\n",
    "       'user5_date', 'user6_date', 'user1', 'user2', 'user3', 'user4', 'user5',\n",
    "       'user6', 'out', 'user', 'user_date', 'rank', 'remove',\n",
    "       'remove_old_entry', 'remove_na_segment', 'producer_signup_datetime', 'remove_na_segmentation_final_name']\n",
    "df1 = df1.drop(cols, axis = 1)"
   ]
  },
  {
   "cell_type": "code",
   "execution_count": null,
   "metadata": {
    "ExecuteTime": {
     "end_time": "2022-09-04T13:35:22.464646Z",
     "start_time": "2022-09-04T13:35:22.464631Z"
    },
    "hidden": true
   },
   "outputs": [],
   "source": [
    "# check dataset shape and column names\n",
    "print(f'Outliers removed: {(orig_shape-len(df1)):,} ')\n",
    "print(f'The dataset has {df1.shape[0]:,} rows and {df1.shape[1]} columns.')"
   ]
  },
  {
   "cell_type": "code",
   "execution_count": null,
   "metadata": {
    "ExecuteTime": {
     "end_time": "2022-09-04T13:35:22.466311Z",
     "start_time": "2022-09-04T13:35:22.466294Z"
    },
    "hidden": true
   },
   "outputs": [],
   "source": [
    "df3['user_creation_datetime'].min()"
   ]
  },
  {
   "cell_type": "code",
   "execution_count": null,
   "metadata": {
    "ExecuteTime": {
     "end_time": "2022-09-04T13:35:22.467928Z",
     "start_time": "2022-09-04T13:35:22.467912Z"
    },
    "hidden": true
   },
   "outputs": [],
   "source": [
    "# df1['user_creation_datetime'].min()\n",
    "df1['user_creation_datetime'].max()"
   ]
  },
  {
   "cell_type": "code",
   "execution_count": null,
   "metadata": {
    "ExecuteTime": {
     "end_time": "2022-09-04T13:35:22.469773Z",
     "start_time": "2022-09-04T13:35:22.469755Z"
    },
    "hidden": true
   },
   "outputs": [],
   "source": [
    "# df1['user_creation_date'].min()\n",
    "df1['user_creation_date'].max()"
   ]
  },
  {
   "cell_type": "code",
   "execution_count": null,
   "metadata": {
    "ExecuteTime": {
     "end_time": "2022-09-04T13:35:22.471517Z",
     "start_time": "2022-09-04T13:35:22.471503Z"
    },
    "hidden": true
   },
   "outputs": [],
   "source": [
    "# df1['purchase_order_datetime'].min()\n",
    "df1['purchase_order_datetime'].max()"
   ]
  },
  {
   "cell_type": "code",
   "execution_count": null,
   "metadata": {
    "ExecuteTime": {
     "end_time": "2022-09-04T13:35:22.472876Z",
     "start_time": "2022-09-04T13:35:22.472859Z"
    },
    "hidden": true
   },
   "outputs": [],
   "source": [
    "# df1['purchase_order_date'].min()\n",
    "df1['purchase_order_date'].max()"
   ]
  },
  {
   "cell_type": "code",
   "execution_count": null,
   "metadata": {
    "ExecuteTime": {
     "end_time": "2022-09-04T13:35:22.474041Z",
     "start_time": "2022-09-04T13:35:22.474026Z"
    },
    "hidden": true
   },
   "outputs": [],
   "source": [
    "# df1['purchase_release_datetime'].min()\n",
    "df1['purchase_release_datetime'].max()"
   ]
  },
  {
   "cell_type": "code",
   "execution_count": null,
   "metadata": {
    "ExecuteTime": {
     "end_time": "2022-09-04T13:35:22.475634Z",
     "start_time": "2022-09-04T13:35:22.475619Z"
    },
    "hidden": true
   },
   "outputs": [],
   "source": [
    "# df1['purchase_release_date'].min()\n",
    "df1['purchase_release_date'].max()"
   ]
  },
  {
   "cell_type": "code",
   "execution_count": null,
   "metadata": {
    "ExecuteTime": {
     "end_time": "2022-09-04T13:35:22.476976Z",
     "start_time": "2022-09-04T13:35:22.476959Z"
    },
    "hidden": true
   },
   "outputs": [],
   "source": [
    "df3"
   ]
  },
  {
   "cell_type": "code",
   "execution_count": null,
   "metadata": {
    "ExecuteTime": {
     "end_time": "2022-09-04T13:35:22.478674Z",
     "start_time": "2022-09-04T13:35:22.478657Z"
    },
    "hidden": true
   },
   "outputs": [],
   "source": [
    "df1.loc[(df1['user_creation_date'] > df1['purchase_release_date']), ['user_buyer_id', 'user_creation_datetime', 'purchase_release_datetime', 'purchase_release_date']]"
   ]
  },
  {
   "cell_type": "markdown",
   "metadata": {
    "heading_collapsed": true,
    "hidden": true,
    "id": "jKoWgSBpCJbt"
   },
   "source": [
    "## Check & Fill out NA"
   ]
  },
  {
   "cell_type": "code",
   "execution_count": null,
   "metadata": {
    "ExecuteTime": {
     "end_time": "2022-09-04T13:35:22.480306Z",
     "start_time": "2022-09-04T13:35:22.480292Z"
    },
    "colab": {
     "base_uri": "https://localhost:8080/",
     "height": 238
    },
    "hidden": true,
    "id": "wLXt60klCJbx",
    "outputId": "ece7e019-30c7-4e82-8deb-f6324fab3210"
   },
   "outputs": [],
   "source": [
    "# sum up all nulls across columns\n",
    "df1.isna().sum()"
   ]
  },
  {
   "cell_type": "code",
   "execution_count": null,
   "metadata": {
    "ExecuteTime": {
     "end_time": "2022-09-04T13:35:22.481848Z",
     "start_time": "2022-09-04T13:35:22.481834Z"
    },
    "hidden": true
   },
   "outputs": [],
   "source": [
    "df1[(df1['is_subs'] == 'single-payment')]['subscription_id'].value_counts(dropna=False)"
   ]
  },
  {
   "cell_type": "code",
   "execution_count": null,
   "metadata": {
    "ExecuteTime": {
     "end_time": "2022-09-04T13:35:22.483473Z",
     "start_time": "2022-09-04T13:35:22.483458Z"
    },
    "hidden": true
   },
   "outputs": [],
   "source": [
    "# impute data\n",
    "df1.loc[df1['device'].isna(), 'device'] = 'NA'\n",
    "df1.loc[df1['product_category'].isna(), 'product_category'] = 'Unknown'\n",
    "df1.loc[(df1['avg_rating'].isna()), 'avg_rating'] = 0\n",
    "df1.loc[(df1['total_answers_rating'].isna()), 'total_answers_rating'] = 0\n",
    "df1.loc[(df1['recurrency_number'].isna()), 'recurrency_number'] = 0\n",
    "df1.loc[(df1['subs_type'].isna()), 'subs_type'] = 0\n",
    "df1.loc[(df1['subs_value'].isna()), 'subs_value'] = 0\n",
    "df1.loc[(df1['subs_due_day'].isna()), 'subs_due_day'] = 0\n",
    "df1.loc[(df1['subs_status'].isna()), 'subs_status'] = 'NA'\n",
    "df1.loc[(df1['subscription_feature_type'].isna()), 'subscription_feature_type'] = 'NA'\n",
    "df1.loc[(df1['coupon_discount_value'].isna()), 'coupon_discount_value'] = 0\n",
    "df1.loc[df1['payment_method_description'].isna(), 'payment_method_description'] = 'Unknown'\n"
   ]
  },
  {
   "cell_type": "code",
   "execution_count": null,
   "metadata": {
    "ExecuteTime": {
     "end_time": "2022-09-04T13:35:22.485067Z",
     "start_time": "2022-09-04T13:35:22.485050Z"
    },
    "hidden": true
   },
   "outputs": [],
   "source": [
    "# sum up all nulls across columns\n",
    "df1.isna().sum()"
   ]
  },
  {
   "cell_type": "markdown",
   "metadata": {
    "heading_collapsed": true,
    "hidden": true,
    "id": "ElXGoQkyCJbZ"
   },
   "source": [
    "## Change Data Types"
   ]
  },
  {
   "cell_type": "code",
   "execution_count": null,
   "metadata": {
    "ExecuteTime": {
     "end_time": "2022-09-04T13:35:22.486980Z",
     "start_time": "2022-09-04T13:35:22.486964Z"
    },
    "colab": {
     "base_uri": "https://localhost:8080/",
     "height": 347
    },
    "hidden": true,
    "id": "1XI_EfQoEKT9",
    "outputId": "ee5dc670-6655-446e-e5c5-c392cd926027"
   },
   "outputs": [],
   "source": [
    "# check data types\n",
    "df1.dtypes"
   ]
  },
  {
   "cell_type": "code",
   "execution_count": null,
   "metadata": {
    "ExecuteTime": {
     "end_time": "2022-09-04T13:35:22.488473Z",
     "start_time": "2022-09-04T13:35:22.488459Z"
    },
    "hidden": true,
    "id": "MfFRtF7HCJbd"
   },
   "outputs": [],
   "source": [
    "# transform variable 'date' to a date type variable\n",
    "df1['user_creation_datetime'] = pd.to_datetime(df1['user_creation_datetime'])\n",
    "df1['prod_signup_datetime'] = pd.to_datetime(df1['prod_signup_datetime'])\n",
    "df1['purchase_release_datetime'] = pd.to_datetime(df1['purchase_release_datetime'])\n",
    "df1['purchase_order_datetime'] = pd.to_datetime(df1['purchase_order_datetime'])\n",
    "df1['subs_start_datetime'] = pd.to_datetime(df1['subs_start_datetime'])\n",
    "df1['subs_cancellation_datetime'] = pd.to_datetime(df1['subs_cancellation_datetime'])\n",
    "df1['subs_last_payment_datetime'] = pd.to_datetime(df1['subs_last_payment_datetime'])\n",
    "df1['subs_last_payment_tentative_date'] = pd.to_datetime(df1['subs_last_payment_tentative_date'])\n",
    "df1['recurrency_number'] = df1['recurrency_number'].astype(int)\n",
    "df1['subs_due_day'] = df1['subs_due_day'].astype(int)\n",
    "df1['subs_value'] = df1['subs_value'].astype(int)\n",
    "df1['subs_type'] = df1['subs_type'].astype(int)"
   ]
  },
  {
   "cell_type": "code",
   "execution_count": null,
   "metadata": {
    "ExecuteTime": {
     "end_time": "2022-09-04T13:35:22.489741Z",
     "start_time": "2022-09-04T13:35:22.489726Z"
    },
    "hidden": true
   },
   "outputs": [],
   "source": [
    "# re-check data types\n",
    "df1.dtypes"
   ]
  },
  {
   "cell_type": "markdown",
   "metadata": {
    "heading_collapsed": true,
    "hidden": true,
    "id": "xTavHLUaCJfl"
   },
   "source": [
    "## Descriptive Statistics"
   ]
  },
  {
   "cell_type": "code",
   "execution_count": null,
   "metadata": {
    "ExecuteTime": {
     "end_time": "2022-09-04T13:35:22.491400Z",
     "start_time": "2022-09-04T13:35:22.491386Z"
    },
    "hidden": true
   },
   "outputs": [],
   "source": [
    "df1['category'].unique()"
   ]
  },
  {
   "cell_type": "markdown",
   "metadata": {
    "hidden": true
   },
   "source": [
    "Descriptive statistics were computed for numerical features and categorical features."
   ]
  },
  {
   "cell_type": "code",
   "execution_count": null,
   "metadata": {
    "ExecuteTime": {
     "end_time": "2022-09-04T13:35:22.492836Z",
     "start_time": "2022-09-04T13:35:22.492820Z"
    },
    "hidden": true,
    "id": "QgRnH0NKCJfq"
   },
   "outputs": [],
   "source": [
    "# separate numerical and categorical features\n",
    "num_feat = df1[['purchase_installment_number', 'total_answers_rating', 'avg_rating', 'gmv_value_brl', 'subs_value', 'subs_due_day', 'subs_type', 'recurrency_number', 'coupon_discount_value', 'progress_club']]\n",
    "# cat_feat = df1.select_dtypes( exclude = ['int64','float64','datetime64[ns]'])\n",
    "cat_feat = df1[['user_type', 'user_country', 'user_office_name', 'purchase_status', 'purchase_payment_type', 'product_category', 'has_rating', 'category', 'is_club', 'is_subs', 'subs_status', 'has_coupon', 'device', 'subscription_feature_type', 'segment', 'segmentation_final_name', 'order_bump_type', 'payment_method_description', 'purchase_sale_type']]"
   ]
  },
  {
   "cell_type": "markdown",
   "metadata": {
    "heading_collapsed": true,
    "hidden": true,
    "id": "VRxZfKSXCJg3"
   },
   "source": [
    "### Numerical Features"
   ]
  },
  {
   "cell_type": "code",
   "execution_count": null,
   "metadata": {
    "ExecuteTime": {
     "end_time": "2022-09-04T13:35:22.494257Z",
     "start_time": "2022-09-04T13:35:22.494242Z"
    },
    "code_folding": [],
    "hidden": true,
    "id": "EdsNRFTrCJg8"
   },
   "outputs": [],
   "source": [
    "# get statistics\n",
    "get_descriptive_statistics(num_feat)"
   ]
  },
  {
   "cell_type": "markdown",
   "metadata": {
    "heading_collapsed": true,
    "hidden": true,
    "id": "SJ0O3G4dCJhl"
   },
   "source": [
    "### Categorical Features"
   ]
  },
  {
   "cell_type": "code",
   "execution_count": null,
   "metadata": {
    "ExecuteTime": {
     "end_time": "2022-09-04T13:35:22.496096Z",
     "start_time": "2022-09-04T13:35:22.496080Z"
    },
    "colab": {
     "base_uri": "https://localhost:8080/",
     "height": 121
    },
    "hidden": true,
    "id": "7lgdD_18CJhn",
    "outputId": "9f390a83-6e79-41d3-fc16-66574ab015d0"
   },
   "outputs": [],
   "source": [
    "# check unique values of each feature\n",
    "cat_feat.apply(lambda x: x.nunique())"
   ]
  },
  {
   "cell_type": "code",
   "execution_count": null,
   "metadata": {
    "ExecuteTime": {
     "end_time": "2022-09-04T13:35:22.498025Z",
     "start_time": "2022-09-04T13:35:22.498007Z"
    },
    "hidden": true
   },
   "outputs": [],
   "source": [
    "plt.figure(figsize = (10,15))\n",
    "aux1 = df1[['user_country', 'purchase_id']].groupby('user_country').count().reset_index().sort_values('purchase_id', ascending=False)[0:20]\n",
    "sns.set_style('ticks')\n",
    "splot = sns.barplot(y = 'user_country', x = 'purchase_id', data = aux1, palette = palette_topics)\n",
    "plt.xlim(0, 9000000)\n",
    "for p in splot.patches:\n",
    "    splot.annotate(\"%.0f\" % p.get_width(), xy=(p.get_width(), p.get_y()+p.get_height()/2),\n",
    "                   xytext=(5,0), textcoords='offset points', ha='left', va='center')\n"
   ]
  },
  {
   "cell_type": "code",
   "execution_count": null,
   "metadata": {
    "ExecuteTime": {
     "end_time": "2022-09-04T13:35:22.499324Z",
     "start_time": "2022-09-04T13:35:22.499309Z"
    },
    "hidden": true
   },
   "outputs": [],
   "source": [
    "plt.figure(figsize = (10,15))\n",
    "aux1 = df1[['user_office_name', 'purchase_id']].groupby('user_office_name').count().reset_index().sort_values('purchase_id', ascending=False)\n",
    "sns.set_style('ticks')\n",
    "splot = sns.barplot(y = 'user_office_name', x = 'purchase_id', data = aux1, palette = palette_topics)\n",
    "plt.xlim(0, 9000000)\n",
    "for p in splot.patches:\n",
    "    splot.annotate(\"%.0f\" % p.get_width(), xy=(p.get_width(), p.get_y()+p.get_height()/2),\n",
    "                   xytext=(5,0), textcoords='offset points', ha='left', va='center')\n"
   ]
  },
  {
   "cell_type": "code",
   "execution_count": null,
   "metadata": {
    "ExecuteTime": {
     "end_time": "2022-09-04T13:35:22.500706Z",
     "start_time": "2022-09-04T13:35:22.500690Z"
    },
    "hidden": true
   },
   "outputs": [],
   "source": [
    "plt.figure(figsize = (10,15))\n",
    "aux1 = df1[['category', 'purchase_id']].groupby('category').count().reset_index().sort_values('purchase_id', ascending=False)[0:20]\n",
    "sns.set_style('ticks')\n",
    "splot = sns.barplot(y = 'category', x = 'purchase_id', data = aux1, palette = palette_topics)\n",
    "plt.xlim(0, 9000000)\n",
    "for p in splot.patches:\n",
    "    splot.annotate(\"%.0f\" % p.get_width(), xy=(p.get_width(), p.get_y()+p.get_height()/2),\n",
    "                   xytext=(5,0), textcoords='offset points', ha='left', va='center')"
   ]
  },
  {
   "cell_type": "code",
   "execution_count": null,
   "metadata": {
    "ExecuteTime": {
     "end_time": "2022-09-04T13:35:22.502405Z",
     "start_time": "2022-09-04T13:35:22.502389Z"
    },
    "hidden": true
   },
   "outputs": [],
   "source": [
    "plt.figure(figsize = (10,15))\n",
    "aux1 = df1[['product_category', 'purchase_id']].groupby('product_category').count().reset_index().sort_values('purchase_id', ascending=False)[0:20]\n",
    "sns.set_style('ticks')\n",
    "splot = sns.barplot(y = 'product_category', x = 'purchase_id', data = aux1, palette = palette_topics)\n",
    "plt.xlim(0, 9000000)\n",
    "for p in splot.patches:\n",
    "    splot.annotate(\"%.0f\" % p.get_width(), xy=(p.get_width(), p.get_y()+p.get_height()/2),\n",
    "                   xytext=(5,0), textcoords='offset points', ha='left', va='center')"
   ]
  },
  {
   "cell_type": "code",
   "execution_count": null,
   "metadata": {
    "ExecuteTime": {
     "end_time": "2022-09-04T13:35:22.503837Z",
     "start_time": "2022-09-04T13:35:22.503822Z"
    },
    "hidden": true
   },
   "outputs": [],
   "source": [
    "plt.figure(figsize = (10,15))\n",
    "aux1 = df1[['purchase_payment_type', 'purchase_id']].groupby('purchase_payment_type').count().reset_index().sort_values('purchase_id', ascending=False)[0:20]\n",
    "sns.set_style('ticks')\n",
    "splot = sns.barplot(y = 'purchase_payment_type', x = 'purchase_id', data = aux1, palette = palette_topics)\n",
    "plt.xlim(0, 9000000)\n",
    "for p in splot.patches:\n",
    "    splot.annotate(\"%.0f\" % p.get_width(), xy=(p.get_width(), p.get_y()+p.get_height()/2),\n",
    "                   xytext=(5,0), textcoords='offset points', ha='left', va='center')"
   ]
  },
  {
   "cell_type": "code",
   "execution_count": null,
   "metadata": {
    "ExecuteTime": {
     "end_time": "2022-09-04T13:35:22.505284Z",
     "start_time": "2022-09-04T13:35:22.505268Z"
    },
    "hidden": true
   },
   "outputs": [],
   "source": [
    "plt.figure(figsize = (10,15))\n",
    "aux1 = df1[['purchase_status', 'purchase_id']].groupby('purchase_status').count().reset_index().sort_values('purchase_id', ascending=False)[0:20]\n",
    "sns.set_style('ticks')\n",
    "splot = sns.barplot(y = 'purchase_status', x = 'purchase_id', data = aux1, palette = palette_topics)\n",
    "plt.xlim(0, 12000000)\n",
    "for p in splot.patches:\n",
    "    splot.annotate(\"%.0f\" % p.get_width(), xy=(p.get_width(), p.get_y()+p.get_height()/2),\n",
    "                   xytext=(5,0), textcoords='offset points', ha='left', va='center')"
   ]
  },
  {
   "cell_type": "code",
   "execution_count": null,
   "metadata": {
    "ExecuteTime": {
     "end_time": "2022-09-04T13:35:22.507045Z",
     "start_time": "2022-09-04T13:35:22.507027Z"
    },
    "hidden": true
   },
   "outputs": [],
   "source": [
    "plt.figure(figsize = (10,15))\n",
    "aux1 = df1[['subs_status', 'purchase_id']].groupby('subs_status').count().reset_index().sort_values('purchase_id', ascending=False)[0:20]\n",
    "sns.set_style('ticks')\n",
    "splot = sns.barplot(y = 'subs_status', x = 'purchase_id', data = aux1, palette = palette_topics)\n",
    "plt.xlim(0, 12000000)\n",
    "for p in splot.patches:\n",
    "    splot.annotate(\"%.0f\" % p.get_width(), xy=(p.get_width(), p.get_y()+p.get_height()/2),\n",
    "                   xytext=(5,0), textcoords='offset points', ha='left', va='center')"
   ]
  },
  {
   "cell_type": "code",
   "execution_count": null,
   "metadata": {
    "ExecuteTime": {
     "end_time": "2022-09-04T13:35:22.508633Z",
     "start_time": "2022-09-04T13:35:22.508619Z"
    },
    "hidden": true
   },
   "outputs": [],
   "source": [
    "plt.figure(figsize = (10,15))\n",
    "aux1 = df1[['payment_method_description', 'purchase_id']].groupby('payment_method_description').count().reset_index().sort_values('purchase_id', ascending=False)\n",
    "sns.set_style('ticks')\n",
    "splot = sns.barplot(y = 'payment_method_description', x = 'purchase_id', data = aux1, palette = palette_topics)\n",
    "plt.xlim(0, 12000000)\n",
    "for p in splot.patches:\n",
    "    splot.annotate(\"%.0f\" % p.get_width(), xy=(p.get_width(), p.get_y()+p.get_height()/2),\n",
    "                   xytext=(5,0), textcoords='offset points', ha='left', va='center')"
   ]
  },
  {
   "cell_type": "code",
   "execution_count": null,
   "metadata": {
    "ExecuteTime": {
     "end_time": "2022-09-04T13:35:22.510489Z",
     "start_time": "2022-09-04T13:35:22.510471Z"
    },
    "hidden": true
   },
   "outputs": [],
   "source": [
    "plt.figure(figsize = (10,15))\n",
    "aux1 = df1[['purchase_sale_type', 'purchase_id']].groupby('purchase_sale_type').count().reset_index().sort_values('purchase_id', ascending=False)\n",
    "sns.set_style('ticks')\n",
    "splot = sns.barplot(y = 'purchase_sale_type', x = 'purchase_id', data = aux1, palette = palette_topics)\n",
    "plt.xlim(0, 12000000)\n",
    "for p in splot.patches:\n",
    "    splot.annotate(\"%.0f\" % p.get_width(), xy=(p.get_width(), p.get_y()+p.get_height()/2),\n",
    "                   xytext=(5,0), textcoords='offset points', ha='left', va='center')"
   ]
  },
  {
   "cell_type": "code",
   "execution_count": null,
   "metadata": {
    "ExecuteTime": {
     "end_time": "2022-09-04T13:35:22.512346Z",
     "start_time": "2022-09-04T13:35:22.512330Z"
    },
    "hidden": true
   },
   "outputs": [],
   "source": [
    "plt.figure(figsize = (10,15))\n",
    "aux1 = df1[['order_bump_type', 'purchase_id']].groupby('order_bump_type').count().reset_index().sort_values('purchase_id', ascending=False)\n",
    "sns.set_style('ticks')\n",
    "splot = sns.barplot(y = 'order_bump_type', x = 'purchase_id', data = aux1, palette = palette_topics)\n",
    "plt.xlim(0, 12000000)\n",
    "for p in splot.patches:\n",
    "    splot.annotate(\"%.0f\" % p.get_width(), xy=(p.get_width(), p.get_y()+p.get_height()/2),\n",
    "                   xytext=(5,0), textcoords='offset points', ha='left', va='center')"
   ]
  },
  {
   "cell_type": "code",
   "execution_count": null,
   "metadata": {
    "ExecuteTime": {
     "end_time": "2022-09-04T13:35:22.514032Z",
     "start_time": "2022-09-04T13:35:22.514017Z"
    },
    "colab": {
     "base_uri": "https://localhost:8080/",
     "height": 720
    },
    "hidden": true,
    "id": "8knRRWqLCJiL",
    "outputId": "e18f5b1c-f965-4b0e-9779-d6dad95dd3e2",
    "scrolled": false
   },
   "outputs": [],
   "source": [
    "# plotting boxplots (categorical variables against target variable)\n",
    "plt.figure(figsize = (20,30))\n",
    "for d, n in enumerate(['user_type',  'has_rating', 'is_club', 'is_subs', 'has_coupon', 'device', 'subscription_feature_type', 'segment', 'segmentation_final_name']):\n",
    "    plt.subplot(5,2,d+1)\n",
    "    aux1 = df1[[n, 'purchase_id']].groupby(n).count().reset_index().sort_values('purchase_id', ascending=False)\n",
    "    splot = sns.barplot(y = n, x = 'purchase_id', data = aux1, palette = palette_topics)\n",
    "    for p in splot.patches:\n",
    "        splot.annotate(\"%.0f\" % p.get_width(), xy=(p.get_width(), p.get_y()+p.get_height()/2),\n",
    "                       xytext=(5,0), textcoords='offset points', ha='left', va='center')\n",
    "    plt.subplots_adjust(hspace=0.8)\n",
    "    plt.subplots_adjust(wspace=0.8)\n",
    "    plt.xlim(0, 10000000)"
   ]
  },
  {
   "cell_type": "markdown",
   "metadata": {
    "hidden": true,
    "id": "SJ0O3G4dCJhl"
   },
   "source": [
    "## Outlier Analysis/Remove Inconsistencies"
   ]
  },
  {
   "cell_type": "code",
   "execution_count": null,
   "metadata": {
    "ExecuteTime": {
     "end_time": "2022-09-04T13:35:22.515460Z",
     "start_time": "2022-09-04T13:35:22.515444Z"
    },
    "hidden": true
   },
   "outputs": [],
   "source": [
    "# df1.to_pickle('data/df1.pkl')\n",
    "# # read pickle file as dataframe\n",
    "df1 = pd.read_pickle('data/df1.pkl')"
   ]
  },
  {
   "cell_type": "code",
   "execution_count": null,
   "metadata": {
    "ExecuteTime": {
     "end_time": "2022-09-04T13:35:22.516965Z",
     "start_time": "2022-09-04T13:35:22.516951Z"
    },
    "hidden": true
   },
   "outputs": [],
   "source": [
    "df1['user_buyer_id'].nunique()"
   ]
  },
  {
   "cell_type": "code",
   "execution_count": null,
   "metadata": {
    "ExecuteTime": {
     "end_time": "2022-09-04T13:35:22.518710Z",
     "start_time": "2022-09-04T13:35:22.518691Z"
    },
    "hidden": true
   },
   "outputs": [],
   "source": [
    "print(f\"Transactions: {len(df1):,}\")\n",
    "count_df = len(df1)"
   ]
  },
  {
   "cell_type": "markdown",
   "metadata": {
    "heading_collapsed": true,
    "hidden": true
   },
   "source": [
    "### Remove first purchase of every recurrency product (excl. recurrency cases with more than one transaction)"
   ]
  },
  {
   "cell_type": "code",
   "execution_count": null,
   "metadata": {
    "ExecuteTime": {
     "end_time": "2022-09-04T13:35:22.520151Z",
     "start_time": "2022-09-04T13:35:22.520136Z"
    },
    "hidden": true
   },
   "outputs": [],
   "source": [
    "### recurrency case\n",
    "aux1 = df1[(df1['remove_first_entry'] == 1) & (df1['is_subs'] == 'subscription')][['user_buyer_id', 'subscription_id']].drop_duplicates()\n",
    "aux2 = df1.merge(aux1, how = 'inner', on = ['user_buyer_id', 'subscription_id'])\n",
    "aux2 = aux2[['user_buyer_id', 'subscription_id', 'purchase_id']].groupby(['user_buyer_id', 'subscription_id']).count().reset_index()\n",
    "aux2 = aux2[aux2['purchase_id'] == 1][['user_buyer_id', 'subscription_id']]\n",
    "aux2['remove'] = 1\n",
    "df1 = df1.merge(aux2, how = 'left',  on = ['user_buyer_id', 'subscription_id'])\n",
    "df1['remove_entry'] = 0\n",
    "df1.loc[df1['remove_first_entry'] == df1['remove'], 'remove_entry'] = 1"
   ]
  },
  {
   "cell_type": "code",
   "execution_count": null,
   "metadata": {
    "ExecuteTime": {
     "end_time": "2022-09-04T13:35:22.521703Z",
     "start_time": "2022-09-04T13:35:22.521689Z"
    },
    "hidden": true
   },
   "outputs": [],
   "source": [
    "df1[(df1['remove_first_entry'] == 1) & (df1['is_subs'] == 'subscription')][['remove_first_entry']].value_counts(dropna=False)"
   ]
  },
  {
   "cell_type": "code",
   "execution_count": null,
   "metadata": {
    "ExecuteTime": {
     "end_time": "2022-09-04T13:35:22.523330Z",
     "start_time": "2022-09-04T13:35:22.523315Z"
    },
    "hidden": true
   },
   "outputs": [],
   "source": [
    "df1['remove'].value_counts(dropna=False)"
   ]
  },
  {
   "cell_type": "code",
   "execution_count": null,
   "metadata": {
    "ExecuteTime": {
     "end_time": "2022-09-04T13:35:22.524700Z",
     "start_time": "2022-09-04T13:35:22.524685Z"
    },
    "hidden": true
   },
   "outputs": [],
   "source": [
    "df1['remove_entry'].value_counts(dropna=False)"
   ]
  },
  {
   "cell_type": "code",
   "execution_count": null,
   "metadata": {
    "ExecuteTime": {
     "end_time": "2022-09-04T13:35:22.526352Z",
     "start_time": "2022-09-04T13:35:22.526333Z"
    },
    "hidden": true
   },
   "outputs": [],
   "source": [
    "# remove users with zero gmv and not recurrency\n",
    "orig_shape = len(df1)\n",
    "df1 = df1[df1['remove_entry'] != 1].drop(['remove', 'remove_entry'], axis = 1)\n",
    "# check dataset shape and column names\n",
    "print(f'Outliers removed: {(orig_shape-len(df1)):,} ({((orig_shape-len(df1)) / orig_shape * 100):.2f}%) ')\n",
    "print(f'The dataset has {df1.shape[0]:,} rows and {df1.shape[1]} columns.')"
   ]
  },
  {
   "cell_type": "markdown",
   "metadata": {
    "heading_collapsed": true,
    "hidden": true
   },
   "source": [
    "### Remove first purchase of every product in which smart_installments were used (excl. smart_installments cases with more than one transaction)"
   ]
  },
  {
   "cell_type": "code",
   "execution_count": null,
   "metadata": {
    "ExecuteTime": {
     "end_time": "2022-09-04T13:35:22.527941Z",
     "start_time": "2022-09-04T13:35:22.527926Z"
    },
    "hidden": true
   },
   "outputs": [],
   "source": [
    "### recurrency case\n",
    "aux1 = df1[(df1['remove_first_entry'] == 1) & (df1['subscription_feature_type'] == 'SMART_INSTALLMENT')][['user_buyer_id', 'subscription_id']].drop_duplicates()\n",
    "aux2 = df1.merge(aux1, how = 'inner', on = ['user_buyer_id', 'subscription_id'])\n",
    "aux2 = aux2[['user_buyer_id', 'subscription_id', 'purchase_id']].groupby(['user_buyer_id', 'subscription_id']).count().reset_index()\n",
    "aux2 = aux2[aux2['purchase_id'] == 1][['user_buyer_id', 'subscription_id']]\n",
    "aux2['remove'] = 1\n",
    "df1 = df1.merge(aux2, how = 'left',  on = ['user_buyer_id', 'subscription_id'])\n",
    "df1['remove_entry'] = 0\n",
    "df1.loc[df1['remove_first_entry'] == df1['remove'], 'remove_entry'] = 1"
   ]
  },
  {
   "cell_type": "code",
   "execution_count": null,
   "metadata": {
    "ExecuteTime": {
     "end_time": "2022-09-04T13:35:22.529551Z",
     "start_time": "2022-09-04T13:35:22.529536Z"
    },
    "hidden": true
   },
   "outputs": [],
   "source": [
    "df1[(df1['remove_first_entry'] == 1) & (df1['subscription_feature_type'] == 'SMART_INSTALLMENT')][['remove_first_entry']].value_counts(dropna=False)"
   ]
  },
  {
   "cell_type": "code",
   "execution_count": null,
   "metadata": {
    "ExecuteTime": {
     "end_time": "2022-09-04T13:35:22.530999Z",
     "start_time": "2022-09-04T13:35:22.530984Z"
    },
    "hidden": true
   },
   "outputs": [],
   "source": [
    "df1['remove'].value_counts(dropna=False)"
   ]
  },
  {
   "cell_type": "code",
   "execution_count": null,
   "metadata": {
    "ExecuteTime": {
     "end_time": "2022-09-04T13:35:22.532468Z",
     "start_time": "2022-09-04T13:35:22.532454Z"
    },
    "hidden": true
   },
   "outputs": [],
   "source": [
    "df1['remove_entry'].value_counts(dropna=False)"
   ]
  },
  {
   "cell_type": "code",
   "execution_count": null,
   "metadata": {
    "ExecuteTime": {
     "end_time": "2022-09-04T13:35:22.534137Z",
     "start_time": "2022-09-04T13:35:22.534119Z"
    },
    "hidden": true
   },
   "outputs": [],
   "source": [
    "# remove users with zero gmv and not recurrency\n",
    "orig_shape = len(df1)\n",
    "df1 = df1[df1['remove_entry'] != 1].drop(['remove', 'remove_entry'], axis = 1)\n",
    "# check dataset shape and column names\n",
    "print(f'Outliers removed: {(orig_shape-len(df1)):,} ({((orig_shape-len(df1)) / orig_shape * 100):.2f}%) ')\n",
    "print(f'The dataset has {df1.shape[0]:,} rows and {df1.shape[1]} columns.')"
   ]
  },
  {
   "cell_type": "markdown",
   "metadata": {
    "heading_collapsed": true,
    "hidden": true
   },
   "source": [
    "### Remove first purchase of every product (all single-cases)"
   ]
  },
  {
   "cell_type": "code",
   "execution_count": null,
   "metadata": {
    "ExecuteTime": {
     "end_time": "2022-09-04T13:35:22.535488Z",
     "start_time": "2022-09-04T13:35:22.535471Z"
    },
    "hidden": true
   },
   "outputs": [],
   "source": [
    "### recurrency case\n",
    "orig_shape = len(df1)\n",
    "df1 = df1[~((df1['remove_first_entry'] == 1) & (df1['is_subs'] == 'single-payment') & (df1['subscription_feature_type'] != 'SMART_INSTALLMENT'))].drop('remove_first_entry', axis = 1)\n",
    "# check dataset shape and column names\n",
    "print(f'Outliers removed: {(orig_shape-len(df1)):,} ({((orig_shape-len(df1)) / orig_shape * 100):.2f}%) ')\n",
    "print(f'The dataset has {df1.shape[0]:,} rows and {df1.shape[1]} columns.')"
   ]
  },
  {
   "cell_type": "markdown",
   "metadata": {
    "heading_collapsed": true,
    "hidden": true
   },
   "source": [
    "### products with zero rating (keep - inconclusive)"
   ]
  },
  {
   "cell_type": "code",
   "execution_count": null,
   "metadata": {
    "ExecuteTime": {
     "end_time": "2022-09-04T13:35:22.536896Z",
     "start_time": "2022-09-04T13:35:22.536881Z"
    },
    "hidden": true
   },
   "outputs": [],
   "source": [
    "# df1[['product_id', 'total_answers_rating']].drop_duplicates(keep='first').sort_values('total_answers_rating', ascending=False).head(20)"
   ]
  },
  {
   "cell_type": "markdown",
   "metadata": {
    "heading_collapsed": true,
    "hidden": true
   },
   "source": [
    "### purchases with zero gmv (excl. recurrencies)"
   ]
  },
  {
   "cell_type": "code",
   "execution_count": null,
   "metadata": {
    "ExecuteTime": {
     "end_time": "2022-09-04T13:35:22.538550Z",
     "start_time": "2022-09-04T13:35:22.538535Z"
    },
    "hidden": true
   },
   "outputs": [],
   "source": [
    " \n",
    "df1[df1['gmv_value_brl'] == 0].value_counts('recurrency_number',dropna=False)"
   ]
  },
  {
   "cell_type": "code",
   "execution_count": null,
   "metadata": {
    "ExecuteTime": {
     "end_time": "2022-09-04T13:35:22.539994Z",
     "start_time": "2022-09-04T13:35:22.539979Z"
    },
    "hidden": true
   },
   "outputs": [],
   "source": [
    "df1[df1['gmv_value_brl'] == 0].value_counts('subscription_feature_type',dropna=False)"
   ]
  },
  {
   "cell_type": "code",
   "execution_count": null,
   "metadata": {
    "ExecuteTime": {
     "end_time": "2022-09-04T13:35:22.541516Z",
     "start_time": "2022-09-04T13:35:22.541501Z"
    },
    "hidden": true
   },
   "outputs": [],
   "source": [
    "len(df1[~((df1['gmv_value_brl'] == 0) & (df1['is_subs'] == 'single-payment'))])"
   ]
  },
  {
   "cell_type": "code",
   "execution_count": null,
   "metadata": {
    "ExecuteTime": {
     "end_time": "2022-09-04T13:35:22.543483Z",
     "start_time": "2022-09-04T13:35:22.543467Z"
    },
    "hidden": true,
    "scrolled": true
   },
   "outputs": [],
   "source": [
    "# remove users with zero gmv and not recurrency\n",
    "orig_shape = len(df1)\n",
    "df1 = df1[~((df1['gmv_value_brl'] == 0) & (df1['is_subs'] == 'single-payment'))]\n",
    "# check dataset shape and column names\n",
    "print(f'Outliers removed: {(orig_shape-len(df1)):,} ({((orig_shape-len(df1)) / orig_shape * 100):.2f}%) ')\n",
    "print(f'The dataset has {df1.shape[0]:,} rows and {df1.shape[1]} columns.')"
   ]
  },
  {
   "cell_type": "markdown",
   "metadata": {
    "heading_collapsed": true,
    "hidden": true
   },
   "source": [
    "### Remove recurrency transactions (keep only first entry, retrieve total number of recurrencies from last entry). If trial, get last gmv_value_brl entry"
   ]
  },
  {
   "cell_type": "code",
   "execution_count": null,
   "metadata": {
    "ExecuteTime": {
     "end_time": "2022-09-04T13:35:22.545050Z",
     "start_time": "2022-09-04T13:35:22.545035Z"
    },
    "hidden": true
   },
   "outputs": [],
   "source": [
    "orig_shape = len(df1)\n",
    "# get df\n",
    "aux0 = df1[df1['is_subs'] == 'subscription']\n",
    "# get inverse order purchase\n",
    "aux0['order_purchase_inv'] = aux0.groupby([\"user_buyer_id\", \"subscription_id\"])[\"purchase_order_datetime\"].rank(method=\"first\", ascending=False)\n",
    "aux1 = aux0[aux0['recurrency_number'] == 1][['purchase_id', 'user_buyer_id', 'subscription_id']] # get first entry\n",
    "aux1['remove'] = 0\n",
    "aux2 = aux0[aux0['order_purchase_inv'] == 1][['subscription_id', 'user_buyer_id', 'recurrency_number', 'gmv_value_brl']] # get last entry\n",
    "aux3 = aux2.merge(aux1, how = 'left', on = ['user_buyer_id', 'subscription_id'])\n",
    "aux3.columns = ['subscription_id', 'user_buyer_id', 'total_recurrencies',\n",
    "       'last_gmv_value_brl', 'purchase_id', 'remove']\n",
    "aux3.loc[aux3['remove'].isna(), 'remove'] = 1\n",
    "df1 = df1.merge(aux3[['total_recurrencies', 'last_gmv_value_brl', 'purchase_id', 'remove']].drop_duplicates(), how = 'left', on = ['purchase_id'])\n",
    "aux3['removal'] = 1\n",
    "df1 = df1.merge(aux3[['user_buyer_id', 'subscription_id', 'removal']].drop_duplicates(), how = 'left', on = ['user_buyer_id', 'subscription_id'])\n",
    "df1 = df1[~((df1['is_subs'] == 'subscription') & (df1['removal'] == 1) & (df1['remove'] != 0))]\n",
    "df1.loc[(df1['is_subs'] == 'subscription') & (df1['subscription_feature_type'] == 'TRIAL') & (df1['gmv_value_brl'] == 0), 'gmv_value_brl'] = df1['last_gmv_value_brl']\n",
    "df1 = df1.drop(['remove', 'removal', 'last_gmv_value_brl'], axis =1)\n",
    "# check dataset shape and column names\n",
    "print(f'Outliers removed: {(orig_shape-len(df1)):,} ({((orig_shape-len(df1)) / orig_shape * 100):.2f}%) ')\n",
    "print(f'The dataset has {df1.shape[0]:,} rows and {df1.shape[1]} columns.')"
   ]
  },
  {
   "cell_type": "code",
   "execution_count": null,
   "metadata": {
    "ExecuteTime": {
     "end_time": "2022-09-04T13:35:22.546441Z",
     "start_time": "2022-09-04T13:35:22.546426Z"
    },
    "hidden": true
   },
   "outputs": [],
   "source": [
    "# aux3[(aux3['user_buyer_id'] == 41296009 )]#[['purchase_id', 'user_buyer_id', 'product_id', 'is_subs', 'subs_type', 'purchase_order_datetime', 'order_purchase_inv', 'recurrency_number', 'subs_last_payment_datetime']]\n",
    "# aux0[(aux0['user_buyer_id'] == 41296009 )][['purchase_id', 'user_buyer_id', 'product_id', 'is_subs', 'subs_type', 'purchase_order_datetime', 'order_purchase_inv', 'recurrency_number', 'subs_last_payment_datetime']]\n",
    "# aux0[(aux0['user_buyer_id'] == 41366514 )][['purchase_id', 'user_buyer_id', 'product_id', 'is_subs', 'subs_type', 'purchase_order_datetime', 'order_purchase_inv', 'recurrency_number', 'subs_last_payment_datetime']]"
   ]
  },
  {
   "cell_type": "code",
   "execution_count": null,
   "metadata": {
    "ExecuteTime": {
     "end_time": "2022-09-04T13:35:22.547915Z",
     "start_time": "2022-09-04T13:35:22.547901Z"
    },
    "hidden": true
   },
   "outputs": [],
   "source": [
    "df1[df1['is_subs'] == 'subscription']['recurrency_number'].value_counts(dropna=False)"
   ]
  },
  {
   "cell_type": "markdown",
   "metadata": {
    "heading_collapsed": true,
    "hidden": true
   },
   "source": [
    "### Remove smart_installments transactions (keep only first entry)"
   ]
  },
  {
   "cell_type": "code",
   "execution_count": null,
   "metadata": {
    "hidden": true
   },
   "outputs": [],
   "source": []
  },
  {
   "cell_type": "code",
   "execution_count": null,
   "metadata": {
    "ExecuteTime": {
     "end_time": "2022-09-04T13:35:22.549305Z",
     "start_time": "2022-09-04T13:35:22.549290Z"
    },
    "hidden": true
   },
   "outputs": [],
   "source": [
    "orig_shape = len(df1)\n",
    "# get df\n",
    "aux0 = df1[df1['subscription_feature_type'] == 'SMART_INSTALLMENT']\n",
    "# get order purchase\n",
    "aux0['order_purchase'] = aux0.groupby([\"user_buyer_id\", \"product_id\"])[\"purchase_order_datetime\"].rank(method=\"first\", ascending=True)\n",
    "# get count of purchases per user and product\n",
    "aux1 = aux0[['user_buyer_id', 'product_id', 'purchase_id']].groupby(['user_buyer_id', 'product_id']).count().reset_index()\n",
    "aux1.columns = ['user_buyer_id', 'product_id', 'count_purchase']\n",
    "aux0 = aux0.merge(aux1, how = 'left', on = ['user_buyer_id', 'product_id'])\n",
    "# getr users who has purchase status complete\n",
    "aux1 = aux0[aux0['purchase_status'] == 'COMPLETO'][['user_buyer_id', 'product_id']].drop_duplicates()\n",
    "aux1['has_complete'] = 1\n",
    "aux0 = aux0.merge(aux1, how = 'left', on = ['user_buyer_id', 'product_id'])\n",
    "# if 1st purchase is not COMPLETO, invalid\n",
    "aux0.loc[(aux0['count_purchase'] > 1) & (aux0['order_purchase'] == 1) & (aux0['purchase_status'] != 'COMPLETO') & (aux0['has_complete'] == 1), 'order_purchase'] = 10"
   ]
  },
  {
   "cell_type": "code",
   "execution_count": null,
   "metadata": {
    "ExecuteTime": {
     "end_time": "2022-09-04T13:35:22.551405Z",
     "start_time": "2022-09-04T13:35:22.551388Z"
    },
    "hidden": true
   },
   "outputs": [],
   "source": [
    "aux0.order_purchase.value_counts()"
   ]
  },
  {
   "cell_type": "code",
   "execution_count": null,
   "metadata": {
    "ExecuteTime": {
     "end_time": "2022-09-04T13:35:22.552811Z",
     "start_time": "2022-09-04T13:35:22.552797Z"
    },
    "hidden": true
   },
   "outputs": [],
   "source": [
    "aux0 = aux0[(aux0['order_purchase'] != 1)][['purchase_id']]\n",
    "aux0['remove_smart'] = 1\n",
    "df1 = df1.merge(aux0, how = 'left', on = 'purchase_id')\n",
    "df1 = df1[df1['remove_smart'] != 1]\n",
    "df1 = df1.drop('remove_smart', axis = 1 )\n",
    "# check dataset shape and column names\n",
    "print(f'Outliers removed: {(orig_shape-len(df1)):,} ({((orig_shape-len(df1)) / orig_shape * 100):.2f}%) ')\n",
    "print(f'The dataset has {df1.shape[0]:,} rows and {df1.shape[1]} columns.')"
   ]
  },
  {
   "cell_type": "markdown",
   "metadata": {
    "heading_collapsed": true,
    "hidden": true
   },
   "source": [
    "### Order Bump - Remove order_bump_child (if recurrency, remove all)"
   ]
  },
  {
   "cell_type": "code",
   "execution_count": null,
   "metadata": {
    "ExecuteTime": {
     "end_time": "2022-09-04T13:35:22.554514Z",
     "start_time": "2022-09-04T13:35:22.554499Z"
    },
    "hidden": true
   },
   "outputs": [],
   "source": [
    "df1[df1['user_buyer_id'] == 41366514][['subscription_id', 'user_buyer_id', 'product_id', 'purchase_order_datetime', 'subscription_feature_type']].sort_values('purchase_order_datetime')"
   ]
  },
  {
   "cell_type": "code",
   "execution_count": null,
   "metadata": {
    "ExecuteTime": {
     "end_time": "2022-09-04T13:35:22.555746Z",
     "start_time": "2022-09-04T13:35:22.555731Z"
    },
    "hidden": true
   },
   "outputs": [],
   "source": [
    "df1[['order_bump_type']].value_counts(dropna=False, normalize=False) "
   ]
  },
  {
   "cell_type": "code",
   "execution_count": null,
   "metadata": {
    "ExecuteTime": {
     "end_time": "2022-09-04T13:35:22.557288Z",
     "start_time": "2022-09-04T13:35:22.557273Z"
    },
    "hidden": true
   },
   "outputs": [],
   "source": [
    "df1[df1['order_bump_type'] == 'ORDER_BUMP_CHILD'][['is_subs']].value_counts(dropna=False)"
   ]
  },
  {
   "cell_type": "code",
   "execution_count": null,
   "metadata": {
    "ExecuteTime": {
     "end_time": "2022-09-04T13:35:22.558623Z",
     "start_time": "2022-09-04T13:35:22.558607Z"
    },
    "hidden": true
   },
   "outputs": [],
   "source": [
    "df1[df1['order_bump_type'] == 'ORDER_BUMP_CHILD'][['subscription_feature_type']].value_counts(dropna=False)"
   ]
  },
  {
   "cell_type": "code",
   "execution_count": null,
   "metadata": {
    "ExecuteTime": {
     "end_time": "2022-09-04T13:35:22.560218Z",
     "start_time": "2022-09-04T13:35:22.560203Z"
    },
    "hidden": true
   },
   "outputs": [],
   "source": [
    "df1[df1['order_bump_type'] == 'ORDER_BUMP_CHILD'][['product_category']].value_counts(dropna=False)"
   ]
  },
  {
   "cell_type": "code",
   "execution_count": null,
   "metadata": {
    "ExecuteTime": {
     "end_time": "2022-09-04T13:35:22.561622Z",
     "start_time": "2022-09-04T13:35:22.561607Z"
    },
    "hidden": true
   },
   "outputs": [],
   "source": [
    "### remove all order_bump_child from single-payments (excl smart installments)\n",
    "orig_shape = len(df1)\n",
    "aux0 = df1[(df1['order_bump_type'] == 'ORDER_BUMP_CHILD') & (df1['subscription_feature_type'] != 'SMART_INSTALLMENT') & (df1['is_subs'] != 'subscription')]\n",
    "print(f\"Number purchases {len(aux0):,} ({(len(aux0) / len(df1) * 100):,.2f}%)\")\n",
    "df1 = df1[~((df1['order_bump_type'] == 'ORDER_BUMP_CHILD') & (df1['subscription_feature_type'] != 'SMART_INSTALLMENT') & (df1['is_subs'] != 'subscription'))]\n",
    "# check dataset shape and column names\n",
    "print(f'Outliers removed: {(orig_shape-len(df1)):,} ({((orig_shape-len(df1)) / orig_shape * 100):.2f}%) ')\n",
    "print(f'The dataset has {df1.shape[0]:,} rows and {df1.shape[1]} columns.')"
   ]
  },
  {
   "cell_type": "code",
   "execution_count": null,
   "metadata": {
    "ExecuteTime": {
     "end_time": "2022-09-04T13:35:22.563361Z",
     "start_time": "2022-09-04T13:35:22.563344Z"
    },
    "hidden": true
   },
   "outputs": [],
   "source": [
    "### remove all order_bump_child from single-payments - smart installments only\n",
    "orig_shape = len(df1)\n",
    "aux0 = df1[(df1['order_bump_type'] == 'ORDER_BUMP_CHILD') & (df1['subscription_feature_type'] == 'SMART_INSTALLMENT') & (df1['is_subs'] != 'subscription')]\n",
    "print(f\"Number purchases {len(aux0):,} ({(len(aux0) / len(df1) * 100):,.2f}%)\")\n",
    "df1 = df1[~((df1['order_bump_type'] == 'ORDER_BUMP_CHILD') & (df1['subscription_feature_type'] == 'SMART_INSTALLMENT') & (df1['is_subs'] != 'subscription'))]\n",
    "# check dataset shape and column names\n",
    "print(f'Outliers removed: {(orig_shape-len(df1)):,} ')\n",
    "print(f'The dataset has {df1.shape[0]:,} rows and {df1.shape[1]} columns.')"
   ]
  },
  {
   "cell_type": "code",
   "execution_count": null,
   "metadata": {
    "ExecuteTime": {
     "end_time": "2022-09-04T13:35:22.564803Z",
     "start_time": "2022-09-04T13:35:22.564788Z"
    },
    "hidden": true
   },
   "outputs": [],
   "source": [
    "df1[df1['order_bump_type'] == 'ORDER_BUMP_CHILD'][['is_subs']].value_counts(dropna=False)"
   ]
  },
  {
   "cell_type": "code",
   "execution_count": null,
   "metadata": {
    "ExecuteTime": {
     "end_time": "2022-09-04T13:35:22.566438Z",
     "start_time": "2022-09-04T13:35:22.566423Z"
    },
    "hidden": true
   },
   "outputs": [],
   "source": [
    "# df1[df1['user_buyer_id'] == 47401972][[ 'purchase_id','product_id','order_bump_type', 'purchase_parent_id', 'is_subs', 'subs_type', 'subs_status', 'purchase_order_datetime', 'subs_start_datetime','subs_cancellation_datetime', 'recurrency_number', 'subscription_id', 'recurrency_id']].sort_values('purchase_order_datetime')"
   ]
  },
  {
   "cell_type": "code",
   "execution_count": null,
   "metadata": {
    "ExecuteTime": {
     "end_time": "2022-09-04T13:35:22.568069Z",
     "start_time": "2022-09-04T13:35:22.568054Z"
    },
    "hidden": true
   },
   "outputs": [],
   "source": [
    "### remove all order_bump_child from single-payments - smart installments only\n",
    "orig_shape = len(df1)\n",
    "aux0 = df1[(df1['order_bump_type'] == 'ORDER_BUMP_CHILD') & (df1['is_subs'] == 'subscription')]\n",
    "print(f\"Number purchases {len(aux0):,} ({(len(aux0) / len(df1) * 100):,.2f}%)\")\n",
    "df1 = df1[~((df1['order_bump_type'] == 'ORDER_BUMP_CHILD') & (df1['is_subs'] == 'subscription'))]\n",
    "# check dataset shape and column names\n",
    "print(f'Outliers removed: {(orig_shape-len(df1)):,} ')\n",
    "print(f'The dataset has {df1.shape[0]:,} rows and {df1.shape[1]} columns.')"
   ]
  },
  {
   "cell_type": "markdown",
   "metadata": {
    "heading_collapsed": true,
    "hidden": true
   },
   "source": [
    "### Remove products with a single unique customer (excl. recurrency)"
   ]
  },
  {
   "cell_type": "code",
   "execution_count": null,
   "metadata": {
    "ExecuteTime": {
     "end_time": "2022-09-04T13:35:22.569627Z",
     "start_time": "2022-09-04T13:35:22.569610Z"
    },
    "hidden": true
   },
   "outputs": [],
   "source": [
    "# get unique buyers\n",
    "aux1 = df1[df1['is_subs'] == 'single-payment'][['product_id', 'product_category', 'user_buyer_id']].groupby(['product_id', 'product_category']).nunique().reset_index()\n",
    "# get purchase volume\n",
    "aux2 = df1[df1['is_subs'] == 'single-payment'][['product_id', 'product_category', 'purchase_id']].groupby(['product_id', 'product_category']).count().reset_index()\n",
    "# merge\n",
    "aux3 = aux1.merge(aux2, how = 'left', on = ['product_id', 'product_category'])\n",
    "aux3.columns = ['product_id', 'product_category', 'unique_users', 'transaction_vol']\n",
    "aux3['ratio'] = aux3['transaction_vol'] / aux3['unique_users'] "
   ]
  },
  {
   "cell_type": "code",
   "execution_count": null,
   "metadata": {
    "ExecuteTime": {
     "end_time": "2022-09-04T13:35:22.570955Z",
     "start_time": "2022-09-04T13:35:22.570937Z"
    },
    "hidden": true
   },
   "outputs": [],
   "source": [
    "aux3.sort_values('unique_users', ascending=True).head(10)"
   ]
  },
  {
   "cell_type": "code",
   "execution_count": null,
   "metadata": {
    "ExecuteTime": {
     "end_time": "2022-09-04T13:35:22.572903Z",
     "start_time": "2022-09-04T13:35:22.572887Z"
    },
    "hidden": true
   },
   "outputs": [],
   "source": [
    "print(f\"{len(aux3[aux3['unique_users'] == 1]):,.2f} products ({(len(aux3[aux3['unique_users'] == 1])/df1['product_id'].nunique() * 100):,.2f}%) with 1 unique buyer\")\n",
    "print(f\"{aux3[aux3['unique_users'] == 1]['transaction_vol'].sum():,.2f} purchases ({(aux3[aux3['unique_users'] == 1]['transaction_vol'].sum()/len(df1) * 100):,.2f}%)\")"
   ]
  },
  {
   "cell_type": "code",
   "execution_count": null,
   "metadata": {
    "ExecuteTime": {
     "end_time": "2022-09-04T13:35:22.574679Z",
     "start_time": "2022-09-04T13:35:22.574661Z"
    },
    "hidden": true
   },
   "outputs": [],
   "source": [
    "orig_shape = len(df1)\n",
    "aux3 = aux3[aux3['unique_users'] == 1][['product_id']].drop_duplicates()\n",
    "aux3['remove_product'] = 1\n",
    "df1 = df1.merge(aux3, how = 'left', on = 'product_id')\n",
    "df1 = df1[~(df1['remove_product'] == 1)].drop('remove_product', axis = 1)\n",
    "# check dataset shape and column names\n",
    "print(f'Outliers removed: {(orig_shape-len(df1)):,} ({((orig_shape-len(df1)) / orig_shape * 100):.2f}%) ')\n",
    "print(f'The dataset has {df1.shape[0]:,} rows and {df1.shape[1]} columns.')"
   ]
  },
  {
   "cell_type": "markdown",
   "metadata": {
    "heading_collapsed": true,
    "hidden": true
   },
   "source": [
    "### Users who purchase the same product (excl. recurrency) - keep entries (but inconclusive)"
   ]
  },
  {
   "cell_type": "code",
   "execution_count": null,
   "metadata": {
    "ExecuteTime": {
     "end_time": "2022-09-04T13:35:22.576555Z",
     "start_time": "2022-09-04T13:35:22.576536Z"
    },
    "hidden": true
   },
   "outputs": [],
   "source": [
    "aux1 = df1[(df1['is_subs'] == 'single-payment') & (df1['subscription_feature_type'] != 'SMART_INSTALLMENT')][['user_buyer_id', 'product_id', 'purchase_id']].groupby(['user_buyer_id', 'product_id']).count().reset_index()\n",
    "aux2 = aux1[aux1['purchase_id'] > 1]['user_buyer_id'].drop_duplicates()\n",
    "aux3 = aux1[aux1['purchase_id'] > 1][['user_buyer_id', 'product_id']].drop_duplicates()\n",
    "aux0 = df1[(df1['is_subs'] == 'single-payment') & (df1['subscription_feature_type'] != 'SMART_INSTALLMENT')]\n",
    "aux0 = aux0.merge(aux3, how = 'inner', on = ['user_buyer_id', 'product_id'])\n",
    "aux0['order_purchase'] = aux0.groupby([\"user_buyer_id\", \"product_id\"])[\"purchase_order_datetime\"].rank(method=\"first\", ascending=True)\n",
    "aux0['purchase_status2'] = aux0.sort_values('purchase_order_datetime').groupby(['user_buyer_id','product_id'])['purchase_status'].shift(-1)\n",
    "aux0['same_purchase_status'] = aux0.apply(lambda x: 1 if x['purchase_status2'] == x['purchase_status'] else 0, axis = 1)\n",
    "aux0['double_pur_stats'] = aux0['purchase_status'] + '-' + aux0['purchase_status2']\n",
    "aux0['product_id2'] = aux0.sort_values('purchase_order_datetime').groupby(['user_buyer_id', 'product_id'])['product_id'].shift(-1)\n",
    "aux0['same_product'] = aux0.apply(lambda x: 1 if x['product_id2'] == x['product_id'] else 0, axis = 1)\n",
    "\n",
    "print(f\"Users who purchased the same product {len(aux2):,} ({(len(aux2) / df1['user_buyer_id'].nunique() * 100):,.2f}%)\")\n",
    "print(f\"Number purchases {len(aux0):,} ({(len(aux0) / len(df1) * 100):,.2f}%)\")"
   ]
  },
  {
   "cell_type": "code",
   "execution_count": null,
   "metadata": {
    "ExecuteTime": {
     "end_time": "2022-09-04T13:35:22.578611Z",
     "start_time": "2022-09-04T13:35:22.578596Z"
    },
    "hidden": true
   },
   "outputs": [],
   "source": [
    "# df1[(df1['user_buyer_id'] == 43285158) & (df1['product_id'] == 111546)].sort_values('purchase_order_datetime')"
   ]
  },
  {
   "cell_type": "code",
   "execution_count": null,
   "metadata": {
    "ExecuteTime": {
     "end_time": "2022-09-04T13:35:22.580321Z",
     "start_time": "2022-09-04T13:35:22.580306Z"
    },
    "hidden": true
   },
   "outputs": [],
   "source": [
    "# df1[(df1['user_buyer_id'] == 43285158) & (df1['product_id'] == 111546)]"
   ]
  },
  {
   "cell_type": "code",
   "execution_count": null,
   "metadata": {
    "ExecuteTime": {
     "end_time": "2022-09-04T13:35:22.581781Z",
     "start_time": "2022-09-04T13:35:22.581765Z"
    },
    "hidden": true
   },
   "outputs": [],
   "source": [
    "aux0['same_product'].value_counts(dropna=False)"
   ]
  },
  {
   "cell_type": "code",
   "execution_count": null,
   "metadata": {
    "ExecuteTime": {
     "end_time": "2022-09-04T13:35:22.583484Z",
     "start_time": "2022-09-04T13:35:22.583466Z"
    },
    "hidden": true
   },
   "outputs": [],
   "source": [
    "aux0[aux0['same_product'] == 0][['user_buyer_id', 'product_id', 'same_product', 'product_id2']].value_counts('product_id2', dropna=False)"
   ]
  },
  {
   "cell_type": "code",
   "execution_count": null,
   "metadata": {
    "ExecuteTime": {
     "end_time": "2022-09-04T13:35:22.585308Z",
     "start_time": "2022-09-04T13:35:22.585292Z"
    },
    "hidden": true
   },
   "outputs": [],
   "source": [
    "aux0['order_purchase'].value_counts(dropna=False)"
   ]
  },
  {
   "cell_type": "code",
   "execution_count": null,
   "metadata": {
    "ExecuteTime": {
     "end_time": "2022-09-04T13:35:22.586585Z",
     "start_time": "2022-09-04T13:35:22.586570Z"
    },
    "hidden": true
   },
   "outputs": [],
   "source": [
    "aux0[aux0['order_purchase'] == 22][['user_buyer_id', 'product_id', 'same_product', 'product_id2', 'order_purchase']]"
   ]
  },
  {
   "cell_type": "code",
   "execution_count": null,
   "metadata": {
    "ExecuteTime": {
     "end_time": "2022-09-04T13:35:22.588209Z",
     "start_time": "2022-09-04T13:35:22.588194Z"
    },
    "hidden": true
   },
   "outputs": [],
   "source": [
    "df1[df1['user_buyer_id'] == 46834967][['user_buyer_id', 'product_id', 'purchase_order_datetime', 'gmv_value_brl', 'is_subs', 'subscription_feature_type', 'order_bump_type', 'purchase_status', 'product_category', 'is_club']]"
   ]
  },
  {
   "cell_type": "code",
   "execution_count": null,
   "metadata": {
    "ExecuteTime": {
     "end_time": "2022-09-04T13:35:22.589665Z",
     "start_time": "2022-09-04T13:35:22.589650Z"
    },
    "hidden": true
   },
   "outputs": [],
   "source": [
    "aux0['purchase_status'].value_counts(dropna=False)"
   ]
  },
  {
   "cell_type": "code",
   "execution_count": null,
   "metadata": {
    "ExecuteTime": {
     "end_time": "2022-09-04T13:35:22.591295Z",
     "start_time": "2022-09-04T13:35:22.591278Z"
    },
    "hidden": true
   },
   "outputs": [],
   "source": [
    "aux0['purchase_status2'].value_counts(dropna=False)"
   ]
  },
  {
   "cell_type": "code",
   "execution_count": null,
   "metadata": {
    "ExecuteTime": {
     "end_time": "2022-09-04T13:35:22.592733Z",
     "start_time": "2022-09-04T13:35:22.592718Z"
    },
    "hidden": true
   },
   "outputs": [],
   "source": [
    "aux0['same_purchase_status'].value_counts(dropna=False)"
   ]
  },
  {
   "cell_type": "code",
   "execution_count": null,
   "metadata": {
    "ExecuteTime": {
     "end_time": "2022-09-04T13:35:22.594318Z",
     "start_time": "2022-09-04T13:35:22.594303Z"
    },
    "hidden": true
   },
   "outputs": [],
   "source": [
    "aux0['double_pur_stats'].value_counts(dropna=False)"
   ]
  },
  {
   "cell_type": "markdown",
   "metadata": {
    "heading_collapsed": true,
    "hidden": true
   },
   "source": [
    "### Trial purchases (remove entries - inconclusive)"
   ]
  },
  {
   "cell_type": "markdown",
   "metadata": {
    "hidden": true
   },
   "source": [
    "https://help.hotmart.com/pt-BR/article/como-configurar-o-periodo-gratis-trial-para-o-meu-produto-de-assinatura-/360038910152"
   ]
  },
  {
   "cell_type": "code",
   "execution_count": null,
   "metadata": {
    "ExecuteTime": {
     "end_time": "2022-09-04T13:35:22.596019Z",
     "start_time": "2022-09-04T13:35:22.596001Z"
    },
    "hidden": true
   },
   "outputs": [],
   "source": [
    "print(f\"{(len(df1[df1['subscription_feature_type'] == 'TRIAL'])):,} purchases ({(len(df1[df1['subscription_feature_type'] == 'TRIAL'])/len(df1) * 100):,.2f}%)\")"
   ]
  },
  {
   "cell_type": "code",
   "execution_count": null,
   "metadata": {
    "ExecuteTime": {
     "end_time": "2022-09-04T13:35:22.597468Z",
     "start_time": "2022-09-04T13:35:22.597453Z"
    },
    "hidden": true
   },
   "outputs": [],
   "source": [
    "get_descriptive_statistics(df1[df1['subscription_feature_type'] == 'TRIAL'][['gmv_value_brl']])"
   ]
  },
  {
   "cell_type": "code",
   "execution_count": null,
   "metadata": {
    "ExecuteTime": {
     "end_time": "2022-09-04T13:35:22.598919Z",
     "start_time": "2022-09-04T13:35:22.598905Z"
    },
    "hidden": true,
    "scrolled": false
   },
   "outputs": [],
   "source": [
    "df1[(df1['user_buyer_id'] == 47563972) & (df1['product_id'].isin([1450011, 827417]))].sort_values('purchase_order_datetime')[['user_buyer_id', 'purchase_transaction', 'product_id','is_subs', 'purchase_order_datetime', 'subscription_feature_type', 'recurrency_number', 'subscription_id', 'recurrency_id','subs_start_datetime', 'subs_cancellation_datetime', 'gmv_value_brl', 'is_club', 'purchase_status']]"
   ]
  },
  {
   "cell_type": "code",
   "execution_count": null,
   "metadata": {
    "ExecuteTime": {
     "end_time": "2022-09-04T13:35:22.600402Z",
     "start_time": "2022-09-04T13:35:22.600384Z"
    },
    "hidden": true
   },
   "outputs": [],
   "source": [
    "df1[df1['subscription_feature_type'] == 'TRIAL'].groupby(['user_buyer_id']).count().sort_values('purchase_id')"
   ]
  },
  {
   "cell_type": "code",
   "execution_count": null,
   "metadata": {
    "ExecuteTime": {
     "end_time": "2022-09-04T13:35:22.602398Z",
     "start_time": "2022-09-04T13:35:22.602382Z"
    },
    "hidden": true
   },
   "outputs": [],
   "source": [
    "df1[df1['subscription_feature_type'] == 'TRIAL']['subs_status'].value_counts(dropna=False)"
   ]
  },
  {
   "cell_type": "code",
   "execution_count": null,
   "metadata": {
    "ExecuteTime": {
     "end_time": "2022-09-04T13:35:22.603925Z",
     "start_time": "2022-09-04T13:35:22.603909Z"
    },
    "hidden": true
   },
   "outputs": [],
   "source": [
    "df1[(df1['user_buyer_id'] == 43878900)].sort_values('purchase_order_datetime')\n"
   ]
  },
  {
   "cell_type": "code",
   "execution_count": null,
   "metadata": {
    "ExecuteTime": {
     "end_time": "2022-09-04T13:35:22.605498Z",
     "start_time": "2022-09-04T13:35:22.605482Z"
    },
    "hidden": true
   },
   "outputs": [],
   "source": [
    "df1[(df1['subscription_feature_type'] == 'TRIAL') & (df1['gmv_value_brl'] != 0)]"
   ]
  },
  {
   "cell_type": "code",
   "execution_count": null,
   "metadata": {
    "ExecuteTime": {
     "end_time": "2022-09-04T13:35:22.606999Z",
     "start_time": "2022-09-04T13:35:22.606983Z"
    },
    "hidden": true
   },
   "outputs": [],
   "source": [
    "# remove users with zero gmv and not recurrency\n",
    "orig_shape = len(df1)\n",
    "df1 = df1[df1['subscription_feature_type'] != 'TRIAL']\n",
    "# check dataset shape and column names\n",
    "print(f'Outliers removed: {(orig_shape-len(df1)):,} ({((orig_shape-len(df1)) / orig_shape * 100):.2f}%) ')\n",
    "print(f'The dataset has {df1.shape[0]:,} rows and {df1.shape[1]} columns.')"
   ]
  },
  {
   "cell_type": "markdown",
   "metadata": {
    "heading_collapsed": true,
    "hidden": true
   },
   "source": [
    "### Products with free signup (keep entries - inconclusive)"
   ]
  },
  {
   "cell_type": "markdown",
   "metadata": {
    "hidden": true
   },
   "source": [
    "https://help.hotmart.com/en/article/how-to-release-free-registration-in-my-members-area-/214190177"
   ]
  },
  {
   "cell_type": "code",
   "execution_count": null,
   "metadata": {
    "ExecuteTime": {
     "end_time": "2022-09-04T13:35:22.608714Z",
     "start_time": "2022-09-04T13:35:22.608699Z"
    },
    "hidden": true
   },
   "outputs": [],
   "source": [
    "# get products with free signup activated\n",
    "free_sign = pd.read_csv('data/free_signup.csv', delimiter = ';')\n",
    "free_sign.columns = ['product_id', 'allow']\n",
    "df1 = df1.merge(free_sign, how = 'left', on = 'product_id')"
   ]
  },
  {
   "cell_type": "code",
   "execution_count": null,
   "metadata": {
    "ExecuteTime": {
     "end_time": "2022-09-04T13:35:22.610068Z",
     "start_time": "2022-09-04T13:35:22.610054Z"
    },
    "hidden": true
   },
   "outputs": [],
   "source": [
    "print(f\"{(df1[df1['allow'] == True]['product_id'].nunique()):,} products with free signup({((df1[df1['allow'] == True]['product_id'].nunique())/df1['product_id'].nunique() * 100):,.2f}%)\")\n",
    "print(f\"{(len(df1[df1['allow'] == True])):,} purchases ({(len(df1[df1['allow'] == True])/len(df1) * 100):,.2f}%)\")"
   ]
  },
  {
   "cell_type": "code",
   "execution_count": null,
   "metadata": {
    "ExecuteTime": {
     "end_time": "2022-09-04T13:35:22.611573Z",
     "start_time": "2022-09-04T13:35:22.611559Z"
    },
    "hidden": true
   },
   "outputs": [],
   "source": [
    "df1[df1['allow'] == True]['is_club'].value_counts(dropna=False)"
   ]
  },
  {
   "cell_type": "code",
   "execution_count": null,
   "metadata": {
    "ExecuteTime": {
     "end_time": "2022-09-04T13:35:22.613096Z",
     "start_time": "2022-09-04T13:35:22.613081Z"
    },
    "hidden": true
   },
   "outputs": [],
   "source": [
    "df1[df1['allow'] == True]['is_subs'].value_counts(dropna=False)"
   ]
  },
  {
   "cell_type": "code",
   "execution_count": null,
   "metadata": {
    "ExecuteTime": {
     "end_time": "2022-09-04T13:35:22.614545Z",
     "start_time": "2022-09-04T13:35:22.614530Z"
    },
    "hidden": true
   },
   "outputs": [],
   "source": [
    "df1[df1['allow'] == True]['subscription_feature_type'].value_counts(dropna=False)"
   ]
  },
  {
   "cell_type": "code",
   "execution_count": null,
   "metadata": {
    "ExecuteTime": {
     "end_time": "2022-09-04T13:35:22.616115Z",
     "start_time": "2022-09-04T13:35:22.616101Z"
    },
    "hidden": true
   },
   "outputs": [],
   "source": [
    "get_descriptive_statistics(df1[df1['allow'] == True][['gmv_value_brl']])"
   ]
  },
  {
   "cell_type": "code",
   "execution_count": null,
   "metadata": {
    "ExecuteTime": {
     "end_time": "2022-09-04T13:35:22.617685Z",
     "start_time": "2022-09-04T13:35:22.617670Z"
    },
    "hidden": true
   },
   "outputs": [],
   "source": [
    "df1[(df1['allow'] == True) & (df1['gmv_value_brl'] == 0)]['subscription_feature_type'].value_counts(dropna=False)"
   ]
  },
  {
   "cell_type": "code",
   "execution_count": null,
   "metadata": {
    "ExecuteTime": {
     "end_time": "2022-09-04T13:35:22.619314Z",
     "start_time": "2022-09-04T13:35:22.619294Z"
    },
    "hidden": true
   },
   "outputs": [],
   "source": [
    "aux11 = df1[(df1['allow'] == True )][['user_buyer_id', 'product_id', 'purchase_id', 'is_subs']].groupby(['user_buyer_id', 'product_id', 'is_subs']).count().reset_index()\n",
    "aux11[aux11['purchase_id'] != 1]"
   ]
  },
  {
   "cell_type": "code",
   "execution_count": null,
   "metadata": {
    "ExecuteTime": {
     "end_time": "2022-09-04T13:35:22.621312Z",
     "start_time": "2022-09-04T13:35:22.621296Z"
    },
    "hidden": true
   },
   "outputs": [],
   "source": [
    "aux11['is_subs'].value_counts()"
   ]
  },
  {
   "cell_type": "code",
   "execution_count": null,
   "metadata": {
    "ExecuteTime": {
     "end_time": "2022-09-04T13:35:22.622647Z",
     "start_time": "2022-09-04T13:35:22.622628Z"
    },
    "hidden": true
   },
   "outputs": [],
   "source": [
    "df1[(df1['user_buyer_id'] == 54474596)].sort_values('purchase_order_datetime')[['gmv_value_brl', 'product_id', 'user_buyer_id', 'allow', 'purchase_order_datetime', 'is_subs']]"
   ]
  },
  {
   "cell_type": "markdown",
   "metadata": {
    "heading_collapsed": true,
    "hidden": true
   },
   "source": [
    "### products with high volume of issues (reimbursement, cbk, single purchases, tests, zero gmv)"
   ]
  },
  {
   "cell_type": "code",
   "execution_count": null,
   "metadata": {
    "ExecuteTime": {
     "end_time": "2022-09-04T13:35:22.624362Z",
     "start_time": "2022-09-04T13:35:22.624348Z"
    },
    "hidden": true
   },
   "outputs": [],
   "source": [
    "# get transactions by product\n",
    "aux1 = df1[['purchase_status', 'purchase_id', 'product_id']].groupby(['product_id', \n",
    "                                                               'purchase_status']).count().reset_index().pivot_table(values = 'purchase_id', \n",
    "                                                                                                                     index = 'product_id', \n",
    "                                                                                                                     columns = 'purchase_status').fillna(0)\n",
    "aux1['sum'] = aux1.sum(axis=1)\n",
    "# get gmv sum\n",
    "aux2 = df1[['gmv_value_brl', 'product_id']].groupby('product_id').sum().reset_index()\n",
    "aux1 = aux1.merge(aux2, how = 'left', on = 'product_id')\n",
    "aux1['sum_gmv_ratio'] = aux1.apply(lambda x : x['gmv_value_brl'] / x['sum'] if x['gmv_value_brl'] > 0 else 0, axis = 1)\n",
    "aux3 = df1[['gmv_value_brl', 'product_id']].groupby('product_id').agg(np.std).reset_index()\n",
    "aux3.columns = ['product_id', 'std']\n",
    "aux1 = aux1.merge(aux3, how = 'left', on = 'product_id')\n",
    "get_descriptive_statistics(aux1)"
   ]
  },
  {
   "cell_type": "code",
   "execution_count": null,
   "metadata": {
    "ExecuteTime": {
     "end_time": "2022-09-04T13:35:22.625882Z",
     "start_time": "2022-09-04T13:35:22.625867Z"
    },
    "hidden": true
   },
   "outputs": [],
   "source": [
    "# set validators\n",
    "aux1['cbk_compl_ratio'] = aux1['CHARGEBACK'] / (aux1['COMPLETO'] + aux1['APROVADO'] + aux1['CHARGEBACK']) * 100\n",
    "aux1['reim_compl_ratio'] = aux1['REEMBOLSADO'] / (aux1['COMPLETO'] + aux1['APROVADO'] + aux1['REEMBOLSADO']) * 100\n",
    "# aux1['block_compl_ratio'] = aux1['BLOQUEADO'] / (aux1['COMPLETO'] + aux1['APROVADO'] + aux1['BLOQUEADO']) * 100\n",
    "aux1['recl_compl_ratio'] = aux1['RECLAMADO'] / (aux1['COMPLETO'] + aux1['APROVADO'] + aux1['RECLAMADO']) * 100\n",
    "aux1['exp_compl_ratio'] = aux1['EXPIRADO'] / (aux1['COMPLETO'] + aux1['APROVADO'] + aux1['EXPIRADO']) * 100\n",
    "aux1['par_compl_ratio'] = aux1['PARCIALMENTE REEMBOLSADO'] / (aux1['COMPLETO'] + aux1['APROVADO'] + aux1['PARCIALMENTE REEMBOLSADO']) * 100\n",
    "aux1['is_test'] = aux1['sum'].apply(lambda x : 1 if x <= 1 else 0) # if product had only X purchases\n",
    "# aux1['bigger_than_complete'] = aux1.apply(lambda x : 'REEMBOLSADO' if (x['COMPLETO'] + x['APROVADO']) < x['REEMBOLSADO']\n",
    "#                              else 'BLOQUEADO' if (x['COMPLETO'] + x['APROVADO']) < x['BLOQUEADO']\n",
    "#                              else 'RECLAMADO' if (x['COMPLETO'] + x['APROVADO']) < x['RECLAMADO']\n",
    "#                              else 'PARCIALMENTE REEMBOLSADO' if (x['COMPLETO'] + x['APROVADO']) < x['PARCIALMENTE REEMBOLSADO']\n",
    "#                              else 'EXPIRADO' if (x['COMPLETO'] + x['APROVADO']) < x['EXPIRADO']\n",
    "#                              else 'CHARGEBACK' if (x['COMPLETO'] + x['APROVADO']) < x['CHARGEBACK']\n",
    "#                              else 'valid', axis = 1) \n",
    "# aux1['equal_sum'] = aux1.apply(lambda x : 'REEMBOLSADO' if x['sum'] == x['REEMBOLSADO']\n",
    "#                              else 'BLOQUEADO' if x['sum'] == x['BLOQUEADO']\n",
    "#                              else 'RECLAMADO' if x['sum'] == x['RECLAMADO']\n",
    "#                              else 'PARCIALMENTE REEMBOLSADO' if x['sum'] == x['PARCIALMENTE REEMBOLSADO']\n",
    "#                              else 'EXPIRADO' if x['sum'] == x['EXPIRADO']\n",
    "#                              else 'CHARGEBACK' if x['sum'] == x['CHARGEBACK']\n",
    "#                              else 'valid', axis = 1) # if purchase sum is equal to vol of purchases in each category\n",
    "\n",
    "aux1['only_issues'] = aux1.apply(lambda x : 1 if x['APROVADO'] + x['COMPLETO'] == 0\n",
    "                             else 0, axis = 1) \n",
    "### REMOVAL CRITERIA\n",
    "aux1['remove_reason'] = aux1.apply(lambda x : \n",
    "                                  'only_issues' if x['only_issues'] == 1 # no COMPLETO or APROVADO purchases at all\n",
    "#                                  else 'reimb' if ((x['reim_compl_ratio'] >= 80) & (x['reim_compl_ratio'] < 100))  # 80% of purchases are reimburse \n",
    "#                                  else 'cbk' if ((x['cbk_compl_ratio'] >= 80) & (x['cbk_compl_ratio'] < 100))  # 80% of purchases are cbk \n",
    "#                                  else 'block' if ((x['block_compl_ratio'] >= 80) & (x['block_compl_ratio'] < 100))  # 80% of purchases are block \n",
    "#                                  else 'recl' if ((x['recl_compl_ratio'] >= 80) & (x['recl_compl_ratio'] < 100))  # 80% of purchases are recl \n",
    "#                                  else 'exp' if ((x['exp_compl_ratio'] >= 80) & (x['exp_compl_ratio'] < 100))  # 80% of purchases are exp \n",
    "#                                  else 'par' if ((x['par_compl_ratio'] >= 80) & (x['par_compl_ratio'] < 100))  # 80% of purchases are par \n",
    "                                 else 'gmv_zero' if x['gmv_value_brl'] == 0 # product dont have gmv\n",
    "                                 else 'single_purchase' if x['is_test'] == 1 # product only have X purchases or below\n",
    "                                 else 'valid' \n",
    "                                  ,axis = 1)\n",
    "aux1['remove_reason'].value_counts(dropna=False)"
   ]
  },
  {
   "cell_type": "code",
   "execution_count": null,
   "metadata": {
    "ExecuteTime": {
     "end_time": "2022-09-04T13:35:22.627277Z",
     "start_time": "2022-09-04T13:35:22.627263Z"
    },
    "hidden": true,
    "scrolled": false
   },
   "outputs": [],
   "source": [
    "### test validators\n",
    "# aux1.sort_values('BLOQUEADO', ascending=False) # valid\n",
    "# aux1.sort_values('CHARGEBACK', ascending=False).head(50) # valid\n",
    "# aux1.sort_values('COMPLETO', ascending=False).head(50) # valid\n",
    "# aux1.sort_values('EXPIRADO', ascending=False).head(50) # valid\n",
    "# aux1.sort_values('PARCIALMENTE REEMBOLSADO', ascending=False).head(50) # valid\n",
    "# aux1.sort_values('RECLAMADO', ascending=False).head(50) # valid\n",
    "# aux1.sort_values('REEMBOLSADO', ascending=False).head(50) # valid\n",
    "# aux1.sort_values(['cbk_compl_ratio'], ascending=[False]).head(50) # valid\n",
    "# aux1.sort_values(['reim_compl_ratio'], ascending=[False]).head(50) # valid\n",
    "# aux1.sort_values(['sum'], ascending=[False]).head(50) # valid, keep track of outliers\n",
    "# aux1[(aux1['bigger_than_complete'] == 'REEMBOLSADO') & ((aux1['reim_compl_ratio'] >= 70) &  (aux1['reim_compl_ratio'] < 100))].sort_values('REEMBOLSADO', ascending=False).head(45) # remove users\n",
    "# aux1[(aux1['bigger_than_complete'] == 'CHARGEBACK') & (aux1['cbk_compl_ratio'] == 100)].sort_values('CHARGEBACK', ascending=False) # remove users\n",
    "# aux1.sort_values(['sum_gmv_ratio'], ascending=False).head(50)"
   ]
  },
  {
   "cell_type": "code",
   "execution_count": null,
   "metadata": {
    "ExecuteTime": {
     "end_time": "2022-09-04T13:35:22.628578Z",
     "start_time": "2022-09-04T13:35:22.628562Z"
    },
    "hidden": true
   },
   "outputs": [],
   "source": [
    "# remove users\n",
    "aux2 = aux1[aux1['remove_reason'] == 'valid'][['product_id']].drop_duplicates()\n",
    "orig_shape = len(df1)\n",
    "df1 = df1.merge(aux2, how = 'inner', on = 'product_id')\n",
    "# check dataset shape and column names\n",
    "print(f'Outliers removed: {(orig_shape-len(df1)):,} ({((orig_shape-len(df1)) / orig_shape * 100):.2f}%) ')\n",
    "print(f'The dataset has {df1.shape[0]:,} rows and {df1.shape[1]} columns.')"
   ]
  },
  {
   "cell_type": "markdown",
   "metadata": {
    "heading_collapsed": true,
    "hidden": true
   },
   "source": [
    "### Repurchases in which 2nd transaction was from same product and has reimbursement (excl. recurrency)"
   ]
  },
  {
   "cell_type": "code",
   "execution_count": null,
   "metadata": {
    "ExecuteTime": {
     "end_time": "2022-09-04T13:35:22.630268Z",
     "start_time": "2022-09-04T13:35:22.630251Z"
    },
    "hidden": true
   },
   "outputs": [],
   "source": [
    "## get repurchases\n",
    "aux3 = df1[(df1['is_subs'] == 'single-payment')][['user_buyer_id', 'product_id', 'purchase_id']].groupby(['user_buyer_id', 'product_id']).count().reset_index()\n",
    "aux3 = aux3[aux3['purchase_id'] == 2] # only users who repurchased 2x same product\n",
    "aux3.columns = ['user_buyer_id', 'product_id', 'count_purchases']\n",
    "aux1 = df1.merge(aux3, how = 'inner', on = ['user_buyer_id', 'product_id'])\n",
    "aux1['purchase_status2'] = aux1.sort_values('purchase_order_datetime').groupby(['user_buyer_id', 'product_id'])['purchase_status'].shift(-1)\n",
    "aux1['purchase_id2'] = aux1.sort_values('purchase_order_datetime').groupby(['user_buyer_id', 'product_id'])['purchase_id'].shift(-1)\n",
    "aux1['double_pur_stats'] = aux1['purchase_status'] + '-' + aux1['purchase_status2']\n",
    "aux1['purchase_order_lag'] = aux1.sort_values('purchase_order_datetime').groupby(['user_buyer_id', 'product_id'])['purchase_order_datetime'].shift(-1)\n",
    "aux1 = aux1[aux1['purchase_order_lag'].notnull()]\n",
    "aux1 = aux1[aux1['double_pur_stats'] != 'COMPLETO-COMPLETO']\n",
    "aux1['purchase_id_remove'] = (aux1.apply(lambda x: x['purchase_id'] if (x['purchase_status'] != 'COMPLETO') & (x['purchase_status2'] == 'COMPLETO')\n",
    "                            else x['purchase_id2'] if (x['purchase_status'] == 'COMPLETO') & (x['purchase_status2'] != 'COMPLETO')\n",
    "                            else x['purchase_id'] if (x['purchase_status'] != 'COMPLETO') & (x['purchase_status2'] != 'COMPLETO')\n",
    "                            else 0, axis = 1)).astype(int)\n"
   ]
  },
  {
   "cell_type": "code",
   "execution_count": null,
   "metadata": {
    "ExecuteTime": {
     "end_time": "2022-09-04T13:35:22.632233Z",
     "start_time": "2022-09-04T13:35:22.632216Z"
    },
    "hidden": true
   },
   "outputs": [],
   "source": [
    "aux1['double_pur_stats'].value_counts(dropna=False)"
   ]
  },
  {
   "cell_type": "code",
   "execution_count": null,
   "metadata": {
    "ExecuteTime": {
     "end_time": "2022-09-04T13:35:22.633644Z",
     "start_time": "2022-09-04T13:35:22.633625Z"
    },
    "hidden": true
   },
   "outputs": [],
   "source": [
    "df1['purchase_status'].value_counts(dropna=False, normalize=True) * 100"
   ]
  },
  {
   "cell_type": "code",
   "execution_count": null,
   "metadata": {
    "ExecuteTime": {
     "end_time": "2022-09-04T13:35:22.635241Z",
     "start_time": "2022-09-04T13:35:22.635226Z"
    },
    "hidden": true
   },
   "outputs": [],
   "source": [
    "orig_shape = len(df1)\n",
    "aux2 = aux1[['purchase_id_remove']].drop_duplicates()\n",
    "aux2.columns = ['purchase_id']\n",
    "aux2['remove_transaction'] = 1\n",
    "df1 = df1.merge(aux2, how = 'left', on = 'purchase_id')\n",
    "df1 = df1[~(df1['remove_transaction'] == 1)].drop('remove_transaction', axis = 1)\n",
    "# check dataset shape and column names\n",
    "print(f'Outliers removed: {(orig_shape-len(df1)):,} ({((orig_shape-len(df1)) / orig_shape * 100):.2f}%) ')\n",
    "print(f'The dataset has {df1.shape[0]:,} rows and {df1.shape[1]} columns.')"
   ]
  },
  {
   "cell_type": "markdown",
   "metadata": {
    "heading_collapsed": true,
    "hidden": true
   },
   "source": [
    "### Repurchase whose time to repurchase was zero"
   ]
  },
  {
   "cell_type": "code",
   "execution_count": null,
   "metadata": {
    "ExecuteTime": {
     "end_time": "2022-09-04T13:35:22.636696Z",
     "start_time": "2022-09-04T13:35:22.636682Z"
    },
    "hidden": true
   },
   "outputs": [],
   "source": [
    "df1['user_buyer_id'].nunique()"
   ]
  },
  {
   "cell_type": "code",
   "execution_count": null,
   "metadata": {
    "ExecuteTime": {
     "end_time": "2022-09-04T13:35:22.638250Z",
     "start_time": "2022-09-04T13:35:22.638235Z"
    },
    "hidden": true
   },
   "outputs": [],
   "source": [
    "### get df\n",
    "aux1 = df1.copy()\n",
    "aux1['purchase_order_lag'] = aux1.sort_values('purchase_order_datetime').groupby('user_buyer_id')['purchase_order_datetime'].shift(-1)\n",
    "aux1['purchase_id2'] = aux1.sort_values('purchase_order_datetime').groupby('user_buyer_id')['purchase_id'].shift(-1)\n",
    "aux1['order_purchase'] = aux1.groupby(\"user_buyer_id\")[\"purchase_order_datetime\"].rank(method=\"first\", ascending=True)\n",
    "aux1['order_release'] = aux1.groupby(\"user_buyer_id\")[\"purchase_release_datetime\"].rank(method=\"first\", ascending=True)\n",
    "aux1['purchase_status2'] = aux1.sort_values('purchase_order_datetime').groupby('user_buyer_id')['purchase_status'].shift(-1)\n",
    "aux1['is_club2'] = aux1.sort_values('purchase_order_datetime').groupby('user_buyer_id')['is_club'].shift(-1)\n",
    "aux1['is_subs2'] = aux1.sort_values('purchase_order_datetime').groupby('user_buyer_id')['is_subs'].shift(-1)\n",
    "aux1['purchase_payment_type2'] = aux1.sort_values('purchase_order_datetime').groupby('user_buyer_id')['purchase_payment_type'].shift(-1)\n",
    "aux1['purchase_sale_type2'] = aux1.sort_values('purchase_order_datetime').groupby('user_buyer_id')['purchase_sale_type'].shift(-1)\n",
    "aux1['payment_method_description2'] = aux1.sort_values('purchase_order_datetime').groupby('user_buyer_id')['payment_method_description'].shift(-1)\n",
    "aux1['product_id2'] = aux1.sort_values('purchase_order_datetime').groupby('user_buyer_id')['product_id'].shift(-1)\n",
    "aux1['producer_id2'] = aux1.sort_values('purchase_order_datetime').groupby('user_buyer_id')['producer_id'].shift(-1)\n",
    "aux1['same_product'] = aux1.apply(lambda x: 1 if x['product_id2'] == x['product_id'] else 0, axis = 1)\n",
    "aux1['same_purchase_status'] = aux1.apply(lambda x: 1 if x['purchase_status2'] == x['purchase_status'] else 0, axis = 1)\n",
    "aux1['double_pur_stats'] = aux1['purchase_status'] + '-' + aux1['purchase_status2']\n",
    "aux1['double_subs'] = aux1['is_subs'] + '-' + aux1['is_subs2']\n",
    "aux1['double_club'] = aux1['is_club'] + '-' + aux1['is_club2']\n",
    "# calc delta\n",
    "aux2 = aux1[aux1['purchase_order_lag'].notnull()]\n",
    "aux2['delta_days'] = (aux2['purchase_order_lag'] - aux2['purchase_order_datetime']).dt.total_seconds() / 60 / 60 /24\n",
    "aux2['delta_sec'] = (aux2['purchase_order_lag'] - aux2['purchase_order_datetime']).dt.total_seconds() \n",
    "pd.concat([get_descriptive_statistics(aux2[['delta_days']]), get_descriptive_statistics(aux2[['delta_sec']])])"
   ]
  },
  {
   "cell_type": "code",
   "execution_count": null,
   "metadata": {
    "ExecuteTime": {
     "end_time": "2022-09-04T13:35:22.639750Z",
     "start_time": "2022-09-04T13:35:22.639734Z"
    },
    "hidden": true
   },
   "outputs": [],
   "source": [
    "minutes = 1\n",
    "sns.set_style('white')\n",
    "sns.histplot(data = aux2[aux2['delta_sec'] < 60 * minutes], x = 'delta_sec', \n",
    "            kde = True, color = 'darkcyan'\n",
    "            )\n",
    "plt.show()"
   ]
  },
  {
   "cell_type": "code",
   "execution_count": null,
   "metadata": {
    "ExecuteTime": {
     "end_time": "2022-09-04T13:35:22.641272Z",
     "start_time": "2022-09-04T13:35:22.641257Z"
    },
    "hidden": true
   },
   "outputs": [],
   "source": [
    "aux4 = aux2[aux2['delta_sec'] == 0]"
   ]
  },
  {
   "cell_type": "code",
   "execution_count": null,
   "metadata": {
    "ExecuteTime": {
     "end_time": "2022-09-04T13:35:22.642900Z",
     "start_time": "2022-09-04T13:35:22.642881Z"
    },
    "hidden": true
   },
   "outputs": [],
   "source": [
    "aux4['purchase_status'].value_counts(dropna=False)"
   ]
  },
  {
   "cell_type": "code",
   "execution_count": null,
   "metadata": {
    "ExecuteTime": {
     "end_time": "2022-09-04T13:35:22.644554Z",
     "start_time": "2022-09-04T13:35:22.644538Z"
    },
    "hidden": true
   },
   "outputs": [],
   "source": [
    "aux4['user_type'].value_counts(dropna=False)"
   ]
  },
  {
   "cell_type": "code",
   "execution_count": null,
   "metadata": {
    "ExecuteTime": {
     "end_time": "2022-09-04T13:35:22.646082Z",
     "start_time": "2022-09-04T13:35:22.646066Z"
    },
    "hidden": true
   },
   "outputs": [],
   "source": [
    "aux4['double_pur_stats'].value_counts(dropna=False)"
   ]
  },
  {
   "cell_type": "code",
   "execution_count": null,
   "metadata": {
    "ExecuteTime": {
     "end_time": "2022-09-04T13:35:22.647629Z",
     "start_time": "2022-09-04T13:35:22.647610Z"
    },
    "hidden": true
   },
   "outputs": [],
   "source": [
    "aux4['double_subs'].value_counts(dropna=False)"
   ]
  },
  {
   "cell_type": "code",
   "execution_count": null,
   "metadata": {
    "ExecuteTime": {
     "end_time": "2022-09-04T13:35:22.649172Z",
     "start_time": "2022-09-04T13:35:22.649154Z"
    },
    "hidden": true
   },
   "outputs": [],
   "source": [
    "aux4['double_club'].value_counts(dropna=False)"
   ]
  },
  {
   "cell_type": "code",
   "execution_count": null,
   "metadata": {
    "ExecuteTime": {
     "end_time": "2022-09-04T13:35:22.650954Z",
     "start_time": "2022-09-04T13:35:22.650937Z"
    },
    "hidden": true
   },
   "outputs": [],
   "source": [
    "aux4['same_product'].value_counts(dropna=False)"
   ]
  },
  {
   "cell_type": "code",
   "execution_count": null,
   "metadata": {
    "ExecuteTime": {
     "end_time": "2022-09-04T13:35:22.652637Z",
     "start_time": "2022-09-04T13:35:22.652620Z"
    },
    "hidden": true
   },
   "outputs": [],
   "source": [
    "aux4['product_category'].value_counts(dropna=False)"
   ]
  },
  {
   "cell_type": "code",
   "execution_count": null,
   "metadata": {
    "ExecuteTime": {
     "end_time": "2022-09-04T13:35:22.654450Z",
     "start_time": "2022-09-04T13:35:22.654433Z"
    },
    "hidden": true
   },
   "outputs": [],
   "source": [
    "aux4['user_type'].value_counts(dropna=False)"
   ]
  },
  {
   "cell_type": "code",
   "execution_count": null,
   "metadata": {
    "ExecuteTime": {
     "end_time": "2022-09-04T13:35:22.656838Z",
     "start_time": "2022-09-04T13:35:22.656818Z"
    },
    "hidden": true
   },
   "outputs": [],
   "source": [
    "aux4['is_subs'].value_counts(dropna=False)"
   ]
  },
  {
   "cell_type": "code",
   "execution_count": null,
   "metadata": {
    "ExecuteTime": {
     "end_time": "2022-09-04T13:35:22.658656Z",
     "start_time": "2022-09-04T13:35:22.658629Z"
    },
    "hidden": true
   },
   "outputs": [],
   "source": [
    "aux4['is_club'].value_counts(dropna=False)"
   ]
  },
  {
   "cell_type": "code",
   "execution_count": null,
   "metadata": {
    "ExecuteTime": {
     "end_time": "2022-09-04T13:35:22.660572Z",
     "start_time": "2022-09-04T13:35:22.660554Z"
    },
    "hidden": true
   },
   "outputs": [],
   "source": [
    "df1[df1['user_buyer_id'] == 52650803 ].sort_values('purchase_order_datetime')"
   ]
  },
  {
   "cell_type": "code",
   "execution_count": null,
   "metadata": {
    "ExecuteTime": {
     "end_time": "2022-09-04T13:35:22.662408Z",
     "start_time": "2022-09-04T13:35:22.662392Z"
    },
    "hidden": true,
    "scrolled": true
   },
   "outputs": [],
   "source": [
    "# aux4[['purchase_id', 'purchase_id2', 'user_buyer_id', 'user_type', 'product_id', 'product_id2','same_product', 'order_purchase', 'order_release','purchase_status', 'purchase_status2','double_pur_stats', 'purchase_order_datetime','purchase_order_lag', 'delta_days', 'delta_sec']]"
   ]
  },
  {
   "cell_type": "code",
   "execution_count": null,
   "metadata": {
    "ExecuteTime": {
     "end_time": "2022-09-04T13:35:22.665066Z",
     "start_time": "2022-09-04T13:35:22.665047Z"
    },
    "hidden": true
   },
   "outputs": [],
   "source": [
    "aux6 = df1.merge(aux4[['user_buyer_id']].astype(int).drop_duplicates(), how = 'inner', on = 'user_buyer_id')\n",
    "print(f\"{len(aux6):,} transactions {(len(aux6) / len(df1) * 100):.2f}% would be removed if user_buyer_id becomes the main filter\")"
   ]
  },
  {
   "cell_type": "code",
   "execution_count": null,
   "metadata": {
    "ExecuteTime": {
     "end_time": "2022-09-04T13:35:22.667645Z",
     "start_time": "2022-09-04T13:35:22.667627Z"
    },
    "hidden": true
   },
   "outputs": [],
   "source": [
    "orig_shape = len(df1)\n",
    "aux6 = df1.merge(aux4[['user_buyer_id']].astype(int).drop_duplicates(), how = 'inner', on = 'user_buyer_id')[['purchase_id']]\n",
    "aux6['remove_first'] = 1\n",
    "df1 = df1.merge(aux6, how = 'left', on = 'purchase_id')\n",
    "df1 = df1[~(df1['remove_first'] == 1)].drop('remove_first', axis = 1)\n",
    "# check dataset shape and column names\n",
    "print(f'Outliers removed: {(orig_shape-len(df1)):,} ({((orig_shape-len(df1)) / orig_shape * 100):.2f}%) ')\n",
    "print(f'The dataset has {df1.shape[0]:,} rows and {df1.shape[1]} columns.')"
   ]
  },
  {
   "cell_type": "markdown",
   "metadata": {
    "heading_collapsed": true,
    "hidden": true
   },
   "source": [
    "### Purchases whose time to repurchase was very low"
   ]
  },
  {
   "cell_type": "code",
   "execution_count": null,
   "metadata": {
    "ExecuteTime": {
     "end_time": "2022-09-04T13:35:22.668999Z",
     "start_time": "2022-09-04T13:35:22.668980Z"
    },
    "hidden": true
   },
   "outputs": [],
   "source": [
    "### get df\n",
    "aux1 = df1.copy()\n",
    "aux1['purchase_order_lag'] = aux1.sort_values('purchase_order_datetime').groupby('user_buyer_id')['purchase_order_datetime'].shift(-1)\n",
    "aux1['purchase_id2'] = aux1.sort_values('purchase_order_datetime').groupby('user_buyer_id')['purchase_id'].shift(-1)\n",
    "aux1['order_purchase'] = aux1.groupby(\"user_buyer_id\")[\"purchase_order_datetime\"].rank(method=\"first\", ascending=True)\n",
    "aux1['order_release'] = aux1.groupby(\"user_buyer_id\")[\"purchase_release_datetime\"].rank(method=\"first\", ascending=True)\n",
    "aux1['purchase_status2'] = aux1.sort_values('purchase_order_datetime').groupby('user_buyer_id')['purchase_status'].shift(-1)\n",
    "aux1['purchase_payment_type2'] = aux1.sort_values('purchase_order_datetime').groupby('user_buyer_id')['purchase_payment_type'].shift(-1)\n",
    "aux1['purchase_sale_type2'] = aux1.sort_values('purchase_order_datetime').groupby('user_buyer_id')['purchase_sale_type'].shift(-1)\n",
    "aux1['payment_method_description2'] = aux1.sort_values('purchase_order_datetime').groupby('user_buyer_id')['payment_method_description'].shift(-1)\n",
    "aux1['product_id2'] = aux1.sort_values('purchase_order_datetime').groupby('user_buyer_id')['product_id'].shift(-1)\n",
    "aux1['producer_id2'] = aux1.sort_values('purchase_order_datetime').groupby('user_buyer_id')['producer_id'].shift(-1)\n",
    "aux1['device2'] = aux1.sort_values('purchase_order_datetime').groupby('user_buyer_id')['device'].shift(-1)\n",
    "aux1['allow2'] = aux1.sort_values('purchase_order_datetime').groupby('user_buyer_id')['allow'].shift(-1)\n",
    "aux1['purchase_sale_type2'] = aux1.sort_values('purchase_order_datetime').groupby('user_buyer_id')['purchase_sale_type'].shift(-1)\n",
    "aux1['same_product'] = aux1.apply(lambda x: 1 if x['product_id2'] == x['product_id'] else 0, axis = 1)\n",
    "aux1['same_purchase_status'] = aux1.apply(lambda x: 1 if x['purchase_status2'] == x['purchase_status'] else 0, axis = 1)\n",
    "aux1['double_pur_stats'] = aux1['purchase_status'] + '-' + aux1['purchase_status2']\n",
    "aux1['double_device'] = aux1['device'] + '-' + aux1['device2']\n",
    "aux1['double_purchase_sale_type'] = aux1['purchase_sale_type'] + '-' + aux1['purchase_sale_type2']\n",
    "# calc delta\n",
    "aux2 = aux1[aux1['purchase_order_lag'].notnull()]\n",
    "aux2['delta_days'] = (aux2['purchase_order_lag'] - aux2['purchase_order_datetime']).dt.total_seconds() / 60 / 60 /24\n",
    "aux2['delta_sec'] = (aux2['purchase_order_lag'] - aux2['purchase_order_datetime']).dt.total_seconds() \n",
    "pd.concat([get_descriptive_statistics(aux2[['delta_days']]), get_descriptive_statistics(aux2[['delta_sec']])])"
   ]
  },
  {
   "cell_type": "code",
   "execution_count": null,
   "metadata": {
    "ExecuteTime": {
     "end_time": "2022-09-04T13:35:22.670786Z",
     "start_time": "2022-09-04T13:35:22.670766Z"
    },
    "hidden": true
   },
   "outputs": [],
   "source": [
    "days = 1\n",
    "sns.set_style('white')\n",
    "sns.histplot(data = aux2[aux2['delta_days'] < days ], x = 'delta_sec', \n",
    "            kde = True, color = 'darkcyan'\n",
    "            )\n",
    "plt.show()"
   ]
  },
  {
   "cell_type": "code",
   "execution_count": null,
   "metadata": {
    "ExecuteTime": {
     "end_time": "2022-09-04T13:35:22.672373Z",
     "start_time": "2022-09-04T13:35:22.672357Z"
    },
    "hidden": true
   },
   "outputs": [],
   "source": [
    "# get 1% percentile\n",
    "# threshold = np.percentile(aux2['delta_days'], 1)\n",
    "aux4 = aux2[aux2['delta_days'] <= 1]\n",
    "# np.percentile(aux2['delta_sec'], 1)"
   ]
  },
  {
   "cell_type": "code",
   "execution_count": null,
   "metadata": {
    "ExecuteTime": {
     "end_time": "2022-09-04T13:35:22.674162Z",
     "start_time": "2022-09-04T13:35:22.674145Z"
    },
    "hidden": true
   },
   "outputs": [],
   "source": [
    "aux4['allow'].value_counts(dropna=False)"
   ]
  },
  {
   "cell_type": "code",
   "execution_count": null,
   "metadata": {
    "ExecuteTime": {
     "end_time": "2022-09-04T13:35:22.676073Z",
     "start_time": "2022-09-04T13:35:22.676044Z"
    },
    "hidden": true
   },
   "outputs": [],
   "source": [
    "aux4['order_bump_type'].value_counts(dropna=False)"
   ]
  },
  {
   "cell_type": "code",
   "execution_count": null,
   "metadata": {
    "ExecuteTime": {
     "end_time": "2022-09-04T13:35:22.678856Z",
     "start_time": "2022-09-04T13:35:22.678836Z"
    },
    "hidden": true
   },
   "outputs": [],
   "source": [
    "aux4['purchase_status'].value_counts(dropna=False)"
   ]
  },
  {
   "cell_type": "code",
   "execution_count": null,
   "metadata": {
    "ExecuteTime": {
     "end_time": "2022-09-04T13:35:22.680795Z",
     "start_time": "2022-09-04T13:35:22.680774Z"
    },
    "hidden": true
   },
   "outputs": [],
   "source": [
    "aux4['user_type'].value_counts(dropna=False)"
   ]
  },
  {
   "cell_type": "code",
   "execution_count": null,
   "metadata": {
    "ExecuteTime": {
     "end_time": "2022-09-04T13:35:22.682854Z",
     "start_time": "2022-09-04T13:35:22.682835Z"
    },
    "hidden": true
   },
   "outputs": [],
   "source": [
    "aux4['double_pur_stats'].value_counts(dropna=False)"
   ]
  },
  {
   "cell_type": "code",
   "execution_count": null,
   "metadata": {
    "ExecuteTime": {
     "end_time": "2022-09-04T13:35:22.684684Z",
     "start_time": "2022-09-04T13:35:22.684665Z"
    },
    "hidden": true
   },
   "outputs": [],
   "source": [
    "aux4['same_product'].value_counts(dropna=False)"
   ]
  },
  {
   "cell_type": "code",
   "execution_count": null,
   "metadata": {
    "ExecuteTime": {
     "end_time": "2022-09-04T13:35:22.686274Z",
     "start_time": "2022-09-04T13:35:22.686258Z"
    },
    "hidden": true
   },
   "outputs": [],
   "source": [
    "aux4['device'].value_counts(dropna=False)"
   ]
  },
  {
   "cell_type": "code",
   "execution_count": null,
   "metadata": {
    "ExecuteTime": {
     "end_time": "2022-09-04T13:35:22.687956Z",
     "start_time": "2022-09-04T13:35:22.687935Z"
    },
    "hidden": true
   },
   "outputs": [],
   "source": [
    "aux4['double_device'].value_counts(dropna=False)"
   ]
  },
  {
   "cell_type": "code",
   "execution_count": null,
   "metadata": {
    "ExecuteTime": {
     "end_time": "2022-09-04T13:35:22.689587Z",
     "start_time": "2022-09-04T13:35:22.689568Z"
    },
    "hidden": true
   },
   "outputs": [],
   "source": [
    "aux4['double_purchase_sale_type'].value_counts(dropna=False)"
   ]
  },
  {
   "cell_type": "code",
   "execution_count": null,
   "metadata": {
    "ExecuteTime": {
     "end_time": "2022-09-04T13:35:22.691751Z",
     "start_time": "2022-09-04T13:35:22.691731Z"
    },
    "hidden": true
   },
   "outputs": [],
   "source": [
    "aux4['purchase_sale_type'].value_counts(dropna=False)"
   ]
  },
  {
   "cell_type": "code",
   "execution_count": null,
   "metadata": {
    "ExecuteTime": {
     "end_time": "2022-09-04T13:35:22.693358Z",
     "start_time": "2022-09-04T13:35:22.693340Z"
    },
    "hidden": true
   },
   "outputs": [],
   "source": [
    "aux4['purchase_sale_type2'].value_counts(dropna=False)"
   ]
  },
  {
   "cell_type": "code",
   "execution_count": null,
   "metadata": {
    "ExecuteTime": {
     "end_time": "2022-09-04T13:35:22.695385Z",
     "start_time": "2022-09-04T13:35:22.695358Z"
    },
    "hidden": true
   },
   "outputs": [],
   "source": [
    "aux4['user_type'].value_counts(dropna=False)"
   ]
  },
  {
   "cell_type": "code",
   "execution_count": null,
   "metadata": {
    "ExecuteTime": {
     "end_time": "2022-09-04T13:35:22.697738Z",
     "start_time": "2022-09-04T13:35:22.697720Z"
    },
    "hidden": true
   },
   "outputs": [],
   "source": [
    "aux4['product_category'].value_counts(dropna=False)"
   ]
  },
  {
   "cell_type": "code",
   "execution_count": null,
   "metadata": {
    "ExecuteTime": {
     "end_time": "2022-09-04T13:35:22.699295Z",
     "start_time": "2022-09-04T13:35:22.699276Z"
    },
    "hidden": true,
    "scrolled": true
   },
   "outputs": [],
   "source": [
    "aux4[['purchase_id', 'purchase_id2', 'user_buyer_id', 'user_type', 'product_id', 'product_id2','same_product', 'order_purchase', 'order_release','purchase_status', 'purchase_status2','double_pur_stats', 'purchase_order_datetime','purchase_order_lag', 'delta_days', 'delta_sec']]"
   ]
  },
  {
   "cell_type": "code",
   "execution_count": null,
   "metadata": {
    "ExecuteTime": {
     "end_time": "2022-09-04T13:35:22.701386Z",
     "start_time": "2022-09-04T13:35:22.701370Z"
    },
    "hidden": true
   },
   "outputs": [],
   "source": [
    "orig_shape = len(df1)\n",
    "aux6 = aux4[['purchase_id2']].astype(int).drop_duplicates()\n",
    "aux6.columns = ['purchase_id']\n",
    "aux6['remove_first'] = 1\n",
    "df1 = df1.merge(aux6, how = 'left', on = 'purchase_id')\n",
    "df1 = df1[~(df1['remove_first'] == 1)].drop('remove_first', axis = 1)\n",
    "# check dataset shape and column names\n",
    "print(f'Outliers removed: {(orig_shape-len(df1)):,} ({((orig_shape-len(df1)) / orig_shape * 100):.2f}%) ')\n",
    "print(f'The dataset has {df1.shape[0]:,} rows and {df1.shape[1]} columns.')"
   ]
  },
  {
   "cell_type": "code",
   "execution_count": null,
   "metadata": {
    "ExecuteTime": {
     "end_time": "2022-09-04T13:35:22.703054Z",
     "start_time": "2022-09-04T13:35:22.703039Z"
    },
    "hidden": true
   },
   "outputs": [],
   "source": [
    "### get df\n",
    "aux1 = df1.copy()\n",
    "aux1['purchase_order_lag'] = aux1.sort_values('purchase_order_datetime').groupby('user_buyer_id')['purchase_order_datetime'].shift(-1)\n",
    "# calc delta\n",
    "aux2 = aux1[aux1['purchase_order_lag'].notnull()]\n",
    "aux2['delta_days'] = (aux2['purchase_order_lag'] - aux2['purchase_order_datetime']).dt.total_seconds() / 60 / 60 /24\n",
    "aux2['delta_sec'] = (aux2['purchase_order_lag'] - aux2['purchase_order_datetime']).dt.total_seconds() \n",
    "pd.concat([get_descriptive_statistics(aux2[['delta_days']]), get_descriptive_statistics(aux2[['delta_sec']])])"
   ]
  },
  {
   "cell_type": "code",
   "execution_count": null,
   "metadata": {
    "ExecuteTime": {
     "end_time": "2022-09-04T13:35:22.704761Z",
     "start_time": "2022-09-04T13:35:22.704746Z"
    },
    "hidden": true
   },
   "outputs": [],
   "source": [
    "minutes = 2\n",
    "sns.set_style('white')\n",
    "sns.histplot(data = aux2[aux2['delta_days'] < 30], x = 'delta_sec', \n",
    "            kde = True, color = 'darkcyan'\n",
    "            )\n",
    "plt.show()"
   ]
  },
  {
   "cell_type": "markdown",
   "metadata": {
    "heading_collapsed": true,
    "hidden": true
   },
   "source": [
    "### products with too high std and low purchase volume (keep - inconclusive)"
   ]
  },
  {
   "cell_type": "code",
   "execution_count": null,
   "metadata": {
    "ExecuteTime": {
     "end_time": "2022-09-04T13:35:22.706506Z",
     "start_time": "2022-09-04T13:35:22.706491Z"
    },
    "hidden": true
   },
   "outputs": [],
   "source": [
    "# get transactions by product\n",
    "aux1 = df1[['purchase_status', 'purchase_id', 'product_id']].groupby(['product_id', \n",
    "                                                               'purchase_status']).count().reset_index().pivot_table(values = 'purchase_id', \n",
    "                                                                                                                     index = 'product_id', \n",
    "                                                                                                                     columns = 'purchase_status').fillna(0)\n",
    "aux1['sum'] = aux1.sum(axis=1)\n",
    "# get gmv sum\n",
    "aux2 = df1[['gmv_value_brl', 'product_id']].groupby('product_id').sum().reset_index()\n",
    "aux1 = aux1.merge(aux2, how = 'left', on = 'product_id')\n",
    "aux1['sum_gmv_ratio'] = aux1.apply(lambda x : x['gmv_value_brl'] / x['sum'] if x['gmv_value_brl'] > 0 else 0, axis = 1)\n",
    "aux3 = df1[['gmv_value_brl', 'product_id']].groupby('product_id').agg(np.std).reset_index()\n",
    "aux3.columns = ['product_id', 'std']\n",
    "aux4 = df1[['gmv_value_brl', 'product_id']].groupby('product_id').agg([('min' , 'min'), ('max', 'max')]).reset_index()\n",
    "aux4.columns = ['product_id', 'min', 'max']\n",
    "aux4['range'] = aux4['max'] - aux4['min']\n",
    "aux1 = aux1.merge(aux3, how = 'left', on = 'product_id')\n",
    "aux1 = aux1.merge(aux4, how = 'left', on = 'product_id')[['product_id', 'std', 'sum', 'max', 'min', 'range']]\n",
    "df1 = df1.merge(aux1, how = 'left', on = 'product_id')\n",
    "# check dataset shape and column names\n",
    "print(f'The dataset has {df1.shape[0]:,} rows and {df1.shape[1]} columns.')"
   ]
  },
  {
   "cell_type": "code",
   "execution_count": null,
   "metadata": {
    "ExecuteTime": {
     "end_time": "2022-09-04T13:35:22.707893Z",
     "start_time": "2022-09-04T13:35:22.707876Z"
    },
    "hidden": true
   },
   "outputs": [],
   "source": [
    "pd.concat([get_descriptive_statistics(df1[df1['product_id'].duplicated(keep='first')][['std']]), get_descriptive_statistics(df1[df1['product_id'].duplicated(keep='first')][['sum']]),  get_descriptive_statistics(df1[df1['product_id'].duplicated(keep='first')][['min']])])"
   ]
  },
  {
   "cell_type": "code",
   "execution_count": null,
   "metadata": {
    "ExecuteTime": {
     "end_time": "2022-09-04T13:35:22.709428Z",
     "start_time": "2022-09-04T13:35:22.709409Z"
    },
    "hidden": true
   },
   "outputs": [],
   "source": [
    " \n",
    "sum1 = np.percentile(df1[df1['product_id'].duplicated(keep='first')][['sum']], 1)\n",
    "std99 = np.percentile(df1[df1['product_id'].duplicated(keep='first')][['std']], 95)\n",
    "min1 = np.percentile(df1[df1['product_id'].duplicated(keep='first')][['min']], 75)\n"
   ]
  },
  {
   "cell_type": "code",
   "execution_count": null,
   "metadata": {
    "ExecuteTime": {
     "end_time": "2022-09-04T13:35:22.711189Z",
     "start_time": "2022-09-04T13:35:22.711175Z"
    },
    "hidden": true
   },
   "outputs": [],
   "source": [
    "print(f\"Remove transactions with std above 95th percentile {std99:,.2f}, purchase vol below 1st percentile {sum1:,.2f}, and min gmv below 75th percentile {min1:,.4f}\")"
   ]
  },
  {
   "cell_type": "code",
   "execution_count": null,
   "metadata": {
    "ExecuteTime": {
     "end_time": "2022-09-04T13:35:22.713129Z",
     "start_time": "2022-09-04T13:35:22.713113Z"
    },
    "hidden": true,
    "scrolled": false
   },
   "outputs": [],
   "source": [
    "# df1[(df1['std'] >= std99) & (df1['sum'] <= sum1) & (df1['min'] <= min1)].sort_values(['std'], ascending=[False])[['product_id', 'purchase_id', 'user_buyer_id', 'gmv_value_brl', 'std', 'sum', 'max', 'min', 'range']].tail(50)"
   ]
  },
  {
   "cell_type": "code",
   "execution_count": null,
   "metadata": {
    "ExecuteTime": {
     "end_time": "2022-09-04T13:35:22.715068Z",
     "start_time": "2022-09-04T13:35:22.715050Z"
    },
    "hidden": true
   },
   "outputs": [],
   "source": [
    "# orig_shape = len(df1)\n",
    "# df1 = df1[~((df1['std'] >= std99) & (df1['sum'] <= sum1) & (df1['min'] <= min1))]\n",
    "# df1 = df1.drop(['std', 'sum', 'max', 'min', 'range'] , axis = 1)\n",
    "# # check dataset shape and column names\n",
    "# print(f'Outliers removed: {(orig_shape-len(df1)):,} ')\n",
    "# print(f'The dataset has {df1.shape[0]:,} rows and {df1.shape[1]} columns.')"
   ]
  },
  {
   "cell_type": "markdown",
   "metadata": {
    "heading_collapsed": true,
    "hidden": true
   },
   "source": [
    "### failed products - low GMV and transaction volume (keep - inconclusive)"
   ]
  },
  {
   "cell_type": "code",
   "execution_count": null,
   "metadata": {
    "ExecuteTime": {
     "end_time": "2022-09-04T13:35:22.716757Z",
     "start_time": "2022-09-04T13:35:22.716742Z"
    },
    "hidden": true
   },
   "outputs": [],
   "source": [
    "# get transactions by product\n",
    "aux1 = df1[['purchase_status', 'purchase_id', 'product_id']].groupby(['product_id', \n",
    "                                                               'purchase_status']).count().reset_index().pivot_table(values = 'purchase_id', \n",
    "                                                                                                                     index = 'product_id', \n",
    "                                                                                                                     columns = 'purchase_status').fillna(0)\n",
    "aux1['sum'] = aux1.sum(axis=1)\n",
    "# get gmv sum\n",
    "aux2 = df1[['gmv_value_brl', 'product_id']].groupby('product_id').sum().reset_index()\n",
    "aux1 = aux1.merge(aux2, how = 'left', on = 'product_id')\n",
    "aux1['sum_gmv_ratio'] = aux1.apply(lambda x : x['gmv_value_brl'] / x['sum'] if x['gmv_value_brl'] > 0 else 0, axis = 1)\n",
    "aux3 = df1[['gmv_value_brl', 'product_id']].groupby('product_id').agg(np.std).reset_index()\n",
    "aux3.columns = ['product_id', 'std']\n",
    "aux1 = aux1.merge(aux3, how = 'left', on = 'product_id')\n",
    "aux1['ticket'] = aux1['gmv_value_brl'] / aux1['sum'] \n",
    "get_descriptive_statistics(aux1)"
   ]
  },
  {
   "cell_type": "code",
   "execution_count": null,
   "metadata": {
    "ExecuteTime": {
     "end_time": "2022-09-04T13:35:22.718150Z",
     "start_time": "2022-09-04T13:35:22.718135Z"
    },
    "hidden": true
   },
   "outputs": [],
   "source": [
    "sum75 = np.percentile(aux1['sum'], 75)\n",
    "gmv10 = np.percentile(aux1['gmv_value_brl'], 10)"
   ]
  },
  {
   "cell_type": "code",
   "execution_count": null,
   "metadata": {
    "ExecuteTime": {
     "end_time": "2022-09-04T13:35:22.719714Z",
     "start_time": "2022-09-04T13:35:22.719697Z"
    },
    "hidden": true
   },
   "outputs": [],
   "source": [
    "print(f\"Remove products with transactions below {sum75:,.2f}, gmv below {gmv10:,.2f}\")"
   ]
  },
  {
   "cell_type": "code",
   "execution_count": null,
   "metadata": {
    "ExecuteTime": {
     "end_time": "2022-09-04T13:35:22.721465Z",
     "start_time": "2022-09-04T13:35:22.721449Z"
    },
    "hidden": true
   },
   "outputs": [],
   "source": [
    "# aux1.sort_values('ticket').head(50)"
   ]
  },
  {
   "cell_type": "code",
   "execution_count": null,
   "metadata": {
    "ExecuteTime": {
     "end_time": "2022-09-04T13:35:22.723053Z",
     "start_time": "2022-09-04T13:35:22.723035Z"
    },
    "hidden": true
   },
   "outputs": [],
   "source": [
    " \n",
    "aux1['remove'] = aux1.apply(lambda x : 1 if ((x['sum'] <= sum75) & (x['gmv_value_brl'] <= gmv10)) \n",
    "                            else 1 if x['ticket'] <= 0.1761 \n",
    "                            else 0,                      \n",
    "                            axis = 1)"
   ]
  },
  {
   "cell_type": "code",
   "execution_count": null,
   "metadata": {
    "ExecuteTime": {
     "end_time": "2022-09-04T13:35:22.725052Z",
     "start_time": "2022-09-04T13:35:22.725033Z"
    },
    "hidden": true
   },
   "outputs": [],
   "source": [
    "# aux1.sort_values(['ticket', 'gmv_value_brl'], ascending = [True, False]).head(50)"
   ]
  },
  {
   "cell_type": "code",
   "execution_count": null,
   "metadata": {
    "ExecuteTime": {
     "end_time": "2022-09-04T13:35:22.726811Z",
     "start_time": "2022-09-04T13:35:22.726793Z"
    },
    "hidden": true
   },
   "outputs": [],
   "source": [
    "##### ! products with purchase volume less than 75th percentile and generated gmv below 10th percentile mark\n",
    "aux1[(aux1['sum'] <= sum75) & (aux1['gmv_value_brl'] <= gmv10)]"
   ]
  },
  {
   "cell_type": "code",
   "execution_count": null,
   "metadata": {
    "ExecuteTime": {
     "end_time": "2022-09-04T13:35:22.728444Z",
     "start_time": "2022-09-04T13:35:22.728429Z"
    },
    "hidden": true
   },
   "outputs": [],
   "source": [
    "aux1.value_counts('remove')"
   ]
  },
  {
   "cell_type": "code",
   "execution_count": null,
   "metadata": {
    "ExecuteTime": {
     "end_time": "2022-09-04T13:35:22.730384Z",
     "start_time": "2022-09-04T13:35:22.730357Z"
    },
    "hidden": true
   },
   "outputs": [],
   "source": [
    "# orig_shape = len(df1)\n",
    "# df1 = df1.merge(aux1[aux1['remove'] == 0][['product_id']], how = 'inner', on = 'product_id')\n",
    "# # check dataset shape and column names\n",
    "# print(f'Outliers removed: {(orig_shape-len(df1)):,} ')\n",
    "# print(f'The dataset has {df1.shape[0]:,} rows and {df1.shape[1]} columns.')"
   ]
  },
  {
   "cell_type": "code",
   "execution_count": null,
   "metadata": {
    "hidden": true
   },
   "outputs": [],
   "source": []
  },
  {
   "cell_type": "markdown",
   "metadata": {
    "heading_collapsed": true,
    "id": "t_vBLb0yCJie"
   },
   "source": [
    "# STEP 02 - FEATURE ENGINEERING"
   ]
  },
  {
   "cell_type": "code",
   "execution_count": null,
   "metadata": {
    "ExecuteTime": {
     "end_time": "2022-09-04T13:35:22.732632Z",
     "start_time": "2022-09-04T13:35:22.732612Z"
    },
    "hidden": true
   },
   "outputs": [],
   "source": [
    "# print(f\"Total removed rows: {(count_df - len(df1)):,} {((count_df - len(df1)) / len(df1) * 100 ):.2f}%\")\n",
    "\n",
    "# # copy dataset\n",
    "# df2 = df1.copy()\n",
    "# df2.to_pickle('data/df2.pkl')\n",
    "# read pickle file as dataframe\n",
    "df2 = pd.read_pickle('data/df2.pkl')"
   ]
  },
  {
   "cell_type": "code",
   "execution_count": null,
   "metadata": {
    "ExecuteTime": {
     "end_time": "2022-09-04T13:35:22.735372Z",
     "start_time": "2022-09-04T13:35:22.735353Z"
    },
    "hidden": true,
    "id": "GAeFWc1kwxQX",
    "outputId": "bd9a9e4f-4ada-440e-f722-7f8e79519899",
    "scrolled": true
   },
   "outputs": [],
   "source": [
    "# check dtypes\n",
    "df2.dtypes"
   ]
  },
  {
   "cell_type": "code",
   "execution_count": null,
   "metadata": {
    "ExecuteTime": {
     "end_time": "2022-09-04T13:35:22.737408Z",
     "start_time": "2022-09-04T13:35:22.737389Z"
    },
    "hidden": true
   },
   "outputs": [],
   "source": [
    "df2.category.unique()"
   ]
  },
  {
   "cell_type": "code",
   "execution_count": null,
   "metadata": {
    "ExecuteTime": {
     "end_time": "2022-09-04T13:35:22.739876Z",
     "start_time": "2022-09-04T13:35:22.739855Z"
    },
    "hidden": true
   },
   "outputs": [],
   "source": [
    "# df2 = df2.drop(['std', 'sum', 'max',\n",
    "#        'min', 'range'], axis = 1)"
   ]
  },
  {
   "cell_type": "code",
   "execution_count": null,
   "metadata": {
    "ExecuteTime": {
     "end_time": "2022-09-04T13:35:22.741572Z",
     "start_time": "2022-09-04T13:35:22.741552Z"
    },
    "hidden": true
   },
   "outputs": [],
   "source": [
    "### count purchases per user\n",
    "aux1 = df2[['user_buyer_id', 'purchase_id']].groupby('user_buyer_id').count().reset_index()\n",
    "aux1.columns = ['user_buyer_id', 'no_repurchase']\n",
    "df2 = df2.merge(aux1, how = 'left', on = 'user_buyer_id')\n",
    "\n",
    "### flag repurchase\n",
    "df2['repurchase'] = df2['no_repurchase'].apply(lambda x : 'repurchase' if x != 1 else 'single-purchase')\n",
    "\n",
    "### flag whether a user repurchased from same producer at least once \n",
    "aux1 = df2[df2['repurchase'] == 'repurchase'][['purchase_id', 'producer_id', 'user_buyer_id']].groupby(['producer_id', 'user_buyer_id']).count().reset_index().reset_index()\n",
    "aux1['same_prod'] = aux1['purchase_id'].apply(lambda x : 'repurchased' if x > 1 else 'did not repurchase')\n",
    "# get users who repurchased from same producer\n",
    "aux2 = aux1[aux1['same_prod'] == 'repurchased'][['user_buyer_id']].drop_duplicates()\n",
    "aux2['repurchase_same_producer'] = 'same_producer_repurchase'\n",
    "# get users who did not repurchased\n",
    "df2 = df2.merge(aux2, how = 'left', on = 'user_buyer_id')\n",
    "df2.loc[df2['repurchase'] == 'single-purchase', 'repurchase_same_producer'] = 'no_repurchase'\n",
    "df2['repurchase_same_producer'] = df2['repurchase_same_producer'].fillna('diff_producer_repurchase')\n",
    "# get rank of purchases\n",
    "df2['order_purchase'] = df2.groupby(\"user_buyer_id\")[\"purchase_order_datetime\"].rank(method=\"first\", ascending=True)\n",
    "df2['order_release'] = df2.groupby(\"user_buyer_id\")[\"purchase_release_datetime\"].rank(method=\"first\", ascending=True)\n",
    "\n",
    "# flag producers with a single product\n",
    "aux1 = df2[['product_id', 'producer_id']].groupby('producer_id').nunique().reset_index()\n",
    "aux1.columns = ['producer_id', 'num_products_producer']\n",
    "df2 = df2.merge(aux1, how = 'left', on = 'producer_id')\n",
    "\n",
    "# get year-month purchase\n",
    "df2['year_month'] = df2['purchase_order_datetime'].astype(str).str[0:7]"
   ]
  },
  {
   "cell_type": "code",
   "execution_count": null,
   "metadata": {
    "ExecuteTime": {
     "end_time": "2022-09-04T13:35:22.743068Z",
     "start_time": "2022-09-04T13:35:22.743049Z"
    },
    "hidden": true
   },
   "outputs": [],
   "source": [
    "# new category ENG, SPARKLE removed\n",
    "df2['category_cleaned'] = df2['category'].map({\"ANIMAIS E  PETS\": \"Pets\", \n",
    "                                                 \"AUTOCONHECIMENTO E ESPIRITUALIDADE\": \"Self-awareness & Spirit\",\n",
    "                                                \"MODA E BELEZA\":\"Fashion & Beauty\",\n",
    "                                                \"SAÚDE E ESPORTES\":\"Health & Sports\",\n",
    "                                                 \"RELACIONAMENTOS\": \"Relationships\",\n",
    "                                                 \"CULINÁRIA E GASTRONOMIA\":\"Gastronomy\",\n",
    "                                                 \"HOBBIES E LAZER\":\"Hobbies & Leisure\",\n",
    "                                                 \"CARREIRA E DESENVOLVIMENTO PESSOAL\":\"Career & Personal Dev.\",\n",
    "                                                 \"ENSINO E ESTUDO ACADÊMICO\":\"Acad. Learning & Teaching\",\n",
    "                                                 \"DESIGN E FOTOGRAFIA\":\"Design & Photo\",\n",
    "                                                 \"MÚSICA E ARTES\":\"Music & Arts\",\n",
    "                                                 \"EDUCAÇÃO INFANTIL E FAMÍLIA\":\"Child Ed. & Family\",\n",
    "                                                 \"PLANTAS E ECOLOGIA\":\"Plants & Ecology\",\n",
    "                                                 \"FINANÇAS E NEGÓCIOS\": \"Business & Finance\",\n",
    "                                                 \"ENGENHARIA E ARQUITETURA\": \"Eng & Arch\",\n",
    "                                                 \"MANUTENÇÃO DE EQUIPAMENTOS\":\"Equipment Maintenance\",\n",
    "                                                 \"MARKETING E VENDAS\": \"MKT & Sales\",\n",
    "                                                 \"TECNOLOGIA E DESENVOLVIMENTO DE SOFTWARE\":\"Tech & Software Dev.\"\n",
    "                                            })"
   ]
  },
  {
   "cell_type": "markdown",
   "metadata": {
    "id": "X8YnjIYNCJl-"
   },
   "source": [
    "# STEP 03 - EXPLORATORY DATA ANALYSIS"
   ]
  },
  {
   "cell_type": "code",
   "execution_count": null,
   "metadata": {
    "ExecuteTime": {
     "end_time": "2022-09-15T12:04:07.953554Z",
     "start_time": "2022-09-15T12:03:52.608239Z"
    }
   },
   "outputs": [],
   "source": [
    "# ### copy dataset\n",
    "# df3 = df2.copy()\n",
    "# prod = pd.read_csv('data/producers_ltv.csv', delimiter=';')\n",
    "# prod.columns = ['producer_id', 'gmv_brl_exact', 'gmv_brl_entire', 'gmv_2021', 'gmv_2022']\n",
    "\n",
    "# # get gmv data\n",
    "# aux1 = df3[['producer_id']].drop_duplicates().merge(prod, how = 'left', on = 'producer_id')\n",
    "# aux1['gmv_2021'] = aux1['gmv_2021'].fillna(0) \n",
    "# aux1['gmv_2022'] = aux1['gmv_2022'].fillna(0)\n",
    "# aux1['mean_gmv_ltv'] = (aux1['gmv_2021'] + aux1['gmv_2022']) / 2\n",
    "# aux1['is_below_10_exact'] = aux1['gmv_brl_exact'].apply(lambda x : 'above' if x >= 10000 else 'below') ## gmv made during the study period\n",
    "# aux1['is_below_10_entire'] = aux1['gmv_brl_entire'].apply(lambda x : 'above' if x >= 10000 else 'below')  ## gmv done during entire lifetime\n",
    "# aux1['is_below_10_mean'] = aux1['mean_gmv_ltv'].apply(lambda x : 'above' if x >= 10000 else 'below') ## mean gmv made in 21/22\n",
    "# # merge\n",
    "# df3 = df3.merge(aux1, on = 'producer_id', how = 'left')\n",
    "\n",
    "# df3.to_pickle('data/df3.pkl')\n",
    "\n",
    "# # read pickle file as dataframe\n",
    "df3 = pd.read_pickle('data/df3.pkl')"
   ]
  },
  {
   "cell_type": "code",
   "execution_count": null,
   "metadata": {
    "ExecuteTime": {
     "end_time": "2022-09-15T12:04:08.181872Z",
     "start_time": "2022-09-15T12:04:07.962225Z"
    }
   },
   "outputs": [],
   "source": [
    "df3['purchase_order_datetime'].min()"
   ]
  },
  {
   "cell_type": "code",
   "execution_count": null,
   "metadata": {
    "ExecuteTime": {
     "end_time": "2022-09-15T12:04:08.202863Z",
     "start_time": "2022-09-15T12:04:08.183971Z"
    }
   },
   "outputs": [],
   "source": [
    "df3['purchase_order_datetime'].max()"
   ]
  },
  {
   "cell_type": "code",
   "execution_count": null,
   "metadata": {
    "ExecuteTime": {
     "end_time": "2022-09-02T15:08:42.889583Z",
     "start_time": "2022-09-02T15:08:42.886642Z"
    }
   },
   "outputs": [],
   "source": [
    "## remove spines\n",
    "# splot.spines['right'].set_visible(False)\n",
    "# splot.spines['top'].set_visible(False)\n",
    "# splot.spines['left'].set_visible(False)\n",
    "# splot.spines['bottom'].set_visible(False)\n",
    "# splot.axes.get_xaxis().set_visible(False)\n",
    "# splot.axes.get_yaxis().set_visible(False)\n",
    "# plt.yticks(fontsize =16)  "
   ]
  },
  {
   "cell_type": "markdown",
   "metadata": {
    "heading_collapsed": true
   },
   "source": [
    "## Univariates (Sanity Checks)"
   ]
  },
  {
   "cell_type": "code",
   "execution_count": null,
   "metadata": {
    "ExecuteTime": {
     "end_time": "2022-08-22T12:13:18.109012Z",
     "start_time": "2022-08-22T12:13:14.682804Z"
    },
    "hidden": true
   },
   "outputs": [],
   "source": [
    "print(f\"Users: {df3['user_buyer_id'].nunique():,}\")  \n",
    "print(f\"Purchases: {df3['purchase_id'].nunique():,}\")  \n",
    "print(f\"Products: {df3['product_id'].nunique():,}\")  \n",
    "print(f\"Producers: {df3['producer_id'].nunique():,}\")  \n",
    "print(f\"MKT CATEGORIES: {df3['category'].nunique():,}\")  "
   ]
  },
  {
   "cell_type": "markdown",
   "metadata": {
    "heading_collapsed": true,
    "hidden": true
   },
   "source": [
    "### Customer Country (TOP 10): Num. of Customers"
   ]
  },
  {
   "cell_type": "code",
   "execution_count": null,
   "metadata": {
    "ExecuteTime": {
     "end_time": "2022-08-22T12:13:35.861511Z",
     "start_time": "2022-08-22T12:13:18.112253Z"
    },
    "hidden": true
   },
   "outputs": [],
   "source": [
    "# get top 10 countries \n",
    "top10 = list(df3[['user_country', 'purchase_id']].groupby('user_country').count().reset_index().sort_values('purchase_id', ascending=False)['user_country'][0:10])\n",
    "plt.figure(figsize = (30,10))\n",
    "# get vol of users with purchase\n",
    "aux1 = df3[['user_country', 'user_buyer_id']].groupby('user_country').nunique().reset_index()\n",
    "aux1['%'] = aux1['user_buyer_id'] / aux1['user_buyer_id'].sum() * 100\n",
    "aux1 = aux1.sort_values('%', ascending=False)[0:10]\n",
    "# plot graph with annotations\n",
    "sns.set_style('white')\n",
    "splot = sns.barplot(y = 'user_country', x = '%', data = aux1, palette = palette_topics, order = aux1.sort_values('%', ascending=False)['user_country']);\n",
    "\n",
    "for p in splot.patches:\n",
    "    splot.annotate(\"%.2f\" % p.get_width(), xy=(p.get_width(), p.get_y()+p.get_height()/2),\n",
    "                   xytext=(5,0), textcoords='offset points', ha='left', va='center')\n",
    "plt.title(f\" Users: {(aux1['user_buyer_id'].sum()):,}\")\n",
    "plt.yticks(fontsize =16)\n",
    "plt.xlabel(\"%\")\n",
    "plt.ylabel(\"\")\n",
    "plt.xlim(0, 110)\n",
    "plt.show()"
   ]
  },
  {
   "cell_type": "markdown",
   "metadata": {
    "heading_collapsed": true,
    "hidden": true
   },
   "source": [
    "### Customer Country (TOP 10): Num of transactions (based on customer country)"
   ]
  },
  {
   "cell_type": "code",
   "execution_count": null,
   "metadata": {
    "ExecuteTime": {
     "end_time": "2022-08-22T12:13:38.863774Z",
     "start_time": "2022-08-22T12:13:35.864731Z"
    },
    "hidden": true
   },
   "outputs": [],
   "source": [
    "# get top 10 countries \n",
    "plt.figure(figsize = (30,10))\n",
    "# get vol of users with purchase\n",
    "aux1 = df3[['user_country', 'purchase_id']].groupby('user_country').nunique().reset_index()\n",
    "aux1['%'] = aux1['purchase_id'] / aux1['purchase_id'].sum() * 100\n",
    "aux1 = aux1.sort_values('%', ascending=False)[0:10]\n",
    "# plot graph with annotations\n",
    "sns.set_style('white')\n",
    "splot = sns.barplot(y = 'user_country', x = '%', data = aux1, palette = palette_topics, order = aux1.sort_values('%', ascending=False)['user_country']);\n",
    "\n",
    "for p in splot.patches:\n",
    "    splot.annotate(\"%.2f\" % p.get_width(), xy=(p.get_width(), p.get_y()+p.get_height()/2),\n",
    "                   xytext=(5,0), textcoords='offset points', ha='left', va='center')\n",
    "plt.title(f\" Transactions: {(aux1['purchase_id'].sum()):,}\")\n",
    "plt.yticks(fontsize =16)\n",
    "plt.xlabel(\"%\")\n",
    "plt.ylabel(\"\")\n",
    "plt.xlim(0, 110)\n",
    "plt.show()"
   ]
  },
  {
   "cell_type": "markdown",
   "metadata": {
    "heading_collapsed": true,
    "hidden": true
   },
   "source": [
    "### Producer Office: Num of Customers"
   ]
  },
  {
   "cell_type": "code",
   "execution_count": null,
   "metadata": {
    "ExecuteTime": {
     "end_time": "2022-08-22T12:13:42.188492Z",
     "start_time": "2022-08-22T12:13:38.866883Z"
    },
    "hidden": true
   },
   "outputs": [],
   "source": [
    "# get top 10 countries \n",
    "plt.figure(figsize = (30,10))\n",
    "# get vol of users with purchase\n",
    "aux1 = df3[['user_office_name', 'user_buyer_id']].groupby('user_office_name').nunique().reset_index()\n",
    "aux1['%'] = aux1['user_buyer_id'] / aux1['user_buyer_id'].sum() * 100\n",
    "aux1 = aux1.sort_values('%', ascending=False)\n",
    "# plot graph with annotations\n",
    "sns.set_style('white')\n",
    "splot = sns.barplot(y = 'user_office_name', x = '%', data = aux1, palette = palette_topics, order = aux1.sort_values('%', ascending=False)['user_office_name']);\n",
    "\n",
    "for p in splot.patches:\n",
    "    splot.annotate(\"%.2f\" % p.get_width(), xy=(p.get_width(), p.get_y()+p.get_height()/2),\n",
    "                   xytext=(5,0), textcoords='offset points', ha='left', va='center')\n",
    "plt.title(f\" Customers: {(aux1['user_buyer_id'].sum()):,}\")\n",
    "plt.yticks(fontsize =16)\n",
    "plt.xlabel(\"%\")\n",
    "plt.ylabel(\"\")\n",
    "plt.xlim(0, 110)\n",
    "plt.show()"
   ]
  },
  {
   "cell_type": "code",
   "execution_count": null,
   "metadata": {
    "ExecuteTime": {
     "end_time": "2022-09-06T13:49:32.771642Z",
     "start_time": "2022-09-06T13:49:32.767282Z"
    },
    "hidden": true
   },
   "outputs": [],
   "source": [
    "0.0059 * 6636573 * 0.086"
   ]
  },
  {
   "cell_type": "markdown",
   "metadata": {
    "heading_collapsed": true,
    "hidden": true
   },
   "source": [
    "### Producer Office: Num of producers"
   ]
  },
  {
   "cell_type": "code",
   "execution_count": null,
   "metadata": {
    "ExecuteTime": {
     "end_time": "2022-08-22T12:13:43.399715Z",
     "start_time": "2022-08-22T12:13:42.190702Z"
    },
    "hidden": true
   },
   "outputs": [],
   "source": [
    "# get top 10 countries \n",
    "plt.figure(figsize = (30,10))\n",
    "# get vol of users with purchase\n",
    "aux1 = df3[['user_office_name', 'producer_id']].groupby('user_office_name').nunique().reset_index()\n",
    "aux1['%'] = aux1['producer_id'] / aux1['producer_id'].sum() * 100\n",
    "aux1 = aux1.sort_values('%', ascending=False)\n",
    "# plot graph with annotations\n",
    "sns.set_style('white')\n",
    "splot = sns.barplot(y = 'user_office_name', x = '%', data = aux1, palette = palette_topics, order = aux1.sort_values('%', ascending=False)['user_office_name']);\n",
    "\n",
    "for p in splot.patches:\n",
    "    splot.annotate(\"%.2f\" % p.get_width(), xy=(p.get_width(), p.get_y()+p.get_height()/2),\n",
    "                   xytext=(5,0), textcoords='offset points', ha='left', va='center')\n",
    "plt.title(f\" Num Producers: {(aux1['producer_id'].sum()):,}\")\n",
    "plt.yticks(fontsize =16)\n",
    "plt.xlabel(\"%\")\n",
    "plt.ylabel(\"\")\n",
    "plt.xlim(0, 110)\n",
    "plt.show()"
   ]
  },
  {
   "cell_type": "markdown",
   "metadata": {
    "heading_collapsed": true,
    "hidden": true
   },
   "source": [
    "### Producer Office: Num of transactions"
   ]
  },
  {
   "cell_type": "code",
   "execution_count": null,
   "metadata": {
    "ExecuteTime": {
     "end_time": "2022-08-22T12:13:45.742147Z",
     "start_time": "2022-08-22T12:13:43.401681Z"
    },
    "hidden": true,
    "scrolled": false
   },
   "outputs": [],
   "source": [
    "# get top 10 countries \n",
    "plt.figure(figsize = (30,10))\n",
    "# get vol of users with purchase\n",
    "aux1 = df3[['user_office_name', 'purchase_id']].groupby('user_office_name').nunique().reset_index()\n",
    "aux1['%'] = aux1['purchase_id'] / aux1['purchase_id'].sum() * 100\n",
    "aux1 = aux1.sort_values('%', ascending=False)\n",
    "# plot graph with annotations\n",
    "sns.set_style('white')\n",
    "splot = sns.barplot(y = 'user_office_name', x = '%', data = aux1, palette = palette_topics, order = aux1.sort_values('%', ascending=False)['user_office_name']);\n",
    "\n",
    "for p in splot.patches:\n",
    "    splot.annotate(\"%.2f\" % p.get_width(), xy=(p.get_width(), p.get_y()+p.get_height()/2),\n",
    "                   xytext=(5,0), textcoords='offset points', ha='left', va='center')\n",
    "plt.title(f\" Transaction Volume: {(aux1['purchase_id'].sum()):,}\")\n",
    "plt.yticks(fontsize =16)\n",
    "plt.xlabel(\"%\")\n",
    "plt.ylabel(\"\")\n",
    "plt.xlim(0, 110)\n",
    "plt.show()"
   ]
  },
  {
   "cell_type": "markdown",
   "metadata": {
    "heading_collapsed": true,
    "hidden": true
   },
   "source": [
    "### Product Category: Num of transactions"
   ]
  },
  {
   "cell_type": "code",
   "execution_count": null,
   "metadata": {
    "ExecuteTime": {
     "end_time": "2022-08-22T12:13:48.284406Z",
     "start_time": "2022-08-22T12:13:45.745086Z"
    },
    "hidden": true
   },
   "outputs": [],
   "source": [
    "# get top 10 countries \n",
    "plt.figure(figsize = (30,10))\n",
    "# get vol of users with purchase\n",
    "aux1 = df3[['category_cleaned', 'purchase_id']].groupby('category_cleaned').nunique().reset_index()\n",
    "aux1['%'] = aux1['purchase_id'] / aux1['purchase_id'].sum() * 100\n",
    "aux1 = aux1.sort_values('%', ascending=False)\n",
    "# plot graph with annotations\n",
    "sns.set_style('white')\n",
    "splot = sns.barplot(y = 'category_cleaned', x = '%', data = aux1, palette = palette_topics, order = aux1.sort_values('%', ascending=False)['category_cleaned']);\n",
    "\n",
    "for p in splot.patches:\n",
    "    splot.annotate(\"%.2f\" % p.get_width(), xy=(p.get_width(), p.get_y()+p.get_height()/2),\n",
    "                   xytext=(5,0), textcoords='offset points', ha='left', va='center')\n",
    "plt.title(f\" Num transactions: {(aux1['purchase_id'].sum()):,}\")\n",
    "plt.yticks(fontsize =16)\n",
    "plt.xlabel(\"%\")\n",
    "plt.ylabel(\"\")\n",
    "plt.xlim(0, 110)\n",
    "plt.show()"
   ]
  },
  {
   "cell_type": "markdown",
   "metadata": {
    "heading_collapsed": true,
    "hidden": true
   },
   "source": [
    "### Product Category: Num of transactions, by office"
   ]
  },
  {
   "cell_type": "code",
   "execution_count": null,
   "metadata": {
    "ExecuteTime": {
     "end_time": "2022-09-08T18:46:02.929456Z",
     "start_time": "2022-09-08T18:45:52.640354Z"
    },
    "hidden": true
   },
   "outputs": [],
   "source": [
    "country = 'BRAZIL'\n",
    "# get top 10 countries \n",
    "plt.figure(figsize = (30,10))\n",
    "# get vol of users with purchase\n",
    "aux1 = df3[df3['user_office_name'] == country][['category_cleaned', 'purchase_id']].groupby('category_cleaned').nunique().reset_index()\n",
    "aux1['%'] = aux1['purchase_id'] / aux1['purchase_id'].sum() * 100\n",
    "aux1 = aux1.sort_values('%', ascending=False)\n",
    "# plot graph with annotations\n",
    "sns.set_style('white')\n",
    "splot = sns.barplot(y = 'category_cleaned', x = '%', data = aux1, palette = palette_topics, order = aux1.sort_values('%', ascending=False)['category_cleaned']);\n",
    "\n",
    "for p in splot.patches:\n",
    "    splot.annotate(\"%.2f\" % p.get_width(), xy=(p.get_width(), p.get_y()+p.get_height()/2),\n",
    "                   xytext=(5,0), textcoords='offset points', ha='left', va='center')\n",
    "plt.title(f\"{country} |  Num transactions: {(aux1['purchase_id'].sum()):,}\")\n",
    "plt.yticks(fontsize =16)\n",
    "plt.xlabel(\"%\")\n",
    "plt.ylabel(\"\")\n",
    "plt.xlim(0, 110)\n",
    "plt.show()"
   ]
  },
  {
   "cell_type": "code",
   "execution_count": null,
   "metadata": {
    "ExecuteTime": {
     "end_time": "2022-09-08T18:46:07.355962Z",
     "start_time": "2022-09-08T18:46:05.092724Z"
    },
    "hidden": true
   },
   "outputs": [],
   "source": [
    "country = 'COLOMBIA'\n",
    "# get top 10 countries \n",
    "plt.figure(figsize = (30,10))\n",
    "# get vol of users with purchase\n",
    "aux1 = df3[df3['user_office_name'] == country][['category_cleaned', 'purchase_id']].groupby('category_cleaned').nunique().reset_index()\n",
    "aux1['%'] = aux1['purchase_id'] / aux1['purchase_id'].sum() * 100\n",
    "aux1 = aux1.sort_values('%', ascending=False)\n",
    "# plot graph with annotations\n",
    "sns.set_style('white')\n",
    "splot = sns.barplot(y = 'category_cleaned', x = '%', data = aux1, palette = palette_topics, order = aux1.sort_values('%', ascending=False)['category_cleaned']);\n",
    "\n",
    "for p in splot.patches:\n",
    "    splot.annotate(\"%.2f\" % p.get_width(), xy=(p.get_width(), p.get_y()+p.get_height()/2),\n",
    "                   xytext=(5,0), textcoords='offset points', ha='left', va='center')\n",
    "plt.title(f\"{country} |  Num transactions: {(aux1['purchase_id'].sum()):,}\")\n",
    "plt.yticks(fontsize =16)\n",
    "plt.xlabel(\"%\")\n",
    "plt.ylabel(\"\")\n",
    "plt.xlim(0, 110)\n",
    "plt.show()"
   ]
  },
  {
   "cell_type": "code",
   "execution_count": null,
   "metadata": {
    "ExecuteTime": {
     "end_time": "2022-09-08T18:46:38.149547Z",
     "start_time": "2022-09-08T18:46:37.365089Z"
    },
    "hidden": true
   },
   "outputs": [],
   "source": [
    "country = 'MEXICO'\n",
    "# get top 10 countries \n",
    "plt.figure(figsize = (30,10))\n",
    "# get vol of users with purchase\n",
    "aux1 = df3[df3['user_office_name'] == country][['category_cleaned', 'purchase_id']].groupby('category_cleaned').nunique().reset_index()\n",
    "aux1['%'] = aux1['purchase_id'] / aux1['purchase_id'].sum() * 100\n",
    "aux1 = aux1.sort_values('%', ascending=False)\n",
    "# plot graph with annotations\n",
    "sns.set_style('white')\n",
    "splot = sns.barplot(y = 'category_cleaned', x = '%', data = aux1, palette = palette_topics, order = aux1.sort_values('%', ascending=False)['category_cleaned']);\n",
    "\n",
    "for p in splot.patches:\n",
    "    splot.annotate(\"%.2f\" % p.get_width(), xy=(p.get_width(), p.get_y()+p.get_height()/2),\n",
    "                   xytext=(5,0), textcoords='offset points', ha='left', va='center')\n",
    "plt.title(f\"{country} |  Num transactions: {(aux1['purchase_id'].sum()):,}\")\n",
    "plt.yticks(fontsize =16)\n",
    "plt.xlabel(\"%\")\n",
    "plt.ylabel(\"\")\n",
    "plt.xlim(0, 110)\n",
    "plt.show()"
   ]
  },
  {
   "cell_type": "code",
   "execution_count": null,
   "metadata": {
    "ExecuteTime": {
     "end_time": "2022-09-08T18:46:38.149547Z",
     "start_time": "2022-09-08T18:46:37.365089Z"
    },
    "hidden": true
   },
   "outputs": [],
   "source": [
    "country = 'SPAIN'\n",
    "# get top 10 countries \n",
    "plt.figure(figsize = (30,10))\n",
    "# get vol of users with purchase\n",
    "aux1 = df3[df3['user_office_name'] == country][['category_cleaned', 'purchase_id']].groupby('category_cleaned').nunique().reset_index()\n",
    "aux1['%'] = aux1['purchase_id'] / aux1['purchase_id'].sum() * 100\n",
    "aux1 = aux1.sort_values('%', ascending=False)\n",
    "# plot graph with annotations\n",
    "sns.set_style('white')\n",
    "splot = sns.barplot(y = 'category_cleaned', x = '%', data = aux1, palette = palette_topics, order = aux1.sort_values('%', ascending=False)['category_cleaned']);\n",
    "\n",
    "for p in splot.patches:\n",
    "    splot.annotate(\"%.2f\" % p.get_width(), xy=(p.get_width(), p.get_y()+p.get_height()/2),\n",
    "                   xytext=(5,0), textcoords='offset points', ha='left', va='center')\n",
    "plt.title(f\"{country} |  Num transactions: {(aux1['purchase_id'].sum()):,}\")\n",
    "plt.yticks(fontsize =16)\n",
    "plt.xlabel(\"%\")\n",
    "plt.ylabel(\"\")\n",
    "plt.xlim(0, 110)\n",
    "plt.show()"
   ]
  },
  {
   "cell_type": "code",
   "execution_count": null,
   "metadata": {
    "ExecuteTime": {
     "end_time": "2022-09-08T18:46:38.149547Z",
     "start_time": "2022-09-08T18:46:37.365089Z"
    },
    "hidden": true
   },
   "outputs": [],
   "source": [
    "country = 'USA'\n",
    "# get top 10 countries \n",
    "plt.figure(figsize = (30,10))\n",
    "# get vol of users with purchase\n",
    "aux1 = df3[df3['user_office_name'] == country][['category_cleaned', 'purchase_id']].groupby('category_cleaned').nunique().reset_index()\n",
    "aux1['%'] = aux1['purchase_id'] / aux1['purchase_id'].sum() * 100\n",
    "aux1 = aux1.sort_values('%', ascending=False)\n",
    "# plot graph with annotations\n",
    "sns.set_style('white')\n",
    "splot = sns.barplot(y = 'category_cleaned', x = '%', data = aux1, palette = palette_topics, order = aux1.sort_values('%', ascending=False)['category_cleaned']);\n",
    "\n",
    "for p in splot.patches:\n",
    "    splot.annotate(\"%.2f\" % p.get_width(), xy=(p.get_width(), p.get_y()+p.get_height()/2),\n",
    "                   xytext=(5,0), textcoords='offset points', ha='left', va='center')\n",
    "plt.title(f\"{country} |  Num transactions: {(aux1['purchase_id'].sum()):,}\")\n",
    "plt.yticks(fontsize =16)\n",
    "plt.xlabel(\"%\")\n",
    "plt.ylabel(\"\")\n",
    "plt.xlim(0, 110)\n",
    "plt.show()"
   ]
  },
  {
   "cell_type": "code",
   "execution_count": null,
   "metadata": {
    "ExecuteTime": {
     "end_time": "2022-09-08T18:46:38.149547Z",
     "start_time": "2022-09-08T18:46:37.365089Z"
    },
    "hidden": true
   },
   "outputs": [],
   "source": [
    "country = 'AMSTERDAM'\n",
    "# get top 10 countries \n",
    "plt.figure(figsize = (30,10))\n",
    "# get vol of users with purchase\n",
    "aux1 = df3[df3['user_office_name'] == country][['category_cleaned', 'purchase_id']].groupby('category_cleaned').nunique().reset_index()\n",
    "aux1['%'] = aux1['purchase_id'] / aux1['purchase_id'].sum() * 100\n",
    "aux1 = aux1.sort_values('%', ascending=False)\n",
    "# plot graph with annotations\n",
    "sns.set_style('white')\n",
    "splot = sns.barplot(y = 'category_cleaned', x = '%', data = aux1, palette = palette_topics, order = aux1.sort_values('%', ascending=False)['category_cleaned']);\n",
    "\n",
    "for p in splot.patches:\n",
    "    splot.annotate(\"%.2f\" % p.get_width(), xy=(p.get_width(), p.get_y()+p.get_height()/2),\n",
    "                   xytext=(5,0), textcoords='offset points', ha='left', va='center')\n",
    "plt.title(f\"{country} |  Num transactions: {(aux1['purchase_id'].sum()):,}\")\n",
    "plt.yticks(fontsize =16)\n",
    "plt.xlabel(\"%\")\n",
    "plt.ylabel(\"\")\n",
    "plt.xlim(0, 110)\n",
    "plt.show()"
   ]
  },
  {
   "cell_type": "markdown",
   "metadata": {
    "heading_collapsed": true,
    "hidden": true
   },
   "source": [
    "### Product Category: Num of transactions, by segment"
   ]
  },
  {
   "cell_type": "code",
   "execution_count": null,
   "metadata": {
    "ExecuteTime": {
     "end_time": "2022-09-08T19:09:17.731847Z",
     "start_time": "2022-09-08T19:09:14.857544Z"
    },
    "hidden": true
   },
   "outputs": [],
   "source": [
    "segment = 'SEED'\n",
    "# get top 10 countries \n",
    "plt.figure(figsize = (30,10))\n",
    "# get vol of users with purchase\n",
    "aux1 = df3[df3['segment'] == segment][['category_cleaned', 'purchase_id']].groupby('category_cleaned').nunique().reset_index()\n",
    "aux1['%'] = aux1['purchase_id'] / aux1['purchase_id'].sum() * 100\n",
    "aux1 = aux1.sort_values('%', ascending=False)\n",
    "# plot graph with annotations\n",
    "sns.set_style('white')\n",
    "splot = sns.barplot(y = 'category_cleaned', x = '%', data = aux1, palette = palette_topics, order = aux1.sort_values('%', ascending=False)['category_cleaned']);\n",
    "\n",
    "for p in splot.patches:\n",
    "    splot.annotate(\"%.2f\" % p.get_width(), xy=(p.get_width(), p.get_y()+p.get_height()/2),\n",
    "                   xytext=(5,0), textcoords='offset points', ha='left', va='center')\n",
    "plt.title(f\"{segment} |  Num transactions: {(aux1['purchase_id'].sum()):,}\")\n",
    "plt.yticks(fontsize =16)\n",
    "plt.xlabel(\"%\")\n",
    "plt.ylabel(\"\")\n",
    "plt.xlim(0, 110)\n",
    "plt.show()"
   ]
  },
  {
   "cell_type": "code",
   "execution_count": null,
   "metadata": {
    "ExecuteTime": {
     "end_time": "2022-09-08T19:09:35.819502Z",
     "start_time": "2022-09-08T19:09:31.082362Z"
    },
    "hidden": true
   },
   "outputs": [],
   "source": [
    "segment = 'SMALL'\n",
    "# get top 10 countries \n",
    "plt.figure(figsize = (30,10))\n",
    "# get vol of users with purchase\n",
    "aux1 = df3[df3['segment'] == segment][['category_cleaned', 'purchase_id']].groupby('category_cleaned').nunique().reset_index()\n",
    "aux1['%'] = aux1['purchase_id'] / aux1['purchase_id'].sum() * 100\n",
    "aux1 = aux1.sort_values('%', ascending=False)\n",
    "# plot graph with annotations\n",
    "sns.set_style('white')\n",
    "splot = sns.barplot(y = 'category_cleaned', x = '%', data = aux1, palette = palette_topics, order = aux1.sort_values('%', ascending=False)['category_cleaned']);\n",
    "\n",
    "for p in splot.patches:\n",
    "    splot.annotate(\"%.2f\" % p.get_width(), xy=(p.get_width(), p.get_y()+p.get_height()/2),\n",
    "                   xytext=(5,0), textcoords='offset points', ha='left', va='center')\n",
    "plt.title(f\"{segment} |  Num transactions: {(aux1['purchase_id'].sum()):,}\")\n",
    "plt.yticks(fontsize =16)\n",
    "plt.xlabel(\"%\")\n",
    "plt.ylabel(\"\")\n",
    "plt.xlim(0, 110)\n",
    "plt.show()"
   ]
  },
  {
   "cell_type": "code",
   "execution_count": null,
   "metadata": {
    "ExecuteTime": {
     "end_time": "2022-09-08T19:09:35.819502Z",
     "start_time": "2022-09-08T19:09:31.082362Z"
    },
    "hidden": true
   },
   "outputs": [],
   "source": [
    "segment = 'MEDIUM'\n",
    "# get top 10 countries \n",
    "plt.figure(figsize = (30,10))\n",
    "# get vol of users with purchase\n",
    "aux1 = df3[df3['segment'] == segment][['category_cleaned', 'purchase_id']].groupby('category_cleaned').nunique().reset_index()\n",
    "aux1['%'] = aux1['purchase_id'] / aux1['purchase_id'].sum() * 100\n",
    "aux1 = aux1.sort_values('%', ascending=False)\n",
    "# plot graph with annotations\n",
    "sns.set_style('white')\n",
    "splot = sns.barplot(y = 'category_cleaned', x = '%', data = aux1, palette = palette_topics, order = aux1.sort_values('%', ascending=False)['category_cleaned']);\n",
    "\n",
    "for p in splot.patches:\n",
    "    splot.annotate(\"%.2f\" % p.get_width(), xy=(p.get_width(), p.get_y()+p.get_height()/2),\n",
    "                   xytext=(5,0), textcoords='offset points', ha='left', va='center')\n",
    "plt.title(f\"{segment} |  Num transactions: {(aux1['purchase_id'].sum()):,}\")\n",
    "plt.yticks(fontsize =16)\n",
    "plt.xlabel(\"%\")\n",
    "plt.ylabel(\"\")\n",
    "plt.xlim(0, 110)\n",
    "plt.show()"
   ]
  },
  {
   "cell_type": "code",
   "execution_count": null,
   "metadata": {
    "ExecuteTime": {
     "end_time": "2022-09-08T19:09:35.819502Z",
     "start_time": "2022-09-08T19:09:31.082362Z"
    },
    "hidden": true
   },
   "outputs": [],
   "source": [
    "segment = 'LARGE'\n",
    "# get top 10 countries \n",
    "plt.figure(figsize = (30,10))\n",
    "# get vol of users with purchase\n",
    "aux1 = df3[df3['segment'] == segment][['category_cleaned', 'purchase_id']].groupby('category_cleaned').nunique().reset_index()\n",
    "aux1['%'] = aux1['purchase_id'] / aux1['purchase_id'].sum() * 100\n",
    "aux1 = aux1.sort_values('%', ascending=False)\n",
    "# plot graph with annotations\n",
    "sns.set_style('white')\n",
    "splot = sns.barplot(y = 'category_cleaned', x = '%', data = aux1, palette = palette_topics, order = aux1.sort_values('%', ascending=False)['category_cleaned']);\n",
    "\n",
    "for p in splot.patches:\n",
    "    splot.annotate(\"%.2f\" % p.get_width(), xy=(p.get_width(), p.get_y()+p.get_height()/2),\n",
    "                   xytext=(5,0), textcoords='offset points', ha='left', va='center')\n",
    "plt.title(f\"{segment} |  Num transactions: {(aux1['purchase_id'].sum()):,}\")\n",
    "plt.yticks(fontsize =16)\n",
    "plt.xlabel(\"%\")\n",
    "plt.ylabel(\"\")\n",
    "plt.xlim(0, 110)\n",
    "plt.show()"
   ]
  },
  {
   "cell_type": "markdown",
   "metadata": {
    "heading_collapsed": true,
    "hidden": true
   },
   "source": [
    "### Product Category: Num of customers"
   ]
  },
  {
   "cell_type": "code",
   "execution_count": null,
   "metadata": {
    "ExecuteTime": {
     "end_time": "2022-09-06T19:59:33.454187Z",
     "start_time": "2022-09-06T19:59:29.282181Z"
    },
    "hidden": true
   },
   "outputs": [],
   "source": [
    "# get top 10 countries \n",
    "plt.figure(figsize = (30,10))\n",
    "# get vol of users with purchase\n",
    "aux1 = df3[['category_cleaned', 'user_buyer_id']].groupby('category_cleaned').nunique().reset_index()\n",
    "aux1['%'] = aux1['user_buyer_id'] / aux1['user_buyer_id'].sum() * 100\n",
    "aux1 = aux1.sort_values('%', ascending=False)\n",
    "# plot graph with annotations\n",
    "sns.set_style('white')\n",
    "splot = sns.barplot(y = 'category_cleaned', x = '%', data = aux1, palette = palette_topics, order = aux1.sort_values('%', ascending=False)['category_cleaned']);\n",
    "\n",
    "for p in splot.patches:\n",
    "    splot.annotate(\"%.2f\" % p.get_width(), xy=(p.get_width(), p.get_y()+p.get_height()/2),\n",
    "                   xytext=(5,0), textcoords='offset points', ha='left', va='center')\n",
    "plt.title(f\" Num buyers: {(aux1['user_buyer_id'].sum()):,}\")\n",
    "plt.yticks(fontsize =16)\n",
    "plt.xlabel(\"%\")\n",
    "plt.ylabel(\"\")\n",
    "plt.xlim(0, 110)\n",
    "plt.show()"
   ]
  },
  {
   "cell_type": "code",
   "execution_count": null,
   "metadata": {
    "ExecuteTime": {
     "end_time": "2022-09-06T19:59:44.787669Z",
     "start_time": "2022-09-06T19:59:44.783328Z"
    },
    "hidden": true
   },
   "outputs": [],
   "source": [
    "7303410*0.0025"
   ]
  },
  {
   "cell_type": "markdown",
   "metadata": {
    "heading_collapsed": true,
    "hidden": true
   },
   "source": [
    "### Product Category: Num of products"
   ]
  },
  {
   "cell_type": "code",
   "execution_count": null,
   "metadata": {
    "ExecuteTime": {
     "end_time": "2022-08-22T12:13:49.580415Z",
     "start_time": "2022-08-22T12:13:48.292855Z"
    },
    "hidden": true
   },
   "outputs": [],
   "source": [
    "# get top 10 countries \n",
    "plt.figure(figsize = (30,10))\n",
    "# get vol of users with purchase\n",
    "aux1 = df3[['category_cleaned', 'product_id']].groupby('category_cleaned').nunique().reset_index()\n",
    "aux1['%'] = aux1['product_id'] / aux1['product_id'].sum() * 100\n",
    "aux1 = aux1.sort_values('%', ascending=False)\n",
    "# plot graph with annotations\n",
    "sns.set_style('white')\n",
    "splot = sns.barplot(y = 'category_cleaned', x = '%', data = aux1, palette = palette_topics, order = aux1.sort_values('%', ascending=False)['category_cleaned']);\n",
    "\n",
    "for p in splot.patches:\n",
    "    splot.annotate(\"%.2f\" % p.get_width(), xy=(p.get_width(), p.get_y()+p.get_height()/2),\n",
    "                   xytext=(5,0), textcoords='offset points', ha='left', va='center')\n",
    "plt.title(f\" Num Products: {(aux1['product_id'].sum()):,}\")\n",
    "plt.yticks(fontsize =16)\n",
    "plt.xlabel(\"%\")\n",
    "plt.ylabel(\"\")\n",
    "plt.xlim(0, 110)\n",
    "plt.show()"
   ]
  },
  {
   "cell_type": "markdown",
   "metadata": {
    "heading_collapsed": true,
    "hidden": true
   },
   "source": [
    "### Product Category: Num of products, by office"
   ]
  },
  {
   "cell_type": "code",
   "execution_count": null,
   "metadata": {
    "ExecuteTime": {
     "end_time": "2022-09-08T18:49:47.363113Z",
     "start_time": "2022-09-08T18:49:37.786003Z"
    },
    "hidden": true
   },
   "outputs": [],
   "source": [
    "country = 'BRAZIL'\n",
    "# get top 10 countries \n",
    "plt.figure(figsize = (30,10))\n",
    "# get vol of users with purchase\n",
    "aux1 = df3[df3['user_office_name'] == country][['category_cleaned', 'product_id']].groupby('category_cleaned').nunique().reset_index()\n",
    "aux1['%'] = aux1['product_id'] / aux1['product_id'].sum() * 100\n",
    "aux1 = aux1.sort_values('%', ascending=False)\n",
    "# plot graph with annotations\n",
    "sns.set_style('white')\n",
    "splot = sns.barplot(y = 'category_cleaned', x = '%', data = aux1, palette = palette_topics, order = aux1.sort_values('%', ascending=False)['category_cleaned']);\n",
    "\n",
    "for p in splot.patches:\n",
    "    splot.annotate(\"%.2f\" % p.get_width(), xy=(p.get_width(), p.get_y()+p.get_height()/2),\n",
    "                   xytext=(5,0), textcoords='offset points', ha='left', va='center')\n",
    "plt.title(f\"{country} | Num Products: {(aux1['product_id'].sum()):,}\")\n",
    "plt.yticks(fontsize =16)\n",
    "plt.xlabel(\"%\")\n",
    "plt.ylabel(\"\")\n",
    "plt.xlim(0, 110)\n",
    "plt.show()"
   ]
  },
  {
   "cell_type": "code",
   "execution_count": null,
   "metadata": {
    "ExecuteTime": {
     "end_time": "2022-09-08T18:49:49.187804Z",
     "start_time": "2022-09-08T18:49:47.370481Z"
    },
    "hidden": true
   },
   "outputs": [],
   "source": [
    "country = 'COLOMBIA'\n",
    "# get top 10 countries \n",
    "plt.figure(figsize = (30,10))\n",
    "# get vol of users with purchase\n",
    "aux1 = df3[df3['user_office_name'] == country][['category_cleaned', 'product_id']].groupby('category_cleaned').nunique().reset_index()\n",
    "aux1['%'] = aux1['product_id'] / aux1['product_id'].sum() * 100\n",
    "aux1 = aux1.sort_values('%', ascending=False)\n",
    "# plot graph with annotations\n",
    "sns.set_style('white')\n",
    "splot = sns.barplot(y = 'category_cleaned', x = '%', data = aux1, palette = palette_topics, order = aux1.sort_values('%', ascending=False)['category_cleaned']);\n",
    "\n",
    "for p in splot.patches:\n",
    "    splot.annotate(\"%.2f\" % p.get_width(), xy=(p.get_width(), p.get_y()+p.get_height()/2),\n",
    "                   xytext=(5,0), textcoords='offset points', ha='left', va='center')\n",
    "plt.title(f\"{country} | Num Products: {(aux1['product_id'].sum()):,}\")\n",
    "plt.yticks(fontsize =16)\n",
    "plt.xlabel(\"%\")\n",
    "plt.ylabel(\"\")\n",
    "plt.xlim(0, 110)\n",
    "plt.show()"
   ]
  },
  {
   "cell_type": "code",
   "execution_count": null,
   "metadata": {
    "ExecuteTime": {
     "end_time": "2022-09-08T18:50:09.258456Z",
     "start_time": "2022-09-08T18:50:08.510604Z"
    },
    "hidden": true
   },
   "outputs": [],
   "source": [
    "country = 'MEXICO'\n",
    "# get top 10 countries \n",
    "plt.figure(figsize = (30,10))\n",
    "# get vol of users with purchase\n",
    "aux1 = df3[df3['user_office_name'] == country][['category_cleaned', 'product_id']].groupby('category_cleaned').nunique().reset_index()\n",
    "aux1['%'] = aux1['product_id'] / aux1['product_id'].sum() * 100\n",
    "aux1 = aux1.sort_values('%', ascending=False)\n",
    "# plot graph with annotations\n",
    "sns.set_style('white')\n",
    "splot = sns.barplot(y = 'category_cleaned', x = '%', data = aux1, palette = palette_topics, order = aux1.sort_values('%', ascending=False)['category_cleaned']);\n",
    "\n",
    "for p in splot.patches:\n",
    "    splot.annotate(\"%.2f\" % p.get_width(), xy=(p.get_width(), p.get_y()+p.get_height()/2),\n",
    "                   xytext=(5,0), textcoords='offset points', ha='left', va='center')\n",
    "plt.title(f\"{country} | Num Products: {(aux1['product_id'].sum()):,}\")\n",
    "plt.yticks(fontsize =16)\n",
    "plt.xlabel(\"%\")\n",
    "plt.ylabel(\"\")\n",
    "plt.xlim(0, 110)\n",
    "plt.show()"
   ]
  },
  {
   "cell_type": "code",
   "execution_count": null,
   "metadata": {
    "ExecuteTime": {
     "end_time": "2022-09-08T18:50:09.258456Z",
     "start_time": "2022-09-08T18:50:08.510604Z"
    },
    "hidden": true
   },
   "outputs": [],
   "source": [
    "country = 'SPAIN'\n",
    "# get top 10 countries \n",
    "plt.figure(figsize = (30,10))\n",
    "# get vol of users with purchase\n",
    "aux1 = df3[df3['user_office_name'] == country][['category_cleaned', 'product_id']].groupby('category_cleaned').nunique().reset_index()\n",
    "aux1['%'] = aux1['product_id'] / aux1['product_id'].sum() * 100\n",
    "aux1 = aux1.sort_values('%', ascending=False)\n",
    "# plot graph with annotations\n",
    "sns.set_style('white')\n",
    "splot = sns.barplot(y = 'category_cleaned', x = '%', data = aux1, palette = palette_topics, order = aux1.sort_values('%', ascending=False)['category_cleaned']);\n",
    "\n",
    "for p in splot.patches:\n",
    "    splot.annotate(\"%.2f\" % p.get_width(), xy=(p.get_width(), p.get_y()+p.get_height()/2),\n",
    "                   xytext=(5,0), textcoords='offset points', ha='left', va='center')\n",
    "plt.title(f\"{country} | Num Products: {(aux1['product_id'].sum()):,}\")\n",
    "plt.yticks(fontsize =16)\n",
    "plt.xlabel(\"%\")\n",
    "plt.ylabel(\"\")\n",
    "plt.xlim(0, 110)\n",
    "plt.show()"
   ]
  },
  {
   "cell_type": "code",
   "execution_count": null,
   "metadata": {
    "ExecuteTime": {
     "end_time": "2022-09-08T18:50:09.258456Z",
     "start_time": "2022-09-08T18:50:08.510604Z"
    },
    "hidden": true
   },
   "outputs": [],
   "source": [
    "country = 'USA'\n",
    "# get top 10 countries \n",
    "plt.figure(figsize = (30,10))\n",
    "# get vol of users with purchase\n",
    "aux1 = df3[df3['user_office_name'] == country][['category_cleaned', 'product_id']].groupby('category_cleaned').nunique().reset_index()\n",
    "aux1['%'] = aux1['product_id'] / aux1['product_id'].sum() * 100\n",
    "aux1 = aux1.sort_values('%', ascending=False)\n",
    "# plot graph with annotations\n",
    "sns.set_style('white')\n",
    "splot = sns.barplot(y = 'category_cleaned', x = '%', data = aux1, palette = palette_topics, order = aux1.sort_values('%', ascending=False)['category_cleaned']);\n",
    "\n",
    "for p in splot.patches:\n",
    "    splot.annotate(\"%.2f\" % p.get_width(), xy=(p.get_width(), p.get_y()+p.get_height()/2),\n",
    "                   xytext=(5,0), textcoords='offset points', ha='left', va='center')\n",
    "plt.title(f\"{country} | Num Products: {(aux1['product_id'].sum()):,}\")\n",
    "plt.yticks(fontsize =16)\n",
    "plt.xlabel(\"%\")\n",
    "plt.ylabel(\"\")\n",
    "plt.xlim(0, 110)\n",
    "plt.show()"
   ]
  },
  {
   "cell_type": "code",
   "execution_count": null,
   "metadata": {
    "ExecuteTime": {
     "end_time": "2022-09-08T18:50:09.258456Z",
     "start_time": "2022-09-08T18:50:08.510604Z"
    },
    "hidden": true
   },
   "outputs": [],
   "source": [
    "country = 'AMSTERDAM'\n",
    "# get top 10 countries \n",
    "plt.figure(figsize = (30,10))\n",
    "# get vol of users with purchase\n",
    "aux1 = df3[df3['user_office_name'] == country][['category_cleaned', 'product_id']].groupby('category_cleaned').nunique().reset_index()\n",
    "aux1['%'] = aux1['product_id'] / aux1['product_id'].sum() * 100\n",
    "aux1 = aux1.sort_values('%', ascending=False)\n",
    "# plot graph with annotations\n",
    "sns.set_style('white')\n",
    "splot = sns.barplot(y = 'category_cleaned', x = '%', data = aux1, palette = palette_topics, order = aux1.sort_values('%', ascending=False)['category_cleaned']);\n",
    "\n",
    "for p in splot.patches:\n",
    "    splot.annotate(\"%.2f\" % p.get_width(), xy=(p.get_width(), p.get_y()+p.get_height()/2),\n",
    "                   xytext=(5,0), textcoords='offset points', ha='left', va='center')\n",
    "plt.title(f\"{country} | Num Products: {(aux1['product_id'].sum()):,}\")\n",
    "plt.yticks(fontsize =16)\n",
    "plt.xlabel(\"%\")\n",
    "plt.ylabel(\"\")\n",
    "plt.xlim(0, 110)\n",
    "plt.show()"
   ]
  },
  {
   "cell_type": "markdown",
   "metadata": {
    "heading_collapsed": true,
    "hidden": true
   },
   "source": [
    "### Product Category: Num of unique producers serving a category, by office"
   ]
  },
  {
   "cell_type": "code",
   "execution_count": null,
   "metadata": {
    "ExecuteTime": {
     "end_time": "2022-09-09T14:37:27.526513Z",
     "start_time": "2022-09-09T14:37:19.779657Z"
    },
    "hidden": true
   },
   "outputs": [],
   "source": [
    "country = 'BRAZIL'\n",
    "# get top 10 countries \n",
    "plt.figure(figsize = (20,20))\n",
    "# get vol of users with purchase\n",
    "aux1 = df3[df3['user_office_name'] == country]\n",
    "aux1 = aux1[['category_cleaned', 'producer_id']].groupby('category_cleaned').nunique().reset_index()\n",
    "aux1['%'] = aux1['producer_id'] / aux1['producer_id'].sum() * 100\n",
    "aux1 = aux1.sort_values('%', ascending=False)\n",
    "# plot graph with annotations\n",
    "sns.set_style('white')\n",
    "splot = sns.barplot(y = 'category_cleaned', x = 'producer_id', data = aux1, palette = palette_topics, order = aux1.sort_values('%', ascending=False)['category_cleaned']);\n",
    "\n",
    "for p in splot.patches:\n",
    "    splot.annotate(\"%.0f\" % p.get_width(), xy=(p.get_width(), p.get_y()+p.get_height()/2),\n",
    "                   xytext=(5,0), textcoords='offset points', ha='left', va='center')\n",
    "plt.title(f\"{country} | Total of unique producers (with sales) serving each category: {(aux1['producer_id'].sum()):,}\")\n",
    "plt.yticks(fontsize =20)\n",
    "plt.xlabel(\"%\")\n",
    "plt.ylabel(\"\")\n",
    "plt.xlim(0, 15000)\n",
    "plt.show()"
   ]
  },
  {
   "cell_type": "code",
   "execution_count": null,
   "metadata": {
    "ExecuteTime": {
     "end_time": "2022-09-09T14:37:29.028201Z",
     "start_time": "2022-09-09T14:37:27.529269Z"
    },
    "hidden": true
   },
   "outputs": [],
   "source": [
    "country = 'COLOMBIA'\n",
    "# get top 10 countries \n",
    "plt.figure(figsize = (20,20))\n",
    "# get vol of users with purchase\n",
    "aux1 = df3[df3['user_office_name'] == country]\n",
    "aux1 = aux1[['category_cleaned', 'producer_id']].groupby('category_cleaned').nunique().reset_index()\n",
    "aux1['%'] = aux1['producer_id'] / aux1['producer_id'].sum() * 100\n",
    "aux1 = aux1.sort_values('%', ascending=False)\n",
    "# plot graph with annotations\n",
    "sns.set_style('white')\n",
    "splot = sns.barplot(y = 'category_cleaned', x = 'producer_id', data = aux1, palette = palette_topics, order = aux1.sort_values('%', ascending=False)['category_cleaned']);\n",
    "\n",
    "for p in splot.patches:\n",
    "    splot.annotate(\"%.0f\" % p.get_width(), xy=(p.get_width(), p.get_y()+p.get_height()/2),\n",
    "                   xytext=(5,0), textcoords='offset points', ha='left', va='center')\n",
    "plt.title(f\"{country} | Total of unique producers (with sales) serving each category: {(aux1['producer_id'].sum()):,}\")\n",
    "plt.yticks(fontsize =20)\n",
    "plt.xlabel(\"%\")\n",
    "plt.ylabel(\"\")\n",
    "plt.xlim(0, 15000)\n",
    "plt.show()"
   ]
  },
  {
   "cell_type": "code",
   "execution_count": null,
   "metadata": {
    "ExecuteTime": {
     "end_time": "2022-09-09T14:37:30.485781Z",
     "start_time": "2022-09-09T14:37:29.176466Z"
    },
    "hidden": true
   },
   "outputs": [],
   "source": [
    "country = 'MEXICO'\n",
    "# get top 10 countries \n",
    "plt.figure(figsize = (20,20))\n",
    "# get vol of users with purchase\n",
    "aux1 = df3[df3['user_office_name'] == country]\n",
    "aux1 = aux1[['category_cleaned', 'producer_id']].groupby('category_cleaned').nunique().reset_index()\n",
    "aux1['%'] = aux1['producer_id'] / aux1['producer_id'].sum() * 100\n",
    "aux1 = aux1.sort_values('%', ascending=False)\n",
    "# plot graph with annotations\n",
    "sns.set_style('white')\n",
    "splot = sns.barplot(y = 'category_cleaned', x = 'producer_id', data = aux1, palette = palette_topics, order = aux1.sort_values('%', ascending=False)['category_cleaned']);\n",
    "\n",
    "for p in splot.patches:\n",
    "    splot.annotate(\"%.0f\" % p.get_width(), xy=(p.get_width(), p.get_y()+p.get_height()/2),\n",
    "                   xytext=(5,0), textcoords='offset points', ha='left', va='center')\n",
    "plt.title(f\"{country} | Total of unique producers (with sales) serving each category: {(aux1['producer_id'].sum()):,}\")\n",
    "plt.yticks(fontsize =20)\n",
    "plt.xlabel(\"%\")\n",
    "plt.ylabel(\"\")\n",
    "plt.xlim(0, 15000)\n",
    "plt.show()"
   ]
  },
  {
   "cell_type": "code",
   "execution_count": null,
   "metadata": {
    "ExecuteTime": {
     "end_time": "2022-09-09T14:37:33.410290Z",
     "start_time": "2022-09-09T14:37:32.337195Z"
    },
    "hidden": true
   },
   "outputs": [],
   "source": [
    "country = 'SPAIN'\n",
    "# get top 10 countries \n",
    "plt.figure(figsize = (20,20))\n",
    "# get vol of users with purchase\n",
    "aux1 = df3[df3['user_office_name'] == country]\n",
    "aux1 = aux1[['category_cleaned', 'producer_id']].groupby('category_cleaned').nunique().reset_index()\n",
    "aux1['%'] = aux1['producer_id'] / aux1['producer_id'].sum() * 100\n",
    "aux1 = aux1.sort_values('%', ascending=False)\n",
    "# plot graph with annotations\n",
    "sns.set_style('white')\n",
    "splot = sns.barplot(y = 'category_cleaned', x = 'producer_id', data = aux1, palette = palette_topics, order = aux1.sort_values('%', ascending=False)['category_cleaned']);\n",
    "\n",
    "for p in splot.patches:\n",
    "    splot.annotate(\"%.0f\" % p.get_width(), xy=(p.get_width(), p.get_y()+p.get_height()/2),\n",
    "                   xytext=(5,0), textcoords='offset points', ha='left', va='center')\n",
    "plt.title(f\"{country} | Total of unique producers (with sales) serving each category: {(aux1['producer_id'].sum()):,}\")\n",
    "plt.yticks(fontsize =20)\n",
    "plt.xlabel(\"%\")\n",
    "plt.ylabel(\"\")\n",
    "plt.xlim(0, 15000)\n",
    "plt.show()"
   ]
  },
  {
   "cell_type": "code",
   "execution_count": null,
   "metadata": {
    "ExecuteTime": {
     "end_time": "2022-09-09T14:37:37.192784Z",
     "start_time": "2022-09-09T14:37:36.381505Z"
    },
    "hidden": true
   },
   "outputs": [],
   "source": [
    "country = 'USA'\n",
    "# get top 10 countries \n",
    "plt.figure(figsize = (20,20))\n",
    "# get vol of users with purchase\n",
    "aux1 = df3[df3['user_office_name'] == country]\n",
    "aux1 = aux1[['category_cleaned', 'producer_id']].groupby('category_cleaned').nunique().reset_index()\n",
    "aux1['%'] = aux1['producer_id'] / aux1['producer_id'].sum() * 100\n",
    "aux1 = aux1.sort_values('%', ascending=False)\n",
    "# plot graph with annotations\n",
    "sns.set_style('white')\n",
    "splot = sns.barplot(y = 'category_cleaned', x = 'producer_id', data = aux1, palette = palette_topics, order = aux1.sort_values('%', ascending=False)['category_cleaned']);\n",
    "\n",
    "for p in splot.patches:\n",
    "    splot.annotate(\"%.0f\" % p.get_width(), xy=(p.get_width(), p.get_y()+p.get_height()/2),\n",
    "                   xytext=(5,0), textcoords='offset points', ha='left', va='center')\n",
    "plt.title(f\"{country} | Total of unique producers (with sales) serving each category: {(aux1['producer_id'].sum()):,}\")\n",
    "plt.yticks(fontsize =20)\n",
    "plt.xlabel(\"%\")\n",
    "plt.ylabel(\"\")\n",
    "plt.xlim(0, 15000)\n",
    "plt.show()"
   ]
  },
  {
   "cell_type": "code",
   "execution_count": null,
   "metadata": {
    "ExecuteTime": {
     "end_time": "2022-09-09T14:37:40.633366Z",
     "start_time": "2022-09-09T14:37:39.848497Z"
    },
    "hidden": true
   },
   "outputs": [],
   "source": [
    "country = 'AMSTERDAM'\n",
    "# get top 10 countries \n",
    "plt.figure(figsize = (20,20))\n",
    "# get vol of users with purchase\n",
    "aux1 = df3[df3['user_office_name'] == country]\n",
    "aux1 = aux1[['category_cleaned', 'producer_id']].groupby('category_cleaned').nunique().reset_index()\n",
    "aux1['%'] = aux1['producer_id'] / aux1['producer_id'].sum() * 100\n",
    "aux1 = aux1.sort_values('%', ascending=False)\n",
    "# plot graph with annotations\n",
    "sns.set_style('white')\n",
    "splot = sns.barplot(y = 'category_cleaned', x = 'producer_id', data = aux1, palette = palette_topics, order = aux1.sort_values('%', ascending=False)['category_cleaned']);\n",
    "\n",
    "for p in splot.patches:\n",
    "    splot.annotate(\"%.0f\" % p.get_width(), xy=(p.get_width(), p.get_y()+p.get_height()/2),\n",
    "                   xytext=(5,0), textcoords='offset points', ha='left', va='center')\n",
    "plt.title(f\"{country} | Total of unique producers (with sales) serving each category: {(aux1['producer_id'].sum()):,}\")\n",
    "plt.yticks(fontsize =20)\n",
    "plt.xlabel(\"%\")\n",
    "plt.ylabel(\"\")\n",
    "plt.xlim(0, 15000)\n",
    "plt.show()"
   ]
  },
  {
   "cell_type": "markdown",
   "metadata": {
    "heading_collapsed": true,
    "hidden": true
   },
   "source": [
    "### Product Category: Num of producers"
   ]
  },
  {
   "cell_type": "code",
   "execution_count": null,
   "metadata": {
    "ExecuteTime": {
     "end_time": "2022-08-22T12:13:50.937297Z",
     "start_time": "2022-08-22T12:13:49.582529Z"
    },
    "hidden": true
   },
   "outputs": [],
   "source": [
    "# get top 10 countries \n",
    "plt.figure(figsize = (30,10))\n",
    "# get vol of users with purchase\n",
    "aux1 = df3[['category_cleaned', 'producer_id']].groupby('category_cleaned').nunique().reset_index()\n",
    "aux1['%'] = aux1['producer_id'] / aux1['producer_id'].sum() * 100\n",
    "aux1 = aux1.sort_values('%', ascending=False)\n",
    "# plot graph with annotations\n",
    "sns.set_style('white')\n",
    "splot = sns.barplot(y = 'category_cleaned', x = '%', data = aux1, palette = palette_topics, order = aux1.sort_values('%', ascending=False)['category_cleaned']);\n",
    "\n",
    "for p in splot.patches:\n",
    "    splot.annotate(\"%.2f\" % p.get_width(), xy=(p.get_width(), p.get_y()+p.get_height()/2),\n",
    "                   xytext=(5,0), textcoords='offset points', ha='left', va='center')\n",
    "plt.title(f\" Num producers: {(aux1['producer_id'].sum()):,}\")\n",
    "plt.yticks(fontsize =16)\n",
    "plt.xlabel(\"%\")\n",
    "plt.ylabel(\"\")\n",
    "plt.xlim(0, 110)\n",
    "plt.show()"
   ]
  },
  {
   "cell_type": "markdown",
   "metadata": {
    "heading_collapsed": true,
    "hidden": true
   },
   "source": [
    "### Product Category: GMV"
   ]
  },
  {
   "cell_type": "code",
   "execution_count": null,
   "metadata": {
    "ExecuteTime": {
     "end_time": "2022-08-22T12:13:51.767707Z",
     "start_time": "2022-08-22T12:13:50.939112Z"
    },
    "hidden": true
   },
   "outputs": [],
   "source": [
    "aux1 = df3[['category_cleaned', 'gmv_value_brl']].groupby('category_cleaned').sum().reset_index()\n",
    "aux1['%'] = aux1['gmv_value_brl'] / aux1['gmv_value_brl'].sum() * 100\n",
    "plt.figure(figsize = (15,10))\n",
    "sns.set_style('white')\n",
    "splot = sns.barplot(y = 'category_cleaned', x = '%', data = aux1, palette = palette_topics, order = aux1.sort_values('%', ascending=False)['category_cleaned']);\n",
    "\n",
    "for p in splot.patches:\n",
    "    splot.annotate(\"%.2f\" % p.get_width(), xy=(p.get_width(), p.get_y()+p.get_height()/2),\n",
    "                   xytext=(5,0), textcoords='offset points', ha='left', va='center')\n",
    "plt.title(f\"Product Category: GMV BRL (%)\")\n",
    "plt.yticks(fontsize =16)\n",
    "plt.xlabel(\"% GMV\")\n",
    "plt.ylabel(\"\")\n",
    "plt.xlim(0, 50)\n",
    "#         splot.spines['right'].set_visible(False)\n",
    "#         splot.spines['top'].set_visible(False)\n",
    "#         splot.spines['left'].set_visible(False)\n",
    "#         splot.spines['bottom'].set_visible(False)\n",
    "splot.axes.get_xaxis().set_visible(False)\n",
    "#         splot.axes.get_yaxis().set_visible(False)\n",
    "# plt.subplots_adjust(hspace=0.2)\n",
    "# plt.subplots_adjust(wspace=0.2)\n",
    "plt.show()"
   ]
  },
  {
   "cell_type": "markdown",
   "metadata": {
    "heading_collapsed": true,
    "hidden": true
   },
   "source": [
    "### Product Category: GMV, by segment"
   ]
  },
  {
   "cell_type": "code",
   "execution_count": null,
   "metadata": {
    "ExecuteTime": {
     "end_time": "2022-09-08T19:10:39.461291Z",
     "start_time": "2022-09-08T19:10:37.719567Z"
    },
    "hidden": true
   },
   "outputs": [],
   "source": [
    "segment = 'SEED'\n",
    "aux1 = df3[df3['segment'] == segment][['category_cleaned', 'gmv_value_brl']].groupby('category_cleaned').sum().reset_index()\n",
    "aux1['%'] = aux1['gmv_value_brl'] / aux1['gmv_value_brl'].sum() * 100\n",
    "plt.figure(figsize = (15,10))\n",
    "sns.set_style('white')\n",
    "splot = sns.barplot(y = 'category_cleaned', x = '%', data = aux1, palette = palette_topics, order = aux1.sort_values('%', ascending=False)['category_cleaned']);\n",
    "\n",
    "for p in splot.patches:\n",
    "    splot.annotate(\"%.2f\" % p.get_width(), xy=(p.get_width(), p.get_y()+p.get_height()/2),\n",
    "                   xytext=(5,0), textcoords='offset points', ha='left', va='center')\n",
    "plt.title(f\"{segment} | Product Category: GMV BRL (%)\")\n",
    "plt.yticks(fontsize =16)\n",
    "plt.xlabel(\"% GMV\")\n",
    "plt.ylabel(\"\")\n",
    "plt.xlim(0, 50)\n",
    "#         splot.spines['right'].set_visible(False)\n",
    "#         splot.spines['top'].set_visible(False)\n",
    "#         splot.spines['left'].set_visible(False)\n",
    "#         splot.spines['bottom'].set_visible(False)\n",
    "splot.axes.get_xaxis().set_visible(False)\n",
    "#         splot.axes.get_yaxis().set_visible(False)\n",
    "# plt.subplots_adjust(hspace=0.2)\n",
    "# plt.subplots_adjust(wspace=0.2)\n",
    "plt.show()"
   ]
  },
  {
   "cell_type": "code",
   "execution_count": null,
   "metadata": {
    "ExecuteTime": {
     "end_time": "2022-09-08T19:10:56.110454Z",
     "start_time": "2022-09-08T19:10:54.370535Z"
    },
    "hidden": true
   },
   "outputs": [],
   "source": [
    "segment = 'SMALL'\n",
    "aux1 = df3[df3['segment'] == segment][['category_cleaned', 'gmv_value_brl']].groupby('category_cleaned').sum().reset_index()\n",
    "aux1['%'] = aux1['gmv_value_brl'] / aux1['gmv_value_brl'].sum() * 100\n",
    "plt.figure(figsize = (15,10))\n",
    "sns.set_style('white')\n",
    "splot = sns.barplot(y = 'category_cleaned', x = '%', data = aux1, palette = palette_topics, order = aux1.sort_values('%', ascending=False)['category_cleaned']);\n",
    "\n",
    "for p in splot.patches:\n",
    "    splot.annotate(\"%.2f\" % p.get_width(), xy=(p.get_width(), p.get_y()+p.get_height()/2),\n",
    "                   xytext=(5,0), textcoords='offset points', ha='left', va='center')\n",
    "plt.title(f\"{segment} | Product Category: GMV BRL (%)\")\n",
    "plt.yticks(fontsize =16)\n",
    "plt.xlabel(\"% GMV\")\n",
    "plt.ylabel(\"\")\n",
    "plt.xlim(0, 50)\n",
    "#         splot.spines['right'].set_visible(False)\n",
    "#         splot.spines['top'].set_visible(False)\n",
    "#         splot.spines['left'].set_visible(False)\n",
    "#         splot.spines['bottom'].set_visible(False)\n",
    "splot.axes.get_xaxis().set_visible(False)\n",
    "#         splot.axes.get_yaxis().set_visible(False)\n",
    "# plt.subplots_adjust(hspace=0.2)\n",
    "# plt.subplots_adjust(wspace=0.2)\n",
    "plt.show()"
   ]
  },
  {
   "cell_type": "code",
   "execution_count": null,
   "metadata": {
    "ExecuteTime": {
     "end_time": "2022-09-08T19:10:56.110454Z",
     "start_time": "2022-09-08T19:10:54.370535Z"
    },
    "hidden": true
   },
   "outputs": [],
   "source": [
    "segment = 'MEDIUM'\n",
    "aux1 = df3[df3['segment'] == segment][['category_cleaned', 'gmv_value_brl']].groupby('category_cleaned').sum().reset_index()\n",
    "aux1['%'] = aux1['gmv_value_brl'] / aux1['gmv_value_brl'].sum() * 100\n",
    "plt.figure(figsize = (15,10))\n",
    "sns.set_style('white')\n",
    "splot = sns.barplot(y = 'category_cleaned', x = '%', data = aux1, palette = palette_topics, order = aux1.sort_values('%', ascending=False)['category_cleaned']);\n",
    "\n",
    "for p in splot.patches:\n",
    "    splot.annotate(\"%.2f\" % p.get_width(), xy=(p.get_width(), p.get_y()+p.get_height()/2),\n",
    "                   xytext=(5,0), textcoords='offset points', ha='left', va='center')\n",
    "plt.title(f\"{segment} | Product Category: GMV BRL (%)\")\n",
    "plt.yticks(fontsize =16)\n",
    "plt.xlabel(\"% GMV\")\n",
    "plt.ylabel(\"\")\n",
    "plt.xlim(0, 50)\n",
    "#         splot.spines['right'].set_visible(False)\n",
    "#         splot.spines['top'].set_visible(False)\n",
    "#         splot.spines['left'].set_visible(False)\n",
    "#         splot.spines['bottom'].set_visible(False)\n",
    "splot.axes.get_xaxis().set_visible(False)\n",
    "#         splot.axes.get_yaxis().set_visible(False)\n",
    "# plt.subplots_adjust(hspace=0.2)\n",
    "# plt.subplots_adjust(wspace=0.2)\n",
    "plt.show()"
   ]
  },
  {
   "cell_type": "code",
   "execution_count": null,
   "metadata": {
    "ExecuteTime": {
     "end_time": "2022-09-08T19:10:56.110454Z",
     "start_time": "2022-09-08T19:10:54.370535Z"
    },
    "hidden": true
   },
   "outputs": [],
   "source": [
    "segment = 'LARGE'\n",
    "aux1 = df3[df3['segment'] == segment][['category_cleaned', 'gmv_value_brl']].groupby('category_cleaned').sum().reset_index()\n",
    "aux1['%'] = aux1['gmv_value_brl'] / aux1['gmv_value_brl'].sum() * 100\n",
    "plt.figure(figsize = (15,10))\n",
    "sns.set_style('white')\n",
    "splot = sns.barplot(y = 'category_cleaned', x = '%', data = aux1, palette = palette_topics, order = aux1.sort_values('%', ascending=False)['category_cleaned']);\n",
    "\n",
    "for p in splot.patches:\n",
    "    splot.annotate(\"%.2f\" % p.get_width(), xy=(p.get_width(), p.get_y()+p.get_height()/2),\n",
    "                   xytext=(5,0), textcoords='offset points', ha='left', va='center')\n",
    "plt.title(f\"{segment} | Product Category: GMV BRL (%)\")\n",
    "plt.yticks(fontsize =16)\n",
    "plt.xlabel(\"% GMV\")\n",
    "plt.ylabel(\"\")\n",
    "plt.xlim(0, 50)\n",
    "#         splot.spines['right'].set_visible(False)\n",
    "#         splot.spines['top'].set_visible(False)\n",
    "#         splot.spines['left'].set_visible(False)\n",
    "#         splot.spines['bottom'].set_visible(False)\n",
    "splot.axes.get_xaxis().set_visible(False)\n",
    "#         splot.axes.get_yaxis().set_visible(False)\n",
    "# plt.subplots_adjust(hspace=0.2)\n",
    "# plt.subplots_adjust(wspace=0.2)\n",
    "plt.show()"
   ]
  },
  {
   "cell_type": "markdown",
   "metadata": {
    "heading_collapsed": true,
    "hidden": true
   },
   "source": [
    "### Product Category: GMV, by office"
   ]
  },
  {
   "cell_type": "code",
   "execution_count": null,
   "metadata": {
    "ExecuteTime": {
     "end_time": "2022-09-08T18:51:29.003489Z",
     "start_time": "2022-09-08T18:51:19.467629Z"
    },
    "hidden": true
   },
   "outputs": [],
   "source": [
    "country = 'BRAZIL'\n",
    "aux1 = df3[df3['user_office_name'] == country][['category_cleaned', 'gmv_value_brl']].groupby('category_cleaned').sum().reset_index()\n",
    "aux1['%'] = aux1['gmv_value_brl'] / aux1['gmv_value_brl'].sum() * 100\n",
    "plt.figure(figsize = (15,10))\n",
    "sns.set_style('white')\n",
    "splot = sns.barplot(y = 'category_cleaned', x = '%', data = aux1, palette = palette_topics, order = aux1.sort_values('%', ascending=False)['category_cleaned']);\n",
    "\n",
    "for p in splot.patches:\n",
    "    splot.annotate(\"%.2f\" % p.get_width(), xy=(p.get_width(), p.get_y()+p.get_height()/2),\n",
    "                   xytext=(5,0), textcoords='offset points', ha='left', va='center')\n",
    "plt.title(f\"{country} | Product Category: GMV BRL (%)\")\n",
    "plt.yticks(fontsize =16)\n",
    "plt.xlabel(\"% GMV\")\n",
    "plt.ylabel(\"\")\n",
    "plt.xlim(0, 50)\n",
    "#         splot.spines['right'].set_visible(False)\n",
    "#         splot.spines['top'].set_visible(False)\n",
    "#         splot.spines['left'].set_visible(False)\n",
    "#         splot.spines['bottom'].set_visible(False)\n",
    "splot.axes.get_xaxis().set_visible(False)\n",
    "#         splot.axes.get_yaxis().set_visible(False)\n",
    "# plt.subplots_adjust(hspace=0.2)\n",
    "# plt.subplots_adjust(wspace=0.2)\n",
    "plt.show()"
   ]
  },
  {
   "cell_type": "code",
   "execution_count": null,
   "metadata": {
    "ExecuteTime": {
     "end_time": "2022-09-08T18:51:47.129960Z",
     "start_time": "2022-09-08T18:51:46.484863Z"
    },
    "hidden": true
   },
   "outputs": [],
   "source": [
    "country = 'COLOMBIA'\n",
    "aux1 = df3[df3['user_office_name'] == country][['category_cleaned', 'gmv_value_brl']].groupby('category_cleaned').sum().reset_index()\n",
    "aux1['%'] = aux1['gmv_value_brl'] / aux1['gmv_value_brl'].sum() * 100\n",
    "plt.figure(figsize = (15,10))\n",
    "sns.set_style('white')\n",
    "splot = sns.barplot(y = 'category_cleaned', x = '%', data = aux1, palette = palette_topics, order = aux1.sort_values('%', ascending=False)['category_cleaned']);\n",
    "\n",
    "for p in splot.patches:\n",
    "    splot.annotate(\"%.2f\" % p.get_width(), xy=(p.get_width(), p.get_y()+p.get_height()/2),\n",
    "                   xytext=(5,0), textcoords='offset points', ha='left', va='center')\n",
    "plt.title(f\"{country} | Product Category: GMV BRL (%)\")\n",
    "plt.yticks(fontsize =16)\n",
    "plt.xlabel(\"% GMV\")\n",
    "plt.ylabel(\"\")\n",
    "plt.xlim(0, 50)\n",
    "#         splot.spines['right'].set_visible(False)\n",
    "#         splot.spines['top'].set_visible(False)\n",
    "#         splot.spines['left'].set_visible(False)\n",
    "#         splot.spines['bottom'].set_visible(False)\n",
    "splot.axes.get_xaxis().set_visible(False)\n",
    "#         splot.axes.get_yaxis().set_visible(False)\n",
    "# plt.subplots_adjust(hspace=0.2)\n",
    "# plt.subplots_adjust(wspace=0.2)\n",
    "plt.show()"
   ]
  },
  {
   "cell_type": "code",
   "execution_count": null,
   "metadata": {
    "ExecuteTime": {
     "end_time": "2022-09-08T18:51:47.129960Z",
     "start_time": "2022-09-08T18:51:46.484863Z"
    },
    "hidden": true
   },
   "outputs": [],
   "source": [
    "country = 'MEXICO'\n",
    "aux1 = df3[df3['user_office_name'] == country][['category_cleaned', 'gmv_value_brl']].groupby('category_cleaned').sum().reset_index()\n",
    "aux1['%'] = aux1['gmv_value_brl'] / aux1['gmv_value_brl'].sum() * 100\n",
    "plt.figure(figsize = (15,10))\n",
    "sns.set_style('white')\n",
    "splot = sns.barplot(y = 'category_cleaned', x = '%', data = aux1, palette = palette_topics, order = aux1.sort_values('%', ascending=False)['category_cleaned']);\n",
    "\n",
    "for p in splot.patches:\n",
    "    splot.annotate(\"%.2f\" % p.get_width(), xy=(p.get_width(), p.get_y()+p.get_height()/2),\n",
    "                   xytext=(5,0), textcoords='offset points', ha='left', va='center')\n",
    "plt.title(f\"{country} | Product Category: GMV BRL (%)\")\n",
    "plt.yticks(fontsize =16)\n",
    "plt.xlabel(\"% GMV\")\n",
    "plt.ylabel(\"\")\n",
    "plt.xlim(0, 50)\n",
    "#         splot.spines['right'].set_visible(False)\n",
    "#         splot.spines['top'].set_visible(False)\n",
    "#         splot.spines['left'].set_visible(False)\n",
    "#         splot.spines['bottom'].set_visible(False)\n",
    "splot.axes.get_xaxis().set_visible(False)\n",
    "#         splot.axes.get_yaxis().set_visible(False)\n",
    "# plt.subplots_adjust(hspace=0.2)\n",
    "# plt.subplots_adjust(wspace=0.2)\n",
    "plt.show()"
   ]
  },
  {
   "cell_type": "code",
   "execution_count": null,
   "metadata": {
    "ExecuteTime": {
     "end_time": "2022-09-08T18:51:47.129960Z",
     "start_time": "2022-09-08T18:51:46.484863Z"
    },
    "hidden": true
   },
   "outputs": [],
   "source": [
    "country = 'SPAIN'\n",
    "aux1 = df3[df3['user_office_name'] == country][['category_cleaned', 'gmv_value_brl']].groupby('category_cleaned').sum().reset_index()\n",
    "aux1['%'] = aux1['gmv_value_brl'] / aux1['gmv_value_brl'].sum() * 100\n",
    "plt.figure(figsize = (15,10))\n",
    "sns.set_style('white')\n",
    "splot = sns.barplot(y = 'category_cleaned', x = '%', data = aux1, palette = palette_topics, order = aux1.sort_values('%', ascending=False)['category_cleaned']);\n",
    "\n",
    "for p in splot.patches:\n",
    "    splot.annotate(\"%.2f\" % p.get_width(), xy=(p.get_width(), p.get_y()+p.get_height()/2),\n",
    "                   xytext=(5,0), textcoords='offset points', ha='left', va='center')\n",
    "plt.title(f\"{country} | Product Category: GMV BRL (%)\")\n",
    "plt.yticks(fontsize =16)\n",
    "plt.xlabel(\"% GMV\")\n",
    "plt.ylabel(\"\")\n",
    "plt.xlim(0, 50)\n",
    "#         splot.spines['right'].set_visible(False)\n",
    "#         splot.spines['top'].set_visible(False)\n",
    "#         splot.spines['left'].set_visible(False)\n",
    "#         splot.spines['bottom'].set_visible(False)\n",
    "splot.axes.get_xaxis().set_visible(False)\n",
    "#         splot.axes.get_yaxis().set_visible(False)\n",
    "# plt.subplots_adjust(hspace=0.2)\n",
    "# plt.subplots_adjust(wspace=0.2)\n",
    "plt.show()"
   ]
  },
  {
   "cell_type": "code",
   "execution_count": null,
   "metadata": {
    "ExecuteTime": {
     "end_time": "2022-09-08T18:51:47.129960Z",
     "start_time": "2022-09-08T18:51:46.484863Z"
    },
    "hidden": true
   },
   "outputs": [],
   "source": [
    "country = 'USA'\n",
    "aux1 = df3[df3['user_office_name'] == country][['category_cleaned', 'gmv_value_brl']].groupby('category_cleaned').sum().reset_index()\n",
    "aux1['%'] = aux1['gmv_value_brl'] / aux1['gmv_value_brl'].sum() * 100\n",
    "plt.figure(figsize = (15,10))\n",
    "sns.set_style('white')\n",
    "splot = sns.barplot(y = 'category_cleaned', x = '%', data = aux1, palette = palette_topics, order = aux1.sort_values('%', ascending=False)['category_cleaned']);\n",
    "\n",
    "for p in splot.patches:\n",
    "    splot.annotate(\"%.2f\" % p.get_width(), xy=(p.get_width(), p.get_y()+p.get_height()/2),\n",
    "                   xytext=(5,0), textcoords='offset points', ha='left', va='center')\n",
    "plt.title(f\"{country} | Product Category: GMV BRL (%)\")\n",
    "plt.yticks(fontsize =16)\n",
    "plt.xlabel(\"% GMV\")\n",
    "plt.ylabel(\"\")\n",
    "plt.xlim(0, 50)\n",
    "#         splot.spines['right'].set_visible(False)\n",
    "#         splot.spines['top'].set_visible(False)\n",
    "#         splot.spines['left'].set_visible(False)\n",
    "#         splot.spines['bottom'].set_visible(False)\n",
    "splot.axes.get_xaxis().set_visible(False)\n",
    "#         splot.axes.get_yaxis().set_visible(False)\n",
    "# plt.subplots_adjust(hspace=0.2)\n",
    "# plt.subplots_adjust(wspace=0.2)\n",
    "plt.show()"
   ]
  },
  {
   "cell_type": "code",
   "execution_count": null,
   "metadata": {
    "ExecuteTime": {
     "end_time": "2022-09-08T18:51:47.129960Z",
     "start_time": "2022-09-08T18:51:46.484863Z"
    },
    "hidden": true
   },
   "outputs": [],
   "source": [
    "country = 'AMSTERDAM'\n",
    "aux1 = df3[df3['user_office_name'] == country][['category_cleaned', 'gmv_value_brl']].groupby('category_cleaned').sum().reset_index()\n",
    "aux1['%'] = aux1['gmv_value_brl'] / aux1['gmv_value_brl'].sum() * 100\n",
    "plt.figure(figsize = (15,10))\n",
    "sns.set_style('white')\n",
    "splot = sns.barplot(y = 'category_cleaned', x = '%', data = aux1, palette = palette_topics, order = aux1.sort_values('%', ascending=False)['category_cleaned']);\n",
    "\n",
    "for p in splot.patches:\n",
    "    splot.annotate(\"%.2f\" % p.get_width(), xy=(p.get_width(), p.get_y()+p.get_height()/2),\n",
    "                   xytext=(5,0), textcoords='offset points', ha='left', va='center')\n",
    "plt.title(f\"{country} | Product Category: GMV BRL (%)\")\n",
    "plt.yticks(fontsize =16)\n",
    "plt.xlabel(\"% GMV\")\n",
    "plt.ylabel(\"\")\n",
    "plt.xlim(0, 50)\n",
    "#         splot.spines['right'].set_visible(False)\n",
    "#         splot.spines['top'].set_visible(False)\n",
    "#         splot.spines['left'].set_visible(False)\n",
    "#         splot.spines['bottom'].set_visible(False)\n",
    "splot.axes.get_xaxis().set_visible(False)\n",
    "#         splot.axes.get_yaxis().set_visible(False)\n",
    "# plt.subplots_adjust(hspace=0.2)\n",
    "# plt.subplots_adjust(wspace=0.2)\n",
    "plt.show()"
   ]
  },
  {
   "cell_type": "markdown",
   "metadata": {
    "heading_collapsed": true,
    "hidden": true
   },
   "source": [
    "### Producer Segment: Num of producers per segment"
   ]
  },
  {
   "cell_type": "code",
   "execution_count": null,
   "metadata": {
    "ExecuteTime": {
     "end_time": "2022-08-22T12:13:52.699490Z",
     "start_time": "2022-08-22T12:13:51.769456Z"
    },
    "hidden": true
   },
   "outputs": [],
   "source": [
    "aux1 = df3[['producer_id', 'segment']].groupby('producer_id').nunique().reset_index()"
   ]
  },
  {
   "cell_type": "code",
   "execution_count": null,
   "metadata": {
    "ExecuteTime": {
     "end_time": "2022-08-22T12:13:52.716360Z",
     "start_time": "2022-08-22T12:13:52.701933Z"
    },
    "hidden": true
   },
   "outputs": [],
   "source": [
    "print(f\"Total producers: {len(aux1):,}\")\n",
    "print(f\"Producers with a single segment: {len(aux1[aux1['segment'] == 1]):,}\")\n",
    "print(f\"Producers with +2 segment change: {len(aux1[aux1['segment'] > 1]):,}\")"
   ]
  },
  {
   "cell_type": "code",
   "execution_count": null,
   "metadata": {
    "ExecuteTime": {
     "end_time": "2022-08-22T12:13:53.834176Z",
     "start_time": "2022-08-22T12:13:52.718410Z"
    },
    "hidden": true
   },
   "outputs": [],
   "source": [
    "# get top 10 countries \n",
    "plt.figure(figsize = (30,10))\n",
    "# get vol of users with purchase\n",
    "aux1 = df3[['producer_id', 'segment']].groupby('segment').nunique().reset_index()\n",
    "aux1['%'] = aux1['producer_id'] / aux1['producer_id'].sum() * 100\n",
    "aux1 = aux1.sort_values('%', ascending=False)\n",
    "# plot graph with annotations\n",
    "sns.set_style('white')\n",
    "splot = sns.barplot(y = 'segment', x = '%', data = aux1, palette = palette_topics, order = aux1.sort_values('%', ascending=False)['segment']);\n",
    "\n",
    "for p in splot.patches:\n",
    "    splot.annotate(\"%.2f\" % p.get_width(), xy=(p.get_width(), p.get_y()+p.get_height()/2),\n",
    "                   xytext=(5,0), textcoords='offset points', ha='left', va='center')\n",
    "plt.title(f\" Num producers: {(aux1['producer_id'].sum()):,}\")\n",
    "plt.yticks(fontsize =16)\n",
    "plt.xlabel(\"%\")\n",
    "plt.ylabel(\"\")\n",
    "plt.xlim(0, 100)\n",
    "plt.show()"
   ]
  },
  {
   "cell_type": "markdown",
   "metadata": {
    "heading_collapsed": true,
    "hidden": true
   },
   "source": [
    "### Producer Segment: Num of transactions per segment"
   ]
  },
  {
   "cell_type": "code",
   "execution_count": null,
   "metadata": {
    "ExecuteTime": {
     "end_time": "2022-08-22T12:13:54.489213Z",
     "start_time": "2022-08-22T12:13:53.836175Z"
    },
    "hidden": true
   },
   "outputs": [],
   "source": [
    "# get top 10 countries \n",
    "plt.figure(figsize = (30,10))\n",
    "# get vol of users with purchase\n",
    "aux1 = df3[['purchase_id', 'segment']].groupby('segment').count().reset_index()\n",
    "aux1['%'] = aux1['purchase_id'] / aux1['purchase_id'].sum() * 100\n",
    "aux1 = aux1.sort_values('%', ascending=False)\n",
    "# plot graph with annotations\n",
    "sns.set_style('white')\n",
    "splot = sns.barplot(y = 'segment', x = '%', data = aux1, palette = palette_topics, order = ['SEED', 'SMALL', 'MEDIUM', 'LARGE']);\n",
    "\n",
    "for p in splot.patches:\n",
    "    splot.annotate(\"%.2f\" % p.get_width(), xy=(p.get_width(), p.get_y()+p.get_height()/2),\n",
    "                   xytext=(5,0), textcoords='offset points', ha='left', va='center')\n",
    "plt.title(f\" Num transactions: {(aux1['purchase_id'].sum()):,}\")\n",
    "plt.yticks(fontsize =16)\n",
    "plt.xlabel(\"%\")\n",
    "plt.ylabel(\"\")\n",
    "plt.xlim(0, 60)\n",
    "plt.show()"
   ]
  },
  {
   "cell_type": "markdown",
   "metadata": {
    "heading_collapsed": true,
    "hidden": true
   },
   "source": [
    "### Producers above/below 10k GMV BRL LTV: Num of producers"
   ]
  },
  {
   "cell_type": "code",
   "execution_count": null,
   "metadata": {
    "ExecuteTime": {
     "end_time": "2022-08-22T12:13:55.538919Z",
     "start_time": "2022-08-22T12:13:54.491200Z"
    },
    "hidden": true
   },
   "outputs": [],
   "source": [
    "# get top 10 countries \n",
    "plt.figure(figsize = (30,10))\n",
    "# get vol of users with purchase\n",
    "aux1 = df3[['producer_id', 'is_below_10_entire']].groupby('is_below_10_entire').nunique().reset_index()\n",
    "aux1['%'] = aux1['producer_id'] / aux1['producer_id'].sum() * 100\n",
    "aux1 = aux1.sort_values('%', ascending=False)\n",
    "# plot graph with annotations\n",
    "sns.set_style('white')\n",
    "splot = sns.barplot(y = 'is_below_10_entire', x = '%', data = aux1, palette = palette_topics, order = aux1.sort_values('%', ascending=False)['is_below_10_entire']);\n",
    "\n",
    "for p in splot.patches:\n",
    "    splot.annotate(\"%.2f\" % p.get_width(), xy=(p.get_width(), p.get_y()+p.get_height()/2),\n",
    "                   xytext=(5,0), textcoords='offset points', ha='left', va='center')\n",
    "plt.title(f\" Num producers: {(aux1['producer_id'].sum()):,}\")\n",
    "plt.yticks(fontsize =16)\n",
    "plt.xlabel(\"%\")\n",
    "plt.ylabel(\"\")\n",
    "plt.xlim(0, 100)\n",
    "plt.show()"
   ]
  },
  {
   "cell_type": "markdown",
   "metadata": {
    "heading_collapsed": true,
    "hidden": true
   },
   "source": [
    "### Producers above/below 10k GMV BRL LTV: Num of transactions"
   ]
  },
  {
   "cell_type": "code",
   "execution_count": null,
   "metadata": {
    "ExecuteTime": {
     "end_time": "2022-08-22T12:13:56.330473Z",
     "start_time": "2022-08-22T12:13:55.540334Z"
    },
    "hidden": true
   },
   "outputs": [],
   "source": [
    "# get top 10 countries \n",
    "plt.figure(figsize = (30,10))\n",
    "# get vol of users with purchase\n",
    "aux1 = df3[['purchase_id', 'is_below_10_entire']].groupby('is_below_10_entire').count().reset_index()\n",
    "aux1['%'] = aux1['purchase_id'] / aux1['purchase_id'].sum() * 100\n",
    "aux1 = aux1.sort_values('%', ascending=False)\n",
    "# plot graph with annotations\n",
    "sns.set_style('white')\n",
    "splot = sns.barplot(y = 'is_below_10_entire', x = '%', data = aux1, palette = palette_topics);\n",
    "\n",
    "for p in splot.patches:\n",
    "    splot.annotate(\"%.2f\" % p.get_width(), xy=(p.get_width(), p.get_y()+p.get_height()/2),\n",
    "                   xytext=(5,0), textcoords='offset points', ha='left', va='center')\n",
    "plt.title(f\" Num transactions: {(aux1['purchase_id'].sum()):,}\")\n",
    "plt.yticks(fontsize =16)\n",
    "plt.xlabel(\"%\")\n",
    "plt.ylabel(\"\")\n",
    "plt.xlim(0, 110)\n",
    "plt.show()"
   ]
  },
  {
   "cell_type": "markdown",
   "metadata": {
    "heading_collapsed": true
   },
   "source": [
    "## Check producer cohort"
   ]
  },
  {
   "cell_type": "code",
   "execution_count": null,
   "metadata": {
    "ExecuteTime": {
     "end_time": "2022-08-22T12:13:56.334537Z",
     "start_time": "2022-08-22T12:13:56.332359Z"
    },
    "hidden": true
   },
   "outputs": [],
   "source": [
    "# df3[(df3['gmv_2021'] == 0) & (df3['gmv_2022'] == 0)]\n",
    "# df3[(df3['gmv_brl_exact'] == 0)]\n",
    "# df3[(df3['gmv_brl_exact'].isna())]"
   ]
  },
  {
   "cell_type": "code",
   "execution_count": null,
   "metadata": {
    "ExecuteTime": {
     "end_time": "2022-08-22T12:13:58.350067Z",
     "start_time": "2022-08-22T12:13:56.336677Z"
    },
    "hidden": true
   },
   "outputs": [],
   "source": [
    "aux1 = df3[['producer_id','is_below_10_entire','gmv_brl_exact', 'gmv_brl_entire', 'gmv_2021', 'gmv_2022', 'mean_gmv_ltv']].drop_duplicates()\n",
    "aux1 = aux1[['is_below_10_entire', 'producer_id']].groupby('is_below_10_entire').count().reset_index()\n",
    "aux1['%'] = aux1['producer_id'] / aux1['producer_id'].sum() * 100\n",
    "aux1"
   ]
  },
  {
   "cell_type": "code",
   "execution_count": null,
   "metadata": {
    "ExecuteTime": {
     "end_time": "2022-08-22T12:13:59.995765Z",
     "start_time": "2022-08-22T12:13:58.352478Z"
    },
    "hidden": true
   },
   "outputs": [],
   "source": [
    "aux1 = df3[['producer_id','is_below_10_exact','gmv_brl_exact', 'gmv_brl_entire', 'gmv_2021', 'gmv_2022', 'mean_gmv_ltv']].drop_duplicates()\n",
    "aux1 = aux1[['is_below_10_exact', 'producer_id']].groupby('is_below_10_exact').count().reset_index()\n",
    "aux1['%'] = aux1['producer_id'] / aux1['producer_id'].sum() * 100\n",
    "aux1"
   ]
  },
  {
   "cell_type": "code",
   "execution_count": null,
   "metadata": {
    "ExecuteTime": {
     "end_time": "2022-08-22T12:14:01.602600Z",
     "start_time": "2022-08-22T12:13:59.998417Z"
    },
    "hidden": true
   },
   "outputs": [],
   "source": [
    "aux1 = df3[['producer_id','is_below_10_mean','gmv_brl_exact', 'gmv_brl_entire', 'gmv_2021', 'gmv_2022', 'mean_gmv_ltv']].drop_duplicates()\n",
    "aux1 = aux1[['is_below_10_mean', 'producer_id']].groupby('is_below_10_mean').count().reset_index()\n",
    "aux1['%'] = aux1['producer_id'] / aux1['producer_id'].sum() * 100\n",
    "aux1"
   ]
  },
  {
   "cell_type": "code",
   "execution_count": null,
   "metadata": {
    "ExecuteTime": {
     "end_time": "2022-08-22T12:14:02.888382Z",
     "start_time": "2022-08-22T12:14:01.604379Z"
    },
    "hidden": true
   },
   "outputs": [],
   "source": [
    "get_descriptive_statistics(df3[['producer_id','gmv_brl_exact', 'gmv_brl_entire', 'gmv_2021', 'gmv_2022', 'mean_gmv_ltv']].drop_duplicates().drop('producer_id', axis = 1))"
   ]
  },
  {
   "cell_type": "code",
   "execution_count": null,
   "metadata": {
    "ExecuteTime": {
     "end_time": "2022-08-22T12:14:18.161538Z",
     "start_time": "2022-08-22T12:14:02.890749Z"
    },
    "hidden": true
   },
   "outputs": [],
   "source": [
    "sns.distplot(df3['gmv_brl_exact'])\n",
    "plt.show()"
   ]
  },
  {
   "cell_type": "code",
   "execution_count": null,
   "metadata": {
    "ExecuteTime": {
     "end_time": "2022-08-22T12:14:32.891999Z",
     "start_time": "2022-08-22T12:14:18.164183Z"
    },
    "hidden": true
   },
   "outputs": [],
   "source": [
    "sns.distplot(df3['gmv_brl_entire'])\n",
    "plt.show()"
   ]
  },
  {
   "cell_type": "code",
   "execution_count": null,
   "metadata": {
    "ExecuteTime": {
     "end_time": "2022-08-22T12:14:49.066554Z",
     "start_time": "2022-08-22T12:14:32.894702Z"
    },
    "hidden": true
   },
   "outputs": [],
   "source": [
    "sns.distplot(df3['gmv_2021'])\n",
    "plt.show()"
   ]
  },
  {
   "cell_type": "code",
   "execution_count": null,
   "metadata": {
    "ExecuteTime": {
     "end_time": "2022-08-22T12:15:03.794038Z",
     "start_time": "2022-08-22T12:14:49.069031Z"
    },
    "hidden": true
   },
   "outputs": [],
   "source": [
    "sns.distplot(df3['gmv_2022'])\n",
    "plt.show()"
   ]
  },
  {
   "cell_type": "markdown",
   "metadata": {},
   "source": [
    "## Recompra (Reorder)"
   ]
  },
  {
   "cell_type": "markdown",
   "metadata": {
    "heading_collapsed": true
   },
   "source": [
    "### What is the overall frequency of repurchase? (by customer country, producer office, producer segment, producers below 10k BRL LTV)"
   ]
  },
  {
   "cell_type": "code",
   "execution_count": null,
   "metadata": {
    "ExecuteTime": {
     "end_time": "2022-09-01T14:45:58.922470Z",
     "start_time": "2022-09-01T14:45:58.919860Z"
    },
    "hidden": true
   },
   "outputs": [],
   "source": [
    " \n"
   ]
  },
  {
   "cell_type": "markdown",
   "metadata": {
    "hidden": true
   },
   "source": [
    "#### Overall"
   ]
  },
  {
   "cell_type": "code",
   "execution_count": null,
   "metadata": {
    "ExecuteTime": {
     "end_time": "2022-08-22T12:15:07.059685Z",
     "start_time": "2022-08-22T12:15:03.812070Z"
    },
    "hidden": true
   },
   "outputs": [],
   "source": [
    "# get vol of users with purchase\n",
    "aux1 = df3[['no_repurchase','repurchase',  'user_buyer_id']].groupby(['repurchase','no_repurchase']).nunique().reset_index()\n",
    "aux1['%'] = aux1['user_buyer_id'] / aux1['user_buyer_id'].sum() * 100\n",
    "aux1 = aux1.sort_values('%', ascending=False)\n",
    "aux3 = aux1[aux1['no_repurchase'] < 15]\n",
    "aux3['no_repurchase'] = aux3['no_repurchase'].astype(str)\n",
    "\n",
    "# plot graph with annotations\n",
    "plt.figure(figsize = (10,10))\n",
    "sns.set_style('white')\n",
    "splot = sns.barplot(y = 'no_repurchase', x = '%', data = aux3, palette = palette_bins);\n",
    "\n",
    "for p in splot.patches:\n",
    "    splot.annotate(\"%.3f\" % p.get_width(), xy=(p.get_width(), p.get_y()+p.get_height()/2),\n",
    "                   xytext=(5,0), textcoords='offset points', ha='left', va='center')\n",
    "plt.title(\"% users per volume of purchase\")\n",
    "plt.yticks(fontsize =16)\n",
    "plt.xlabel(f\"% of users (N = {(aux1['user_buyer_id'].sum()):,})\")\n",
    "plt.ylabel(\"# of purchases\")\n",
    "plt.xlim(0, 100)\n",
    "plt.show()"
   ]
  },
  {
   "cell_type": "code",
   "execution_count": null,
   "metadata": {
    "ExecuteTime": {
     "end_time": "2022-09-03T21:49:55.768292Z",
     "start_time": "2022-09-03T21:49:39.366051Z"
    },
    "hidden": true,
    "scrolled": true
   },
   "outputs": [],
   "source": [
    "# get vol of users with purchase\n",
    "aux1 = df3[['no_repurchase','repurchase',  'user_buyer_id']].groupby(['repurchase','no_repurchase']).nunique().reset_index()\n",
    "aux3 = aux1[aux1['no_repurchase'] != 1]\n",
    "aux3['no_repurchase'] = aux3['no_repurchase'] - 1\n",
    "# aux3['no_repurchase'] = aux3['no_repurchase'].astype(str)\n",
    "aux3['%'] = aux3['user_buyer_id'] / aux3['user_buyer_id'].sum() * 100\n",
    "aux3 = aux3.sort_values('%', ascending=False)\n",
    "# calculate bins\n",
    "aux3['bin_cut'] = aux3.apply(lambda x: '+4' if (x['no_repurchase'] >= 4) \n",
    "                             else x['no_repurchase'], axis = 1)\n",
    "aux3['bin_cut'] = aux3['bin_cut'].astype(\"category\")\n",
    "aux3 = aux3[['bin_cut', 'user_buyer_id']].groupby(['bin_cut']).sum().reset_index()\n",
    "aux3['%'] = aux3['user_buyer_id'] / aux3['user_buyer_id'].sum() * 100"
   ]
  },
  {
   "cell_type": "code",
   "execution_count": null,
   "metadata": {
    "ExecuteTime": {
     "end_time": "2022-09-03T21:54:10.186506Z",
     "start_time": "2022-09-03T21:54:10.058037Z"
    },
    "hidden": true
   },
   "outputs": [],
   "source": [
    "# plot graph with annotations\n",
    "plt.figure(figsize = (10,10))\n",
    "sns.set_style('white')\n",
    "splot = sns.barplot(y = 'bin_cut', x = '%', data = aux3, palette = {1: '#EF4E23', 2: '#9EA4AC',3: '#9EA4AC','+4': '#9EA4AC'});\n",
    "\n",
    "for p in splot.patches:\n",
    "    splot.annotate(\" %.2f\" % p.get_width() + '%', xy=(p.get_width(), p.get_y()+p.get_height()/2),\n",
    "                   xytext=(5,0), textcoords='offset points', \n",
    "                   ha='left', va='center', fontsize = 50, color = '#707780')\n",
    "    \n",
    "# plt.title(f\"Repurchase times (% buyers)\\n\" + f\"N: {aux3['user_buyer_id'].sum():,}\" , color =  '#707780' , fontsize = 35, loc = 'left')\n",
    "splot.set_title(f\"Repurchase times (% buyers)\\n\" + f\"N: {aux3['user_buyer_id'].sum():,}\" , color =  '#707780' , fontsize = 30, loc = 'left', pad=40)\n",
    "\n",
    "plt.yticks(fontsize =50)\n",
    "plt.ylabel(\"\")\n",
    "plt.xlim(0, 100)\n",
    "splot.tick_params(labelsize=30)\n",
    "splot.yaxis.label.set_color('#707780')\n",
    "splot.spines['left'].set_color('#707780')\n",
    "splot.tick_params(axis='y', colors='#707780',labelsize=50, pad = 30)\n",
    "#     splot.axes.get_yaxis().set_visible(False)\n",
    "splot.spines['right'].set_visible(False)\n",
    "splot.spines['top'].set_visible(False)\n",
    "splot.spines['left'].set_visible(False)\n",
    "splot.spines['bottom'].set_visible(False)\n",
    "splot.axes.get_xaxis().set_visible(False)\n",
    "# plt.xlabel(f\"{aux3['user_buyer_id'].sum():,}\", color = '#707780', fontsize = 30)\n",
    "plt.show()"
   ]
  },
  {
   "cell_type": "markdown",
   "metadata": {
    "heading_collapsed": true,
    "hidden": true
   },
   "source": [
    "#### Customer country"
   ]
  },
  {
   "cell_type": "code",
   "execution_count": null,
   "metadata": {
    "ExecuteTime": {
     "end_time": "2022-08-22T12:15:21.474526Z",
     "start_time": "2022-08-22T12:15:07.061579Z"
    },
    "hidden": true,
    "scrolled": false
   },
   "outputs": [],
   "source": [
    "# get top 10 countries (buyer country)\n",
    "top10 = list(df3[['user_country', 'purchase_id']].groupby('user_country').count().reset_index().sort_values('purchase_id', ascending=False)['user_country'][0:10])\n",
    "plt.figure(figsize = (30,15))\n",
    "\n",
    "for n, d in enumerate(top10):\n",
    "    plt.subplot(2,5,n+1)\n",
    "    # get vol of users with purchase\n",
    "    aux1 = df3[df3['user_country'] == d][['no_repurchase','repurchase',  'user_buyer_id']].groupby(['repurchase','no_repurchase']).nunique().reset_index()\n",
    "    aux1['%'] = aux1['user_buyer_id'] / aux1['user_buyer_id'].sum() * 100\n",
    "    aux1 = aux1.sort_values('%', ascending=False)\n",
    "    aux3 = aux1[aux1['no_repurchase'] < 15] \n",
    "    aux3['no_repurchase'] = aux3['no_repurchase'].astype(str)\n",
    "    # plot graph with annotations\n",
    "    sns.set_style('white')\n",
    "    splot = sns.barplot(y = 'no_repurchase', x = '%', data = aux3, palette = palette_bins);\n",
    "\n",
    "    for p in splot.patches:\n",
    "        splot.annotate(\"%.3f\" % p.get_width(), xy=(p.get_width(), p.get_y()+p.get_height()/2),\n",
    "                       xytext=(5,0), textcoords='offset points', ha='left', va='center')\n",
    "    plt.title(f\"{d} | N: {(aux1['user_buyer_id'].sum()):,}\")\n",
    "    plt.yticks(fontsize =16)\n",
    "    plt.xlabel(\"\")\n",
    "    plt.ylabel(\"\")\n",
    "    plt.xlim(0, 120)\n",
    "    if n == 0:\n",
    "        plt.ylabel(\"# of purchases\")\n",
    "    if n == 5:\n",
    "        plt.ylabel(\"# of purchases\")\n",
    "\n",
    "#         splot.spines['right'].set_visible(False)\n",
    "#         splot.spines['top'].set_visible(False)\n",
    "#         splot.spines['left'].set_visible(False)\n",
    "#         splot.spines['bottom'].set_visible(False)\n",
    "    splot.axes.get_xaxis().set_visible(False)\n",
    "#         splot.axes.get_yaxis().set_visible(False)\n",
    "# plt.subplots_adjust(hspace=0.2)\n",
    "plt.subplots_adjust(wspace=0.3)\n",
    "plt.show()"
   ]
  },
  {
   "cell_type": "markdown",
   "metadata": {
    "heading_collapsed": true,
    "hidden": true
   },
   "source": [
    "#### Producer office"
   ]
  },
  {
   "cell_type": "code",
   "execution_count": null,
   "metadata": {
    "ExecuteTime": {
     "end_time": "2022-08-22T12:16:58.081265Z",
     "start_time": "2022-08-22T12:15:21.476706Z"
    },
    "hidden": true
   },
   "outputs": [],
   "source": [
    "# get office list (by producer)\n",
    "country_list = list(df3[['user_office_name', 'purchase_id']].groupby('user_office_name').count().reset_index().sort_values('purchase_id', ascending=False)['user_office_name'][0:10])\n",
    "plt.figure(figsize = (30,15))\n",
    "\n",
    "for n, d in enumerate(country_list):\n",
    "    plt.subplot(2,3,n+1)\n",
    "    ### count purchases per user\n",
    "    aux1 = df3[df3['user_office_name'] == d]\n",
    "    aux2 = aux1[['user_buyer_id', 'purchase_id']].groupby('user_buyer_id').count().reset_index()\n",
    "    aux2.columns = ['user_buyer_id', 'no_repurchase_temp']\n",
    "    aux1 = aux1.merge(aux2, how = 'left', on = 'user_buyer_id')\n",
    "    ### flag repurchase\n",
    "    aux1['repurchase_temp'] = aux1['no_repurchase_temp'].apply(lambda x : 'repurchase' if x != 1 else 'single-purchase')    \n",
    "    \n",
    "    # get vol of users with purchase\n",
    "    aux1 = aux1[['no_repurchase_temp','repurchase_temp',  'user_buyer_id']].groupby(['repurchase_temp','no_repurchase_temp']).nunique().reset_index()\n",
    "    aux1['%'] = aux1['user_buyer_id'] / aux1['user_buyer_id'].sum() * 100\n",
    "    aux1 = aux1.sort_values('%', ascending=False)\n",
    "    aux3 = aux1[aux1['no_repurchase_temp'] < 15] \n",
    "    aux3['no_repurchase_temp'] = aux3['no_repurchase_temp'].astype(str)\n",
    "    # plot graph with annotations\n",
    "    sns.set_style('white')\n",
    "    splot = sns.barplot(y = 'no_repurchase_temp', x = '%', data = aux3, palette = palette_bins);\n",
    "\n",
    "    for p in splot.patches:\n",
    "        splot.annotate(\"%.3f\" % p.get_width(), xy=(p.get_width(), p.get_y()+p.get_height()/2),\n",
    "                       xytext=(5,0), textcoords='offset points', ha='left', va='center')\n",
    "    plt.title(f\"{d} | N: {(aux1['user_buyer_id'].sum()):,}\")\n",
    "    plt.yticks(fontsize =16)\n",
    "    plt.xlabel(\"\")\n",
    "    plt.ylabel(\"\")\n",
    "    plt.xlim(0, 120)\n",
    "    if n == 0:\n",
    "        plt.ylabel(\"# of purchases\")\n",
    "    if n == 3:\n",
    "        plt.ylabel(\"# of purchases\")\n",
    "#         splot.spines['right'].set_visible(False)\n",
    "#         splot.spines['top'].set_visible(False)\n",
    "#         splot.spines['left'].set_visible(False)\n",
    "#         splot.spines['bottom'].set_visible(False)\n",
    "    splot.axes.get_xaxis().set_visible(False)\n",
    "#         splot.axes.get_yaxis().set_visible(False)\n",
    "# plt.subplots_adjust(hspace=0.2)\n",
    "plt.subplots_adjust(wspace=0.1)\n",
    "plt.show()"
   ]
  },
  {
   "cell_type": "markdown",
   "metadata": {
    "heading_collapsed": true,
    "hidden": true
   },
   "source": [
    "#### Producer segment"
   ]
  },
  {
   "cell_type": "code",
   "execution_count": null,
   "metadata": {
    "ExecuteTime": {
     "end_time": "2022-08-22T12:18:24.101522Z",
     "start_time": "2022-08-22T12:16:58.086786Z"
    },
    "hidden": true
   },
   "outputs": [],
   "source": [
    "# get producer segment list\n",
    "plt.figure(figsize = (30,10))\n",
    "\n",
    "for n, d in enumerate(['SEED', 'SMALL', 'MEDIUM','LARGE']):\n",
    "    plt.subplot(1,4,n+1)\n",
    "    ### count purchases per user\n",
    "    aux1 = df3[df3['segment'] == d]\n",
    "    aux2 = aux1[['user_buyer_id', 'purchase_id']].groupby('user_buyer_id').count().reset_index()\n",
    "    aux2.columns = ['user_buyer_id', 'no_repurchase_temp']\n",
    "    aux1 = aux1.merge(aux2, how = 'left', on = 'user_buyer_id')\n",
    "    ### flag repurchase\n",
    "    aux1['repurchase_temp'] = aux1['no_repurchase_temp'].apply(lambda x : 'repurchase' if x != 1 else 'single-purchase')    \n",
    "    \n",
    "    # get vol of users with purchase\n",
    "    aux1 = aux1[['no_repurchase_temp','repurchase_temp',  'user_buyer_id']].groupby(['repurchase_temp','no_repurchase_temp']).nunique().reset_index()\n",
    "    aux1['%'] = aux1['user_buyer_id'] / aux1['user_buyer_id'].sum() * 100\n",
    "    aux1 = aux1.sort_values('%', ascending=False)\n",
    "    aux3 = aux1[aux1['no_repurchase_temp'] < 15] \n",
    "    aux3['no_repurchase_temp'] = aux3['no_repurchase_temp'].astype(str)\n",
    "    # plot graph with annotations\n",
    "    sns.set_style('white')\n",
    "    splot = sns.barplot(y = 'no_repurchase_temp', x = '%', data = aux3, palette = palette_bins);\n",
    "\n",
    "    for p in splot.patches:\n",
    "        splot.annotate(\"%.3f\" % p.get_width(), xy=(p.get_width(), p.get_y()+p.get_height()/2),\n",
    "                       xytext=(5,0), textcoords='offset points', ha='left', va='center')\n",
    "    plt.title(f\"{d} | N: {(aux1['user_buyer_id'].sum()):,}\")\n",
    "    plt.yticks(fontsize =16)\n",
    "    plt.xlabel(\"\")\n",
    "    plt.ylabel(\"\")\n",
    "    plt.xlim(0, 120)\n",
    "    if n == 0:\n",
    "        plt.ylabel(\"# of purchases\")\n",
    "#         splot.spines['right'].set_visible(False)\n",
    "#         splot.spines['top'].set_visible(False)\n",
    "#         splot.spines['left'].set_visible(False)\n",
    "#         splot.spines['bottom'].set_visible(False)\n",
    "    splot.axes.get_xaxis().set_visible(False)\n",
    "#         splot.axes.get_yaxis().set_visible(False)\n",
    "# plt.subplots_adjust(hspace=0.2)\n",
    "plt.subplots_adjust(wspace=0.2)\n",
    "plt.show()"
   ]
  },
  {
   "cell_type": "markdown",
   "metadata": {
    "heading_collapsed": true,
    "hidden": true
   },
   "source": [
    "#### Producers < 10k BRL LTV"
   ]
  },
  {
   "cell_type": "code",
   "execution_count": null,
   "metadata": {
    "ExecuteTime": {
     "end_time": "2022-08-22T12:19:58.635034Z",
     "start_time": "2022-08-22T12:18:24.103256Z"
    },
    "hidden": true
   },
   "outputs": [],
   "source": [
    "# get producer segment list\n",
    "plt.figure(figsize = (20,10))\n",
    "\n",
    "for n, d in enumerate(['below', 'above']):\n",
    "    plt.subplot(1,2,n+1)\n",
    "    ### count purchases per user\n",
    "    aux1 = df3[df3['is_below_10_entire'] == d]\n",
    "    aux2 = aux1[['user_buyer_id', 'purchase_id']].groupby('user_buyer_id').count().reset_index()\n",
    "    aux2.columns = ['user_buyer_id', 'no_repurchase_temp']\n",
    "    aux1 = aux1.merge(aux2, how = 'left', on = 'user_buyer_id')\n",
    "    ### flag repurchase\n",
    "    aux1['repurchase_temp'] = aux1['no_repurchase_temp'].apply(lambda x : 'repurchase' if x != 1 else 'single-purchase')    \n",
    "    \n",
    "    # get vol of users with purchase\n",
    "    aux1 = aux1[['no_repurchase_temp','repurchase_temp',  'user_buyer_id']].groupby(['repurchase_temp','no_repurchase_temp']).nunique().reset_index()\n",
    "    aux1['%'] = aux1['user_buyer_id'] / aux1['user_buyer_id'].sum() * 100\n",
    "    aux1 = aux1.sort_values('%', ascending=False)\n",
    "    aux3 = aux1[aux1['no_repurchase_temp'] < 15] \n",
    "    aux3['no_repurchase_temp'] = aux3['no_repurchase_temp'].astype(str)\n",
    "    # plot graph with annotations\n",
    "    sns.set_style('white')\n",
    "    splot = sns.barplot(y = 'no_repurchase_temp', x = '%', data = aux3, palette = palette_bins);\n",
    "\n",
    "    for p in splot.patches:\n",
    "        splot.annotate(\"%.3f\" % p.get_width(), xy=(p.get_width(), p.get_y()+p.get_height()/2),\n",
    "                       xytext=(5,0), textcoords='offset points', ha='left', va='center')\n",
    "    plt.title(f\"{d} | N: {(aux1['user_buyer_id'].sum()):,}\")\n",
    "    plt.yticks(fontsize =16)\n",
    "    plt.xlabel(\"\")\n",
    "    plt.ylabel(\"\")\n",
    "    plt.xlim(0, 120)\n",
    "    if n == 0:\n",
    "        plt.ylabel(\"# of purchases\")\n",
    "#         splot.spines['right'].set_visible(False)\n",
    "#         splot.spines['top'].set_visible(False)\n",
    "#         splot.spines['left'].set_visible(False)\n",
    "#         splot.spines['bottom'].set_visible(False)\n",
    "    splot.axes.get_xaxis().set_visible(False)\n",
    "#         splot.axes.get_yaxis().set_visible(False)\n",
    "# plt.subplots_adjust(hspace=0.2)\n",
    "plt.subplots_adjust(wspace=0.2)\n",
    "plt.show()"
   ]
  },
  {
   "cell_type": "markdown",
   "metadata": {
    "heading_collapsed": true
   },
   "source": [
    "### How many customers repurchase? (by customer country, producer office, producer segment, producers below 10k BRL LTV)"
   ]
  },
  {
   "cell_type": "code",
   "execution_count": null,
   "metadata": {
    "ExecuteTime": {
     "end_time": "2022-08-22T12:19:58.645751Z",
     "start_time": "2022-08-22T12:19:58.640917Z"
    },
    "hidden": true
   },
   "outputs": [],
   "source": [
    " \n",
    " \n",
    " "
   ]
  },
  {
   "cell_type": "markdown",
   "metadata": {
    "heading_collapsed": true,
    "hidden": true
   },
   "source": [
    "#### Overall"
   ]
  },
  {
   "cell_type": "code",
   "execution_count": null,
   "metadata": {
    "ExecuteTime": {
     "end_time": "2022-09-01T15:24:59.290384Z",
     "start_time": "2022-09-01T15:24:58.680220Z"
    },
    "hidden": true
   },
   "outputs": [],
   "source": [
    "# perc of GMV unique at each office\n",
    "aux1 = df3[['gmv_value_brl', 'user_office_name']].groupby('user_office_name').sum()\n",
    "aux1['%'] = aux1['gmv_value_brl'] / aux1['gmv_value_brl'].sum() * 100\n",
    "aux1"
   ]
  },
  {
   "cell_type": "code",
   "execution_count": null,
   "metadata": {
    "ExecuteTime": {
     "end_time": "2022-09-01T15:16:44.381124Z",
     "start_time": "2022-09-01T15:16:41.641922Z"
    },
    "hidden": true
   },
   "outputs": [],
   "source": [
    "# perc of users unique at each office\n",
    "aux1 = df3[['user_buyer_id', 'user_office_name']].groupby('user_office_name').nunique()\n",
    "aux1['%'] = aux1['user_buyer_id'] / aux1['user_buyer_id'].sum() * 100\n",
    "aux1"
   ]
  },
  {
   "cell_type": "code",
   "execution_count": null,
   "metadata": {
    "ExecuteTime": {
     "end_time": "2022-09-02T19:41:50.589416Z",
     "start_time": "2022-09-02T19:41:47.506048Z"
    },
    "hidden": true,
    "scrolled": false
   },
   "outputs": [],
   "source": [
    "# get vol of users with purchase\n",
    "aux1 = df3[['no_repurchase','repurchase',  'user_buyer_id']].groupby(['repurchase','no_repurchase']).nunique().reset_index()\n",
    "aux1['%'] = aux1['user_buyer_id'] / aux1['user_buyer_id'].sum() * 100\n",
    "aux1 = aux1.sort_values('%', ascending=False)\n",
    "\n",
    "# get users who repurchase\n",
    "aux3 = aux1[['repurchase', 'user_buyer_id']].groupby('repurchase').sum().reset_index()\n",
    "aux3['%'] = aux3['user_buyer_id'] / aux3['user_buyer_id'].sum() * 100\n",
    "\n",
    "# plot graph with annotations\n",
    "plt.figure(figsize = (5,5))\n",
    "sns.set_style('white')\n",
    "splot = sns.barplot(y = 'repurchase', x = '%', data = aux3, \n",
    "                    palette = palette_two\n",
    "                    , order = ['single-purchase', 'repurchase']);\n",
    "\n",
    "for p in splot.patches:\n",
    "    splot.annotate(\"%.2f\" % p.get_width(), xy=(p.get_width(), p.get_y()+p.get_height()/2),\n",
    "                   xytext=(5,0), textcoords='offset points', ha='left', va='center')\n",
    "plt.title(\"% users\")\n",
    "plt.yticks(fontsize =16)\n",
    "plt.xlabel(f\"% (N = {(aux3['user_buyer_id'].sum()):,})\")\n",
    "plt.ylabel(\"\")\n",
    "plt.xlim(0, 100)\n",
    "splot.yaxis.label.set_color('#707780')\n",
    "splot.spines['left'].set_color('#707780')\n",
    "splot.tick_params(axis='y', colors='#707780')\n",
    "\n",
    "# splot.axes.get_yaxis().set_visible(False)\n",
    "splot.spines['right'].set_visible(False)\n",
    "splot.spines['top'].set_visible(False)\n",
    "splot.spines['left'].set_visible(False)\n",
    "splot.spines['bottom'].set_visible(False)\n",
    "splot.axes.get_xaxis().set_visible(False)\n",
    "plt.tick_params(labelsize=30)\n",
    "plt.tick_params(axis = 'y', labelsize=30, pad = 20)\n",
    "plt.show()"
   ]
  },
  {
   "cell_type": "code",
   "execution_count": null,
   "metadata": {
    "ExecuteTime": {
     "end_time": "2022-09-02T17:43:31.429469Z",
     "start_time": "2022-09-02T17:43:28.357711Z"
    },
    "hidden": true,
    "scrolled": false
   },
   "outputs": [],
   "source": [
    "# get vol of users with purchase\n",
    "aux1 = df3[['no_repurchase','repurchase',  'user_buyer_id']].groupby(['repurchase','no_repurchase']).nunique().reset_index()\n",
    "aux1['%'] = aux1['user_buyer_id'] / aux1['user_buyer_id'].sum() * 100\n",
    "aux1 = aux1.sort_values('%', ascending=False)\n",
    "\n",
    "# get users who repurchase\n",
    "aux3 = aux1[['repurchase', 'user_buyer_id']].groupby('repurchase').sum().reset_index()\n",
    "aux3['%'] = aux3['user_buyer_id'] / aux3['user_buyer_id'].sum() * 100\n",
    "\n",
    "# plot graph with annotations\n",
    "plt.figure(figsize = (10,10))\n",
    "sns.set_style('white')\n",
    "splot = sns.barplot(y = 'repurchase', x = '%', data = aux3, \n",
    "                    palette = palette_two\n",
    "                    , order = ['single-purchase', 'repurchase']);\n",
    "\n",
    "for p in splot.patches:\n",
    "    splot.annotate(\"%.2f\" % p.get_width(), xy=(p.get_width(), p.get_y()+p.get_height()/2),\n",
    "                   xytext=(5,0), textcoords='offset points', ha='left', va='center')\n",
    "plt.title(\"% users\")\n",
    "plt.yticks(fontsize =16)\n",
    "plt.xlabel(f\"% (N = {(aux3['user_buyer_id'].sum()):,})\")\n",
    "plt.ylabel(\"\", color = 'darkgrey')\n",
    "plt.xlim(0, 100)\n",
    "# splot.axes.get_yaxis().set_visible(False)\n",
    "# splot.spines['right'].set_visible(False)\n",
    "# splot.spines['top'].set_visible(False)\n",
    "# splot.spines['left'].set_visible(False)\n",
    "# splot.spines['bottom'].set_visible(False)\n",
    "# splot.axes.get_xaxis().set_visible(False)\n",
    "plt.show()"
   ]
  },
  {
   "cell_type": "markdown",
   "metadata": {
    "heading_collapsed": true,
    "hidden": true
   },
   "source": [
    "#### Customer country"
   ]
  },
  {
   "cell_type": "code",
   "execution_count": null,
   "metadata": {
    "ExecuteTime": {
     "end_time": "2022-08-22T12:20:21.090123Z",
     "start_time": "2022-08-22T12:20:02.421594Z"
    },
    "hidden": true,
    "scrolled": false
   },
   "outputs": [],
   "source": [
    "# get top 10 countries \n",
    "top10 = list(df3[['user_country', 'purchase_id']].groupby('user_country').count().reset_index().sort_values('purchase_id', ascending=False)['user_country'][0:10])\n",
    "plt.figure(figsize = (30,10))\n",
    "\n",
    "for n, d in enumerate(top10):\n",
    "    plt.subplot(2,5,n+1)\n",
    "    # get vol of users with purchase\n",
    "    aux1 = df3[df3['user_country'] == d][['no_repurchase','repurchase',  'user_buyer_id']].groupby(['repurchase','no_repurchase']).nunique().reset_index()\n",
    "    aux1['%'] = aux1['user_buyer_id'] / aux1['user_buyer_id'].sum() * 100\n",
    "    aux1 = aux1.sort_values('%', ascending=False)\n",
    "    # get users who repurchase\n",
    "    aux3 = aux1[['repurchase', 'user_buyer_id']].groupby('repurchase').sum().reset_index()\n",
    "    aux3['%'] = aux3['user_buyer_id'] / aux3['user_buyer_id'].sum() * 100\n",
    "    # plot graph with annotations\n",
    "    sns.set_style('white')\n",
    "    splot = sns.barplot(y = 'repurchase', x = '%', data = aux3, palette = palette_types, order = ['single-purchase', 'repurchase']);\n",
    "\n",
    "    for p in splot.patches:\n",
    "        splot.annotate(\"%.2f\" % p.get_width(), xy=(p.get_width(), p.get_y()+p.get_height()/2),\n",
    "                       xytext=(5,0), textcoords='offset points', ha='left', va='center')\n",
    "    plt.title(f\"{d} | N: {(aux1['user_buyer_id'].sum()):,}\")\n",
    "    plt.yticks(fontsize =16)\n",
    "    plt.xlabel(\"\")\n",
    "    plt.ylabel(\"\")\n",
    "    plt.xlim(0, 120)\n",
    "    if n not in (0, 5):\n",
    "        splot.axes.get_yaxis().set_visible(False)\n",
    "#         splot.spines['right'].set_visible(False)\n",
    "#         splot.spines['top'].set_visible(False)\n",
    "#         splot.spines['left'].set_visible(False)\n",
    "#         splot.spines['bottom'].set_visible(False)\n",
    "    splot.axes.get_xaxis().set_visible(False)\n",
    "#         splot.axes.get_yaxis().set_visible(False)\n",
    "# plt.subplots_adjust(hspace=0.2)\n",
    "plt.subplots_adjust(wspace=0.3)\n",
    "plt.show()"
   ]
  },
  {
   "cell_type": "markdown",
   "metadata": {
    "heading_collapsed": true,
    "hidden": true
   },
   "source": [
    "#### Producer office"
   ]
  },
  {
   "cell_type": "code",
   "execution_count": null,
   "metadata": {
    "ExecuteTime": {
     "end_time": "2022-08-22T12:21:58.396433Z",
     "start_time": "2022-08-22T12:20:21.092600Z"
    },
    "hidden": true
   },
   "outputs": [],
   "source": [
    "# get producer office\n",
    "country_list = list(df3[['user_office_name', 'purchase_id']].groupby('user_office_name').count().reset_index().sort_values('purchase_id', ascending=False)['user_office_name'])\n",
    "plt.figure(figsize = (30,10))\n",
    "\n",
    "for n, d in enumerate(country_list):\n",
    "    plt.subplot(2,3,n+1)\n",
    "    ### count purchases per user\n",
    "    aux1 = df3[df3['user_office_name'] == d]\n",
    "    aux2 = aux1[['user_buyer_id', 'purchase_id']].groupby('user_buyer_id').count().reset_index()\n",
    "    aux2.columns = ['user_buyer_id', 'no_repurchase_temp']\n",
    "    aux1 = aux1.merge(aux2, how = 'left', on = 'user_buyer_id')\n",
    "    ### flag repurchase\n",
    "    aux1['repurchase_temp'] = aux1['no_repurchase_temp'].apply(lambda x : 'repurchase' if x != 1 else 'single-purchase')    \n",
    "    \n",
    "    # get vol of users with purchase\n",
    "    aux1 = aux1[['no_repurchase_temp','repurchase_temp',  'user_buyer_id']].groupby(['repurchase_temp','no_repurchase_temp']).nunique().reset_index()\n",
    "    aux1['%'] = aux1['user_buyer_id'] / aux1['user_buyer_id'].sum() * 100\n",
    "    aux1 = aux1.sort_values('%', ascending=False)\n",
    "    # get users who repurchase\n",
    "    aux3 = aux1[['repurchase_temp', 'user_buyer_id']].groupby('repurchase_temp').sum().reset_index()\n",
    "    aux3['%'] = aux3['user_buyer_id'] / aux3['user_buyer_id'].sum() * 100\n",
    "    # plot graph with annotations\n",
    "    sns.set_style('white')\n",
    "    splot = sns.barplot(y = 'repurchase_temp', x = '%', data = aux3, palette = palette_types, order = ['single-purchase', 'repurchase']);\n",
    "\n",
    "    for p in splot.patches:\n",
    "        splot.annotate(\"%.2f\" % p.get_width(), xy=(p.get_width(), p.get_y()+p.get_height()/2),\n",
    "                       xytext=(5,0), textcoords='offset points', ha='left', va='center')\n",
    "    plt.title(f\"{d} | N: {(aux1['user_buyer_id'].sum()):,}\")\n",
    "    plt.yticks(fontsize =16)\n",
    "    plt.xlabel(\"\")\n",
    "    plt.ylabel(\"\")\n",
    "    plt.xlim(0, 120)\n",
    "    splot.axes.get_yaxis().set_visible(False)\n",
    "    if n == 0:\n",
    "        splot.axes.get_yaxis().set_visible(True)\n",
    "    if n == 3:\n",
    "        splot.axes.get_yaxis().set_visible(True)\n",
    "#         splot.spines['right'].set_visible(False)\n",
    "#         splot.spines['top'].set_visible(False)\n",
    "#         splot.spines['left'].set_visible(False)\n",
    "#         splot.spines['bottom'].set_visible(False)\n",
    "    splot.axes.get_xaxis().set_visible(False)\n",
    "#         splot.axes.get_yaxis().set_visible(False)\n",
    "# plt.subplots_adjust(hspace=0.2)\n",
    "plt.subplots_adjust(wspace=0.1)\n",
    "plt.show()"
   ]
  },
  {
   "cell_type": "markdown",
   "metadata": {
    "heading_collapsed": true,
    "hidden": true
   },
   "source": [
    "#### Producer segment"
   ]
  },
  {
   "cell_type": "code",
   "execution_count": null,
   "metadata": {
    "ExecuteTime": {
     "end_time": "2022-08-22T12:23:29.628029Z",
     "start_time": "2022-08-22T12:21:58.401771Z"
    },
    "hidden": true
   },
   "outputs": [],
   "source": [
    "# get top 10 countries \n",
    "segment_list = list(df3[['segment', 'purchase_id']].groupby('segment').count().reset_index().sort_values('purchase_id', ascending=False)['segment'])\n",
    "plt.figure(figsize = (25,10))\n",
    "\n",
    "for n, d in enumerate([ 'SEED',  'SMALL', 'MEDIUM', 'LARGE']):\n",
    "    plt.subplot(1,4, n+1)\n",
    "    ### count purchases per user\n",
    "    aux1 = df3[df3['segment'] == d]\n",
    "    aux2 = aux1[['user_buyer_id', 'purchase_id']].groupby('user_buyer_id').count().reset_index()\n",
    "    aux2.columns = ['user_buyer_id', 'no_repurchase_temp']\n",
    "    aux1 = aux1.merge(aux2, how = 'left', on = 'user_buyer_id')\n",
    "    ### flag repurchase\n",
    "    aux1['repurchase_temp'] = aux1['no_repurchase_temp'].apply(lambda x : 'repurchase' if x != 1 else 'single-purchase')    \n",
    "    \n",
    "    # get vol of users with purchase\n",
    "    aux1 = aux1[['no_repurchase_temp','repurchase_temp',  'user_buyer_id']].groupby(['repurchase_temp','no_repurchase_temp']).nunique().reset_index()\n",
    "    aux1['%'] = aux1['user_buyer_id'] / aux1['user_buyer_id'].sum() * 100\n",
    "    aux1 = aux1.sort_values('%', ascending=False)\n",
    "    # get users who repurchase\n",
    "    aux3 = aux1[['repurchase_temp', 'user_buyer_id']].groupby('repurchase_temp').sum().reset_index()\n",
    "    aux3['%'] = aux3['user_buyer_id'] / aux3['user_buyer_id'].sum() * 100\n",
    "    # plot graph with annotations\n",
    "    sns.set_style('white')\n",
    "    splot = sns.barplot(y = 'repurchase_temp', x = '%', data = aux3, palette = palette_types, order =  ['single-purchase', 'repurchase']);\n",
    "\n",
    "    for p in splot.patches:\n",
    "        splot.annotate(\"%.2f\" % p.get_width(), xy=(p.get_width(), p.get_y()+p.get_height()/2),\n",
    "                       xytext=(5,0), textcoords='offset points', ha='left', va='center')\n",
    "    plt.title(f\"{d} | N: {(aux1['user_buyer_id'].sum()):,}\")\n",
    "    plt.yticks(fontsize =16)\n",
    "    plt.xlabel(\"\")\n",
    "    plt.ylabel(\"\")\n",
    "    plt.xlim(0, 120)\n",
    "    splot.axes.get_yaxis().set_visible(False)\n",
    "    if n == 0:\n",
    "        splot.axes.get_yaxis().set_visible(True)\n",
    "#         splot.spines['right'].set_visible(False)\n",
    "#         splot.spines['top'].set_visible(False)\n",
    "#         splot.spines['left'].set_visible(False)\n",
    "#         splot.spines['bottom'].set_visible(False)\n",
    "    splot.axes.get_xaxis().set_visible(False)\n",
    "#         splot.axes.get_yaxis().set_visible(False)\n",
    "# plt.subplots_adjust(hspace=0.2)\n",
    "plt.subplots_adjust(wspace=0.2)\n",
    "plt.show()"
   ]
  },
  {
   "cell_type": "markdown",
   "metadata": {
    "heading_collapsed": true,
    "hidden": true
   },
   "source": [
    "#### Producers < 10k BRL LTV"
   ]
  },
  {
   "cell_type": "code",
   "execution_count": null,
   "metadata": {
    "ExecuteTime": {
     "end_time": "2022-09-02T15:22:10.256756Z",
     "start_time": "2022-09-02T15:20:20.989590Z"
    },
    "hidden": true
   },
   "outputs": [],
   "source": [
    "plt.figure(figsize = (25,10))\n",
    "\n",
    "for n, d in enumerate(['below', 'above']):\n",
    "    plt.subplot(1,2,n+1)\n",
    "    ### count purchases per user\n",
    "    aux1 = df3[df3['is_below_10_entire'] == d]\n",
    "    aux2 = aux1[['user_buyer_id', 'purchase_id']].groupby('user_buyer_id').count().reset_index()\n",
    "    aux2.columns = ['user_buyer_id', 'no_repurchase_temp']\n",
    "    aux1 = aux1.merge(aux2, how = 'left', on = 'user_buyer_id')\n",
    "    ### flag repurchase\n",
    "    aux1['repurchase_temp'] = aux1['no_repurchase_temp'].apply(lambda x : 'repurchase' if x != 1 else 'single-purchase')    \n",
    "    \n",
    "    # get vol of users with purchase\n",
    "    aux1 = aux1[['no_repurchase_temp','repurchase_temp',  'user_buyer_id']].groupby(['repurchase_temp','no_repurchase_temp']).nunique().reset_index()\n",
    "    aux1['%'] = aux1['user_buyer_id'] / aux1['user_buyer_id'].sum() * 100\n",
    "    aux1 = aux1.sort_values('%', ascending=False)\n",
    "    # get users who repurchase\n",
    "    aux3 = aux1[['repurchase_temp', 'user_buyer_id']].groupby('repurchase_temp').sum().reset_index()\n",
    "    aux3['%'] = aux3['user_buyer_id'] / aux3['user_buyer_id'].sum() * 100\n",
    "    # plot graph with annotations\n",
    "    sns.set_style('white')\n",
    "    splot = sns.barplot(y = 'repurchase_temp', x = '%', data = aux3, palette = palette_two, order = ['single-purchase', 'repurchase']);\n",
    "\n",
    "    for p in splot.patches:\n",
    "        splot.annotate(\"%.2f\" % p.get_width(), xy=(p.get_width(), p.get_y()+p.get_height()/2),\n",
    "                       xytext=(5,0), textcoords='offset points', ha='left', va='center')\n",
    "    plt.title(f\"{d} | N: {(aux1['user_buyer_id'].sum()):,}\")\n",
    "    plt.yticks(fontsize =16)\n",
    "    plt.xlabel(\"\")\n",
    "    plt.ylabel(\"\")\n",
    "    plt.xlim(0, 120)\n",
    "    splot.axes.get_yaxis().set_visible(False)\n",
    "    if n == 0:\n",
    "        splot.axes.get_yaxis().set_visible(True)\n",
    "#         splot.spines['right'].set_visible(False)\n",
    "#         splot.spines['top'].set_visible(False)\n",
    "#         splot.spines['left'].set_visible(False)\n",
    "#         splot.spines['bottom'].set_visible(False)\n",
    "    splot.axes.get_xaxis().set_visible(False)\n",
    "#         splot.axes.get_yaxis().set_visible(False)\n",
    "# plt.subplots_adjust(hspace=0.2)\n",
    "plt.subplots_adjust(wspace=0.2)\n",
    "plt.show()"
   ]
  },
  {
   "cell_type": "code",
   "execution_count": null,
   "metadata": {
    "ExecuteTime": {
     "end_time": "2022-09-03T22:01:42.187851Z",
     "start_time": "2022-09-03T22:00:01.057465Z"
    },
    "hidden": true
   },
   "outputs": [],
   "source": [
    "rates = pd.DataFrame()\n",
    "for n, d in enumerate(['below', 'above']):\n",
    "#     plt.subplot(2,1,n+1)\n",
    "    ### count purchases per user\n",
    "    aux1 = df3[df3['is_below_10_entire'] == d]\n",
    "    aux2 = aux1[['user_buyer_id', 'purchase_id']].groupby('user_buyer_id').count().reset_index()\n",
    "    aux2.columns = ['user_buyer_id', 'no_repurchase_temp']\n",
    "    aux1 = aux1.merge(aux2, how = 'left', on = 'user_buyer_id')\n",
    "    ### flag repurchase\n",
    "    aux1['repurchase_temp'] = aux1['no_repurchase_temp'].apply(lambda x : 'repurchase' if x != 1 else 'single-purchase')    \n",
    "    \n",
    "    # get vol of users with purchase\n",
    "    aux1 = aux1[['no_repurchase_temp','repurchase_temp',  'user_buyer_id']].groupby(['repurchase_temp','no_repurchase_temp']).nunique().reset_index()\n",
    "    aux1['%'] = aux1['user_buyer_id'] / aux1['user_buyer_id'].sum() * 100\n",
    "    aux1 = aux1.sort_values('%', ascending=False)\n",
    "    # get users who repurchase\n",
    "    aux3 = aux1[['repurchase_temp', 'user_buyer_id']].groupby('repurchase_temp').sum().reset_index()\n",
    "    aux3['%'] = aux3['user_buyer_id'] / aux3['user_buyer_id'].sum() * 100\n",
    "    aux4 = aux3[aux3['repurchase_temp'] == 'repurchase'][['%', 'user_buyer_id']]\n",
    "    aux4['type'] = d\n",
    "    rates = pd.concat([rates,aux4])\n"
   ]
  },
  {
   "cell_type": "code",
   "execution_count": null,
   "metadata": {
    "ExecuteTime": {
     "end_time": "2022-09-03T22:04:14.519630Z",
     "start_time": "2022-09-03T22:04:14.397467Z"
    },
    "hidden": true
   },
   "outputs": [],
   "source": [
    "\n",
    "plt.figure(figsize = (15,10))\n",
    "# plot graph with annotations\n",
    "sns.set_style('white')\n",
    "splot = sns.barplot(y = 'type', x = '%', data = rates, palette = palette_above, order = ['above', 'below']);\n",
    "\n",
    "for p in splot.patches:\n",
    "    splot.annotate(\" %.2f\" % p.get_width() + '%', xy=(p.get_width(), p.get_y()+p.get_height()/2),\n",
    "                   xytext=(5,0), textcoords='offset points', \n",
    "                   ha='left', va='center', fontsize = 50, color = '#707780')\n",
    "splot.set_title(f\"Reorder Rate\" , color =  '#707780' , fontsize = 40, loc = 'left', pad=50)\n",
    "\n",
    "plt.yticks(fontsize =60)\n",
    "plt.xlabel(\"\")\n",
    "plt.ylabel(\"\")\n",
    "plt.xlim(0, 50)\n",
    "splot.tick_params(labelsize=30)\n",
    "splot.yaxis.label.set_color('#707780')\n",
    "splot.spines['left'].set_color('#707780')\n",
    "splot.tick_params(axis='y', colors='#707780',labelsize=50, pad = 30)\n",
    "#     splot.axes.get_yaxis().set_visible(False)\n",
    "splot.spines['right'].set_visible(False)\n",
    "splot.spines['top'].set_visible(False)\n",
    "splot.spines['left'].set_visible(False)\n",
    "splot.spines['bottom'].set_visible(False)\n",
    "splot.axes.get_xaxis().set_visible(False)\n",
    "plt.show()"
   ]
  },
  {
   "cell_type": "markdown",
   "metadata": {
    "heading_collapsed": true
   },
   "source": [
    "### Repurchase Rate across months"
   ]
  },
  {
   "cell_type": "code",
   "execution_count": null,
   "metadata": {
    "ExecuteTime": {
     "end_time": "2022-09-02T13:59:10.501966Z",
     "start_time": "2022-09-02T13:59:10.499195Z"
    },
    "hidden": true
   },
   "outputs": [],
   "source": [
    "# df3[['user_buyer_id', 'year_month', 'purchase_id']].groupby(['user_buyer_id', 'year_month']).count().reset_index().head(50)"
   ]
  },
  {
   "cell_type": "code",
   "execution_count": null,
   "metadata": {
    "ExecuteTime": {
     "end_time": "2022-09-01T17:17:07.446101Z",
     "start_time": "2022-09-01T17:16:59.879808Z"
    },
    "hidden": true
   },
   "outputs": [],
   "source": [
    "# get purchase volume by user and period\n",
    "aux1 = df3[['user_buyer_id', 'year_month', 'purchase_id']].groupby(['user_buyer_id', 'year_month']).count().reset_index()\n",
    "aux2 = aux1[aux1['purchase_id'] > 1][['year_month', 'user_buyer_id']].groupby(['year_month']).nunique()\n",
    "aux2"
   ]
  },
  {
   "cell_type": "code",
   "execution_count": null,
   "metadata": {
    "ExecuteTime": {
     "end_time": "2022-09-01T17:18:07.547897Z",
     "start_time": "2022-09-01T17:18:06.311601Z"
    },
    "hidden": true
   },
   "outputs": [],
   "source": [
    "df3[df3['year_month'] == '2022-06']['user_buyer_id'].nunique()"
   ]
  },
  {
   "cell_type": "markdown",
   "metadata": {
    "heading_collapsed": true
   },
   "source": [
    "### [CHECK] How much GMV is generated by customers who repurchase? (by customer country, producer office, producer segment, producers below 10k BRL LTV)"
   ]
  },
  {
   "cell_type": "code",
   "execution_count": null,
   "metadata": {
    "ExecuteTime": {
     "end_time": "2022-09-11T19:29:37.666904Z",
     "start_time": "2022-09-11T19:29:37.664190Z"
    },
    "hidden": true
   },
   "outputs": [],
   "source": [
    " \n",
    " \n",
    " \n",
    " \n",
    " "
   ]
  },
  {
   "cell_type": "markdown",
   "metadata": {
    "heading_collapsed": true,
    "hidden": true
   },
   "source": [
    "#### Overall"
   ]
  },
  {
   "cell_type": "code",
   "execution_count": null,
   "metadata": {
    "ExecuteTime": {
     "end_time": "2022-09-14T14:41:34.366925Z",
     "start_time": "2022-09-14T14:41:33.558798Z"
    },
    "hidden": true
   },
   "outputs": [],
   "source": [
    "# get vol of users with purchase\n",
    "aux1 = df3[['repurchase',  'gmv_value_brl']].groupby(['repurchase']).sum().reset_index()\n",
    "aux1['%'] = aux1['gmv_value_brl'] / aux1['gmv_value_brl'].sum() * 100\n",
    "aux1 = aux1.sort_values('%', ascending=False)"
   ]
  },
  {
   "cell_type": "code",
   "execution_count": null,
   "metadata": {
    "ExecuteTime": {
     "end_time": "2022-09-11T19:33:12.856018Z",
     "start_time": "2022-09-11T19:33:12.697011Z"
    },
    "hidden": true
   },
   "outputs": [],
   "source": [
    "# plot graph with annotations\n",
    "plt.figure(figsize = (10,10))\n",
    "\n",
    "sns.set_style('white')\n",
    "splot = sns.barplot(y = 'repurchase', x = '%', data = aux1, palette = palette_types, order = ['single-purchase', 'repurchase']);\n",
    "\n",
    "for p in splot.patches:\n",
    "    splot.annotate(\"%.2f\" % p.get_width(), xy=(p.get_width(), p.get_y()+p.get_height()/2),\n",
    "                   xytext=(5,0), textcoords='offset points', ha='left', va='center')\n",
    "plt.title(\"repurchase vs single-purchase GMV (%)\")\n",
    "plt.yticks(fontsize =16)\n",
    "plt.xlabel(f\"% (Total: {millify(aux1['gmv_value_brl'].sum())})\")\n",
    "plt.ylabel(\"\")\n",
    "plt.xlim(0, 100)\n",
    "plt.show()"
   ]
  },
  {
   "cell_type": "code",
   "execution_count": null,
   "metadata": {
    "ExecuteTime": {
     "end_time": "2022-09-14T19:31:51.063419Z",
     "start_time": "2022-09-14T19:31:09.634448Z"
    },
    "hidden": true
   },
   "outputs": [],
   "source": [
    "# get dataset for regression\n",
    "aux1 = df3[['user_buyer_id', 'repurchase', 'no_repurchase', 'gmv_value_brl']].groupby(['user_buyer_id', 'repurchase', 'no_repurchase']).sum().reset_index()\n",
    "aux1 = aux1[aux1['gmv_value_brl'] > 0]\n",
    "print(f\"99th perc. gmv was removed: {np.percentile(aux1['gmv_value_brl'], 99):,.2f} BRL\")\n",
    "aux1 = aux1[aux1['gmv_value_brl'] < np.percentile(aux1['gmv_value_brl'], 99)]\n",
    "aux1['repurchase'] = aux1['repurchase'].apply(lambda x : 1 if x == 'repurchase' else 0)\n",
    "aux1['ln'] = np.log(aux1['gmv_value_brl'])\n",
    "\n",
    "# aux1 = aux1[(aux1['no_repurchase'] <= 2)]\n",
    "aux1.to_csv('data/gmv_sum_repurchase.csv')\n"
   ]
  },
  {
   "cell_type": "code",
   "execution_count": null,
   "metadata": {
    "ExecuteTime": {
     "end_time": "2022-09-11T22:16:52.220832Z",
     "start_time": "2022-09-11T22:16:51.831925Z"
    },
    "hidden": true
   },
   "outputs": [],
   "source": [
    "def regress(y, X): \n",
    "    return np.linalg.inv(X.T.dot(X)).dot(X.T.dot(y))\n",
    "\n",
    "X = aux1[['no_repurchase']].assign(intercep=1)\n",
    "t = aux1[\"repurchase\"]\n",
    "y = aux1[\"ln\"]\n",
    "\n",
    "beta_aux = regress(t, X)\n",
    "t_tilde = t - X.dot(beta_aux)\n",
    "kappa = t_tilde.cov(y) / t_tilde.var()\n",
    "kappa"
   ]
  },
  {
   "cell_type": "code",
   "execution_count": null,
   "metadata": {
    "ExecuteTime": {
     "end_time": "2022-09-14T19:24:32.017586Z",
     "start_time": "2022-09-14T19:24:32.009077Z"
    },
    "hidden": true
   },
   "outputs": [],
   "source": [
    "((math.exp(0.79)- 1) * 100)"
   ]
  },
  {
   "cell_type": "code",
   "execution_count": null,
   "metadata": {
    "ExecuteTime": {
     "end_time": "2022-09-14T19:25:15.319523Z",
     "start_time": "2022-09-14T19:25:15.314241Z"
    },
    "hidden": true
   },
   "outputs": [],
   "source": [
    "# get correct % changes: https://davegiles.blogspot.com/2011/03/dummies-for-dummies.html\n",
    "perc_change = ((math.exp(0.79)- 1) * 100)\n",
    "factor = (perc_change / 100) + 1\n",
    "\n",
    "print(f\"Changing to repurchase buyers increase gmv by: {perc_change:.2f}% ({factor:.2f}x)\")"
   ]
  },
  {
   "cell_type": "markdown",
   "metadata": {
    "heading_collapsed": true,
    "hidden": true
   },
   "source": [
    "#### Customer country"
   ]
  },
  {
   "cell_type": "code",
   "execution_count": null,
   "metadata": {
    "ExecuteTime": {
     "end_time": "2022-08-22T12:25:32.139303Z",
     "start_time": "2022-08-22T12:25:15.789313Z"
    },
    "hidden": true,
    "scrolled": false
   },
   "outputs": [],
   "source": [
    "# get top 10 countries \n",
    "top10 = list(df3[['user_country', 'purchase_id']].groupby('user_country').count().reset_index().sort_values('purchase_id', ascending=False)['user_country'][0:10])\n",
    "plt.figure(figsize = (30,10))\n",
    "\n",
    "for n, d in enumerate(top10):\n",
    "    plt.subplot(2,5,n+1)\n",
    "    # get vol of users with purchase\n",
    "    aux1 = df3[df3['user_country'] == d][['repurchase',  'gmv_value_brl']].groupby(['repurchase']).sum().reset_index()\n",
    "    aux1['%'] = aux1['gmv_value_brl'] / aux1['gmv_value_brl'].sum() * 100\n",
    "    aux1 = aux1.sort_values('%', ascending=False)\n",
    "    # plot graph with annotations\n",
    "    sns.set_style('white')\n",
    "    splot = sns.barplot(y = 'repurchase', x = '%', data = aux1, palette = palette_types, order = ['single-purchase', 'repurchase']);\n",
    "\n",
    "    for p in splot.patches:\n",
    "        splot.annotate(\"%.2f\" % p.get_width(), xy=(p.get_width(), p.get_y()+p.get_height()/2),\n",
    "                       xytext=(5,0), textcoords='offset points', ha='left', va='center')\n",
    "    plt.title(f\"{d} | {millify(aux1['gmv_value_brl'].sum())}\")\n",
    "    plt.yticks(fontsize =16)\n",
    "    plt.xlabel(\"\")\n",
    "    plt.ylabel(\"\")\n",
    "    plt.xlim(0, 120)\n",
    "    if n not in (0, 5):\n",
    "        splot.axes.get_yaxis().set_visible(False)\n",
    "#         splot.spines['right'].set_visible(False)\n",
    "#         splot.spines['top'].set_visible(False)\n",
    "#         splot.spines['left'].set_visible(False)\n",
    "#         splot.spines['bottom'].set_visible(False)\n",
    "    splot.axes.get_xaxis().set_visible(False)\n",
    "#         splot.axes.get_yaxis().set_visible(False)\n",
    "# plt.subplots_adjust(hspace=0.2)\n",
    "plt.subplots_adjust(wspace=0.3)\n",
    "plt.show()"
   ]
  },
  {
   "cell_type": "markdown",
   "metadata": {
    "heading_collapsed": true,
    "hidden": true
   },
   "source": [
    "#### Producer office"
   ]
  },
  {
   "cell_type": "code",
   "execution_count": null,
   "metadata": {
    "ExecuteTime": {
     "end_time": "2022-08-22T12:27:18.202004Z",
     "start_time": "2022-08-22T12:25:32.141117Z"
    },
    "hidden": true
   },
   "outputs": [],
   "source": [
    "# get country\n",
    "country_list = list(df3[['user_office_name', 'purchase_id']].groupby('user_office_name').count().reset_index().sort_values('purchase_id', ascending=False)['user_office_name'])\n",
    "plt.figure(figsize = (30,10))\n",
    "\n",
    "for n, d in enumerate(country_list):\n",
    "    plt.subplot(2,3,n+1)\n",
    "    ### count purchases per user\n",
    "    aux1 = df3[df3['user_office_name'] == d].drop(['repurchase', 'no_repurchase'])\n",
    "    aux2 = aux1[['user_buyer_id', 'purchase_id']].groupby('user_buyer_id').count().reset_index()\n",
    "    aux2.columns = ['user_buyer_id', 'no_repurchase']\n",
    "    aux1 = aux1.merge(aux2, how = 'left', on = 'user_buyer_id')\n",
    "    ### flag repurchase\n",
    "    aux1['repurchase'] = aux1['no_repurchase'].apply(lambda x : 'repurchase' if x != 1 else 'single-purchase')    \n",
    "    \n",
    "    # get vol of users with purchase\n",
    "    aux1 = aux1[['repurchase',  'gmv_value_brl']].groupby(['repurchase']).sum().reset_index()\n",
    "    aux1['%'] = aux1['gmv_value_brl'] / aux1['gmv_value_brl'].sum() * 100\n",
    "    aux1 = aux1.sort_values('%', ascending=False)\n",
    "    # plot graph with annotations\n",
    "    sns.set_style('white')\n",
    "    splot = sns.barplot(y = 'repurchase', x = '%', data = aux1, palette = palette_types, order = ['single-purchase', 'repurchase']);\n",
    "\n",
    "    for p in splot.patches:\n",
    "        splot.annotate(\"%.2f\" % p.get_width(), xy=(p.get_width(), p.get_y()+p.get_height()/2),\n",
    "                       xytext=(5,0), textcoords='offset points', ha='left', va='center')\n",
    "    plt.title(f\"{d} | {millify(aux1['gmv_value_brl'].sum())}\")\n",
    "    plt.yticks(fontsize =16)\n",
    "    plt.xlabel(\"\")\n",
    "    plt.ylabel(\"\")\n",
    "    plt.xlim(0, 120)\n",
    "    splot.axes.get_yaxis().set_visible(False)\n",
    "    if n == 0:\n",
    "        splot.axes.get_yaxis().set_visible(True)\n",
    "    if n == 3:\n",
    "        splot.axes.get_yaxis().set_visible(True)\n",
    "#         splot.spines['right'].set_visible(False)\n",
    "#         splot.spines['top'].set_visible(False)\n",
    "#         splot.spines['left'].set_visible(False)\n",
    "#         splot.spines['bottom'].set_visible(False)\n",
    "    splot.axes.get_xaxis().set_visible(False)\n",
    "#         splot.axes.get_yaxis().set_visible(False)\n",
    "# plt.subplots_adjust(hspace=0.2)\n",
    "plt.subplots_adjust(wspace=0.2)\n",
    "plt.show()"
   ]
  },
  {
   "cell_type": "code",
   "execution_count": null,
   "metadata": {
    "ExecuteTime": {
     "end_time": "2022-09-14T19:43:12.312053Z",
     "start_time": "2022-09-14T19:40:49.513407Z"
    },
    "hidden": true
   },
   "outputs": [],
   "source": [
    "# get dataset for regression\n",
    "temp = df3[['user_buyer_id',  'gmv_value_brl']].groupby(['user_buyer_id']).sum().reset_index()\n",
    "temp = temp[temp['gmv_value_brl'] > 0]\n",
    "temp = temp[temp['gmv_value_brl'] < np.percentile(temp['gmv_value_brl'], 99)]\n",
    "temp = df3[df3['user_buyer_id'].isin(list(temp['user_buyer_id']))]\n",
    "\n",
    "country_list = list(df3[['user_office_name', 'purchase_id']].groupby('user_office_name').count().reset_index().sort_values('purchase_id', ascending=False)['user_office_name'])\n",
    "for n, d in enumerate(country_list):\n",
    "    print(d)\n",
    "    ### count purchases per user\n",
    "    aux1 = temp[temp['user_office_name'] == d].drop(['no_repurchase', 'repurchase'], axis =1 )\n",
    "    aux2 = aux1[['user_buyer_id', 'purchase_id']].groupby('user_buyer_id').count().reset_index()\n",
    "    aux2.columns = ['user_buyer_id', 'no_repurchase']\n",
    "    aux3 = aux1.merge(aux2, how = 'left', on = 'user_buyer_id')\n",
    "    ### flag repurchase\n",
    "    aux3['repurchase'] = aux3['no_repurchase'].apply(lambda x : 1 if x != 1 else 0)    \n",
    "    # get dataset for regression\n",
    "    aux4 = aux3[['user_buyer_id', 'repurchase',  'gmv_value_brl']].groupby(['user_buyer_id', 'repurchase']).sum().reset_index()\n",
    "    aux4 = aux4[aux4['gmv_value_brl'] > 0]\n",
    "    aux4['ln'] = np.log(aux4['gmv_value_brl'])\n",
    "    aux2 = aux3[['user_buyer_id', 'no_repurchase']].drop_duplicates()\n",
    "    aux4 = aux4.merge(aux2, how = 'left', on = 'user_buyer_id')\n",
    "    aux4.to_csv(f'data/gmv_sum_repurchase_{d}.csv')"
   ]
  },
  {
   "cell_type": "code",
   "execution_count": null,
   "metadata": {
    "ExecuteTime": {
     "end_time": "2022-09-14T19:55:17.865869Z",
     "start_time": "2022-09-14T19:55:17.856823Z"
    },
    "hidden": true
   },
   "outputs": [],
   "source": [
    "# get correct % changes: https://davegiles.blogspot.com/2011/03/dummies-for-dummies.html\n",
    "dict_country = {\n",
    "    'Global':round(((math.exp(0.79)- 1) * 100), 2),\n",
    "    'Brazil':round(((math.exp(0.83)- 1) * 100), 2),\n",
    "    'Colombia':round(((math.exp(0.63)- 1) * 100), 2),\n",
    "    'Mexico':round(((math.exp(0.92)- 1) * 100), 2),\n",
    "    'Spain':round(((math.exp(0.64)- 1) * 100), 2),\n",
    "    'USA':round(((math.exp(0.88)- 1) * 100), 2),\n",
    "    'Amsterdam':round(((math.exp(0.71)- 1) * 100), 2)\n",
    "               }\n",
    "for n in dict_country.keys():\n",
    "    print(f\"{n} : Changing to repurchase buyers increase gmv by: {dict_country[n]}%\")\n"
   ]
  },
  {
   "cell_type": "code",
   "execution_count": null,
   "metadata": {
    "ExecuteTime": {
     "end_time": "2022-09-14T19:55:24.359417Z",
     "start_time": "2022-09-14T19:55:22.818866Z"
    },
    "hidden": true
   },
   "outputs": [],
   "source": [
    "# plot perc changes \n",
    "aux1 = pd.DataFrame(dict_country.items(), columns = ['local', '%'])\n",
    "aux1['factor'] = (aux1['%'] / 100) + 1\n",
    "list_order = list(aux1.sort_values('factor', ascending=False)['local'])\n",
    "list_order.remove('Global')\n",
    "list_order.insert(0, 'Global')\n",
    "plt.figure(figsize = (10,15))\n",
    "# plot graph with annotations\n",
    "sns.set_style('white')\n",
    "splot = sns.barplot(y = 'local', x = 'factor', data = aux1, palette = {'Global': '#EF4E23' , 'Brazil': '#9EA4AC',\n",
    "                                                                 'Colombia': '#9EA4AC', 'Mexico': '#9EA4AC',\n",
    "                                                                 'Spain': '#9EA4AC', 'USA': '#9EA4AC', \n",
    "                                                                 'Amsterdam': '#9EA4AC'} , order = list_order);\n",
    "\n",
    "for p in splot.patches:\n",
    "    splot.annotate(\" %.2f\" % p.get_width() + 'x', xy=(p.get_width(), p.get_y()+p.get_height()/2),\n",
    "                   xytext=(5,0), textcoords='offset points', \n",
    "                   ha='left', va='center', fontsize = 50, color = '#707780')\n",
    "# plt.title(f\"Generated GMV by buyers who repurchase\", color =  '#707780' , fontsize = 40)\n",
    "splot.set_title(f\"How much GMV do buyers who repurchase\\n\" + \"generate over buyers who do not?\\n\" + \"(by producer office)\", color =  '#707780' , fontsize = 40, loc = 'left', pad=40)\n",
    "\n",
    "plt.yticks(fontsize =50)\n",
    "plt.xlabel(\"\")\n",
    "plt.ylabel(\"\")\n",
    "plt.xlim(0, 6)\n",
    "splot.tick_params(labelsize=30)\n",
    "splot.yaxis.label.set_color('#707780')\n",
    "splot.spines['left'].set_color('#707780')\n",
    "splot.tick_params(axis='y', colors='#707780',labelsize=50, pad = 30)\n",
    "#     splot.axes.get_yaxis().set_visible(False)\n",
    "splot.spines['right'].set_visible(False)\n",
    "splot.spines['top'].set_visible(False)\n",
    "splot.spines['left'].set_visible(False)\n",
    "splot.spines['bottom'].set_visible(False)\n",
    "splot.axes.get_xaxis().set_visible(False)\n",
    "plt.show()"
   ]
  },
  {
   "cell_type": "markdown",
   "metadata": {
    "heading_collapsed": true,
    "hidden": true
   },
   "source": [
    "#### Producer segment"
   ]
  },
  {
   "cell_type": "code",
   "execution_count": null,
   "metadata": {
    "ExecuteTime": {
     "end_time": "2022-08-22T12:28:54.318943Z",
     "start_time": "2022-08-22T12:27:18.207090Z"
    },
    "hidden": true
   },
   "outputs": [],
   "source": [
    "# get country\n",
    "plt.figure(figsize = (30,10))\n",
    "\n",
    "for n, d in enumerate([ 'SEED',  'SMALL', 'MEDIUM', 'LARGE']):\n",
    "    plt.subplot(1,4,n+1)\n",
    "    ### count purchases per user\n",
    "    aux1 = df3[df3['segment'] == d]\n",
    "    aux2 = aux1[['user_buyer_id', 'purchase_id']].groupby('user_buyer_id').count().reset_index()\n",
    "    aux2.columns = ['user_buyer_id', 'no_repurchase_temp']\n",
    "    aux1 = aux1.merge(aux2, how = 'left', on = 'user_buyer_id')\n",
    "    ### flag repurchase\n",
    "    aux1['repurchase_temp'] = aux1['no_repurchase_temp'].apply(lambda x : 'repurchase' if x != 1 else 'single-purchase')    \n",
    "    \n",
    "    # get vol of users with purchase\n",
    "    aux1 = aux1[['repurchase_temp',  'gmv_value_brl']].groupby(['repurchase_temp']).sum().reset_index()\n",
    "    aux1['%'] = aux1['gmv_value_brl'] / aux1['gmv_value_brl'].sum() * 100\n",
    "    aux1 = aux1.sort_values('%', ascending=False)\n",
    "\n",
    "    # plot graph with annotations\n",
    "    sns.set_style('white')\n",
    "    splot = sns.barplot(y = 'repurchase_temp', x = '%', data = aux1, palette = palette_types, order = ['single-purchase', 'repurchase']);\n",
    "\n",
    "    for p in splot.patches:\n",
    "        splot.annotate(\"%.2f\" % p.get_width(), xy=(p.get_width(), p.get_y()+p.get_height()/2),\n",
    "                       xytext=(5,0), textcoords='offset points', ha='left', va='center')\n",
    "    plt.title(f\"{d} | {millify(aux1['gmv_value_brl'].sum())}\")\n",
    "    plt.yticks(fontsize =16)\n",
    "    plt.xlabel(\"\")\n",
    "    plt.ylabel(\"\")\n",
    "    plt.xlim(0, 120)\n",
    "    splot.axes.get_yaxis().set_visible(False)\n",
    "    if n == 0:\n",
    "        splot.axes.get_yaxis().set_visible(True)\n",
    "#         splot.spines['right'].set_visible(False)\n",
    "#         splot.spines['top'].set_visible(False)\n",
    "#         splot.spines['left'].set_visible(False)\n",
    "#         splot.spines['bottom'].set_visible(False)\n",
    "    splot.axes.get_xaxis().set_visible(False)\n",
    "#         splot.axes.get_yaxis().set_visible(False)\n",
    "# plt.subplots_adjust(hspace=0.2)\n",
    "plt.subplots_adjust(wspace=0.2)\n",
    "plt.show()"
   ]
  },
  {
   "cell_type": "code",
   "execution_count": null,
   "metadata": {
    "ExecuteTime": {
     "end_time": "2022-09-14T20:07:05.406378Z",
     "start_time": "2022-09-14T20:04:34.880036Z"
    },
    "hidden": true
   },
   "outputs": [],
   "source": [
    "for n, d in enumerate([ 'SEED',  'SMALL', 'MEDIUM', 'LARGE']):\n",
    "    print(d)\n",
    "    ### count purchases per user\n",
    "    aux1 = temp[temp['segment'] == d].drop(['no_repurchase', 'repurchase'], axis =1 )\n",
    "    aux2 = aux1[['user_buyer_id', 'purchase_id']].groupby('user_buyer_id').count().reset_index()\n",
    "    aux2.columns = ['user_buyer_id', 'no_repurchase']\n",
    "    aux3 = aux1.merge(aux2, how = 'left', on = 'user_buyer_id')\n",
    "    ### flag repurchase\n",
    "    aux3['repurchase'] = aux3['no_repurchase'].apply(lambda x : 1 if x != 1 else 0)    \n",
    "    # get dataset for regression\n",
    "    aux4 = aux3[['user_buyer_id', 'repurchase',  'gmv_value_brl']].groupby(['user_buyer_id', 'repurchase']).sum().reset_index()\n",
    "    aux4 = aux4[aux4['gmv_value_brl'] > 0]\n",
    "    aux4['ln'] = np.log(aux4['gmv_value_brl'])\n",
    "    aux2 = aux3[['user_buyer_id', 'no_repurchase']].drop_duplicates()\n",
    "    aux4 = aux4.merge(aux2, how = 'left', on = 'user_buyer_id')\n",
    "    aux4.to_csv(f'data/gmv_sum_repurchase_{d}.csv')\n"
   ]
  },
  {
   "cell_type": "code",
   "execution_count": null,
   "metadata": {
    "hidden": true
   },
   "outputs": [],
   "source": [
    "for n, d in enumerate([ 'SEED',  'SMALL', 'MEDIUM', 'LARGE']):\n",
    "    print(d)\n",
    "    ### count purchases per user\n",
    "    aux1 = temp[temp['segment'] == d].drop(['no_repurchase', 'repurchase'], axis =1 )\n",
    "    aux2 = aux1[['user_buyer_id', 'purchase_id']].groupby('user_buyer_id').count().reset_index()\n",
    "    aux2.columns = ['user_buyer_id', 'no_repurchase']\n",
    "    aux3 = aux1.merge(aux2, how = 'left', on = 'user_buyer_id')\n",
    "    ### flag repurchase\n",
    "    aux3['repurchase'] = aux3['no_repurchase'].apply(lambda x : 1 if x != 1 else 0)    \n",
    "  "
   ]
  },
  {
   "cell_type": "code",
   "execution_count": null,
   "metadata": {
    "ExecuteTime": {
     "end_time": "2022-09-14T19:58:51.194399Z",
     "start_time": "2022-09-14T19:58:51.187456Z"
    },
    "hidden": true
   },
   "outputs": [],
   "source": [
    "# get correct % changes: https://davegiles.blogspot.com/2011/03/dummies-for-dummies.html\n",
    "dict_country = {\n",
    "    'Seed':round(((math.exp(0.66)- 1) * 100), 2),\n",
    "    'Small':round(((math.exp(0.63)- 1) * 100), 2),\n",
    "    'Medium':round(((math.exp(0.66)- 1) * 100), 2),\n",
    "    'Large':round(((math.exp(1.43)- 1) * 100), 2),\n",
    "               }\n",
    "for n in dict_country.keys():\n",
    "    print(f\"{n} : Changing to repurchase buyers increase gmv by: {dict_country[n]}%\")\n",
    "# plot perc changes \n",
    "aux1 = pd.DataFrame(dict_country.items(), columns = ['local', '%'])\n",
    "aux1['factor'] = (aux1['%'] / 100) + 1"
   ]
  },
  {
   "cell_type": "code",
   "execution_count": null,
   "metadata": {
    "ExecuteTime": {
     "end_time": "2022-09-14T19:58:51.866243Z",
     "start_time": "2022-09-14T19:58:51.653688Z"
    },
    "hidden": true
   },
   "outputs": [],
   "source": [
    "plt.figure(figsize = (10,15))\n",
    "# plot graph with annotations\n",
    "sns.set_style('white')\n",
    "splot = sns.barplot(y = 'local', x = 'factor', data = aux1, palette = {'Seed': '#9EA4AC',\n",
    "                                                                 'Small': '#9EA4AC', 'Medium': '#9EA4AC',\n",
    "                                                                 'Large': '#9EA4AC'}, \n",
    "                            order = [ 'Large',  'Medium', 'Small', 'Seed']);\n",
    "\n",
    "for p in splot.patches:\n",
    "    splot.annotate(\" %.2f\" % p.get_width() + 'x', xy=(p.get_width(), p.get_y()+p.get_height()/2),\n",
    "                   xytext=(5,0), textcoords='offset points', \n",
    "                   ha='left', va='center', fontsize = 50, color = '#707780')\n",
    "# plt.title(f\"Generated GMV by buyers who repurchase\", color =  '#707780' , fontsize = 40)\n",
    "splot.set_title(f\"How much GMV do buyers who repurchase\\n\" + \"generate over buyers who do not?\\n\" + \"(by producer segment)\", color =  '#707780' , fontsize = 35, loc = 'left', pad=30)\n",
    "\n",
    "plt.yticks(fontsize =50)\n",
    "plt.xlabel(\"\")\n",
    "plt.ylabel(\"\")\n",
    "plt.xlim(0, 6)\n",
    "splot.tick_params(labelsize=30)\n",
    "splot.yaxis.label.set_color('#707780')\n",
    "splot.spines['left'].set_color('#707780')\n",
    "splot.tick_params(axis='y', colors='#707780',labelsize=50, pad = 30)\n",
    "#     splot.axes.get_yaxis().set_visible(False)\n",
    "splot.spines['right'].set_visible(False)\n",
    "splot.spines['top'].set_visible(False)\n",
    "splot.spines['left'].set_visible(False)\n",
    "splot.spines['bottom'].set_visible(False)\n",
    "splot.axes.get_xaxis().set_visible(False)\n",
    "plt.show()"
   ]
  },
  {
   "cell_type": "markdown",
   "metadata": {
    "heading_collapsed": true,
    "hidden": true
   },
   "source": [
    "#### Producers < 10k BRL LTV"
   ]
  },
  {
   "cell_type": "code",
   "execution_count": null,
   "metadata": {
    "ExecuteTime": {
     "end_time": "2022-08-22T12:30:40.580657Z",
     "start_time": "2022-08-22T12:28:54.321476Z"
    },
    "hidden": true
   },
   "outputs": [],
   "source": [
    "# get country\n",
    "plt.figure(figsize = (30,10))\n",
    "\n",
    "for n, d in enumerate(['below', 'above']):\n",
    "    plt.subplot(1,2,n+1)\n",
    "    ### count purchases per user\n",
    "    aux1 = df3[df3['is_below_10_entire'] == d]\n",
    "    aux2 = aux1[['user_buyer_id', 'purchase_id']].groupby('user_buyer_id').count().reset_index()\n",
    "    aux2.columns = ['user_buyer_id', 'no_repurchase_temp']\n",
    "    aux1 = aux1.merge(aux2, how = 'left', on = 'user_buyer_id')\n",
    "    ### flag repurchase\n",
    "    aux1['repurchase_temp'] = aux1['no_repurchase_temp'].apply(lambda x : 'repurchase' if x != 1 else 'single-purchase')    \n",
    "    \n",
    "    # get vol of users with purchase\n",
    "    aux1 = aux1[['repurchase_temp',  'gmv_value_brl']].groupby(['repurchase_temp']).sum().reset_index()\n",
    "    aux1['%'] = aux1['gmv_value_brl'] / aux1['gmv_value_brl'].sum() * 100\n",
    "    aux1 = aux1.sort_values('%', ascending=False)\n",
    "\n",
    "    # plot graph with annotations\n",
    "    sns.set_style('white')\n",
    "    splot = sns.barplot(y = 'repurchase_temp', x = '%', data = aux1, palette = palette_types, order = ['single-purchase', 'repurchase']);\n",
    "\n",
    "    for p in splot.patches:\n",
    "        splot.annotate(\"%.2f\" % p.get_width(), xy=(p.get_width(), p.get_y()+p.get_height()/2),\n",
    "                       xytext=(5,0), textcoords='offset points', ha='left', va='center')\n",
    "    plt.title(f\"{d} | {millify(aux1['gmv_value_brl'].sum())}\")\n",
    "    plt.yticks(fontsize =16)\n",
    "    plt.xlabel(\"\")\n",
    "    plt.ylabel(\"\")\n",
    "    plt.xlim(0, 120)\n",
    "    splot.axes.get_yaxis().set_visible(False)\n",
    "    if n == 0:\n",
    "        splot.axes.get_yaxis().set_visible(True)\n",
    "#         splot.spines['right'].set_visible(False)\n",
    "#         splot.spines['top'].set_visible(False)\n",
    "#         splot.spines['left'].set_visible(False)\n",
    "#         splot.spines['bottom'].set_visible(False)\n",
    "    splot.axes.get_xaxis().set_visible(False)\n",
    "#         splot.axes.get_yaxis().set_visible(False)\n",
    "# plt.subplots_adjust(hspace=0.2)\n",
    "plt.subplots_adjust(wspace=0.2)\n",
    "plt.show()"
   ]
  },
  {
   "cell_type": "code",
   "execution_count": null,
   "metadata": {
    "ExecuteTime": {
     "end_time": "2022-09-14T20:10:05.030263Z",
     "start_time": "2022-09-14T20:07:05.419150Z"
    },
    "hidden": true
   },
   "outputs": [],
   "source": [
    "# get df for regression\n",
    "for n, d in enumerate(['below',  'above']):\n",
    "    ### count purchases per user\n",
    "    aux1 = temp[temp['is_below_10_entire'] == d].drop(['no_repurchase', 'repurchase'], axis =1 )\n",
    "    aux2 = aux1[['user_buyer_id', 'purchase_id']].groupby('user_buyer_id').count().reset_index()\n",
    "    aux2.columns = ['user_buyer_id', 'no_repurchase']\n",
    "    aux3 = aux1.merge(aux2, how = 'left', on = 'user_buyer_id')\n",
    "    ### flag repurchase\n",
    "    aux3['repurchase'] = aux3['no_repurchase'].apply(lambda x : 1 if x != 1 else 0)    \n",
    "    # get dataset for regression\n",
    "    aux4 = aux3[['user_buyer_id', 'repurchase',  'gmv_value_brl']].groupby(['user_buyer_id', 'repurchase']).sum().reset_index()\n",
    "    aux4 = aux4[aux4['gmv_value_brl'] > 0]\n",
    "    aux4['ln'] = np.log(aux4['gmv_value_brl'])\n",
    "    aux2 = aux3[['user_buyer_id', 'no_repurchase']].drop_duplicates()\n",
    "    aux4 = aux4.merge(aux2, how = 'left', on = 'user_buyer_id')\n",
    "    aux4.to_csv(f'data/gmv_sum_repurchase_PROD_LTV_{d}.csv')"
   ]
  },
  {
   "cell_type": "code",
   "execution_count": null,
   "metadata": {
    "ExecuteTime": {
     "end_time": "2022-09-14T20:13:26.961181Z",
     "start_time": "2022-09-14T20:13:26.841597Z"
    },
    "hidden": true
   },
   "outputs": [],
   "source": [
    "# get correct % changes: https://davegiles.blogspot.com/2011/03/dummies-for-dummies.html\n",
    "dict_country = {\n",
    "    'below':round(((math.exp(0.34)- 1) * 100), 2),\n",
    "    'above':round(((math.exp(0.77)- 1) * 100), 2),\n",
    "               }\n",
    "for n in dict_country.keys():\n",
    "    print(f\"{n} : Changing to repurchase buyers increase gmv by: {dict_country[n]}%\")\n",
    "# plot perc changes \n",
    "aux1 = pd.DataFrame(dict_country.items(), columns = ['local', '%'])\n",
    "aux1['factor'] = (aux1['%'] / 100) + 1"
   ]
  },
  {
   "cell_type": "code",
   "execution_count": null,
   "metadata": {
    "ExecuteTime": {
     "end_time": "2022-09-14T20:13:30.921109Z",
     "start_time": "2022-09-14T20:13:30.682537Z"
    },
    "hidden": true
   },
   "outputs": [],
   "source": [
    "plt.figure(figsize = (10,15))\n",
    "# plot graph with annotations\n",
    "sns.set_style('white')\n",
    "splot = sns.barplot(y = 'local', x = 'factor', data = aux1, palette = {'below': '#9EA4AC',\n",
    "                                                                 'above': '#9EA4AC'}, \n",
    "                            order = [ 'above', 'below']);\n",
    "\n",
    "for p in splot.patches:\n",
    "    splot.annotate(\" %.2f\" % p.get_width() + 'x', xy=(p.get_width(), p.get_y()+p.get_height()/2),\n",
    "                   xytext=(5,0), textcoords='offset points', \n",
    "                   ha='left', va='center', fontsize = 50, color = '#707780')\n",
    "# plt.title(f\"Generated GMV by buyers who repurchase\", color =  '#707780' , fontsize = 40)\n",
    "splot.set_title(f\"How much GMV do buyers who repurchase\\n\" + \"generate over buyers who do not?\\n\" + \"(by producer LTV cohort)\", color =  '#707780' , fontsize = 35, loc = 'left', pad=30)\n",
    "\n",
    "plt.yticks(fontsize =50)\n",
    "plt.xlabel(\"\")\n",
    "plt.ylabel(\"\")\n",
    "plt.xlim(0, 6)\n",
    "splot.tick_params(labelsize=30)\n",
    "splot.yaxis.label.set_color('#707780')\n",
    "splot.spines['left'].set_color('#707780')\n",
    "splot.tick_params(axis='y', colors='#707780',labelsize=50, pad = 30)\n",
    "#     splot.axes.get_yaxis().set_visible(False)\n",
    "splot.spines['right'].set_visible(False)\n",
    "splot.spines['top'].set_visible(False)\n",
    "splot.spines['left'].set_visible(False)\n",
    "splot.spines['bottom'].set_visible(False)\n",
    "splot.axes.get_xaxis().set_visible(False)\n",
    "plt.show()"
   ]
  },
  {
   "cell_type": "markdown",
   "metadata": {
    "heading_collapsed": true
   },
   "source": [
    "### How many customers repurchase from the same producer? (by customer country, producer office, producers below 10k BRL LTV)"
   ]
  },
  {
   "cell_type": "code",
   "execution_count": null,
   "metadata": {
    "ExecuteTime": {
     "end_time": "2022-08-22T12:30:40.594029Z",
     "start_time": "2022-08-22T12:30:40.588227Z"
    },
    "hidden": true
   },
   "outputs": [],
   "source": [
    " \n",
    " \n",
    " \n",
    " \n",
    " "
   ]
  },
  {
   "cell_type": "markdown",
   "metadata": {
    "heading_collapsed": true,
    "hidden": true
   },
   "source": [
    "#### Overall"
   ]
  },
  {
   "cell_type": "code",
   "execution_count": null,
   "metadata": {
    "ExecuteTime": {
     "end_time": "2022-08-22T12:30:44.572115Z",
     "start_time": "2022-08-22T12:30:40.597380Z"
    },
    "hidden": true
   },
   "outputs": [],
   "source": [
    "aux1 = df3[['repurchase_same_producer', 'user_buyer_id']].drop_duplicates().groupby(['repurchase_same_producer']).count().reset_index()\n",
    "aux1['%'] = aux1['user_buyer_id'] / aux1['user_buyer_id'].sum()*100\n",
    "\n",
    "# plot graph with annotations\n",
    "plt.figure(figsize = (10,10))\n",
    "sns.set_style('white')\n",
    "splot = sns.barplot(y = 'repurchase_same_producer', x = '%', data = aux1, palette = palette_types, order = ['no_repurchase', 'diff_producer_repurchase', 'same_producer_repurchase']);\n",
    "\n",
    "for p in splot.patches:\n",
    "    splot.annotate(\"%.2f\" % p.get_width(), xy=(p.get_width(), p.get_y()+p.get_height()/2),\n",
    "                   xytext=(5,0), textcoords='offset points', ha='left', va='center')\n",
    "plt.title(\"Repurchase: same vs different producer (%)\")\n",
    "plt.yticks(fontsize =16)\n",
    "plt.xlabel(f\"% (N: {aux1['user_buyer_id'].sum():,} users)\")\n",
    "plt.ylabel(\"\")\n",
    "plt.xlim(0, 100)\n",
    "plt.show()"
   ]
  },
  {
   "cell_type": "code",
   "execution_count": null,
   "metadata": {
    "ExecuteTime": {
     "end_time": "2022-08-22T12:30:53.378419Z",
     "start_time": "2022-08-22T12:30:44.575690Z"
    },
    "hidden": true
   },
   "outputs": [],
   "source": [
    "aux1 = df3[df3['repurchase'] == 'repurchase'][['repurchase_same_producer', 'user_buyer_id']].drop_duplicates().groupby(['repurchase_same_producer']).count().reset_index()\n",
    "aux1['%'] = aux1['user_buyer_id'] / aux1['user_buyer_id'].sum()*100\n",
    "\n",
    "# plot graph with annotations\n",
    "plt.figure(figsize = (10,10))\n",
    "sns.set_style('white')\n",
    "splot = sns.barplot(y = 'repurchase_same_producer', x = '%', data = aux1, palette = palette_types, order = aux1.sort_values('%', ascending=False)['repurchase_same_producer']);\n",
    "\n",
    "for p in splot.patches:\n",
    "    splot.annotate(\"%.2f\" % p.get_width(), xy=(p.get_width(), p.get_y()+p.get_height()/2),\n",
    "                   xytext=(5,0), textcoords='offset points', ha='left', va='center')\n",
    "plt.title(\"Repurchase: same vs different producer (%)\")\n",
    "plt.yticks(fontsize =16)\n",
    "plt.xlabel(f\"% (N: {aux1['user_buyer_id'].sum():,} users)\")\n",
    "plt.ylabel(\"\")\n",
    "plt.xlim(0, 100)\n",
    "plt.show()"
   ]
  },
  {
   "cell_type": "code",
   "execution_count": null,
   "metadata": {
    "ExecuteTime": {
     "end_time": "2022-09-09T12:11:16.954562Z",
     "start_time": "2022-09-09T12:11:13.976514Z"
    },
    "hidden": true
   },
   "outputs": [],
   "source": [
    "aux1 = df3[df3['repurchase'] == 'repurchase'][['repurchase_same_producer', 'user_buyer_id']].drop_duplicates().groupby(['repurchase_same_producer']).count().reset_index()\n",
    "aux1['%'] = aux1['user_buyer_id'] / aux1['user_buyer_id'].sum()*100\n",
    "aux1['repurchase_same_producer'] = aux1['repurchase_same_producer'].apply(lambda x : 'different' if x == 'diff_producer_repurchase' else 'same')\n",
    "\n",
    "# plot graph with annotations\n",
    "plt.figure(figsize = (10,10))\n",
    "sns.set_style('white')\n",
    "splot = sns.barplot(y = 'repurchase_same_producer', x = '%', data = aux1, palette = {'different': '#9EA4AC', \n",
    "                                                                                     'same': '#9EA4AC'\n",
    "                                                                                     }, order = ['different', 'same']);\n",
    "\n",
    "for p in splot.patches:\n",
    "    splot.annotate(\" %.2f\" % p.get_width() + '%', xy=(p.get_width(), p.get_y()+p.get_height()/2),\n",
    "                   xytext=(5,0), textcoords='offset points', \n",
    "                   ha='left', va='center', fontsize = 50, color = '#707780')\n",
    "    \n",
    "# plt.title(f\"Repurchase times (% buyers)\\n\" + f\"N: {aux3['user_buyer_id'].sum():,}\" , color =  '#707780' , fontsize = 35, loc = 'left')\n",
    "splot.set_title(f\"From buyers who repurchase, how many\\n\" + \"did it with the same producer?\\n\" + f\"N: {aux1['user_buyer_id'].sum():,}\" , color =  '#707780' , fontsize = 30, loc = 'left', pad=40)\n",
    "\n",
    "plt.yticks(fontsize =50)\n",
    "plt.ylabel(\"\")\n",
    "plt.xlim(0, 100)\n",
    "splot.tick_params(labelsize=30)\n",
    "splot.yaxis.label.set_color('#707780')\n",
    "splot.spines['left'].set_color('#707780')\n",
    "splot.tick_params(axis='y', colors='#707780',labelsize=50, pad = 30)\n",
    "#     splot.axes.get_yaxis().set_visible(False)\n",
    "splot.spines['right'].set_visible(False)\n",
    "splot.spines['top'].set_visible(False)\n",
    "splot.spines['left'].set_visible(False)\n",
    "splot.spines['bottom'].set_visible(False)\n",
    "splot.axes.get_xaxis().set_visible(False)\n",
    "# plt.xlabel(f\"{aux3['user_buyer_id'].sum():,}\", color = '#707780', fontsize = 30)\n",
    "plt.show()"
   ]
  },
  {
   "cell_type": "markdown",
   "metadata": {
    "heading_collapsed": true,
    "hidden": true
   },
   "source": [
    "#### Customer country (all users)"
   ]
  },
  {
   "cell_type": "code",
   "execution_count": null,
   "metadata": {
    "ExecuteTime": {
     "end_time": "2022-08-22T12:34:25.715515Z",
     "start_time": "2022-08-22T12:30:53.380430Z"
    },
    "hidden": true
   },
   "outputs": [],
   "source": [
    "# get top 10 countries \n",
    "top10 = list(df3[['user_country', 'purchase_id']].groupby('user_country').count().reset_index().sort_values('purchase_id', ascending=False)['user_country'][0:10])\n",
    "plt.figure(figsize = (30,10))\n",
    "\n",
    "for n, d in enumerate(top10):\n",
    "    plt.subplot(2,5,n+1)\n",
    "    ### count purchases per user\n",
    "    aux1 = df3[df3['user_country'] == d]\n",
    "    aux2 = aux1[['user_buyer_id', 'purchase_id']].groupby('user_buyer_id').count().reset_index()\n",
    "    aux2.columns = ['user_buyer_id', 'no_repurchase_temp']\n",
    "    aux1 = aux1.merge(aux2, how = 'left', on = 'user_buyer_id')\n",
    "\n",
    "    ### flag repurchase\n",
    "    aux1['repurchase_temp'] = aux1['no_repurchase_temp'].apply(lambda x : 'repurchase' if x != 1 else 'single-purchase')\n",
    "\n",
    "    ### flag whether a user repurchased from same producer at least once \n",
    "    aux2 = aux1[aux1['repurchase_temp'] == 'repurchase'][['purchase_id', 'producer_id', 'user_buyer_id']].groupby(['producer_id', 'user_buyer_id']).count().reset_index().reset_index()\n",
    "    aux2['same_prod_temp'] = aux2['purchase_id'].apply(lambda x : 'repurchased' if x > 1 else 'did not repurchase')\n",
    "    # get users who repurchased from same producer\n",
    "    aux2 = aux2[aux2['same_prod_temp'] == 'repurchased'][['user_buyer_id']].drop_duplicates()\n",
    "    aux2['repurchase_same_producer_temp'] = 'same_producer_repurchase'\n",
    "    # get users who did not repurchased\n",
    "    aux1 = aux1.merge(aux2, how = 'left', on = 'user_buyer_id')\n",
    "    aux1.loc[aux1['repurchase_temp'] == 'single-purchase', 'repurchase_same_producer_temp'] = 'no_repurchase'\n",
    "    aux1['repurchase_same_producer_temp'] = aux1['repurchase_same_producer_temp'].fillna('diff_producer_repurchase')\n",
    "\n",
    "    aux2 = aux1[['repurchase_same_producer_temp', 'user_buyer_id']].drop_duplicates().groupby(['repurchase_same_producer_temp']).count().reset_index()\n",
    "    aux2['%'] = aux2['user_buyer_id'] / aux2['user_buyer_id'].sum()*100    \n",
    "    \n",
    "    # plot graph with annotations\n",
    "    sns.set_style('white')\n",
    "    splot = sns.barplot(y = 'repurchase_same_producer_temp', x = '%', data = aux2, palette = palette_types, order  = ['no_repurchase', 'diff_producer_repurchase', 'same_producer_repurchase']);\n",
    "\n",
    "    for p in splot.patches:\n",
    "        splot.annotate(\"%.2f\" % p.get_width(), xy=(p.get_width(), p.get_y()+p.get_height()/2),\n",
    "                       xytext=(5,0), textcoords='offset points', ha='left', va='center')\n",
    "    plt.title(f\"{d} | N: {(aux2['user_buyer_id'].sum()):,}\")\n",
    "    plt.yticks(fontsize =16)\n",
    "    plt.xlabel(\"\")\n",
    "    plt.ylabel(\"\")\n",
    "    plt.xlim(0, 120)\n",
    "    if n not in (0,5):\n",
    "        splot.axes.get_yaxis().set_visible(False)\n",
    "#         splot.spines['right'].set_visible(False)\n",
    "#         splot.spines['top'].set_visible(False)\n",
    "#         splot.spines['left'].set_visible(False)\n",
    "#         splot.spines['bottom'].set_visible(False)\n",
    "    splot.axes.get_xaxis().set_visible(False)\n",
    "#         splot.axes.get_yaxis().set_visible(False)\n",
    "# plt.subplots_adjust(hspace=0.2)\n",
    "plt.subplots_adjust(wspace=0.2)\n",
    "plt.show()"
   ]
  },
  {
   "cell_type": "markdown",
   "metadata": {
    "heading_collapsed": true,
    "hidden": true
   },
   "source": [
    "#### Customer country (only users who repurchase)"
   ]
  },
  {
   "cell_type": "code",
   "execution_count": null,
   "metadata": {
    "ExecuteTime": {
     "end_time": "2022-08-22T12:37:49.670944Z",
     "start_time": "2022-08-22T12:34:25.721099Z"
    },
    "hidden": true
   },
   "outputs": [],
   "source": [
    "# get top 10 countries \n",
    "top10 = list(df3[['user_country', 'purchase_id']].groupby('user_country').count().reset_index().sort_values('purchase_id', ascending=False)['user_country'][0:10])\n",
    "plt.figure(figsize = (30,10))\n",
    "\n",
    "for n, d in enumerate(top10):\n",
    "    plt.subplot(2,5,n+1)\n",
    "    ### count purchases per user\n",
    "    aux1 = df3[df3['user_country'] == d]\n",
    "    aux2 = aux1[['user_buyer_id', 'purchase_id']].groupby('user_buyer_id').count().reset_index()\n",
    "    aux2.columns = ['user_buyer_id', 'no_repurchase_temp']\n",
    "    aux1 = aux1.merge(aux2, how = 'left', on = 'user_buyer_id')\n",
    "\n",
    "    ### flag repurchase\n",
    "    aux1['repurchase_temp'] = aux1['no_repurchase_temp'].apply(lambda x : 'repurchase' if x != 1 else 'single-purchase')\n",
    "\n",
    "    ### flag whether a user repurchased from same producer at least once \n",
    "    aux2 = aux1[aux1['repurchase_temp'] == 'repurchase'][['purchase_id', 'producer_id', 'user_buyer_id']].groupby(['producer_id', 'user_buyer_id']).count().reset_index().reset_index()\n",
    "    aux2['same_prod_temp'] = aux2['purchase_id'].apply(lambda x : 'repurchased' if x > 1 else 'did not repurchase')\n",
    "    # get users who repurchased from same producer\n",
    "    aux2 = aux2[aux2['same_prod_temp'] == 'repurchased'][['user_buyer_id']].drop_duplicates()\n",
    "    aux2['repurchase_same_producer_temp'] = 'same_producer_repurchase'\n",
    "    # get users who did not repurchased\n",
    "    aux1 = aux1.merge(aux2, how = 'left', on = 'user_buyer_id')\n",
    "    aux1.loc[aux1['repurchase_temp'] == 'single-purchase', 'repurchase_same_producer_temp'] = 'no_repurchase'\n",
    "    aux1['repurchase_same_producer_temp'] = aux1['repurchase_same_producer_temp'].fillna('diff_producer_repurchase')\n",
    "\n",
    "    aux2 = aux1[aux1['repurchase_temp'] == 'repurchase'][['repurchase_same_producer_temp', 'user_buyer_id']].drop_duplicates().groupby(['repurchase_same_producer_temp']).count().reset_index()\n",
    "    aux2['%'] = aux2['user_buyer_id'] / aux2['user_buyer_id'].sum()*100\n",
    "    \n",
    "    # plot graph with annotations\n",
    "    sns.set_style('white')\n",
    "    splot = sns.barplot(y = 'repurchase_same_producer_temp', x = '%', data = aux2, palette = palette_types, order = ['diff_producer_repurchase', 'same_producer_repurchase']);\n",
    "\n",
    "    for p in splot.patches:\n",
    "        splot.annotate(\"%.2f\" % p.get_width(), xy=(p.get_width(), p.get_y()+p.get_height()/2),\n",
    "                       xytext=(5,0), textcoords='offset points', ha='left', va='center')\n",
    "    plt.title(f\"{d} | N: {(aux2['user_buyer_id'].sum()):,}\")\n",
    "    plt.yticks(fontsize =16)\n",
    "    plt.xlabel(\"\")\n",
    "    plt.ylabel(\"\")\n",
    "    plt.xlim(0, 120)\n",
    "    if n not in (0, 5):\n",
    "        splot.axes.get_yaxis().set_visible(False)\n",
    "#         splot.spines['right'].set_visible(False)\n",
    "#         splot.spines['top'].set_visible(False)\n",
    "#         splot.spines['left'].set_visible(False)\n",
    "#         splot.spines['bottom'].set_visible(False)\n",
    "    splot.axes.get_xaxis().set_visible(False)\n",
    "#         splot.axes.get_yaxis().set_visible(False)\n",
    "# plt.subplots_adjust(hspace=0.2)\n",
    "plt.subplots_adjust(wspace=0.2)\n",
    "plt.show()"
   ]
  },
  {
   "cell_type": "markdown",
   "metadata": {
    "heading_collapsed": true,
    "hidden": true
   },
   "source": [
    "#### Producer office (all users)"
   ]
  },
  {
   "cell_type": "markdown",
   "metadata": {
    "hidden": true
   },
   "source": [
    "- For this analysis, 1st and 2nd purchases can be from any producer within the same office.\n",
    "- Premisse: if a 2nd purchase was from a producer from a different office, this purchase will be discarded. If the 3rd+ purchase comes from the same producer office, then it will be considered as the 2nd purchase."
   ]
  },
  {
   "cell_type": "code",
   "execution_count": null,
   "metadata": {
    "ExecuteTime": {
     "end_time": "2022-08-22T12:41:25.853311Z",
     "start_time": "2022-08-22T12:37:49.678943Z"
    },
    "hidden": true
   },
   "outputs": [],
   "source": [
    "# get office_list\n",
    "office_list = list(df3[['user_office_name', 'purchase_id']].groupby('user_office_name').count().reset_index().sort_values('purchase_id', ascending=False)['user_office_name'])\n",
    "plt.figure(figsize = (30,10))\n",
    "\n",
    "for n, d in enumerate(office_list):\n",
    "    plt.subplot(2,3,n+1)\n",
    "    ### count purchases per user\n",
    "    aux1 = df3[df3['user_office_name'] == d]\n",
    "    aux2 = aux1[['user_buyer_id', 'purchase_id']].groupby('user_buyer_id').count().reset_index()\n",
    "    aux2.columns = ['user_buyer_id', 'no_repurchase_temp']\n",
    "    aux1 = aux1.merge(aux2, how = 'left', on = 'user_buyer_id')\n",
    "\n",
    "    ### flag repurchase\n",
    "    aux1['repurchase_temp'] = aux1['no_repurchase_temp'].apply(lambda x : 'repurchase' if x != 1 else 'single-purchase')\n",
    "\n",
    "    ### flag whether a user repurchased from same producer at least once \n",
    "    aux2 = aux1[aux1['repurchase_temp'] == 'repurchase'][['purchase_id', 'producer_id', 'user_buyer_id']].groupby(['producer_id', 'user_buyer_id']).count().reset_index().reset_index()\n",
    "    aux2['same_prod_temp'] = aux2['purchase_id'].apply(lambda x : 'repurchased' if x > 1 else 'did not repurchase')\n",
    "    # get users who repurchased from same producer\n",
    "    aux2 = aux2[aux2['same_prod_temp'] == 'repurchased'][['user_buyer_id']].drop_duplicates()\n",
    "    aux2['repurchase_same_producer_temp'] = 'same_producer_repurchase'\n",
    "    # get users who did not repurchased\n",
    "    aux1 = aux1.merge(aux2, how = 'left', on = 'user_buyer_id')\n",
    "    aux1.loc[aux1['repurchase_temp'] == 'single-purchase', 'repurchase_same_producer_temp'] = 'no_repurchase'\n",
    "    aux1['repurchase_same_producer_temp'] = aux1['repurchase_same_producer_temp'].fillna('diff_producer_repurchase')\n",
    "\n",
    "    aux2 = aux1[['repurchase_same_producer_temp', 'user_buyer_id']].drop_duplicates().groupby(['repurchase_same_producer_temp']).count().reset_index()\n",
    "    aux2['%'] = aux2['user_buyer_id'] / aux2['user_buyer_id'].sum()*100    \n",
    "    \n",
    "    # plot graph with annotations\n",
    "    sns.set_style('white')\n",
    "    splot = sns.barplot(y = 'repurchase_same_producer_temp', x = '%', data = aux2, palette = palette_types, order = ['no_repurchase', 'diff_producer_repurchase', 'same_producer_repurchase']);\n",
    "\n",
    "    for p in splot.patches:\n",
    "        splot.annotate(\"%.2f\" % p.get_width(), xy=(p.get_width(), p.get_y()+p.get_height()/2),\n",
    "                       xytext=(5,0), textcoords='offset points', ha='left', va='center')\n",
    "    plt.title(f\"{d} | N: {(aux2['user_buyer_id'].sum()):,}\")\n",
    "    plt.yticks(fontsize =16)\n",
    "    plt.xlabel(\"\")\n",
    "    plt.ylabel(\"\")\n",
    "    plt.xlim(0, 120)\n",
    "    splot.axes.get_yaxis().set_visible(False)\n",
    "    if n == 0:\n",
    "        splot.axes.get_yaxis().set_visible(True)\n",
    "    if n == 3:\n",
    "        splot.axes.get_yaxis().set_visible(True)\n",
    "#         splot.spines['right'].set_visible(False)\n",
    "#         splot.spines['top'].set_visible(False)\n",
    "#         splot.spines['left'].set_visible(False)\n",
    "#         splot.spines['bottom'].set_visible(False)\n",
    "    splot.axes.get_xaxis().set_visible(False)\n",
    "#         splot.axes.get_yaxis().set_visible(False)\n",
    "# plt.subplots_adjust(hspace=0.2)\n",
    "plt.subplots_adjust(wspace=0.2)\n",
    "plt.show()"
   ]
  },
  {
   "cell_type": "markdown",
   "metadata": {
    "hidden": true
   },
   "source": [
    "#### Producer office (only users who repurchase)"
   ]
  },
  {
   "cell_type": "code",
   "execution_count": null,
   "metadata": {
    "ExecuteTime": {
     "end_time": "2022-08-22T12:45:02.339350Z",
     "start_time": "2022-08-22T12:41:25.857408Z"
    },
    "hidden": true
   },
   "outputs": [],
   "source": [
    "# get office\n",
    "office_list = list(df3[['user_office_name', 'purchase_id']].groupby('user_office_name').count().reset_index().sort_values('purchase_id', ascending=False)['user_office_name'])\n",
    "plt.figure(figsize = (30,10))\n",
    "\n",
    "for n, d in enumerate(office_list):\n",
    "    plt.subplot(2,3,n+1)\n",
    "    ### count purchases per user\n",
    "    aux1 = df3[df3['user_office_name'] == d]\n",
    "    aux2 = aux1[['user_buyer_id', 'purchase_id']].groupby('user_buyer_id').count().reset_index()\n",
    "    aux2.columns = ['user_buyer_id', 'no_repurchase_temp']\n",
    "    aux1 = aux1.merge(aux2, how = 'left', on = 'user_buyer_id')\n",
    "\n",
    "    ### flag repurchase\n",
    "    aux1['repurchase_temp'] = aux1['no_repurchase_temp'].apply(lambda x : 'repurchase' if x != 1 else 'single-purchase')\n",
    "\n",
    "    ### flag whether a user repurchased from same producer at least once \n",
    "    aux2 = aux1[aux1['repurchase_temp'] == 'repurchase'][['purchase_id', 'producer_id', 'user_buyer_id']].groupby(['producer_id', 'user_buyer_id']).count().reset_index().reset_index()\n",
    "    aux2['same_prod_temp'] = aux2['purchase_id'].apply(lambda x : 'repurchased' if x > 1 else 'did not repurchase')\n",
    "    # get users who repurchased from same producer\n",
    "    aux2 = aux2[aux2['same_prod_temp'] == 'repurchased'][['user_buyer_id']].drop_duplicates()\n",
    "    aux2['repurchase_same_producer_temp'] = 'same_producer_repurchase'\n",
    "    # get users who did not repurchased\n",
    "    aux1 = aux1.merge(aux2, how = 'left', on = 'user_buyer_id')\n",
    "    aux1.loc[aux1['repurchase_temp'] == 'single-purchase', 'repurchase_same_producer_temp'] = 'no_repurchase'\n",
    "    aux1['repurchase_same_producer_temp'] = aux1['repurchase_same_producer_temp'].fillna('diff_producer_repurchase')\n",
    "\n",
    "    aux2 = aux1[aux1['repurchase_temp'] == 'repurchase'][['repurchase_same_producer_temp', 'user_buyer_id']].drop_duplicates().groupby(['repurchase_same_producer_temp']).count().reset_index()\n",
    "    aux2['%'] = aux2['user_buyer_id'] / aux2['user_buyer_id'].sum()*100\n",
    "    \n",
    "    # plot graph with annotations\n",
    "    sns.set_style('white')\n",
    "    splot = sns.barplot(y = 'repurchase_same_producer_temp', x = '%', data = aux2, palette = palette_types, order = ['diff_producer_repurchase', 'same_producer_repurchase']);\n",
    "\n",
    "    for p in splot.patches:\n",
    "        splot.annotate(\"%.2f\" % p.get_width(), xy=(p.get_width(), p.get_y()+p.get_height()/2),\n",
    "                       xytext=(5,0), textcoords='offset points', ha='left', va='center')\n",
    "    plt.title(f\"{d} | N: {(aux2['user_buyer_id'].sum()):,}\")\n",
    "    plt.yticks(fontsize =16)\n",
    "    plt.xlabel(\"\")\n",
    "    plt.ylabel(\"\")\n",
    "    plt.xlim(0, 120)\n",
    "    splot.axes.get_yaxis().set_visible(False)\n",
    "    if n == 0:\n",
    "        splot.axes.get_yaxis().set_visible(True)\n",
    "    if n == 3:\n",
    "        splot.axes.get_yaxis().set_visible(True)\n",
    "#         splot.spines['right'].set_visible(False)\n",
    "#         splot.spines['top'].set_visible(False)\n",
    "#         splot.spines['left'].set_visible(False)\n",
    "#         splot.spines['bottom'].set_visible(False)\n",
    "    splot.axes.get_xaxis().set_visible(False)\n",
    "#         splot.axes.get_yaxis().set_visible(False)\n",
    "# plt.subplots_adjust(hspace=0.2)\n",
    "plt.subplots_adjust(wspace=0.2)\n",
    "plt.show()"
   ]
  },
  {
   "cell_type": "code",
   "execution_count": null,
   "metadata": {
    "ExecuteTime": {
     "end_time": "2022-09-06T15:12:12.633453Z",
     "start_time": "2022-09-06T15:08:57.766121Z"
    },
    "hidden": true
   },
   "outputs": [],
   "source": [
    "# get office\n",
    "office_list = list(df3[['user_office_name', 'purchase_id']].groupby('user_office_name').count().reset_index().sort_values('purchase_id', ascending=False)['user_office_name'])\n",
    "### global\n",
    "global_df = df3[df3['repurchase'] == 'repurchase'][['repurchase_same_producer', 'user_buyer_id']].drop_duplicates().groupby(['repurchase_same_producer']).count().reset_index()\n",
    "global_df['%'] = global_df['user_buyer_id'] / global_df['user_buyer_id'].sum()*100\n",
    "global_df = global_df[global_df['repurchase_same_producer'] != 'diff_producer_repurchase']\n",
    "global_df['local'] = 'Global'\n",
    "\n",
    "for n, d in enumerate(office_list):\n",
    "    ### count purchases per user\n",
    "    aux1 = df3[df3['user_office_name'] == d].drop(['no_repurchase', 'repurchase','repurchase_same_producer'], axis = 1)\n",
    "    aux2 = aux1[['user_buyer_id', 'purchase_id']].groupby('user_buyer_id').count().reset_index()\n",
    "    aux2.columns = ['user_buyer_id', 'no_repurchase']\n",
    "    aux1 = aux1.merge(aux2, how = 'left', on = 'user_buyer_id')\n",
    "\n",
    "    ### flag repurchase\n",
    "    aux1['repurchase'] = aux1['no_repurchase'].apply(lambda x : 'repurchase' if x != 1 else 'single-purchase')\n",
    "\n",
    "    ### flag whether a user repurchased from same producer at least once \n",
    "    aux2 = aux1[aux1['repurchase'] == 'repurchase'][['purchase_id', 'producer_id', 'user_buyer_id']].groupby(['producer_id', 'user_buyer_id']).count().reset_index().reset_index()\n",
    "    aux2['same_prod'] = aux2['purchase_id'].apply(lambda x : 'repurchased' if x > 1 else 'did not repurchase')\n",
    "    # get users who repurchased from same producer\n",
    "    aux2 = aux2[aux2['same_prod'] == 'repurchased'][['user_buyer_id']].drop_duplicates()\n",
    "    aux2['repurchase_same_producer'] = 'same_producer_repurchase'\n",
    "    # get users who did not repurchased\n",
    "    aux1 = aux1.merge(aux2, how = 'left', on = 'user_buyer_id')\n",
    "    aux1.loc[aux1['repurchase'] == 'single-purchase', 'repurchase_same_producer'] = 'no_repurchase'\n",
    "    aux1['repurchase_same_producer'] = aux1['repurchase_same_producer'].fillna('diff_producer_repurchase')\n",
    "\n",
    "    aux2 = aux1[aux1['repurchase'] == 'repurchase'][['repurchase_same_producer', 'user_buyer_id']].drop_duplicates().groupby(['repurchase_same_producer']).count().reset_index()\n",
    "    aux2['%'] = aux2['user_buyer_id'] / aux2['user_buyer_id'].sum()*100\n",
    "    aux2 = aux2[aux2['repurchase_same_producer'] == 'same_producer_repurchase']\n",
    "    aux2['local'] = d\n",
    "    global_df = pd.concat([global_df, aux2])\n",
    "global_df['local'] = global_df['local'].str.title()\n",
    "global_df.loc[global_df['local'] == 'Usa', 'local'] = 'USA'\n",
    "global_df"
   ]
  },
  {
   "cell_type": "code",
   "execution_count": null,
   "metadata": {
    "ExecuteTime": {
     "end_time": "2022-09-06T15:13:00.395091Z",
     "start_time": "2022-09-06T15:12:59.461990Z"
    },
    "hidden": true
   },
   "outputs": [],
   "source": [
    "# get number of producers\n",
    "aux1 = df3[['user_office_name', 'producer_id']].groupby('user_office_name').nunique().reset_index()\n",
    "aux1.columns = ['local', 'num_producers']\n",
    "aux1['local'] = aux1['local'].str.title()\n",
    "aux1.loc[aux1['local'] == 'Usa', 'local'] = 'USA'\n",
    "global_df = global_df.merge(aux1, how = 'left', on = 'local')\n",
    "global_df.loc[global_df['local'] == 'Global', 'num_producers'] = aux1['num_producers'].sum()\n",
    "global_df"
   ]
  },
  {
   "cell_type": "code",
   "execution_count": null,
   "metadata": {
    "ExecuteTime": {
     "end_time": "2022-09-06T15:15:41.119318Z",
     "start_time": "2022-09-06T15:15:41.112848Z"
    },
    "hidden": true
   },
   "outputs": [],
   "source": [
    "list(global_df['local'])"
   ]
  },
  {
   "cell_type": "code",
   "execution_count": null,
   "metadata": {
    "ExecuteTime": {
     "end_time": "2022-09-06T15:30:13.067571Z",
     "start_time": "2022-09-06T15:30:13.064067Z"
    },
    "hidden": true
   },
   "outputs": [],
   "source": [
    "for p in splot.patches:\n",
    "    print(p)"
   ]
  },
  {
   "cell_type": "code",
   "execution_count": null,
   "metadata": {
    "ExecuteTime": {
     "end_time": "2022-09-06T15:37:03.575909Z",
     "start_time": "2022-09-06T15:37:03.567430Z"
    },
    "hidden": true
   },
   "outputs": [],
   "source": [
    "global_df"
   ]
  },
  {
   "cell_type": "code",
   "execution_count": null,
   "metadata": {
    "ExecuteTime": {
     "end_time": "2022-09-06T15:40:56.902377Z",
     "start_time": "2022-09-06T15:40:56.897959Z"
    },
    "hidden": true
   },
   "outputs": [],
   "source": [
    "0.6+0.8/2"
   ]
  },
  {
   "cell_type": "code",
   "execution_count": null,
   "metadata": {
    "ExecuteTime": {
     "end_time": "2022-09-06T17:08:38.132958Z",
     "start_time": "2022-09-06T17:08:37.886067Z"
    },
    "hidden": true,
    "scrolled": false
   },
   "outputs": [],
   "source": [
    "list_order = list(global_df.sort_values('%', ascending=False)['local'])\n",
    "list_order.remove('Global')\n",
    "list_order.insert(0, 'Global')\n",
    "plt.figure(figsize = (10,15))\n",
    "# plot graph with annotations\n",
    "sns.set_style('white')\n",
    "splot = sns.barplot(y = 'local', x = '%', data = global_df, palette = {'Global': '#EF4E23' , 'Brazil': '#9EA4AC',\n",
    "                                                                 'Colombia': '#9EA4AC', 'Mexico': '#9EA4AC',\n",
    "                                                                 'Spain': '#9EA4AC', 'USA': '#9EA4AC', \n",
    "                                                                 'Amsterdam': '#9EA4AC'} , order = list_order);\n",
    "\n",
    "for p in splot.patches:\n",
    "    splot.annotate(\" %.2f\" % p.get_width() + '%', xy=(p.get_width(), p.get_y()+p.get_height()/2),\n",
    "                   xytext=(5,0), textcoords='offset points', \n",
    "                   ha='left', va='center', fontsize = 50, color = '#707780')\n",
    "# plt.title(f\"Generated GMV by buyers who repurchase\", color =  '#707780' , fontsize = 40)\n",
    "splot.set_title(f\"% of buyers who repurchase from\\n\" + \"the same producer\\n\" + \"(from all buyers who repurchase)\", color =  '#707780' , fontsize = 40, loc = 'left', pad=30)\n",
    "\n",
    "for n in list(global_df['local']):\n",
    "    if n == 'Global':\n",
    "        splot.annotate(f\"(N: {(int(list(global_df[global_df['local'] == n]['num_producers'])[0])):,})\", \n",
    "                       xy = (27, 6.0), xytext = (65,0.1), color = '#707780', fontsize = 25)\n",
    "    if n == 'Amsterdam':\n",
    "        splot.annotate(f\"(N: {(int(list(global_df[global_df['local'] == n]['num_producers'])[0])):,})\", \n",
    "                       xy = (27, 6.0), xytext = (125,1.1), color = '#707780', fontsize = 25)\n",
    "    if n == 'USA':\n",
    "        splot.annotate(f\"(N: {(int(list(global_df[global_df['local'] == n]['num_producers'])[0])):,})\", \n",
    "                       xy = (27, 6.0), xytext = (122,2.1), color = '#707780', fontsize = 25)\n",
    "    if n == 'Spain':\n",
    "        splot.annotate(f\"(N: {(int(list(global_df[global_df['local'] == n]['num_producers'])[0])):,})\", \n",
    "                       xy = (27, 6.0), xytext = (115,3.1), color = '#707780', fontsize = 25)\n",
    "    if n == 'Mexico':\n",
    "        splot.annotate(f\"(N: {(int(list(global_df[global_df['local'] == n]['num_producers'])[0])):,})\", \n",
    "                       xy = (27, 6.0), xytext = (115,4.1), color = '#707780', fontsize = 25)\n",
    "    if n == 'Colombia':\n",
    "        splot.annotate(f\"(N: {(int(list(global_df[global_df['local'] == n]['num_producers'])[0])):,})\", \n",
    "                       xy = (27, 6.0), xytext = (80,5.1), color = '#707780', fontsize = 25)\n",
    "    if n == 'Brazil':\n",
    "        splot.annotate(f\"(N: {(int(list(global_df[global_df['local'] == n]['num_producers'])[0])):,})\", \n",
    "                       xy = (27, 6.0), xytext = (65,6.1), color = '#707780', fontsize = 25)\n",
    "plt.yticks(fontsize =50)\n",
    "plt.xlabel(\"\")\n",
    "plt.ylabel(\"\")\n",
    "plt.xlim(0, 100)\n",
    "splot.tick_params(labelsize=30)\n",
    "splot.yaxis.label.set_color('#707780')\n",
    "splot.spines['left'].set_color('#707780')\n",
    "splot.tick_params(axis='y', colors='#707780',labelsize=50, pad = 30)\n",
    "#     splot.axes.get_yaxis().set_visible(False)\n",
    "splot.spines['right'].set_visible(False)\n",
    "splot.spines['top'].set_visible(False)\n",
    "splot.spines['left'].set_visible(False)\n",
    "splot.spines['bottom'].set_visible(False)\n",
    "splot.axes.get_xaxis().set_visible(False)\n",
    "plt.show()"
   ]
  },
  {
   "cell_type": "markdown",
   "metadata": {
    "heading_collapsed": true,
    "hidden": true
   },
   "source": [
    "#### Producers < 10k BRL LTV (all users)"
   ]
  },
  {
   "cell_type": "markdown",
   "metadata": {
    "hidden": true
   },
   "source": [
    "- For this analysis, the 2nd purchase can be from any producer (independent of being below/above the GMV LTV threshold). In this context, \"2nd purchase\" could refer to any order (1st-2nd, 2nd-3rd, 3rd-4th, etc..)\n",
    "- N = number of customers"
   ]
  },
  {
   "cell_type": "code",
   "execution_count": null,
   "metadata": {
    "ExecuteTime": {
     "end_time": "2022-08-22T12:47:12.255965Z",
     "start_time": "2022-08-22T12:45:02.344546Z"
    },
    "hidden": true
   },
   "outputs": [],
   "source": [
    "for n, d in enumerate(['below', 'above']):\n",
    "    plt.subplot(1,2,n+1)\n",
    "    # get list of all buyers, based on filtered producers\n",
    "    aux1 = df3[df3['is_below_10_entire'] == d][['user_buyer_id']].drop_duplicates()\n",
    "    # count repurchase for every customer in the filtered df\n",
    "    aux2 = df3[df3['is_below_10_entire'] == d]\n",
    "    aux3 = aux2[['user_buyer_id', 'purchase_id']].groupby('user_buyer_id').count().reset_index()\n",
    "    aux3.columns = ['user_buyer_id', 'no_repurchase_filter']\n",
    "    aux1 = aux1.merge(aux3, how = 'left', on = 'user_buyer_id')\n",
    "\n",
    "    # count repurchase for every customer in the main df\n",
    "    aux3 = df3[['user_buyer_id', 'purchase_id']].groupby('user_buyer_id').count().reset_index()\n",
    "    aux3.columns = ['user_buyer_id', 'no_repurchase_nofilter']\n",
    "    aux1 = aux1.merge(aux3, how = 'left', on = 'user_buyer_id')\n",
    "    aux1['class'] = aux1.apply(lambda x : 'same_producer_repurchase' if x['no_repurchase_filter'] > 1 \n",
    "                               else 'no_repurchase' if (x['no_repurchase_nofilter'] == 1)\n",
    "                               else 'diff_producer_repurchase' if (x['no_repurchase_filter'] == 1) & (x['no_repurchase_nofilter'] > 1)\n",
    "                               else 'NA', axis = 1\n",
    "                              )\n",
    "    aux2 = aux1[['user_buyer_id', 'class']].groupby('class').nunique().reset_index()\n",
    "    aux2['%'] = aux2['user_buyer_id'] / aux2['user_buyer_id'].sum() * 100  \n",
    "    # plot graph with annotations\n",
    "    sns.set_style('white')\n",
    "    splot = sns.barplot(y = 'class', x = '%', data = aux2, palette = palette_types, order = ['no_repurchase', 'diff_producer_repurchase', 'same_producer_repurchase']);\n",
    "\n",
    "    for p in splot.patches:\n",
    "        splot.annotate(\"%.2f\" % p.get_width(), xy=(p.get_width(), p.get_y()+p.get_height()/2),\n",
    "                       xytext=(5,0), textcoords='offset points', ha='left', va='center')\n",
    "    plt.title(f\"{d} | N: {(aux2['user_buyer_id'].sum()):,}\")\n",
    "    plt.yticks(fontsize =16)\n",
    "    plt.xlabel(\"\")\n",
    "    plt.ylabel(\"\")\n",
    "    plt.xlim(0, 120)\n",
    "    splot.axes.get_yaxis().set_visible(False)\n",
    "    if n == 0:\n",
    "        splot.axes.get_yaxis().set_visible(True)\n",
    "    if n == 3:\n",
    "        splot.axes.get_yaxis().set_visible(True)\n",
    "#         splot.spines['right'].set_visible(False)\n",
    "#         splot.spines['top'].set_visible(False)\n",
    "#         splot.spines['left'].set_visible(False)\n",
    "#         splot.spines['bottom'].set_visible(False)\n",
    "    splot.axes.get_xaxis().set_visible(False)\n",
    "#         splot.axes.get_yaxis().set_visible(False)\n",
    "# plt.subplots_adjust(hspace=0.2)\n",
    "plt.subplots_adjust(wspace=0.2)\n",
    "plt.show()"
   ]
  },
  {
   "cell_type": "markdown",
   "metadata": {
    "heading_collapsed": true,
    "hidden": true
   },
   "source": [
    "#### Producers < 10k BRL LTV (only users who repurchase)"
   ]
  },
  {
   "cell_type": "markdown",
   "metadata": {
    "hidden": true
   },
   "source": [
    "- For this analysis, the 2nd purchase can be from any producer (independent of being below/above the GMV LTV threshold).\n",
    "- N = number of customers"
   ]
  },
  {
   "cell_type": "code",
   "execution_count": null,
   "metadata": {
    "ExecuteTime": {
     "end_time": "2022-08-22T12:49:18.745392Z",
     "start_time": "2022-08-22T12:47:12.262559Z"
    },
    "hidden": true
   },
   "outputs": [],
   "source": [
    "plt.figure(figsize = (30,10))\n",
    "\n",
    "for n, d in enumerate(['below', 'above']):\n",
    "    plt.subplot(1,2,n+1)\n",
    "    # get list of all buyers, based on filtered producers\n",
    "    aux1 = df3[df3['is_below_10_entire'] == d][['user_buyer_id']].drop_duplicates()\n",
    "    # count repurchase for every customer in the filtered df\n",
    "    aux2 = df3[df3['is_below_10_entire'] == d]\n",
    "    aux3 = aux2[['user_buyer_id', 'purchase_id']].groupby('user_buyer_id').count().reset_index()\n",
    "    aux3.columns = ['user_buyer_id', 'no_repurchase_filter']\n",
    "    aux1 = aux1.merge(aux3, how = 'left', on = 'user_buyer_id')\n",
    "\n",
    "    # count repurchase for every customer in the main df\n",
    "    aux3 = df3[['user_buyer_id', 'purchase_id']].groupby('user_buyer_id').count().reset_index()\n",
    "    aux3.columns = ['user_buyer_id', 'no_repurchase_nofilter']\n",
    "    aux1 = aux1.merge(aux3, how = 'left', on = 'user_buyer_id')\n",
    "    aux1['class'] = aux1.apply(lambda x : 'same_producer_repurchase' if x['no_repurchase_filter'] > 1 \n",
    "                               else 'no_repurchase' if (x['no_repurchase_nofilter'] == 1)\n",
    "                               else 'diff_producer_repurchase' if (x['no_repurchase_filter'] == 1) & (x['no_repurchase_nofilter'] > 1)\n",
    "                               else 'NA', axis = 1\n",
    "                              )\n",
    "    aux1 = aux1[aux1['class'] != 'no_repurchase']\n",
    "    aux2 = aux1[['user_buyer_id', 'class']].groupby('class').nunique().reset_index()\n",
    "    aux2['%'] = aux2['user_buyer_id'] / aux2['user_buyer_id'].sum() * 100  \n",
    "    \n",
    "    # plot graph with annotations\n",
    "    sns.set_style('white')\n",
    "    splot = sns.barplot(y = 'class', x = '%', data = aux2, palette = palette_types, order = ['diff_producer_repurchase', 'same_producer_repurchase']);\n",
    "\n",
    "    for p in splot.patches:\n",
    "        splot.annotate(\"%.2f\" % p.get_width(), xy=(p.get_width(), p.get_y()+p.get_height()/2),\n",
    "                       xytext=(5,0), textcoords='offset points', ha='left', va='center')\n",
    "    plt.title(f\"{d} | N: {(aux2['user_buyer_id'].sum()):,}\")\n",
    "    plt.yticks(fontsize =16)\n",
    "    plt.xlabel(\"\")\n",
    "    plt.ylabel(\"\")\n",
    "    plt.xlim(0, 120)\n",
    "    splot.axes.get_yaxis().set_visible(False)\n",
    "    if n == 0:\n",
    "        splot.axes.get_yaxis().set_visible(True)\n",
    "    if n == 3:\n",
    "        splot.axes.get_yaxis().set_visible(True)\n",
    "#         splot.spines['right'].set_visible(False)\n",
    "#         splot.spines['top'].set_visible(False)\n",
    "#         splot.spines['left'].set_visible(False)\n",
    "#         splot.spines['bottom'].set_visible(False)\n",
    "    splot.axes.get_xaxis().set_visible(False)\n",
    "#         splot.axes.get_yaxis().set_visible(False)\n",
    "# plt.subplots_adjust(hspace=0.2)\n",
    "plt.subplots_adjust(wspace=0.2)\n",
    "plt.show()"
   ]
  },
  {
   "cell_type": "markdown",
   "metadata": {
    "heading_collapsed": true
   },
   "source": [
    "### [CHECK] How much GMV does a customer reinvest in the same producer (against customers who do not)? (by customer country, producer office, producers below 10k BRL LTV)"
   ]
  },
  {
   "cell_type": "code",
   "execution_count": null,
   "metadata": {
    "ExecuteTime": {
     "end_time": "2022-08-22T12:49:18.756471Z",
     "start_time": "2022-08-22T12:49:18.748718Z"
    },
    "hidden": true
   },
   "outputs": [],
   "source": [
    "  "
   ]
  },
  {
   "cell_type": "code",
   "execution_count": null,
   "metadata": {
    "ExecuteTime": {
     "end_time": "2022-08-22T12:49:18.764527Z",
     "start_time": "2022-08-22T12:49:18.759741Z"
    },
    "hidden": true
   },
   "outputs": [],
   "source": [
    "  \n",
    "  \n",
    "  "
   ]
  },
  {
   "cell_type": "markdown",
   "metadata": {
    "heading_collapsed": true,
    "hidden": true
   },
   "source": [
    "#### Overall"
   ]
  },
  {
   "cell_type": "code",
   "execution_count": null,
   "metadata": {
    "ExecuteTime": {
     "end_time": "2022-09-15T00:48:37.867824Z",
     "start_time": "2022-09-15T00:47:52.966322Z"
    },
    "hidden": true
   },
   "outputs": [],
   "source": [
    "# count purchase vol\n",
    "aux1 = df3[['purchase_id', 'producer_id', 'user_buyer_id']].groupby(['producer_id', 'user_buyer_id']).count().reset_index()\n",
    "aux1['repurchase'] = aux1['purchase_id'].apply(lambda x : 1 if x > 1 else 0)\n",
    "aux1.columns = ['producer_id', 'user_buyer_id', 'no_repurchase', 'repurchase']\n",
    "# sum gmv \n",
    "aux2 = df3[['gmv_value_brl', 'producer_id', 'user_buyer_id']].groupby(['producer_id', 'user_buyer_id']).sum().reset_index()\n",
    "# calc mean ticket price per producer\n",
    "aux3 = df3[['producer_id', 'gmv_value_brl']].groupby(['producer_id']).mean().reset_index()\n",
    "aux3.columns = ['producer_id', 'mean_ticket']\n",
    "# calc number of products per producer\n",
    "aux4 = df3[['producer_id', 'product_id']].groupby(['producer_id']).nunique().reset_index()\n",
    "aux4.columns = ['producer_id', 'num_products']\n",
    "\n",
    "# merge\n",
    "aux5 = aux1.merge(aux2, \n",
    "                  how = 'left', \n",
    "                  on = ['producer_id', 'user_buyer_id']).merge(aux3, \n",
    "                                                               how = 'left', on = ['producer_id']).merge(aux4, \n",
    "                                                                                                    how = 'left', on = ['producer_id'])\n",
    "aux5 = aux5[aux5['gmv_value_brl'] > 0]\n",
    "print(f\"99th perc. gmv was removed: {np.percentile(aux5['gmv_value_brl'], 99):,.2f} BRL\")\n",
    "aux5 = aux5[aux5['gmv_value_brl'] < np.percentile(aux5['gmv_value_brl'], 99)]\n",
    "# get medians\n",
    "aux4 = aux5[['repurchase', 'gmv_value_brl']].groupby('repurchase').median().reset_index()\n",
    "aux4['repurchase'] = aux4['repurchase'].apply(lambda x : 'repurchased' if x == 1 else 'did not repurchase')\n",
    "aux5['ln'] = np.log(aux5['gmv_value_brl'])\n",
    "aux5 = aux5.merge(df3[['repurchase_same_producer', 'user_buyer_id']].drop_duplicates(), how = 'left', on = 'user_buyer_id')\n",
    "aux5 = aux5[aux5['repurchase_same_producer'] != 'no_repurchase']\n",
    "aux5.to_csv('data/gmv_sum_repurchase_by_producer.csv')\n",
    "# # https://www.statsmodels.org/stable/examples/notebooks/generated/mixed_lm_example.html\n",
    "# md = smf.mixedlm(\"np.log(gmv_value_brl) ~ repurchase\", aux5, groups=aux5[\"producer_id\"])\n",
    "# mdf = md.fit(method=[\"lbfgs\"])\n",
    "# print(mdf.summary())"
   ]
  },
  {
   "cell_type": "code",
   "execution_count": null,
   "metadata": {
    "ExecuteTime": {
     "end_time": "2022-09-06T12:51:29.597442Z",
     "start_time": "2022-09-06T12:51:29.595277Z"
    },
    "hidden": true
   },
   "outputs": [],
   "source": [
    "# sns.boxplot(data = aux5[aux5['gmv_value_brl'] < 3000], x = 'repurchase', y = 'gmv_value_brl');"
   ]
  },
  {
   "cell_type": "code",
   "execution_count": null,
   "metadata": {
    "ExecuteTime": {
     "end_time": "2022-09-15T00:51:47.424029Z",
     "start_time": "2022-09-15T00:51:47.413224Z"
    },
    "hidden": true
   },
   "outputs": [],
   "source": [
    "# get correct % changes: https://davegiles.blogspot.com/2011/03/dummies-for-dummies.html\n",
    "perc_change = ((math.exp(0.65)- 1) * 100)\n",
    "factor = (perc_change / 100) + 1\n",
    "\n",
    "print(f\"Repurchase buyers increase gmv by: {perc_change:.2f}% ({factor:.2f}x)\")"
   ]
  },
  {
   "cell_type": "code",
   "execution_count": null,
   "metadata": {
    "ExecuteTime": {
     "end_time": "2022-09-06T12:53:06.149866Z",
     "start_time": "2022-09-06T12:53:01.467327Z"
    },
    "hidden": true,
    "scrolled": true
   },
   "outputs": [],
   "source": [
    "# gmv\n",
    "aux6 = aux5.copy()\n",
    "aux6['repurchase'] = aux6['repurchase'].apply(lambda x : 'repurchased' if x == 1 else 'did not repurchase')\n",
    "notrep = aux6[aux6['repurchase'] == 'did not repurchase'][['gmv_value_brl']]\n",
    "notrep.columns = ['did not repurchase']\n",
    "rep = aux6[aux6['repurchase'] != 'did not repurchase'][['gmv_value_brl']]\n",
    "rep.columns = ['repurchase']\n",
    "pd.concat([get_descriptive_statistics(notrep), get_descriptive_statistics(rep)]) "
   ]
  },
  {
   "cell_type": "code",
   "execution_count": null,
   "metadata": {
    "ExecuteTime": {
     "end_time": "2022-09-06T12:51:31.369354Z",
     "start_time": "2022-09-06T12:51:31.369337Z"
    },
    "hidden": true
   },
   "outputs": [],
   "source": [
    "# min_ci, max_ci = stats.t.interval(0.95, len(notrep)-1, loc=np.mean(notrep), scale=stats.sem(notrep))\n",
    "# print(f\"CI - did not repurchase: {min_ci[0]} {max_ci[0]} \")\n",
    "# min_ci, max_ci = stats.t.interval(0.95, len(rep)-1, loc=np.mean(rep), scale=stats.sem(rep))\n",
    "# print(f\"CI - repurchase: {min_ci[0]} {max_ci[0]} \")"
   ]
  },
  {
   "cell_type": "code",
   "execution_count": null,
   "metadata": {
    "ExecuteTime": {
     "end_time": "2022-09-06T12:53:06.329450Z",
     "start_time": "2022-09-06T12:53:06.163781Z"
    },
    "hidden": true,
    "scrolled": false
   },
   "outputs": [],
   "source": [
    "# plot graph with annotations\n",
    "plt.figure(figsize = (10,10))\n",
    "sns.set_style('white')\n",
    "splot = sns.barplot(y = 'repurchase', x = 'gmv_value_brl', data = aux4, palette = palette_types, order = ['repurchased', 'did not repurchase']);\n",
    "\n",
    "for p in splot.patches:\n",
    "    splot.annotate(\"%.2f\" % p.get_width(), xy=(p.get_width(), p.get_y()+p.get_height()/2),\n",
    "                   xytext=(5,0), textcoords='offset points', ha='left', va='center')\n",
    "plt.title(\"Median GMV (USD) \")\n",
    "plt.yticks(fontsize =16)\n",
    "plt.xlabel(f\"USD\")\n",
    "plt.ylabel(\"\")\n",
    "plt.xlim(0, 500)\n",
    "plt.show()"
   ]
  },
  {
   "cell_type": "markdown",
   "metadata": {
    "heading_collapsed": true,
    "hidden": true
   },
   "source": [
    "#### Customer country"
   ]
  },
  {
   "cell_type": "code",
   "execution_count": null,
   "metadata": {
    "ExecuteTime": {
     "end_time": "2022-08-22T12:50:16.949200Z",
     "start_time": "2022-08-22T12:49:45.247973Z"
    },
    "hidden": true
   },
   "outputs": [],
   "source": [
    "# get top 10 countries \n",
    "top10 = list(df3[['user_country', 'purchase_id']].groupby('user_country').count().reset_index().sort_values('purchase_id', ascending=False)['user_country'][0:10])\n",
    "plt.figure(figsize = (30,10))\n",
    "\n",
    "for n, d in enumerate(top10):\n",
    "    plt.subplot(2,5,n+1)\n",
    "    # count purchase vol\n",
    "    aux1 = df3[df3['user_country'] == d]\n",
    "    aux2 = aux1[['purchase_id', 'producer_id', 'user_buyer_id']].groupby(['producer_id', 'user_buyer_id']).count().reset_index()\n",
    "    aux2['same_prod'] = aux2['purchase_id'].apply(lambda x : 'repurchased' if x > 1 else 'did not repurchase')\n",
    "    # sum gmv \n",
    "    aux3 = aux1[['gmv_value_brl', 'producer_id', 'user_buyer_id']].groupby(['producer_id', 'user_buyer_id']).sum().reset_index()\n",
    "    # merge\n",
    "    aux3 = aux2.merge(aux3, how = 'left', on = ['producer_id', 'user_buyer_id'])\n",
    "    # get medians\n",
    "    aux4 = aux3[['same_prod', 'gmv_value_brl']].groupby('same_prod').median().reset_index()\n",
    "\n",
    "    # plot graph with annotations\n",
    "    sns.set_style('white')\n",
    "    splot = sns.barplot(y = 'same_prod', x = 'gmv_value_brl', data = aux4, palette = palette_types, order = ['repurchased', 'did not repurchase']);\n",
    "\n",
    "    for p in splot.patches:\n",
    "        splot.annotate(\"%.2f\" % p.get_width(), xy=(p.get_width(), p.get_y()+p.get_height()/2),\n",
    "                       xytext=(5,0), textcoords='offset points', ha='left', va='center')\n",
    "    plt.title(f\"{d}\")\n",
    "    plt.yticks(fontsize =16)\n",
    "    plt.xlabel(f\"Median USD\")\n",
    "    plt.ylabel(\"\")\n",
    "    plt.xlim(0, 800)\n",
    "    if n not in (0,5):\n",
    "        splot.axes.get_yaxis().set_visible(False)\n",
    "#         splot.spines['right'].set_visible(False)\n",
    "#         splot.spines['top'].set_visible(False)\n",
    "#         splot.spines['left'].set_visible(False)\n",
    "#         splot.spines['bottom'].set_visible(False)\n",
    "    splot.axes.get_xaxis().set_visible(False)\n",
    "#         splot.axes.get_yaxis().set_visible(False)\n",
    "# plt.subplots_adjust(hspace=0.2)\n",
    "plt.subplots_adjust(wspace=0.2)\n",
    "plt.show()"
   ]
  },
  {
   "cell_type": "markdown",
   "metadata": {
    "heading_collapsed": true,
    "hidden": true
   },
   "source": [
    "#### Producer segment"
   ]
  },
  {
   "cell_type": "code",
   "execution_count": null,
   "metadata": {
    "ExecuteTime": {
     "end_time": "2022-09-08T17:42:14.986999Z",
     "start_time": "2022-09-08T17:41:43.003697Z"
    },
    "hidden": true
   },
   "outputs": [],
   "source": [
    "#### plot median\n",
    "plt.figure(figsize = (30,10))\n",
    "\n",
    "for n, d in enumerate(['SEED','SMALL', 'MEDIUM', 'LARGE']):\n",
    "    plt.subplot(2,3,n+1)\n",
    "    # count purchase vol\n",
    "    aux1 = df3[df3['segment'] == d]\n",
    "    aux2 = aux1[['purchase_id', 'producer_id', 'user_buyer_id']].groupby(['producer_id', 'user_buyer_id']).count().reset_index()\n",
    "    aux2['same_prod'] = aux2['purchase_id'].apply(lambda x : 'repurchased' if x > 1 else 'did not repurchase')\n",
    "    # sum gmv \n",
    "    aux3 = aux1[['gmv_value_brl', 'producer_id', 'user_buyer_id']].groupby(['producer_id', 'user_buyer_id']).sum().reset_index()\n",
    "    # merge\n",
    "    aux3 = aux2.merge(aux3, how = 'left', on = ['producer_id', 'user_buyer_id'])\n",
    "    # get medians\n",
    "    aux4 = aux3[['same_prod', 'gmv_value_brl']].groupby('same_prod').median().reset_index()\n",
    "\n",
    "    # plot graph with annotations\n",
    "    sns.set_style('white')\n",
    "    splot = sns.barplot(y = 'same_prod', x = 'gmv_value_brl', data = aux4, palette = palette_types, order = ['repurchased', 'did not repurchase']);\n",
    "\n",
    "    for p in splot.patches:\n",
    "        splot.annotate(\"%.2f\" % p.get_width(), xy=(p.get_width(), p.get_y()+p.get_height()/2),\n",
    "                       xytext=(5,0), textcoords='offset points', ha='left', va='center')\n",
    "    plt.title(f\"{d}\")\n",
    "    plt.yticks(fontsize =16)\n",
    "    plt.xlabel(f\"Median USD\")\n",
    "    plt.ylabel(\"\")\n",
    "    plt.xlim(0, 1200)\n",
    "    splot.axes.get_yaxis().set_visible(False)\n",
    "    if n == 0:\n",
    "        splot.axes.get_yaxis().set_visible(True)\n",
    "    if n == 3:\n",
    "        splot.axes.get_yaxis().set_visible(True)\n",
    "#         splot.spines['right'].set_visible(False)\n",
    "#         splot.spines['top'].set_visible(False)\n",
    "#         splot.spines['left'].set_visible(False)\n",
    "#         splot.spines['bottom'].set_visible(False)\n",
    "    splot.axes.get_xaxis().set_visible(False)\n",
    "#         splot.axes.get_yaxis().set_visible(False)\n",
    "# plt.subplots_adjust(hspace=0.2)\n",
    "plt.subplots_adjust(wspace=0.2)\n",
    "plt.show()"
   ]
  },
  {
   "cell_type": "code",
   "execution_count": null,
   "metadata": {
    "ExecuteTime": {
     "end_time": "2022-09-15T01:04:48.332969Z",
     "start_time": "2022-09-15T01:01:06.565373Z"
    },
    "hidden": true
   },
   "outputs": [],
   "source": [
    "#### REGRESSION\n",
    "\n",
    "for n, d in enumerate(['SEED','SMALL', 'MEDIUM', 'LARGE']):\n",
    "    # count purchase vol\n",
    "    print(d)\n",
    "    aux1 = df3[df3['segment'] == d].drop(['repurchase', 'no_repurchase', 'repurchase_same_producer'], axis = 1)\n",
    "    # count purchase vol\n",
    "    aux2 = aux1[['purchase_id', 'producer_id', 'user_buyer_id']].groupby(['producer_id', 'user_buyer_id']).count().reset_index()\n",
    "    aux2['repurchase'] = aux2['purchase_id'].apply(lambda x : 1 if x > 1 else 0)\n",
    "    aux2.columns = ['producer_id', 'user_buyer_id', 'no_repurchase', 'repurchase']\n",
    "    # sum gmv \n",
    "    aux3 = aux1[['gmv_value_brl', 'producer_id', 'user_buyer_id']].groupby(['producer_id', 'user_buyer_id']).sum().reset_index()\n",
    "    # calc mean ticket price per producer\n",
    "    aux4 = aux1[['producer_id', 'gmv_value_brl']].groupby(['producer_id']).mean().reset_index()\n",
    "    aux4.columns = ['producer_id', 'mean_ticket']\n",
    "    # calc number of products per producer\n",
    "    aux5 = aux1[['producer_id', 'product_id']].groupby(['producer_id']).nunique().reset_index()\n",
    "    aux5.columns = ['producer_id', 'num_products']\n",
    "\n",
    "    # merge\n",
    "    aux6 = aux2.merge(aux3, \n",
    "                      how = 'left', \n",
    "                      on = ['producer_id', 'user_buyer_id']).merge(aux4, \n",
    "                                                                   how = 'left', on = ['producer_id']).merge(aux5, \n",
    "                                                                                                        how = 'left', on = ['producer_id'])\n",
    "    aux6 = aux6[aux6['gmv_value_brl'] > 0]\n",
    "    print(f\"99th perc. gmv was removed: {np.percentile(aux6['gmv_value_brl'], 99):,.2f} BRL\")\n",
    "    aux6 = aux6[aux6['gmv_value_brl'] < np.percentile(aux6['gmv_value_brl'], 99)]\n",
    "\n",
    "    # save\n",
    "    aux6['ln'] = np.log(aux6['gmv_value_brl'])\n",
    "\n",
    "    ### count purchases per user\n",
    "    rep = aux1[['user_buyer_id', 'purchase_id']].groupby('user_buyer_id').count().reset_index()\n",
    "    rep.columns = ['user_buyer_id', 'no_repurchase']\n",
    "    rep = aux1.merge(rep, how = 'left', on = 'user_buyer_id')\n",
    "    ### flag repurchase\n",
    "    rep['repurchase'] = rep['no_repurchase'].apply(lambda x : 'repurchase' if x != 1 else 'single-purchase')\n",
    "    ### flag whether a user repurchased from same producer at least once \n",
    "    aux7 = rep[rep['repurchase'] == 'repurchase'][['purchase_id', 'producer_id', 'user_buyer_id']].groupby(['producer_id', 'user_buyer_id']).count().reset_index().reset_index()\n",
    "    aux7['same_prod'] = aux7['purchase_id'].apply(lambda x : 'repurchased' if x > 1 else 'did not repurchase')\n",
    "    # get users who repurchased from same producer\n",
    "    aux8 = aux7[aux7['same_prod'] == 'repurchased'][['user_buyer_id']].drop_duplicates()\n",
    "    aux8['repurchase_same_producer'] = 'same_producer_repurchase'\n",
    "    # get users who did not repurchased\n",
    "    rep = rep.merge(aux8, how = 'left', on = 'user_buyer_id')\n",
    "    rep.loc[rep['repurchase'] == 'single-purchase', 'repurchase_same_producer'] = 'no_repurchase'\n",
    "    rep['repurchase_same_producer'] = rep['repurchase_same_producer'].fillna('diff_producer_repurchase')\n",
    "    \n",
    "\n",
    "    aux6 = aux6.merge(rep[['repurchase_same_producer', 'user_buyer_id']].drop_duplicates(), how = 'left', on = 'user_buyer_id')\n",
    "    aux6 = aux6[aux6['repurchase_same_producer'] != 'no_repurchase']\n",
    "    aux6.to_csv(f'data/gmv_sum_repurchase_by_producer_{d}.csv')"
   ]
  },
  {
   "cell_type": "code",
   "execution_count": null,
   "metadata": {
    "ExecuteTime": {
     "end_time": "2022-09-15T01:08:27.091863Z",
     "start_time": "2022-09-15T01:08:27.077427Z"
    },
    "hidden": true
   },
   "outputs": [],
   "source": [
    "# get correct % changes: https://davegiles.blogspot.com/2011/03/dummies-for-dummies.html\n",
    "dict_country = {\n",
    "    'Seed':round(((math.exp(0.52)- 1) * 100), 2),\n",
    "    'Small':round(((math.exp(0.48)- 1) * 100), 2),\n",
    "    'Medium':round(((math.exp(0.61)- 1) * 100), 2),\n",
    "    'Large':round(((math.exp(1.30)- 1) * 100), 2),\n",
    "               }\n",
    "for n in dict_country.keys():\n",
    "    print(f\"{n} : Changing from buyers who don't repurchase to repurchase buyers increase gmv by {dict_country[n]}%\")\n",
    "# plot perc changes \n",
    "aux1 = pd.DataFrame(dict_country.items(), columns = ['local', '%'])\n",
    "aux1['factor'] = (aux1['%'] / 100) + 1"
   ]
  },
  {
   "cell_type": "code",
   "execution_count": null,
   "metadata": {
    "ExecuteTime": {
     "end_time": "2022-09-15T01:08:29.622432Z",
     "start_time": "2022-09-15T01:08:29.596536Z"
    },
    "hidden": true
   },
   "outputs": [],
   "source": [
    "aux1"
   ]
  },
  {
   "cell_type": "code",
   "execution_count": null,
   "metadata": {
    "ExecuteTime": {
     "end_time": "2022-09-15T01:08:31.016367Z",
     "start_time": "2022-09-15T01:08:30.796639Z"
    },
    "hidden": true
   },
   "outputs": [],
   "source": [
    "\n",
    "plt.figure(figsize = (10,15))\n",
    "# plot graph with annotations\n",
    "sns.set_style('white')\n",
    "splot = sns.barplot(y = 'local', x = 'factor', data = aux1, palette = {'Seed': '#9EA4AC',\n",
    "                                                                 'Small': '#9EA4AC',\n",
    "                                                                 'Medium': '#9EA4AC',\n",
    "                                                                 'Large': '#9EA4AC'\n",
    "                                                                      } , order = ['Large', 'Medium', 'Small', 'Seed']);\n",
    "\n",
    "for p in splot.patches:\n",
    "    splot.annotate(\" %.2f\" % p.get_width() + 'x', xy=(p.get_width(), p.get_y()+p.get_height()/2),\n",
    "                   xytext=(5,0), textcoords='offset points', \n",
    "                   ha='left', va='center', fontsize = 50, color = '#707780')\n",
    "# plt.title(f\"Generated GMV by buyers who repurchase\", color =  '#707780' , fontsize = 40)\n",
    "splot.set_title(f\"How much GMV do buyers who repurchase\\n\" +  \"from the same producer generate\\n\" + \"over buyers who do not?\\n\" + \"(by producer segment)\", color =  '#707780' , fontsize = 40, loc = 'left', pad=30)\n",
    "\n",
    "plt.yticks(fontsize =50)\n",
    "plt.xlabel(\"\")\n",
    "plt.ylabel(\"\")\n",
    "plt.xlim(1, 6)\n",
    "splot.tick_params(labelsize=30)\n",
    "splot.yaxis.label.set_color('#707780')\n",
    "splot.spines['left'].set_color('#707780')\n",
    "splot.tick_params(axis='y', colors='#707780',labelsize=50, pad = 30)\n",
    "#     splot.axes.get_yaxis().set_visible(False)\n",
    "splot.spines['right'].set_visible(False)\n",
    "splot.spines['top'].set_visible(False)\n",
    "splot.spines['left'].set_visible(False)\n",
    "splot.spines['bottom'].set_visible(False)\n",
    "splot.axes.get_xaxis().set_visible(False)\n",
    "plt.show()"
   ]
  },
  {
   "cell_type": "markdown",
   "metadata": {
    "heading_collapsed": true,
    "hidden": true
   },
   "source": [
    "#### Producer office"
   ]
  },
  {
   "cell_type": "code",
   "execution_count": null,
   "metadata": {
    "ExecuteTime": {
     "end_time": "2022-08-22T12:50:46.926716Z",
     "start_time": "2022-08-22T12:50:16.952407Z"
    },
    "hidden": true
   },
   "outputs": [],
   "source": [
    "#### plot median\n",
    "\n",
    "# get top 10 countries \n",
    "office = list(df3[['user_office_name', 'purchase_id']].groupby('user_office_name').count().reset_index().sort_values('purchase_id', ascending=False)['user_office_name'])\n",
    "\n",
    "plt.figure(figsize = (30,10))\n",
    "\n",
    "for n, d in enumerate(office):\n",
    "    plt.subplot(2,3,n+1)\n",
    "    # count purchase vol\n",
    "    aux1 = df3[df3['user_office_name'] == d]\n",
    "    aux2 = aux1[['purchase_id', 'producer_id', 'user_buyer_id']].groupby(['producer_id', 'user_buyer_id']).count().reset_index()\n",
    "    aux2['same_prod'] = aux2['purchase_id'].apply(lambda x : 'repurchased' if x > 1 else 'did not repurchase')\n",
    "    # sum gmv \n",
    "    aux3 = aux1[['gmv_value_brl', 'producer_id', 'user_buyer_id']].groupby(['producer_id', 'user_buyer_id']).sum().reset_index()\n",
    "    # merge\n",
    "    aux3 = aux2.merge(aux3, how = 'left', on = ['producer_id', 'user_buyer_id'])\n",
    "    # get medians\n",
    "    aux4 = aux3[['same_prod', 'gmv_value_brl']].groupby('same_prod').median().reset_index()\n",
    "\n",
    "    # plot graph with annotations\n",
    "    sns.set_style('white')\n",
    "    splot = sns.barplot(y = 'same_prod', x = 'gmv_value_brl', data = aux4, palette = palette_types, order = ['repurchased', 'did not repurchase']);\n",
    "\n",
    "    for p in splot.patches:\n",
    "        splot.annotate(\"%.2f\" % p.get_width(), xy=(p.get_width(), p.get_y()+p.get_height()/2),\n",
    "                       xytext=(5,0), textcoords='offset points', ha='left', va='center')\n",
    "    plt.title(f\"{d}\")\n",
    "    plt.yticks(fontsize =16)\n",
    "    plt.xlabel(f\"Median USD\")\n",
    "    plt.ylabel(\"\")\n",
    "    plt.xlim(0, 1200)\n",
    "    splot.axes.get_yaxis().set_visible(False)\n",
    "    if n == 0:\n",
    "        splot.axes.get_yaxis().set_visible(True)\n",
    "    if n == 3:\n",
    "        splot.axes.get_yaxis().set_visible(True)\n",
    "#         splot.spines['right'].set_visible(False)\n",
    "#         splot.spines['top'].set_visible(False)\n",
    "#         splot.spines['left'].set_visible(False)\n",
    "#         splot.spines['bottom'].set_visible(False)\n",
    "    splot.axes.get_xaxis().set_visible(False)\n",
    "#         splot.axes.get_yaxis().set_visible(False)\n",
    "# plt.subplots_adjust(hspace=0.2)\n",
    "plt.subplots_adjust(wspace=0.2)\n",
    "plt.show()"
   ]
  },
  {
   "cell_type": "code",
   "execution_count": null,
   "metadata": {
    "ExecuteTime": {
     "end_time": "2022-09-15T01:01:06.554347Z",
     "start_time": "2022-09-15T00:56:43.468195Z"
    },
    "hidden": true
   },
   "outputs": [],
   "source": [
    "\n",
    "\n",
    "\n",
    "# get top 10 countries \n",
    "office = list(df3[['user_office_name', 'purchase_id']].groupby('user_office_name').count().reset_index().sort_values('purchase_id', ascending=False)['user_office_name'])\n",
    "for n, d in enumerate(office):\n",
    "    # count purchase vol\n",
    "    print(d)\n",
    "    aux1 = df3[df3['user_office_name'] == d].drop(['repurchase', 'no_repurchase', 'repurchase_same_producer'], axis = 1)\n",
    "    # count purchase vol\n",
    "    aux2 = aux1[['purchase_id', 'producer_id', 'user_buyer_id']].groupby(['producer_id', 'user_buyer_id']).count().reset_index()\n",
    "    aux2['repurchase'] = aux2['purchase_id'].apply(lambda x : 1 if x > 1 else 0)\n",
    "    aux2.columns = ['producer_id', 'user_buyer_id', 'no_repurchase', 'repurchase']\n",
    "    # sum gmv \n",
    "    aux3 = aux1[['gmv_value_brl', 'producer_id', 'user_buyer_id']].groupby(['producer_id', 'user_buyer_id']).sum().reset_index()\n",
    "    # calc mean ticket price per producer\n",
    "    aux4 = aux1[['producer_id', 'gmv_value_brl']].groupby(['producer_id']).mean().reset_index()\n",
    "    aux4.columns = ['producer_id', 'mean_ticket']\n",
    "    # calc number of products per producer\n",
    "    aux5 = aux1[['producer_id', 'product_id']].groupby(['producer_id']).nunique().reset_index()\n",
    "    aux5.columns = ['producer_id', 'num_products']\n",
    "\n",
    "    # merge\n",
    "    aux6 = aux2.merge(aux3, \n",
    "                      how = 'left', \n",
    "                      on = ['producer_id', 'user_buyer_id']).merge(aux4, \n",
    "                                                                   how = 'left', on = ['producer_id']).merge(aux5, \n",
    "                                                                                                        how = 'left', on = ['producer_id'])\n",
    "    aux6 = aux6[aux6['gmv_value_brl'] > 0]\n",
    "    print(f\"99th perc. gmv was removed: {np.percentile(aux6['gmv_value_brl'], 99):,.2f} BRL\")\n",
    "    aux6 = aux6[aux6['gmv_value_brl'] < np.percentile(aux6['gmv_value_brl'], 99)]\n",
    "    # save\n",
    "    aux6['ln'] = np.log(aux6['gmv_value_brl'])\n",
    "    \n",
    "    ### count purchases per user\n",
    "    rep = aux1[['user_buyer_id', 'purchase_id']].groupby('user_buyer_id').count().reset_index()\n",
    "    rep.columns = ['user_buyer_id', 'no_repurchase']\n",
    "    rep = aux1.merge(rep, how = 'left', on = 'user_buyer_id')\n",
    "    ### flag repurchase\n",
    "    rep['repurchase'] = rep['no_repurchase'].apply(lambda x : 'repurchase' if x != 1 else 'single-purchase')\n",
    "    ### flag whether a user repurchased from same producer at least once \n",
    "    aux7 = rep[rep['repurchase'] == 'repurchase'][['purchase_id', 'producer_id', 'user_buyer_id']].groupby(['producer_id', 'user_buyer_id']).count().reset_index().reset_index()\n",
    "    aux7['same_prod'] = aux7['purchase_id'].apply(lambda x : 'repurchased' if x > 1 else 'did not repurchase')\n",
    "    # get users who repurchased from same producer\n",
    "    aux8 = aux7[aux7['same_prod'] == 'repurchased'][['user_buyer_id']].drop_duplicates()\n",
    "    aux8['repurchase_same_producer'] = 'same_producer_repurchase'\n",
    "    # get users who did not repurchased\n",
    "    rep = rep.merge(aux8, how = 'left', on = 'user_buyer_id')\n",
    "    rep.loc[rep['repurchase'] == 'single-purchase', 'repurchase_same_producer'] = 'no_repurchase'\n",
    "    rep['repurchase_same_producer'] = rep['repurchase_same_producer'].fillna('diff_producer_repurchase')\n",
    "    \n",
    "\n",
    "    aux6 = aux6.merge(rep[['repurchase_same_producer', 'user_buyer_id']].drop_duplicates(), how = 'left', on = 'user_buyer_id')\n",
    "    aux6 = aux6[aux6['repurchase_same_producer'] != 'no_repurchase']\n",
    "    aux6.to_csv(f'data/gmv_sum_repurchase_by_producer_{d}.csv')"
   ]
  },
  {
   "cell_type": "code",
   "execution_count": null,
   "metadata": {
    "ExecuteTime": {
     "end_time": "2022-09-15T01:06:03.206665Z",
     "start_time": "2022-09-15T01:06:03.188688Z"
    },
    "hidden": true
   },
   "outputs": [],
   "source": [
    "# get correct % changes: https://davegiles.blogspot.com/2011/03/dummies-for-dummies.html\n",
    "dict_country = {\n",
    "    'Global':round(((math.exp(0.65)- 1) * 100), 2),\n",
    "    'Brazil':round(((math.exp(0.61)- 1) * 100), 2),\n",
    "    'Colombia':round(((math.exp(0.55)- 1) * 100), 2),\n",
    "    'Mexico':round(((math.exp(0.58)- 1) * 100), 2),\n",
    "    'Spain':round(((math.exp(0.66)- 1) * 100), 2),\n",
    "    'USA':round(((math.exp(0.52)- 1) * 100), 2),\n",
    "    'Amsterdam':round(((math.exp(0.98)- 1) * 100), 2)\n",
    "               }\n",
    "for n in dict_country.keys():\n",
    "    print(f\"{n} : Changing from buyers who don't repurchase to repurchase buyers increase gmv by {dict_country[n]}%\")\n"
   ]
  },
  {
   "cell_type": "code",
   "execution_count": null,
   "metadata": {
    "ExecuteTime": {
     "end_time": "2022-09-15T01:06:04.698488Z",
     "start_time": "2022-09-15T01:06:04.255791Z"
    },
    "hidden": true
   },
   "outputs": [],
   "source": [
    "# plot perc changes \n",
    "aux1 = pd.DataFrame(dict_country.items(), columns = ['local', '%'])\n",
    "aux1['factor'] = (aux1['%'] / 100) + 1\n",
    "list_order = list(aux1.sort_values('factor', ascending=False)['local'])\n",
    "list_order.remove('Global')\n",
    "list_order.insert(0, 'Global')\n",
    "plt.figure(figsize = (10,15))\n",
    "# plot graph with annotations\n",
    "sns.set_style('white')\n",
    "splot = sns.barplot(y = 'local', x = 'factor', data = aux1, palette = {'Global': '#EF4E23' , 'Brazil': '#9EA4AC',\n",
    "                                                                 'Colombia': '#9EA4AC', 'Mexico': '#9EA4AC',\n",
    "                                                                 'Spain': '#9EA4AC', 'USA': '#9EA4AC', \n",
    "                                                                 'Amsterdam': '#9EA4AC'} , order = list_order);\n",
    "\n",
    "for p in splot.patches:\n",
    "    splot.annotate(\" %.2f\" % p.get_width() + 'x', xy=(p.get_width(), p.get_y()+p.get_height()/2),\n",
    "                   xytext=(5,0), textcoords='offset points', \n",
    "                   ha='left', va='center', fontsize = 50, color = '#707780')\n",
    "# plt.title(f\"Generated GMV by buyers who repurchase\", color =  '#707780' , fontsize = 40)\n",
    "splot.set_title(f\"How much GMV do buyers who repurchase\\n\" +  \"from the same producer generate\\n\" + \"over buyers who do not?\\n\" + \"(by producer office)\", color =  '#707780' , fontsize = 40, loc = 'left', pad=30)\n",
    "\n",
    "plt.yticks(fontsize =50)\n",
    "plt.xlabel(\"\")\n",
    "plt.ylabel(\"\")\n",
    "plt.xlim(0, 6)\n",
    "splot.tick_params(labelsize=30)\n",
    "splot.yaxis.label.set_color('#707780')\n",
    "splot.spines['left'].set_color('#707780')\n",
    "splot.tick_params(axis='y', colors='#707780',labelsize=50, pad = 30)\n",
    "#     splot.axes.get_yaxis().set_visible(False)\n",
    "splot.spines['right'].set_visible(False)\n",
    "splot.spines['top'].set_visible(False)\n",
    "splot.spines['left'].set_visible(False)\n",
    "splot.spines['bottom'].set_visible(False)\n",
    "splot.axes.get_xaxis().set_visible(False)\n",
    "plt.show()"
   ]
  },
  {
   "cell_type": "markdown",
   "metadata": {
    "heading_collapsed": true,
    "hidden": true
   },
   "source": [
    "#### Producers < 10k BRL LTV"
   ]
  },
  {
   "cell_type": "markdown",
   "metadata": {
    "hidden": true
   },
   "source": [
    "- For this analysis, medians were calculated for each producer GMV LTV cohort. Therefore, \"repurchase\" means a repurchase from the same producer within a cohort, and \"do not repurchase\" means a single-purchase within the cohort. (it doesn't consider repurchases between different cohorts)"
   ]
  },
  {
   "cell_type": "code",
   "execution_count": null,
   "metadata": {
    "ExecuteTime": {
     "end_time": "2022-08-22T12:51:15.939604Z",
     "start_time": "2022-08-22T12:50:46.930501Z"
    },
    "hidden": true
   },
   "outputs": [],
   "source": [
    "plt.figure(figsize = (30,10))\n",
    "\n",
    "for n, d in enumerate(['below', 'above']):\n",
    "    plt.subplot(1,2,n+1)\n",
    "    # count purchase vol\n",
    "    aux1 = df3[df3['is_below_10_entire'] == d]\n",
    "    aux2 = aux1[['purchase_id', 'producer_id', 'user_buyer_id']].groupby(['producer_id', 'user_buyer_id']).count().reset_index()\n",
    "    aux2['same_prod'] = aux2['purchase_id'].apply(lambda x : 'repurchased' if x > 1 else 'did not repurchase')\n",
    "    # sum gmv \n",
    "    aux3 = aux1[['gmv_value_brl', 'producer_id', 'user_buyer_id']].groupby(['producer_id', 'user_buyer_id']).sum().reset_index()\n",
    "    # merge\n",
    "    aux3 = aux2.merge(aux3, how = 'left', on = ['producer_id', 'user_buyer_id'])\n",
    "    # get medians\n",
    "    aux4 = aux3[['same_prod', 'gmv_value_brl']].groupby('same_prod').median().reset_index()\n",
    "\n",
    "    # plot graph with annotations\n",
    "    sns.set_style('white')\n",
    "    splot = sns.barplot(y = 'same_prod', x = 'gmv_value_brl', data = aux4, palette = palette_types, order = ['repurchased', 'did not repurchase']);\n",
    "\n",
    "    for p in splot.patches:\n",
    "        splot.annotate(\"%.2f\" % p.get_width(), xy=(p.get_width(), p.get_y()+p.get_height()/2),\n",
    "                       xytext=(5,0), textcoords='offset points', ha='left', va='center')\n",
    "    plt.title(f\"{d}\")\n",
    "    plt.yticks(fontsize =16)\n",
    "    plt.xlabel(f\"Median USD\")\n",
    "    plt.ylabel(\"\")\n",
    "    plt.xlim(0, 400)\n",
    "    splot.axes.get_yaxis().set_visible(False)\n",
    "    if n == 0:\n",
    "        splot.axes.get_yaxis().set_visible(True)\n",
    "\n",
    "#         splot.spines['right'].set_visible(False)\n",
    "#         splot.spines['top'].set_visible(False)\n",
    "#         splot.spines['left'].set_visible(False)\n",
    "#         splot.spines['bottom'].set_visible(False)\n",
    "    splot.axes.get_xaxis().set_visible(False)\n",
    "#         splot.axes.get_yaxis().set_visible(False)\n",
    "# plt.subplots_adjust(hspace=0.2)\n",
    "plt.subplots_adjust(wspace=0.2)\n",
    "plt.show()"
   ]
  },
  {
   "cell_type": "code",
   "execution_count": null,
   "metadata": {
    "ExecuteTime": {
     "end_time": "2022-09-15T01:14:11.165517Z",
     "start_time": "2022-09-15T01:09:40.071589Z"
    },
    "hidden": true
   },
   "outputs": [],
   "source": [
    "#### REGRESSION\n",
    "\n",
    "for n, d in enumerate(['below',  'above']):\n",
    "    # count purchase vol\n",
    "    print(d)\n",
    "    aux1 = df3[df3['is_below_10_entire'] == d].drop(['repurchase', 'no_repurchase', 'repurchase_same_producer'], axis = 1)\n",
    "    # count purchase vol\n",
    "    aux2 = aux1[['purchase_id', 'producer_id', 'user_buyer_id']].groupby(['producer_id', 'user_buyer_id']).count().reset_index()\n",
    "    aux2['repurchase'] = aux2['purchase_id'].apply(lambda x : 1 if x > 1 else 0)\n",
    "    aux2.columns = ['producer_id', 'user_buyer_id', 'no_repurchase', 'repurchase']\n",
    "    # sum gmv \n",
    "    aux3 = aux1[['gmv_value_brl', 'producer_id', 'user_buyer_id']].groupby(['producer_id', 'user_buyer_id']).sum().reset_index()\n",
    "    # calc mean ticket price per producer\n",
    "    aux4 = aux1[['producer_id', 'gmv_value_brl']].groupby(['producer_id']).mean().reset_index()\n",
    "    aux4.columns = ['producer_id', 'mean_ticket']\n",
    "    # calc number of products per producer\n",
    "    aux5 = aux1[['producer_id', 'product_id']].groupby(['producer_id']).nunique().reset_index()\n",
    "    aux5.columns = ['producer_id', 'num_products']\n",
    "\n",
    "    # merge\n",
    "    aux6 = aux2.merge(aux3, \n",
    "                      how = 'left', \n",
    "                      on = ['producer_id', 'user_buyer_id']).merge(aux4, \n",
    "                                                                   how = 'left', on = ['producer_id']).merge(aux5, \n",
    "                                                                                                        how = 'left', on = ['producer_id'])\n",
    "    aux6 = aux6[aux6['gmv_value_brl'] > 0]\n",
    "    print(f\"99th perc. gmv was removed: {np.percentile(aux6['gmv_value_brl'], 99):,.2f} BRL\")\n",
    "    aux6 = aux6[aux6['gmv_value_brl'] < np.percentile(aux6['gmv_value_brl'], 99)]\n",
    "    \n",
    "    # save\n",
    "    aux6['ln'] = np.log(aux6['gmv_value_brl'])\n",
    "\n",
    "    ### count purchases per user\n",
    "    rep = aux1[['user_buyer_id', 'purchase_id']].groupby('user_buyer_id').count().reset_index()\n",
    "    rep.columns = ['user_buyer_id', 'no_repurchase']\n",
    "    rep = aux1.merge(rep, how = 'left', on = 'user_buyer_id')\n",
    "    ### flag repurchase\n",
    "    rep['repurchase'] = rep['no_repurchase'].apply(lambda x : 'repurchase' if x != 1 else 'single-purchase')\n",
    "    ### flag whether a user repurchased from same producer at least once \n",
    "    aux7 = rep[rep['repurchase'] == 'repurchase'][['purchase_id', 'producer_id', 'user_buyer_id']].groupby(['producer_id', 'user_buyer_id']).count().reset_index().reset_index()\n",
    "    aux7['same_prod'] = aux7['purchase_id'].apply(lambda x : 'repurchased' if x > 1 else 'did not repurchase')\n",
    "    # get users who repurchased from same producer\n",
    "    aux8 = aux7[aux7['same_prod'] == 'repurchased'][['user_buyer_id']].drop_duplicates()\n",
    "    aux8['repurchase_same_producer'] = 'same_producer_repurchase'\n",
    "    # get users who did not repurchased\n",
    "    rep = rep.merge(aux8, how = 'left', on = 'user_buyer_id')\n",
    "    rep.loc[rep['repurchase'] == 'single-purchase', 'repurchase_same_producer'] = 'no_repurchase'\n",
    "    rep['repurchase_same_producer'] = rep['repurchase_same_producer'].fillna('diff_producer_repurchase')\n",
    "    \n",
    "\n",
    "    aux6 = aux6.merge(rep[['repurchase_same_producer', 'user_buyer_id']].drop_duplicates(), how = 'left', on = 'user_buyer_id')\n",
    "    aux6 = aux6[aux6['repurchase_same_producer'] != 'no_repurchase']\n",
    "    aux6.to_csv(f'data/gmv_sum_repurchase_by_producer_PROD_LTV_{d}.csv')"
   ]
  },
  {
   "cell_type": "code",
   "execution_count": null,
   "metadata": {
    "ExecuteTime": {
     "end_time": "2022-09-15T01:15:08.029445Z",
     "start_time": "2022-09-15T01:15:04.239531Z"
    },
    "hidden": true
   },
   "outputs": [],
   "source": [
    "# get correct % changes: https://davegiles.blogspot.com/2011/03/dummies-for-dummies.html\n",
    "dict_country = {\n",
    "    'below':round(((math.exp(0.39)- 1) * 100), 2),\n",
    "    'above':round(((math.exp(0.65)- 1) * 100), 2),\n",
    "               }\n",
    "for n in dict_country.keys():\n",
    "    print(f\"{n} : Changing from buyers who don't repurchase to repurchase buyers increase gmv by {dict_country[n]}%\")\n",
    "# plot perc changes \n",
    "aux1 = pd.DataFrame(dict_country.items(), columns = ['local', '%'])\n",
    "aux1['factor'] = (aux1['%'] / 100) + 1"
   ]
  },
  {
   "cell_type": "code",
   "execution_count": null,
   "metadata": {
    "ExecuteTime": {
     "end_time": "2022-09-15T01:15:08.260994Z",
     "start_time": "2022-09-15T01:15:08.033629Z"
    },
    "hidden": true
   },
   "outputs": [],
   "source": [
    "\n",
    "plt.figure(figsize = (10,15))\n",
    "# plot graph with annotations\n",
    "sns.set_style('white')\n",
    "splot = sns.barplot(y = 'local', x = 'factor', data = aux1, palette = {'below': '#EF4E23',\n",
    "                                                                 'above': '#9EA4AC'} , order = ['above', 'below']);\n",
    "\n",
    "for p in splot.patches:\n",
    "    splot.annotate(\" %.2f\" % p.get_width() + 'x', xy=(p.get_width(), p.get_y()+p.get_height()/2),\n",
    "                   xytext=(5,0), textcoords='offset points', \n",
    "                   ha='left', va='center', fontsize = 50, color = '#707780')\n",
    "# plt.title(f\"Generated GMV by buyers who repurchase\", color =  '#707780' , fontsize = 40)\n",
    "splot.set_title(f\"How much GMV do buyers who repurchase\\n\" +  \"from the same producer generate\\n\" + \"over buyers who do not?\", color =  '#707780' , fontsize = 40, loc = 'left', pad=30)\n",
    "\n",
    "plt.yticks(fontsize =50)\n",
    "plt.xlabel(\"\")\n",
    "plt.ylabel(\"\")\n",
    "plt.xlim(1, 4)\n",
    "splot.tick_params(labelsize=30)\n",
    "splot.yaxis.label.set_color('#707780')\n",
    "splot.spines['left'].set_color('#707780')\n",
    "splot.tick_params(axis='y', colors='#707780',labelsize=50, pad = 30)\n",
    "#     splot.axes.get_yaxis().set_visible(False)\n",
    "splot.spines['right'].set_visible(False)\n",
    "splot.spines['top'].set_visible(False)\n",
    "splot.spines['left'].set_visible(False)\n",
    "splot.spines['bottom'].set_visible(False)\n",
    "splot.axes.get_xaxis().set_visible(False)\n",
    "plt.show()"
   ]
  },
  {
   "cell_type": "markdown",
   "metadata": {
    "heading_collapsed": true
   },
   "source": [
    "### How many customers purchase a 2nd time from a different producer given that 1st purchase was from a producer with a single product? (by customer country, producer office, producers below 10k BRL LTV)"
   ]
  },
  {
   "cell_type": "code",
   "execution_count": null,
   "metadata": {
    "hidden": true
   },
   "outputs": [],
   "source": []
  },
  {
   "cell_type": "code",
   "execution_count": null,
   "metadata": {
    "hidden": true
   },
   "outputs": [],
   "source": []
  },
  {
   "cell_type": "code",
   "execution_count": null,
   "metadata": {
    "ExecuteTime": {
     "end_time": "2022-08-22T12:51:15.947598Z",
     "start_time": "2022-08-22T12:51:15.943284Z"
    },
    "hidden": true
   },
   "outputs": [],
   "source": [
    "  \n",
    "  \n",
    "  "
   ]
  },
  {
   "cell_type": "markdown",
   "metadata": {
    "heading_collapsed": true,
    "hidden": true
   },
   "source": [
    "#### Overall"
   ]
  },
  {
   "cell_type": "code",
   "execution_count": null,
   "metadata": {
    "ExecuteTime": {
     "end_time": "2022-08-22T12:51:47.933955Z",
     "start_time": "2022-08-22T12:51:15.952487Z"
    },
    "hidden": true
   },
   "outputs": [],
   "source": [
    "# get only 1st purchase from producers \n",
    "aux1 = df3[(df3['repurchase'] == 'repurchase') & (df3['order_purchase'] == 1)][['user_buyer_id', 'producer_id', 'num_products_producer']]\n",
    "aux1.columns = ['user_buyer_id', 'first_producer_id', 'first_num_products_producer']\n",
    "# get only 2nd purchase from producers \n",
    "aux2 = df3[(df3['repurchase'] == 'repurchase') & (df3['order_purchase'] == 2)][['user_buyer_id', 'producer_id']]\n",
    "\n",
    "# merge\n",
    "aux3 = aux2.merge(aux1, how = 'left', on = 'user_buyer_id')\n",
    "\n",
    "# repurchase is from same producer\n",
    "aux3['same_producer'] = aux3.apply(lambda x : 'same' if x['first_producer_id'] == x['producer_id'] else 'diff', axis = 1)\n",
    "\n",
    "# customer repurchased from diff producer and 1st purchase was from producer with single product?\n",
    "aux3['answer'] = aux3.apply(lambda x : 'yes' if (x['same_producer'] == 'diff') & (x['first_num_products_producer'] == 1) else 'no', axis =1)\n",
    "aux4 = aux3[['answer', 'same_producer']].groupby('answer').count().reset_index() # get count \n",
    "aux4['%'] = aux4['same_producer'] / aux4['same_producer'].sum()*100\n",
    "# get vol of users whose 1st and 2nd purchase were from same producer\n",
    "aux5 = aux3[['user_buyer_id', 'same_producer']].groupby('same_producer').count().reset_index()\n",
    "aux5['%'] = aux5['user_buyer_id'] / aux5['user_buyer_id'].sum()*100"
   ]
  },
  {
   "cell_type": "code",
   "execution_count": null,
   "metadata": {
    "ExecuteTime": {
     "end_time": "2022-08-22T12:51:48.123098Z",
     "start_time": "2022-08-22T12:51:47.936447Z"
    },
    "hidden": true
   },
   "outputs": [],
   "source": [
    "# plot graph with annotations\n",
    "plt.figure(figsize = (10,10))\n",
    "sns.set_style('white')\n",
    "splot = sns.barplot(y = 'same_producer', x = '%', data = aux5, palette = palette_types, order = ['diff', 'same']);\n",
    "\n",
    "for p in splot.patches:\n",
    "    splot.annotate(\"%.2f\" % p.get_width(), xy=(p.get_width(), p.get_y()+p.get_height()/2),\n",
    "                   xytext=(5,0), textcoords='offset points', ha='left', va='center')\n",
    "plt.title(f\"1st and 2nd purchase: same producer?\")\n",
    "plt.yticks(fontsize =16)\n",
    "plt.xlabel(f\"% (N: {aux5['user_buyer_id'].sum():,} users)\")\n",
    "plt.ylabel(\"\")\n",
    "plt.xlim(0, 120)\n",
    "plt.show()"
   ]
  },
  {
   "cell_type": "code",
   "execution_count": null,
   "metadata": {
    "ExecuteTime": {
     "end_time": "2022-08-22T12:51:48.341737Z",
     "start_time": "2022-08-22T12:51:48.125565Z"
    },
    "hidden": true
   },
   "outputs": [],
   "source": [
    "# plot graph with annotations\n",
    "plt.figure(figsize = (10,10))\n",
    "sns.set_style('white')\n",
    "splot = sns.barplot(y = 'answer', x = '%', data = aux4, palette = palette_types, order = ['no', 'yes']);\n",
    "\n",
    "for p in splot.patches:\n",
    "    splot.annotate(\"%.2f\" % p.get_width(), xy=(p.get_width(), p.get_y()+p.get_height()/2),\n",
    "                   xytext=(5,0), textcoords='offset points', ha='left', va='center')\n",
    "plt.title(f\"Did customer repurchase from a different producer when 1st purchase was from a producer with a single product?\")\n",
    "plt.yticks(fontsize =16)\n",
    "plt.xlabel(f\"% (N: {aux4['same_producer'].sum():,} users)\")\n",
    "plt.ylabel(\"\")\n",
    "plt.xlim(0, 120)\n",
    "plt.show()"
   ]
  },
  {
   "cell_type": "markdown",
   "metadata": {
    "heading_collapsed": true,
    "hidden": true
   },
   "source": [
    "#### Customer country (1st and 2nd purchase: same producer?)"
   ]
  },
  {
   "cell_type": "code",
   "execution_count": null,
   "metadata": {
    "ExecuteTime": {
     "end_time": "2022-08-22T12:57:01.774709Z",
     "start_time": "2022-08-22T12:51:48.345150Z"
    },
    "hidden": true
   },
   "outputs": [],
   "source": [
    "# get top 10 countries \n",
    "top10 = list(df3[['user_country', 'purchase_id']].groupby('user_country').count().reset_index().sort_values('purchase_id', ascending=False)['user_country'][0:10])\n",
    "plt.figure(figsize = (35,10))\n",
    "\n",
    "for n, d in enumerate(top10):\n",
    "    plt.subplot(2,5,n+1)\n",
    "    ### count purchases per user\n",
    "    aux1 = df3[df3['user_country'] == d]\n",
    "    aux2 = aux1[['user_buyer_id', 'purchase_id']].groupby('user_buyer_id').count().reset_index()\n",
    "    aux2.columns = ['user_buyer_id', 'no_repurchase_temp']\n",
    "    aux1 = aux1.merge(aux2, how = 'left', on = 'user_buyer_id')\n",
    "    ### flag repurchase\n",
    "    aux1['repurchase_temp'] = aux1['no_repurchase_temp'].apply(lambda x : 'repurchase' if x != 1 else 'single-purchase')\n",
    "    ### flag whether a user repurchased from same producer at least once \n",
    "    aux2 = aux1[aux1['repurchase_temp'] == 'repurchase'][['purchase_id', 'producer_id', 'user_buyer_id']].groupby(['producer_id', 'user_buyer_id']).count().reset_index().reset_index()\n",
    "    aux2['same_prod_temp'] = aux2['purchase_id'].apply(lambda x : 'repurchased' if x > 1 else 'did not repurchase')\n",
    "    # get users who repurchased from same producer\n",
    "    aux2 = aux2[aux2['same_prod_temp'] == 'repurchased'][['user_buyer_id']].drop_duplicates()\n",
    "    aux2['repurchase_same_producer_temp'] = 'same_producer_repurchase'\n",
    "    # get users who did not repurchased\n",
    "    aux1 = aux1.merge(aux2, how = 'left', on = 'user_buyer_id')\n",
    "    aux1.loc[aux1['repurchase_temp'] == 'single-purchase', 'repurchase_same_producer_temp'] = 'no_repurchase'\n",
    "    aux1['repurchase_same_producer_temp'] = aux1['repurchase_same_producer_temp'].fillna('diff_producer_repurchase')\n",
    "    # get rank of purchases\n",
    "    aux1['order_purchase_temp'] = aux1.groupby(\"user_buyer_id\")[\"purchase_release_datetime\"].rank(method=\"first\", ascending=True)\n",
    "    # flag producers with a single product\n",
    "    aux2 = aux1[['product_id', 'producer_id']].groupby('producer_id').nunique().reset_index()\n",
    "    aux2.columns = ['producer_id', 'num_products_producer_temp']\n",
    "    aux1 = aux1.merge(aux2, how = 'left', on = 'producer_id')\n",
    "    # get only 1st purchase from producers \n",
    "    aux2 = aux1[(aux1['repurchase_temp'] == 'repurchase') & (aux1['order_purchase_temp'] == 1)][['user_buyer_id', 'producer_id', 'num_products_producer_temp']]\n",
    "    aux2.columns = ['user_buyer_id', 'first_producer_id', 'first_num_products_producer']\n",
    "    # get only 2nd purchase from producers \n",
    "    aux3 = aux1[(aux1['repurchase_temp'] == 'repurchase') & (aux1['order_purchase_temp'] == 2)][['user_buyer_id', 'producer_id']]\n",
    "    # merge\n",
    "    aux3 = aux3.merge(aux2, how = 'left', on = 'user_buyer_id')\n",
    "\n",
    "    # repurchase is from same producer\n",
    "    aux3['same_producer'] = aux3.apply(lambda x : 'same' if x['first_producer_id'] == x['producer_id'] else 'diff', axis = 1)\n",
    "\n",
    "    # customer repurchased from diff producer and 1st purchase was from producer with single product?\n",
    "    aux3['answer'] = aux3.apply(lambda x : 'yes' if (x['same_producer'] == 'diff') & (x['first_num_products_producer'] == 1) else 'no', axis =1)\n",
    "    aux4 = aux3[['answer', 'same_producer']].groupby('answer').count().reset_index() # get count \n",
    "    aux4['%'] = aux4['same_producer'] / aux4['same_producer'].sum()*100  \n",
    "    # get vol of users whose 1st and 2nd purchase were from same producer\n",
    "    aux5 = aux3[['user_buyer_id', 'same_producer']].groupby('same_producer').count().reset_index()\n",
    "    aux5['%'] = aux5['user_buyer_id'] / aux5['user_buyer_id'].sum()*100\n",
    "    # plot graph with annotations\n",
    "    sns.set_style('white')\n",
    "    splot = sns.barplot(y = 'same_producer', x = '%', data = aux5, palette = palette_types, order = ['same', 'diff']);\n",
    "\n",
    "    for p in splot.patches:\n",
    "        splot.annotate(\"%.2f\" % p.get_width(), xy=(p.get_width(), p.get_y()+p.get_height()/2),\n",
    "                       xytext=(5,0), textcoords='offset points', ha='left', va='center')\n",
    "    plt.title(f\"{d} | (N: {aux5['user_buyer_id'].sum():,} users)\")\n",
    "    plt.yticks(fontsize =16)\n",
    "    plt.xlabel(f\"%\")\n",
    "    plt.ylabel(\"\")\n",
    "    plt.xlim(0, 120)\n",
    "    if n not in (0,5):\n",
    "        splot.axes.get_yaxis().set_visible(False)\n",
    "#         splot.spines['right'].set_visible(False)\n",
    "#         splot.spines['top'].set_visible(False)\n",
    "#         splot.spines['left'].set_visible(False)\n",
    "#         splot.spines['bottom'].set_visible(False)\n",
    "    splot.axes.get_xaxis().set_visible(False)\n",
    "#         splot.axes.get_yaxis().set_visible(False)\n",
    "# plt.subplots_adjust(hspace=0.2)\n",
    "plt.subplots_adjust(wspace=0.5)\n",
    "plt.show()"
   ]
  },
  {
   "cell_type": "markdown",
   "metadata": {
    "heading_collapsed": true,
    "hidden": true
   },
   "source": [
    "#### Customer country (answer)"
   ]
  },
  {
   "cell_type": "code",
   "execution_count": null,
   "metadata": {
    "ExecuteTime": {
     "end_time": "2022-08-22T13:02:02.848677Z",
     "start_time": "2022-08-22T12:57:01.778878Z"
    },
    "hidden": true
   },
   "outputs": [],
   "source": [
    "# get top 10 countries \n",
    "top10 = list(df3[['user_country', 'purchase_id']].groupby('user_country').count().reset_index().sort_values('purchase_id', ascending=False)['user_country'][0:10])\n",
    "plt.figure(figsize = (35,10))\n",
    "\n",
    "for n, d in enumerate(top10):\n",
    "    plt.subplot(2,5,n+1)\n",
    "    ### count purchases per user\n",
    "    aux1 = df3[df3['user_country'] == d]\n",
    "    aux2 = aux1[['user_buyer_id', 'purchase_id']].groupby('user_buyer_id').count().reset_index()\n",
    "    aux2.columns = ['user_buyer_id', 'no_repurchase_temp']\n",
    "    aux1 = aux1.merge(aux2, how = 'left', on = 'user_buyer_id')\n",
    "    ### flag repurchase\n",
    "    aux1['repurchase_temp'] = aux1['no_repurchase_temp'].apply(lambda x : 'repurchase' if x != 1 else 'single-purchase')\n",
    "    ### flag whether a user repurchased from same producer at least once \n",
    "    aux2 = aux1[aux1['repurchase_temp'] == 'repurchase'][['purchase_id', 'producer_id', 'user_buyer_id']].groupby(['producer_id', 'user_buyer_id']).count().reset_index().reset_index()\n",
    "    aux2['same_prod_temp'] = aux2['purchase_id'].apply(lambda x : 'repurchased' if x > 1 else 'did not repurchase')\n",
    "    # get users who repurchased from same producer\n",
    "    aux2 = aux2[aux2['same_prod_temp'] == 'repurchased'][['user_buyer_id']].drop_duplicates()\n",
    "    aux2['repurchase_same_producer_temp'] = 'same_producer_repurchase'\n",
    "    # get users who did not repurchased\n",
    "    aux1 = aux1.merge(aux2, how = 'left', on = 'user_buyer_id')\n",
    "    aux1.loc[aux1['repurchase_temp'] == 'single-purchase', 'repurchase_same_producer_temp'] = 'no_repurchase'\n",
    "    aux1['repurchase_same_producer_temp'] = aux1['repurchase_same_producer_temp'].fillna('diff_producer_repurchase')\n",
    "    # get rank of purchases\n",
    "    aux1['order_purchase_temp'] = aux1.groupby(\"user_buyer_id\")[\"purchase_release_datetime\"].rank(method=\"first\", ascending=True)\n",
    "    # flag producers with a single product\n",
    "    aux2 = aux1[['product_id', 'producer_id']].groupby('producer_id').nunique().reset_index()\n",
    "    aux2.columns = ['producer_id', 'num_products_producer_temp']\n",
    "    aux1 = aux1.merge(aux2, how = 'left', on = 'producer_id')\n",
    "    # get only 1st purchase from producers \n",
    "    aux2 = aux1[(aux1['repurchase_temp'] == 'repurchase') & (aux1['order_purchase_temp'] == 1)][['user_buyer_id', 'producer_id', 'num_products_producer_temp']]\n",
    "    aux2.columns = ['user_buyer_id', 'first_producer_id', 'first_num_products_producer']\n",
    "    # get only 2nd purchase from producers \n",
    "    aux3 = aux1[(aux1['repurchase_temp'] == 'repurchase') & (aux1['order_purchase_temp'] == 2)][['user_buyer_id', 'producer_id']]\n",
    "    # merge\n",
    "    aux3 = aux3.merge(aux2, how = 'left', on = 'user_buyer_id')\n",
    "    # repurchase is from same producer\n",
    "    aux3['same_producer'] = aux3.apply(lambda x : 'same' if x['first_producer_id'] == x['producer_id'] else 'diff', axis = 1)\n",
    "    # customer repurchased from diff producer and 1st purchase was from producer with single product?\n",
    "    aux3['answer'] = aux3.apply(lambda x : 'yes' if (x['same_producer'] == 'diff') & (x['first_num_products_producer'] == 1) else 'no', axis =1)\n",
    "    aux4 = aux3[['answer', 'same_producer']].groupby('answer').count().reset_index() # get count \n",
    "    aux4['%'] = aux4['same_producer'] / aux4['same_producer'].sum()*100  \n",
    "    # plot graph with annotations\n",
    "    sns.set_style('white')\n",
    "    splot = sns.barplot(y = 'answer', x = '%', data = aux4, palette = palette_types, order = ['no', 'yes']);\n",
    "\n",
    "    for p in splot.patches:\n",
    "        splot.annotate(\"%.2f\" % p.get_width(), xy=(p.get_width(), p.get_y()+p.get_height()/2),\n",
    "                       xytext=(5,0), textcoords='offset points', ha='left', va='center')\n",
    "    plt.title(f\"{d} | (N: {aux4['same_producer'].sum():,} users)\")\n",
    "    plt.yticks(fontsize =16)\n",
    "    plt.xlabel(f\"% \")\n",
    "    plt.ylabel(\"\")\n",
    "    plt.xlim(0, 140)\n",
    "    if n not in (0,5):\n",
    "        splot.axes.get_yaxis().set_visible(False)\n",
    "#         splot.spines['right'].set_visible(False)\n",
    "#         splot.spines['top'].set_visible(False)\n",
    "#         splot.spines['left'].set_visible(False)\n",
    "#         splot.spines['bottom'].set_visible(False)\n",
    "    splot.axes.get_xaxis().set_visible(False)\n",
    "#         splot.axes.get_yaxis().set_visible(False)\n",
    "# plt.subplots_adjust(hspace=0.2)\n",
    "plt.subplots_adjust(wspace=0.5)\n",
    "plt.show()"
   ]
  },
  {
   "cell_type": "markdown",
   "metadata": {
    "heading_collapsed": true,
    "hidden": true
   },
   "source": [
    "#### Producer office (1st and 2nd purchase: same producer?)"
   ]
  },
  {
   "cell_type": "markdown",
   "metadata": {
    "hidden": true
   },
   "source": [
    "- For this analysis, 1st and 2nd purchases can be from any producer within the same office. \n",
    "- Premise: if a 2nd purchase was from a producer from a different office, this purchase will be discarded. If the 3rd+ purchase comes from the same producer office, then it will be considered as the 2nd purchase."
   ]
  },
  {
   "cell_type": "code",
   "execution_count": null,
   "metadata": {
    "ExecuteTime": {
     "end_time": "2022-08-22T13:06:35.230875Z",
     "start_time": "2022-08-22T13:02:02.852299Z"
    },
    "hidden": true
   },
   "outputs": [],
   "source": [
    "# get office\n",
    "office = list(df3[['user_office_name', 'purchase_id']].groupby('user_office_name').count().reset_index().sort_values('purchase_id', ascending=False)['user_office_name'])\n",
    "plt.figure(figsize = (30,10))\n",
    "\n",
    "for n, d in enumerate(office):\n",
    "    plt.subplot(2,3,n+1)\n",
    "    ### count purchases per user\n",
    "    aux1 = df3[df3['user_office_name'] == d]\n",
    "    aux2 = aux1[['user_buyer_id', 'purchase_id']].groupby('user_buyer_id').count().reset_index()\n",
    "    aux2.columns = ['user_buyer_id', 'no_repurchase_temp']\n",
    "    aux1 = aux1.merge(aux2, how = 'left', on = 'user_buyer_id')\n",
    "    ### flag repurchase\n",
    "    aux1['repurchase_temp'] = aux1['no_repurchase_temp'].apply(lambda x : 'repurchase' if x != 1 else 'single-purchase')\n",
    "    ### flag whether a user repurchased from same producer at least once \n",
    "    aux2 = aux1[aux1['repurchase_temp'] == 'repurchase'][['purchase_id', 'producer_id', 'user_buyer_id']].groupby(['producer_id', 'user_buyer_id']).count().reset_index().reset_index()\n",
    "    aux2['same_prod_temp'] = aux2['purchase_id'].apply(lambda x : 'repurchased' if x > 1 else 'did not repurchase')\n",
    "    # get users who repurchased from same producer\n",
    "    aux2 = aux2[aux2['same_prod_temp'] == 'repurchased'][['user_buyer_id']].drop_duplicates()\n",
    "    aux2['repurchase_same_producer_temp'] = 'same_producer_repurchase'\n",
    "    # get users who did not repurchased\n",
    "    aux1 = aux1.merge(aux2, how = 'left', on = 'user_buyer_id')\n",
    "    aux1.loc[aux1['repurchase_temp'] == 'single-purchase', 'repurchase_same_producer_temp'] = 'no_repurchase'\n",
    "    aux1['repurchase_same_producer_temp'] = aux1['repurchase_same_producer_temp'].fillna('diff_producer_repurchase')\n",
    "    # get rank of purchases\n",
    "    aux1['order_purchase_temp'] = aux1.groupby(\"user_buyer_id\")[\"purchase_release_datetime\"].rank(method=\"first\", ascending=True)\n",
    "    # flag producers with a single product\n",
    "    aux2 = aux1[['product_id', 'producer_id']].groupby('producer_id').nunique().reset_index()\n",
    "    aux2.columns = ['producer_id', 'num_products_producer_temp']\n",
    "    aux1 = aux1.merge(aux2, how = 'left', on = 'producer_id')\n",
    "    # get only 1st purchase from producers \n",
    "    aux2 = aux1[(aux1['repurchase_temp'] == 'repurchase') & (aux1['order_purchase_temp'] == 1)][['user_buyer_id', 'producer_id', 'num_products_producer_temp']]\n",
    "    aux2.columns = ['user_buyer_id', 'first_producer_id', 'first_num_products_producer']\n",
    "    # get only 2nd purchase from producers \n",
    "    aux3 = aux1[(aux1['repurchase_temp'] == 'repurchase') & (aux1['order_purchase_temp'] == 2)][['user_buyer_id', 'producer_id']]\n",
    "    # merge\n",
    "    aux3 = aux3.merge(aux2, how = 'left', on = 'user_buyer_id')\n",
    "\n",
    "    # repurchase is from same producer\n",
    "    aux3['same_producer'] = aux3.apply(lambda x : 'same' if x['first_producer_id'] == x['producer_id'] else 'diff', axis = 1)\n",
    "\n",
    "    # customer repurchased from diff producer and 1st purchase was from producer with single product?\n",
    "    aux3['answer'] = aux3.apply(lambda x : 'yes' if (x['same_producer'] == 'diff') & (x['first_num_products_producer'] == 1) else 'no', axis =1)\n",
    "    aux4 = aux3[['answer', 'same_producer']].groupby('answer').count().reset_index() # get count \n",
    "    aux4['%'] = aux4['same_producer'] / aux4['same_producer'].sum()*100  \n",
    "    # get vol of users whose 1st and 2nd purchase were from same producer\n",
    "    aux5 = aux3[['user_buyer_id', 'same_producer']].groupby('same_producer').count().reset_index()\n",
    "    aux5['%'] = aux5['user_buyer_id'] / aux5['user_buyer_id'].sum()*100\n",
    "    # plot graph with annotations\n",
    "    sns.set_style('white')\n",
    "    splot = sns.barplot(y = 'same_producer', x = '%', data = aux5, palette = palette_types, order = ['same', 'diff']);\n",
    "\n",
    "    for p in splot.patches:\n",
    "        splot.annotate(\"%.2f\" % p.get_width(), xy=(p.get_width(), p.get_y()+p.get_height()/2),\n",
    "                       xytext=(5,0), textcoords='offset points', ha='left', va='center')\n",
    "    plt.title(f\"{d} | (N: {aux5['user_buyer_id'].sum():,} users)\")\n",
    "    plt.yticks(fontsize =16)\n",
    "    plt.xlabel(f\"% \")\n",
    "    plt.ylabel(\"\")\n",
    "    plt.xlim(0, 140)\n",
    "    splot.axes.get_yaxis().set_visible(False)\n",
    "    if n == 0:\n",
    "        splot.axes.get_yaxis().set_visible(True)\n",
    "    if n == 3:\n",
    "        splot.axes.get_yaxis().set_visible(True)\n",
    "#         splot.spines['right'].set_visible(False)\n",
    "#         splot.spines['top'].set_visible(False)\n",
    "#         splot.spines['left'].set_visible(False)\n",
    "#         splot.spines['bottom'].set_visible(False)\n",
    "    splot.axes.get_xaxis().set_visible(False)\n",
    "#         splot.axes.get_yaxis().set_visible(False)\n",
    "# plt.subplots_adjust(hspace=0.2)\n",
    "plt.subplots_adjust(wspace=0.2)\n",
    "plt.show()"
   ]
  },
  {
   "cell_type": "markdown",
   "metadata": {
    "heading_collapsed": true,
    "hidden": true
   },
   "source": [
    "#### Producer office (answer)"
   ]
  },
  {
   "cell_type": "markdown",
   "metadata": {
    "hidden": true
   },
   "source": [
    "- For this analysis, 1st and 2nd purchases can be from any producer within the same office.\n",
    "- Premise: if a 2nd purchase was from a producer from a different office, this purchase will be discarded. If the 3rd+ purchase comes from the same producer office, then it will be considered as the 2nd purchase."
   ]
  },
  {
   "cell_type": "code",
   "execution_count": null,
   "metadata": {
    "ExecuteTime": {
     "end_time": "2022-08-22T13:11:20.663340Z",
     "start_time": "2022-08-22T13:06:35.236009Z"
    },
    "hidden": true
   },
   "outputs": [],
   "source": [
    "# get office\n",
    "office = list(df3[['user_office_name', 'purchase_id']].groupby('user_office_name').count().reset_index().sort_values('purchase_id', ascending=False)['user_office_name'])\n",
    "plt.figure(figsize = (30,10))\n",
    "\n",
    "for n, d in enumerate(office):\n",
    "    plt.subplot(2,3,n+1)\n",
    "    ### count purchases per user\n",
    "    aux1 = df3[df3['user_office_name'] == d]\n",
    "    aux2 = aux1[['user_buyer_id', 'purchase_id']].groupby('user_buyer_id').count().reset_index()\n",
    "    aux2.columns = ['user_buyer_id', 'no_repurchase_temp']\n",
    "    aux1 = aux1.merge(aux2, how = 'left', on = 'user_buyer_id')\n",
    "    ### flag repurchase\n",
    "    aux1['repurchase_temp'] = aux1['no_repurchase_temp'].apply(lambda x : 'repurchase' if x != 1 else 'single-purchase')\n",
    "    ### flag whether a user repurchased from same producer at least once \n",
    "    aux2 = aux1[aux1['repurchase_temp'] == 'repurchase'][['purchase_id', 'producer_id', 'user_buyer_id']].groupby(['producer_id', 'user_buyer_id']).count().reset_index().reset_index()\n",
    "    aux2['same_prod_temp'] = aux2['purchase_id'].apply(lambda x : 'repurchased' if x > 1 else 'did not repurchase')\n",
    "    # get users who repurchased from same producer\n",
    "    aux2 = aux2[aux2['same_prod_temp'] == 'repurchased'][['user_buyer_id']].drop_duplicates()\n",
    "    aux2['repurchase_same_producer_temp'] = 'same_producer_repurchase'\n",
    "    # get users who did not repurchased\n",
    "    aux1 = aux1.merge(aux2, how = 'left', on = 'user_buyer_id')\n",
    "    aux1.loc[aux1['repurchase_temp'] == 'single-purchase', 'repurchase_same_producer_temp'] = 'no_repurchase'\n",
    "    aux1['repurchase_same_producer_temp'] = aux1['repurchase_same_producer_temp'].fillna('diff_producer_repurchase')\n",
    "    # get rank of purchases\n",
    "    aux1['order_purchase_temp'] = aux1.groupby(\"user_buyer_id\")[\"purchase_release_datetime\"].rank(method=\"first\", ascending=True)\n",
    "    # flag producers with a single product\n",
    "    aux2 = aux1[['product_id', 'producer_id']].groupby('producer_id').nunique().reset_index()\n",
    "    aux2.columns = ['producer_id', 'num_products_producer_temp']\n",
    "    aux1 = aux1.merge(aux2, how = 'left', on = 'producer_id')\n",
    "    # get only 1st purchase from producers \n",
    "    aux2 = aux1[(aux1['repurchase_temp'] == 'repurchase') & (aux1['order_purchase_temp'] == 1)][['user_buyer_id', 'producer_id', 'num_products_producer_temp']]\n",
    "    aux2.columns = ['user_buyer_id', 'first_producer_id', 'first_num_products_producer']\n",
    "    # get only 2nd purchase from producers \n",
    "    aux3 = aux1[(aux1['repurchase_temp'] == 'repurchase') & (aux1['order_purchase_temp'] == 2)][['user_buyer_id', 'producer_id']]\n",
    "    # merge\n",
    "    aux3 = aux3.merge(aux2, how = 'left', on = 'user_buyer_id')\n",
    "    # repurchase is from same producer\n",
    "    aux3['same_producer'] = aux3.apply(lambda x : 'same' if x['first_producer_id'] == x['producer_id'] else 'diff', axis = 1)\n",
    "    # customer repurchased from diff producer and 1st purchase was from producer with single product?\n",
    "    aux3['answer'] = aux3.apply(lambda x : 'yes' if (x['same_producer'] == 'diff') & (x['first_num_products_producer'] == 1) else 'no', axis =1)\n",
    "    aux4 = aux3[['answer', 'same_producer']].groupby('answer').count().reset_index() # get count \n",
    "    aux4['%'] = aux4['same_producer'] / aux4['same_producer'].sum()*100  \n",
    "    # plot graph with annotations\n",
    "    sns.set_style('white')\n",
    "    splot = sns.barplot(y = 'answer', x = '%', data = aux4, palette = palette_types, order = ['no', 'yes']);\n",
    "\n",
    "    for p in splot.patches:\n",
    "        splot.annotate(\"%.2f\" % p.get_width(), xy=(p.get_width(), p.get_y()+p.get_height()/2),\n",
    "                       xytext=(5,0), textcoords='offset points', ha='left', va='center')\n",
    "    plt.title(f\"{d} | (N: {aux4['same_producer'].sum():,} users)\")\n",
    "    plt.yticks(fontsize =16)\n",
    "    plt.xlabel(f\"% \")\n",
    "    plt.ylabel(\"\")\n",
    "    plt.xlim(0, 120)\n",
    "    splot.axes.get_yaxis().set_visible(False)\n",
    "    if n == 0:\n",
    "        splot.axes.get_yaxis().set_visible(True)\n",
    "    if n == 3:\n",
    "        splot.axes.get_yaxis().set_visible(True)\n",
    "#         splot.spines['right'].set_visible(False)\n",
    "#         splot.spines['top'].set_visible(False)\n",
    "#         splot.spines['left'].set_visible(False)\n",
    "#         splot.spines['bottom'].set_visible(False)\n",
    "    splot.axes.get_xaxis().set_visible(False)\n",
    "#         splot.axes.get_yaxis().set_visible(False)\n",
    "# plt.subplots_adjust(hspace=0.2)\n",
    "plt.subplots_adjust(wspace=0.2)\n",
    "plt.show()"
   ]
  },
  {
   "cell_type": "markdown",
   "metadata": {
    "heading_collapsed": true,
    "hidden": true
   },
   "source": [
    "#### Producers < 10k BRL LTV (1st and 2nd purchase: same producer?)"
   ]
  },
  {
   "cell_type": "markdown",
   "metadata": {
    "hidden": true
   },
   "source": [
    "- For this analysis, the 2nd purchase can be from any producer (independent of being below/above the GMV LTV threshold). In this context, we are not considering 3rd, 4th+ purchases"
   ]
  },
  {
   "cell_type": "code",
   "execution_count": null,
   "metadata": {
    "ExecuteTime": {
     "end_time": "2022-08-22T13:18:04.099548Z",
     "start_time": "2022-08-22T13:11:20.667388Z"
    },
    "hidden": true
   },
   "outputs": [],
   "source": [
    "plt.figure(figsize = (30,10))\n",
    "\n",
    "for n, d in enumerate(['below', 'above']):\n",
    "    plt.subplot(1,2,n+1)\n",
    "    ### count purchases per user\n",
    "    aux0 = df3[(df3['is_below_10_entire'] == d) & (df3['order_purchase'] == 1)][['user_buyer_id']] \n",
    "    aux1 = df3.merge(aux0, how = 'inner', on = 'user_buyer_id')\n",
    "    aux2 = aux1[['user_buyer_id', 'purchase_id']].groupby('user_buyer_id').count().reset_index()\n",
    "    aux2.columns = ['user_buyer_id', 'no_repurchase_temp']\n",
    "    aux1 = aux1.merge(aux2, how = 'left', on = 'user_buyer_id')\n",
    "    ### flag repurchase\n",
    "    aux1['repurchase_temp'] = aux1['no_repurchase_temp'].apply(lambda x : 'repurchase' if x > 1 else 'single-purchase')\n",
    "    ### flag whether a user repurchased from same producer at least once \n",
    "    aux2 = aux1[aux1['repurchase_temp'] == 'repurchase'][['purchase_id', 'producer_id', 'user_buyer_id']].groupby(['producer_id', 'user_buyer_id']).count().reset_index().reset_index()\n",
    "    aux2['same_prod_temp'] = aux2['purchase_id'].apply(lambda x : 'repurchased' if x > 1 else 'did not repurchase')\n",
    "    # get users who repurchased from same producer\n",
    "    aux2 = aux2[aux2['same_prod_temp'] == 'repurchased'][['user_buyer_id']].drop_duplicates()\n",
    "    aux2['repurchase_same_producer_temp'] = 'same_producer_repurchase'\n",
    "    # get users who did not repurchased\n",
    "    aux1 = aux1.merge(aux2, how = 'left', on = 'user_buyer_id')\n",
    "    aux1.loc[aux1['repurchase_temp'] == 'single-purchase', 'repurchase_same_producer_temp'] = 'no_repurchase'\n",
    "    aux1['repurchase_same_producer_temp'] = aux1['repurchase_same_producer_temp'].fillna('diff_producer_repurchase')\n",
    "    # get rank of purchases\n",
    "    aux1['order_purchase_temp'] = aux1.groupby(\"user_buyer_id\")[\"purchase_release_datetime\"].rank(method=\"first\", ascending=True)\n",
    "    # flag producers with a single product\n",
    "    aux2 = df3[['product_id', 'producer_id']].groupby('producer_id').nunique().reset_index()\n",
    "    aux2.columns = ['producer_id', 'num_products_producer_temp']\n",
    "    aux1 = aux1.merge(aux2, how = 'left', on = 'producer_id')\n",
    "    # get only 1st purchase from producers \n",
    "    aux2 = aux1[(aux1['repurchase_temp'] == 'repurchase') & (aux1['order_purchase_temp'] == 1) & (aux1['is_below_10_entire'] == d)][['user_buyer_id', 'producer_id', 'num_products_producer_temp']]\n",
    "    aux2.columns = ['user_buyer_id', 'first_producer_id', 'first_num_products_producer']\n",
    "    # get only 2nd purchase from producers \n",
    "    aux3 = aux1[(aux1['repurchase_temp'] == 'repurchase') & (aux1['order_purchase_temp'] == 2)][['user_buyer_id', 'producer_id']]\n",
    "    # merge\n",
    "    aux3 = aux3.merge(aux2, how = 'left', on = 'user_buyer_id')\n",
    "\n",
    "    # repurchase is from same producer\n",
    "    aux3['same_producer'] = aux3.apply(lambda x : 'same' if x['first_producer_id'] == x['producer_id'] else 'diff', axis = 1)\n",
    "\n",
    "    # customer repurchased from diff producer and 1st purchase was from producer with single product?\n",
    "    aux3['answer'] = aux3.apply(lambda x : 'yes' if (x['same_producer'] == 'diff') & (x['first_num_products_producer'] == 1) else 'no', axis =1)\n",
    "    aux4 = aux3[['answer', 'same_producer']].groupby('answer').count().reset_index() # get count \n",
    "    aux4['%'] = aux4['same_producer'] / aux4['same_producer'].sum()*100  \n",
    "    # get vol of users whose 1st and 2nd purchase were from same producer\n",
    "    aux5 = aux3[['user_buyer_id', 'same_producer']].groupby('same_producer').count().reset_index()\n",
    "    aux5['%'] = aux5['user_buyer_id'] / aux5['user_buyer_id'].sum()*100\n",
    "    # plot graph with annotations\n",
    "    sns.set_style('white')\n",
    "    splot = sns.barplot(y = 'same_producer', x = '%', data = aux5, palette = palette_types, order = ['same', 'diff']);\n",
    "\n",
    "    for p in splot.patches:\n",
    "        splot.annotate(\"%.2f\" % p.get_width(), xy=(p.get_width(), p.get_y()+p.get_height()/2),\n",
    "                       xytext=(5,0), textcoords='offset points', ha='left', va='center')\n",
    "    plt.title(f\"{d} | (N: {aux5['user_buyer_id'].sum():,} users)\")\n",
    "    plt.yticks(fontsize =16)\n",
    "    plt.xlabel(f\"% \")\n",
    "    plt.ylabel(\"\")\n",
    "    plt.xlim(0, 140)\n",
    "    splot.axes.get_yaxis().set_visible(False)\n",
    "    if n == 0:\n",
    "        splot.axes.get_yaxis().set_visible(True)\n",
    "    if n == 3:\n",
    "        splot.axes.get_yaxis().set_visible(True)\n",
    "#         splot.spines['right'].set_visible(False)\n",
    "#         splot.spines['top'].set_visible(False)\n",
    "#         splot.spines['left'].set_visible(False)\n",
    "#         splot.spines['bottom'].set_visible(False)\n",
    "    splot.axes.get_xaxis().set_visible(False)\n",
    "#         splot.axes.get_yaxis().set_visible(False)\n",
    "# plt.subplots_adjust(hspace=0.2)\n",
    "plt.subplots_adjust(wspace=0.2)\n",
    "plt.show()"
   ]
  },
  {
   "cell_type": "markdown",
   "metadata": {
    "heading_collapsed": true,
    "hidden": true
   },
   "source": [
    "####  Producers < 10k BRL LTV (answer)"
   ]
  },
  {
   "cell_type": "markdown",
   "metadata": {
    "hidden": true
   },
   "source": [
    "- For this analysis, the 2nd purchase can be from any producer (independent of being below/above the GMV LTV threshold). In this context, we are not considering 3rd, 4th+ purchases"
   ]
  },
  {
   "cell_type": "code",
   "execution_count": null,
   "metadata": {
    "ExecuteTime": {
     "end_time": "2022-08-22T13:24:56.612580Z",
     "start_time": "2022-08-22T13:18:04.106752Z"
    },
    "hidden": true
   },
   "outputs": [],
   "source": [
    "plt.figure(figsize = (30,10))\n",
    "\n",
    "for n, d in enumerate(['below', 'above']):\n",
    "    plt.subplot(1,2,n+1)\n",
    "    ### count purchases per user\n",
    "    aux0 = df3[(df3['is_below_10_entire'] == d) & (df3['order_purchase'] == 1)][['user_buyer_id']] \n",
    "    aux1 = df3.merge(aux0, how = 'inner', on = 'user_buyer_id')\n",
    "    aux2 = aux1[['user_buyer_id', 'purchase_id']].groupby('user_buyer_id').count().reset_index()\n",
    "    aux2.columns = ['user_buyer_id', 'no_repurchase_temp']\n",
    "    aux1 = aux1.merge(aux2, how = 'left', on = 'user_buyer_id')\n",
    "    ### flag repurchase\n",
    "    aux1['repurchase_temp'] = aux1['no_repurchase_temp'].apply(lambda x : 'repurchase' if x > 1 else 'single-purchase')\n",
    "    ### flag whether a user repurchased from same producer at least once \n",
    "    aux2 = aux1[aux1['repurchase_temp'] == 'repurchase'][['purchase_id', 'producer_id', 'user_buyer_id']].groupby(['producer_id', 'user_buyer_id']).count().reset_index().reset_index()\n",
    "    aux2['same_prod_temp'] = aux2['purchase_id'].apply(lambda x : 'repurchased' if x > 1 else 'did not repurchase')\n",
    "    # get users who repurchased from same producer\n",
    "    aux2 = aux2[aux2['same_prod_temp'] == 'repurchased'][['user_buyer_id']].drop_duplicates()\n",
    "    aux2['repurchase_same_producer_temp'] = 'same_producer_repurchase'\n",
    "    # get users who did not repurchased\n",
    "    aux1 = aux1.merge(aux2, how = 'left', on = 'user_buyer_id')\n",
    "    aux1.loc[aux1['repurchase_temp'] == 'single-purchase', 'repurchase_same_producer_temp'] = 'no_repurchase'\n",
    "    aux1['repurchase_same_producer_temp'] = aux1['repurchase_same_producer_temp'].fillna('diff_producer_repurchase')\n",
    "    # get rank of purchases\n",
    "    aux1['order_purchase_temp'] = aux1.groupby(\"user_buyer_id\")[\"purchase_release_datetime\"].rank(method=\"first\", ascending=True)\n",
    "    # flag producers with a single product\n",
    "    aux2 = df3[['product_id', 'producer_id']].groupby('producer_id').nunique().reset_index()\n",
    "    aux2.columns = ['producer_id', 'num_products_producer_temp']\n",
    "    aux1 = aux1.merge(aux2, how = 'left', on = 'producer_id')\n",
    "    # get only 1st purchase from producers \n",
    "    aux2 = aux1[(aux1['repurchase_temp'] == 'repurchase') & (aux1['order_purchase_temp'] == 1) & (aux1['is_below_10_entire'] == d)][['user_buyer_id', 'producer_id', 'num_products_producer_temp']]\n",
    "    aux2.columns = ['user_buyer_id', 'first_producer_id', 'first_num_products_producer']\n",
    "    # get only 2nd purchase from producers \n",
    "    aux3 = aux1[(aux1['repurchase_temp'] == 'repurchase') & (aux1['order_purchase_temp'] == 2)][['user_buyer_id', 'producer_id']]\n",
    "    # merge\n",
    "    aux3 = aux3.merge(aux2, how = 'left', on = 'user_buyer_id')\n",
    "\n",
    "    # repurchase is from same producer\n",
    "    aux3['same_producer'] = aux3.apply(lambda x : 'same' if x['first_producer_id'] == x['producer_id'] else 'diff', axis = 1)\n",
    "\n",
    "    # customer repurchased from diff producer and 1st purchase was from producer with single product?\n",
    "    aux3['answer'] = aux3.apply(lambda x : 'yes' if (x['same_producer'] == 'diff') & (x['first_num_products_producer'] == 1) else 'no', axis =1)\n",
    "    aux4 = aux3[['answer', 'same_producer']].groupby('answer').count().reset_index() # get count \n",
    "    aux4['%'] = aux4['same_producer'] / aux4['same_producer'].sum()*100  \n",
    "    # plot graph with annotations\n",
    "    sns.set_style('white')\n",
    "    splot = sns.barplot(y = 'answer', x = '%', data = aux4, palette = palette_types, order = ['no', 'yes']);\n",
    "\n",
    "    for p in splot.patches:\n",
    "        splot.annotate(\"%.2f\" % p.get_width(), xy=(p.get_width(), p.get_y()+p.get_height()/2),\n",
    "                       xytext=(5,0), textcoords='offset points', ha='left', va='center')\n",
    "    plt.title(f\"{d} | (N: {aux4['same_producer'].sum():,} users)\")\n",
    "    plt.yticks(fontsize =16)\n",
    "    plt.xlabel(f\"% \")\n",
    "    plt.ylabel(\"\")\n",
    "    plt.xlim(0, 120)\n",
    "    splot.axes.get_yaxis().set_visible(False)\n",
    "    if n == 0:\n",
    "        splot.axes.get_yaxis().set_visible(True)\n",
    "    if n == 3:\n",
    "        splot.axes.get_yaxis().set_visible(True)\n",
    "#         splot.spines['right'].set_visible(False)\n",
    "#         splot.spines['top'].set_visible(False)\n",
    "#         splot.spines['left'].set_visible(False)\n",
    "#         splot.spines['bottom'].set_visible(False)\n",
    "    splot.axes.get_xaxis().set_visible(False)\n",
    "#         splot.axes.get_yaxis().set_visible(False)\n",
    "# plt.subplots_adjust(hspace=0.2)\n",
    "plt.subplots_adjust(wspace=0.2)\n",
    "plt.show()"
   ]
  },
  {
   "cell_type": "markdown",
   "metadata": {
    "heading_collapsed": true
   },
   "source": [
    "### What is the reorder rate within the same market category? (by customer country, producer office, producer segment, producers below 10k BRL LTV)"
   ]
  },
  {
   "cell_type": "markdown",
   "metadata": {
    "hidden": true
   },
   "source": [
    "Reorder Rate = % of customers who repurchase"
   ]
  },
  {
   "cell_type": "code",
   "execution_count": null,
   "metadata": {
    "ExecuteTime": {
     "end_time": "2022-08-22T13:24:56.626780Z",
     "start_time": "2022-08-22T13:24:56.621880Z"
    },
    "hidden": true
   },
   "outputs": [],
   "source": [
    "  \n",
    "  \n",
    "  \n",
    "  \n",
    "  \n",
    "  \n",
    "  "
   ]
  },
  {
   "cell_type": "markdown",
   "metadata": {
    "heading_collapsed": true,
    "hidden": true
   },
   "source": [
    "#### Overall"
   ]
  },
  {
   "cell_type": "code",
   "execution_count": null,
   "metadata": {
    "ExecuteTime": {
     "end_time": "2022-09-14T21:56:36.228024Z",
     "start_time": "2022-09-14T21:55:04.570790Z"
    },
    "hidden": true
   },
   "outputs": [],
   "source": [
    "# calculate repurchase\n",
    "category = list(df3[['category_cleaned', 'purchase_id']].groupby('category_cleaned').count().reset_index().sort_values('purchase_id', ascending=False)['category_cleaned'])\n",
    "reorder = pd.DataFrame()\n",
    "for n, d in enumerate(category):\n",
    "    ### count purchases per user\n",
    "    aux1 = df3[df3['category_cleaned'] == d]\n",
    "    aux2 = aux1[['user_buyer_id', 'purchase_id']].groupby('user_buyer_id').count().reset_index()\n",
    "    aux2.columns = ['user_buyer_id', 'no_repurchase_temp']\n",
    "    aux1 = aux1.merge(aux2, how = 'left', on = 'user_buyer_id')\n",
    "    ### flag repurchase\n",
    "    aux1['repurchase_temp'] = aux1['no_repurchase_temp'].apply(lambda x : 'repurchase' if x > 1 else 'single-purchase')    \n",
    "    \n",
    "    # get vol of users with purchase\n",
    "    aux1 = aux1[['no_repurchase_temp','repurchase_temp',  'user_buyer_id']].groupby(['repurchase_temp','no_repurchase_temp']).nunique().reset_index()\n",
    "    aux1['%'] = aux1['user_buyer_id'] / aux1['user_buyer_id'].sum() * 100\n",
    "    aux1 = aux1.sort_values('%', ascending=False)\n",
    "    # get users who repurchase\n",
    "    aux3 = aux1[['repurchase_temp', 'user_buyer_id']].groupby('repurchase_temp').sum().reset_index()\n",
    "    aux3['%'] = aux3['user_buyer_id'] / aux3['user_buyer_id'].sum() * 100\n",
    "    aux4 = aux3[aux3['repurchase_temp'] == 'repurchase'][['%']]\n",
    "    aux4['category_cleaned'] = d\n",
    "    aux4 = aux4[['category_cleaned', '%']]\n",
    "    reorder = reorder.append(aux4)\n",
    "\n",
    "# plot graph with annotations\n",
    "reorder = reorder.sort_values('%', ascending=False)\n",
    "\n",
    "plt.figure(figsize = (15,10))\n",
    "\n",
    "sns.set_style('white')\n",
    "splot = sns.barplot(y = 'category_cleaned', x = '%', data = reorder, palette = palette_topics, order = reorder.sort_values('%', ascending=False)['category_cleaned']);\n",
    "\n",
    "for p in splot.patches:\n",
    "    splot.annotate(\"%.2f\" % p.get_width(), xy=(p.get_width(), p.get_y()+p.get_height()/2),\n",
    "                   xytext=(5,0), textcoords='offset points', ha='left', va='center')\n",
    "plt.title(f\"Product Category: Reorder Rate (%)\")\n",
    "plt.yticks(fontsize =16)\n",
    "plt.xlabel(\"%\")\n",
    "plt.ylabel(\"\")\n",
    "plt.xlim(0, 80)\n",
    "#         splot.spines['right'].set_visible(False)\n",
    "#         splot.spines['top'].set_visible(False)\n",
    "#         splot.spines['left'].set_visible(False)\n",
    "#         splot.spines['bottom'].set_visible(False)\n",
    "splot.axes.get_xaxis().set_visible(False)\n",
    "#         splot.axes.get_yaxis().set_visible(False)\n",
    "# plt.subplots_adjust(hspace=0.2)\n",
    "# plt.subplots_adjust(wspace=0.2)\n",
    "plt.show()"
   ]
  },
  {
   "cell_type": "code",
   "execution_count": null,
   "metadata": {
    "ExecuteTime": {
     "end_time": "2022-09-14T21:58:05.088296Z",
     "start_time": "2022-09-14T21:56:36.232266Z"
    },
    "hidden": true
   },
   "outputs": [],
   "source": [
    "# calculate gmv captured by users who repurchase\n",
    "category = list(df3[['category_cleaned', 'purchase_id']].groupby('category_cleaned').count().reset_index().sort_values('purchase_id', ascending=False)['category_cleaned'])\n",
    "share_gmv = pd.DataFrame()\n",
    "for n, d in enumerate(category):\n",
    "    ### count purchases per user\n",
    "    aux1 = df3[df3['category_cleaned'] == d]\n",
    "    aux2 = aux1[['user_buyer_id', 'purchase_id']].groupby('user_buyer_id').count().reset_index()\n",
    "    aux2.columns = ['user_buyer_id', 'no_repurchase_temp']\n",
    "    aux1 = aux1.merge(aux2, how = 'left', on = 'user_buyer_id')\n",
    "    ### flag repurchase\n",
    "    aux1['repurchase_temp'] = aux1['no_repurchase_temp'].apply(lambda x : 'repurchase' if x > 1 else 'single-purchase')    \n",
    "    aux2 = aux1[['repurchase_temp', 'gmv_value_brl']].groupby('repurchase_temp').sum().reset_index()\n",
    "    aux2['gmv_share_repurchase'] = aux2['gmv_value_brl'] / aux2['gmv_value_brl'].sum() * 100\n",
    "    aux2 = aux2[aux2['repurchase_temp'] == 'repurchase']\n",
    "    aux2['category_cleaned'] = d\n",
    "    aux2.columns = ['repurchase', 'gmv_value_brl_repurchase', 'gmv_share_repurchase', 'category_cleaned']\n",
    "    aux2 = aux2[['category_cleaned', 'gmv_share_repurchase', 'gmv_value_brl_repurchase']]\n",
    "    share_gmv = share_gmv.append(aux2)\n",
    "\n",
    "# plot graph with annotations\n",
    "share_gmv = share_gmv.sort_values('gmv_share_repurchase', ascending=False)\n",
    "plt.figure(figsize = (15,10))\n",
    "\n",
    "sns.set_style('white')\n",
    "splot = sns.barplot(y = 'category_cleaned', x = 'gmv_share_repurchase', data = share_gmv, palette = palette_topics, order = share_gmv.sort_values('gmv_share_repurchase', ascending=False)['category_cleaned']);\n",
    "\n",
    "for p in splot.patches:\n",
    "    splot.annotate(\"%.2f\" % p.get_width(), xy=(p.get_width(), p.get_y()+p.get_height()/2),\n",
    "                   xytext=(5,0), textcoords='offset points', ha='left', va='center')\n",
    "plt.title(f\"Product Category: % GMV captured by users who repurchase (%)\")\n",
    "plt.yticks(fontsize =16)\n",
    "plt.xlabel(\"%\")\n",
    "plt.ylabel(\"\")\n",
    "plt.xlim(0, 80)\n",
    "#         splot.spines['right'].set_visible(False)\n",
    "#         splot.spines['top'].set_visible(False)\n",
    "#         splot.spines['left'].set_visible(False)\n",
    "#         splot.spines['bottom'].set_visible(False)\n",
    "splot.axes.get_xaxis().set_visible(False)\n",
    "#         splot.axes.get_yaxis().set_visible(False)\n",
    "# plt.subplots_adjust(hspace=0.2)\n",
    "# plt.subplots_adjust(wspace=0.2)\n",
    "plt.show()"
   ]
  },
  {
   "cell_type": "code",
   "execution_count": null,
   "metadata": {
    "ExecuteTime": {
     "end_time": "2022-09-14T21:59:37.597917Z",
     "start_time": "2022-09-14T21:58:05.092322Z"
    },
    "hidden": true
   },
   "outputs": [],
   "source": [
    "# calculate median gmv for repurchase cohort\n",
    "category = list(df3[['category_cleaned', 'purchase_id']].groupby('category_cleaned').count().reset_index().sort_values('purchase_id', ascending=False)['category_cleaned'])\n",
    "median_gmv = pd.DataFrame()\n",
    "for n, d in enumerate(category):\n",
    "    ### count purchases per user\n",
    "    aux1 = df3[df3['category_cleaned'] == d]\n",
    "    aux2 = aux1[['user_buyer_id', 'purchase_id']].groupby('user_buyer_id').count().reset_index()\n",
    "    aux2.columns = ['user_buyer_id', 'no_repurchase_temp']\n",
    "    aux1 = aux1.merge(aux2, how = 'left', on = 'user_buyer_id')\n",
    "    ### flag repurchase\n",
    "    aux1['repurchase_temp'] = aux1['no_repurchase_temp'].apply(lambda x : 'repurchase' if x > 1 else 'single-purchase')\n",
    "    aux2 = aux1[['user_buyer_id', 'repurchase_temp', 'gmv_value_brl']].groupby(['user_buyer_id', 'repurchase_temp']).sum().reset_index()\n",
    "    aux2 = aux2[aux2['gmv_value_brl'] > 0]\n",
    "    aux2 = aux2[['repurchase_temp', 'gmv_value_brl']].groupby('repurchase_temp').median().reset_index()\n",
    "    aux2 = aux2[aux2['repurchase_temp'] == 'repurchase']\n",
    "    aux2.columns = ['repurchase', 'median_gmv_repurchase']\n",
    "    aux2['category_cleaned'] = d\n",
    "    aux2 = aux2[['category_cleaned', 'median_gmv_repurchase']]\n",
    "    median_gmv = median_gmv.append(aux2)\n",
    "\n",
    "# plot graph with annotations\n",
    "median_gmv = median_gmv.sort_values('median_gmv_repurchase', ascending=False)\n",
    "plt.figure(figsize = (15,10))\n",
    "\n",
    "sns.set_style('white')\n",
    "splot = sns.barplot(y = 'category_cleaned', x = 'median_gmv_repurchase', data = median_gmv, palette = palette_topics, order = median_gmv.sort_values('median_gmv_repurchase', ascending=False)['category_cleaned']);\n",
    "\n",
    "for p in splot.patches:\n",
    "    splot.annotate(\"%.2f\" % p.get_width(), xy=(p.get_width(), p.get_y()+p.get_height()/2),\n",
    "                   xytext=(5,0), textcoords='offset points', ha='left', va='center')\n",
    "plt.title(f\"Product Category: Median GMV by users who repurchase (%)\")\n",
    "plt.yticks(fontsize =16)\n",
    "plt.xlabel(\"%\")\n",
    "plt.ylabel(\"\")\n",
    "# plt.xlim(0, 250)\n",
    "#         splot.spines['right'].set_visible(False)\n",
    "#         splot.spines['top'].set_visible(False)\n",
    "#         splot.spines['left'].set_visible(False)\n",
    "#         splot.spines['bottom'].set_visible(False)\n",
    "splot.axes.get_xaxis().set_visible(False)\n",
    "#         splot.axes.get_yaxis().set_visible(False)\n",
    "# plt.subplots_adjust(hspace=0.2)\n",
    "# plt.subplots_adjust(wspace=0.2)\n",
    "plt.show()"
   ]
  },
  {
   "cell_type": "code",
   "execution_count": null,
   "metadata": {
    "ExecuteTime": {
     "end_time": "2022-09-14T21:55:04.567872Z",
     "start_time": "2022-09-14T21:54:49.280649Z"
    },
    "hidden": true
   },
   "outputs": [],
   "source": [
    "# calculate overall ticket median\n",
    "category = list(df3[['category_cleaned', 'purchase_id']].groupby('category_cleaned').count().reset_index().sort_values('purchase_id', ascending=False)['category_cleaned'])\n",
    "overall_gmv = pd.DataFrame()\n",
    "for n, d in enumerate(category):\n",
    "    ### count purchases per user\n",
    "    aux1 = df3[df3['category_cleaned'] == d][['user_buyer_id', 'gmv_value_brl']].groupby(['user_buyer_id']).sum().reset_index()\n",
    "    aux1 = aux1[aux1['gmv_value_brl'] > 0]\n",
    "    aux2 = pd.DataFrame({'category_cleaned' : [d], 'overall_median_gmv': aux1['gmv_value_brl'].median()})\n",
    "    overall_gmv = pd.concat([overall_gmv, aux2])"
   ]
  },
  {
   "cell_type": "code",
   "execution_count": null,
   "metadata": {
    "ExecuteTime": {
     "end_time": "2022-09-14T21:59:37.617952Z",
     "start_time": "2022-09-14T21:59:37.601894Z"
    },
    "hidden": true
   },
   "outputs": [],
   "source": [
    "# set main dataset\n",
    "reorder = reorder.merge(share_gmv, \n",
    "                        how = 'left', \n",
    "                        on = 'category_cleaned').merge(median_gmv, \n",
    "                                                    how = 'left', \n",
    "                                                    on = 'category_cleaned').merge(overall_gmv, \n",
    "                                                                        how = 'left', \n",
    "                                                                        on = 'category_cleaned').sort_values('%', ascending=False)\n",
    "reorder['median_lower'] = reorder.apply(lambda x: 1 if x['median_gmv_repurchase'] < x['overall_median_gmv'] else 0, axis = 1)\n",
    "reorder['diff_median'] = (reorder['median_gmv_repurchase'] - reorder['overall_median_gmv']) / reorder['overall_median_gmv'] * 100\n",
    "reorder['diff_median_abs'] = abs(reorder['diff_median'])"
   ]
  },
  {
   "cell_type": "code",
   "execution_count": null,
   "metadata": {
    "ExecuteTime": {
     "end_time": "2022-09-14T21:59:37.633788Z",
     "start_time": "2022-09-14T21:59:37.621624Z"
    },
    "hidden": true
   },
   "outputs": [],
   "source": [
    "reorder[['gmv_share_repurchase', 'diff_median']].corr()"
   ]
  },
  {
   "cell_type": "code",
   "execution_count": null,
   "metadata": {
    "ExecuteTime": {
     "end_time": "2022-09-14T21:59:37.944028Z",
     "start_time": "2022-09-14T21:59:37.636666Z"
    },
    "hidden": true
   },
   "outputs": [],
   "source": [
    "sns.lmplot(x ='gmv_share_repurchase', y = 'diff_median', data = reorder);"
   ]
  },
  {
   "cell_type": "code",
   "execution_count": null,
   "metadata": {
    "ExecuteTime": {
     "end_time": "2022-09-14T22:10:40.957340Z",
     "start_time": "2022-09-14T22:10:40.952829Z"
    },
    "hidden": true
   },
   "outputs": [],
   "source": [
    "# # set palette\n",
    "# palette_categories_analysis = list()\n",
    "# for n in list(reorder['category_cleaned']):\n",
    "#     if int(reorder[reorder['category_cleaned'] == n]['median_lower']) == 1:\n",
    "#         palette_categories_analysis = palette_categories_analysis + ['r']\n",
    "#     else:\n",
    "#         palette_categories_analysis = palette_categories_analysis + ['g']\n"
   ]
  },
  {
   "cell_type": "code",
   "execution_count": null,
   "metadata": {
    "ExecuteTime": {
     "end_time": "2022-09-14T22:10:30.179051Z",
     "start_time": "2022-09-14T22:10:30.173238Z"
    },
    "hidden": true
   },
   "outputs": [],
   "source": [
    "# set palette\n",
    "palette_categories_analysis = list()\n",
    "for n in list(reorder['category_cleaned']):\n",
    "        palette_categories_analysis = palette_categories_analysis + ['#EF4E23']"
   ]
  },
  {
   "cell_type": "code",
   "execution_count": null,
   "metadata": {
    "ExecuteTime": {
     "end_time": "2022-09-14T22:10:45.490641Z",
     "start_time": "2022-09-14T22:10:44.175881Z"
    },
    "hidden": true
   },
   "outputs": [],
   "source": [
    "fonttitle = 45\n",
    "annotate_size = 45\n",
    "plt.figure(figsize = (35,40))\n",
    "plt.subplot(141)\n",
    "# plot graph with annotations\n",
    "\n",
    "# '#707780' (grey)\n",
    "\n",
    "sns.set_style('white')\n",
    "splot = sns.barplot(y = 'category_cleaned', x = '%', data = reorder, palette = palette_categories_analysis, order = reorder.sort_values('%', ascending=False)['category_cleaned']);\n",
    "\n",
    "for p in splot.patches:\n",
    "    splot.annotate(\" %.1f\" % p.get_width() + '%', xy=(p.get_width(), p.get_y()+p.get_height()/2),\n",
    "                   xytext=(5,0), textcoords='offset points', \n",
    "                   ha='left', va='center', fontsize = annotate_size, color = '#707780')\n",
    "splot.set_title(f\"Reorder Rate (%)\\n\" + \" \\n\" + \" \", color =  '#707780' , fontsize = fonttitle, loc = 'left', pad=40)\n",
    "\n",
    "# plt.yticks(fontsize =20)\n",
    "plt.ylabel(\"\")\n",
    "plt.xlim(0, 50)\n",
    "# splot.tick_params(labelsize=15)\n",
    "splot.yaxis.label.set_color('#707780')\n",
    "splot.spines['left'].set_color('#707780')\n",
    "splot.tick_params(axis='y', colors='#707780',labelsize=50, pad = 30)\n",
    "#     splot.axes.get_yaxis().set_visible(False)\n",
    "splot.spines['right'].set_visible(False)\n",
    "splot.spines['top'].set_visible(False)\n",
    "splot.spines['left'].set_visible(False)\n",
    "splot.spines['bottom'].set_visible(False)\n",
    "splot.axes.get_xaxis().set_visible(False)\n",
    "# plt.xlabel(f\"{aux3['user_buyer_id'].sum():,}\", color = '#707780', fontsize = 30)\n",
    "\n",
    "plt.subplot(142)\n",
    "sns.set_style('white')\n",
    "splot = sns.barplot(y = 'category_cleaned', x = 'gmv_share_repurchase', data = reorder, \n",
    "                    palette = palette_categories_analysis, \n",
    "                    order = list(reorder.sort_values('%', ascending=False)['category_cleaned']));\n",
    "\n",
    "for p in splot.patches:\n",
    "    splot.annotate(\" %.1f\" % p.get_width() + '%', xy=(p.get_width(), p.get_y()+p.get_height()/2),\n",
    "                   xytext=(5,0), textcoords='offset points', \n",
    "                   ha='left', va='center', fontsize = annotate_size, color = '#707780')\n",
    "splot.set_title(f\"Generated GMV (%)\\n\" + \"from buyers\\n\" + \"who repurchase \" , color =  '#707780' , fontsize = fonttitle, loc = 'left', pad=40)\n",
    "\n",
    "# plt.yticks(fontsize =20)\n",
    "plt.ylabel(\"\")\n",
    "plt.xlim(0, 50)\n",
    "# splot.tick_params(labelsize=15)\n",
    "splot.yaxis.label.set_color('#707780')\n",
    "splot.spines['left'].set_color('#707780')\n",
    "# splot.tick_params(axis='y', colors='#707780',labelsize=40, pad = 30)\n",
    "splot.axes.get_yaxis().set_visible(False)\n",
    "splot.spines['right'].set_visible(False)\n",
    "splot.spines['top'].set_visible(False)\n",
    "splot.spines['left'].set_visible(False)\n",
    "splot.spines['bottom'].set_visible(False)\n",
    "splot.axes.get_xaxis().set_visible(False)\n",
    "\n",
    "\n",
    "plt.subplot(143)\n",
    "sns.set_style('white')\n",
    "splot = sns.barplot(y = 'category_cleaned', x = 'overall_median_gmv', data = reorder, \n",
    "                    palette = palette_categories_analysis, \n",
    "                    order = list(reorder.sort_values('%', ascending=False)['category_cleaned']));\n",
    "\n",
    "for p in splot.patches:\n",
    "    splot.annotate(\" %.0f\" % p.get_width(), xy=(p.get_width(), p.get_y()+p.get_height()/2),\n",
    "                   xytext=(5,0), textcoords='offset points', \n",
    "                   ha='left', va='center', fontsize = annotate_size, color = '#707780')\n",
    "splot.set_title(f\"Global Avg. Ticket\\n\" + \"Price (BRL)\\n\" + \" \" , color =  '#707780' , fontsize = fonttitle, loc = 'left', pad=40)\n",
    "\n",
    "# plt.yticks(fontsize =20)\n",
    "plt.ylabel(\"\")\n",
    "plt.xlim(0, 600)\n",
    "# splot.tick_params(labelsize=15)\n",
    "splot.yaxis.label.set_color('#707780')\n",
    "splot.spines['left'].set_color('#707780')\n",
    "# splot.tick_params(axis='y', colors='#707780',labelsize=40, pad = 30)\n",
    "splot.axes.get_yaxis().set_visible(False)\n",
    "splot.spines['right'].set_visible(False)\n",
    "splot.spines['top'].set_visible(False)\n",
    "splot.spines['left'].set_visible(False)\n",
    "splot.spines['bottom'].set_visible(False)\n",
    "splot.axes.get_xaxis().set_visible(False)\n",
    "\n",
    "plt.subplot(144)\n",
    "sns.set_style('white')\n",
    "splot = sns.barplot(y = 'category_cleaned', x = 'median_gmv_repurchase', data = reorder, \n",
    "                    palette = palette_categories_analysis, \n",
    "                    order = list(reorder.sort_values('%', ascending=False)['category_cleaned']));\n",
    "\n",
    "for n, p in zip(reorder['diff_median'], splot.patches):\n",
    "    splot.annotate(\" %.0f\" % p.get_width() + ' ' + \"(%.1f p.p)\" % n, xy=(p.get_width(), \n",
    "                                                                      p.get_y()+p.get_height()/2),xytext=(5,0), \n",
    "    textcoords='offset points', ha='left', va='center', fontsize = annotate_size, color = '#707780')\n",
    "\n",
    "splot.set_title(f\"Avg. Ticket Price (BRL)\\n\" + \"from buyers who repurchase\\n\" + \"(% diff from global ticket price)\" , color =  '#707780' , fontsize = fonttitle, loc = 'left', pad=40)\n",
    "\n",
    "# plt.yticks(fontsize =20)\n",
    "plt.ylabel(\"\")\n",
    "plt.xlim(0, 600)\n",
    "# splot.tick_params(labelsize=15)\n",
    "splot.yaxis.label.set_color('#707780')\n",
    "splot.spines['left'].set_color('#707780')\n",
    "# splot.tick_params(axis='y', colors='#707780',labelsize=40, pad = 30)\n",
    "splot.axes.get_yaxis().set_visible(False)\n",
    "splot.spines['right'].set_visible(False)\n",
    "splot.spines['top'].set_visible(False)\n",
    "splot.spines['left'].set_visible(False)\n",
    "splot.spines['bottom'].set_visible(False)\n",
    "splot.axes.get_xaxis().set_visible(False)\n",
    "# plt.subplots_adjust(hspace=0.2)\n",
    "# plt.subplots_adjust(hspace=0.2)\n",
    "\n",
    "plt.subplots_adjust(wspace=0.05)\n",
    "plt.show()"
   ]
  },
  {
   "cell_type": "markdown",
   "metadata": {
    "heading_collapsed": true,
    "hidden": true
   },
   "source": [
    "#### Customer Country"
   ]
  },
  {
   "cell_type": "code",
   "execution_count": null,
   "metadata": {
    "ExecuteTime": {
     "end_time": "2022-08-22T13:28:18.176502Z",
     "start_time": "2022-08-22T13:26:32.236195Z"
    },
    "hidden": true,
    "scrolled": false
   },
   "outputs": [],
   "source": [
    "prov = df3[df3['category_cleaned'] != 'SPARKLE']\n",
    "# get list\n",
    "category = list(prov[['category_cleaned', 'purchase_id']].groupby('category_cleaned').count().reset_index().sort_values('purchase_id', ascending=False)['category_cleaned'])\n",
    "# get top 10 countries (buyer country)\n",
    "top10 = list(prov[['user_country', 'purchase_id']].groupby('user_country').count().reset_index().sort_values('purchase_id', ascending=False)['user_country'][0:10])\n",
    "\n",
    "\n",
    "plt.figure(figsize = (20,20))\n",
    "for e, f in enumerate(top10):\n",
    "    plt.subplot(2,5,e+1)\n",
    "    reorder = pd.DataFrame()\n",
    "    aux0 = prov[prov['user_country'] == f]\n",
    "    for n, d in enumerate(category):\n",
    "        ### count purchases per user\n",
    "        aux1 = aux0[aux0['category_cleaned'] == d]\n",
    "        aux2 = aux1[['user_buyer_id', 'purchase_id']].groupby('user_buyer_id').count().reset_index()\n",
    "        aux2.columns = ['user_buyer_id', 'no_repurchase_temp']\n",
    "        aux1 = aux1.merge(aux2, how = 'left', on = 'user_buyer_id')\n",
    "        ### flag repurchase\n",
    "        aux1['repurchase_temp'] = aux1['no_repurchase_temp'].apply(lambda x : 'repurchase' if x > 1 else 'single-purchase')    \n",
    "\n",
    "        # get vol of users with purchase\n",
    "        aux1 = aux1[['no_repurchase_temp','repurchase_temp',  'user_buyer_id']].groupby(['repurchase_temp','no_repurchase_temp']).nunique().reset_index()\n",
    "        aux1['%'] = aux1['user_buyer_id'] / aux1['user_buyer_id'].sum() * 100\n",
    "        aux1 = aux1.sort_values('%', ascending=False)\n",
    "        # get users who repurchase\n",
    "        aux3 = aux1[['repurchase_temp', 'user_buyer_id']].groupby('repurchase_temp').sum().reset_index()\n",
    "        aux3['%'] = aux3['user_buyer_id'] / aux3['user_buyer_id'].sum() * 100\n",
    "        aux4 = aux3[aux3['repurchase_temp'] == 'repurchase'][['%']]\n",
    "        aux4['category_cleaned'] = d\n",
    "        aux4 = aux4[['category_cleaned', '%']]\n",
    "        reorder = reorder.append(aux4)\n",
    "    for g in category:\n",
    "        if len(reorder[reorder['category_cleaned'] == g]) == 0:\n",
    "            reorder = reorder.append({'category_cleaned': g, '%': 0}, ignore_index=True)\n",
    "    # plot graph with annotations\n",
    "    reorder = reorder.sort_values('%', ascending=False)\n",
    "    reorder['hex'] = palette_topics[:-1]\n",
    "    aux1 = pd.DataFrame(category, columns =['category_cleaned'])\n",
    "    aux1 = aux1.merge(reorder, how = 'left', on = 'category_cleaned')\n",
    "    sns.set_style('white')\n",
    "    splot = sns.barplot(y = 'category_cleaned', x = '%', data = aux1, palette = list(aux1['hex']), order = category);\n",
    "    for p in splot.patches:\n",
    "        splot.annotate(\"%.2f\" % p.get_width(), xy=(p.get_width(), p.get_y()+p.get_height()/2),\n",
    "                       xytext=(5,0), textcoords='offset points', ha='left', va='center')\n",
    "    plt.title(f\"{f}\")\n",
    "    plt.yticks(fontsize =16)\n",
    "    plt.xlabel(\"\")\n",
    "    plt.ylabel(\"\")\n",
    "    plt.xlim(0, 100)\n",
    "    splot.axes.get_yaxis().set_visible(False)\n",
    "    if e == 0:\n",
    "        splot.axes.get_yaxis().set_visible(True)\n",
    "    if e == 5:\n",
    "        splot.axes.get_yaxis().set_visible(True)\n",
    "    #         splot.spines['right'].set_visible(False)\n",
    "    #         splot.spines['top'].set_visible(False)\n",
    "    #         splot.spines['left'].set_visible(False)\n",
    "    #         splot.spines['bottom'].set_visible(False)\n",
    "    splot.axes.get_xaxis().set_visible(False)\n",
    "    #         splot.axes.get_yaxis().set_visible(False)\n",
    "plt.subplots_adjust(hspace=0.1)\n",
    "plt.subplots_adjust(wspace=0.1)\n",
    "plt.show()"
   ]
  },
  {
   "cell_type": "markdown",
   "metadata": {
    "heading_collapsed": true,
    "hidden": true
   },
   "source": [
    "#### Producer Office"
   ]
  },
  {
   "cell_type": "markdown",
   "metadata": {
    "hidden": true
   },
   "source": [
    "- For this analysis, repurchases can be related to any producer within the same office. \n",
    "- Premise: if a repurchase was related to a producer from a different office, this purchase will be discarded. "
   ]
  },
  {
   "cell_type": "code",
   "execution_count": null,
   "metadata": {
    "ExecuteTime": {
     "end_time": "2022-08-22T13:28:52.111879Z",
     "start_time": "2022-08-22T13:28:18.181585Z"
    },
    "hidden": true
   },
   "outputs": [],
   "source": [
    "prov = df3[df3['category_cleaned'] != 'SPARKLE']\n",
    "# get list\n",
    "category = list(prov[['category_cleaned', 'purchase_id']].groupby('category_cleaned').count().reset_index().sort_values('purchase_id', ascending=False)['category_cleaned'])\n",
    "office = list(df3[['user_office_name', 'purchase_id']].groupby('user_office_name').count().reset_index().sort_values('purchase_id', ascending=False)['user_office_name'])\n",
    "\n",
    "plt.figure(figsize = (15,20))\n",
    "for e, f in enumerate(office):\n",
    "    plt.subplot(2,3,e+1)\n",
    "    aux0 = prov[prov['user_office_name'] == f]\n",
    "    aux1 = aux0[['purchase_id', 'category_cleaned']].groupby('category_cleaned').count().reset_index()\n",
    "    aux1['%'] = aux1['purchase_id'] / aux1['purchase_id'].sum() * 100\n",
    "    for g in category:\n",
    "        if len(aux1[aux1['category_cleaned'] == g]) == 0:\n",
    "            aux1 = aux1.append({'category_cleaned': g, 'purchase_id': 0, '%': 0}, ignore_index=True)\n",
    "    # plot graph with annotations\n",
    "    aux1 = aux1.sort_values('%', ascending=False)\n",
    "    aux1['hex'] = palette_topics[:-1]\n",
    "    aux2 = pd.DataFrame(category, columns =['category_cleaned'])\n",
    "    aux2 = aux2.merge(aux1, how = 'left', on = 'category_cleaned')\n",
    "    sns.set_style('white')\n",
    "    splot = sns.barplot(y = 'category_cleaned', x = '%', data = aux2, palette = list(aux2['hex']), order = category);\n",
    "    for p in splot.patches:\n",
    "        splot.annotate(\"%.2f\" % p.get_width() + '%', xy=(p.get_width(), p.get_y()+p.get_height()/2),\n",
    "                       xytext=(5,0), textcoords='offset points', ha='left', va='center', color = '#707780')\n",
    "    plt.title(f\"{f} | {aux1['purchase_id'].sum():,}\", color =  '#707780')\n",
    "    plt.yticks(fontsize =16)\n",
    "    plt.xlabel(\"\")\n",
    "    plt.ylabel(\"\")\n",
    "    plt.xlim(0, 50)\n",
    "    splot.axes.get_yaxis().set_visible(False)\n",
    "    if e == 0:\n",
    "        splot.axes.get_yaxis().set_visible(True)\n",
    "    if e == 3:\n",
    "        splot.axes.get_yaxis().set_visible(True)\n",
    "    if e == 4:\n",
    "        plt.xlabel(\"Num of Purchases (%)\")\n",
    "    if e != 4:\n",
    "        splot.axes.get_xaxis().set_visible(False)\n",
    "    #         splot.spines['right'].set_visible(False)\n",
    "    #         splot.spines['top'].set_visible(False)\n",
    "    #         splot.spines['left'].set_visible(False)\n",
    "    #         splot.spines['bottom'].set_visible(False)\n",
    "     \n",
    "    #         splot.axes.get_yaxis().set_visible(False)\n",
    "plt.subplots_adjust(hspace=0.1)\n",
    "plt.subplots_adjust(wspace=0.1)\n",
    "plt.show()"
   ]
  },
  {
   "cell_type": "code",
   "execution_count": null,
   "metadata": {
    "ExecuteTime": {
     "end_time": "2022-09-08T19:44:16.169727Z",
     "start_time": "2022-09-08T19:41:48.319525Z"
    },
    "hidden": true
   },
   "outputs": [],
   "source": [
    "prov = df3[df3['category_cleaned'] != 'SPARKLE']\n",
    "# get list\n",
    "category = list(prov[['category_cleaned', 'purchase_id']].groupby('category_cleaned').count().reset_index().sort_values('purchase_id', ascending=False)['category_cleaned'])\n",
    "office = list(df3[['user_office_name', 'purchase_id']].groupby('user_office_name').count().reset_index().sort_values('purchase_id', ascending=False)['user_office_name'])\n",
    "\n",
    "plt.figure(figsize = (15,20))\n",
    "for e, f in enumerate(office):\n",
    "    plt.subplot(2,3,e+1)\n",
    "    reorder = pd.DataFrame()\n",
    "    aux0 = prov[prov['user_office_name'] == f]\n",
    "    for n, d in enumerate(category):\n",
    "        ### count purchases per user\n",
    "        aux1 = aux0[aux0['category_cleaned'] == d]\n",
    "        aux2 = aux1[['user_buyer_id', 'purchase_id']].groupby('user_buyer_id').count().reset_index()\n",
    "        aux2.columns = ['user_buyer_id', 'no_repurchase_temp']\n",
    "        aux1 = aux1.merge(aux2, how = 'left', on = 'user_buyer_id')\n",
    "        ### flag repurchase\n",
    "        aux1['repurchase_temp'] = aux1['no_repurchase_temp'].apply(lambda x : 'repurchase' if x > 1 else 'single-purchase')    \n",
    "\n",
    "        # get vol of users with purchase\n",
    "        aux1 = aux1[['no_repurchase_temp','repurchase_temp',  'user_buyer_id']].groupby(['repurchase_temp','no_repurchase_temp']).nunique().reset_index()\n",
    "        aux1['%'] = aux1['user_buyer_id'] / aux1['user_buyer_id'].sum() * 100\n",
    "        aux1 = aux1.sort_values('%', ascending=False)\n",
    "        # get users who repurchase\n",
    "        aux3 = aux1[['repurchase_temp', 'user_buyer_id']].groupby('repurchase_temp').sum().reset_index()\n",
    "        aux3['%'] = aux3['user_buyer_id'] / aux3['user_buyer_id'].sum() * 100\n",
    "        aux4 = aux3[aux3['repurchase_temp'] == 'repurchase'][['%']]\n",
    "        aux4['category_cleaned'] = d\n",
    "        aux4 = aux4[['category_cleaned', '%']]\n",
    "        reorder = reorder.append(aux4)\n",
    "    for g in category:\n",
    "        if len(reorder[reorder['category_cleaned'] == g]) == 0:\n",
    "            reorder = reorder.append({'category_cleaned': g, '%': 0}, ignore_index=True)\n",
    "    # plot graph with annotations\n",
    "    reorder = reorder.sort_values('%', ascending=False)\n",
    "    reorder['hex'] = palette_topics[:-1]\n",
    "    aux1 = pd.DataFrame(category, columns =['category_cleaned'])\n",
    "    aux1 = aux1.merge(reorder, how = 'left', on = 'category_cleaned')\n",
    "    sns.set_style('white')\n",
    "    splot = sns.barplot(y = 'category_cleaned', x = '%', data = aux1, palette = palette_topics, order = category);\n",
    "    for p in splot.patches:\n",
    "        splot.annotate(\"%.2f\" % p.get_width() + '%', xy=(p.get_width(), p.get_y()+p.get_height()/2),\n",
    "                       xytext=(5,0), textcoords='offset points', ha='left', va='center', color =  '#707780')\n",
    "    plt.title(f\"{f}\", color =  '#707780')\n",
    "    plt.yticks(fontsize =16)\n",
    "    plt.xlabel(\"\")\n",
    "    plt.ylabel(\"\")\n",
    "    plt.xlim(0, 20)\n",
    "    splot.axes.get_yaxis().set_visible(False)\n",
    "    if e == 0:\n",
    "        splot.axes.get_yaxis().set_visible(True)\n",
    "    if e == 3:\n",
    "        splot.axes.get_yaxis().set_visible(True)\n",
    "    if e == 4:\n",
    "        plt.xlabel(\"\")\n",
    "    if e != 4:\n",
    "        splot.axes.get_xaxis().set_visible(False)\n",
    "    #         splot.spines['right'].set_visible(False)\n",
    "    #         splot.spines['top'].set_visible(False)\n",
    "    #         splot.spines['left'].set_visible(False)\n",
    "    #         splot.spines['bottom'].set_visible(False)\n",
    "#     splot.axes.get_xaxis().set_visible(False)\n",
    "    #         splot.axes.get_yaxis().set_visible(False)\n",
    "    \n",
    "    splot.yaxis.label.set_color('#707780')\n",
    "    splot.spines['left'].set_color('#707780')\n",
    "    splot.spines['right'].set_color('#707780')\n",
    "    splot.spines['top'].set_color('#707780')\n",
    "    splot.spines['bottom'].set_color('#707780')\n",
    "    splot.tick_params(axis='y', colors='#707780',labelsize=16, pad = 30)\n",
    "\n",
    "plt.subplots_adjust(hspace=0.1)\n",
    "plt.subplots_adjust(wspace=0.1)\n",
    "plt.show()"
   ]
  },
  {
   "cell_type": "markdown",
   "metadata": {
    "hidden": true
   },
   "source": [
    "##### Producer Office - Brazil"
   ]
  },
  {
   "cell_type": "code",
   "execution_count": null,
   "metadata": {
    "ExecuteTime": {
     "end_time": "2022-09-14T22:21:51.994380Z",
     "start_time": "2022-09-14T22:20:12.841440Z"
    },
    "hidden": true,
    "scrolled": false
   },
   "outputs": [],
   "source": [
    "country = 'BRAZIL'\n",
    "prov = df3[(df3['category_cleaned'] != 'SPARKLE') & (df3['user_office_name'] == country)]\n",
    "# calculate repurchase\n",
    "category = list(prov[['category_cleaned', 'purchase_id']].groupby('category_cleaned').count().reset_index().sort_values('purchase_id', ascending=False)['category_cleaned'])\n",
    "reorder = pd.DataFrame()\n",
    "share_gmv = pd.DataFrame()\n",
    "median_gmv = pd.DataFrame()\n",
    "overall_gmv = pd.DataFrame()\n",
    "\n",
    "for n, d in enumerate(category):\n",
    "    ### count purchases per user\n",
    "    aux1 = prov[(prov['category_cleaned'] == d)]\n",
    "    ### global median\n",
    "    global_med = pd.DataFrame({'category_cleaned' : [d], 'overall_median_gmv': aux1['gmv_value_brl'].median()})\n",
    "    overall_gmv = pd.concat([overall_gmv, global_med])\n",
    "    aux2 = aux1[['user_buyer_id', 'purchase_id']].groupby('user_buyer_id').count().reset_index()\n",
    "    aux2.columns = ['user_buyer_id', 'no_repurchase_temp']\n",
    "    aux1 = aux1.merge(aux2, how = 'left', on = 'user_buyer_id')\n",
    "    ### flag repurchase\n",
    "    aux1['repurchase_temp'] = aux1['no_repurchase_temp'].apply(lambda x : 'repurchase' if x > 1 else 'single-purchase')    \n",
    "    \n",
    "    ### calculate gmv captured by users who repurchase \n",
    "    share = aux1[['repurchase_temp', 'gmv_value_brl']].groupby('repurchase_temp').sum().reset_index()\n",
    "    share['gmv_share_repurchase'] = share['gmv_value_brl'] / share['gmv_value_brl'].sum() * 100\n",
    "    share = share[share['repurchase_temp'] == 'repurchase']\n",
    "    share['category_cleaned'] = d\n",
    "    share.columns = ['repurchase', 'gmv_value_brl_repurchase', 'gmv_share_repurchase', 'category_cleaned']\n",
    "    share = share[['category_cleaned', 'gmv_share_repurchase', 'gmv_value_brl_repurchase']]\n",
    "    share_gmv = share_gmv.append(share)\n",
    "\n",
    "    med = aux1[['user_buyer_id', 'repurchase_temp', \n",
    "                'gmv_value_brl']].groupby(['user_buyer_id','repurchase_temp']).sum().reset_index()\n",
    "    med = med[med['gmv_value_brl'] > 0]\n",
    "    med = med[['repurchase_temp', 'gmv_value_brl']].groupby('repurchase_temp').median().reset_index()\n",
    "    med = med[med['repurchase_temp'] == 'repurchase']\n",
    "    med.columns = ['repurchase', 'median_gmv_repurchase']\n",
    "    med['category_cleaned'] = d\n",
    "    med = med[['category_cleaned', 'median_gmv_repurchase']]\n",
    "    median_gmv = median_gmv.append(med)\n",
    "    \n",
    "    # get vol of users with purchase\n",
    "    rr = aux1[['no_repurchase_temp','repurchase_temp',  'user_buyer_id']].groupby(['repurchase_temp','no_repurchase_temp']).nunique().reset_index()\n",
    "    rr['%'] = rr['user_buyer_id'] / rr['user_buyer_id'].sum() * 100\n",
    "    rr = rr.sort_values('%', ascending=False)\n",
    "    # get users who repurchase\n",
    "    rr2 = rr[['repurchase_temp', 'user_buyer_id']].groupby('repurchase_temp').sum().reset_index()\n",
    "    rr2['%'] = rr2['user_buyer_id'] / rr2['user_buyer_id'].sum() * 100\n",
    "    rr3 = rr2[rr2['repurchase_temp'] == 'repurchase'][['%']]\n",
    "    rr3['category_cleaned'] = d\n",
    "    rr3 = rr3[['category_cleaned', '%']]\n",
    "    reorder = reorder.append(rr3)\n",
    "    \n",
    "# sort df\n",
    "reorder = reorder.sort_values('%', ascending=False)\n",
    "share_gmv = share_gmv.sort_values('gmv_share_repurchase', ascending=False)\n",
    "median_gmv = median_gmv.sort_values('median_gmv_repurchase', ascending=False)\n",
    "\n",
    "# set main dataset\n",
    "reorder = reorder.merge(share_gmv, \n",
    "                        how = 'left', \n",
    "                        on = 'category_cleaned').merge(median_gmv, \n",
    "                                                    how = 'left', \n",
    "                                                    on = 'category_cleaned').merge(overall_gmv, \n",
    "                                                                        how = 'left', \n",
    "                                                                        on = 'category_cleaned').sort_values('%', ascending=False)\n",
    "reorder['median_lower'] = reorder.apply(lambda x: 1 if x['median_gmv_repurchase'] < x['overall_median_gmv'] else 0, axis = 1)\n",
    "reorder['diff_median'] = (reorder['median_gmv_repurchase'] - reorder['overall_median_gmv']) / reorder['overall_median_gmv'] * 100\n",
    "reorder['diff_median_abs'] = abs(reorder['diff_median'])\n",
    "# reorder[['gmv_share_repurchase', 'diff_median']].corr()\n",
    "# sns.lmplot(x ='gmv_share_repurchase', y = 'diff_median', data = reorder);\n",
    "\n",
    "# # set palette\n",
    "# palette_categories_analysis = list()\n",
    "# for n in list(reorder['category_cleaned']):\n",
    "#     if int(reorder[reorder['category_cleaned'] == n]['median_lower']) == 1:\n",
    "#         palette_categories_analysis = palette_categories_analysis + ['r']\n",
    "#     else:\n",
    "#         palette_categories_analysis = palette_categories_analysis + ['g']\n",
    "\n",
    "# set palette\n",
    "palette_categories_analysis = list()\n",
    "for n in list(reorder['category_cleaned']):\n",
    "        palette_categories_analysis = palette_categories_analysis + ['#EF4E23']\n",
    "        \n",
    "fonttitle = 45\n",
    "annotate_size = 45\n",
    "plt.figure(figsize = (35,40))\n",
    "plt.subplot(141)\n",
    "# plot graph with annotations\n",
    "\n",
    "# '#707780' (grey)\n",
    "\n",
    "sns.set_style('white')\n",
    "splot = sns.barplot(y = 'category_cleaned', x = '%', data = reorder, palette = palette_categories_analysis, order = reorder.sort_values('%', ascending=False)['category_cleaned']);\n",
    "\n",
    "for p in splot.patches:\n",
    "    splot.annotate(\" %.1f\" % p.get_width() + '%', xy=(p.get_width(), p.get_y()+p.get_height()/2),\n",
    "                   xytext=(5,0), textcoords='offset points', \n",
    "                   ha='left', va='center', fontsize = annotate_size, color = '#707780')\n",
    "splot.set_title(f\"Reorder Rate (%)\\n\" + \" \\n\" + \" \", color =  '#707780' , fontsize = fonttitle, loc = 'left', pad=40)\n",
    "\n",
    "# plt.yticks(fontsize =20)\n",
    "plt.ylabel(\"\")\n",
    "plt.xlim(0, 60)\n",
    "# splot.tick_params(labelsize=15)\n",
    "splot.yaxis.label.set_color('#707780')\n",
    "splot.spines['left'].set_color('#707780')\n",
    "splot.tick_params(axis='y', colors='#707780',labelsize=50, pad = 30)\n",
    "#     splot.axes.get_yaxis().set_visible(False)\n",
    "splot.spines['right'].set_visible(False)\n",
    "splot.spines['top'].set_visible(False)\n",
    "splot.spines['left'].set_visible(False)\n",
    "splot.spines['bottom'].set_visible(False)\n",
    "splot.axes.get_xaxis().set_visible(False)\n",
    "# plt.xlabel(f\"{aux3['user_buyer_id'].sum():,}\", color = '#707780', fontsize = 30)\n",
    "\n",
    "plt.subplot(142)\n",
    "sns.set_style('white')\n",
    "splot = sns.barplot(y = 'category_cleaned', x = 'gmv_share_repurchase', data = reorder, \n",
    "                    palette = palette_categories_analysis, \n",
    "                    order = list(reorder.sort_values('%', ascending=False)['category_cleaned']));\n",
    "\n",
    "for p in splot.patches:\n",
    "    splot.annotate(\" %.1f\" % p.get_width() + '%', xy=(p.get_width(), p.get_y()+p.get_height()/2),\n",
    "                   xytext=(5,0), textcoords='offset points', \n",
    "                   ha='left', va='center', fontsize = annotate_size, color = '#707780')\n",
    "splot.set_title(f\"Generated GMV (%)\\n\" + \"from buyers\\n\" + \"who repurchase \" , color =  '#707780' , fontsize = fonttitle, loc = 'left', pad=40)\n",
    "\n",
    "# plt.yticks(fontsize =20)\n",
    "plt.ylabel(\"\")\n",
    "plt.xlim(0, 60)\n",
    "# splot.tick_params(labelsize=15)\n",
    "splot.yaxis.label.set_color('#707780')\n",
    "splot.spines['left'].set_color('#707780')\n",
    "# splot.tick_params(axis='y', colors='#707780',labelsize=40, pad = 30)\n",
    "splot.axes.get_yaxis().set_visible(False)\n",
    "splot.spines['right'].set_visible(False)\n",
    "splot.spines['top'].set_visible(False)\n",
    "splot.spines['left'].set_visible(False)\n",
    "splot.spines['bottom'].set_visible(False)\n",
    "splot.axes.get_xaxis().set_visible(False)\n",
    "\n",
    "\n",
    "plt.subplot(143)\n",
    "sns.set_style('white')\n",
    "splot = sns.barplot(y = 'category_cleaned', x = 'overall_median_gmv', data = reorder, \n",
    "                    palette = palette_categories_analysis, \n",
    "                    order = list(reorder.sort_values('%', ascending=False)['category_cleaned']));\n",
    "\n",
    "for p in splot.patches:\n",
    "    splot.annotate(\" %.0f\" % p.get_width(), xy=(p.get_width(), p.get_y()+p.get_height()/2),\n",
    "                   xytext=(5,0), textcoords='offset points', \n",
    "                   ha='left', va='center', fontsize = annotate_size, color = '#707780')\n",
    "splot.set_title(f\"Global Avg. Ticket\\n\" + \"Price (BRL)\\n\" + \" \" , color =  '#707780' , fontsize = fonttitle, loc = 'left', pad=40)\n",
    "\n",
    "# plt.yticks(fontsize =20)\n",
    "plt.ylabel(\"\")\n",
    "plt.xlim(0, 2000)\n",
    "# splot.tick_params(labelsize=15)\n",
    "splot.yaxis.label.set_color('#707780')\n",
    "splot.spines['left'].set_color('#707780')\n",
    "# splot.tick_params(axis='y', colors='#707780',labelsize=40, pad = 30)\n",
    "splot.axes.get_yaxis().set_visible(False)\n",
    "splot.spines['right'].set_visible(False)\n",
    "splot.spines['top'].set_visible(False)\n",
    "splot.spines['left'].set_visible(False)\n",
    "splot.spines['bottom'].set_visible(False)\n",
    "splot.axes.get_xaxis().set_visible(False)\n",
    "\n",
    "plt.subplot(144)\n",
    "sns.set_style('white')\n",
    "splot = sns.barplot(y = 'category_cleaned', x = 'median_gmv_repurchase', data = reorder, \n",
    "                    palette = palette_categories_analysis, \n",
    "                    order = list(reorder.sort_values('%', ascending=False)['category_cleaned']));\n",
    "\n",
    "for n, p in zip(reorder['diff_median'], splot.patches):\n",
    "    splot.annotate(\" %.0f\" % p.get_width() + ' ' + \"(%.1f p.p)\" % n, xy=(p.get_width(), \n",
    "                                                                      p.get_y()+p.get_height()/2),xytext=(5,0), \n",
    "    textcoords='offset points', ha='left', va='center', fontsize = annotate_size, color = '#707780')\n",
    "\n",
    "splot.set_title(f\"Avg. Ticket Price (BRL)\\n\" + \"from buyers who repurchase\\n\" + \"(% diff from global ticket price)\" , color =  '#707780' , fontsize = fonttitle, loc = 'left', pad=40)\n",
    "\n",
    "# plt.yticks(fontsize =20)\n",
    "plt.ylabel(\"\")\n",
    "plt.xlim(0, 2000)\n",
    "# splot.tick_params(labelsize=15)\n",
    "splot.yaxis.label.set_color('#707780')\n",
    "splot.spines['left'].set_color('#707780')\n",
    "# splot.tick_params(axis='y', colors='#707780',labelsize=40, pad = 30)\n",
    "splot.axes.get_yaxis().set_visible(False)\n",
    "splot.spines['right'].set_visible(False)\n",
    "splot.spines['top'].set_visible(False)\n",
    "splot.spines['left'].set_visible(False)\n",
    "splot.spines['bottom'].set_visible(False)\n",
    "splot.axes.get_xaxis().set_visible(False)\n",
    "# plt.subplots_adjust(hspace=0.2)\n",
    "# plt.subplots_adjust(hspace=0.2)\n",
    "plt.subplots_adjust(wspace=0.05)\n",
    "plt.show()"
   ]
  },
  {
   "cell_type": "markdown",
   "metadata": {
    "hidden": true
   },
   "source": [
    "##### Producer Office - Colombia"
   ]
  },
  {
   "cell_type": "code",
   "execution_count": null,
   "metadata": {
    "ExecuteTime": {
     "end_time": "2022-09-14T22:22:06.452685Z",
     "start_time": "2022-09-14T22:21:52.000346Z"
    },
    "hidden": true,
    "scrolled": false
   },
   "outputs": [],
   "source": [
    "country = 'COLOMBIA'\n",
    "prov = df3[(df3['category_cleaned'] != 'SPARKLE') & (df3['user_office_name'] == country)]\n",
    "# calculate repurchase\n",
    "category = list(prov[['category_cleaned', 'purchase_id']].groupby('category_cleaned').count().reset_index().sort_values('purchase_id', ascending=False)['category_cleaned'])\n",
    "reorder = pd.DataFrame()\n",
    "share_gmv = pd.DataFrame()\n",
    "median_gmv = pd.DataFrame()\n",
    "overall_gmv = pd.DataFrame()\n",
    "\n",
    "for n, d in enumerate(category):\n",
    "    ### count purchases per user\n",
    "    aux1 = prov[(prov['category_cleaned'] == d)]\n",
    "    ### global median\n",
    "    global_med = pd.DataFrame({'category_cleaned' : [d], 'overall_median_gmv': aux1['gmv_value_brl'].median()})\n",
    "    overall_gmv = pd.concat([overall_gmv, global_med])\n",
    "    aux2 = aux1[['user_buyer_id', 'purchase_id']].groupby('user_buyer_id').count().reset_index()\n",
    "    aux2.columns = ['user_buyer_id', 'no_repurchase_temp']\n",
    "    aux1 = aux1.merge(aux2, how = 'left', on = 'user_buyer_id')\n",
    "    ### flag repurchase\n",
    "    aux1['repurchase_temp'] = aux1['no_repurchase_temp'].apply(lambda x : 'repurchase' if x > 1 else 'single-purchase')    \n",
    "    \n",
    "    ### calculate gmv captured by users who repurchase \n",
    "    share = aux1[['repurchase_temp', 'gmv_value_brl']].groupby('repurchase_temp').sum().reset_index()\n",
    "    share['gmv_share_repurchase'] = share['gmv_value_brl'] / share['gmv_value_brl'].sum() * 100\n",
    "    share = share[share['repurchase_temp'] == 'repurchase']\n",
    "    share['category_cleaned'] = d\n",
    "    share.columns = ['repurchase', 'gmv_value_brl_repurchase', 'gmv_share_repurchase', 'category_cleaned']\n",
    "    share = share[['category_cleaned', 'gmv_share_repurchase', 'gmv_value_brl_repurchase']]\n",
    "    share_gmv = share_gmv.append(share)\n",
    "\n",
    "    med = aux1[['user_buyer_id', 'repurchase_temp', \n",
    "                'gmv_value_brl']].groupby(['user_buyer_id','repurchase_temp']).sum().reset_index()\n",
    "    med = med[med['gmv_value_brl'] > 0]\n",
    "    med = med[['repurchase_temp', 'gmv_value_brl']].groupby('repurchase_temp').median().reset_index()\n",
    "    med = med[med['repurchase_temp'] == 'repurchase']\n",
    "    med.columns = ['repurchase', 'median_gmv_repurchase']\n",
    "    med['category_cleaned'] = d\n",
    "    med = med[['category_cleaned', 'median_gmv_repurchase']]\n",
    "    median_gmv = median_gmv.append(med)\n",
    "    \n",
    "    # get vol of users with purchase\n",
    "    rr = aux1[['no_repurchase_temp','repurchase_temp',  'user_buyer_id']].groupby(['repurchase_temp','no_repurchase_temp']).nunique().reset_index()\n",
    "    rr['%'] = rr['user_buyer_id'] / rr['user_buyer_id'].sum() * 100\n",
    "    rr = rr.sort_values('%', ascending=False)\n",
    "    # get users who repurchase\n",
    "    rr2 = rr[['repurchase_temp', 'user_buyer_id']].groupby('repurchase_temp').sum().reset_index()\n",
    "    rr2['%'] = rr2['user_buyer_id'] / rr2['user_buyer_id'].sum() * 100\n",
    "    rr3 = rr2[rr2['repurchase_temp'] == 'repurchase'][['%']]\n",
    "    rr3['category_cleaned'] = d\n",
    "    rr3 = rr3[['category_cleaned', '%']]\n",
    "    reorder = reorder.append(rr3)\n",
    "    \n",
    "# sort df\n",
    "reorder = reorder.sort_values('%', ascending=False)\n",
    "share_gmv = share_gmv.sort_values('gmv_share_repurchase', ascending=False)\n",
    "median_gmv = median_gmv.sort_values('median_gmv_repurchase', ascending=False)\n",
    "\n",
    "# set main dataset\n",
    "reorder = reorder.merge(share_gmv, \n",
    "                        how = 'left', \n",
    "                        on = 'category_cleaned').merge(median_gmv, \n",
    "                                                    how = 'left', \n",
    "                                                    on = 'category_cleaned').merge(overall_gmv, \n",
    "                                                                        how = 'left', \n",
    "                                                                        on = 'category_cleaned').sort_values('%', ascending=False)\n",
    "reorder['median_lower'] = reorder.apply(lambda x: 1 if x['median_gmv_repurchase'] < x['overall_median_gmv'] else 0, axis = 1)\n",
    "reorder['diff_median'] = (reorder['median_gmv_repurchase'] - reorder['overall_median_gmv']) / reorder['overall_median_gmv'] * 100\n",
    "reorder['diff_median_abs'] = abs(reorder['diff_median'])\n",
    "# reorder[['gmv_share_repurchase', 'diff_median']].corr()\n",
    "# sns.lmplot(x ='gmv_share_repurchase', y = 'diff_median', data = reorder);\n",
    "\n",
    "# # set palette\n",
    "# palette_categories_analysis = list()\n",
    "# for n in list(reorder['category_cleaned']):\n",
    "#     if int(reorder[reorder['category_cleaned'] == n]['median_lower']) == 1:\n",
    "#         palette_categories_analysis = palette_categories_analysis + ['r']\n",
    "#     else:\n",
    "#         palette_categories_analysis = palette_categories_analysis + ['g']\n",
    "\n",
    "# set palette\n",
    "palette_categories_analysis = list()\n",
    "for n in list(reorder['category_cleaned']):\n",
    "        palette_categories_analysis = palette_categories_analysis + ['#EF4E23']\n",
    "        \n",
    "fonttitle = 45\n",
    "annotate_size = 45\n",
    "plt.figure(figsize = (35,40))\n",
    "plt.subplot(141)\n",
    "# plot graph with annotations\n",
    "\n",
    "# '#707780' (grey)\n",
    "\n",
    "sns.set_style('white')\n",
    "splot = sns.barplot(y = 'category_cleaned', x = '%', data = reorder, palette = palette_categories_analysis, order = reorder.sort_values('%', ascending=False)['category_cleaned']);\n",
    "\n",
    "for p in splot.patches:\n",
    "    splot.annotate(\" %.1f\" % p.get_width() + '%', xy=(p.get_width(), p.get_y()+p.get_height()/2),\n",
    "                   xytext=(5,0), textcoords='offset points', \n",
    "                   ha='left', va='center', fontsize = annotate_size, color = '#707780')\n",
    "splot.set_title(f\"Reorder Rate (%)\\n\" + \" \\n\" + \" \", color =  '#707780' , fontsize = fonttitle, loc = 'left', pad=40)\n",
    "\n",
    "# plt.yticks(fontsize =20)\n",
    "plt.ylabel(\"\")\n",
    "plt.xlim(0, 60)\n",
    "# splot.tick_params(labelsize=15)\n",
    "splot.yaxis.label.set_color('#707780')\n",
    "splot.spines['left'].set_color('#707780')\n",
    "splot.tick_params(axis='y', colors='#707780',labelsize=50, pad = 30)\n",
    "#     splot.axes.get_yaxis().set_visible(False)\n",
    "splot.spines['right'].set_visible(False)\n",
    "splot.spines['top'].set_visible(False)\n",
    "splot.spines['left'].set_visible(False)\n",
    "splot.spines['bottom'].set_visible(False)\n",
    "splot.axes.get_xaxis().set_visible(False)\n",
    "# plt.xlabel(f\"{aux3['user_buyer_id'].sum():,}\", color = '#707780', fontsize = 30)\n",
    "\n",
    "plt.subplot(142)\n",
    "sns.set_style('white')\n",
    "splot = sns.barplot(y = 'category_cleaned', x = 'gmv_share_repurchase', data = reorder, \n",
    "                    palette = palette_categories_analysis, \n",
    "                    order = list(reorder.sort_values('%', ascending=False)['category_cleaned']));\n",
    "\n",
    "for p in splot.patches:\n",
    "    splot.annotate(\" %.1f\" % p.get_width() + '%', xy=(p.get_width(), p.get_y()+p.get_height()/2),\n",
    "                   xytext=(5,0), textcoords='offset points', \n",
    "                   ha='left', va='center', fontsize = annotate_size, color = '#707780')\n",
    "splot.set_title(f\"Generated GMV (%)\\n\" + \"from buyers\\n\" + \"who repurchase \" , color =  '#707780' , fontsize = fonttitle, loc = 'left', pad=40)\n",
    "\n",
    "# plt.yticks(fontsize =20)\n",
    "plt.ylabel(\"\")\n",
    "plt.xlim(0, 60)\n",
    "# splot.tick_params(labelsize=15)\n",
    "splot.yaxis.label.set_color('#707780')\n",
    "splot.spines['left'].set_color('#707780')\n",
    "# splot.tick_params(axis='y', colors='#707780',labelsize=40, pad = 30)\n",
    "splot.axes.get_yaxis().set_visible(False)\n",
    "splot.spines['right'].set_visible(False)\n",
    "splot.spines['top'].set_visible(False)\n",
    "splot.spines['left'].set_visible(False)\n",
    "splot.spines['bottom'].set_visible(False)\n",
    "splot.axes.get_xaxis().set_visible(False)\n",
    "\n",
    "\n",
    "plt.subplot(143)\n",
    "sns.set_style('white')\n",
    "splot = sns.barplot(y = 'category_cleaned', x = 'overall_median_gmv', data = reorder, \n",
    "                    palette = palette_categories_analysis, \n",
    "                    order = list(reorder.sort_values('%', ascending=False)['category_cleaned']));\n",
    "\n",
    "for p in splot.patches:\n",
    "    splot.annotate(\" %.0f\" % p.get_width(), xy=(p.get_width(), p.get_y()+p.get_height()/2),\n",
    "                   xytext=(5,0), textcoords='offset points', \n",
    "                   ha='left', va='center', fontsize = annotate_size, color = '#707780')\n",
    "splot.set_title(f\"Global Avg. Ticket\\n\" + \"Price (BRL)\\n\" + \" \" , color =  '#707780' , fontsize = fonttitle, loc = 'left', pad=40)\n",
    "\n",
    "# plt.yticks(fontsize =20)\n",
    "plt.ylabel(\"\")\n",
    "plt.xlim(0, 2000)\n",
    "# splot.tick_params(labelsize=15)\n",
    "splot.yaxis.label.set_color('#707780')\n",
    "splot.spines['left'].set_color('#707780')\n",
    "# splot.tick_params(axis='y', colors='#707780',labelsize=40, pad = 30)\n",
    "splot.axes.get_yaxis().set_visible(False)\n",
    "splot.spines['right'].set_visible(False)\n",
    "splot.spines['top'].set_visible(False)\n",
    "splot.spines['left'].set_visible(False)\n",
    "splot.spines['bottom'].set_visible(False)\n",
    "splot.axes.get_xaxis().set_visible(False)\n",
    "\n",
    "plt.subplot(144)\n",
    "sns.set_style('white')\n",
    "splot = sns.barplot(y = 'category_cleaned', x = 'median_gmv_repurchase', data = reorder, \n",
    "                    palette = palette_categories_analysis, \n",
    "                    order = list(reorder.sort_values('%', ascending=False)['category_cleaned']));\n",
    "\n",
    "for n, p in zip(reorder['diff_median'], splot.patches):\n",
    "    splot.annotate(\" %.0f\" % p.get_width() + ' ' + \"(%.1f p.p)\" % n, xy=(p.get_width(), \n",
    "                                                                      p.get_y()+p.get_height()/2),xytext=(5,0), \n",
    "    textcoords='offset points', ha='left', va='center', fontsize = annotate_size, color = '#707780')\n",
    "\n",
    "splot.set_title(f\"Avg. Ticket Price (BRL)\\n\" + \"from buyers who repurchase\\n\" + \"(% diff from global ticket price)\" , color =  '#707780' , fontsize = fonttitle, loc = 'left', pad=40)\n",
    "\n",
    "# plt.yticks(fontsize =20)\n",
    "plt.ylabel(\"\")\n",
    "plt.xlim(0, 2000)\n",
    "# splot.tick_params(labelsize=15)\n",
    "splot.yaxis.label.set_color('#707780')\n",
    "splot.spines['left'].set_color('#707780')\n",
    "# splot.tick_params(axis='y', colors='#707780',labelsize=40, pad = 30)\n",
    "splot.axes.get_yaxis().set_visible(False)\n",
    "splot.spines['right'].set_visible(False)\n",
    "splot.spines['top'].set_visible(False)\n",
    "splot.spines['left'].set_visible(False)\n",
    "splot.spines['bottom'].set_visible(False)\n",
    "splot.axes.get_xaxis().set_visible(False)\n",
    "# plt.subplots_adjust(hspace=0.2)\n",
    "# plt.subplots_adjust(hspace=0.2)\n",
    "plt.subplots_adjust(wspace=0.05)\n",
    "plt.show()"
   ]
  },
  {
   "cell_type": "markdown",
   "metadata": {
    "hidden": true
   },
   "source": [
    "##### Producer Office - Mexico"
   ]
  },
  {
   "cell_type": "code",
   "execution_count": null,
   "metadata": {
    "ExecuteTime": {
     "end_time": "2022-09-14T22:22:13.238936Z",
     "start_time": "2022-09-14T22:22:06.456920Z"
    },
    "hidden": true,
    "scrolled": false
   },
   "outputs": [],
   "source": [
    "country = 'MEXICO'\n",
    "prov = df3[(df3['category_cleaned'] != 'SPARKLE') & (df3['user_office_name'] == country)]\n",
    "# calculate repurchase\n",
    "category = list(prov[['category_cleaned', 'purchase_id']].groupby('category_cleaned').count().reset_index().sort_values('purchase_id', ascending=False)['category_cleaned'])\n",
    "reorder = pd.DataFrame()\n",
    "share_gmv = pd.DataFrame()\n",
    "median_gmv = pd.DataFrame()\n",
    "overall_gmv = pd.DataFrame()\n",
    "\n",
    "for n, d in enumerate(category):\n",
    "    ### count purchases per user\n",
    "    aux1 = prov[(prov['category_cleaned'] == d)]\n",
    "    ### global median\n",
    "    global_med = pd.DataFrame({'category_cleaned' : [d], 'overall_median_gmv': aux1['gmv_value_brl'].median()})\n",
    "    overall_gmv = pd.concat([overall_gmv, global_med])\n",
    "    aux2 = aux1[['user_buyer_id', 'purchase_id']].groupby('user_buyer_id').count().reset_index()\n",
    "    aux2.columns = ['user_buyer_id', 'no_repurchase_temp']\n",
    "    aux1 = aux1.merge(aux2, how = 'left', on = 'user_buyer_id')\n",
    "    ### flag repurchase\n",
    "    aux1['repurchase_temp'] = aux1['no_repurchase_temp'].apply(lambda x : 'repurchase' if x > 1 else 'single-purchase')    \n",
    "    \n",
    "    ### calculate gmv captured by users who repurchase \n",
    "    share = aux1[['repurchase_temp', 'gmv_value_brl']].groupby('repurchase_temp').sum().reset_index()\n",
    "    share['gmv_share_repurchase'] = share['gmv_value_brl'] / share['gmv_value_brl'].sum() * 100\n",
    "    share = share[share['repurchase_temp'] == 'repurchase']\n",
    "    share['category_cleaned'] = d\n",
    "    share.columns = ['repurchase', 'gmv_value_brl_repurchase', 'gmv_share_repurchase', 'category_cleaned']\n",
    "    share = share[['category_cleaned', 'gmv_share_repurchase', 'gmv_value_brl_repurchase']]\n",
    "    share_gmv = share_gmv.append(share)\n",
    "\n",
    "    med = aux1[['user_buyer_id', 'repurchase_temp', \n",
    "                'gmv_value_brl']].groupby(['user_buyer_id','repurchase_temp']).sum().reset_index()\n",
    "    med = med[med['gmv_value_brl'] > 0]\n",
    "    med = med[['repurchase_temp', 'gmv_value_brl']].groupby('repurchase_temp').median().reset_index()\n",
    "    med = med[med['repurchase_temp'] == 'repurchase']\n",
    "    med.columns = ['repurchase', 'median_gmv_repurchase']\n",
    "    med['category_cleaned'] = d\n",
    "    med = med[['category_cleaned', 'median_gmv_repurchase']]\n",
    "    median_gmv = median_gmv.append(med)\n",
    "    \n",
    "    # get vol of users with purchase\n",
    "    rr = aux1[['no_repurchase_temp','repurchase_temp',  'user_buyer_id']].groupby(['repurchase_temp','no_repurchase_temp']).nunique().reset_index()\n",
    "    rr['%'] = rr['user_buyer_id'] / rr['user_buyer_id'].sum() * 100\n",
    "    rr = rr.sort_values('%', ascending=False)\n",
    "    # get users who repurchase\n",
    "    rr2 = rr[['repurchase_temp', 'user_buyer_id']].groupby('repurchase_temp').sum().reset_index()\n",
    "    rr2['%'] = rr2['user_buyer_id'] / rr2['user_buyer_id'].sum() * 100\n",
    "    rr3 = rr2[rr2['repurchase_temp'] == 'repurchase'][['%']]\n",
    "    rr3['category_cleaned'] = d\n",
    "    rr3 = rr3[['category_cleaned', '%']]\n",
    "    reorder = reorder.append(rr3)\n",
    "    \n",
    "# sort df\n",
    "reorder = reorder.sort_values('%', ascending=False)\n",
    "share_gmv = share_gmv.sort_values('gmv_share_repurchase', ascending=False)\n",
    "median_gmv = median_gmv.sort_values('median_gmv_repurchase', ascending=False)\n",
    "\n",
    "# set main dataset\n",
    "reorder = reorder.merge(share_gmv, \n",
    "                        how = 'left', \n",
    "                        on = 'category_cleaned').merge(median_gmv, \n",
    "                                                    how = 'left', \n",
    "                                                    on = 'category_cleaned').merge(overall_gmv, \n",
    "                                                                        how = 'left', \n",
    "                                                                        on = 'category_cleaned').sort_values('%', ascending=False)\n",
    "reorder['median_lower'] = reorder.apply(lambda x: 1 if x['median_gmv_repurchase'] < x['overall_median_gmv'] else 0, axis = 1)\n",
    "reorder['diff_median'] = (reorder['median_gmv_repurchase'] - reorder['overall_median_gmv']) / reorder['overall_median_gmv'] * 100\n",
    "reorder['diff_median_abs'] = abs(reorder['diff_median'])\n",
    "# reorder[['gmv_share_repurchase', 'diff_median']].corr()\n",
    "# sns.lmplot(x ='gmv_share_repurchase', y = 'diff_median', data = reorder);\n",
    "\n",
    "# # set palette\n",
    "# palette_categories_analysis = list()\n",
    "# for n in list(reorder['category_cleaned']):\n",
    "#     if int(reorder[reorder['category_cleaned'] == n]['median_lower']) == 1:\n",
    "#         palette_categories_analysis = palette_categories_analysis + ['r']\n",
    "#     else:\n",
    "#         palette_categories_analysis = palette_categories_analysis + ['g']\n",
    "\n",
    "# set palette\n",
    "palette_categories_analysis = list()\n",
    "for n in list(reorder['category_cleaned']):\n",
    "        palette_categories_analysis = palette_categories_analysis + ['#EF4E23']\n",
    "        \n",
    "fonttitle = 45\n",
    "annotate_size = 45\n",
    "plt.figure(figsize = (35,40))\n",
    "plt.subplot(141)\n",
    "# plot graph with annotations\n",
    "\n",
    "# '#707780' (grey)\n",
    "\n",
    "sns.set_style('white')\n",
    "splot = sns.barplot(y = 'category_cleaned', x = '%', data = reorder, palette = palette_categories_analysis, order = reorder.sort_values('%', ascending=False)['category_cleaned']);\n",
    "\n",
    "for p in splot.patches:\n",
    "    splot.annotate(\" %.1f\" % p.get_width() + '%', xy=(p.get_width(), p.get_y()+p.get_height()/2),\n",
    "                   xytext=(5,0), textcoords='offset points', \n",
    "                   ha='left', va='center', fontsize = annotate_size, color = '#707780')\n",
    "splot.set_title(f\"Reorder Rate (%)\\n\" + \" \\n\" + \" \", color =  '#707780' , fontsize = fonttitle, loc = 'left', pad=40)\n",
    "\n",
    "# plt.yticks(fontsize =20)\n",
    "plt.ylabel(\"\")\n",
    "plt.xlim(0, 60)\n",
    "# splot.tick_params(labelsize=15)\n",
    "splot.yaxis.label.set_color('#707780')\n",
    "splot.spines['left'].set_color('#707780')\n",
    "splot.tick_params(axis='y', colors='#707780',labelsize=50, pad = 30)\n",
    "#     splot.axes.get_yaxis().set_visible(False)\n",
    "splot.spines['right'].set_visible(False)\n",
    "splot.spines['top'].set_visible(False)\n",
    "splot.spines['left'].set_visible(False)\n",
    "splot.spines['bottom'].set_visible(False)\n",
    "splot.axes.get_xaxis().set_visible(False)\n",
    "# plt.xlabel(f\"{aux3['user_buyer_id'].sum():,}\", color = '#707780', fontsize = 30)\n",
    "\n",
    "plt.subplot(142)\n",
    "sns.set_style('white')\n",
    "splot = sns.barplot(y = 'category_cleaned', x = 'gmv_share_repurchase', data = reorder, \n",
    "                    palette = palette_categories_analysis, \n",
    "                    order = list(reorder.sort_values('%', ascending=False)['category_cleaned']));\n",
    "\n",
    "for p in splot.patches:\n",
    "    splot.annotate(\" %.1f\" % p.get_width() + '%', xy=(p.get_width(), p.get_y()+p.get_height()/2),\n",
    "                   xytext=(5,0), textcoords='offset points', \n",
    "                   ha='left', va='center', fontsize = annotate_size, color = '#707780')\n",
    "splot.set_title(f\"Generated GMV (%)\\n\" + \"from buyers\\n\" + \"who repurchase \" , color =  '#707780' , fontsize = fonttitle, loc = 'left', pad=40)\n",
    "\n",
    "# plt.yticks(fontsize =20)\n",
    "plt.ylabel(\"\")\n",
    "plt.xlim(0, 60)\n",
    "# splot.tick_params(labelsize=15)\n",
    "splot.yaxis.label.set_color('#707780')\n",
    "splot.spines['left'].set_color('#707780')\n",
    "# splot.tick_params(axis='y', colors='#707780',labelsize=40, pad = 30)\n",
    "splot.axes.get_yaxis().set_visible(False)\n",
    "splot.spines['right'].set_visible(False)\n",
    "splot.spines['top'].set_visible(False)\n",
    "splot.spines['left'].set_visible(False)\n",
    "splot.spines['bottom'].set_visible(False)\n",
    "splot.axes.get_xaxis().set_visible(False)\n",
    "\n",
    "\n",
    "plt.subplot(143)\n",
    "sns.set_style('white')\n",
    "splot = sns.barplot(y = 'category_cleaned', x = 'overall_median_gmv', data = reorder, \n",
    "                    palette = palette_categories_analysis, \n",
    "                    order = list(reorder.sort_values('%', ascending=False)['category_cleaned']));\n",
    "\n",
    "for p in splot.patches:\n",
    "    splot.annotate(\" %.0f\" % p.get_width(), xy=(p.get_width(), p.get_y()+p.get_height()/2),\n",
    "                   xytext=(5,0), textcoords='offset points', \n",
    "                   ha='left', va='center', fontsize = annotate_size, color = '#707780')\n",
    "splot.set_title(f\"Global Avg. Ticket\\n\" + \"Price (BRL)\\n\" + \" \" , color =  '#707780' , fontsize = fonttitle, loc = 'left', pad=40)\n",
    "\n",
    "# plt.yticks(fontsize =20)\n",
    "plt.ylabel(\"\")\n",
    "plt.xlim(0, 2000)\n",
    "# splot.tick_params(labelsize=15)\n",
    "splot.yaxis.label.set_color('#707780')\n",
    "splot.spines['left'].set_color('#707780')\n",
    "# splot.tick_params(axis='y', colors='#707780',labelsize=40, pad = 30)\n",
    "splot.axes.get_yaxis().set_visible(False)\n",
    "splot.spines['right'].set_visible(False)\n",
    "splot.spines['top'].set_visible(False)\n",
    "splot.spines['left'].set_visible(False)\n",
    "splot.spines['bottom'].set_visible(False)\n",
    "splot.axes.get_xaxis().set_visible(False)\n",
    "\n",
    "plt.subplot(144)\n",
    "sns.set_style('white')\n",
    "splot = sns.barplot(y = 'category_cleaned', x = 'median_gmv_repurchase', data = reorder, \n",
    "                    palette = palette_categories_analysis, \n",
    "                    order = list(reorder.sort_values('%', ascending=False)['category_cleaned']));\n",
    "\n",
    "for n, p in zip(reorder['diff_median'], splot.patches):\n",
    "    splot.annotate(\" %.0f\" % p.get_width() + ' ' + \"(%.1f p.p)\" % n, xy=(p.get_width(), \n",
    "                                                                      p.get_y()+p.get_height()/2),xytext=(5,0), \n",
    "    textcoords='offset points', ha='left', va='center', fontsize = annotate_size, color = '#707780')\n",
    "\n",
    "splot.set_title(f\"Avg. Ticket Price (BRL)\\n\" + \"from buyers who repurchase\\n\" + \"(% diff from global ticket price)\" , color =  '#707780' , fontsize = fonttitle, loc = 'left', pad=40)\n",
    "\n",
    "# plt.yticks(fontsize =20)\n",
    "plt.ylabel(\"\")\n",
    "plt.xlim(0, 2000)\n",
    "# splot.tick_params(labelsize=15)\n",
    "splot.yaxis.label.set_color('#707780')\n",
    "splot.spines['left'].set_color('#707780')\n",
    "# splot.tick_params(axis='y', colors='#707780',labelsize=40, pad = 30)\n",
    "splot.axes.get_yaxis().set_visible(False)\n",
    "splot.spines['right'].set_visible(False)\n",
    "splot.spines['top'].set_visible(False)\n",
    "splot.spines['left'].set_visible(False)\n",
    "splot.spines['bottom'].set_visible(False)\n",
    "splot.axes.get_xaxis().set_visible(False)\n",
    "# plt.subplots_adjust(hspace=0.2)\n",
    "# plt.subplots_adjust(hspace=0.2)\n",
    "plt.subplots_adjust(wspace=0.05)\n",
    "plt.show()"
   ]
  },
  {
   "cell_type": "markdown",
   "metadata": {
    "hidden": true
   },
   "source": [
    "##### Producer Office - Spain"
   ]
  },
  {
   "cell_type": "code",
   "execution_count": null,
   "metadata": {
    "ExecuteTime": {
     "end_time": "2022-09-14T22:22:17.969490Z",
     "start_time": "2022-09-14T22:22:13.243850Z"
    },
    "hidden": true,
    "scrolled": false
   },
   "outputs": [],
   "source": [
    "country = 'SPAIN'\n",
    "prov = df3[(df3['category_cleaned'] != 'SPARKLE') & (df3['user_office_name'] == country)]\n",
    "# calculate repurchase\n",
    "category = list(prov[['category_cleaned', 'purchase_id']].groupby('category_cleaned').count().reset_index().sort_values('purchase_id', ascending=False)['category_cleaned'])\n",
    "reorder = pd.DataFrame()\n",
    "share_gmv = pd.DataFrame()\n",
    "median_gmv = pd.DataFrame()\n",
    "overall_gmv = pd.DataFrame()\n",
    "\n",
    "for n, d in enumerate(category):\n",
    "    ### count purchases per user\n",
    "    aux1 = prov[(prov['category_cleaned'] == d)]\n",
    "    ### global median\n",
    "    global_med = pd.DataFrame({'category_cleaned' : [d], 'overall_median_gmv': aux1['gmv_value_brl'].median()})\n",
    "    overall_gmv = pd.concat([overall_gmv, global_med])\n",
    "    aux2 = aux1[['user_buyer_id', 'purchase_id']].groupby('user_buyer_id').count().reset_index()\n",
    "    aux2.columns = ['user_buyer_id', 'no_repurchase_temp']\n",
    "    aux1 = aux1.merge(aux2, how = 'left', on = 'user_buyer_id')\n",
    "    ### flag repurchase\n",
    "    aux1['repurchase_temp'] = aux1['no_repurchase_temp'].apply(lambda x : 'repurchase' if x > 1 else 'single-purchase')    \n",
    "    \n",
    "    ### calculate gmv captured by users who repurchase \n",
    "    share = aux1[['repurchase_temp', 'gmv_value_brl']].groupby('repurchase_temp').sum().reset_index()\n",
    "    share['gmv_share_repurchase'] = share['gmv_value_brl'] / share['gmv_value_brl'].sum() * 100\n",
    "    share = share[share['repurchase_temp'] == 'repurchase']\n",
    "    share['category_cleaned'] = d\n",
    "    share.columns = ['repurchase', 'gmv_value_brl_repurchase', 'gmv_share_repurchase', 'category_cleaned']\n",
    "    share = share[['category_cleaned', 'gmv_share_repurchase', 'gmv_value_brl_repurchase']]\n",
    "    share_gmv = share_gmv.append(share)\n",
    "\n",
    "    med = aux1[['user_buyer_id', 'repurchase_temp', \n",
    "                'gmv_value_brl']].groupby(['user_buyer_id','repurchase_temp']).sum().reset_index()\n",
    "    med = med[med['gmv_value_brl'] > 0]\n",
    "    med = med[['repurchase_temp', 'gmv_value_brl']].groupby('repurchase_temp').median().reset_index()\n",
    "    med = med[med['repurchase_temp'] == 'repurchase']\n",
    "    med.columns = ['repurchase', 'median_gmv_repurchase']\n",
    "    med['category_cleaned'] = d\n",
    "    med = med[['category_cleaned', 'median_gmv_repurchase']]\n",
    "    median_gmv = median_gmv.append(med)\n",
    "    \n",
    "    # get vol of users with purchase\n",
    "    rr = aux1[['no_repurchase_temp','repurchase_temp',  'user_buyer_id']].groupby(['repurchase_temp','no_repurchase_temp']).nunique().reset_index()\n",
    "    rr['%'] = rr['user_buyer_id'] / rr['user_buyer_id'].sum() * 100\n",
    "    rr = rr.sort_values('%', ascending=False)\n",
    "    # get users who repurchase\n",
    "    rr2 = rr[['repurchase_temp', 'user_buyer_id']].groupby('repurchase_temp').sum().reset_index()\n",
    "    rr2['%'] = rr2['user_buyer_id'] / rr2['user_buyer_id'].sum() * 100\n",
    "    rr3 = rr2[rr2['repurchase_temp'] == 'repurchase'][['%']]\n",
    "    rr3['category_cleaned'] = d\n",
    "    rr3 = rr3[['category_cleaned', '%']]\n",
    "    reorder = reorder.append(rr3)\n",
    "    \n",
    "# sort df\n",
    "reorder = reorder.sort_values('%', ascending=False)\n",
    "share_gmv = share_gmv.sort_values('gmv_share_repurchase', ascending=False)\n",
    "median_gmv = median_gmv.sort_values('median_gmv_repurchase', ascending=False)\n",
    "\n",
    "# set main dataset\n",
    "reorder = reorder.merge(share_gmv, \n",
    "                        how = 'left', \n",
    "                        on = 'category_cleaned').merge(median_gmv, \n",
    "                                                    how = 'left', \n",
    "                                                    on = 'category_cleaned').merge(overall_gmv, \n",
    "                                                                        how = 'left', \n",
    "                                                                        on = 'category_cleaned').sort_values('%', ascending=False)\n",
    "reorder['median_lower'] = reorder.apply(lambda x: 1 if x['median_gmv_repurchase'] < x['overall_median_gmv'] else 0, axis = 1)\n",
    "reorder['diff_median'] = (reorder['median_gmv_repurchase'] - reorder['overall_median_gmv']) / reorder['overall_median_gmv'] * 100\n",
    "reorder['diff_median_abs'] = abs(reorder['diff_median'])\n",
    "# reorder[['gmv_share_repurchase', 'diff_median']].corr()\n",
    "# sns.lmplot(x ='gmv_share_repurchase', y = 'diff_median', data = reorder);\n",
    "\n",
    "# # set palette\n",
    "# palette_categories_analysis = list()\n",
    "# for n in list(reorder['category_cleaned']):\n",
    "#     if int(reorder[reorder['category_cleaned'] == n]['median_lower']) == 1:\n",
    "#         palette_categories_analysis = palette_categories_analysis + ['r']\n",
    "#     else:\n",
    "#         palette_categories_analysis = palette_categories_analysis + ['g']\n",
    "\n",
    "# set palette\n",
    "palette_categories_analysis = list()\n",
    "for n in list(reorder['category_cleaned']):\n",
    "        palette_categories_analysis = palette_categories_analysis + ['#EF4E23']\n",
    "        \n",
    "fonttitle = 45\n",
    "annotate_size = 45\n",
    "plt.figure(figsize = (35,40))\n",
    "plt.subplot(141)\n",
    "# plot graph with annotations\n",
    "\n",
    "# '#707780' (grey)\n",
    "\n",
    "sns.set_style('white')\n",
    "splot = sns.barplot(y = 'category_cleaned', x = '%', data = reorder, palette = palette_categories_analysis, order = reorder.sort_values('%', ascending=False)['category_cleaned']);\n",
    "\n",
    "for p in splot.patches:\n",
    "    splot.annotate(\" %.1f\" % p.get_width() + '%', xy=(p.get_width(), p.get_y()+p.get_height()/2),\n",
    "                   xytext=(5,0), textcoords='offset points', \n",
    "                   ha='left', va='center', fontsize = annotate_size, color = '#707780')\n",
    "splot.set_title(f\"Reorder Rate (%)\\n\" + \" \\n\" + \" \", color =  '#707780' , fontsize = fonttitle, loc = 'left', pad=40)\n",
    "\n",
    "# plt.yticks(fontsize =20)\n",
    "plt.ylabel(\"\")\n",
    "plt.xlim(0, 60)\n",
    "# splot.tick_params(labelsize=15)\n",
    "splot.yaxis.label.set_color('#707780')\n",
    "splot.spines['left'].set_color('#707780')\n",
    "splot.tick_params(axis='y', colors='#707780',labelsize=50, pad = 30)\n",
    "#     splot.axes.get_yaxis().set_visible(False)\n",
    "splot.spines['right'].set_visible(False)\n",
    "splot.spines['top'].set_visible(False)\n",
    "splot.spines['left'].set_visible(False)\n",
    "splot.spines['bottom'].set_visible(False)\n",
    "splot.axes.get_xaxis().set_visible(False)\n",
    "# plt.xlabel(f\"{aux3['user_buyer_id'].sum():,}\", color = '#707780', fontsize = 30)\n",
    "\n",
    "plt.subplot(142)\n",
    "sns.set_style('white')\n",
    "splot = sns.barplot(y = 'category_cleaned', x = 'gmv_share_repurchase', data = reorder, \n",
    "                    palette = palette_categories_analysis, \n",
    "                    order = list(reorder.sort_values('%', ascending=False)['category_cleaned']));\n",
    "\n",
    "for p in splot.patches:\n",
    "    splot.annotate(\" %.1f\" % p.get_width() + '%', xy=(p.get_width(), p.get_y()+p.get_height()/2),\n",
    "                   xytext=(5,0), textcoords='offset points', \n",
    "                   ha='left', va='center', fontsize = annotate_size, color = '#707780')\n",
    "splot.set_title(f\"Generated GMV (%)\\n\" + \"from buyers\\n\" + \"who repurchase \" , color =  '#707780' , fontsize = fonttitle, loc = 'left', pad=40)\n",
    "\n",
    "# plt.yticks(fontsize =20)\n",
    "plt.ylabel(\"\")\n",
    "plt.xlim(0, 60)\n",
    "# splot.tick_params(labelsize=15)\n",
    "splot.yaxis.label.set_color('#707780')\n",
    "splot.spines['left'].set_color('#707780')\n",
    "# splot.tick_params(axis='y', colors='#707780',labelsize=40, pad = 30)\n",
    "splot.axes.get_yaxis().set_visible(False)\n",
    "splot.spines['right'].set_visible(False)\n",
    "splot.spines['top'].set_visible(False)\n",
    "splot.spines['left'].set_visible(False)\n",
    "splot.spines['bottom'].set_visible(False)\n",
    "splot.axes.get_xaxis().set_visible(False)\n",
    "\n",
    "\n",
    "plt.subplot(143)\n",
    "sns.set_style('white')\n",
    "splot = sns.barplot(y = 'category_cleaned', x = 'overall_median_gmv', data = reorder, \n",
    "                    palette = palette_categories_analysis, \n",
    "                    order = list(reorder.sort_values('%', ascending=False)['category_cleaned']));\n",
    "\n",
    "for p in splot.patches:\n",
    "    splot.annotate(\" %.0f\" % p.get_width(), xy=(p.get_width(), p.get_y()+p.get_height()/2),\n",
    "                   xytext=(5,0), textcoords='offset points', \n",
    "                   ha='left', va='center', fontsize = annotate_size, color = '#707780')\n",
    "splot.set_title(f\"Global Avg. Ticket\\n\" + \"Price (BRL)\\n\" + \" \" , color =  '#707780' , fontsize = fonttitle, loc = 'left', pad=40)\n",
    "\n",
    "# plt.yticks(fontsize =20)\n",
    "plt.ylabel(\"\")\n",
    "plt.xlim(0, 2000)\n",
    "# splot.tick_params(labelsize=15)\n",
    "splot.yaxis.label.set_color('#707780')\n",
    "splot.spines['left'].set_color('#707780')\n",
    "# splot.tick_params(axis='y', colors='#707780',labelsize=40, pad = 30)\n",
    "splot.axes.get_yaxis().set_visible(False)\n",
    "splot.spines['right'].set_visible(False)\n",
    "splot.spines['top'].set_visible(False)\n",
    "splot.spines['left'].set_visible(False)\n",
    "splot.spines['bottom'].set_visible(False)\n",
    "splot.axes.get_xaxis().set_visible(False)\n",
    "\n",
    "plt.subplot(144)\n",
    "sns.set_style('white')\n",
    "splot = sns.barplot(y = 'category_cleaned', x = 'median_gmv_repurchase', data = reorder, \n",
    "                    palette = palette_categories_analysis, \n",
    "                    order = list(reorder.sort_values('%', ascending=False)['category_cleaned']));\n",
    "\n",
    "for n, p in zip(reorder['diff_median'], splot.patches):\n",
    "    splot.annotate(\" %.0f\" % p.get_width() + ' ' + \"(%.1f p.p)\" % n, xy=(p.get_width(), \n",
    "                                                                      p.get_y()+p.get_height()/2),xytext=(5,0), \n",
    "    textcoords='offset points', ha='left', va='center', fontsize = annotate_size, color = '#707780')\n",
    "\n",
    "splot.set_title(f\"Avg. Ticket Price (BRL)\\n\" + \"from buyers who repurchase\\n\" + \"(% diff from global ticket price)\" , color =  '#707780' , fontsize = fonttitle, loc = 'left', pad=40)\n",
    "\n",
    "# plt.yticks(fontsize =20)\n",
    "plt.ylabel(\"\")\n",
    "plt.xlim(0, 2000)\n",
    "# splot.tick_params(labelsize=15)\n",
    "splot.yaxis.label.set_color('#707780')\n",
    "splot.spines['left'].set_color('#707780')\n",
    "# splot.tick_params(axis='y', colors='#707780',labelsize=40, pad = 30)\n",
    "splot.axes.get_yaxis().set_visible(False)\n",
    "splot.spines['right'].set_visible(False)\n",
    "splot.spines['top'].set_visible(False)\n",
    "splot.spines['left'].set_visible(False)\n",
    "splot.spines['bottom'].set_visible(False)\n",
    "splot.axes.get_xaxis().set_visible(False)\n",
    "# plt.subplots_adjust(hspace=0.2)\n",
    "# plt.subplots_adjust(hspace=0.2)\n",
    "plt.subplots_adjust(wspace=0.05)\n",
    "plt.show()"
   ]
  },
  {
   "cell_type": "markdown",
   "metadata": {
    "hidden": true
   },
   "source": [
    "##### Producer Office - USA"
   ]
  },
  {
   "cell_type": "code",
   "execution_count": null,
   "metadata": {
    "ExecuteTime": {
     "end_time": "2022-09-14T22:22:20.936586Z",
     "start_time": "2022-09-14T22:22:17.972470Z"
    },
    "hidden": true,
    "scrolled": false
   },
   "outputs": [],
   "source": [
    "country = 'USA'\n",
    "prov = df3[(df3['category_cleaned'] != 'SPARKLE') & (df3['user_office_name'] == country)]\n",
    "# calculate repurchase\n",
    "category = list(prov[['category_cleaned', 'purchase_id']].groupby('category_cleaned').count().reset_index().sort_values('purchase_id', ascending=False)['category_cleaned'])\n",
    "reorder = pd.DataFrame()\n",
    "share_gmv = pd.DataFrame()\n",
    "median_gmv = pd.DataFrame()\n",
    "overall_gmv = pd.DataFrame()\n",
    "\n",
    "for n, d in enumerate(category):\n",
    "    ### count purchases per user\n",
    "    aux1 = prov[(prov['category_cleaned'] == d)]\n",
    "    ### global median\n",
    "    global_med = pd.DataFrame({'category_cleaned' : [d], 'overall_median_gmv': aux1['gmv_value_brl'].median()})\n",
    "    overall_gmv = pd.concat([overall_gmv, global_med])\n",
    "    aux2 = aux1[['user_buyer_id', 'purchase_id']].groupby('user_buyer_id').count().reset_index()\n",
    "    aux2.columns = ['user_buyer_id', 'no_repurchase_temp']\n",
    "    aux1 = aux1.merge(aux2, how = 'left', on = 'user_buyer_id')\n",
    "    ### flag repurchase\n",
    "    aux1['repurchase_temp'] = aux1['no_repurchase_temp'].apply(lambda x : 'repurchase' if x > 1 else 'single-purchase')    \n",
    "    \n",
    "    ### calculate gmv captured by users who repurchase \n",
    "    share = aux1[['repurchase_temp', 'gmv_value_brl']].groupby('repurchase_temp').sum().reset_index()\n",
    "    share['gmv_share_repurchase'] = share['gmv_value_brl'] / share['gmv_value_brl'].sum() * 100\n",
    "    share = share[share['repurchase_temp'] == 'repurchase']\n",
    "    share['category_cleaned'] = d\n",
    "    share.columns = ['repurchase', 'gmv_value_brl_repurchase', 'gmv_share_repurchase', 'category_cleaned']\n",
    "    share = share[['category_cleaned', 'gmv_share_repurchase', 'gmv_value_brl_repurchase']]\n",
    "    share_gmv = share_gmv.append(share)\n",
    "\n",
    "    med = aux1[['user_buyer_id', 'repurchase_temp', \n",
    "                'gmv_value_brl']].groupby(['user_buyer_id','repurchase_temp']).sum().reset_index()\n",
    "    med = med[med['gmv_value_brl'] > 0]\n",
    "    med = med[['repurchase_temp', 'gmv_value_brl']].groupby('repurchase_temp').median().reset_index()\n",
    "    med = med[med['repurchase_temp'] == 'repurchase']\n",
    "    med.columns = ['repurchase', 'median_gmv_repurchase']\n",
    "    med['category_cleaned'] = d\n",
    "    med = med[['category_cleaned', 'median_gmv_repurchase']]\n",
    "    median_gmv = median_gmv.append(med)\n",
    "    \n",
    "    # get vol of users with purchase\n",
    "    rr = aux1[['no_repurchase_temp','repurchase_temp',  'user_buyer_id']].groupby(['repurchase_temp','no_repurchase_temp']).nunique().reset_index()\n",
    "    rr['%'] = rr['user_buyer_id'] / rr['user_buyer_id'].sum() * 100\n",
    "    rr = rr.sort_values('%', ascending=False)\n",
    "    # get users who repurchase\n",
    "    rr2 = rr[['repurchase_temp', 'user_buyer_id']].groupby('repurchase_temp').sum().reset_index()\n",
    "    rr2['%'] = rr2['user_buyer_id'] / rr2['user_buyer_id'].sum() * 100\n",
    "    rr3 = rr2[rr2['repurchase_temp'] == 'repurchase'][['%']]\n",
    "    rr3['category_cleaned'] = d\n",
    "    rr3 = rr3[['category_cleaned', '%']]\n",
    "    reorder = reorder.append(rr3)\n",
    "    \n",
    "# sort df\n",
    "reorder = reorder.sort_values('%', ascending=False)\n",
    "share_gmv = share_gmv.sort_values('gmv_share_repurchase', ascending=False)\n",
    "median_gmv = median_gmv.sort_values('median_gmv_repurchase', ascending=False)\n",
    "\n",
    "# set main dataset\n",
    "reorder = reorder.merge(share_gmv, \n",
    "                        how = 'left', \n",
    "                        on = 'category_cleaned').merge(median_gmv, \n",
    "                                                    how = 'left', \n",
    "                                                    on = 'category_cleaned').merge(overall_gmv, \n",
    "                                                                        how = 'left', \n",
    "                                                                        on = 'category_cleaned').sort_values('%', ascending=False)\n",
    "reorder['median_lower'] = reorder.apply(lambda x: 1 if x['median_gmv_repurchase'] < x['overall_median_gmv'] else 0, axis = 1)\n",
    "reorder['diff_median'] = (reorder['median_gmv_repurchase'] - reorder['overall_median_gmv']) / reorder['overall_median_gmv'] * 100\n",
    "reorder['diff_median_abs'] = abs(reorder['diff_median'])\n",
    "# reorder[['gmv_share_repurchase', 'diff_median']].corr()\n",
    "# sns.lmplot(x ='gmv_share_repurchase', y = 'diff_median', data = reorder);\n",
    "\n",
    "# # set palette\n",
    "# palette_categories_analysis = list()\n",
    "# for n in list(reorder['category_cleaned']):\n",
    "#     if int(reorder[reorder['category_cleaned'] == n]['median_lower']) == 1:\n",
    "#         palette_categories_analysis = palette_categories_analysis + ['r']\n",
    "#     else:\n",
    "#         palette_categories_analysis = palette_categories_analysis + ['g']\n",
    "\n",
    "# set palette\n",
    "palette_categories_analysis = list()\n",
    "for n in list(reorder['category_cleaned']):\n",
    "        palette_categories_analysis = palette_categories_analysis + ['#EF4E23']\n",
    "        \n",
    "fonttitle = 45\n",
    "annotate_size = 45\n",
    "plt.figure(figsize = (35,40))\n",
    "plt.subplot(141)\n",
    "# plot graph with annotations\n",
    "\n",
    "# '#707780' (grey)\n",
    "\n",
    "sns.set_style('white')\n",
    "splot = sns.barplot(y = 'category_cleaned', x = '%', data = reorder, palette = palette_categories_analysis, order = reorder.sort_values('%', ascending=False)['category_cleaned']);\n",
    "\n",
    "for p in splot.patches:\n",
    "    splot.annotate(\" %.1f\" % p.get_width() + '%', xy=(p.get_width(), p.get_y()+p.get_height()/2),\n",
    "                   xytext=(5,0), textcoords='offset points', \n",
    "                   ha='left', va='center', fontsize = annotate_size, color = '#707780')\n",
    "splot.set_title(f\"Reorder Rate (%)\\n\" + \" \\n\" + \" \", color =  '#707780' , fontsize = fonttitle, loc = 'left', pad=40)\n",
    "\n",
    "# plt.yticks(fontsize =20)\n",
    "plt.ylabel(\"\")\n",
    "plt.xlim(0, 60)\n",
    "# splot.tick_params(labelsize=15)\n",
    "splot.yaxis.label.set_color('#707780')\n",
    "splot.spines['left'].set_color('#707780')\n",
    "splot.tick_params(axis='y', colors='#707780',labelsize=50, pad = 30)\n",
    "#     splot.axes.get_yaxis().set_visible(False)\n",
    "splot.spines['right'].set_visible(False)\n",
    "splot.spines['top'].set_visible(False)\n",
    "splot.spines['left'].set_visible(False)\n",
    "splot.spines['bottom'].set_visible(False)\n",
    "splot.axes.get_xaxis().set_visible(False)\n",
    "# plt.xlabel(f\"{aux3['user_buyer_id'].sum():,}\", color = '#707780', fontsize = 30)\n",
    "\n",
    "plt.subplot(142)\n",
    "sns.set_style('white')\n",
    "splot = sns.barplot(y = 'category_cleaned', x = 'gmv_share_repurchase', data = reorder, \n",
    "                    palette = palette_categories_analysis, \n",
    "                    order = list(reorder.sort_values('%', ascending=False)['category_cleaned']));\n",
    "\n",
    "for p in splot.patches:\n",
    "    splot.annotate(\" %.1f\" % p.get_width() + '%', xy=(p.get_width(), p.get_y()+p.get_height()/2),\n",
    "                   xytext=(5,0), textcoords='offset points', \n",
    "                   ha='left', va='center', fontsize = annotate_size, color = '#707780')\n",
    "splot.set_title(f\"Generated GMV (%)\\n\" + \"from buyers\\n\" + \"who repurchase \" , color =  '#707780' , fontsize = fonttitle, loc = 'left', pad=40)\n",
    "\n",
    "# plt.yticks(fontsize =20)\n",
    "plt.ylabel(\"\")\n",
    "plt.xlim(0, 60)\n",
    "# splot.tick_params(labelsize=15)\n",
    "splot.yaxis.label.set_color('#707780')\n",
    "splot.spines['left'].set_color('#707780')\n",
    "# splot.tick_params(axis='y', colors='#707780',labelsize=40, pad = 30)\n",
    "splot.axes.get_yaxis().set_visible(False)\n",
    "splot.spines['right'].set_visible(False)\n",
    "splot.spines['top'].set_visible(False)\n",
    "splot.spines['left'].set_visible(False)\n",
    "splot.spines['bottom'].set_visible(False)\n",
    "splot.axes.get_xaxis().set_visible(False)\n",
    "\n",
    "\n",
    "plt.subplot(143)\n",
    "sns.set_style('white')\n",
    "splot = sns.barplot(y = 'category_cleaned', x = 'overall_median_gmv', data = reorder, \n",
    "                    palette = palette_categories_analysis, \n",
    "                    order = list(reorder.sort_values('%', ascending=False)['category_cleaned']));\n",
    "\n",
    "for p in splot.patches:\n",
    "    splot.annotate(\" %.0f\" % p.get_width(), xy=(p.get_width(), p.get_y()+p.get_height()/2),\n",
    "                   xytext=(5,0), textcoords='offset points', \n",
    "                   ha='left', va='center', fontsize = annotate_size, color = '#707780')\n",
    "splot.set_title(f\"Global Avg. Ticket\\n\" + \"Price (BRL)\\n\" + \" \" , color =  '#707780' , fontsize = fonttitle, loc = 'left', pad=40)\n",
    "\n",
    "# plt.yticks(fontsize =20)\n",
    "plt.ylabel(\"\")\n",
    "plt.xlim(0, 2000)\n",
    "# splot.tick_params(labelsize=15)\n",
    "splot.yaxis.label.set_color('#707780')\n",
    "splot.spines['left'].set_color('#707780')\n",
    "# splot.tick_params(axis='y', colors='#707780',labelsize=40, pad = 30)\n",
    "splot.axes.get_yaxis().set_visible(False)\n",
    "splot.spines['right'].set_visible(False)\n",
    "splot.spines['top'].set_visible(False)\n",
    "splot.spines['left'].set_visible(False)\n",
    "splot.spines['bottom'].set_visible(False)\n",
    "splot.axes.get_xaxis().set_visible(False)\n",
    "\n",
    "plt.subplot(144)\n",
    "sns.set_style('white')\n",
    "splot = sns.barplot(y = 'category_cleaned', x = 'median_gmv_repurchase', data = reorder, \n",
    "                    palette = palette_categories_analysis, \n",
    "                    order = list(reorder.sort_values('%', ascending=False)['category_cleaned']));\n",
    "\n",
    "for n, p in zip(reorder['diff_median'], splot.patches):\n",
    "    splot.annotate(\" %.0f\" % p.get_width() + ' ' + \"(%.1f p.p)\" % n, xy=(p.get_width(), \n",
    "                                                                      p.get_y()+p.get_height()/2),xytext=(5,0), \n",
    "    textcoords='offset points', ha='left', va='center', fontsize = annotate_size, color = '#707780')\n",
    "\n",
    "splot.set_title(f\"Avg. Ticket Price (BRL)\\n\" + \"from buyers who repurchase\\n\" + \"(% diff from global ticket price)\" , color =  '#707780' , fontsize = fonttitle, loc = 'left', pad=40)\n",
    "\n",
    "# plt.yticks(fontsize =20)\n",
    "plt.ylabel(\"\")\n",
    "plt.xlim(0, 2000)\n",
    "# splot.tick_params(labelsize=15)\n",
    "splot.yaxis.label.set_color('#707780')\n",
    "splot.spines['left'].set_color('#707780')\n",
    "# splot.tick_params(axis='y', colors='#707780',labelsize=40, pad = 30)\n",
    "splot.axes.get_yaxis().set_visible(False)\n",
    "splot.spines['right'].set_visible(False)\n",
    "splot.spines['top'].set_visible(False)\n",
    "splot.spines['left'].set_visible(False)\n",
    "splot.spines['bottom'].set_visible(False)\n",
    "splot.axes.get_xaxis().set_visible(False)\n",
    "# plt.subplots_adjust(hspace=0.2)\n",
    "# plt.subplots_adjust(hspace=0.2)\n",
    "plt.subplots_adjust(wspace=0.05)\n",
    "plt.show()"
   ]
  },
  {
   "cell_type": "markdown",
   "metadata": {
    "hidden": true
   },
   "source": [
    "##### Producer Office - AMSTERDAM"
   ]
  },
  {
   "cell_type": "code",
   "execution_count": null,
   "metadata": {
    "ExecuteTime": {
     "end_time": "2022-09-14T22:22:23.531145Z",
     "start_time": "2022-09-14T22:22:20.938606Z"
    },
    "hidden": true,
    "scrolled": false
   },
   "outputs": [],
   "source": [
    "country = 'AMSTERDAM'\n",
    "prov = df3[(df3['category_cleaned'] != 'SPARKLE') & (df3['user_office_name'] == country)]\n",
    "# calculate repurchase\n",
    "category = list(prov[['category_cleaned', 'purchase_id']].groupby('category_cleaned').count().reset_index().sort_values('purchase_id', ascending=False)['category_cleaned'])\n",
    "reorder = pd.DataFrame()\n",
    "share_gmv = pd.DataFrame()\n",
    "median_gmv = pd.DataFrame()\n",
    "overall_gmv = pd.DataFrame()\n",
    "\n",
    "for n, d in enumerate(category):\n",
    "    ### count purchases per user\n",
    "    aux1 = prov[(prov['category_cleaned'] == d)]\n",
    "    ### global median\n",
    "    global_med = pd.DataFrame({'category_cleaned' : [d], 'overall_median_gmv': aux1['gmv_value_brl'].median()})\n",
    "    overall_gmv = pd.concat([overall_gmv, global_med])\n",
    "    aux2 = aux1[['user_buyer_id', 'purchase_id']].groupby('user_buyer_id').count().reset_index()\n",
    "    aux2.columns = ['user_buyer_id', 'no_repurchase_temp']\n",
    "    aux1 = aux1.merge(aux2, how = 'left', on = 'user_buyer_id')\n",
    "    ### flag repurchase\n",
    "    aux1['repurchase_temp'] = aux1['no_repurchase_temp'].apply(lambda x : 'repurchase' if x > 1 else 'single-purchase')    \n",
    "    \n",
    "    ### calculate gmv captured by users who repurchase \n",
    "    share = aux1[['repurchase_temp', 'gmv_value_brl']].groupby('repurchase_temp').sum().reset_index()\n",
    "    share['gmv_share_repurchase'] = share['gmv_value_brl'] / share['gmv_value_brl'].sum() * 100\n",
    "    share = share[share['repurchase_temp'] == 'repurchase']\n",
    "    share['category_cleaned'] = d\n",
    "    share.columns = ['repurchase', 'gmv_value_brl_repurchase', 'gmv_share_repurchase', 'category_cleaned']\n",
    "    share = share[['category_cleaned', 'gmv_share_repurchase', 'gmv_value_brl_repurchase']]\n",
    "    share_gmv = share_gmv.append(share)\n",
    "\n",
    "    med = aux1[['user_buyer_id', 'repurchase_temp', \n",
    "                'gmv_value_brl']].groupby(['user_buyer_id','repurchase_temp']).sum().reset_index()\n",
    "    med = med[med['gmv_value_brl'] > 0]\n",
    "    med = med[['repurchase_temp', 'gmv_value_brl']].groupby('repurchase_temp').median().reset_index()\n",
    "    med = med[med['repurchase_temp'] == 'repurchase']\n",
    "    med.columns = ['repurchase', 'median_gmv_repurchase']\n",
    "    med['category_cleaned'] = d\n",
    "    med = med[['category_cleaned', 'median_gmv_repurchase']]\n",
    "    median_gmv = median_gmv.append(med)\n",
    "    \n",
    "    # get vol of users with purchase\n",
    "    rr = aux1[['no_repurchase_temp','repurchase_temp',  'user_buyer_id']].groupby(['repurchase_temp','no_repurchase_temp']).nunique().reset_index()\n",
    "    rr['%'] = rr['user_buyer_id'] / rr['user_buyer_id'].sum() * 100\n",
    "    rr = rr.sort_values('%', ascending=False)\n",
    "    # get users who repurchase\n",
    "    rr2 = rr[['repurchase_temp', 'user_buyer_id']].groupby('repurchase_temp').sum().reset_index()\n",
    "    rr2['%'] = rr2['user_buyer_id'] / rr2['user_buyer_id'].sum() * 100\n",
    "    rr3 = rr2[rr2['repurchase_temp'] == 'repurchase'][['%']]\n",
    "    rr3['category_cleaned'] = d\n",
    "    rr3 = rr3[['category_cleaned', '%']]\n",
    "    reorder = reorder.append(rr3)\n",
    "    \n",
    "# sort df\n",
    "reorder = reorder.sort_values('%', ascending=False)\n",
    "share_gmv = share_gmv.sort_values('gmv_share_repurchase', ascending=False)\n",
    "median_gmv = median_gmv.sort_values('median_gmv_repurchase', ascending=False)\n",
    "\n",
    "# set main dataset\n",
    "reorder = reorder.merge(share_gmv, \n",
    "                        how = 'left', \n",
    "                        on = 'category_cleaned').merge(median_gmv, \n",
    "                                                    how = 'left', \n",
    "                                                    on = 'category_cleaned').merge(overall_gmv, \n",
    "                                                                        how = 'left', \n",
    "                                                                        on = 'category_cleaned').sort_values('%', ascending=False)\n",
    "reorder['median_lower'] = reorder.apply(lambda x: 1 if x['median_gmv_repurchase'] < x['overall_median_gmv'] else 0, axis = 1)\n",
    "reorder['diff_median'] = (reorder['median_gmv_repurchase'] - reorder['overall_median_gmv']) / reorder['overall_median_gmv'] * 100\n",
    "reorder['diff_median_abs'] = abs(reorder['diff_median'])\n",
    "# reorder[['gmv_share_repurchase', 'diff_median']].corr()\n",
    "# sns.lmplot(x ='gmv_share_repurchase', y = 'diff_median', data = reorder);\n",
    "\n",
    "# # set palette\n",
    "# palette_categories_analysis = list()\n",
    "# for n in list(reorder['category_cleaned']):\n",
    "#     if int(reorder[reorder['category_cleaned'] == n]['median_lower']) == 1:\n",
    "#         palette_categories_analysis = palette_categories_analysis + ['r']\n",
    "#     else:\n",
    "#         palette_categories_analysis = palette_categories_analysis + ['g']\n",
    "\n",
    "# set palette\n",
    "palette_categories_analysis = list()\n",
    "for n in list(reorder['category_cleaned']):\n",
    "        palette_categories_analysis = palette_categories_analysis + ['#EF4E23']\n",
    "        \n",
    "fonttitle = 45\n",
    "annotate_size = 45\n",
    "plt.figure(figsize = (35,40))\n",
    "plt.subplot(141)\n",
    "# plot graph with annotations\n",
    "\n",
    "# '#707780' (grey)\n",
    "\n",
    "sns.set_style('white')\n",
    "splot = sns.barplot(y = 'category_cleaned', x = '%', data = reorder, palette = palette_categories_analysis, order = reorder.sort_values('%', ascending=False)['category_cleaned']);\n",
    "\n",
    "for p in splot.patches:\n",
    "    splot.annotate(\" %.1f\" % p.get_width() + '%', xy=(p.get_width(), p.get_y()+p.get_height()/2),\n",
    "                   xytext=(5,0), textcoords='offset points', \n",
    "                   ha='left', va='center', fontsize = annotate_size, color = '#707780')\n",
    "splot.set_title(f\"Reorder Rate (%)\\n\" + \" \\n\" + \" \", color =  '#707780' , fontsize = fonttitle, loc = 'left', pad=40)\n",
    "\n",
    "# plt.yticks(fontsize =20)\n",
    "plt.ylabel(\"\")\n",
    "plt.xlim(0, 60)\n",
    "# splot.tick_params(labelsize=15)\n",
    "splot.yaxis.label.set_color('#707780')\n",
    "splot.spines['left'].set_color('#707780')\n",
    "splot.tick_params(axis='y', colors='#707780',labelsize=50, pad = 30)\n",
    "#     splot.axes.get_yaxis().set_visible(False)\n",
    "splot.spines['right'].set_visible(False)\n",
    "splot.spines['top'].set_visible(False)\n",
    "splot.spines['left'].set_visible(False)\n",
    "splot.spines['bottom'].set_visible(False)\n",
    "splot.axes.get_xaxis().set_visible(False)\n",
    "# plt.xlabel(f\"{aux3['user_buyer_id'].sum():,}\", color = '#707780', fontsize = 30)\n",
    "\n",
    "plt.subplot(142)\n",
    "sns.set_style('white')\n",
    "splot = sns.barplot(y = 'category_cleaned', x = 'gmv_share_repurchase', data = reorder, \n",
    "                    palette = palette_categories_analysis, \n",
    "                    order = list(reorder.sort_values('%', ascending=False)['category_cleaned']));\n",
    "\n",
    "for p in splot.patches:\n",
    "    splot.annotate(\" %.1f\" % p.get_width() + '%', xy=(p.get_width(), p.get_y()+p.get_height()/2),\n",
    "                   xytext=(5,0), textcoords='offset points', \n",
    "                   ha='left', va='center', fontsize = annotate_size, color = '#707780')\n",
    "splot.set_title(f\"Generated GMV (%)\\n\" + \"from buyers\\n\" + \"who repurchase \" , color =  '#707780' , fontsize = fonttitle, loc = 'left', pad=40)\n",
    "\n",
    "# plt.yticks(fontsize =20)\n",
    "plt.ylabel(\"\")\n",
    "plt.xlim(0, 60)\n",
    "# splot.tick_params(labelsize=15)\n",
    "splot.yaxis.label.set_color('#707780')\n",
    "splot.spines['left'].set_color('#707780')\n",
    "# splot.tick_params(axis='y', colors='#707780',labelsize=40, pad = 30)\n",
    "splot.axes.get_yaxis().set_visible(False)\n",
    "splot.spines['right'].set_visible(False)\n",
    "splot.spines['top'].set_visible(False)\n",
    "splot.spines['left'].set_visible(False)\n",
    "splot.spines['bottom'].set_visible(False)\n",
    "splot.axes.get_xaxis().set_visible(False)\n",
    "\n",
    "\n",
    "plt.subplot(143)\n",
    "sns.set_style('white')\n",
    "splot = sns.barplot(y = 'category_cleaned', x = 'overall_median_gmv', data = reorder, \n",
    "                    palette = palette_categories_analysis, \n",
    "                    order = list(reorder.sort_values('%', ascending=False)['category_cleaned']));\n",
    "\n",
    "for p in splot.patches:\n",
    "    splot.annotate(\" %.0f\" % p.get_width(), xy=(p.get_width(), p.get_y()+p.get_height()/2),\n",
    "                   xytext=(5,0), textcoords='offset points', \n",
    "                   ha='left', va='center', fontsize = annotate_size, color = '#707780')\n",
    "splot.set_title(f\"Global Avg. Ticket\\n\" + \"Price (BRL)\\n\" + \" \" , color =  '#707780' , fontsize = fonttitle, loc = 'left', pad=40)\n",
    "\n",
    "# plt.yticks(fontsize =20)\n",
    "plt.ylabel(\"\")\n",
    "plt.xlim(0, 2000)\n",
    "# splot.tick_params(labelsize=15)\n",
    "splot.yaxis.label.set_color('#707780')\n",
    "splot.spines['left'].set_color('#707780')\n",
    "# splot.tick_params(axis='y', colors='#707780',labelsize=40, pad = 30)\n",
    "splot.axes.get_yaxis().set_visible(False)\n",
    "splot.spines['right'].set_visible(False)\n",
    "splot.spines['top'].set_visible(False)\n",
    "splot.spines['left'].set_visible(False)\n",
    "splot.spines['bottom'].set_visible(False)\n",
    "splot.axes.get_xaxis().set_visible(False)\n",
    "\n",
    "plt.subplot(144)\n",
    "sns.set_style('white')\n",
    "splot = sns.barplot(y = 'category_cleaned', x = 'median_gmv_repurchase', data = reorder, \n",
    "                    palette = palette_categories_analysis, \n",
    "                    order = list(reorder.sort_values('%', ascending=False)['category_cleaned']));\n",
    "\n",
    "for n, p in zip(reorder['diff_median'], splot.patches):\n",
    "    splot.annotate(\" %.0f\" % p.get_width() + ' ' + \"(%.1f p.p)\" % n, xy=(p.get_width(), \n",
    "                                                                      p.get_y()+p.get_height()/2),xytext=(5,0), \n",
    "    textcoords='offset points', ha='left', va='center', fontsize = annotate_size, color = '#707780')\n",
    "\n",
    "splot.set_title(f\"Avg. Ticket Price (BRL)\\n\" + \"from buyers who repurchase\\n\" + \"(% diff from global ticket price)\" , color =  '#707780' , fontsize = fonttitle, loc = 'left', pad=40)\n",
    "\n",
    "# plt.yticks(fontsize =20)\n",
    "plt.ylabel(\"\")\n",
    "plt.xlim(0, 2000)\n",
    "# splot.tick_params(labelsize=15)\n",
    "splot.yaxis.label.set_color('#707780')\n",
    "splot.spines['left'].set_color('#707780')\n",
    "# splot.tick_params(axis='y', colors='#707780',labelsize=40, pad = 30)\n",
    "splot.axes.get_yaxis().set_visible(False)\n",
    "splot.spines['right'].set_visible(False)\n",
    "splot.spines['top'].set_visible(False)\n",
    "splot.spines['left'].set_visible(False)\n",
    "splot.spines['bottom'].set_visible(False)\n",
    "splot.axes.get_xaxis().set_visible(False)\n",
    "# plt.subplots_adjust(hspace=0.2)\n",
    "# plt.subplots_adjust(hspace=0.2)\n",
    "plt.subplots_adjust(wspace=0.05)\n",
    "plt.show()"
   ]
  },
  {
   "cell_type": "markdown",
   "metadata": {
    "heading_collapsed": true,
    "hidden": true
   },
   "source": [
    "#### Producer Segment"
   ]
  },
  {
   "cell_type": "markdown",
   "metadata": {
    "hidden": true
   },
   "source": [
    "- For this analysis, repurchases can be related to any producer within the same segment. \n",
    "- Premise: if a repurchase was related to a producer from a different segment, this purchase will be discarded. "
   ]
  },
  {
   "cell_type": "code",
   "execution_count": null,
   "metadata": {
    "ExecuteTime": {
     "end_time": "2022-09-14T22:22:54.078096Z",
     "start_time": "2022-09-14T22:22:23.534948Z"
    },
    "hidden": true
   },
   "outputs": [],
   "source": [
    "prov = df3[df3['category_cleaned'] != 'SPARKLE']\n",
    "# get list\n",
    "category = list(prov[['category_cleaned', 'purchase_id']].groupby('category_cleaned').count().reset_index().sort_values('purchase_id', ascending=False)['category_cleaned'])\n",
    "office = list(df3[['user_office_name', 'purchase_id']].groupby('user_office_name').count().reset_index().sort_values('purchase_id', ascending=False)['user_office_name'])\n",
    "\n",
    "\n",
    "plt.figure(figsize = (20,15))\n",
    "for e, f in enumerate([ 'SEED',  'SMALL', 'MEDIUM', 'LARGE']):\n",
    "    plt.subplot(1,4,e+1)\n",
    "    aux0 = prov[prov['segment'] == f]\n",
    "    aux1 = aux0[['purchase_id', 'category_cleaned']].groupby('category_cleaned').count().reset_index()\n",
    "    aux1['%'] = aux1['purchase_id'] / aux1['purchase_id'].sum() * 100\n",
    "    for g in category:\n",
    "        if len(aux1[aux1['category_cleaned'] == g]) == 0:\n",
    "            aux1 = aux1.append({'category_cleaned': g, 'purchase_id': 0, '%': 0}, ignore_index=True)\n",
    "    # plot graph with annotations\n",
    "    aux1 = aux1.sort_values('%', ascending=False)\n",
    "    aux1['hex'] = palette_topics[:-1]\n",
    "    aux2 = pd.DataFrame(category, columns =['category_cleaned'])\n",
    "    aux2 = aux2.merge(aux1, how = 'left', on = 'category_cleaned')\n",
    "    sns.set_style('white')\n",
    "    splot = sns.barplot(y = 'category_cleaned', x = '%', data = aux2, palette = list(aux2['hex']), order = category);\n",
    "    for p in splot.patches:\n",
    "        splot.annotate(\"%.2f\" % p.get_width() + '%', xy=(p.get_width(), p.get_y()+p.get_height()/2),\n",
    "                       xytext=(5,0), textcoords='offset points', ha='left', va='center', color =  '#707780')\n",
    "    plt.title(f\"{f} | {aux1['purchase_id'].sum():,}\", color =  '#707780')\n",
    "    plt.yticks(fontsize =16)\n",
    "    plt.xlabel(\"\")\n",
    "    plt.ylabel(\"\")\n",
    "    plt.xlim(0, 60)\n",
    "    splot.axes.get_yaxis().set_visible(False)\n",
    "    if e == 0:\n",
    "        splot.axes.get_yaxis().set_visible(True)\n",
    "    if e == 1:\n",
    "        plt.xlabel(\"Num of Purchases (%)\")\n",
    "    if e != 1:\n",
    "        splot.axes.get_xaxis().set_visible(False)\n",
    "    #         splot.spines['right'].set_visible(False)\n",
    "    #         splot.spines['top'].set_visible(False)\n",
    "    #         splot.spines['left'].set_visible(False)\n",
    "    #         splot.spines['bottom'].set_visible(False)\n",
    "#     splot.axes.get_xaxis().set_visible(False)\n",
    "    #         splot.axes.get_yaxis().set_visible(False)\n",
    "plt.subplots_adjust(hspace=0.1)\n",
    "plt.subplots_adjust(wspace=0.3)\n",
    "plt.show()\n",
    "\n"
   ]
  },
  {
   "cell_type": "code",
   "execution_count": null,
   "metadata": {
    "ExecuteTime": {
     "end_time": "2022-09-14T22:25:00.311984Z",
     "start_time": "2022-09-14T22:22:54.083430Z"
    },
    "hidden": true
   },
   "outputs": [],
   "source": [
    "prov = df3[df3['category_cleaned'] != 'SPARKLE']\n",
    "# get list\n",
    "category = list(prov[['category_cleaned', 'purchase_id']].groupby('category_cleaned').count().reset_index().sort_values('purchase_id', ascending=False)['category_cleaned'])\n",
    "\n",
    "plt.figure(figsize = (15,15))\n",
    "for e, f in enumerate([ 'SEED',  'SMALL', 'MEDIUM', 'LARGE']):\n",
    "    plt.subplot(1,4,e+1)\n",
    "    reorder = pd.DataFrame()\n",
    "    aux0 = prov[prov['segment'] == f]\n",
    "    for n, d in enumerate(category):\n",
    "        ### count purchases per user\n",
    "        aux1 = aux0[aux0['category_cleaned'] == d]\n",
    "        aux2 = aux1[['user_buyer_id', 'purchase_id']].groupby('user_buyer_id').count().reset_index()\n",
    "        aux2.columns = ['user_buyer_id', 'no_repurchase_temp']\n",
    "        aux1 = aux1.merge(aux2, how = 'left', on = 'user_buyer_id')\n",
    "        ### flag repurchase\n",
    "        aux1['repurchase_temp'] = aux1['no_repurchase_temp'].apply(lambda x : 'repurchase' if x > 1 else 'single-purchase')    \n",
    "\n",
    "        # get vol of users with purchase\n",
    "        aux1 = aux1[['no_repurchase_temp','repurchase_temp',  'user_buyer_id']].groupby(['repurchase_temp','no_repurchase_temp']).nunique().reset_index()\n",
    "        aux1['%'] = aux1['user_buyer_id'] / aux1['user_buyer_id'].sum() * 100\n",
    "        aux1 = aux1.sort_values('%', ascending=False)\n",
    "        # get users who repurchase\n",
    "        aux3 = aux1[['repurchase_temp', 'user_buyer_id']].groupby('repurchase_temp').sum().reset_index()\n",
    "        aux3['%'] = aux3['user_buyer_id'] / aux3['user_buyer_id'].sum() * 100\n",
    "        aux4 = aux3[aux3['repurchase_temp'] == 'repurchase'][['%']]\n",
    "        aux4['category_cleaned'] = d\n",
    "        aux4 = aux4[['category_cleaned', '%']]\n",
    "        reorder = reorder.append(aux4)\n",
    "    for g in category:\n",
    "        if len(reorder[reorder['category_cleaned'] == g]) == 0:\n",
    "            reorder = reorder.append({'category_cleaned': g, '%': 0}, ignore_index=True)\n",
    "    # plot graph with annotations\n",
    "    reorder = reorder.sort_values('%', ascending=False)\n",
    "    reorder['hex'] = palette_topics[:-1]\n",
    "    aux1 = pd.DataFrame(category, columns =['category_cleaned'])\n",
    "    aux1 = aux1.merge(reorder, how = 'left', on = 'category_cleaned')\n",
    "    sns.set_style('white')\n",
    "    splot = sns.barplot(y = 'category_cleaned', x = '%', data = aux1, palette = list(aux1['hex']), order = category);\n",
    "    for p in splot.patches:\n",
    "        splot.annotate(\"%.2f\" % p.get_width() + '%', xy=(p.get_width(), p.get_y()+p.get_height()/2),\n",
    "                       xytext=(5,0), textcoords='offset points', ha='left', va='center', color =  '#707780')\n",
    "    plt.title(f\"{f}\", color =  '#707780')\n",
    "    plt.yticks(fontsize =16)\n",
    "    plt.xlabel(\"\")\n",
    "    plt.ylabel(\"\")\n",
    "    plt.xlim(0, 25)\n",
    "    splot.axes.get_yaxis().set_visible(False)\n",
    "    if e == 0:\n",
    "        splot.axes.get_yaxis().set_visible(True)\n",
    "    if e == 1:\n",
    "        plt.xlabel(\"\")\n",
    "    if e != 1:\n",
    "        splot.axes.get_xaxis().set_visible(False)\n",
    "    splot.yaxis.label.set_color('#707780')\n",
    "    splot.spines['left'].set_color('#707780')\n",
    "    splot.spines['right'].set_color('#707780')\n",
    "    splot.spines['top'].set_color('#707780')\n",
    "    splot.spines['bottom'].set_color('#707780')\n",
    "    splot.tick_params(axis='y', colors='#707780',labelsize=16, pad = 30)\n",
    "\n",
    "#         splot.spines['right'].set_visible(False)\n",
    "#         splot.spines['top'].set_visible(False)\n",
    "#         splot.spines['left'].set_visible(False)\n",
    "#         splot.spines['bottom'].set_visible(False)\n",
    "#         splot.axes.get_yaxis().set_visible(False)\n",
    "# plt.subplots_adjust(hspace=0.2)\n",
    "plt.subplots_adjust(wspace=0.1)\n",
    "plt.show()"
   ]
  },
  {
   "cell_type": "code",
   "execution_count": null,
   "metadata": {
    "hidden": true
   },
   "outputs": [],
   "source": []
  },
  {
   "cell_type": "markdown",
   "metadata": {
    "hidden": true
   },
   "source": [
    "##### Producer segment - SEED"
   ]
  },
  {
   "cell_type": "code",
   "execution_count": null,
   "metadata": {
    "ExecuteTime": {
     "end_time": "2022-09-14T22:25:27.035832Z",
     "start_time": "2022-09-14T22:25:00.324237Z"
    },
    "hidden": true
   },
   "outputs": [],
   "source": [
    "segment = 'SEED'\n",
    "prov = df3[(df3['category_cleaned'] != 'SPARKLE') & (df3['segment'] == segment)]\n",
    "# calculate repurchase\n",
    "category = list(prov[['category_cleaned', 'purchase_id']].groupby('category_cleaned').count().reset_index().sort_values('purchase_id', ascending=False)['category_cleaned'])\n",
    "reorder = pd.DataFrame()\n",
    "share_gmv = pd.DataFrame()\n",
    "median_gmv = pd.DataFrame()\n",
    "overall_gmv = pd.DataFrame()\n",
    "\n",
    "for n, d in enumerate(category):\n",
    "    ### count purchases per user\n",
    "    aux1 = prov[(prov['category_cleaned'] == d)]\n",
    "    ### global median\n",
    "    global_med = pd.DataFrame({'category_cleaned' : [d], 'overall_median_gmv': aux1['gmv_value_brl'].median()})\n",
    "    overall_gmv = pd.concat([overall_gmv, global_med])\n",
    "    aux2 = aux1[['user_buyer_id', 'purchase_id']].groupby('user_buyer_id').count().reset_index()\n",
    "    aux2.columns = ['user_buyer_id', 'no_repurchase_temp']\n",
    "    aux1 = aux1.merge(aux2, how = 'left', on = 'user_buyer_id')\n",
    "    ### flag repurchase\n",
    "    aux1['repurchase_temp'] = aux1['no_repurchase_temp'].apply(lambda x : 'repurchase' if x > 1 else 'single-purchase')    \n",
    "    \n",
    "    ### calculate gmv captured by users who repurchase \n",
    "    share = aux1[['repurchase_temp', 'gmv_value_brl']].groupby('repurchase_temp').sum().reset_index()\n",
    "    share['gmv_share_repurchase'] = share['gmv_value_brl'] / share['gmv_value_brl'].sum() * 100\n",
    "    share = share[share['repurchase_temp'] == 'repurchase']\n",
    "    share['category_cleaned'] = d\n",
    "    share.columns = ['repurchase', 'gmv_value_brl_repurchase', 'gmv_share_repurchase', 'category_cleaned']\n",
    "    share = share[['category_cleaned', 'gmv_share_repurchase', 'gmv_value_brl_repurchase']]\n",
    "    share_gmv = share_gmv.append(share)\n",
    "\n",
    "    med = aux1[['user_buyer_id', 'repurchase_temp', \n",
    "                'gmv_value_brl']].groupby(['user_buyer_id','repurchase_temp']).sum().reset_index()\n",
    "    med = med[med['gmv_value_brl'] > 0]\n",
    "    med = med[['repurchase_temp', 'gmv_value_brl']].groupby('repurchase_temp').median().reset_index()\n",
    "    med = med[med['repurchase_temp'] == 'repurchase']\n",
    "    med.columns = ['repurchase', 'median_gmv_repurchase']\n",
    "    med['category_cleaned'] = d\n",
    "    med = med[['category_cleaned', 'median_gmv_repurchase']]\n",
    "    median_gmv = median_gmv.append(med)\n",
    "    \n",
    "    # get vol of users with purchase\n",
    "    rr = aux1[['no_repurchase_temp','repurchase_temp',  'user_buyer_id']].groupby(['repurchase_temp','no_repurchase_temp']).nunique().reset_index()\n",
    "    rr['%'] = rr['user_buyer_id'] / rr['user_buyer_id'].sum() * 100\n",
    "    rr = rr.sort_values('%', ascending=False)\n",
    "    # get users who repurchase\n",
    "    rr2 = rr[['repurchase_temp', 'user_buyer_id']].groupby('repurchase_temp').sum().reset_index()\n",
    "    rr2['%'] = rr2['user_buyer_id'] / rr2['user_buyer_id'].sum() * 100\n",
    "    rr3 = rr2[rr2['repurchase_temp'] == 'repurchase'][['%']]\n",
    "    rr3['category_cleaned'] = d\n",
    "    rr3 = rr3[['category_cleaned', '%']]\n",
    "    reorder = reorder.append(rr3)\n",
    "    \n",
    "# sort df\n",
    "reorder = reorder.sort_values('%', ascending=False)\n",
    "share_gmv = share_gmv.sort_values('gmv_share_repurchase', ascending=False)\n",
    "median_gmv = median_gmv.sort_values('median_gmv_repurchase', ascending=False)\n",
    "\n",
    "# set main dataset\n",
    "reorder = reorder.merge(share_gmv, \n",
    "                        how = 'left', \n",
    "                        on = 'category_cleaned').merge(median_gmv, \n",
    "                                                    how = 'left', \n",
    "                                                    on = 'category_cleaned').merge(overall_gmv, \n",
    "                                                                        how = 'left', \n",
    "                                                                        on = 'category_cleaned').sort_values('%', ascending=False)\n",
    "reorder['median_lower'] = reorder.apply(lambda x: 1 if x['median_gmv_repurchase'] < x['overall_median_gmv'] else 0, axis = 1)\n",
    "reorder['diff_median'] = (reorder['median_gmv_repurchase'] - reorder['overall_median_gmv']) / reorder['overall_median_gmv'] * 100\n",
    "reorder['diff_median_abs'] = abs(reorder['diff_median'])\n",
    "# reorder[['gmv_share_repurchase', 'diff_median']].corr()\n",
    "# sns.lmplot(x ='gmv_share_repurchase', y = 'diff_median', data = reorder);\n",
    "\n",
    "# # set palette\n",
    "# palette_categories_analysis = list()\n",
    "# for n in list(reorder['category_cleaned']):\n",
    "#     if int(reorder[reorder['category_cleaned'] == n]['median_lower']) == 1:\n",
    "#         palette_categories_analysis = palette_categories_analysis + ['r']\n",
    "#     else:\n",
    "#         palette_categories_analysis = palette_categories_analysis + ['g']\n",
    "\n",
    "# set palette\n",
    "palette_categories_analysis = list()\n",
    "for n in list(reorder['category_cleaned']):\n",
    "        palette_categories_analysis = palette_categories_analysis + ['#EF4E23']\n",
    "        \n",
    "fonttitle = 45\n",
    "annotate_size = 45\n",
    "plt.figure(figsize = (35,40))\n",
    "plt.subplot(141)\n",
    "# plot graph with annotations\n",
    "\n",
    "# '#707780' (grey)\n",
    "\n",
    "sns.set_style('white')\n",
    "splot = sns.barplot(y = 'category_cleaned', x = '%', data = reorder, palette = palette_categories_analysis, order = reorder.sort_values('%', ascending=False)['category_cleaned']);\n",
    "\n",
    "for p in splot.patches:\n",
    "    splot.annotate(\" %.1f\" % p.get_width() + '%', xy=(p.get_width(), p.get_y()+p.get_height()/2),\n",
    "                   xytext=(5,0), textcoords='offset points', \n",
    "                   ha='left', va='center', fontsize = annotate_size, color = '#707780')\n",
    "splot.set_title(f\"Reorder Rate (%)\\n\" + \" \\n\" + \" \", color =  '#707780' , fontsize = fonttitle, loc = 'left', pad=40)\n",
    "\n",
    "# plt.yticks(fontsize =20)\n",
    "plt.ylabel(\"\")\n",
    "plt.xlim(0, 60)\n",
    "# splot.tick_params(labelsize=15)\n",
    "splot.yaxis.label.set_color('#707780')\n",
    "splot.spines['left'].set_color('#707780')\n",
    "splot.tick_params(axis='y', colors='#707780',labelsize=50, pad = 30)\n",
    "#     splot.axes.get_yaxis().set_visible(False)\n",
    "splot.spines['right'].set_visible(False)\n",
    "splot.spines['top'].set_visible(False)\n",
    "splot.spines['left'].set_visible(False)\n",
    "splot.spines['bottom'].set_visible(False)\n",
    "splot.axes.get_xaxis().set_visible(False)\n",
    "# plt.xlabel(f\"{aux3['user_buyer_id'].sum():,}\", color = '#707780', fontsize = 30)\n",
    "\n",
    "plt.subplot(142)\n",
    "sns.set_style('white')\n",
    "splot = sns.barplot(y = 'category_cleaned', x = 'gmv_share_repurchase', data = reorder, \n",
    "                    palette = palette_categories_analysis, \n",
    "                    order = list(reorder.sort_values('%', ascending=False)['category_cleaned']));\n",
    "\n",
    "for p in splot.patches:\n",
    "    splot.annotate(\" %.1f\" % p.get_width() + '%', xy=(p.get_width(), p.get_y()+p.get_height()/2),\n",
    "                   xytext=(5,0), textcoords='offset points', \n",
    "                   ha='left', va='center', fontsize = annotate_size, color = '#707780')\n",
    "splot.set_title(f\"Generated GMV (%)\\n\" + \"from buyers\\n\" + \"who repurchase \" , color =  '#707780' , fontsize = fonttitle, loc = 'left', pad=40)\n",
    "\n",
    "# plt.yticks(fontsize =20)\n",
    "plt.ylabel(\"\")\n",
    "plt.xlim(0, 60)\n",
    "# splot.tick_params(labelsize=15)\n",
    "splot.yaxis.label.set_color('#707780')\n",
    "splot.spines['left'].set_color('#707780')\n",
    "# splot.tick_params(axis='y', colors='#707780',labelsize=40, pad = 30)\n",
    "splot.axes.get_yaxis().set_visible(False)\n",
    "splot.spines['right'].set_visible(False)\n",
    "splot.spines['top'].set_visible(False)\n",
    "splot.spines['left'].set_visible(False)\n",
    "splot.spines['bottom'].set_visible(False)\n",
    "splot.axes.get_xaxis().set_visible(False)\n",
    "\n",
    "\n",
    "plt.subplot(143)\n",
    "sns.set_style('white')\n",
    "splot = sns.barplot(y = 'category_cleaned', x = 'overall_median_gmv', data = reorder, \n",
    "                    palette = palette_categories_analysis, \n",
    "                    order = list(reorder.sort_values('%', ascending=False)['category_cleaned']));\n",
    "\n",
    "for p in splot.patches:\n",
    "    splot.annotate(\" %.0f\" % p.get_width(), xy=(p.get_width(), p.get_y()+p.get_height()/2),\n",
    "                   xytext=(5,0), textcoords='offset points', \n",
    "                   ha='left', va='center', fontsize = annotate_size, color = '#707780')\n",
    "splot.set_title(f\"Global Avg. Ticket\\n\" + \"Price (BRL)\\n\" + \" \" , color =  '#707780' , fontsize = fonttitle, loc = 'left', pad=40)\n",
    "\n",
    "# plt.yticks(fontsize =20)\n",
    "plt.ylabel(\"\")\n",
    "plt.xlim(0, 2000)\n",
    "# splot.tick_params(labelsize=15)\n",
    "splot.yaxis.label.set_color('#707780')\n",
    "splot.spines['left'].set_color('#707780')\n",
    "# splot.tick_params(axis='y', colors='#707780',labelsize=40, pad = 30)\n",
    "splot.axes.get_yaxis().set_visible(False)\n",
    "splot.spines['right'].set_visible(False)\n",
    "splot.spines['top'].set_visible(False)\n",
    "splot.spines['left'].set_visible(False)\n",
    "splot.spines['bottom'].set_visible(False)\n",
    "splot.axes.get_xaxis().set_visible(False)\n",
    "\n",
    "plt.subplot(144)\n",
    "sns.set_style('white')\n",
    "splot = sns.barplot(y = 'category_cleaned', x = 'median_gmv_repurchase', data = reorder, \n",
    "                    palette = palette_categories_analysis, \n",
    "                    order = list(reorder.sort_values('%', ascending=False)['category_cleaned']));\n",
    "\n",
    "for n, p in zip(reorder['diff_median'], splot.patches):\n",
    "    splot.annotate(\" %.0f\" % p.get_width() + ' ' + \"(%.1f p.p)\" % n, xy=(p.get_width(), \n",
    "                                                                      p.get_y()+p.get_height()/2),xytext=(5,0), \n",
    "    textcoords='offset points', ha='left', va='center', fontsize = annotate_size, color = '#707780')\n",
    "\n",
    "splot.set_title(f\"Avg. Ticket Price (BRL)\\n\" + \"from buyers who repurchase\\n\" + \"(% diff from global ticket price)\" , color =  '#707780' , fontsize = fonttitle, loc = 'left', pad=40)\n",
    "\n",
    "# plt.yticks(fontsize =20)\n",
    "plt.ylabel(\"\")\n",
    "plt.xlim(0, 2000)\n",
    "# splot.tick_params(labelsize=15)\n",
    "splot.yaxis.label.set_color('#707780')\n",
    "splot.spines['left'].set_color('#707780')\n",
    "# splot.tick_params(axis='y', colors='#707780',labelsize=40, pad = 30)\n",
    "splot.axes.get_yaxis().set_visible(False)\n",
    "splot.spines['right'].set_visible(False)\n",
    "splot.spines['top'].set_visible(False)\n",
    "splot.spines['left'].set_visible(False)\n",
    "splot.spines['bottom'].set_visible(False)\n",
    "splot.axes.get_xaxis().set_visible(False)\n",
    "# plt.subplots_adjust(hspace=0.2)\n",
    "# plt.subplots_adjust(hspace=0.2)\n",
    "plt.subplots_adjust(wspace=0.05)\n",
    "plt.show()"
   ]
  },
  {
   "cell_type": "markdown",
   "metadata": {
    "hidden": true
   },
   "source": [
    "##### Producer segment - SMALL"
   ]
  },
  {
   "cell_type": "code",
   "execution_count": null,
   "metadata": {
    "ExecuteTime": {
     "end_time": "2022-09-14T22:26:02.451559Z",
     "start_time": "2022-09-14T22:25:27.050312Z"
    },
    "hidden": true,
    "scrolled": false
   },
   "outputs": [],
   "source": [
    "segment = 'SMALL'\n",
    "prov = df3[(df3['category_cleaned'] != 'SPARKLE') & (df3['segment'] == segment)]\n",
    "# calculate repurchase\n",
    "category = list(prov[['category_cleaned', 'purchase_id']].groupby('category_cleaned').count().reset_index().sort_values('purchase_id', ascending=False)['category_cleaned'])\n",
    "reorder = pd.DataFrame()\n",
    "share_gmv = pd.DataFrame()\n",
    "median_gmv = pd.DataFrame()\n",
    "overall_gmv = pd.DataFrame()\n",
    "\n",
    "for n, d in enumerate(category):\n",
    "    ### count purchases per user\n",
    "    aux1 = prov[(prov['category_cleaned'] == d)]\n",
    "    ### global median\n",
    "    global_med = pd.DataFrame({'category_cleaned' : [d], 'overall_median_gmv': aux1['gmv_value_brl'].median()})\n",
    "    overall_gmv = pd.concat([overall_gmv, global_med])\n",
    "    aux2 = aux1[['user_buyer_id', 'purchase_id']].groupby('user_buyer_id').count().reset_index()\n",
    "    aux2.columns = ['user_buyer_id', 'no_repurchase_temp']\n",
    "    aux1 = aux1.merge(aux2, how = 'left', on = 'user_buyer_id')\n",
    "    ### flag repurchase\n",
    "    aux1['repurchase_temp'] = aux1['no_repurchase_temp'].apply(lambda x : 'repurchase' if x > 1 else 'single-purchase')    \n",
    "    \n",
    "    ### calculate gmv captured by users who repurchase \n",
    "    share = aux1[['repurchase_temp', 'gmv_value_brl']].groupby('repurchase_temp').sum().reset_index()\n",
    "    share['gmv_share_repurchase'] = share['gmv_value_brl'] / share['gmv_value_brl'].sum() * 100\n",
    "    share = share[share['repurchase_temp'] == 'repurchase']\n",
    "    share['category_cleaned'] = d\n",
    "    share.columns = ['repurchase', 'gmv_value_brl_repurchase', 'gmv_share_repurchase', 'category_cleaned']\n",
    "    share = share[['category_cleaned', 'gmv_share_repurchase', 'gmv_value_brl_repurchase']]\n",
    "    share_gmv = share_gmv.append(share)\n",
    "\n",
    "    med = aux1[['user_buyer_id', 'repurchase_temp', \n",
    "                'gmv_value_brl']].groupby(['user_buyer_id','repurchase_temp']).sum().reset_index()\n",
    "    med = med[med['gmv_value_brl'] > 0]\n",
    "    med = med[['repurchase_temp', 'gmv_value_brl']].groupby('repurchase_temp').median().reset_index()\n",
    "    med = med[med['repurchase_temp'] == 'repurchase']\n",
    "    med.columns = ['repurchase', 'median_gmv_repurchase']\n",
    "    med['category_cleaned'] = d\n",
    "    med = med[['category_cleaned', 'median_gmv_repurchase']]\n",
    "    median_gmv = median_gmv.append(med)\n",
    "    \n",
    "    # get vol of users with purchase\n",
    "    rr = aux1[['no_repurchase_temp','repurchase_temp',  'user_buyer_id']].groupby(['repurchase_temp','no_repurchase_temp']).nunique().reset_index()\n",
    "    rr['%'] = rr['user_buyer_id'] / rr['user_buyer_id'].sum() * 100\n",
    "    rr = rr.sort_values('%', ascending=False)\n",
    "    # get users who repurchase\n",
    "    rr2 = rr[['repurchase_temp', 'user_buyer_id']].groupby('repurchase_temp').sum().reset_index()\n",
    "    rr2['%'] = rr2['user_buyer_id'] / rr2['user_buyer_id'].sum() * 100\n",
    "    rr3 = rr2[rr2['repurchase_temp'] == 'repurchase'][['%']]\n",
    "    rr3['category_cleaned'] = d\n",
    "    rr3 = rr3[['category_cleaned', '%']]\n",
    "    reorder = reorder.append(rr3)\n",
    "    \n",
    "# sort df\n",
    "reorder = reorder.sort_values('%', ascending=False)\n",
    "share_gmv = share_gmv.sort_values('gmv_share_repurchase', ascending=False)\n",
    "median_gmv = median_gmv.sort_values('median_gmv_repurchase', ascending=False)\n",
    "\n",
    "# set main dataset\n",
    "reorder = reorder.merge(share_gmv, \n",
    "                        how = 'left', \n",
    "                        on = 'category_cleaned').merge(median_gmv, \n",
    "                                                    how = 'left', \n",
    "                                                    on = 'category_cleaned').merge(overall_gmv, \n",
    "                                                                        how = 'left', \n",
    "                                                                        on = 'category_cleaned').sort_values('%', ascending=False)\n",
    "reorder['median_lower'] = reorder.apply(lambda x: 1 if x['median_gmv_repurchase'] < x['overall_median_gmv'] else 0, axis = 1)\n",
    "reorder['diff_median'] = (reorder['median_gmv_repurchase'] - reorder['overall_median_gmv']) / reorder['overall_median_gmv'] * 100\n",
    "reorder['diff_median_abs'] = abs(reorder['diff_median'])\n",
    "# reorder[['gmv_share_repurchase', 'diff_median']].corr()\n",
    "# sns.lmplot(x ='gmv_share_repurchase', y = 'diff_median', data = reorder);\n",
    "\n",
    "# # set palette\n",
    "# palette_categories_analysis = list()\n",
    "# for n in list(reorder['category_cleaned']):\n",
    "#     if int(reorder[reorder['category_cleaned'] == n]['median_lower']) == 1:\n",
    "#         palette_categories_analysis = palette_categories_analysis + ['r']\n",
    "#     else:\n",
    "#         palette_categories_analysis = palette_categories_analysis + ['g']\n",
    "\n",
    "# set palette\n",
    "palette_categories_analysis = list()\n",
    "for n in list(reorder['category_cleaned']):\n",
    "        palette_categories_analysis = palette_categories_analysis + ['#EF4E23']\n",
    "        \n",
    "fonttitle = 45\n",
    "annotate_size = 45\n",
    "plt.figure(figsize = (35,40))\n",
    "plt.subplot(141)\n",
    "# plot graph with annotations\n",
    "\n",
    "# '#707780' (grey)\n",
    "\n",
    "sns.set_style('white')\n",
    "splot = sns.barplot(y = 'category_cleaned', x = '%', data = reorder, palette = palette_categories_analysis, order = reorder.sort_values('%', ascending=False)['category_cleaned']);\n",
    "\n",
    "for p in splot.patches:\n",
    "    splot.annotate(\" %.1f\" % p.get_width() + '%', xy=(p.get_width(), p.get_y()+p.get_height()/2),\n",
    "                   xytext=(5,0), textcoords='offset points', \n",
    "                   ha='left', va='center', fontsize = annotate_size, color = '#707780')\n",
    "splot.set_title(f\"Reorder Rate (%)\\n\" + \" \\n\" + \" \", color =  '#707780' , fontsize = fonttitle, loc = 'left', pad=40)\n",
    "\n",
    "# plt.yticks(fontsize =20)\n",
    "plt.ylabel(\"\")\n",
    "plt.xlim(0, 60)\n",
    "# splot.tick_params(labelsize=15)\n",
    "splot.yaxis.label.set_color('#707780')\n",
    "splot.spines['left'].set_color('#707780')\n",
    "splot.tick_params(axis='y', colors='#707780',labelsize=50, pad = 30)\n",
    "#     splot.axes.get_yaxis().set_visible(False)\n",
    "splot.spines['right'].set_visible(False)\n",
    "splot.spines['top'].set_visible(False)\n",
    "splot.spines['left'].set_visible(False)\n",
    "splot.spines['bottom'].set_visible(False)\n",
    "splot.axes.get_xaxis().set_visible(False)\n",
    "# plt.xlabel(f\"{aux3['user_buyer_id'].sum():,}\", color = '#707780', fontsize = 30)\n",
    "\n",
    "plt.subplot(142)\n",
    "sns.set_style('white')\n",
    "splot = sns.barplot(y = 'category_cleaned', x = 'gmv_share_repurchase', data = reorder, \n",
    "                    palette = palette_categories_analysis, \n",
    "                    order = list(reorder.sort_values('%', ascending=False)['category_cleaned']));\n",
    "\n",
    "for p in splot.patches:\n",
    "    splot.annotate(\" %.1f\" % p.get_width() + '%', xy=(p.get_width(), p.get_y()+p.get_height()/2),\n",
    "                   xytext=(5,0), textcoords='offset points', \n",
    "                   ha='left', va='center', fontsize = annotate_size, color = '#707780')\n",
    "splot.set_title(f\"Generated GMV (%)\\n\" + \"from buyers\\n\" + \"who repurchase \" , color =  '#707780' , fontsize = fonttitle, loc = 'left', pad=40)\n",
    "\n",
    "# plt.yticks(fontsize =20)\n",
    "plt.ylabel(\"\")\n",
    "plt.xlim(0, 60)\n",
    "# splot.tick_params(labelsize=15)\n",
    "splot.yaxis.label.set_color('#707780')\n",
    "splot.spines['left'].set_color('#707780')\n",
    "# splot.tick_params(axis='y', colors='#707780',labelsize=40, pad = 30)\n",
    "splot.axes.get_yaxis().set_visible(False)\n",
    "splot.spines['right'].set_visible(False)\n",
    "splot.spines['top'].set_visible(False)\n",
    "splot.spines['left'].set_visible(False)\n",
    "splot.spines['bottom'].set_visible(False)\n",
    "splot.axes.get_xaxis().set_visible(False)\n",
    "\n",
    "\n",
    "plt.subplot(143)\n",
    "sns.set_style('white')\n",
    "splot = sns.barplot(y = 'category_cleaned', x = 'overall_median_gmv', data = reorder, \n",
    "                    palette = palette_categories_analysis, \n",
    "                    order = list(reorder.sort_values('%', ascending=False)['category_cleaned']));\n",
    "\n",
    "for p in splot.patches:\n",
    "    splot.annotate(\" %.0f\" % p.get_width(), xy=(p.get_width(), p.get_y()+p.get_height()/2),\n",
    "                   xytext=(5,0), textcoords='offset points', \n",
    "                   ha='left', va='center', fontsize = annotate_size, color = '#707780')\n",
    "splot.set_title(f\"Global Avg. Ticket\\n\" + \"Price (BRL)\\n\" + \" \" , color =  '#707780' , fontsize = fonttitle, loc = 'left', pad=40)\n",
    "\n",
    "# plt.yticks(fontsize =20)\n",
    "plt.ylabel(\"\")\n",
    "plt.xlim(0, 2000)\n",
    "# splot.tick_params(labelsize=15)\n",
    "splot.yaxis.label.set_color('#707780')\n",
    "splot.spines['left'].set_color('#707780')\n",
    "# splot.tick_params(axis='y', colors='#707780',labelsize=40, pad = 30)\n",
    "splot.axes.get_yaxis().set_visible(False)\n",
    "splot.spines['right'].set_visible(False)\n",
    "splot.spines['top'].set_visible(False)\n",
    "splot.spines['left'].set_visible(False)\n",
    "splot.spines['bottom'].set_visible(False)\n",
    "splot.axes.get_xaxis().set_visible(False)\n",
    "\n",
    "plt.subplot(144)\n",
    "sns.set_style('white')\n",
    "splot = sns.barplot(y = 'category_cleaned', x = 'median_gmv_repurchase', data = reorder, \n",
    "                    palette = palette_categories_analysis, \n",
    "                    order = list(reorder.sort_values('%', ascending=False)['category_cleaned']));\n",
    "\n",
    "for n, p in zip(reorder['diff_median'], splot.patches):\n",
    "    splot.annotate(\" %.0f\" % p.get_width() + ' ' + \"(%.1f p.p)\" % n, xy=(p.get_width(), \n",
    "                                                                      p.get_y()+p.get_height()/2),xytext=(5,0), \n",
    "    textcoords='offset points', ha='left', va='center', fontsize = annotate_size, color = '#707780')\n",
    "\n",
    "splot.set_title(f\"Avg. Ticket Price (BRL)\\n\" + \"from buyers who repurchase\\n\" + \"(% diff from global ticket price)\" , color =  '#707780' , fontsize = fonttitle, loc = 'left', pad=40)\n",
    "\n",
    "# plt.yticks(fontsize =20)\n",
    "plt.ylabel(\"\")\n",
    "plt.xlim(0, 2000)\n",
    "# splot.tick_params(labelsize=15)\n",
    "splot.yaxis.label.set_color('#707780')\n",
    "splot.spines['left'].set_color('#707780')\n",
    "# splot.tick_params(axis='y', colors='#707780',labelsize=40, pad = 30)\n",
    "splot.axes.get_yaxis().set_visible(False)\n",
    "splot.spines['right'].set_visible(False)\n",
    "splot.spines['top'].set_visible(False)\n",
    "splot.spines['left'].set_visible(False)\n",
    "splot.spines['bottom'].set_visible(False)\n",
    "splot.axes.get_xaxis().set_visible(False)\n",
    "# plt.subplots_adjust(hspace=0.2)\n",
    "# plt.subplots_adjust(hspace=0.2)\n",
    "plt.subplots_adjust(wspace=0.05)\n",
    "plt.show()"
   ]
  },
  {
   "cell_type": "markdown",
   "metadata": {
    "hidden": true
   },
   "source": [
    "##### Producer segment - MEDIUM"
   ]
  },
  {
   "cell_type": "code",
   "execution_count": null,
   "metadata": {
    "ExecuteTime": {
     "end_time": "2022-09-14T22:26:42.248936Z",
     "start_time": "2022-09-14T22:26:02.454209Z"
    },
    "hidden": true,
    "scrolled": false
   },
   "outputs": [],
   "source": [
    "segment = 'MEDIUM'\n",
    "prov = df3[(df3['category_cleaned'] != 'SPARKLE') & (df3['segment'] == segment)]\n",
    "# calculate repurchase\n",
    "category = list(prov[['category_cleaned', 'purchase_id']].groupby('category_cleaned').count().reset_index().sort_values('purchase_id', ascending=False)['category_cleaned'])\n",
    "reorder = pd.DataFrame()\n",
    "share_gmv = pd.DataFrame()\n",
    "median_gmv = pd.DataFrame()\n",
    "overall_gmv = pd.DataFrame()\n",
    "\n",
    "for n, d in enumerate(category):\n",
    "    ### count purchases per user\n",
    "    aux1 = prov[(prov['category_cleaned'] == d)]\n",
    "    ### global median\n",
    "    global_med = pd.DataFrame({'category_cleaned' : [d], 'overall_median_gmv': aux1['gmv_value_brl'].median()})\n",
    "    overall_gmv = pd.concat([overall_gmv, global_med])\n",
    "    aux2 = aux1[['user_buyer_id', 'purchase_id']].groupby('user_buyer_id').count().reset_index()\n",
    "    aux2.columns = ['user_buyer_id', 'no_repurchase_temp']\n",
    "    aux1 = aux1.merge(aux2, how = 'left', on = 'user_buyer_id')\n",
    "    ### flag repurchase\n",
    "    aux1['repurchase_temp'] = aux1['no_repurchase_temp'].apply(lambda x : 'repurchase' if x > 1 else 'single-purchase')    \n",
    "    \n",
    "    ### calculate gmv captured by users who repurchase \n",
    "    share = aux1[['repurchase_temp', 'gmv_value_brl']].groupby('repurchase_temp').sum().reset_index()\n",
    "    share['gmv_share_repurchase'] = share['gmv_value_brl'] / share['gmv_value_brl'].sum() * 100\n",
    "    share = share[share['repurchase_temp'] == 'repurchase']\n",
    "    share['category_cleaned'] = d\n",
    "    share.columns = ['repurchase', 'gmv_value_brl_repurchase', 'gmv_share_repurchase', 'category_cleaned']\n",
    "    share = share[['category_cleaned', 'gmv_share_repurchase', 'gmv_value_brl_repurchase']]\n",
    "    share_gmv = share_gmv.append(share)\n",
    "\n",
    "    med = aux1[['user_buyer_id', 'repurchase_temp', \n",
    "                'gmv_value_brl']].groupby(['user_buyer_id','repurchase_temp']).sum().reset_index()\n",
    "    med = med[med['gmv_value_brl'] > 0]\n",
    "    med = med[['repurchase_temp', 'gmv_value_brl']].groupby('repurchase_temp').median().reset_index()\n",
    "    med = med[med['repurchase_temp'] == 'repurchase']\n",
    "    med.columns = ['repurchase', 'median_gmv_repurchase']\n",
    "    med['category_cleaned'] = d\n",
    "    med = med[['category_cleaned', 'median_gmv_repurchase']]\n",
    "    median_gmv = median_gmv.append(med)\n",
    "    \n",
    "    # get vol of users with purchase\n",
    "    rr = aux1[['no_repurchase_temp','repurchase_temp',  'user_buyer_id']].groupby(['repurchase_temp','no_repurchase_temp']).nunique().reset_index()\n",
    "    rr['%'] = rr['user_buyer_id'] / rr['user_buyer_id'].sum() * 100\n",
    "    rr = rr.sort_values('%', ascending=False)\n",
    "    # get users who repurchase\n",
    "    rr2 = rr[['repurchase_temp', 'user_buyer_id']].groupby('repurchase_temp').sum().reset_index()\n",
    "    rr2['%'] = rr2['user_buyer_id'] / rr2['user_buyer_id'].sum() * 100\n",
    "    rr3 = rr2[rr2['repurchase_temp'] == 'repurchase'][['%']]\n",
    "    rr3['category_cleaned'] = d\n",
    "    rr3 = rr3[['category_cleaned', '%']]\n",
    "    reorder = reorder.append(rr3)\n",
    "    \n",
    "# sort df\n",
    "reorder = reorder.sort_values('%', ascending=False)\n",
    "share_gmv = share_gmv.sort_values('gmv_share_repurchase', ascending=False)\n",
    "median_gmv = median_gmv.sort_values('median_gmv_repurchase', ascending=False)\n",
    "\n",
    "# set main dataset\n",
    "reorder = reorder.merge(share_gmv, \n",
    "                        how = 'left', \n",
    "                        on = 'category_cleaned').merge(median_gmv, \n",
    "                                                    how = 'left', \n",
    "                                                    on = 'category_cleaned').merge(overall_gmv, \n",
    "                                                                        how = 'left', \n",
    "                                                                        on = 'category_cleaned').sort_values('%', ascending=False)\n",
    "reorder['median_lower'] = reorder.apply(lambda x: 1 if x['median_gmv_repurchase'] < x['overall_median_gmv'] else 0, axis = 1)\n",
    "reorder['diff_median'] = (reorder['median_gmv_repurchase'] - reorder['overall_median_gmv']) / reorder['overall_median_gmv'] * 100\n",
    "reorder['diff_median_abs'] = abs(reorder['diff_median'])\n",
    "# reorder[['gmv_share_repurchase', 'diff_median']].corr()\n",
    "# sns.lmplot(x ='gmv_share_repurchase', y = 'diff_median', data = reorder);\n",
    "\n",
    "# # set palette\n",
    "# palette_categories_analysis = list()\n",
    "# for n in list(reorder['category_cleaned']):\n",
    "#     if int(reorder[reorder['category_cleaned'] == n]['median_lower']) == 1:\n",
    "#         palette_categories_analysis = palette_categories_analysis + ['r']\n",
    "#     else:\n",
    "#         palette_categories_analysis = palette_categories_analysis + ['g']\n",
    "\n",
    "# set palette\n",
    "palette_categories_analysis = list()\n",
    "for n in list(reorder['category_cleaned']):\n",
    "        palette_categories_analysis = palette_categories_analysis + ['#EF4E23']\n",
    "        \n",
    "fonttitle = 45\n",
    "annotate_size = 45\n",
    "plt.figure(figsize = (35,40))\n",
    "plt.subplot(141)\n",
    "# plot graph with annotations\n",
    "\n",
    "# '#707780' (grey)\n",
    "\n",
    "sns.set_style('white')\n",
    "splot = sns.barplot(y = 'category_cleaned', x = '%', data = reorder, palette = palette_categories_analysis, order = reorder.sort_values('%', ascending=False)['category_cleaned']);\n",
    "\n",
    "for p in splot.patches:\n",
    "    splot.annotate(\" %.1f\" % p.get_width() + '%', xy=(p.get_width(), p.get_y()+p.get_height()/2),\n",
    "                   xytext=(5,0), textcoords='offset points', \n",
    "                   ha='left', va='center', fontsize = annotate_size, color = '#707780')\n",
    "splot.set_title(f\"Reorder Rate (%)\\n\" + \" \\n\" + \" \", color =  '#707780' , fontsize = fonttitle, loc = 'left', pad=40)\n",
    "\n",
    "# plt.yticks(fontsize =20)\n",
    "plt.ylabel(\"\")\n",
    "plt.xlim(0, 60)\n",
    "# splot.tick_params(labelsize=15)\n",
    "splot.yaxis.label.set_color('#707780')\n",
    "splot.spines['left'].set_color('#707780')\n",
    "splot.tick_params(axis='y', colors='#707780',labelsize=50, pad = 30)\n",
    "#     splot.axes.get_yaxis().set_visible(False)\n",
    "splot.spines['right'].set_visible(False)\n",
    "splot.spines['top'].set_visible(False)\n",
    "splot.spines['left'].set_visible(False)\n",
    "splot.spines['bottom'].set_visible(False)\n",
    "splot.axes.get_xaxis().set_visible(False)\n",
    "# plt.xlabel(f\"{aux3['user_buyer_id'].sum():,}\", color = '#707780', fontsize = 30)\n",
    "\n",
    "plt.subplot(142)\n",
    "sns.set_style('white')\n",
    "splot = sns.barplot(y = 'category_cleaned', x = 'gmv_share_repurchase', data = reorder, \n",
    "                    palette = palette_categories_analysis, \n",
    "                    order = list(reorder.sort_values('%', ascending=False)['category_cleaned']));\n",
    "\n",
    "for p in splot.patches:\n",
    "    splot.annotate(\" %.1f\" % p.get_width() + '%', xy=(p.get_width(), p.get_y()+p.get_height()/2),\n",
    "                   xytext=(5,0), textcoords='offset points', \n",
    "                   ha='left', va='center', fontsize = annotate_size, color = '#707780')\n",
    "splot.set_title(f\"Generated GMV (%)\\n\" + \"from buyers\\n\" + \"who repurchase \" , color =  '#707780' , fontsize = fonttitle, loc = 'left', pad=40)\n",
    "\n",
    "# plt.yticks(fontsize =20)\n",
    "plt.ylabel(\"\")\n",
    "plt.xlim(0, 60)\n",
    "# splot.tick_params(labelsize=15)\n",
    "splot.yaxis.label.set_color('#707780')\n",
    "splot.spines['left'].set_color('#707780')\n",
    "# splot.tick_params(axis='y', colors='#707780',labelsize=40, pad = 30)\n",
    "splot.axes.get_yaxis().set_visible(False)\n",
    "splot.spines['right'].set_visible(False)\n",
    "splot.spines['top'].set_visible(False)\n",
    "splot.spines['left'].set_visible(False)\n",
    "splot.spines['bottom'].set_visible(False)\n",
    "splot.axes.get_xaxis().set_visible(False)\n",
    "\n",
    "\n",
    "plt.subplot(143)\n",
    "sns.set_style('white')\n",
    "splot = sns.barplot(y = 'category_cleaned', x = 'overall_median_gmv', data = reorder, \n",
    "                    palette = palette_categories_analysis, \n",
    "                    order = list(reorder.sort_values('%', ascending=False)['category_cleaned']));\n",
    "\n",
    "for p in splot.patches:\n",
    "    splot.annotate(\" %.0f\" % p.get_width(), xy=(p.get_width(), p.get_y()+p.get_height()/2),\n",
    "                   xytext=(5,0), textcoords='offset points', \n",
    "                   ha='left', va='center', fontsize = annotate_size, color = '#707780')\n",
    "splot.set_title(f\"Global Avg. Ticket\\n\" + \"Price (BRL)\\n\" + \" \" , color =  '#707780' , fontsize = fonttitle, loc = 'left', pad=40)\n",
    "\n",
    "# plt.yticks(fontsize =20)\n",
    "plt.ylabel(\"\")\n",
    "plt.xlim(0, 2000)\n",
    "# splot.tick_params(labelsize=15)\n",
    "splot.yaxis.label.set_color('#707780')\n",
    "splot.spines['left'].set_color('#707780')\n",
    "# splot.tick_params(axis='y', colors='#707780',labelsize=40, pad = 30)\n",
    "splot.axes.get_yaxis().set_visible(False)\n",
    "splot.spines['right'].set_visible(False)\n",
    "splot.spines['top'].set_visible(False)\n",
    "splot.spines['left'].set_visible(False)\n",
    "splot.spines['bottom'].set_visible(False)\n",
    "splot.axes.get_xaxis().set_visible(False)\n",
    "\n",
    "plt.subplot(144)\n",
    "sns.set_style('white')\n",
    "splot = sns.barplot(y = 'category_cleaned', x = 'median_gmv_repurchase', data = reorder, \n",
    "                    palette = palette_categories_analysis, \n",
    "                    order = list(reorder.sort_values('%', ascending=False)['category_cleaned']));\n",
    "\n",
    "for n, p in zip(reorder['diff_median'], splot.patches):\n",
    "    splot.annotate(\" %.0f\" % p.get_width() + ' ' + \"(%.1f p.p)\" % n, xy=(p.get_width(), \n",
    "                                                                      p.get_y()+p.get_height()/2),xytext=(5,0), \n",
    "    textcoords='offset points', ha='left', va='center', fontsize = annotate_size, color = '#707780')\n",
    "\n",
    "splot.set_title(f\"Avg. Ticket Price (BRL)\\n\" + \"from buyers who repurchase\\n\" + \"(% diff from global ticket price)\" , color =  '#707780' , fontsize = fonttitle, loc = 'left', pad=40)\n",
    "\n",
    "# plt.yticks(fontsize =20)\n",
    "plt.ylabel(\"\")\n",
    "plt.xlim(0, 2000)\n",
    "# splot.tick_params(labelsize=15)\n",
    "splot.yaxis.label.set_color('#707780')\n",
    "splot.spines['left'].set_color('#707780')\n",
    "# splot.tick_params(axis='y', colors='#707780',labelsize=40, pad = 30)\n",
    "splot.axes.get_yaxis().set_visible(False)\n",
    "splot.spines['right'].set_visible(False)\n",
    "splot.spines['top'].set_visible(False)\n",
    "splot.spines['left'].set_visible(False)\n",
    "splot.spines['bottom'].set_visible(False)\n",
    "splot.axes.get_xaxis().set_visible(False)\n",
    "# plt.subplots_adjust(hspace=0.2)\n",
    "# plt.subplots_adjust(hspace=0.2)\n",
    "plt.subplots_adjust(wspace=0.05)\n",
    "plt.show()"
   ]
  },
  {
   "cell_type": "markdown",
   "metadata": {
    "hidden": true
   },
   "source": [
    "##### Producer segment - LARGE"
   ]
  },
  {
   "cell_type": "code",
   "execution_count": null,
   "metadata": {
    "ExecuteTime": {
     "end_time": "2022-09-15T00:33:40.787943Z",
     "start_time": "2022-09-15T00:33:23.765918Z"
    },
    "hidden": true,
    "scrolled": false
   },
   "outputs": [],
   "source": [
    "segment = 'LARGE'\n",
    "prov = df3[(df3['category_cleaned'] != 'SPARKLE') & (df3['segment'] == segment)]\n",
    "# calculate repurchase\n",
    "category = list(prov[['category_cleaned', 'purchase_id']].groupby('category_cleaned').count().reset_index().sort_values('purchase_id', ascending=False)['category_cleaned'])\n",
    "reorder = pd.DataFrame()\n",
    "share_gmv = pd.DataFrame()\n",
    "median_gmv = pd.DataFrame()\n",
    "overall_gmv = pd.DataFrame()\n",
    "\n",
    "for n, d in enumerate(category):\n",
    "    ### count purchases per user\n",
    "    aux1 = prov[(prov['category_cleaned'] == d)]\n",
    "    ### global median\n",
    "    global_med = pd.DataFrame({'category_cleaned' : [d], 'overall_median_gmv': aux1['gmv_value_brl'].median()})\n",
    "    overall_gmv = pd.concat([overall_gmv, global_med])\n",
    "    aux2 = aux1[['user_buyer_id', 'purchase_id']].groupby('user_buyer_id').count().reset_index()\n",
    "    aux2.columns = ['user_buyer_id', 'no_repurchase_temp']\n",
    "    aux1 = aux1.merge(aux2, how = 'left', on = 'user_buyer_id')\n",
    "    ### flag repurchase\n",
    "    aux1['repurchase_temp'] = aux1['no_repurchase_temp'].apply(lambda x : 'repurchase' if x > 1 else 'single-purchase')    \n",
    "    \n",
    "    ### calculate gmv captured by users who repurchase \n",
    "    share = aux1[['repurchase_temp', 'gmv_value_brl']].groupby('repurchase_temp').sum().reset_index()\n",
    "    share['gmv_share_repurchase'] = share['gmv_value_brl'] / share['gmv_value_brl'].sum() * 100\n",
    "    share = share[share['repurchase_temp'] == 'repurchase']\n",
    "    share['category_cleaned'] = d\n",
    "    share.columns = ['repurchase', 'gmv_value_brl_repurchase', 'gmv_share_repurchase', 'category_cleaned']\n",
    "    share = share[['category_cleaned', 'gmv_share_repurchase', 'gmv_value_brl_repurchase']]\n",
    "    share_gmv = share_gmv.append(share)\n",
    "\n",
    "    med = aux1[['user_buyer_id', 'repurchase_temp', \n",
    "                'gmv_value_brl']].groupby(['user_buyer_id','repurchase_temp']).sum().reset_index()\n",
    "    med = med[med['gmv_value_brl'] > 0]\n",
    "    med = med[['repurchase_temp', 'gmv_value_brl']].groupby('repurchase_temp').median().reset_index()\n",
    "    med = med[med['repurchase_temp'] == 'repurchase']\n",
    "    med.columns = ['repurchase', 'median_gmv_repurchase']\n",
    "    med['category_cleaned'] = d\n",
    "    med = med[['category_cleaned', 'median_gmv_repurchase']]\n",
    "    median_gmv = median_gmv.append(med)\n",
    "    \n",
    "    # get vol of users with purchase\n",
    "    rr = aux1[['no_repurchase_temp','repurchase_temp',  'user_buyer_id']].groupby(['repurchase_temp','no_repurchase_temp']).nunique().reset_index()\n",
    "    rr['%'] = rr['user_buyer_id'] / rr['user_buyer_id'].sum() * 100\n",
    "    rr = rr.sort_values('%', ascending=False)\n",
    "    # get users who repurchase\n",
    "    rr2 = rr[['repurchase_temp', 'user_buyer_id']].groupby('repurchase_temp').sum().reset_index()\n",
    "    rr2['%'] = rr2['user_buyer_id'] / rr2['user_buyer_id'].sum() * 100\n",
    "    rr3 = rr2[rr2['repurchase_temp'] == 'repurchase'][['%']]\n",
    "    rr3['category_cleaned'] = d\n",
    "    rr3 = rr3[['category_cleaned', '%']]\n",
    "    reorder = reorder.append(rr3)\n",
    "    \n",
    "# sort df\n",
    "reorder = reorder.sort_values('%', ascending=False)\n",
    "share_gmv = share_gmv.sort_values('gmv_share_repurchase', ascending=False)\n",
    "median_gmv = median_gmv.sort_values('median_gmv_repurchase', ascending=False)\n",
    "\n",
    "# set main dataset\n",
    "reorder = reorder.merge(share_gmv, \n",
    "                        how = 'left', \n",
    "                        on = 'category_cleaned').merge(median_gmv, \n",
    "                                                    how = 'left', \n",
    "                                                    on = 'category_cleaned').merge(overall_gmv, \n",
    "                                                                        how = 'left', \n",
    "                                                                        on = 'category_cleaned').sort_values('%', ascending=False)\n",
    "reorder['median_lower'] = reorder.apply(lambda x: 1 if x['median_gmv_repurchase'] < x['overall_median_gmv'] else 0, axis = 1)\n",
    "reorder['diff_median'] = (reorder['median_gmv_repurchase'] - reorder['overall_median_gmv']) / reorder['overall_median_gmv'] * 100\n",
    "reorder['diff_median_abs'] = abs(reorder['diff_median'])\n",
    "# reorder[['gmv_share_repurchase', 'diff_median']].corr()\n",
    "# sns.lmplot(x ='gmv_share_repurchase', y = 'diff_median', data = reorder);\n",
    "\n",
    "# # set palette\n",
    "# palette_categories_analysis = list()\n",
    "# for n in list(reorder['category_cleaned']):\n",
    "#     if int(reorder[reorder['category_cleaned'] == n]['median_lower']) == 1:\n",
    "#         palette_categories_analysis = palette_categories_analysis + ['r']\n",
    "#     else:\n",
    "#         palette_categories_analysis = palette_categories_analysis + ['g']\n",
    "\n",
    "# set palette\n",
    "palette_categories_analysis = list()\n",
    "for n in list(reorder['category_cleaned']):\n",
    "        palette_categories_analysis = palette_categories_analysis + ['#EF4E23']\n",
    "        \n",
    "fonttitle = 45\n",
    "annotate_size = 45\n",
    "\n",
    "plt.figure(figsize = (35,40))\n",
    "plt.subplot(141)\n",
    "# plot graph with annotations\n",
    "\n",
    "# '#707780' (grey)\n",
    "\n",
    "sns.set_style('white')\n",
    "splot = sns.barplot(y = 'category_cleaned', x = '%', data = reorder, palette = palette_categories_analysis, order = reorder.sort_values('%', ascending=False)['category_cleaned']);\n",
    "\n",
    "for p in splot.patches:\n",
    "    splot.annotate(\" %.1f\" % p.get_width() + '%', xy=(p.get_width(), p.get_y()+p.get_height()/2),\n",
    "                   xytext=(5,0), textcoords='offset points', \n",
    "                   ha='left', va='center', fontsize = annotate_size, color = '#707780')\n",
    "splot.set_title(f\"Reorder Rate (%)\\n\" + \" \\n\" + \" \", color =  '#707780' , fontsize = fonttitle, loc = 'left', pad=40)\n",
    "\n",
    "# plt.yticks(fontsize =20)\n",
    "plt.ylabel(\"\")\n",
    "plt.xlim(0, 60)\n",
    "# splot.tick_params(labelsize=15)\n",
    "splot.yaxis.label.set_color('#707780')\n",
    "splot.spines['left'].set_color('#707780')\n",
    "splot.tick_params(axis='y', colors='#707780',labelsize=50, pad = 30)\n",
    "#     splot.axes.get_yaxis().set_visible(False)\n",
    "splot.spines['right'].set_visible(False)\n",
    "splot.spines['top'].set_visible(False)\n",
    "splot.spines['left'].set_visible(False)\n",
    "splot.spines['bottom'].set_visible(False)\n",
    "splot.axes.get_xaxis().set_visible(False)\n",
    "# plt.xlabel(f\"{aux3['user_buyer_id'].sum():,}\", color = '#707780', fontsize = 30)\n",
    "\n",
    "plt.subplot(142)\n",
    "sns.set_style('white')\n",
    "splot = sns.barplot(y = 'category_cleaned', x = 'gmv_share_repurchase', data = reorder, \n",
    "                    palette = palette_categories_analysis, \n",
    "                    order = list(reorder.sort_values('%', ascending=False)['category_cleaned']));\n",
    "\n",
    "for p in splot.patches:\n",
    "    splot.annotate(\" %.1f\" % p.get_width() + '%', xy=(p.get_width(), p.get_y()+p.get_height()/2),\n",
    "                   xytext=(5,0), textcoords='offset points', \n",
    "                   ha='left', va='center', fontsize = annotate_size, color = '#707780')\n",
    "splot.set_title(f\"Generated GMV (%)\\n\" + \"from buyers\\n\" + \"who repurchase \" , color =  '#707780' , fontsize = fonttitle, loc = 'left', pad=40)\n",
    "\n",
    "# plt.yticks(fontsize =20)\n",
    "plt.ylabel(\"\")\n",
    "plt.xlim(0, 60)\n",
    "# splot.tick_params(labelsize=15)\n",
    "splot.yaxis.label.set_color('#707780')\n",
    "splot.spines['left'].set_color('#707780')\n",
    "# splot.tick_params(axis='y', colors='#707780',labelsize=40, pad = 30)\n",
    "splot.axes.get_yaxis().set_visible(False)\n",
    "splot.spines['right'].set_visible(False)\n",
    "splot.spines['top'].set_visible(False)\n",
    "splot.spines['left'].set_visible(False)\n",
    "splot.spines['bottom'].set_visible(False)\n",
    "splot.axes.get_xaxis().set_visible(False)\n",
    "\n",
    "\n",
    "plt.subplot(143)\n",
    "sns.set_style('white')\n",
    "splot = sns.barplot(y = 'category_cleaned', x = 'overall_median_gmv', data = reorder, \n",
    "                    palette = palette_categories_analysis, \n",
    "                    order = list(reorder.sort_values('%', ascending=False)['category_cleaned']));\n",
    "\n",
    "for p in splot.patches:\n",
    "    splot.annotate(\" %.0f\" % p.get_width(), xy=(p.get_width(), p.get_y()+p.get_height()/2),\n",
    "                   xytext=(5,0), textcoords='offset points', \n",
    "                   ha='left', va='center', fontsize = annotate_size, color = '#707780')\n",
    "splot.set_title(f\"Global Avg. Ticket\\n\" + \"Price (BRL)\\n\" + \" \" , color =  '#707780' , fontsize = fonttitle, loc = 'left', pad=40)\n",
    "\n",
    "# plt.yticks(fontsize =20)\n",
    "plt.ylabel(\"\")\n",
    "plt.xlim(0, 4000)\n",
    "# splot.tick_params(labelsize=15)\n",
    "splot.yaxis.label.set_color('#707780')\n",
    "splot.spines['left'].set_color('#707780')\n",
    "# splot.tick_params(axis='y', colors='#707780',labelsize=40, pad = 30)\n",
    "splot.axes.get_yaxis().set_visible(False)\n",
    "splot.spines['right'].set_visible(False)\n",
    "splot.spines['top'].set_visible(False)\n",
    "splot.spines['left'].set_visible(False)\n",
    "splot.spines['bottom'].set_visible(False)\n",
    "splot.axes.get_xaxis().set_visible(False)\n",
    "\n",
    "plt.subplot(144)\n",
    "sns.set_style('white')\n",
    "splot = sns.barplot(y = 'category_cleaned', x = 'median_gmv_repurchase', data = reorder, \n",
    "                    palette = palette_categories_analysis, \n",
    "                    order = list(reorder.sort_values('%', ascending=False)['category_cleaned']));\n",
    "\n",
    "for n, p in zip(reorder['diff_median'], splot.patches):\n",
    "    splot.annotate(\" %.0f\" % p.get_width() + ' ' + \"(%.1f p.p)\" % n, xy=(p.get_width(), \n",
    "                                                                      p.get_y()+p.get_height()/2),xytext=(5,0), \n",
    "    textcoords='offset points', ha='left', va='center', fontsize = annotate_size, color = '#707780')\n",
    "\n",
    "splot.set_title(f\"Avg. Ticket Price (BRL)\\n\" + \"from buyers who repurchase\\n\" + \"(% diff from global ticket price)\" , color =  '#707780' , fontsize = fonttitle, loc = 'left', pad=40)\n",
    "\n",
    "# plt.yticks(fontsize =20)\n",
    "plt.ylabel(\"\")\n",
    "plt.xlim(0, 4000)\n",
    "# splot.tick_params(labelsize=15)\n",
    "splot.yaxis.label.set_color('#707780')\n",
    "splot.spines['left'].set_color('#707780')\n",
    "# splot.tick_params(axis='y', colors='#707780',labelsize=40, pad = 30)\n",
    "splot.axes.get_yaxis().set_visible(False)\n",
    "splot.spines['right'].set_visible(False)\n",
    "splot.spines['top'].set_visible(False)\n",
    "splot.spines['left'].set_visible(False)\n",
    "splot.spines['bottom'].set_visible(False)\n",
    "splot.axes.get_xaxis().set_visible(False)\n",
    "# plt.subplots_adjust(hspace=0.2)\n",
    "# plt.subplots_adjust(hspace=0.2)\n",
    "plt.subplots_adjust(wspace=0.05)\n",
    "plt.show()\n"
   ]
  },
  {
   "cell_type": "code",
   "execution_count": null,
   "metadata": {
    "ExecuteTime": {
     "end_time": "2022-09-15T00:35:00.772130Z",
     "start_time": "2022-09-15T00:34:59.506864Z"
    },
    "hidden": true
   },
   "outputs": [],
   "source": [
    "plt.figure(figsize = (35,40))\n",
    "plt.subplot(141)\n",
    "# plot graph with annotations\n",
    "\n",
    "# '#707780' (grey)\n",
    "\n",
    "sns.set_style('white')\n",
    "splot = sns.barplot(y = 'category_cleaned', x = '%', data = reorder, palette = palette_categories_analysis, order = reorder.sort_values('%', ascending=False)['category_cleaned']);\n",
    "\n",
    "for p in splot.patches:\n",
    "    splot.annotate(\" %.1f\" % p.get_width() + '%', xy=(p.get_width(), p.get_y()+p.get_height()/2),\n",
    "                   xytext=(5,0), textcoords='offset points', \n",
    "                   ha='left', va='center', fontsize = annotate_size, color = '#707780')\n",
    "splot.set_title(f\"Reorder Rate (%)\\n\" + \" \\n\" + \" \", color =  '#707780' , fontsize = fonttitle, loc = 'left', pad=40)\n",
    "\n",
    "# plt.yticks(fontsize =20)\n",
    "plt.ylabel(\"\")\n",
    "plt.xlim(0, 60)\n",
    "# splot.tick_params(labelsize=15)\n",
    "splot.yaxis.label.set_color('#707780')\n",
    "splot.spines['left'].set_color('#707780')\n",
    "splot.tick_params(axis='y', colors='#707780',labelsize=50, pad = 30)\n",
    "#     splot.axes.get_yaxis().set_visible(False)\n",
    "splot.spines['right'].set_visible(False)\n",
    "splot.spines['top'].set_visible(False)\n",
    "splot.spines['left'].set_visible(False)\n",
    "splot.spines['bottom'].set_visible(False)\n",
    "splot.axes.get_xaxis().set_visible(False)\n",
    "# plt.xlabel(f\"{aux3['user_buyer_id'].sum():,}\", color = '#707780', fontsize = 30)\n",
    "\n",
    "plt.subplot(142)\n",
    "sns.set_style('white')\n",
    "splot = sns.barplot(y = 'category_cleaned', x = 'gmv_share_repurchase', data = reorder, \n",
    "                    palette = palette_categories_analysis, \n",
    "                    order = list(reorder.sort_values('%', ascending=False)['category_cleaned']));\n",
    "\n",
    "for p in splot.patches:\n",
    "    splot.annotate(\" %.1f\" % p.get_width() + '%', xy=(p.get_width(), p.get_y()+p.get_height()/2),\n",
    "                   xytext=(5,0), textcoords='offset points', \n",
    "                   ha='left', va='center', fontsize = annotate_size, color = '#707780')\n",
    "splot.set_title(f\"Generated GMV (%)\\n\" + \"from buyers\\n\" + \"who repurchase \" , color =  '#707780' , fontsize = fonttitle, loc = 'left', pad=40)\n",
    "\n",
    "# plt.yticks(fontsize =20)\n",
    "plt.ylabel(\"\")\n",
    "plt.xlim(0, 60)\n",
    "# splot.tick_params(labelsize=15)\n",
    "splot.yaxis.label.set_color('#707780')\n",
    "splot.spines['left'].set_color('#707780')\n",
    "# splot.tick_params(axis='y', colors='#707780',labelsize=40, pad = 30)\n",
    "splot.axes.get_yaxis().set_visible(False)\n",
    "splot.spines['right'].set_visible(False)\n",
    "splot.spines['top'].set_visible(False)\n",
    "splot.spines['left'].set_visible(False)\n",
    "splot.spines['bottom'].set_visible(False)\n",
    "splot.axes.get_xaxis().set_visible(False)\n",
    "\n",
    "\n",
    "plt.subplot(143)\n",
    "sns.set_style('white')\n",
    "splot = sns.barplot(y = 'category_cleaned', x = 'overall_median_gmv', data = reorder, \n",
    "                    palette = palette_categories_analysis, \n",
    "                    order = list(reorder.sort_values('%', ascending=False)['category_cleaned']));\n",
    "\n",
    "for p in splot.patches:\n",
    "    splot.annotate(\" %.0f\" % p.get_width(), xy=(p.get_width(), p.get_y()+p.get_height()/2),\n",
    "                   xytext=(5,0), textcoords='offset points', \n",
    "                   ha='left', va='center', fontsize = annotate_size, color = '#707780')\n",
    "splot.set_title(f\"Global Avg. Ticket\\n\" + \"Price (BRL)\\n\" + \" \" , color =  '#707780' , fontsize = fonttitle, loc = 'left', pad=40)\n",
    "\n",
    "# plt.yticks(fontsize =20)\n",
    "plt.ylabel(\"\")\n",
    "plt.xlim(0, 4000)\n",
    "# splot.tick_params(labelsize=15)\n",
    "splot.yaxis.label.set_color('#707780')\n",
    "splot.spines['left'].set_color('#707780')\n",
    "# splot.tick_params(axis='y', colors='#707780',labelsize=40, pad = 30)\n",
    "splot.axes.get_yaxis().set_visible(False)\n",
    "splot.spines['right'].set_visible(False)\n",
    "splot.spines['top'].set_visible(False)\n",
    "splot.spines['left'].set_visible(False)\n",
    "splot.spines['bottom'].set_visible(False)\n",
    "splot.axes.get_xaxis().set_visible(False)\n",
    "\n",
    "plt.subplot(144)\n",
    "sns.set_style('white')\n",
    "splot = sns.barplot(y = 'category_cleaned', x = 'median_gmv_repurchase', data = reorder, \n",
    "                    palette = palette_categories_analysis, \n",
    "                    order = list(reorder.sort_values('%', ascending=False)['category_cleaned']));\n",
    "\n",
    "for n, p in zip(reorder['diff_median'], splot.patches):\n",
    "    splot.annotate(\" %.0f\" % p.get_width() + ' ' + \"(%.1f p.p)\" % n, xy=(p.get_width(), \n",
    "                                                                      p.get_y()+p.get_height()/2),xytext=(5,0), \n",
    "    textcoords='offset points', ha='left', va='center', fontsize = annotate_size, color = '#707780')\n",
    "\n",
    "splot.set_title(f\"Avg. Ticket Price (BRL)\\n\" + \"from buyers who repurchase\\n\" + \"(% diff from global ticket price)\" , color =  '#707780' , fontsize = fonttitle, loc = 'left', pad=40)\n",
    "\n",
    "# plt.yticks(fontsize =20)\n",
    "plt.ylabel(\"\")\n",
    "plt.xlim(0, 4000)\n",
    "# splot.tick_params(labelsize=15)\n",
    "splot.yaxis.label.set_color('#707780')\n",
    "splot.spines['left'].set_color('#707780')\n",
    "# splot.tick_params(axis='y', colors='#707780',labelsize=40, pad = 30)\n",
    "splot.axes.get_yaxis().set_visible(False)\n",
    "splot.spines['right'].set_visible(False)\n",
    "splot.spines['top'].set_visible(False)\n",
    "splot.spines['left'].set_visible(False)\n",
    "splot.spines['bottom'].set_visible(False)\n",
    "splot.axes.get_xaxis().set_visible(False)\n",
    "# plt.subplots_adjust(hspace=0.2)\n",
    "# plt.subplots_adjust(hspace=0.2)\n",
    "plt.subplots_adjust(wspace=0.05)\n",
    "plt.show()"
   ]
  },
  {
   "cell_type": "markdown",
   "metadata": {
    "heading_collapsed": true,
    "hidden": true
   },
   "source": [
    "#### Producers < 10k BRL LTV"
   ]
  },
  {
   "cell_type": "markdown",
   "metadata": {
    "hidden": true
   },
   "source": [
    "- For this analysis, repurchases can be related to any producer within the same threshold. \n",
    "- Premise: if a repurchase was related to a producer from a different threshold, this purchase will be discarded. "
   ]
  },
  {
   "cell_type": "code",
   "execution_count": null,
   "metadata": {
    "ExecuteTime": {
     "end_time": "2022-08-22T13:33:30.656332Z",
     "start_time": "2022-08-22T13:33:04.346836Z"
    },
    "hidden": true
   },
   "outputs": [],
   "source": [
    "prov = df3[df3['category_cleaned'] != 'SPARKLE']\n",
    "# get list\n",
    "category = list(prov[['category_cleaned', 'purchase_id']].groupby('category_cleaned').count().reset_index().sort_values('purchase_id', ascending=False)['category_cleaned'])\n",
    "office = list(df3[['user_office_name', 'purchase_id']].groupby('user_office_name').count().reset_index().sort_values('purchase_id', ascending=False)['user_office_name'])\n",
    "\n",
    "\n",
    "plt.figure(figsize = (20,15))\n",
    "for e, f in enumerate(['below', 'above']):\n",
    "    plt.subplot(1,2,e+1)\n",
    "    aux0 = prov[prov['is_below_10_entire'] == f]\n",
    "    aux1 = aux0[['purchase_id', 'category_cleaned']].groupby('category_cleaned').count().reset_index()\n",
    "    aux1['%'] = aux1['purchase_id'] / aux1['purchase_id'].sum() * 100\n",
    "    for g in category:\n",
    "        if len(aux1[aux1['category_cleaned'] == g]) == 0:\n",
    "            aux1 = aux1.append({'category_cleaned': g, 'purchase_id': 0, '%': 0}, ignore_index=True)\n",
    "    # plot graph with annotations\n",
    "    aux1 = aux1.sort_values('%', ascending=False)\n",
    "    aux1['hex'] = palette_topics[:-1]\n",
    "    aux2 = pd.DataFrame(category, columns =['category_cleaned'])\n",
    "    aux2 = aux2.merge(aux1, how = 'left', on = 'category_cleaned')\n",
    "    sns.set_style('white')\n",
    "    splot = sns.barplot(y = 'category_cleaned', x = '%', data = aux2, palette = list(aux2['hex']), order = category);\n",
    "    for p in splot.patches:\n",
    "        splot.annotate(\"%.2f\" % p.get_width(), xy=(p.get_width(), p.get_y()+p.get_height()/2),\n",
    "                       xytext=(5,0), textcoords='offset points', ha='left', va='center')\n",
    "    plt.title(f\"{f} | {aux1['purchase_id'].sum():,}\")\n",
    "    plt.yticks(fontsize =16)\n",
    "    plt.xlabel(\"Num of Purchases (%)\")\n",
    "    plt.ylabel(\"\")\n",
    "    plt.xlim(0, 100)\n",
    "    splot.axes.get_yaxis().set_visible(False)\n",
    "    if e == 0:\n",
    "        splot.axes.get_yaxis().set_visible(True)\n",
    "    #         splot.spines['right'].set_visible(False)\n",
    "    #         splot.spines['top'].set_visible(False)\n",
    "    #         splot.spines['left'].set_visible(False)\n",
    "    #         splot.spines['bottom'].set_visible(False)\n",
    "#     splot.axes.get_xaxis().set_visible(False)\n",
    "    #         splot.axes.get_yaxis().set_visible(False)\n",
    "plt.subplots_adjust(hspace=0.1)\n",
    "plt.subplots_adjust(wspace=0.3)\n",
    "plt.show()"
   ]
  },
  {
   "cell_type": "code",
   "execution_count": null,
   "metadata": {
    "ExecuteTime": {
     "end_time": "2022-08-22T13:35:35.639771Z",
     "start_time": "2022-08-22T13:33:30.662478Z"
    },
    "hidden": true
   },
   "outputs": [],
   "source": [
    "prov = df3[df3['category_cleaned'] != 'SPARKLE']\n",
    "# get list\n",
    "category = list(prov[['category_cleaned', 'purchase_id']].groupby('category_cleaned').count().reset_index().sort_values('purchase_id', ascending=False)['category_cleaned'])\n",
    "\n",
    "plt.figure(figsize = (12,12))\n",
    "for e, f in enumerate(['below', 'above']):\n",
    "    plt.subplot(1,2,e+1)\n",
    "    reorder = pd.DataFrame()\n",
    "    aux0 = prov[prov['is_below_10_entire'] == f]\n",
    "    for n, d in enumerate(category):\n",
    "        ### count purchases per user\n",
    "        aux1 = aux0[aux0['category_cleaned'] == d]\n",
    "        aux2 = aux1[['user_buyer_id', 'purchase_id']].groupby('user_buyer_id').count().reset_index()\n",
    "        aux2.columns = ['user_buyer_id', 'no_repurchase_temp']\n",
    "        aux1 = aux1.merge(aux2, how = 'left', on = 'user_buyer_id')\n",
    "        ### flag repurchase\n",
    "        aux1['repurchase_temp'] = aux1['no_repurchase_temp'].apply(lambda x : 'repurchase' if x > 1 else 'single-purchase')    \n",
    "\n",
    "        # get vol of users with purchase\n",
    "        aux1 = aux1[['no_repurchase_temp','repurchase_temp',  'user_buyer_id']].groupby(['repurchase_temp','no_repurchase_temp']).nunique().reset_index()\n",
    "        aux1['%'] = aux1['user_buyer_id'] / aux1['user_buyer_id'].sum() * 100\n",
    "        aux1 = aux1.sort_values('%', ascending=False)\n",
    "        # get users who repurchase\n",
    "        aux3 = aux1[['repurchase_temp', 'user_buyer_id']].groupby('repurchase_temp').sum().reset_index()\n",
    "        aux3['%'] = aux3['user_buyer_id'] / aux3['user_buyer_id'].sum() * 100\n",
    "        aux4 = aux3[aux3['repurchase_temp'] == 'repurchase'][['%']]\n",
    "        aux4['category_cleaned'] = d\n",
    "        aux4 = aux4[['category_cleaned', '%']]\n",
    "        reorder = reorder.append(aux4)\n",
    "    for g in category:\n",
    "        if len(reorder[reorder['category_cleaned'] == g]) == 0:\n",
    "            reorder = reorder.append({'category_cleaned': g, '%': 0}, ignore_index=True)\n",
    "    # plot graph with annotations\n",
    "    reorder = reorder.sort_values('%', ascending=False)\n",
    "    reorder['hex'] = palette_topics[:-1]\n",
    "    aux1 = pd.DataFrame(category, columns =['category_cleaned'])\n",
    "    aux1 = aux1.merge(reorder, how = 'left', on = 'category_cleaned')\n",
    "    sns.set_style('white')\n",
    "    splot = sns.barplot(y = 'category_cleaned', x = '%', data = aux1, palette = list(aux1['hex']), order = category);\n",
    "    for p in splot.patches:\n",
    "        splot.annotate(\"%.2f\" % p.get_width(), xy=(p.get_width(), p.get_y()+p.get_height()/2),\n",
    "                       xytext=(5,0), textcoords='offset points', ha='left', va='center')\n",
    "    plt.title(f\"{f}\")\n",
    "    plt.yticks(fontsize =16)\n",
    "    plt.xlabel(\"Reorder Rate (%)\")\n",
    "    plt.ylabel(\"\")\n",
    "    plt.xlim(0, 80)\n",
    "    splot.axes.get_yaxis().set_visible(False)\n",
    "    if e == 0:\n",
    "        splot.axes.get_yaxis().set_visible(True)\n",
    "#         splot.spines['right'].set_visible(False)\n",
    "#         splot.spines['top'].set_visible(False)\n",
    "#         splot.spines['left'].set_visible(False)\n",
    "#         splot.spines['bottom'].set_visible(False)\n",
    "    splot.axes.get_xaxis().set_visible(False)\n",
    "#         splot.axes.get_yaxis().set_visible(False)\n",
    "# plt.subplots_adjust(hspace=0.2)\n",
    "plt.subplots_adjust(wspace=0.1)\n",
    "plt.show()"
   ]
  },
  {
   "cell_type": "markdown",
   "metadata": {
    "heading_collapsed": true
   },
   "source": [
    "### (MATRIX) What are the categories with higher reorder rate among repurchases? (by customer country, producer office, producer segment, producers below 10k BRL LTV)"
   ]
  },
  {
   "cell_type": "markdown",
   "metadata": {
    "hidden": true
   },
   "source": [
    "- In this analysis, reorder rate is a bit different from previous definition. Here we define reorder rate as the number of times that a repurchase occurred for a pair of categories."
   ]
  },
  {
   "cell_type": "markdown",
   "metadata": {
    "heading_collapsed": true,
    "hidden": true
   },
   "source": [
    "#### Overall"
   ]
  },
  {
   "cell_type": "code",
   "execution_count": null,
   "metadata": {
    "ExecuteTime": {
     "end_time": "2022-08-22T13:36:35.583045Z",
     "start_time": "2022-08-22T13:35:35.644980Z"
    },
    "hidden": true
   },
   "outputs": [],
   "source": [
    "# set df\n",
    "prov = df3[df3['category_cleaned'] != 'SPARKLE']\n",
    "# get rank of purchases\n",
    "prov['category_cleaned2'] = prov.sort_values('purchase_release_datetime').groupby('user_buyer_id')['category_cleaned'].shift(-1)\n",
    "prov = prov[prov['category_cleaned2'].notnull()]\n",
    "prov = prov[['category_cleaned', 'category_cleaned2', 'purchase_id']].groupby(['category_cleaned', 'category_cleaned2']).count().reset_index()\n",
    "prov['%'] = prov['purchase_id'] / prov['purchase_id'].sum()\n",
    "sample_size = prov['purchase_id'].sum()\n",
    "prov = prov.drop('purchase_id', axis = 1).pivot_table(index = 'category_cleaned', values = '%', columns = 'category_cleaned2')#.unstack(level=0).T.reset_index()\n",
    "\n",
    "fig, ax = plt.subplots(figsize=(30, 30))\n",
    "\n",
    "# # color map\n",
    "# cmap = sns.diverging_palette(0, 230, 90, 60, as_cmap=True)\n",
    "# plot heatmap\n",
    "sns.heatmap(prov,annot=True, fmt=\".1%\", \n",
    "           linewidths=5,\n",
    "           cbar_kws={\"shrink\": .5, 'format': PercentFormatter(1)}, square=True, ax=ax)\n",
    "# ticks\n",
    "# yticks = [i.upper() for i in prov.index]\n",
    "# xticks = [i.upper() for i in prov.columns]\n",
    "plt.title(f\"Reorder Rate (%) | Repurchases: {sample_size:,}\")\n",
    "plt.yticks(plt.yticks()[0], labels=yticks, rotation=0)\n",
    "plt.xticks(plt.xticks()[0], labels=xticks, rotation=90, fontsize = 20)\n",
    "plt.ylabel('1st purchase')\n",
    "plt.xlabel('2nd purchase')\n",
    "\n",
    "plt.show()"
   ]
  },
  {
   "cell_type": "markdown",
   "metadata": {
    "heading_collapsed": true,
    "hidden": true
   },
   "source": [
    "#### Overall (TOP 10 Categories - Transaction Volume)"
   ]
  },
  {
   "cell_type": "code",
   "execution_count": null,
   "metadata": {
    "ExecuteTime": {
     "end_time": "2022-08-22T13:37:27.487643Z",
     "start_time": "2022-08-22T13:36:35.589495Z"
    },
    "hidden": true
   },
   "outputs": [],
   "source": [
    "# set df\n",
    "prov = df3[df3['category_cleaned'] != 'SPARKLE']\n",
    "other_cat = list(prov[['category_cleaned', 'purchase_id']].groupby('category_cleaned').count().reset_index().sort_values('purchase_id', ascending=False)['category_cleaned'][10::])\n",
    "for n in other_cat:\n",
    "    prov.loc[prov['category_cleaned'] == n, 'category_cleaned'] = 'Others'\n",
    "# set df\n",
    "# get rank of purchases\n",
    "prov['category_cleaned2'] = prov.sort_values('purchase_release_datetime').groupby('user_buyer_id')['category_cleaned'].shift(-1)\n",
    "prov = prov[prov['category_cleaned2'].notnull()]\n",
    "prov = prov[['category_cleaned', 'category_cleaned2', 'purchase_id']].groupby(['category_cleaned', 'category_cleaned2']).count().reset_index()\n",
    "prov['%'] = prov['purchase_id'] / prov['purchase_id'].sum()\n",
    "sample_size = prov['purchase_id'].sum()\n",
    "prov = prov.drop('purchase_id', axis = 1).pivot_table(index = 'category_cleaned', values = '%', columns = 'category_cleaned2')#.unstack(level=0).T.reset_index()\n",
    "# reorder categories\n",
    "first_purchase_cat = list(prov.columns)\n",
    "first_purchase_cat.remove('Others')\n",
    "first_purchase_cat.append('Others')\n",
    "prov = prov[first_purchase_cat]\n",
    "prov = prov.reindex(index = first_purchase_cat)\n",
    "fig, ax = plt.subplots(figsize=(20, 20))\n",
    "\n",
    "# # color map\n",
    "# cmap = sns.diverging_palette(0, 230, 90, 60, as_cmap=True)\n",
    "# plot heatmap\n",
    "sns.heatmap(prov,annot=True, fmt=\".1%\", \n",
    "           linewidths=5,\n",
    "           cbar_kws={\"shrink\": .5, 'format': PercentFormatter(1)}, square=True, ax=ax)\n",
    "# ticks\n",
    "yticks = [i.upper() for i in prov.index]\n",
    "xticks = [i.upper() for i in prov.columns]\n",
    "plt.title(f\"Reorder Rate (%) | Repurchases: {sample_size:,}\")\n",
    "plt.yticks(plt.yticks()[0], labels=yticks, rotation=0, fontsize = 15)\n",
    "plt.xticks(plt.xticks()[0], labels=xticks, rotation=90, fontsize = 15)\n",
    "plt.ylabel('1st purchase')\n",
    "plt.xlabel('2nd purchase')\n",
    "\n",
    "plt.show()"
   ]
  },
  {
   "cell_type": "code",
   "execution_count": null,
   "metadata": {
    "ExecuteTime": {
     "end_time": "2022-09-08T13:57:23.754749Z",
     "start_time": "2022-09-08T13:56:21.812196Z"
    },
    "hidden": true
   },
   "outputs": [],
   "source": [
    "# set df\n",
    "prov = df3[df3['category_cleaned'] != 'SPARKLE']\n",
    "other_cat = list(prov[['category_cleaned', 'purchase_id']].groupby('category_cleaned').count().reset_index().sort_values('purchase_id', ascending=False)['category_cleaned'][10::])\n",
    "for n in other_cat:\n",
    "    prov.loc[prov['category_cleaned'] == n, 'category_cleaned'] = 'Others'\n",
    "# set df\n",
    "# get rank of purchases\n",
    "prov['category_cleaned2'] = prov.sort_values('purchase_release_datetime').groupby('user_buyer_id')['category_cleaned'].shift(-1)\n",
    "prov = prov[prov['category_cleaned2'].notnull()]\n",
    "prov = prov[['category_cleaned', 'category_cleaned2', 'purchase_id']].groupby(['category_cleaned', 'category_cleaned2']).count().reset_index()\n",
    "prov['%'] = prov['purchase_id'] / prov['purchase_id'].sum()\n",
    "sample_size = prov['purchase_id'].sum()\n",
    "prov = prov.drop('purchase_id', axis = 1).pivot_table(index = 'category_cleaned', values = '%', columns = 'category_cleaned2')#.unstack(level=0).T.reset_index()\n",
    "# reorder categories\n",
    "first_purchase_cat = list(prov.columns)\n",
    "first_purchase_cat.remove('Others')\n",
    "first_purchase_cat.append('Others')\n",
    "prov = prov[first_purchase_cat]\n",
    "prov = prov.reindex(index = first_purchase_cat)"
   ]
  },
  {
   "cell_type": "code",
   "execution_count": null,
   "metadata": {
    "ExecuteTime": {
     "end_time": "2022-09-08T14:10:40.655638Z",
     "start_time": "2022-09-08T14:10:39.941832Z"
    },
    "hidden": true
   },
   "outputs": [],
   "source": [
    "\n",
    "fig, ax = plt.subplots(figsize=(20, 20))\n",
    "\n",
    "# # color map\n",
    "# cmap = sns.diverging_palette(0, 230, 90, 60, as_cmap=True)\n",
    "# plot heatmap\n",
    "sns.heatmap(prov,annot=True, fmt=\".1%\", \n",
    "           linewidths=5,\n",
    "           cbar_kws={\"shrink\": .5, 'format': PercentFormatter(1)}, square=True, ax=ax)\n",
    "# ticks\n",
    "yticks = list(prov.index)\n",
    "xticks = list(prov.columns)\n",
    "ax.set_title(f\"Product Category Matrix\\n\" + \"Reorder Rate (%)\", color =  '#707780' , fontsize = fonttitle, loc = 'left', pad=60)\n",
    "# plt.title(f\"Reorder Rate (%) | Repurchases: {sample_size:,}\")\n",
    "plt.yticks(plt.yticks()[0], labels=yticks, rotation=0, fontsize = 20, color =  '#707780')\n",
    "plt.xticks(plt.xticks()[0], labels=xticks, rotation=90, fontsize = 20, color =  '#707780')\n",
    "plt.ylabel('1st purchase', color =  '#707780' , fontsize = 20)\n",
    "plt.xlabel('2nd purchase', color =  '#707780' , fontsize = 20)\n",
    "plt.show()"
   ]
  },
  {
   "cell_type": "markdown",
   "metadata": {
    "heading_collapsed": true,
    "hidden": true
   },
   "source": [
    "#### Customer Country (TOP 10 Categories within TOP 5 Countries - Transaction Volume)"
   ]
  },
  {
   "cell_type": "code",
   "execution_count": null,
   "metadata": {
    "ExecuteTime": {
     "end_time": "2022-08-22T13:38:02.132134Z",
     "start_time": "2022-08-22T13:37:27.493475Z"
    },
    "hidden": true,
    "scrolled": false
   },
   "outputs": [],
   "source": [
    "num = 0 \n",
    "# get top 5 countries (buyer country)\n",
    "top = list(df3[['user_country', 'purchase_id']].groupby('user_country').count().reset_index().sort_values('purchase_id', ascending=False)['user_country'][0:5])\n",
    "# set df\n",
    "prov = df3[(df3['category_cleaned'] != 'SPARKLE') & (df3['user_country'] == top[num])]\n",
    "# get top 10 categories\n",
    "other_cat = list(prov[['category_cleaned', 'purchase_id']].groupby('category_cleaned').count().reset_index().sort_values('purchase_id', ascending=False)['category_cleaned'][10::])\n",
    "\n",
    "for n in other_cat:\n",
    "    prov.loc[prov['category_cleaned'] == n, 'category_cleaned'] = 'Others'\n",
    "# set df\n",
    "# get rank of purchases\n",
    "prov['category_cleaned2'] = prov.sort_values('purchase_release_datetime').groupby('user_buyer_id')['category_cleaned'].shift(-1)\n",
    "prov = prov[prov['category_cleaned2'].notnull()]\n",
    "prov = prov[['category_cleaned', 'category_cleaned2', 'purchase_id']].groupby(['category_cleaned', 'category_cleaned2']).count().reset_index()\n",
    "prov['%'] = prov['purchase_id'] / prov['purchase_id'].sum()\n",
    "prov = prov.drop('purchase_id', axis = 1).pivot_table(index = 'category_cleaned', values = '%', columns = 'category_cleaned2').fillna(0)#.unstack(level=0).T.reset_index()\n",
    "# reorder categories\n",
    "first_purchase_cat = list(prov.columns)\n",
    "first_purchase_cat.remove('Others')\n",
    "first_purchase_cat.append('Others')\n",
    "prov = prov[first_purchase_cat]\n",
    "prov = prov.reindex(index = first_purchase_cat)\n",
    "fig, ax = plt.subplots(figsize=(20, 20))\n",
    "\n",
    "# # color map\n",
    "# cmap = sns.diverging_palette(0, 230, 90, 60, as_cmap=True)\n",
    "# plot heatmap\n",
    "sns.heatmap(prov,annot=True, fmt=\".1%\", \n",
    "           linewidths=5,\n",
    "           cbar_kws={\"shrink\": .5, 'format': PercentFormatter(1)}, square=True, ax=ax)\n",
    "# ticks\n",
    "yticks = [i.upper() for i in prov.index]\n",
    "xticks = [i.upper() for i in prov.columns]\n",
    "plt.title(f\"{top[num]} | Reorder Rate (%)\")\n",
    "plt.yticks(plt.yticks()[0], labels=yticks, rotation=0, fontsize = 15)\n",
    "plt.xticks(plt.xticks()[0], labels=xticks, rotation=90, fontsize = 15)\n",
    "plt.ylabel('1st purchase')\n",
    "plt.xlabel('2nd purchase')\n",
    "\n",
    "plt.show()"
   ]
  },
  {
   "cell_type": "code",
   "execution_count": null,
   "metadata": {
    "ExecuteTime": {
     "end_time": "2022-08-22T13:38:07.169450Z",
     "start_time": "2022-08-22T13:38:02.136403Z"
    },
    "hidden": true,
    "scrolled": true
   },
   "outputs": [],
   "source": [
    "num = 1\n",
    "# get top 5 countries (buyer country)\n",
    "top = list(df3[['user_country', 'purchase_id']].groupby('user_country').count().reset_index().sort_values('purchase_id', ascending=False)['user_country'][0:5])\n",
    "# set df\n",
    "prov = df3[(df3['category_cleaned'] != 'SPARKLE') & (df3['user_country'] == top[num])]\n",
    "# get top 10 categories\n",
    "other_cat = list(prov[['category_cleaned', 'purchase_id']].groupby('category_cleaned').count().reset_index().sort_values('purchase_id', ascending=False)['category_cleaned'][10::])\n",
    "\n",
    "for n in other_cat:\n",
    "    prov.loc[prov['category_cleaned'] == n, 'category_cleaned'] = 'Others'\n",
    "# set df\n",
    "# get rank of purchases\n",
    "prov['category_cleaned2'] = prov.sort_values('purchase_release_datetime').groupby('user_buyer_id')['category_cleaned'].shift(-1)\n",
    "prov = prov[prov['category_cleaned2'].notnull()]\n",
    "prov = prov[['category_cleaned', 'category_cleaned2', 'purchase_id']].groupby(['category_cleaned', 'category_cleaned2']).count().reset_index()\n",
    "prov['%'] = prov['purchase_id'] / prov['purchase_id'].sum()\n",
    "prov = prov.drop('purchase_id', axis = 1).pivot_table(index = 'category_cleaned', values = '%', columns = 'category_cleaned2').fillna(0)#.unstack(level=0).T.reset_index()\n",
    "# reorder categories\n",
    "first_purchase_cat = list(prov.columns)\n",
    "first_purchase_cat.remove('Others')\n",
    "first_purchase_cat.append('Others')\n",
    "prov = prov[first_purchase_cat]\n",
    "prov = prov.reindex(index = first_purchase_cat)\n",
    "fig, ax = plt.subplots(figsize=(20, 20))\n",
    "\n",
    "# # color map\n",
    "# cmap = sns.diverging_palette(0, 230, 90, 60, as_cmap=True)\n",
    "# plot heatmap\n",
    "sns.heatmap(prov,annot=True, fmt=\".1%\", \n",
    "           linewidths=5,\n",
    "           cbar_kws={\"shrink\": .5, 'format': PercentFormatter(1)}, square=True, ax=ax)\n",
    "# ticks\n",
    "yticks = [i.upper() for i in prov.index]\n",
    "xticks = [i.upper() for i in prov.columns]\n",
    "plt.title(f\"{top[num]} | Reorder Rate (%)\")\n",
    "plt.yticks(plt.yticks()[0], labels=yticks, rotation=0, fontsize = 15)\n",
    "plt.xticks(plt.xticks()[0], labels=xticks, rotation=90, fontsize = 15)\n",
    "plt.ylabel('1st purchase')\n",
    "plt.xlabel('2nd purchase')\n",
    "\n",
    "plt.show()"
   ]
  },
  {
   "cell_type": "code",
   "execution_count": null,
   "metadata": {
    "ExecuteTime": {
     "end_time": "2022-08-22T13:38:11.219103Z",
     "start_time": "2022-08-22T13:38:07.172237Z"
    },
    "hidden": true,
    "scrolled": false
   },
   "outputs": [],
   "source": [
    "num = 2\n",
    "# get top 5 countries (buyer country)\n",
    "top = list(df3[['user_country', 'purchase_id']].groupby('user_country').count().reset_index().sort_values('purchase_id', ascending=False)['user_country'][0:5])\n",
    "# set df\n",
    "prov = df3[(df3['category_cleaned'] != 'SPARKLE') & (df3['user_country'] == top[num])]\n",
    "# get top 10 categories\n",
    "other_cat = list(prov[['category_cleaned', 'purchase_id']].groupby('category_cleaned').count().reset_index().sort_values('purchase_id', ascending=False)['category_cleaned'][10::])\n",
    "\n",
    "for n in other_cat:\n",
    "    prov.loc[prov['category_cleaned'] == n, 'category_cleaned'] = 'Others'\n",
    "# set df\n",
    "# get rank of purchases\n",
    "prov['category_cleaned2'] = prov.sort_values('purchase_release_datetime').groupby('user_buyer_id')['category_cleaned'].shift(-1)\n",
    "prov = prov[prov['category_cleaned2'].notnull()]\n",
    "prov = prov[['category_cleaned', 'category_cleaned2', 'purchase_id']].groupby(['category_cleaned', 'category_cleaned2']).count().reset_index()\n",
    "prov['%'] = prov['purchase_id'] / prov['purchase_id'].sum()\n",
    "prov = prov.drop('purchase_id', axis = 1).pivot_table(index = 'category_cleaned', values = '%', columns = 'category_cleaned2').fillna(0)#.unstack(level=0).T.reset_index()\n",
    "# reorder categories\n",
    "first_purchase_cat = list(prov.columns)\n",
    "first_purchase_cat.remove('Others')\n",
    "first_purchase_cat.append('Others')\n",
    "prov = prov[first_purchase_cat]\n",
    "prov = prov.reindex(index = first_purchase_cat)\n",
    "fig, ax = plt.subplots(figsize=(20, 20))\n",
    "\n",
    "# # color map\n",
    "# cmap = sns.diverging_palette(0, 230, 90, 60, as_cmap=True)\n",
    "# plot heatmap\n",
    "sns.heatmap(prov,annot=True, fmt=\".1%\", \n",
    "           linewidths=5,\n",
    "           cbar_kws={\"shrink\": .5, 'format': PercentFormatter(1)}, square=True, ax=ax)\n",
    "# ticks\n",
    "yticks = [i.upper() for i in prov.index]\n",
    "xticks = [i.upper() for i in prov.columns]\n",
    "plt.title(f\"{top[num]} | Reorder Rate (%)\")\n",
    "plt.yticks(plt.yticks()[0], labels=yticks, rotation=0, fontsize = 15)\n",
    "plt.xticks(plt.xticks()[0], labels=xticks, rotation=90, fontsize = 15)\n",
    "plt.ylabel('1st purchase')\n",
    "plt.xlabel('2nd purchase')\n",
    "\n",
    "plt.show()"
   ]
  },
  {
   "cell_type": "code",
   "execution_count": null,
   "metadata": {
    "ExecuteTime": {
     "end_time": "2022-08-22T13:38:13.914971Z",
     "start_time": "2022-08-22T13:38:11.222264Z"
    },
    "hidden": true,
    "scrolled": false
   },
   "outputs": [],
   "source": [
    "num = 3\n",
    "# get top 5 countries (buyer country)\n",
    "top = list(df3[['user_country', 'purchase_id']].groupby('user_country').count().reset_index().sort_values('purchase_id', ascending=False)['user_country'][0:5])\n",
    "# set df\n",
    "prov = df3[(df3['category_cleaned'] != 'SPARKLE') & (df3['user_country'] == top[num])]\n",
    "# get top 10 categories\n",
    "other_cat = list(prov[['category_cleaned', 'purchase_id']].groupby('category_cleaned').count().reset_index().sort_values('purchase_id', ascending=False)['category_cleaned'][10::])\n",
    "\n",
    "for n in other_cat:\n",
    "    prov.loc[prov['category_cleaned'] == n, 'category_cleaned'] = 'Others'\n",
    "# set df\n",
    "# get rank of purchases\n",
    "prov['category_cleaned2'] = prov.sort_values('purchase_release_datetime').groupby('user_buyer_id')['category_cleaned'].shift(-1)\n",
    "prov = prov[prov['category_cleaned2'].notnull()]\n",
    "prov = prov[['category_cleaned', 'category_cleaned2', 'purchase_id']].groupby(['category_cleaned', 'category_cleaned2']).count().reset_index()\n",
    "prov['%'] = prov['purchase_id'] / prov['purchase_id'].sum()\n",
    "prov = prov.drop('purchase_id', axis = 1).pivot_table(index = 'category_cleaned', values = '%', columns = 'category_cleaned2').fillna(0)#.unstack(level=0).T.reset_index()\n",
    "# reorder categories\n",
    "first_purchase_cat = list(prov.columns)\n",
    "first_purchase_cat.remove('Others')\n",
    "first_purchase_cat.append('Others')\n",
    "prov = prov[first_purchase_cat]\n",
    "prov = prov.reindex(index = first_purchase_cat)\n",
    "fig, ax = plt.subplots(figsize=(20, 20))\n",
    "\n",
    "# # color map\n",
    "# cmap = sns.diverging_palette(0, 230, 90, 60, as_cmap=True)\n",
    "# plot heatmap\n",
    "sns.heatmap(prov,annot=True, fmt=\".1%\", \n",
    "           linewidths=5,\n",
    "           cbar_kws={\"shrink\": .5, 'format': PercentFormatter(1)}, square=True, ax=ax)\n",
    "# ticks\n",
    "yticks = [i.upper() for i in prov.index]\n",
    "xticks = [i.upper() for i in prov.columns]\n",
    "plt.title(f\"{top[num]} | Reorder Rate (%)\")\n",
    "plt.yticks(plt.yticks()[0], labels=yticks, rotation=0, fontsize = 15)\n",
    "plt.xticks(plt.xticks()[0], labels=xticks, rotation=90, fontsize = 15)\n",
    "plt.ylabel('1st purchase')\n",
    "plt.xlabel('2nd purchase')\n",
    "\n",
    "plt.show()"
   ]
  },
  {
   "cell_type": "code",
   "execution_count": null,
   "metadata": {
    "ExecuteTime": {
     "end_time": "2022-08-22T13:38:16.352294Z",
     "start_time": "2022-08-22T13:38:13.916716Z"
    },
    "hidden": true,
    "scrolled": false
   },
   "outputs": [],
   "source": [
    "num = 4\n",
    "# get top 5 countries (buyer country)\n",
    "top = list(df3[['user_country', 'purchase_id']].groupby('user_country').count().reset_index().sort_values('purchase_id', ascending=False)['user_country'][0:5])\n",
    "# set df\n",
    "prov = df3[(df3['category_cleaned'] != 'SPARKLE') & (df3['user_country'] == top[num])]\n",
    "# get top 10 categories\n",
    "other_cat = list(prov[['category_cleaned', 'purchase_id']].groupby('category_cleaned').count().reset_index().sort_values('purchase_id', ascending=False)['category_cleaned'][10::])\n",
    "\n",
    "for n in other_cat:\n",
    "    prov.loc[prov['category_cleaned'] == n, 'category_cleaned'] = 'Others'\n",
    "# set df\n",
    "# get rank of purchases\n",
    "prov['category_cleaned2'] = prov.sort_values('purchase_release_datetime').groupby('user_buyer_id')['category_cleaned'].shift(-1)\n",
    "prov = prov[prov['category_cleaned2'].notnull()]\n",
    "prov = prov[['category_cleaned', 'category_cleaned2', 'purchase_id']].groupby(['category_cleaned', 'category_cleaned2']).count().reset_index()\n",
    "prov['%'] = prov['purchase_id'] / prov['purchase_id'].sum()\n",
    "prov = prov.drop('purchase_id', axis = 1).pivot_table(index = 'category_cleaned', values = '%', columns = 'category_cleaned2').fillna(0)#.unstack(level=0).T.reset_index()\n",
    "# reorder categories\n",
    "first_purchase_cat = list(prov.columns)\n",
    "first_purchase_cat.remove('Others')\n",
    "first_purchase_cat.append('Others')\n",
    "prov = prov[first_purchase_cat]\n",
    "prov = prov.reindex(index = first_purchase_cat)\n",
    "fig, ax = plt.subplots(figsize=(20, 20))\n",
    "\n",
    "# # color map\n",
    "# cmap = sns.diverging_palette(0, 230, 90, 60, as_cmap=True)\n",
    "# plot heatmap\n",
    "sns.heatmap(prov,annot=True, fmt=\".1%\", \n",
    "           linewidths=5,\n",
    "           cbar_kws={\"shrink\": .5, 'format': PercentFormatter(1)}, square=True, ax=ax)\n",
    "# ticks\n",
    "yticks = [i.upper() for i in prov.index]\n",
    "xticks = [i.upper() for i in prov.columns]\n",
    "plt.title(f\"{top[num]} | Reorder Rate (%)\")\n",
    "plt.yticks(plt.yticks()[0], labels=yticks, rotation=0, fontsize = 15)\n",
    "plt.xticks(plt.xticks()[0], labels=xticks, rotation=90, fontsize = 15)\n",
    "plt.ylabel('1st purchase')\n",
    "plt.xlabel('2nd purchase')\n",
    "\n",
    "plt.show()"
   ]
  },
  {
   "cell_type": "markdown",
   "metadata": {
    "heading_collapsed": true,
    "hidden": true
   },
   "source": [
    "#### Producer Office (TOP 10 Categories - Transaction Volume)"
   ]
  },
  {
   "cell_type": "code",
   "execution_count": null,
   "metadata": {
    "ExecuteTime": {
     "end_time": "2022-08-22T13:38:16.356616Z",
     "start_time": "2022-08-22T13:38:16.354120Z"
    },
    "hidden": true
   },
   "outputs": [],
   "source": [
    "  \n",
    "  \n",
    "  \n",
    "  \n",
    "  \n",
    "  "
   ]
  },
  {
   "cell_type": "markdown",
   "metadata": {
    "hidden": true
   },
   "source": [
    "- For this analysis, purchases can be related to any producer within the same office. \n",
    "- Premise: if a 2nd purchase was related to a producer from a different office, this purchase will be discarded. If the 3rd+ purchase comes from the same producer office, then it will be considered as the 2nd purchase."
   ]
  },
  {
   "cell_type": "code",
   "execution_count": null,
   "metadata": {
    "ExecuteTime": {
     "end_time": "2022-08-22T13:38:54.255952Z",
     "start_time": "2022-08-22T13:38:16.359351Z"
    },
    "hidden": true,
    "scrolled": false
   },
   "outputs": [],
   "source": [
    "num = 0 \n",
    "# get top 5 countries (buyer country)\n",
    "top = list(df3[['user_office_name', 'purchase_id']].groupby('user_office_name').count().reset_index().sort_values('purchase_id', ascending=False)['user_office_name'])\n",
    "# set df\n",
    "prov = df3[(df3['category_cleaned'] != 'SPARKLE') & (df3['user_office_name'] == top[num])]\n",
    "# get top 10 categories\n",
    "other_cat = list(prov[['category_cleaned', 'purchase_id']].groupby('category_cleaned').count().reset_index().sort_values('purchase_id', ascending=False)['category_cleaned'][10::])\n",
    "\n",
    "for n in other_cat:\n",
    "    prov.loc[prov['category_cleaned'] == n, 'category_cleaned'] = 'Others'\n",
    "# set df\n",
    "# get rank of purchases\n",
    "prov['category_cleaned2'] = prov.sort_values('purchase_release_datetime').groupby('user_buyer_id')['category_cleaned'].shift(-1)\n",
    "prov = prov[prov['category_cleaned2'].notnull()]\n",
    "prov = prov[['category_cleaned', 'category_cleaned2', 'purchase_id']].groupby(['category_cleaned', 'category_cleaned2']).count().reset_index()\n",
    "prov['%'] = prov['purchase_id'] / prov['purchase_id'].sum()\n",
    "sample_size = prov['purchase_id'].sum()\n",
    "prov = prov.drop('purchase_id', axis = 1).pivot_table(index = 'category_cleaned', values = '%', columns = 'category_cleaned2').fillna(0)#.unstack(level=0).T.reset_index()\n",
    "# reorder categories\n",
    "first_purchase_cat = list(prov.columns)\n",
    "first_purchase_cat.remove('Others')\n",
    "first_purchase_cat.append('Others')\n",
    "prov = prov[first_purchase_cat]\n",
    "prov = prov.reindex(index = first_purchase_cat)\n",
    "fig, ax = plt.subplots(figsize=(20, 20))\n",
    "\n",
    "# # color map\n",
    "# cmap = sns.diverging_palette(0, 230, 90, 60, as_cmap=True)\n",
    "# plot heatmap\n",
    "sns.heatmap(prov,annot=True, fmt=\".1%\", \n",
    "           linewidths=5,\n",
    "           cbar_kws={\"shrink\": .5, 'format': PercentFormatter(1)}, square=True, ax=ax)\n",
    "# ticks\n",
    "yticks = [i.upper() for i in prov.index]\n",
    "xticks = [i.upper() for i in prov.columns]\n",
    "plt.title(f\"{top[num]} | Repurchases: {sample_size:,}\")\n",
    "\n",
    "plt.yticks(plt.yticks()[0], labels=yticks, rotation=0, fontsize = 15)\n",
    "plt.xticks(plt.xticks()[0], labels=xticks, rotation=90, fontsize = 15)\n",
    "plt.ylabel('1st purchase')\n",
    "plt.xlabel('2nd purchase')\n",
    "\n",
    "plt.show()"
   ]
  },
  {
   "cell_type": "code",
   "execution_count": null,
   "metadata": {
    "ExecuteTime": {
     "end_time": "2022-08-22T13:38:59.868506Z",
     "start_time": "2022-08-22T13:38:54.258958Z"
    },
    "hidden": true,
    "scrolled": false
   },
   "outputs": [],
   "source": [
    "num = 1\n",
    "# get top 5 countries (buyer country)\n",
    "top = list(df3[['user_office_name', 'purchase_id']].groupby('user_office_name').count().reset_index().sort_values('purchase_id', ascending=False)['user_office_name'])\n",
    "# set df\n",
    "prov = df3[(df3['category_cleaned'] != 'SPARKLE') & (df3['user_office_name'] == top[num])]\n",
    "# get top 10 categories\n",
    "other_cat = list(prov[['category_cleaned', 'purchase_id']].groupby('category_cleaned').count().reset_index().sort_values('purchase_id', ascending=False)['category_cleaned'][10::])\n",
    "\n",
    "for n in other_cat:\n",
    "    prov.loc[prov['category_cleaned'] == n, 'category_cleaned'] = 'Others'\n",
    "# set df\n",
    "# get rank of purchases\n",
    "prov['category_cleaned2'] = prov.sort_values('purchase_release_datetime').groupby('user_buyer_id')['category_cleaned'].shift(-1)\n",
    "prov = prov[prov['category_cleaned2'].notnull()]\n",
    "prov = prov[['category_cleaned', 'category_cleaned2', 'purchase_id']].groupby(['category_cleaned', 'category_cleaned2']).count().reset_index()\n",
    "prov['%'] = prov['purchase_id'] / prov['purchase_id'].sum()\n",
    "sample_size = prov['purchase_id'].sum()\n",
    "prov = prov.drop('purchase_id', axis = 1).pivot_table(index = 'category_cleaned', values = '%', columns = 'category_cleaned2').fillna(0)#.unstack(level=0).T.reset_index()\n",
    "# reorder categories\n",
    "first_purchase_cat = list(prov.columns)\n",
    "first_purchase_cat.remove('Others')\n",
    "first_purchase_cat.append('Others')\n",
    "prov = prov[first_purchase_cat]\n",
    "prov = prov.reindex(index = first_purchase_cat)\n",
    "fig, ax = plt.subplots(figsize=(20, 20))\n",
    "\n",
    "# # color map\n",
    "# cmap = sns.diverging_palette(0, 230, 90, 60, as_cmap=True)\n",
    "# plot heatmap\n",
    "sns.heatmap(prov,annot=True, fmt=\".1%\", \n",
    "           linewidths=5,\n",
    "           cbar_kws={\"shrink\": .5, 'format': PercentFormatter(1)}, square=True, ax=ax)\n",
    "# ticks\n",
    "yticks = [i.upper() for i in prov.index]\n",
    "xticks = [i.upper() for i in prov.columns]\n",
    "plt.title(f\"{top[num]} | Repurchases: {sample_size:,}\")\n",
    "plt.yticks(plt.yticks()[0], labels=yticks, rotation=0, fontsize = 15)\n",
    "plt.xticks(plt.xticks()[0], labels=xticks, rotation=90, fontsize = 15)\n",
    "plt.ylabel('1st purchase')\n",
    "plt.xlabel('2nd purchase')\n",
    "\n",
    "plt.show()"
   ]
  },
  {
   "cell_type": "code",
   "execution_count": null,
   "metadata": {
    "ExecuteTime": {
     "end_time": "2022-08-22T13:39:02.869266Z",
     "start_time": "2022-08-22T13:38:59.870141Z"
    },
    "hidden": true,
    "scrolled": false
   },
   "outputs": [],
   "source": [
    "num = 2\n",
    "# get top 5 countries (buyer country)\n",
    "top = list(df3[['user_office_name', 'purchase_id']].groupby('user_office_name').count().reset_index().sort_values('purchase_id', ascending=False)['user_office_name'])\n",
    "# set df\n",
    "prov = df3[(df3['category_cleaned'] != 'SPARKLE') & (df3['user_office_name'] == top[num])]\n",
    "# get top 10 categories\n",
    "other_cat = list(prov[['category_cleaned', 'purchase_id']].groupby('category_cleaned').count().reset_index().sort_values('purchase_id', ascending=False)['category_cleaned'][10::])\n",
    "\n",
    "for n in other_cat:\n",
    "    prov.loc[prov['category_cleaned'] == n, 'category_cleaned'] = 'Others'\n",
    "# set df\n",
    "# get rank of purchases\n",
    "prov['category_cleaned2'] = prov.sort_values('purchase_release_datetime').groupby('user_buyer_id')['category_cleaned'].shift(-1)\n",
    "prov = prov[prov['category_cleaned2'].notnull()]\n",
    "prov = prov[['category_cleaned', 'category_cleaned2', 'purchase_id']].groupby(['category_cleaned', 'category_cleaned2']).count().reset_index()\n",
    "prov['%'] = prov['purchase_id'] / prov['purchase_id'].sum()\n",
    "sample_size = prov['purchase_id'].sum()\n",
    "prov = prov.drop('purchase_id', axis = 1).pivot_table(index = 'category_cleaned', values = '%', columns = 'category_cleaned2').fillna(0)#.unstack(level=0).T.reset_index()\n",
    "# reorder categories\n",
    "first_purchase_cat = list(prov.columns)\n",
    "first_purchase_cat.remove('Others')\n",
    "first_purchase_cat.append('Others')\n",
    "prov = prov[first_purchase_cat]\n",
    "prov = prov.reindex(index = first_purchase_cat)\n",
    "fig, ax = plt.subplots(figsize=(20, 20))\n",
    "\n",
    "# # color map\n",
    "# cmap = sns.diverging_palette(0, 230, 90, 60, as_cmap=True)\n",
    "# plot heatmap\n",
    "sns.heatmap(prov,annot=True, fmt=\".1%\", \n",
    "           linewidths=5,\n",
    "           cbar_kws={\"shrink\": .5, 'format': PercentFormatter(1)}, square=True, ax=ax)\n",
    "# ticks\n",
    "yticks = [i.upper() for i in prov.index]\n",
    "xticks = [i.upper() for i in prov.columns]\n",
    "plt.title(f\"{top[num]} | Repurchases: {sample_size:,}\")\n",
    "plt.yticks(plt.yticks()[0], labels=yticks, rotation=0, fontsize = 15)\n",
    "plt.xticks(plt.xticks()[0], labels=xticks, rotation=90, fontsize = 15)\n",
    "plt.ylabel('1st purchase')\n",
    "plt.xlabel('2nd purchase')\n",
    "\n",
    "plt.show()"
   ]
  },
  {
   "cell_type": "code",
   "execution_count": null,
   "metadata": {
    "ExecuteTime": {
     "end_time": "2022-08-22T13:39:05.497366Z",
     "start_time": "2022-08-22T13:39:02.872076Z"
    },
    "hidden": true,
    "scrolled": false
   },
   "outputs": [],
   "source": [
    "num = 3\n",
    "# get top 5 countries (buyer country)\n",
    "top = list(df3[['user_office_name', 'purchase_id']].groupby('user_office_name').count().reset_index().sort_values('purchase_id', ascending=False)['user_office_name'])\n",
    "# set df\n",
    "prov = df3[(df3['category_cleaned'] != 'SPARKLE') & (df3['user_office_name'] == top[num])]\n",
    "# get top 10 categories\n",
    "other_cat = list(prov[['category_cleaned', 'purchase_id']].groupby('category_cleaned').count().reset_index().sort_values('purchase_id', ascending=False)['category_cleaned'][10::])\n",
    "\n",
    "for n in other_cat:\n",
    "    prov.loc[prov['category_cleaned'] == n, 'category_cleaned'] = 'Others'\n",
    "# set df\n",
    "# get rank of purchases\n",
    "prov['category_cleaned2'] = prov.sort_values('purchase_release_datetime').groupby('user_buyer_id')['category_cleaned'].shift(-1)\n",
    "prov = prov[prov['category_cleaned2'].notnull()]\n",
    "prov = prov[['category_cleaned', 'category_cleaned2', 'purchase_id']].groupby(['category_cleaned', 'category_cleaned2']).count().reset_index()\n",
    "prov['%'] = prov['purchase_id'] / prov['purchase_id'].sum()\n",
    "sample_size = prov['purchase_id'].sum()\n",
    "prov = prov.drop('purchase_id', axis = 1).pivot_table(index = 'category_cleaned', values = '%', columns = 'category_cleaned2').fillna(0)#.unstack(level=0).T.reset_index()\n",
    "# reorder categories\n",
    "first_purchase_cat = list(prov.columns)\n",
    "first_purchase_cat.remove('Others')\n",
    "first_purchase_cat.append('Others')\n",
    "prov = prov[first_purchase_cat]\n",
    "prov = prov.reindex(index = first_purchase_cat)\n",
    "fig, ax = plt.subplots(figsize=(20, 20))\n",
    "\n",
    "# # color map\n",
    "# cmap = sns.diverging_palette(0, 230, 90, 60, as_cmap=True)\n",
    "# plot heatmap\n",
    "sns.heatmap(prov,annot=True, fmt=\".1%\", \n",
    "           linewidths=5,\n",
    "           cbar_kws={\"shrink\": .5, 'format': PercentFormatter(1)}, square=True, ax=ax)\n",
    "# ticks\n",
    "yticks = [i.upper() for i in prov.index]\n",
    "xticks = [i.upper() for i in prov.columns]\n",
    "plt.title(f\"{top[num]} | Repurchases: {sample_size:,}\")\n",
    "plt.yticks(plt.yticks()[0], labels=yticks, rotation=0, fontsize = 15)\n",
    "plt.xticks(plt.xticks()[0], labels=xticks, rotation=90, fontsize = 15)\n",
    "plt.ylabel('1st purchase')\n",
    "plt.xlabel('2nd purchase')\n",
    "\n",
    "plt.show()"
   ]
  },
  {
   "cell_type": "code",
   "execution_count": null,
   "metadata": {
    "ExecuteTime": {
     "end_time": "2022-08-22T13:39:07.673545Z",
     "start_time": "2022-08-22T13:39:05.499367Z"
    },
    "hidden": true,
    "scrolled": false
   },
   "outputs": [],
   "source": [
    "num = 4\n",
    "# get top 5 countries (buyer country)\n",
    "top = list(df3[['user_office_name', 'purchase_id']].groupby('user_office_name').count().reset_index().sort_values('purchase_id', ascending=False)['user_office_name'])\n",
    "# set df\n",
    "prov = df3[(df3['category_cleaned'] != 'SPARKLE') & (df3['user_office_name'] == top[num])]\n",
    "# get top 10 categories\n",
    "other_cat = list(prov[['category_cleaned', 'purchase_id']].groupby('category_cleaned').count().reset_index().sort_values('purchase_id', ascending=False)['category_cleaned'][10::])\n",
    "\n",
    "for n in other_cat:\n",
    "    prov.loc[prov['category_cleaned'] == n, 'category_cleaned'] = 'Others'\n",
    "# set df\n",
    "# get rank of purchases\n",
    "prov['category_cleaned2'] = prov.sort_values('purchase_release_datetime').groupby('user_buyer_id')['category_cleaned'].shift(-1)\n",
    "prov = prov[prov['category_cleaned2'].notnull()]\n",
    "prov = prov[['category_cleaned', 'category_cleaned2', 'purchase_id']].groupby(['category_cleaned', 'category_cleaned2']).count().reset_index()\n",
    "prov['%'] = prov['purchase_id'] / prov['purchase_id'].sum()\n",
    "sample_size = prov['purchase_id'].sum()\n",
    "prov = prov.drop('purchase_id', axis = 1).pivot_table(index = 'category_cleaned', values = '%', columns = 'category_cleaned2').fillna(0)#.unstack(level=0).T.reset_index()\n",
    "# reorder categories\n",
    "first_purchase_cat = list(prov.columns)\n",
    "first_purchase_cat.remove('Others')\n",
    "first_purchase_cat.append('Others')\n",
    "prov = prov[first_purchase_cat]\n",
    "prov = prov.reindex(index = first_purchase_cat)\n",
    "fig, ax = plt.subplots(figsize=(20, 20))\n",
    "\n",
    "# # color map\n",
    "# cmap = sns.diverging_palette(0, 230, 90, 60, as_cmap=True)\n",
    "# plot heatmap\n",
    "sns.heatmap(prov,annot=True, fmt=\".1%\", \n",
    "           linewidths=5,\n",
    "           cbar_kws={\"shrink\": .5, 'format': PercentFormatter(1)}, square=True, ax=ax)\n",
    "# ticks\n",
    "yticks = [i.upper() for i in prov.index]\n",
    "xticks = [i.upper() for i in prov.columns]\n",
    "plt.title(f\"{top[num]} | Repurchases: {sample_size:,}\")\n",
    "plt.yticks(plt.yticks()[0], labels=yticks, rotation=0, fontsize = 15)\n",
    "plt.xticks(plt.xticks()[0], labels=xticks, rotation=90, fontsize = 15)\n",
    "plt.ylabel('1st purchase')\n",
    "plt.xlabel('2nd purchase')\n",
    "\n",
    "plt.show()"
   ]
  },
  {
   "cell_type": "code",
   "execution_count": null,
   "metadata": {
    "ExecuteTime": {
     "end_time": "2022-08-22T13:39:09.736650Z",
     "start_time": "2022-08-22T13:39:07.675702Z"
    },
    "hidden": true
   },
   "outputs": [],
   "source": [
    "num = 5\n",
    "# get top 5 countries (buyer country)\n",
    "top = list(df3[['user_office_name', 'purchase_id']].groupby('user_office_name').count().reset_index().sort_values('purchase_id', ascending=False)['user_office_name'])\n",
    "# set df\n",
    "prov = df3[(df3['category_cleaned'] != 'SPARKLE') & (df3['user_office_name'] == top[num])]\n",
    "# get top 10 categories\n",
    "other_cat = list(prov[['category_cleaned', 'purchase_id']].groupby('category_cleaned').count().reset_index().sort_values('purchase_id', ascending=False)['category_cleaned'][10::])\n",
    "\n",
    "for n in other_cat:\n",
    "    prov.loc[prov['category_cleaned'] == n, 'category_cleaned'] = 'Others'\n",
    "# set df\n",
    "# get rank of purchases\n",
    "prov['category_cleaned2'] = prov.sort_values('purchase_release_datetime').groupby('user_buyer_id')['category_cleaned'].shift(-1)\n",
    "prov = prov[prov['category_cleaned2'].notnull()]\n",
    "prov = prov[['category_cleaned', 'category_cleaned2', 'purchase_id']].groupby(['category_cleaned', 'category_cleaned2']).count().reset_index()\n",
    "prov['%'] = prov['purchase_id'] / prov['purchase_id'].sum()\n",
    "sample_size = prov['purchase_id'].sum()\n",
    "prov = prov.drop('purchase_id', axis = 1).pivot_table(index = 'category_cleaned', values = '%', columns = 'category_cleaned2').fillna(0)#.unstack(level=0).T.reset_index()\n",
    "# reorder categories\n",
    "first_purchase_cat = list(prov.columns)\n",
    "first_purchase_cat.remove('Others')\n",
    "first_purchase_cat.append('Others')\n",
    "prov = prov[first_purchase_cat]\n",
    "prov = prov.reindex(index = first_purchase_cat)\n",
    "fig, ax = plt.subplots(figsize=(20, 20))\n",
    "\n",
    "# # color map\n",
    "# cmap = sns.diverging_palette(0, 230, 90, 60, as_cmap=True)\n",
    "# plot heatmap\n",
    "sns.heatmap(prov,annot=True, fmt=\".1%\", \n",
    "           linewidths=5,\n",
    "           cbar_kws={\"shrink\": .5, 'format': PercentFormatter(1)}, square=True, ax=ax)\n",
    "# ticks\n",
    "yticks = [i.upper() for i in prov.index]\n",
    "xticks = [i.upper() for i in prov.columns]\n",
    "plt.title(f\"{top[num]} | Repurchases: {sample_size:,}\")\n",
    "plt.yticks(plt.yticks()[0], labels=yticks, rotation=0, fontsize = 15)\n",
    "plt.xticks(plt.xticks()[0], labels=xticks, rotation=90, fontsize = 15)\n",
    "plt.ylabel('1st purchase')\n",
    "plt.xlabel('2nd purchase')\n",
    "\n",
    "plt.show()"
   ]
  },
  {
   "cell_type": "markdown",
   "metadata": {
    "heading_collapsed": true,
    "hidden": true
   },
   "source": [
    "#### Producer Segment (TOP 10 Categories - Transaction Volume)"
   ]
  },
  {
   "cell_type": "code",
   "execution_count": null,
   "metadata": {
    "ExecuteTime": {
     "end_time": "2022-08-22T13:39:09.742069Z",
     "start_time": "2022-08-22T13:39:09.738535Z"
    },
    "hidden": true
   },
   "outputs": [],
   "source": [
    "  \n",
    "  \n",
    "  \n",
    "  "
   ]
  },
  {
   "cell_type": "markdown",
   "metadata": {
    "hidden": true
   },
   "source": [
    "- For this analysis, 1st and 2nd purchases can be related to any producer within the same segment. \n",
    "- Premise: if a 2nd purchase was related to a producer from a different segment, this purchase will be discarded. If the 3rd+ purchase comes from the same producer segment, then it will be considered as the 2nd purchase."
   ]
  },
  {
   "cell_type": "code",
   "execution_count": null,
   "metadata": {
    "ExecuteTime": {
     "end_time": "2022-08-22T13:39:16.337209Z",
     "start_time": "2022-08-22T13:39:09.744234Z"
    },
    "hidden": true,
    "scrolled": false
   },
   "outputs": [],
   "source": [
    "segment = 'SEED'\n",
    "# set df\n",
    "prov = df3[(df3['category_cleaned'] != 'SPARKLE') & (df3['segment'] == segment)]\n",
    "# get top 10 categories\n",
    "other_cat = list(prov[['category_cleaned', 'purchase_id']].groupby('category_cleaned').count().reset_index().sort_values('purchase_id', ascending=False)['category_cleaned'][10::])\n",
    "\n",
    "for n in other_cat:\n",
    "    prov.loc[prov['category_cleaned'] == n, 'category_cleaned'] = 'Others'\n",
    "# set df\n",
    "# get rank of purchases\n",
    "prov['category_cleaned2'] = prov.sort_values('purchase_release_datetime').groupby('user_buyer_id')['category_cleaned'].shift(-1)\n",
    "prov = prov[prov['category_cleaned2'].notnull()]\n",
    "prov = prov[['category_cleaned', 'category_cleaned2', 'purchase_id']].groupby(['category_cleaned', 'category_cleaned2']).count().reset_index()\n",
    "prov['%'] = prov['purchase_id'] / prov['purchase_id'].sum()\n",
    "sample_size = prov['purchase_id'].sum()\n",
    "prov = prov.drop('purchase_id', axis = 1).pivot_table(index = 'category_cleaned', values = '%', columns = 'category_cleaned2').fillna(0)#.unstack(level=0).T.reset_index()\n",
    "# reorder categories\n",
    "first_purchase_cat = list(prov.columns)\n",
    "first_purchase_cat.remove('Others')\n",
    "first_purchase_cat.append('Others')\n",
    "prov = prov[first_purchase_cat]\n",
    "prov = prov.reindex(index = first_purchase_cat)\n",
    "fig, ax = plt.subplots(figsize=(20, 20))\n",
    "\n",
    "# # color map\n",
    "# cmap = sns.diverging_palette(0, 230, 90, 60, as_cmap=True)\n",
    "# plot heatmap\n",
    "sns.heatmap(prov,annot=True, fmt=\".1%\", \n",
    "           linewidths=5,\n",
    "           cbar_kws={\"shrink\": .5, 'format': PercentFormatter(1)}, square=True, ax=ax)\n",
    "# ticks\n",
    "yticks = [i.upper() for i in prov.index]\n",
    "xticks = [i.upper() for i in prov.columns]\n",
    "plt.title(f\"{segment} | Repurchases: {sample_size:,}\")\n",
    "\n",
    "plt.yticks(plt.yticks()[0], labels=yticks, rotation=0, fontsize = 15)\n",
    "plt.xticks(plt.xticks()[0], labels=xticks, rotation=90, fontsize = 15)\n",
    "plt.ylabel('1st purchase')\n",
    "plt.xlabel('2nd purchase')\n",
    "\n",
    "plt.show()"
   ]
  },
  {
   "cell_type": "code",
   "execution_count": null,
   "metadata": {
    "hidden": true
   },
   "outputs": [],
   "source": []
  },
  {
   "cell_type": "code",
   "execution_count": null,
   "metadata": {
    "ExecuteTime": {
     "end_time": "2022-08-22T13:39:27.820231Z",
     "start_time": "2022-08-22T13:39:16.339239Z"
    },
    "hidden": true,
    "scrolled": false
   },
   "outputs": [],
   "source": [
    "segment = 'SMALL'\n",
    "# set df\n",
    "prov = df3[(df3['category_cleaned'] != 'SPARKLE') & (df3['segment'] == segment)]\n",
    "# get top 10 categories\n",
    "other_cat = list(prov[['category_cleaned', 'purchase_id']].groupby('category_cleaned').count().reset_index().sort_values('purchase_id', ascending=False)['category_cleaned'][10::])\n",
    "\n",
    "for n in other_cat:\n",
    "    prov.loc[prov['category_cleaned'] == n, 'category_cleaned'] = 'Others'\n",
    "# set df\n",
    "# get rank of purchases\n",
    "prov['category_cleaned2'] = prov.sort_values('purchase_release_datetime').groupby('user_buyer_id')['category_cleaned'].shift(-1)\n",
    "prov = prov[prov['category_cleaned2'].notnull()]\n",
    "prov = prov[['category_cleaned', 'category_cleaned2', 'purchase_id']].groupby(['category_cleaned', 'category_cleaned2']).count().reset_index()\n",
    "prov['%'] = prov['purchase_id'] / prov['purchase_id'].sum()\n",
    "sample_size = prov['purchase_id'].sum()\n",
    "prov = prov.drop('purchase_id', axis = 1).pivot_table(index = 'category_cleaned', values = '%', columns = 'category_cleaned2').fillna(0)#.unstack(level=0).T.reset_index()\n",
    "# reorder categories\n",
    "first_purchase_cat = list(prov.columns)\n",
    "first_purchase_cat.remove('Others')\n",
    "first_purchase_cat.append('Others')\n",
    "prov = prov[first_purchase_cat]\n",
    "prov = prov.reindex(index = first_purchase_cat)\n",
    "fig, ax = plt.subplots(figsize=(20, 20))\n",
    "\n",
    "# # color map\n",
    "# cmap = sns.diverging_palette(0, 230, 90, 60, as_cmap=True)\n",
    "# plot heatmap\n",
    "sns.heatmap(prov,annot=True, fmt=\".1%\", \n",
    "           linewidths=5,\n",
    "           cbar_kws={\"shrink\": .5, 'format': PercentFormatter(1)}, square=True, ax=ax)\n",
    "# ticks\n",
    "yticks = [i.upper() for i in prov.index]\n",
    "xticks = [i.upper() for i in prov.columns]\n",
    "plt.title(f\"{segment} | Repurchases: {sample_size:,}\")\n",
    "plt.yticks(plt.yticks()[0], labels=yticks, rotation=0, fontsize = 15)\n",
    "plt.xticks(plt.xticks()[0], labels=xticks, rotation=90, fontsize = 15)\n",
    "plt.ylabel('1st purchase')\n",
    "plt.xlabel('2nd purchase')\n",
    "\n",
    "plt.show()"
   ]
  },
  {
   "cell_type": "code",
   "execution_count": null,
   "metadata": {
    "hidden": true
   },
   "outputs": [],
   "source": []
  },
  {
   "cell_type": "code",
   "execution_count": null,
   "metadata": {
    "ExecuteTime": {
     "end_time": "2022-08-22T13:39:39.150216Z",
     "start_time": "2022-08-22T13:39:27.822010Z"
    },
    "hidden": true,
    "scrolled": false
   },
   "outputs": [],
   "source": [
    "segment = 'MEDIUM'\n",
    "# set df\n",
    "prov = df3[(df3['category_cleaned'] != 'SPARKLE') & (df3['segment'] == segment)]\n",
    "# get top 10 categories\n",
    "other_cat = list(prov[['category_cleaned', 'purchase_id']].groupby('category_cleaned').count().reset_index().sort_values('purchase_id', ascending=False)['category_cleaned'][10::])\n",
    "\n",
    "for n in other_cat:\n",
    "    prov.loc[prov['category_cleaned'] == n, 'category_cleaned'] = 'Others'\n",
    "# set df\n",
    "# get rank of purchases\n",
    "prov['category_cleaned2'] = prov.sort_values('purchase_release_datetime').groupby('user_buyer_id')['category_cleaned'].shift(-1)\n",
    "prov = prov[prov['category_cleaned2'].notnull()]\n",
    "prov = prov[['category_cleaned', 'category_cleaned2', 'purchase_id']].groupby(['category_cleaned', 'category_cleaned2']).count().reset_index()\n",
    "prov['%'] = prov['purchase_id'] / prov['purchase_id'].sum()\n",
    "sample_size = prov['purchase_id'].sum()\n",
    "prov = prov.drop('purchase_id', axis = 1).pivot_table(index = 'category_cleaned', values = '%', columns = 'category_cleaned2').fillna(0)#.unstack(level=0).T.reset_index()\n",
    "# reorder categories\n",
    "first_purchase_cat = list(prov.columns)\n",
    "first_purchase_cat.remove('Others')\n",
    "first_purchase_cat.append('Others')\n",
    "prov = prov[first_purchase_cat]\n",
    "prov = prov.reindex(index = first_purchase_cat)\n",
    "fig, ax = plt.subplots(figsize=(20, 20))\n",
    "\n",
    "# # color map\n",
    "# cmap = sns.diverging_palette(0, 230, 90, 60, as_cmap=True)\n",
    "# plot heatmap\n",
    "sns.heatmap(prov,annot=True, fmt=\".1%\", \n",
    "           linewidths=5,\n",
    "           cbar_kws={\"shrink\": .5, 'format': PercentFormatter(1)}, square=True, ax=ax)\n",
    "# ticks\n",
    "yticks = [i.upper() for i in prov.index]\n",
    "xticks = [i.upper() for i in prov.columns]\n",
    "plt.title(f\"{segment} | Repurchases: {sample_size:,}\")\n",
    "plt.yticks(plt.yticks()[0], labels=yticks, rotation=0, fontsize = 15)\n",
    "plt.xticks(plt.xticks()[0], labels=xticks, rotation=90, fontsize = 15)\n",
    "plt.ylabel('1st purchase')\n",
    "plt.xlabel('2nd purchase')\n",
    "\n",
    "plt.show()"
   ]
  },
  {
   "cell_type": "code",
   "execution_count": null,
   "metadata": {
    "hidden": true
   },
   "outputs": [],
   "source": []
  },
  {
   "cell_type": "code",
   "execution_count": null,
   "metadata": {
    "ExecuteTime": {
     "end_time": "2022-08-22T13:39:43.359164Z",
     "start_time": "2022-08-22T13:39:39.152723Z"
    },
    "hidden": true,
    "scrolled": false
   },
   "outputs": [],
   "source": [
    "segment = 'LARGE'\n",
    "# set df\n",
    "prov = df3[(df3['category_cleaned'] != 'SPARKLE') & (df3['segment'] == segment)]\n",
    "# get top 10 categories\n",
    "other_cat = list(prov[['category_cleaned', 'purchase_id']].groupby('category_cleaned').count().reset_index().sort_values('purchase_id', ascending=False)['category_cleaned'][10::])\n",
    "\n",
    "for n in other_cat:\n",
    "    prov.loc[prov['category_cleaned'] == n, 'category_cleaned'] = 'Others'\n",
    "# set df\n",
    "# get rank of purchases\n",
    "prov['category_cleaned2'] = prov.sort_values('purchase_release_datetime').groupby('user_buyer_id')['category_cleaned'].shift(-1)\n",
    "prov = prov[prov['category_cleaned2'].notnull()]\n",
    "prov = prov[['category_cleaned', 'category_cleaned2', 'purchase_id']].groupby(['category_cleaned', 'category_cleaned2']).count().reset_index()\n",
    "prov['%'] = prov['purchase_id'] / prov['purchase_id'].sum()\n",
    "sample_size = prov['purchase_id'].sum()\n",
    "prov = prov.drop('purchase_id', axis = 1).pivot_table(index = 'category_cleaned', values = '%', columns = 'category_cleaned2').fillna(0)#.unstack(level=0).T.reset_index()\n",
    "# reorder categories\n",
    "first_purchase_cat = list(prov.columns)\n",
    "first_purchase_cat.remove('Others')\n",
    "first_purchase_cat.append('Others')\n",
    "prov = prov[first_purchase_cat]\n",
    "prov = prov.reindex(index = first_purchase_cat)\n",
    "fig, ax = plt.subplots(figsize=(20, 20))\n",
    "\n",
    "# # color map\n",
    "# cmap = sns.diverging_palette(0, 230, 90, 60, as_cmap=True)\n",
    "# plot heatmap\n",
    "sns.heatmap(prov,annot=True, fmt=\".1%\", \n",
    "           linewidths=5,\n",
    "           cbar_kws={\"shrink\": .5, 'format': PercentFormatter(1)}, square=True, ax=ax)\n",
    "# ticks\n",
    "yticks = [i.upper() for i in prov.index]\n",
    "xticks = [i.upper() for i in prov.columns]\n",
    "plt.title(f\"{segment} | Repurchases: {sample_size:,}\")\n",
    "plt.yticks(plt.yticks()[0], labels=yticks, rotation=0, fontsize = 15)\n",
    "plt.xticks(plt.xticks()[0], labels=xticks, rotation=90, fontsize = 15)\n",
    "plt.ylabel('1st purchase')\n",
    "plt.xlabel('2nd purchase')\n",
    "\n",
    "plt.show()"
   ]
  },
  {
   "cell_type": "markdown",
   "metadata": {
    "heading_collapsed": true,
    "hidden": true
   },
   "source": [
    "#### Producers < 10k BRL LTV"
   ]
  },
  {
   "cell_type": "code",
   "execution_count": null,
   "metadata": {
    "ExecuteTime": {
     "end_time": "2022-08-22T13:39:43.364392Z",
     "start_time": "2022-08-22T13:39:43.361826Z"
    },
    "hidden": true
   },
   "outputs": [],
   "source": [
    "  \n",
    "  \n"
   ]
  },
  {
   "cell_type": "markdown",
   "metadata": {
    "hidden": true
   },
   "source": [
    "- For this analysis, 1st and 2nd purchases can be related to any producer within the same threshold. \n",
    "- Premise: if a 2nd purchase was related to a producer from a different threshold, this purchase will be discarded. If the 3rd+ purchase comes from the same producer threshold, then it will be considered as the 2nd purchase."
   ]
  },
  {
   "cell_type": "code",
   "execution_count": null,
   "metadata": {
    "ExecuteTime": {
     "end_time": "2022-08-22T13:39:45.671285Z",
     "start_time": "2022-08-22T13:39:43.367104Z"
    },
    "hidden": true
   },
   "outputs": [],
   "source": [
    "threshold = 'below'\n",
    "\n",
    "# set df\n",
    "prov = df3[(df3['category_cleaned'] != 'SPARKLE') & (df3['is_below_10_entire'] == threshold)]\n",
    "# get top 10 categories\n",
    "other_cat = list(prov[['category_cleaned', 'purchase_id']].groupby('category_cleaned').count().reset_index().sort_values('purchase_id', ascending=False)['category_cleaned'][10::])\n",
    "\n",
    "for n in other_cat:\n",
    "    prov.loc[prov['category_cleaned'] == n, 'category_cleaned'] = 'Others'\n",
    "# set df\n",
    "# get rank of purchases\n",
    "prov['category_cleaned2'] = prov.sort_values('purchase_release_datetime').groupby('user_buyer_id')['category_cleaned'].shift(-1)\n",
    "prov = prov[prov['category_cleaned2'].notnull()]\n",
    "prov = prov[['category_cleaned', 'category_cleaned2', 'purchase_id']].groupby(['category_cleaned', 'category_cleaned2']).count().reset_index()\n",
    "prov['%'] = prov['purchase_id'] / prov['purchase_id'].sum()\n",
    "sample_size = prov['purchase_id'].sum()\n",
    "prov = prov.drop('purchase_id', axis = 1).pivot_table(index = 'category_cleaned', values = '%', columns = 'category_cleaned2').fillna(0)#.unstack(level=0).T.reset_index()\n",
    "# reorder categories\n",
    "first_purchase_cat = list(prov.columns)\n",
    "first_purchase_cat.remove('Others')\n",
    "first_purchase_cat.append('Others')\n",
    "prov = prov[first_purchase_cat]\n",
    "prov = prov.reindex(index = first_purchase_cat)\n",
    "fig, ax = plt.subplots(figsize=(20, 20))\n",
    "\n",
    "# # color map\n",
    "# cmap = sns.diverging_palette(0, 230, 90, 60, as_cmap=True)\n",
    "# plot heatmap\n",
    "sns.heatmap(prov,annot=True, fmt=\".1%\", \n",
    "           linewidths=5,\n",
    "           cbar_kws={\"shrink\": .5, 'format': PercentFormatter(1)}, square=True, ax=ax)\n",
    "# ticks\n",
    "yticks = [i.upper() for i in prov.index]\n",
    "xticks = [i.upper() for i in prov.columns]\n",
    "plt.title(f\"{threshold} | Repurchases: {sample_size:,}\")\n",
    "\n",
    "plt.yticks(plt.yticks()[0], labels=yticks, rotation=0, fontsize = 15)\n",
    "plt.xticks(plt.xticks()[0], labels=xticks, rotation=90, fontsize = 15)\n",
    "plt.ylabel('1st purchase')\n",
    "plt.xlabel('2nd purchase')\n",
    "\n",
    "plt.show()"
   ]
  },
  {
   "cell_type": "code",
   "execution_count": null,
   "metadata": {
    "ExecuteTime": {
     "end_time": "2022-08-22T13:40:22.885504Z",
     "start_time": "2022-08-22T13:39:45.673368Z"
    },
    "hidden": true
   },
   "outputs": [],
   "source": [
    "threshold = 'above'\n",
    "\n",
    "# set df\n",
    "prov = df3[(df3['category_cleaned'] != 'SPARKLE') & (df3['is_below_10_entire'] == threshold)]\n",
    "# get top 10 categories\n",
    "other_cat = list(prov[['category_cleaned', 'purchase_id']].groupby('category_cleaned').count().reset_index().sort_values('purchase_id', ascending=False)['category_cleaned'][10::])\n",
    "\n",
    "for n in other_cat:\n",
    "    prov.loc[prov['category_cleaned'] == n, 'category_cleaned'] = 'Others'\n",
    "# set df\n",
    "# get rank of purchases\n",
    "prov['category_cleaned2'] = prov.sort_values('purchase_release_datetime').groupby('user_buyer_id')['category_cleaned'].shift(-1)\n",
    "prov = prov[prov['category_cleaned2'].notnull()]\n",
    "prov = prov[['category_cleaned', 'category_cleaned2', 'purchase_id']].groupby(['category_cleaned', 'category_cleaned2']).count().reset_index()\n",
    "prov['%'] = prov['purchase_id'] / prov['purchase_id'].sum()\n",
    "sample_size = prov['purchase_id'].sum()\n",
    "prov = prov.drop('purchase_id', axis = 1).pivot_table(index = 'category_cleaned', values = '%', columns = 'category_cleaned2').fillna(0)#.unstack(level=0).T.reset_index()\n",
    "# reorder categories\n",
    "first_purchase_cat = list(prov.columns)\n",
    "first_purchase_cat.remove('Others')\n",
    "first_purchase_cat.append('Others')\n",
    "prov = prov[first_purchase_cat]\n",
    "prov = prov.reindex(index = first_purchase_cat)\n",
    "fig, ax = plt.subplots(figsize=(20, 20))\n",
    "\n",
    "# # color map\n",
    "# cmap = sns.diverging_palette(0, 230, 90, 60, as_cmap=True)\n",
    "# plot heatmap\n",
    "sns.heatmap(prov,annot=True, fmt=\".1%\", \n",
    "           linewidths=5,\n",
    "           cbar_kws={\"shrink\": .5, 'format': PercentFormatter(1)}, square=True, ax=ax)\n",
    "# ticks\n",
    "yticks = [i.upper() for i in prov.index]\n",
    "xticks = [i.upper() for i in prov.columns]\n",
    "plt.title(f\"{threshold} | Repurchases: {sample_size:,}\")\n",
    "plt.yticks(plt.yticks()[0], labels=yticks, rotation=0, fontsize = 15)\n",
    "plt.xticks(plt.xticks()[0], labels=xticks, rotation=90, fontsize = 15)\n",
    "plt.ylabel('1st purchase')\n",
    "plt.xlabel('2nd purchase')\n",
    "\n",
    "plt.show()"
   ]
  },
  {
   "cell_type": "markdown",
   "metadata": {
    "heading_collapsed": true
   },
   "source": [
    "### How many customers repurchase within the same product category (but from different producers)? (by customer country, producer office, producers below 10k BRL LTV)"
   ]
  },
  {
   "cell_type": "code",
   "execution_count": null,
   "metadata": {
    "ExecuteTime": {
     "end_time": "2022-08-22T13:40:22.897080Z",
     "start_time": "2022-08-22T13:40:22.891235Z"
    },
    "hidden": true
   },
   "outputs": [],
   "source": [
    "  \n",
    "  \n",
    "  \n",
    "  "
   ]
  },
  {
   "cell_type": "markdown",
   "metadata": {
    "hidden": true
   },
   "source": [
    "- In this analysis, we considered only 1st and 2nd purchases from a customer. "
   ]
  },
  {
   "cell_type": "markdown",
   "metadata": {
    "heading_collapsed": true,
    "hidden": true
   },
   "source": [
    "#### Overall"
   ]
  },
  {
   "cell_type": "code",
   "execution_count": null,
   "metadata": {
    "ExecuteTime": {
     "end_time": "2022-08-22T13:41:08.785212Z",
     "start_time": "2022-08-22T13:40:22.899881Z"
    },
    "hidden": true
   },
   "outputs": [],
   "source": [
    "# all users who repurchase\n",
    "aux1 = df3[(df3['repurchase'] == 'repurchase')][['user_buyer_id', 'category', 'producer_id', 'purchase_id', 'product_id', 'order_purchase']]\n",
    "# get first and 2nd purchase of every user\n",
    "aux2 = aux1[aux1['order_purchase'] == 1][['user_buyer_id', 'producer_id', 'category']]\n",
    "aux3 = aux1[aux1['order_purchase'] == 2][['user_buyer_id', 'producer_id', 'category']]\n",
    "aux3.columns = ['user_buyer_id', 'producer_id2', 'category2']\n",
    "aux4 = aux3.merge(aux2, how = 'left', on = 'user_buyer_id')\n",
    "aux4['same_cat'] = aux4.apply(lambda x : 'same_cat' if x['category'] == x['category2'] else 'diff_cat', axis = 1)\n",
    "aux4['same_prod'] = aux4.apply(lambda x : 'same_prod' if x['producer_id'] == x['producer_id2'] else 'diff_prod', axis = 1)\n",
    "aux4['answer'] = aux4.apply(lambda x : 'diff_producer_same_cat' if (x['same_cat'] == 'same_cat') & (x['same_prod'] == 'diff_prod') \n",
    "                            else 'same_producer_same_cat' if (x['same_cat'] == 'same_cat') & (x['same_prod'] == 'same_prod') \n",
    "                            else 'NA'\n",
    "                            , axis = 1)\n",
    "\n",
    "# group by filter - users who repurchase at same categories\n",
    "aux5 = aux4[['user_buyer_id', 'same_cat']].groupby('same_cat').count().reset_index()\n",
    "aux5['%'] = aux5['user_buyer_id'] / aux5['user_buyer_id'].sum() * 100\n",
    "# group by filter - hypothesis answer\n",
    "aux6 = aux4[aux4['same_cat'] == 'same_cat'][['user_buyer_id', 'answer']].groupby('answer').count().reset_index()\n",
    "aux6['%'] = aux6['user_buyer_id'] / aux6['user_buyer_id'].sum() * 100\n",
    "\n",
    "# plot graph with annotations\n",
    "plt.figure(figsize = (10,10))\n",
    "sns.set_style('white')\n",
    "splot = sns.barplot(y = 'same_cat', x = '%', data = aux5, palette = palette_types, order = ['diff_cat', 'same_cat']);\n",
    "\n",
    "for p in splot.patches:\n",
    "    splot.annotate(\"%.2f\" % p.get_width(), xy=(p.get_width(), p.get_y()+p.get_height()/2),\n",
    "                   xytext=(5,0), textcoords='offset points', ha='left', va='center')\n",
    "plt.title(\"Users who repurchased: same vs different category (%)\")\n",
    "plt.yticks(fontsize =16)\n",
    "plt.xlabel(f\"% (N = {(aux5['user_buyer_id'].sum()):,})\")\n",
    "plt.ylabel(\"\")\n",
    "plt.xlim(0, 100)\n",
    "plt.show()"
   ]
  },
  {
   "cell_type": "code",
   "execution_count": null,
   "metadata": {
    "ExecuteTime": {
     "end_time": "2022-08-22T13:41:08.949496Z",
     "start_time": "2022-08-22T13:41:08.787206Z"
    },
    "hidden": true
   },
   "outputs": [],
   "source": [
    "# plot graph with annotations\n",
    "plt.figure(figsize = (10,10))\n",
    "sns.set_style('white')\n",
    "splot = sns.barplot(y = 'answer', x = '%', data = aux6, palette = palette_types, order = ['diff_producer_same_cat', 'same_producer_same_cat']);\n",
    "\n",
    "for p in splot.patches:\n",
    "    splot.annotate(\"%.2f\" % p.get_width(), xy=(p.get_width(), p.get_y()+p.get_height()/2),\n",
    "                   xytext=(5,0), textcoords='offset points', ha='left', va='center')\n",
    "plt.title(\"Customers who repurchase within the same product category (but different producers) (%)\")\n",
    "plt.yticks(fontsize =16)\n",
    "plt.xlabel(f\"% (N = {(aux6['user_buyer_id'].sum()):,})\")\n",
    "plt.ylabel(\"\")\n",
    "plt.xlim(0, 100)\n",
    "plt.show()"
   ]
  },
  {
   "cell_type": "markdown",
   "metadata": {
    "heading_collapsed": true,
    "hidden": true
   },
   "source": [
    "#### Producer Office (Users who repurchased: same vs different category)"
   ]
  },
  {
   "cell_type": "markdown",
   "metadata": {
    "hidden": true
   },
   "source": [
    "- For this analysis, repurchases can be related to any producer within the same office. \n",
    "- Premise: if a repurchase was related to a producer from a different office, this purchase will be discarded. "
   ]
  },
  {
   "cell_type": "code",
   "execution_count": null,
   "metadata": {
    "ExecuteTime": {
     "end_time": "2022-08-22T13:42:09.826817Z",
     "start_time": "2022-08-22T13:41:08.951442Z"
    },
    "hidden": true
   },
   "outputs": [],
   "source": [
    "# get top 10 countries \n",
    "office = list(df3[['user_office_name', 'purchase_id']].groupby('user_office_name').count().reset_index().sort_values('purchase_id', ascending=False)['user_office_name'])\n",
    "\n",
    "plt.figure(figsize = (20,15))\n",
    "for e, f in enumerate(office):\n",
    "    plt.subplot(2,3,e+1)\n",
    "    # set df\n",
    "    aux1 = df3[(df3['user_office_name'] == f)][['user_buyer_id', 'category', 'producer_id', 'purchase_id', 'product_id', 'purchase_order_datetime']]\n",
    "    # count purchases per user\n",
    "    aux2 = df3[(df3['user_office_name'] == f)][['user_buyer_id', 'purchase_id']].groupby('user_buyer_id').count().reset_index()\n",
    "    aux2.columns = ['user_buyer_id', 'no_repurchase']\n",
    "    aux1 = aux1.merge(aux2, how = 'left', on = 'user_buyer_id')\n",
    "    # flag repurchase\n",
    "    aux1['repurchase'] = aux1['no_repurchase'].apply(lambda x : 'repurchase' if x != 1 else 'single-purchase')\n",
    "    # filter users\n",
    "    aux1 = aux1[aux1['repurchase'] == 'repurchase']\n",
    "\n",
    "    # get rank of purchases\n",
    "    aux1['order_purchase_temp'] = aux1.groupby(\"user_buyer_id\")[\"purchase_order_datetime\"].rank(method=\"first\", ascending=True)\n",
    "\n",
    "    # get first and 2nd purchase of every user\n",
    "    aux2 = aux1[aux1['order_purchase_temp'] == 1][['user_buyer_id', 'producer_id', 'category']]\n",
    "    aux3 = aux1[aux1['order_purchase_temp'] == 2][['user_buyer_id', 'producer_id', 'category']]\n",
    "    aux3.columns = ['user_buyer_id', 'producer_id2', 'category2']\n",
    "    aux4 = aux3.merge(aux2, how = 'left', on = 'user_buyer_id')\n",
    "    aux4['same_cat'] = aux4.apply(lambda x : 'same_cat' if x['category'] == x['category2'] else 'diff_cat', axis = 1)\n",
    "    aux4['same_prod'] = aux4.apply(lambda x : 'same_prod' if x['producer_id'] == x['producer_id2'] else 'diff_prod', axis = 1)\n",
    "    aux4['answer'] = aux4.apply(lambda x : 'diff_producer_same_cat' if (x['same_cat'] == 'same_cat') & (x['same_prod'] == 'diff_prod') \n",
    "                                else 'same_producer_same_cat' if (x['same_cat'] == 'same_cat') & (x['same_prod'] == 'same_prod') \n",
    "                                else 'NA'\n",
    "                                , axis = 1)\n",
    "    # group by filter - users who repurchase at same categories\n",
    "    aux5 = aux4[['user_buyer_id', 'same_cat']].groupby('same_cat').count().reset_index()\n",
    "    aux5['%'] = aux5['user_buyer_id'] / aux5['user_buyer_id'].sum() * 100\n",
    "    # group by filter - hypothesis answer\n",
    "    aux6 = aux4[aux4['same_cat'] == 'same_cat'][['user_buyer_id', 'answer']].groupby('answer').count().reset_index()\n",
    "    aux6['%'] = aux6['user_buyer_id'] / aux6['user_buyer_id'].sum() * 100\n",
    "    # plot graph with annotations\n",
    "    sns.set_style('white')\n",
    "    splot = sns.barplot(y = 'same_cat', x = '%', data = aux5, palette = palette_types, order = ['diff_cat', 'same_cat']);\n",
    "\n",
    "    for p in splot.patches:\n",
    "        splot.annotate(\"%.2f\" % p.get_width(), xy=(p.get_width(), p.get_y()+p.get_height()/2),\n",
    "                       xytext=(5,0), textcoords='offset points', ha='left', va='center')\n",
    "    plt.title(f\"{f} | N: {(millify(aux5['user_buyer_id'].sum()))}\")\n",
    "    plt.yticks(fontsize =16)\n",
    "    plt.xlabel(\"\")\n",
    "    plt.ylabel(\"\")\n",
    "    plt.xlim(0, 100)\n",
    "    splot.axes.get_yaxis().set_visible(False)\n",
    "    if e == 0:\n",
    "        splot.axes.get_yaxis().set_visible(True)\n",
    "    if e == 3:\n",
    "        splot.axes.get_yaxis().set_visible(True)\n",
    "    #         splot.spines['right'].set_visible(False)\n",
    "    #         splot.spines['top'].set_visible(False)\n",
    "    #         splot.spines['left'].set_visible(False)\n",
    "    #         splot.spines['bottom'].set_visible(False)\n",
    "    splot.axes.get_xaxis().set_visible(False)\n",
    "    #         splot.axes.get_yaxis().set_visible(False)\n",
    "plt.subplots_adjust(hspace=0.1)\n",
    "plt.subplots_adjust(wspace=0.1)\n",
    "plt.show()"
   ]
  },
  {
   "cell_type": "markdown",
   "metadata": {
    "heading_collapsed": true,
    "hidden": true
   },
   "source": [
    "#### Producer Office (Answer)"
   ]
  },
  {
   "cell_type": "markdown",
   "metadata": {
    "hidden": true
   },
   "source": [
    "- For this analysis, repurchases can be related to any producer within the same office. \n",
    "- Premise: if a repurchase was related to a producer from a different office, this purchase will be discarded. "
   ]
  },
  {
   "cell_type": "code",
   "execution_count": null,
   "metadata": {
    "ExecuteTime": {
     "end_time": "2022-09-09T13:36:13.583129Z",
     "start_time": "2022-09-09T13:36:13.580177Z"
    },
    "hidden": true
   },
   "outputs": [],
   "source": [
    "palette_diff_same_prod = {'different': '#9EA4AC', 'same': '#9EA4AC'} # grey, orange\n"
   ]
  },
  {
   "cell_type": "code",
   "execution_count": null,
   "metadata": {
    "ExecuteTime": {
     "end_time": "2022-09-09T14:11:09.085694Z",
     "start_time": "2022-09-09T14:10:04.233519Z"
    },
    "hidden": true
   },
   "outputs": [],
   "source": [
    "# get top 10 countries \n",
    "office = list(df3[['user_office_name', 'purchase_id']].groupby('user_office_name').count().reset_index().sort_values('purchase_id', ascending=False)['user_office_name'])\n",
    "repurchase = pd.DataFrame()\n",
    "plt.figure(figsize = (15,20))\n",
    "for e, f in enumerate(office):\n",
    "    plt.subplot(3,2,e+1)\n",
    "    # set df\n",
    "    aux1 = df3[(df3['user_office_name'] == f)][['user_buyer_id', 'category', 'producer_id', 'purchase_id', 'product_id', 'purchase_order_datetime']]\n",
    "    # count purchases per user\n",
    "    aux2 = df3[(df3['user_office_name'] == f)][['user_buyer_id', 'purchase_id']].groupby('user_buyer_id').count().reset_index()\n",
    "    aux2.columns = ['user_buyer_id', 'no_repurchase']\n",
    "    aux1 = aux1.merge(aux2, how = 'left', on = 'user_buyer_id')\n",
    "    # flag repurchase\n",
    "    aux1['repurchase'] = aux1['no_repurchase'].apply(lambda x : 'repurchase' if x != 1 else 'single-purchase')\n",
    "    # filter users\n",
    "    aux1 = aux1[aux1['repurchase'] == 'repurchase']\n",
    "\n",
    "    # get rank of purchases\n",
    "    aux1['order_purchase_temp'] = aux1.groupby(\"user_buyer_id\")[\"purchase_order_datetime\"].rank(method=\"first\", ascending=True)\n",
    "\n",
    "    # get first and 2nd purchase of every user\n",
    "    aux2 = aux1[aux1['order_purchase_temp'] == 1][['user_buyer_id', 'producer_id', 'category']]\n",
    "    aux3 = aux1[aux1['order_purchase_temp'] == 2][['user_buyer_id', 'producer_id', 'category']]\n",
    "    aux3.columns = ['user_buyer_id', 'producer_id2', 'category2']\n",
    "    aux4 = aux3.merge(aux2, how = 'left', on = 'user_buyer_id')\n",
    "    aux4['same_cat'] = aux4.apply(lambda x : 'same_cat' if x['category'] == x['category2'] else 'diff_cat', axis = 1)\n",
    "    aux4['same_prod'] = aux4.apply(lambda x : 'same_prod' if x['producer_id'] == x['producer_id2'] else 'diff_prod', axis = 1)\n",
    "    aux4['answer'] = aux4.apply(lambda x : 'different' if (x['same_cat'] == 'same_cat') & (x['same_prod'] == 'diff_prod') \n",
    "                                else 'same' if (x['same_cat'] == 'same_cat') & (x['same_prod'] == 'same_prod') \n",
    "                                else 'NA'\n",
    "                                , axis = 1)\n",
    "    # group by filter - users who repurchase at same categories\n",
    "    aux5 = aux4[['user_buyer_id', 'same_cat']].groupby('same_cat').count().reset_index()\n",
    "    aux5['%'] = aux5['user_buyer_id'] / aux5['user_buyer_id'].sum() * 100\n",
    "    # group by filter - hypothesis answer\n",
    "    aux6 = aux4[aux4['same_cat'] == 'same_cat'][['user_buyer_id', 'answer']].groupby('answer').count().reset_index()\n",
    "    aux6['%'] = aux6['user_buyer_id'] / aux6['user_buyer_id'].sum() * 100\n",
    "    # plot graph with annotations\n",
    "    sns.set_style('white')\n",
    "    splot = sns.barplot(y = 'answer', x = '%', data = aux6, palette = palette_diff_same_prod, \n",
    "                        order = ['different', 'same']);\n",
    "\n",
    "    for p in splot.patches:\n",
    "        splot.annotate(\"%.2f\" % p.get_width() + '%', xy=(p.get_width(), p.get_y()+p.get_height()/2),\n",
    "                       xytext=(5,0), textcoords='offset points', ha='left', va='center', color =  '#707780')\n",
    "    plt.title(f\"{f} | Buyers: {(aux6['user_buyer_id'].sum()):,}\", color =  '#707780')\n",
    "    plt.yticks(fontsize =30)\n",
    "    plt.xlabel(\"\")\n",
    "    plt.ylabel(\"\")\n",
    "    plt.xlim(0, 120)\n",
    "    splot.axes.get_yaxis().set_visible(False)\n",
    "    splot.axes.get_xaxis().set_visible(False)\n",
    "    if e == 0:\n",
    "        splot.axes.get_yaxis().set_visible(True)\n",
    "    if e == 2:\n",
    "        splot.axes.get_yaxis().set_visible(True)\n",
    "    if e == 4:\n",
    "        splot.axes.get_yaxis().set_visible(True)\n",
    "\n",
    "    splot.yaxis.label.set_color('#707780')\n",
    "    splot.spines['left'].set_color('#707780')\n",
    "    splot.spines['right'].set_color('#707780')\n",
    "    splot.spines['top'].set_color('#707780')\n",
    "    splot.spines['bottom'].set_color('#707780')\n",
    "    splot.tick_params(axis='y', colors='#707780',labelsize=30, pad = 20)\n",
    "plt.subplots_adjust(hspace=0.15)\n",
    "plt.subplots_adjust(wspace=0.1)\n",
    "plt.show()"
   ]
  },
  {
   "cell_type": "markdown",
   "metadata": {
    "heading_collapsed": true,
    "hidden": true
   },
   "source": [
    "#### Producers < 10k BRL LTV (Users who repurchased: same vs different category)"
   ]
  },
  {
   "cell_type": "markdown",
   "metadata": {
    "hidden": true
   },
   "source": [
    "- For this analysis, repurchases can be related to any producer within the same segment. \n",
    "- Premise: if a repurchase was related to a producer from a different segment, this purchase will be discarded. "
   ]
  },
  {
   "cell_type": "code",
   "execution_count": null,
   "metadata": {
    "hidden": true
   },
   "outputs": [],
   "source": []
  },
  {
   "cell_type": "code",
   "execution_count": null,
   "metadata": {
    "ExecuteTime": {
     "end_time": "2022-08-22T13:44:08.173778Z",
     "start_time": "2022-08-22T13:43:09.536601Z"
    },
    "hidden": true
   },
   "outputs": [],
   "source": [
    "# get top 10 countries \n",
    "office = list(df3[['user_office_name', 'purchase_id']].groupby('user_office_name').count().reset_index().sort_values('purchase_id', ascending=False)['user_office_name'])\n",
    "\n",
    "plt.figure(figsize = (20,10))\n",
    "for e, f in enumerate([ 'below', 'above']):\n",
    "    plt.subplot(1,2,e+1)\n",
    "    # set df\n",
    "    aux1 = df3[(df3['is_below_10_entire'] == f)][['user_buyer_id', 'category', 'producer_id', 'purchase_id', 'product_id', 'purchase_order_datetime']]\n",
    "    # count purchases per user\n",
    "    aux2 = df3[(df3['is_below_10_entire'] == f)][['user_buyer_id', 'purchase_id']].groupby('user_buyer_id').count().reset_index()\n",
    "    aux2.columns = ['user_buyer_id', 'no_repurchase']\n",
    "    aux1 = aux1.merge(aux2, how = 'left', on = 'user_buyer_id')\n",
    "    # flag repurchase\n",
    "    aux1['repurchase'] = aux1['no_repurchase'].apply(lambda x : 'repurchase' if x != 1 else 'single-purchase')\n",
    "    # filter users\n",
    "    aux1 = aux1[aux1['repurchase'] == 'repurchase']\n",
    "\n",
    "    # get rank of purchases\n",
    "    aux1['order_purchase_temp'] = aux1.groupby(\"user_buyer_id\")[\"purchase_order_datetime\"].rank(method=\"first\", ascending=True)\n",
    "\n",
    "    # get first and 2nd purchase of every user\n",
    "    aux2 = aux1[aux1['order_purchase_temp'] == 1][['user_buyer_id', 'producer_id', 'category']]\n",
    "    aux3 = aux1[aux1['order_purchase_temp'] == 2][['user_buyer_id', 'producer_id', 'category']]\n",
    "    aux3.columns = ['user_buyer_id', 'producer_id2', 'category2']\n",
    "    aux4 = aux3.merge(aux2, how = 'left', on = 'user_buyer_id')\n",
    "    aux4['same_cat'] = aux4.apply(lambda x : 'same_cat' if x['category'] == x['category2'] else 'diff_cat', axis = 1)\n",
    "    aux4['same_prod'] = aux4.apply(lambda x : 'same_prod' if x['producer_id'] == x['producer_id2'] else 'diff_prod', axis = 1)\n",
    "    aux4['answer'] = aux4.apply(lambda x : 'diff_producer_same_cat' if (x['same_cat'] == 'same_cat') & (x['same_prod'] == 'diff_prod') \n",
    "                                else 'same_producer_same_cat' if (x['same_cat'] == 'same_cat') & (x['same_prod'] == 'same_prod') \n",
    "                                else 'NA'\n",
    "                                , axis = 1)\n",
    "    # group by filter - users who repurchase at same categories\n",
    "    aux5 = aux4[['user_buyer_id', 'same_cat']].groupby('same_cat').count().reset_index()\n",
    "    aux5['%'] = aux5['user_buyer_id'] / aux5['user_buyer_id'].sum() * 100\n",
    "    # group by filter - hypothesis answer\n",
    "    aux6 = aux4[aux4['same_cat'] == 'same_cat'][['user_buyer_id', 'answer']].groupby('answer').count().reset_index()\n",
    "    aux6['%'] = aux6['user_buyer_id'] / aux6['user_buyer_id'].sum() * 100\n",
    "    # plot graph with annotations\n",
    "    sns.set_style('white')\n",
    "    splot = sns.barplot(y = 'same_cat', x = '%', data = aux5, palette = palette_types, order = ['diff_cat', 'same_cat']);\n",
    "\n",
    "    for p in splot.patches:\n",
    "        splot.annotate(\"%.2f\" % p.get_width(), xy=(p.get_width(), p.get_y()+p.get_height()/2),\n",
    "                       xytext=(5,0), textcoords='offset points', ha='left', va='center')\n",
    "    plt.title(f\"{f} | N: {(millify(aux5['user_buyer_id'].sum()))}\")\n",
    "    plt.yticks(fontsize =16)\n",
    "    plt.xlabel(\"\")\n",
    "    plt.ylabel(\"\")\n",
    "    plt.xlim(0, 100)\n",
    "    splot.axes.get_yaxis().set_visible(False)\n",
    "    if e == 0:\n",
    "        splot.axes.get_yaxis().set_visible(True)\n",
    "    #         splot.spines['right'].set_visible(False)\n",
    "    #         splot.spines['top'].set_visible(False)\n",
    "    #         splot.spines['left'].set_visible(False)\n",
    "    #         splot.spines['bottom'].set_visible(False)\n",
    "    splot.axes.get_xaxis().set_visible(False)\n",
    "    #         splot.axes.get_yaxis().set_visible(False)\n",
    "plt.subplots_adjust(hspace=0.1)\n",
    "plt.subplots_adjust(wspace=0.1)\n",
    "plt.show()"
   ]
  },
  {
   "cell_type": "markdown",
   "metadata": {
    "heading_collapsed": true,
    "hidden": true
   },
   "source": [
    "#### Producers < 10k BRL LTV (Answer)"
   ]
  },
  {
   "cell_type": "markdown",
   "metadata": {
    "hidden": true
   },
   "source": [
    "- For this analysis, repurchases can be related to any producer within the same segment. \n",
    "- Premise: if a repurchase was related to a producer from a different segment, this purchase will be discarded. "
   ]
  },
  {
   "cell_type": "code",
   "execution_count": null,
   "metadata": {
    "ExecuteTime": {
     "end_time": "2022-08-22T13:45:06.710562Z",
     "start_time": "2022-08-22T13:44:08.177113Z"
    },
    "hidden": true
   },
   "outputs": [],
   "source": [
    "# get top 10 countries \n",
    "office = list(df3[['user_office_name', 'purchase_id']].groupby('user_office_name').count().reset_index().sort_values('purchase_id', ascending=False)['user_office_name'])\n",
    "\n",
    "plt.figure(figsize = (20,10))\n",
    "for e, f in enumerate([ 'below', 'above']):\n",
    "    plt.subplot(1,2,e+1)\n",
    "    # set df\n",
    "    aux1 = df3[(df3['is_below_10_entire'] == f)][['user_buyer_id', 'category', 'producer_id', 'purchase_id', 'product_id', 'purchase_order_datetime']]\n",
    "    # count purchases per user\n",
    "    aux2 = df3[(df3['is_below_10_entire'] == f)][['user_buyer_id', 'purchase_id']].groupby('user_buyer_id').count().reset_index()\n",
    "    aux2.columns = ['user_buyer_id', 'no_repurchase']\n",
    "    aux1 = aux1.merge(aux2, how = 'left', on = 'user_buyer_id')\n",
    "    # flag repurchase\n",
    "    aux1['repurchase'] = aux1['no_repurchase'].apply(lambda x : 'repurchase' if x != 1 else 'single-purchase')\n",
    "    # filter users\n",
    "    aux1 = aux1[aux1['repurchase'] == 'repurchase']\n",
    "\n",
    "    # get rank of purchases\n",
    "    aux1['order_purchase_temp'] = aux1.groupby(\"user_buyer_id\")[\"purchase_order_datetime\"].rank(method=\"first\", ascending=True)\n",
    "\n",
    "    # get first and 2nd purchase of every user\n",
    "    aux2 = aux1[aux1['order_purchase_temp'] == 1][['user_buyer_id', 'producer_id', 'category']]\n",
    "    aux3 = aux1[aux1['order_purchase_temp'] == 2][['user_buyer_id', 'producer_id', 'category']]\n",
    "    aux3.columns = ['user_buyer_id', 'producer_id2', 'category2']\n",
    "    aux4 = aux3.merge(aux2, how = 'left', on = 'user_buyer_id')\n",
    "    aux4['same_cat'] = aux4.apply(lambda x : 'same_cat' if x['category'] == x['category2'] else 'diff_cat', axis = 1)\n",
    "    aux4['same_prod'] = aux4.apply(lambda x : 'same_prod' if x['producer_id'] == x['producer_id2'] else 'diff_prod', axis = 1)\n",
    "    aux4['answer'] = aux4.apply(lambda x : 'diff_producer_same_cat' if (x['same_cat'] == 'same_cat') & (x['same_prod'] == 'diff_prod') \n",
    "                                else 'same_producer_same_cat' if (x['same_cat'] == 'same_cat') & (x['same_prod'] == 'same_prod') \n",
    "                                else 'NA'\n",
    "                                , axis = 1)\n",
    "    # group by filter - users who repurchase at same categories\n",
    "    aux5 = aux4[['user_buyer_id', 'same_cat']].groupby('same_cat').count().reset_index()\n",
    "    aux5['%'] = aux5['user_buyer_id'] / aux5['user_buyer_id'].sum() * 100\n",
    "    # group by filter - hypothesis answer\n",
    "    aux6 = aux4[aux4['same_cat'] == 'same_cat'][['user_buyer_id', 'answer']].groupby('answer').count().reset_index()\n",
    "    aux6['%'] = aux6['user_buyer_id'] / aux6['user_buyer_id'].sum() * 100\n",
    "    # plot graph with annotations\n",
    "    sns.set_style('white')\n",
    "    splot = sns.barplot(y = 'answer', x = '%', data = aux6, palette = palette_types, order = ['diff_producer_same_cat', 'same_producer_same_cat']);\n",
    "\n",
    "    for p in splot.patches:\n",
    "        splot.annotate(\"%.2f\" % p.get_width(), xy=(p.get_width(), p.get_y()+p.get_height()/2),\n",
    "                       xytext=(5,0), textcoords='offset points', ha='left', va='center')\n",
    "    plt.title(f\"{f} | N: {(millify(aux6['user_buyer_id'].sum()))}\")\n",
    "    plt.yticks(fontsize =16)\n",
    "    plt.xlabel(\"\")\n",
    "    plt.ylabel(\"\")\n",
    "    plt.xlim(0, 100)\n",
    "    splot.axes.get_yaxis().set_visible(False)\n",
    "    if e == 0:\n",
    "        splot.axes.get_yaxis().set_visible(True)\n",
    "    #         splot.spines['right'].set_visible(False)\n",
    "    #         splot.spines['top'].set_visible(False)\n",
    "    #         splot.spines['left'].set_visible(False)\n",
    "    #         splot.spines['bottom'].set_visible(False)\n",
    "    splot.axes.get_xaxis().set_visible(False)\n",
    "    #         splot.axes.get_yaxis().set_visible(False)\n",
    "plt.subplots_adjust(hspace=0.1)\n",
    "plt.subplots_adjust(wspace=0.1)\n",
    "plt.show()"
   ]
  },
  {
   "cell_type": "markdown",
   "metadata": {
    "heading_collapsed": true
   },
   "source": [
    "### Do customers who repurchase a 2nd time complete the 1st purchase (Club)? What is the completion rate (% of modules completed)?"
   ]
  },
  {
   "cell_type": "markdown",
   "metadata": {
    "hidden": true
   },
   "source": [
    "- Time is not accounted in this analysis: progress rates come from the time the query was performed.\n",
    "- Only repurchases in which 1st transaction was a club product were considered\n",
    "- if user has completed a course, progress will be considered as 100% (even if producer adds more modules - which affects progress rate)\n",
    "- if user has progressed 85% or more, course will be considered as completed.\n",
    "- Repurchases with too many NAs across club data were discarded.\n",
    "- Duplicate repurchases were removed (same product_id)"
   ]
  },
  {
   "cell_type": "code",
   "execution_count": null,
   "metadata": {
    "ExecuteTime": {
     "end_time": "2022-08-22T13:45:06.717458Z",
     "start_time": "2022-08-22T13:45:06.714965Z"
    },
    "hidden": true
   },
   "outputs": [],
   "source": [
    "  \n",
    "  \n",
    "  \n",
    "  "
   ]
  },
  {
   "cell_type": "markdown",
   "metadata": {
    "heading_collapsed": true,
    "hidden": true
   },
   "source": [
    "#### Data Cleaning"
   ]
  },
  {
   "cell_type": "code",
   "execution_count": null,
   "metadata": {
    "ExecuteTime": {
     "end_time": "2022-09-11T19:13:17.683583Z",
     "start_time": "2022-09-11T19:13:00.347759Z"
    },
    "hidden": true,
    "scrolled": false
   },
   "outputs": [],
   "source": [
    "aux1 = df3[df3['is_club'] == 'club'][['user_buyer_id','product_id', 'purchase_id', 'join_date', 'progress_club','is_course_complete', 'completion_course_date', 'join_course_date', 'membership_status', 'last_access', 'purchase_order_datetime']]\n",
    "# aux1.isna().sum() / len(aux1) * 100"
   ]
  },
  {
   "cell_type": "code",
   "execution_count": null,
   "metadata": {
    "ExecuteTime": {
     "end_time": "2022-09-11T19:13:23.053026Z",
     "start_time": "2022-09-11T19:13:17.690335Z"
    },
    "hidden": true,
    "scrolled": true
   },
   "outputs": [],
   "source": [
    "# transform ms to datetime\n",
    "aux1.columns = ['user_buyer_id', 'product_id', 'purchase_id', 'join_date_elastic',\n",
    "       'progress_club_elastic', 'is_course_complete_club', 'completion_course_date', 'join_course_date',\n",
    "       'membership_status_club', 'last_access', 'purchase_order_datetime']\n",
    "aux1['join_course_date_club'] = pd.to_datetime(aux1['join_course_date'], unit='ms')\n",
    "aux1['completion_course_date_club'] = pd.to_datetime(aux1['completion_course_date'], unit='ms')\n",
    "aux1['last_access_club'] = pd.to_datetime(aux1['last_access'], unit='ms')\n",
    "# aux1['join_date_elastic'] = pd.to_datetime(aux1['join_date_elastic'].str.replace('T', ' ').str.replace('Z', ' '), format=\"%Y-%m-%d %H:%M:%S\")\n",
    "aux1['join_date_elastic'] = aux1['join_date_elastic'].str.replace('T', ' ').str.replace('Z', ' ')\n",
    "aux1 = aux1.drop(['join_course_date', 'completion_course_date', 'last_access'], axis = 1)\n",
    "\n",
    "# impute join_date_elastic\n",
    "aux1.loc[(aux1['join_date_elastic'].isna()) & (aux1['join_course_date_club'].notnull()), 'join_date_elastic'] = aux1['join_course_date_club']\n"
   ]
  },
  {
   "cell_type": "code",
   "execution_count": null,
   "metadata": {
    "ExecuteTime": {
     "end_time": "2022-09-11T19:13:23.547099Z",
     "start_time": "2022-09-11T19:13:23.059112Z"
    },
    "hidden": true,
    "scrolled": false
   },
   "outputs": [],
   "source": [
    "# if user has completed 85%, we will consider it as completed\n",
    "get_descriptive_statistics(aux1.loc[(aux1['is_course_complete_club'] == 1) & (aux1['progress_club_elastic'].notnull()), :][['progress_club_elastic']])"
   ]
  },
  {
   "cell_type": "code",
   "execution_count": null,
   "metadata": {
    "ExecuteTime": {
     "end_time": "2022-09-11T19:13:24.960426Z",
     "start_time": "2022-09-11T19:13:23.550521Z"
    },
    "hidden": true,
    "scrolled": true
   },
   "outputs": [],
   "source": [
    "# 95% percentile is 76% completion rate\n",
    "get_descriptive_statistics(aux1.loc[(aux1['is_course_complete_club'] == 0) & (aux1['progress_club_elastic'].notnull()), :][['progress_club_elastic']])"
   ]
  },
  {
   "cell_type": "code",
   "execution_count": null,
   "metadata": {
    "ExecuteTime": {
     "end_time": "2022-09-11T19:18:21.338777Z",
     "start_time": "2022-09-11T19:13:24.962520Z"
    },
    "hidden": true
   },
   "outputs": [],
   "source": [
    "print(f\"Total rows: {len(aux1):,}\")\n",
    "# if user has completed at least 85%, it will be considered completed course\n",
    "perc = np.percentile(aux1.loc[(aux1['is_course_complete_club'] == 1) & (aux1['progress_club_elastic'].notnull()), :][['progress_club_elastic']], 25)\n",
    "aux1.loc[(aux1['progress_club_elastic'] >= perc) & (aux1['progress_club_elastic'].notnull()), 'is_course_complete_club'] = 1\n",
    "aux1.loc[(aux1['is_course_complete_club'].isna()) & (aux1['progress_club_elastic'].notnull()) & (aux1['progress_club_elastic'] < perc), 'is_course_complete_club'] = 0\n",
    "\n",
    "# if user has completed course, progress will be 100%\n",
    "# aux1.loc[(aux1['is_course_complete_club'] == 1), 'progress_club_elastic'] = 100\n",
    "aux1.loc[(aux1['is_course_complete_club'] == 0) & (aux1['progress_club_elastic'].isna()), 'progress_club_elastic'] = 0\n",
    "aux1.loc[(aux1['completion_course_date_club'].notnull()), 'progress_club_elastic'] = 100\n",
    "\n",
    "\n",
    "# calc impact - remove entries without join date\n",
    "impact_df = len(aux1[(aux1['join_date_elastic'].isna())])\n",
    "print(f\"{impact_df:,} rows ({(impact_df/len(aux1) * 100):.2f}%) will be removed (due to many NAs)\")\n",
    "\n",
    "# remove entries without join date\n",
    "transactions = aux1[(aux1['join_date_elastic'].isna())][['purchase_id']].drop_duplicates()\n",
    "transactions['remove'] = 1\n",
    "aux1 = aux1[(aux1['join_date_elastic'].notnull())]\n",
    "\n",
    "# remove duplicate transactions (same product)\n",
    "aux2 = aux1[['user_buyer_id', 'product_id', 'purchase_id']].groupby(['user_buyer_id', 'product_id']).count().reset_index()\n",
    "aux2 = aux2[aux2['purchase_id'] > 1][['user_buyer_id', 'product_id']].drop_duplicates()\n",
    "aux2['remove'] = 1\n",
    "print(f\"% of user-product with duplicates : {(len(aux2) / len(df3[['user_buyer_id', 'product_id']].drop_duplicates()) * 100):.2f}%\" )\n",
    "aux3 = aux1.merge(aux2, how = 'left', on = ['user_buyer_id', 'product_id'])\n",
    "transactions1 = aux3[aux3['remove'] == 1][['purchase_id']].drop_duplicates()\n",
    "transactions1['remove'] = 1\n",
    "aux3 = aux3[aux3['remove'] != 1].drop('remove', axis = 1)\n",
    "\n",
    "# get final df for analysis\n",
    "aux4 = df3.merge(aux3[['user_buyer_id']].drop_duplicates(), how = 'inner', on = ['user_buyer_id']) # get only users of interest\n",
    "aux4 = aux4.merge(transactions, how = 'left', on = 'purchase_id')\n",
    "aux4 = aux4[aux4['remove'] != 1].drop('remove', axis = 1) # remove transactions with null join date\n",
    "aux4 = aux4.merge(transactions1, how = 'left', on = 'purchase_id')\n",
    "aux4 = aux4[aux4['remove'] != 1].drop('remove', axis = 1) # remove transactions with duplicates\n",
    "\n",
    "# update new fields\n",
    "aux3 = aux3[['user_buyer_id','product_id',  'join_date_elastic',\n",
    "       'progress_club_elastic', 'is_course_complete_club']].drop_duplicates()\n",
    "aux3.columns = ['user_buyer_id','product_id',  'join_date_elastic_temp',\n",
    "       'progress_club_elastic_temp', 'is_course_complete_club_temp']\n",
    "aux4 = aux4.merge(aux3, how = 'left', on = ['user_buyer_id','product_id']) # update fields\n",
    "aux4.loc[aux4['join_date_elastic_temp'].notnull(), 'join_date'] = aux4['join_date_elastic_temp']\n",
    "aux4.loc[aux4['progress_club_elastic_temp'].notnull(), 'progress_club'] = aux4['progress_club_elastic_temp']\n",
    "aux4.loc[aux4['is_course_complete_club_temp'].notnull(), 'is_course_complete'] = aux4['is_course_complete_club_temp']\n",
    "print(f\"% of valid Club transactions over all df: {len(aux3):,} ({(len(aux3) / len(df3) * 100):.2f}%)\" )\n"
   ]
  },
  {
   "cell_type": "markdown",
   "metadata": {
    "heading_collapsed": true,
    "hidden": true
   },
   "source": [
    "#### Overall"
   ]
  },
  {
   "cell_type": "code",
   "execution_count": null,
   "metadata": {
    "ExecuteTime": {
     "end_time": "2022-09-11T19:18:21.539291Z",
     "start_time": "2022-09-11T19:18:21.345488Z"
    },
    "hidden": true
   },
   "outputs": [],
   "source": [
    "aux4['is_club'].value_counts(dropna=False, normalize=True)*100"
   ]
  },
  {
   "cell_type": "code",
   "execution_count": null,
   "metadata": {
    "ExecuteTime": {
     "end_time": "2022-09-11T19:19:17.867996Z",
     "start_time": "2022-09-11T19:18:21.541162Z"
    },
    "hidden": true
   },
   "outputs": [],
   "source": [
    "# set df\n",
    "aux5 = aux4.copy()\n",
    "aux5['purchase_id2'] = aux5.sort_values('purchase_order_datetime').groupby('user_buyer_id')['purchase_id'].shift(-1)\n",
    "aux5['is_club2'] = aux5.sort_values('purchase_order_datetime').groupby('user_buyer_id')['is_club'].shift(-1)\n",
    "aux5 = aux5[aux5['purchase_id2'].notnull()]\n",
    "aux5['is_course_complete'] = aux5['is_course_complete'].map({0:'incomplete', 1: 'completed'})\n",
    "\n",
    "\n",
    "print(f\"Repurchases in which 1st transaction was a club product: {len(aux5[aux5['is_club'] == 'club']):,}\")\n"
   ]
  },
  {
   "cell_type": "code",
   "execution_count": null,
   "metadata": {
    "ExecuteTime": {
     "end_time": "2022-09-09T19:32:15.363501Z",
     "start_time": "2022-09-09T19:32:15.353804Z"
    },
    "hidden": true
   },
   "outputs": [],
   "source": [
    "# aux6['is_course_complete'].value_counts(dropna=False)\n",
    "# aux6[aux6['user_buyer_id'] == 50079206]\n",
    "# aux5[aux5['user_buyer_id'] == 50079206].sort_values('purchase_order_datetime')\n",
    "# df3[df3['user_buyer_id'] == 50079206].sort_values('purchase_order_datetime')"
   ]
  },
  {
   "cell_type": "code",
   "execution_count": null,
   "metadata": {
    "ExecuteTime": {
     "end_time": "2022-09-11T19:27:36.544354Z",
     "start_time": "2022-09-11T19:27:35.338569Z"
    },
    "hidden": true
   },
   "outputs": [],
   "source": [
    "# set df - answer 1st Q\n",
    "\n",
    "aux6 = aux5[aux5['is_club'] == 'club'][['user_buyer_id', 'purchase_id', 'user_office_name', 'segment', 'is_below_10_entire', 'join_date', 'completion_course_date', 'progress_club', 'is_course_complete']]\n",
    "aux7 = aux6[['is_course_complete', 'purchase_id']].groupby(['is_course_complete']).count().reset_index()\n",
    "aux7['%'] = aux7['purchase_id'] / aux7['purchase_id'].sum() * 100\n",
    "n_transaction = pd.DataFrame({'local': 'Global', 'n_transaction': [aux7['purchase_id'].sum()]})\n",
    "# plot graph with annotations\n",
    "plt.figure(figsize = (10,10))\n",
    "sns.set_style('white')\n",
    "splot = sns.barplot(y = 'is_course_complete', x = '%', data = aux7, palette = palette_types, order = ['incomplete', 'completed']);\n",
    "\n",
    "for p in splot.patches:\n",
    "    splot.annotate(\"%.2f\" % p.get_width(), xy=(p.get_width(), p.get_y()+p.get_height()/2),\n",
    "                   xytext=(5,0), textcoords='offset points', ha='left', va='center')\n",
    "plt.title(\"How many repurchases had a previous completed club course? (%)\")\n",
    "plt.yticks(fontsize =16)\n",
    "plt.xlabel(f\"% (Repurchases = {(aux7['purchase_id'].sum()):,})\")\n",
    "plt.ylabel(\"\")\n",
    "plt.xlim(0, 100)\n",
    "plt.show()"
   ]
  },
  {
   "cell_type": "markdown",
   "metadata": {
    "heading_collapsed": true,
    "hidden": true
   },
   "source": [
    "#### Overall (Completion Rate)"
   ]
  },
  {
   "cell_type": "code",
   "execution_count": null,
   "metadata": {
    "ExecuteTime": {
     "end_time": "2022-09-11T19:27:40.977996Z",
     "start_time": "2022-09-11T19:27:40.666420Z"
    },
    "hidden": true,
    "scrolled": true
   },
   "outputs": [],
   "source": [
    "get_descriptive_statistics(aux6[['progress_club']])"
   ]
  },
  {
   "cell_type": "code",
   "execution_count": null,
   "metadata": {
    "ExecuteTime": {
     "end_time": "2022-09-11T19:27:41.232819Z",
     "start_time": "2022-09-11T19:27:40.980637Z"
    },
    "hidden": true
   },
   "outputs": [],
   "source": [
    "aux6[['progress_club']].hist();"
   ]
  },
  {
   "cell_type": "code",
   "execution_count": null,
   "metadata": {
    "ExecuteTime": {
     "end_time": "2022-09-09T19:32:18.249200Z",
     "start_time": "2022-09-09T19:32:17.716308Z"
    },
    "hidden": true
   },
   "outputs": [],
   "source": [
    "# calculate bins\n",
    "bins = list(np.arange(0,105, 5))\n",
    "\n",
    "aux6['bin'] = pd.cut(aux6['progress_club'], bins = bins, include_lowest=True)\n",
    "aux7 = aux6[['bin', 'purchase_id']].groupby(['bin']).count().reset_index()\n",
    "aux7['%'] = aux7['purchase_id'] / aux7['purchase_id'].sum() * 100\n",
    "\n",
    "# plot graph with annotations\n",
    "plt.figure(figsize = (15,25))\n",
    "sns.set_style('white')\n",
    "splot = sns.barplot(y = 'bin', x = '%', data = aux7, palette = palette_bins);\n",
    "\n",
    "for p in splot.patches:\n",
    "    splot.annotate(\" %.2f\" % p.get_width() + '%', xy=(p.get_width(), p.get_y()+p.get_height()/2),\n",
    "                   xytext=(5,0), textcoords='offset points', \n",
    "                   ha='left', va='center', fontsize = 50, color = '#707780')\n",
    "splot.set_title(f\"Progress Rate (Club)\\n\" + \"Transactions before repurchase (%)\\n\" + f\"N: {(aux7['purchase_id'].sum()):,}\\n\" + \"\", color =  '#707780' , fontsize = 40, loc = 'left', pad=40)\n",
    "\n",
    "# plt.yticks(fontsize =10)\n",
    "plt.xlabel(\"\")\n",
    "plt.ylabel(\"\")\n",
    "plt.xlim(0, 40)\n",
    "# splot.tick_params(labelsize=30)\n",
    "splot.yaxis.label.set_color('#707780')\n",
    "splot.spines['left'].set_color('#707780')\n",
    "splot.tick_params(axis='y', colors='#707780',labelsize=50, pad = 40)\n",
    "#     splot.axes.get_yaxis().set_visible(False)\n",
    "splot.spines['right'].set_visible(False)\n",
    "splot.spines['top'].set_visible(False)\n",
    "splot.spines['left'].set_visible(False)\n",
    "splot.spines['bottom'].set_visible(False)\n",
    "splot.axes.get_xaxis().set_visible(False)\n",
    "\n",
    "plt.show()"
   ]
  },
  {
   "cell_type": "markdown",
   "metadata": {
    "heading_collapsed": true,
    "hidden": true
   },
   "source": [
    "#### Producer Office"
   ]
  },
  {
   "cell_type": "code",
   "execution_count": null,
   "metadata": {
    "ExecuteTime": {
     "end_time": "2022-09-09T16:24:55.106124Z",
     "start_time": "2022-09-09T16:24:02.381781Z"
    },
    "hidden": true
   },
   "outputs": [],
   "source": [
    "# get producer office\n",
    "country_list = list(df3[['user_office_name', 'purchase_id']].groupby('user_office_name').count().reset_index().sort_values('purchase_id', ascending=False)['user_office_name'])\n",
    "plt.figure(figsize = (30,10))\n",
    "\n",
    "for n, d in enumerate(country_list):\n",
    "    plt.subplot(2,3,n+1)\n",
    "    # set df\n",
    "    aux5 = aux4[aux4['user_office_name'] == d]\n",
    "    aux5['purchase_id2'] = aux5.sort_values('purchase_order_datetime').groupby('user_buyer_id')['purchase_id'].shift(-1)\n",
    "    aux5['is_club2'] = aux5.sort_values('purchase_order_datetime').groupby('user_buyer_id')['is_club'].shift(-1)\n",
    "    aux5 = aux5[aux5['purchase_id2'].notnull()]\n",
    "    aux5['is_course_complete'] = aux5['is_course_complete'].map({0:'incomplete', 1: 'completed'})\n",
    "\n",
    "    # set df - answer 1st Q\n",
    "    aux6 = aux5[aux5['is_club'] == 'club'][['user_buyer_id', 'purchase_id', 'user_office_name', 'segment', 'is_below_10_entire', 'join_date', 'progress_club', 'is_course_complete']]\n",
    "    aux7 = aux6[['is_course_complete', 'purchase_id']].groupby(['is_course_complete']).count().reset_index()\n",
    "    aux7['%'] = aux7['purchase_id'] / aux7['purchase_id'].sum() * 100\n",
    "    # print(f\"Repurchases in which 1st transaction was a club product: {len(aux5):,}\")\n",
    "    n_transaction = pd.concat([n_transaction, pd.DataFrame({'local': d, 'n_transaction': [aux7['purchase_id'].sum()]})])\n",
    "\n",
    "    # plot graph with annotations\n",
    "    sns.set_style('white')\n",
    "    splot = sns.barplot(y = 'is_course_complete', x = '%', data = aux7, palette = palette_types, order = ['incomplete', 'completed']);\n",
    "\n",
    "    for p in splot.patches:\n",
    "        splot.annotate(\"%.2f\" % p.get_width(), xy=(p.get_width(), p.get_y()+p.get_height()/2),\n",
    "                       xytext=(5,0), textcoords='offset points', ha='left', va='center')\n",
    "    plt.title(f\"{d} | N: {(aux7['purchase_id'].sum()):,}\")\n",
    "    plt.yticks(fontsize =16)\n",
    "    plt.xlabel(\"\")\n",
    "    plt.ylabel(\"\")\n",
    "    plt.xlim(0, 120)\n",
    "    splot.axes.get_yaxis().set_visible(False)\n",
    "    if n == 0:\n",
    "        splot.axes.get_yaxis().set_visible(True)\n",
    "    if n == 3:\n",
    "        splot.axes.get_yaxis().set_visible(True)\n",
    "    if n == 4:\n",
    "        plt.xlabel(\"%\")\n",
    "        #         splot.spines['right'].set_visible(False)\n",
    "#         splot.spines['top'].set_visible(False)\n",
    "#         splot.spines['left'].set_visible(False)\n",
    "#         splot.spines['bottom'].set_visible(False)\n",
    "    splot.axes.get_xaxis().set_visible(False)\n",
    "#         splot.axes.get_yaxis().set_visible(False)\n",
    "# plt.subplots_adjust(hspace=0.2)\n",
    "plt.subplots_adjust(wspace=0.1)\n",
    "plt.show()"
   ]
  },
  {
   "cell_type": "code",
   "execution_count": null,
   "metadata": {
    "ExecuteTime": {
     "end_time": "2022-09-09T16:25:44.797364Z",
     "start_time": "2022-09-09T16:24:55.110972Z"
    },
    "hidden": true
   },
   "outputs": [],
   "source": [
    "# get producer office\n",
    "country_list = list(df3[['user_office_name', 'purchase_id']].groupby('user_office_name').count().reset_index().sort_values('purchase_id', ascending=False)['user_office_name'])\n",
    "compl = pd.DataFrame()\n",
    "for n, d in enumerate(country_list):\n",
    "    # set df\n",
    "    aux5 = aux4[aux4['user_office_name'] == d]\n",
    "    aux5['purchase_id2'] = aux5.sort_values('purchase_order_datetime').groupby('user_buyer_id')['purchase_id'].shift(-1)\n",
    "    aux5['is_club2'] = aux5.sort_values('purchase_order_datetime').groupby('user_buyer_id')['is_club'].shift(-1)\n",
    "    aux5 = aux5[aux5['purchase_id2'].notnull()]\n",
    "    aux5['is_course_complete'] = aux5['is_course_complete'].map({0:'incomplete', 1: 'completed'})\n",
    "\n",
    "    # set df - answer 1st Q\n",
    "    aux6 = aux5[aux5['is_club'] == 'club'][['user_buyer_id', 'purchase_id', 'user_office_name', 'segment', 'is_below_10_entire', 'join_date', 'progress_club', 'is_course_complete']]\n",
    "    aux7 = aux6[['is_course_complete', 'purchase_id']].groupby(['is_course_complete']).count().reset_index()\n",
    "    aux7['%'] = aux7['purchase_id'] / aux7['purchase_id'].sum() * 100\n",
    "    aux8 = aux7[aux7['is_course_complete'] == 'completed']\n",
    "    aux8['local'] = d\n",
    "    compl = pd.concat([compl, aux8])\n",
    "\n",
    "# get correct % changes: https://davegiles.blogspot.com/2011/03/dummies-for-dummies.html\n",
    "dict_country = {\n",
    "    'Global':21.32,\n",
    "    'Brazil':round(list(compl[compl['local'] == 'BRAZIL']['%'])[0], 2),\n",
    "    'Colombia':round(list(compl[compl['local'] == 'COLOMBIA']['%'])[0], 2),\n",
    "    'Mexico':round(list(compl[compl['local'] == 'MEXICO']['%'])[0], 2),\n",
    "    'Spain':round(list(compl[compl['local'] == 'SPAIN']['%'])[0], 2),\n",
    "    'USA':round(list(compl[compl['local'] == 'USA']['%'])[0], 2),\n",
    "    'Amsterdam':round(list(compl[compl['local'] == 'AMSTERDAM']['%'])[0], 2)\n",
    "               }\n",
    "# plot perc changes \n",
    "aux1 = pd.DataFrame(dict_country.items(), columns = ['local', '%'])\n",
    "list_order = list(aux1.sort_values('%', ascending=False)['local'])\n",
    "list_order.remove('Global')\n",
    "list_order.insert(0, 'Global')\n",
    "# get sample size\n",
    "n_transaction['local'] = n_transaction['local'].str.capitalize()\n",
    "n_transaction.loc[n_transaction['local'] == 'Usa', 'local'] = 'USA'\n",
    "aux1 = aux1.merge(n_transaction, how = 'left', on = 'local')\n",
    "n_transaction"
   ]
  },
  {
   "cell_type": "code",
   "execution_count": null,
   "metadata": {
    "ExecuteTime": {
     "end_time": "2022-09-09T16:27:27.604745Z",
     "start_time": "2022-09-09T16:27:27.596988Z"
    },
    "hidden": true
   },
   "outputs": [],
   "source": [
    "aux1"
   ]
  },
  {
   "cell_type": "code",
   "execution_count": null,
   "metadata": {
    "ExecuteTime": {
     "end_time": "2022-09-09T16:33:14.779865Z",
     "start_time": "2022-09-09T16:33:14.534012Z"
    },
    "hidden": true
   },
   "outputs": [],
   "source": [
    "plt.figure(figsize = (10,15))\n",
    "# plot graph with annotations\n",
    "sns.set_style('white')\n",
    "splot = sns.barplot(y = 'local', x = '%', data = aux1, palette = {'Global': '#EF4E23' , 'Brazil': '#9EA4AC',\n",
    "                                                                 'Colombia': '#9EA4AC', 'Mexico': '#9EA4AC',\n",
    "                                                                 'Spain': '#9EA4AC', 'USA': '#9EA4AC', \n",
    "                                                                 'Amsterdam': '#9EA4AC'} , order = list_order);\n",
    "for n in list(aux1['local']):\n",
    "    if n == 'Global':\n",
    "        splot.annotate(f\"(N: {(int(list(aux1[aux1['local'] == n]['n_transaction'])[0])):,})\", \n",
    "                       xy = (21, 0), xytext = (36,0.1), color = '#707780', fontsize = 25)\n",
    "    if n == 'Spain':\n",
    "        splot.annotate(f\"(N: {(int(list(aux1[aux1['local'] == n]['n_transaction'])[0])):,})\", \n",
    "                       xy = (31, 1.0), xytext = (47,1.1), color = '#707780', fontsize = 25)\n",
    "    if n == 'USA':\n",
    "        splot.annotate(f\"(N: {(int(list(aux1[aux1['local'] == n]['n_transaction'])[0])):,})\", \n",
    "                       xy = (31, 2.0), xytext = (47,2.1), color = '#707780', fontsize = 25)\n",
    "    if n == 'Mexico':\n",
    "        splot.annotate(f\"(N: {(int(list(aux1[aux1['local'] == n]['n_transaction'])[0])):,})\", \n",
    "                       xy = (28, 3.0), xytext = (45,3.1) , color = '#707780', fontsize = 25)\n",
    "    if n == 'Colombia':\n",
    "        splot.annotate(f\"(N: {(int(list(aux1[aux1['local'] == n]['n_transaction'])[0])):,})\", \n",
    "                       xy = (22, 4.0), xytext = (37,4.1), color = '#707780', fontsize = 25)\n",
    "    if n == 'Brazil':\n",
    "        splot.annotate(f\"(N: {(int(list(aux1[aux1['local'] == n]['n_transaction'])[0])):,})\", \n",
    "                       xy = (21, 5.0), xytext = (37,5.1), color = '#707780', fontsize = 25)\n",
    "    if n == 'Amsterdam':\n",
    "        splot.annotate(f\"(N: {(int(list(aux1[aux1['local'] == n]['n_transaction'])[0])):,})\", \n",
    "                       xy = (16, 6.0), xytext = (33,6.1), color = '#707780', fontsize = 25)\n",
    "        \n",
    "for p in splot.patches:\n",
    "    splot.annotate(\" %.2f\" % p.get_width() + '%', xy=(p.get_width(), p.get_y()+p.get_height()/2),\n",
    "                   xytext=(5,0), textcoords='offset points', \n",
    "                   ha='left', va='center', fontsize = 50, color = '#707780')\n",
    "\n",
    "\n",
    "splot.set_title(f\"How many repurchases\\n\" + \"had a previous completed club course? (%)\\n\" + \"(by producer office)\", color =  '#707780' , fontsize = 40, loc = 'left', pad=40)\n",
    "\n",
    "plt.yticks(fontsize =50)\n",
    "plt.xlabel(\"\")\n",
    "plt.ylabel(\"\")\n",
    "plt.xlim(0, 40)\n",
    "splot.tick_params(labelsize=30)\n",
    "splot.yaxis.label.set_color('#707780')\n",
    "splot.spines['left'].set_color('#707780')\n",
    "splot.tick_params(axis='y', colors='#707780',labelsize=50, pad = 30)\n",
    "#     splot.axes.get_yaxis().set_visible(False)\n",
    "splot.spines['right'].set_visible(False)\n",
    "splot.spines['top'].set_visible(False)\n",
    "splot.spines['left'].set_visible(False)\n",
    "splot.spines['bottom'].set_visible(False)\n",
    "splot.axes.get_xaxis().set_visible(False)\n",
    "plt.show()"
   ]
  },
  {
   "cell_type": "markdown",
   "metadata": {
    "heading_collapsed": true,
    "hidden": true
   },
   "source": [
    "#### Producer Office (Completion Rate)"
   ]
  },
  {
   "cell_type": "code",
   "execution_count": null,
   "metadata": {
    "ExecuteTime": {
     "end_time": "2022-09-09T14:56:10.702411Z",
     "start_time": "2022-09-09T14:55:25.982314Z"
    },
    "hidden": true
   },
   "outputs": [],
   "source": [
    "# get producer office\n",
    "country_list = list(df3[['user_office_name', 'purchase_id']].groupby('user_office_name').count().reset_index().sort_values('purchase_id', ascending=False)['user_office_name'])\n",
    "plt.figure(figsize = (15,20))\n",
    "\n",
    "for n, d in enumerate(country_list):\n",
    "    plt.subplot(2,3,n+1)\n",
    "    # set df\n",
    "    aux5 = aux4[aux4['user_office_name'] == d]\n",
    "    aux5['purchase_id2'] = aux5.sort_values('purchase_order_datetime').groupby('user_buyer_id')['purchase_id'].shift(-1)\n",
    "    aux5['is_club2'] = aux5.sort_values('purchase_order_datetime').groupby('user_buyer_id')['is_club'].shift(-1)\n",
    "    aux5 = aux5[aux5['purchase_id2'].notnull()]\n",
    "    aux5['is_course_complete'] = aux5['is_course_complete'].map({0:'incomplete', 1: 'completed'})\n",
    "\n",
    "    # set df - answer 1st Q\n",
    "    aux6 = aux5[aux5['is_club'] == 'club'][['user_buyer_id', 'purchase_id', 'user_office_name', 'segment', 'is_below_10_entire', 'join_date', 'progress_club', 'is_course_complete']]\n",
    "    # calculate bins\n",
    "    bins = list(np.arange(0,105, 5))\n",
    "    aux6['bin'] = pd.cut(aux6['progress_club'], bins = bins, include_lowest=True)\n",
    "    aux7 = aux6[['bin', 'purchase_id']].groupby(['bin']).count().reset_index()\n",
    "    aux7['%'] = aux7['purchase_id'] / aux7['purchase_id'].sum() * 100\n",
    "    # plot graph with annotations\n",
    "    sns.set_style('white')\n",
    "    splot = sns.barplot(y = 'bin', x = '%', data = aux7, palette = palette_bins);\n",
    "\n",
    "    for p in splot.patches:\n",
    "        splot.annotate(\"%.2f\" % p.get_width(), xy=(p.get_width(), p.get_y()+p.get_height()/2),\n",
    "                       xytext=(5,0), textcoords='offset points', ha='left', va='center')\n",
    "    plt.title(f\"{d} | N: {(aux7['purchase_id'].sum()):,}\")\n",
    "    plt.yticks(fontsize =16)\n",
    "    plt.xlabel(\"\")\n",
    "    plt.ylabel(\"\")\n",
    "    plt.xlim(0, 100)\n",
    "    splot.axes.get_yaxis().set_visible(False)\n",
    "    if n == 0:\n",
    "        splot.axes.get_yaxis().set_visible(True)\n",
    "    if n == 3:\n",
    "        splot.axes.get_yaxis().set_visible(True)\n",
    "#         splot.spines['right'].set_visible(False)\n",
    "#         splot.spines['top'].set_visible(False)\n",
    "#         splot.spines['left'].set_visible(False)\n",
    "#         splot.spines['bottom'].set_visible(False)\n",
    "    splot.axes.get_xaxis().set_visible(False)\n",
    "#         splot.axes.get_yaxis().set_visible(False)\n",
    "plt.subplots_adjust(hspace=0.1)\n",
    "plt.subplots_adjust(wspace=0.2)\n",
    "plt.show()"
   ]
  },
  {
   "cell_type": "markdown",
   "metadata": {
    "heading_collapsed": true,
    "hidden": true
   },
   "source": [
    "#### Producer Segment"
   ]
  },
  {
   "cell_type": "code",
   "execution_count": null,
   "metadata": {
    "ExecuteTime": {
     "end_time": "2022-09-09T14:56:44.174818Z",
     "start_time": "2022-09-09T14:56:10.705835Z"
    },
    "hidden": true
   },
   "outputs": [],
   "source": [
    "# get producer office\n",
    "plt.figure(figsize = (30,10))\n",
    "\n",
    "for n, d in enumerate(['SEED', 'SMALL', 'MEDIUM', 'LARGE']):\n",
    "    plt.subplot(1,4,n+1)\n",
    "    # set df\n",
    "    aux5 = aux4[aux4['segment'] == d]\n",
    "    aux5['purchase_id2'] = aux5.sort_values('purchase_order_datetime').groupby('user_buyer_id')['purchase_id'].shift(-1)\n",
    "    aux5['is_club2'] = aux5.sort_values('purchase_order_datetime').groupby('user_buyer_id')['is_club'].shift(-1)\n",
    "    aux5 = aux5[aux5['purchase_id2'].notnull()]\n",
    "    aux5['is_course_complete'] = aux5['is_course_complete'].map({0:'incomplete', 1: 'completed'})\n",
    "\n",
    "    # set df - answer 1st Q\n",
    "    aux6 = aux5[aux5['is_club'] == 'club'][['user_buyer_id', 'purchase_id', 'user_office_name', 'segment', 'is_below_10_entire', 'join_date', 'progress_club', 'is_course_complete']]\n",
    "    aux7 = aux6[['is_course_complete', 'purchase_id']].groupby(['is_course_complete']).count().reset_index()\n",
    "    aux7['%'] = aux7['purchase_id'] / aux7['purchase_id'].sum() * 100\n",
    "    # print(f\"Repurchases in which 1st transaction was a club product: {len(aux5):,}\")\n",
    "\n",
    "    # plot graph with annotations\n",
    "    sns.set_style('white')\n",
    "    splot = sns.barplot(y = 'is_course_complete', x = '%', data = aux7, palette = palette_types, order = ['incomplete', 'completed']);\n",
    "\n",
    "    for p in splot.patches:\n",
    "        splot.annotate(\"%.2f\" % p.get_width(), xy=(p.get_width(), p.get_y()+p.get_height()/2),\n",
    "                       xytext=(5,0), textcoords='offset points', ha='left', va='center')\n",
    "    plt.title(f\"{d} | N: {(aux7['purchase_id'].sum()):,}\")\n",
    "    plt.yticks(fontsize =16)\n",
    "    plt.xlabel(\"\")\n",
    "    plt.ylabel(\"\")\n",
    "    plt.xlim(0, 120)\n",
    "    splot.axes.get_yaxis().set_visible(False)\n",
    "    if n == 0:\n",
    "        splot.axes.get_yaxis().set_visible(True)\n",
    "        #         splot.spines['right'].set_visible(False)\n",
    "#         splot.spines['top'].set_visible(False)\n",
    "#         splot.spines['left'].set_visible(False)\n",
    "#         splot.spines['bottom'].set_visible(False)\n",
    "    splot.axes.get_xaxis().set_visible(False)\n",
    "#         splot.axes.get_yaxis().set_visible(False)\n",
    "# plt.subplots_adjust(hspace=0.2)\n",
    "plt.subplots_adjust(wspace=0.1)\n",
    "plt.show()"
   ]
  },
  {
   "cell_type": "markdown",
   "metadata": {
    "heading_collapsed": true,
    "hidden": true
   },
   "source": [
    "#### Producer segment (Completion Rate)"
   ]
  },
  {
   "cell_type": "code",
   "execution_count": null,
   "metadata": {
    "ExecuteTime": {
     "end_time": "2022-09-09T14:57:18.502721Z",
     "start_time": "2022-09-09T14:56:44.177497Z"
    },
    "hidden": true
   },
   "outputs": [],
   "source": [
    "plt.figure(figsize = (15,15))\n",
    "\n",
    "for n, d in enumerate(['SEED', 'SMALL', 'MEDIUM', 'LARGE']):\n",
    "    plt.subplot(1,4,n+1)\n",
    "    # set df\n",
    "    aux5 = aux4[aux4['segment'] == d]\n",
    "    aux5['purchase_id2'] = aux5.sort_values('purchase_order_datetime').groupby('user_buyer_id')['purchase_id'].shift(-1)\n",
    "    aux5['is_club2'] = aux5.sort_values('purchase_order_datetime').groupby('user_buyer_id')['is_club'].shift(-1)\n",
    "    aux5 = aux5[aux5['purchase_id2'].notnull()]\n",
    "    aux5['is_course_complete'] = aux5['is_course_complete'].map({0:'incomplete', 1: 'completed'})\n",
    "\n",
    "    # set df - answer 1st Q\n",
    "    aux6 = aux5[aux5['is_club'] == 'club'][['user_buyer_id', 'purchase_id', 'user_office_name', 'segment', 'is_below_10_entire', 'join_date', 'progress_club', 'is_course_complete']]\n",
    "    # calculate bins\n",
    "    bins = list(np.arange(0,105, 5))\n",
    "    aux6['bin'] = pd.cut(aux6['progress_club'], bins = bins, include_lowest=True)\n",
    "    aux7 = aux6[['bin', 'purchase_id']].groupby(['bin']).count().reset_index()\n",
    "    aux7['%'] = aux7['purchase_id'] / aux7['purchase_id'].sum() * 100\n",
    "    # plot graph with annotations\n",
    "    sns.set_style('white')\n",
    "    splot = sns.barplot(y = 'bin', x = '%', data = aux7, palette = palette_bins);\n",
    "\n",
    "    for p in splot.patches:\n",
    "        splot.annotate(\"%.2f\" % p.get_width(), xy=(p.get_width(), p.get_y()+p.get_height()/2),\n",
    "                       xytext=(5,0), textcoords='offset points', ha='left', va='center')\n",
    "    plt.title(f\"{d} | N: {(aux7['purchase_id'].sum()):,}\", fontdict = {'fontsize': 20})\n",
    "    plt.yticks(fontsize =16)\n",
    "    plt.xlabel(\"\")\n",
    "    plt.ylabel(\"\")\n",
    "    plt.xlim(0, 100)\n",
    "    splot.axes.get_yaxis().set_visible(False)\n",
    "    if n == 0:\n",
    "        splot.axes.get_yaxis().set_visible(True)\n",
    "#         splot.spines['right'].set_visible(False)\n",
    "#         splot.spines['top'].set_visible(False)\n",
    "#         splot.spines['left'].set_visible(False)\n",
    "#         splot.spines['bottom'].set_visible(False)\n",
    "    splot.axes.get_xaxis().set_visible(False)\n",
    "#         splot.axes.get_yaxis().set_visible(False)\n",
    "# plt.subplots_adjust(hspace=0.1)\n",
    "plt.subplots_adjust(wspace=0.2)\n",
    "plt.show()"
   ]
  },
  {
   "cell_type": "markdown",
   "metadata": {
    "heading_collapsed": true,
    "hidden": true
   },
   "source": [
    "#### Producers < 10k BRL LTV"
   ]
  },
  {
   "cell_type": "code",
   "execution_count": null,
   "metadata": {
    "hidden": true
   },
   "outputs": [],
   "source": []
  },
  {
   "cell_type": "code",
   "execution_count": null,
   "metadata": {
    "ExecuteTime": {
     "end_time": "2022-09-09T14:58:04.827732Z",
     "start_time": "2022-09-09T14:57:18.504559Z"
    },
    "hidden": true
   },
   "outputs": [],
   "source": [
    "# get producer office\n",
    "plt.figure(figsize = (30,10))\n",
    "\n",
    "for n, d in enumerate(['below', 'above']):\n",
    "    plt.subplot(1,2,n+1)\n",
    "    # set df\n",
    "    aux5 = aux4[aux4['is_below_10_entire'] == d]\n",
    "    aux5['purchase_id2'] = aux5.sort_values('purchase_order_datetime').groupby('user_buyer_id')['purchase_id'].shift(-1)\n",
    "    aux5['is_club2'] = aux5.sort_values('purchase_order_datetime').groupby('user_buyer_id')['is_club'].shift(-1)\n",
    "    aux5 = aux5[aux5['purchase_id2'].notnull()]\n",
    "    aux5['is_course_complete'] = aux5['is_course_complete'].map({0:'incomplete', 1: 'completed'})\n",
    "\n",
    "    # set df - answer 1st Q\n",
    "    aux6 = aux5[aux5['is_club'] == 'club'][['user_buyer_id', 'purchase_id', 'user_office_name', 'segment', 'is_below_10_entire', 'join_date', 'progress_club', 'is_course_complete']]\n",
    "    aux7 = aux6[['is_course_complete', 'purchase_id']].groupby(['is_course_complete']).count().reset_index()\n",
    "    aux7['%'] = aux7['purchase_id'] / aux7['purchase_id'].sum() * 100\n",
    "    # print(f\"Repurchases in which 1st transaction was a club product: {len(aux5):,}\")\n",
    "\n",
    "    # plot graph with annotations\n",
    "    sns.set_style('white')\n",
    "    splot = sns.barplot(y = 'is_course_complete', x = '%', data = aux7, palette = palette_types, order = ['incomplete', 'completed']);\n",
    "\n",
    "    for p in splot.patches:\n",
    "        splot.annotate(\"%.2f\" % p.get_width(), xy=(p.get_width(), p.get_y()+p.get_height()/2),\n",
    "                       xytext=(5,0), textcoords='offset points', ha='left', va='center')\n",
    "    plt.title(f\"{d} | N: {(aux7['purchase_id'].sum()):,}\")\n",
    "    plt.yticks(fontsize =16)\n",
    "    plt.xlabel(\"\")\n",
    "    plt.ylabel(\"\")\n",
    "    plt.xlim(0, 120)\n",
    "    splot.axes.get_yaxis().set_visible(False)\n",
    "    if n == 0:\n",
    "        splot.axes.get_yaxis().set_visible(True)\n",
    "        #         splot.spines['right'].set_visible(False)\n",
    "#         splot.spines['top'].set_visible(False)\n",
    "#         splot.spines['left'].set_visible(False)\n",
    "#         splot.spines['bottom'].set_visible(False)\n",
    "    splot.axes.get_xaxis().set_visible(False)\n",
    "#         splot.axes.get_yaxis().set_visible(False)\n",
    "# plt.subplots_adjust(hspace=0.2)\n",
    "plt.subplots_adjust(wspace=0.1)\n",
    "plt.show()"
   ]
  },
  {
   "cell_type": "markdown",
   "metadata": {
    "heading_collapsed": true,
    "hidden": true
   },
   "source": [
    "#### Producers < 10k BRL LTV (Completion Rate)"
   ]
  },
  {
   "cell_type": "code",
   "execution_count": null,
   "metadata": {
    "ExecuteTime": {
     "end_time": "2022-09-09T14:58:56.342557Z",
     "start_time": "2022-09-09T14:58:04.831485Z"
    },
    "hidden": true
   },
   "outputs": [],
   "source": [
    "plt.figure(figsize = (10,15))\n",
    "\n",
    "for n, d in enumerate(['below', 'above']):\n",
    "    plt.subplot(1,2,n+1)\n",
    "    # set df\n",
    "    aux5 = aux4[aux4['is_below_10_entire'] == d]\n",
    "    aux5['purchase_id2'] = aux5.sort_values('purchase_order_datetime').groupby('user_buyer_id')['purchase_id'].shift(-1)\n",
    "    aux5['is_club2'] = aux5.sort_values('purchase_order_datetime').groupby('user_buyer_id')['is_club'].shift(-1)\n",
    "    aux5 = aux5[aux5['purchase_id2'].notnull()]\n",
    "    aux5['is_course_complete'] = aux5['is_course_complete'].map({0:'incomplete', 1: 'completed'})\n",
    "\n",
    "    # set df - answer 1st Q\n",
    "    aux6 = aux5[aux5['is_club'] == 'club'][['user_buyer_id', 'purchase_id', 'user_office_name', 'segment', 'is_below_10_entire', 'join_date', 'progress_club', 'is_course_complete']]\n",
    "    # calculate bins\n",
    "    bins = list(np.arange(0,105, 5))\n",
    "    aux6['bin'] = pd.cut(aux6['progress_club'], bins = bins, include_lowest=True)\n",
    "    aux7 = aux6[['bin', 'purchase_id']].groupby(['bin']).count().reset_index()\n",
    "    aux7['%'] = aux7['purchase_id'] / aux7['purchase_id'].sum() * 100\n",
    "    # plot graph with annotations\n",
    "    sns.set_style('white')\n",
    "    splot = sns.barplot(y = 'bin', x = '%', data = aux7, palette = palette_bins);\n",
    "\n",
    "    for p in splot.patches:\n",
    "        splot.annotate(\"%.2f\" % p.get_width(), xy=(p.get_width(), p.get_y()+p.get_height()/2),\n",
    "                       xytext=(5,0), textcoords='offset points', ha='left', va='center')\n",
    "    plt.title(f\"{d} | N: {(aux7['purchase_id'].sum()):,}\")\n",
    "    plt.yticks(fontsize =16)\n",
    "    plt.xlabel(\"\")\n",
    "    plt.ylabel(\"\")\n",
    "    plt.xlim(0, 100)\n",
    "    splot.axes.get_yaxis().set_visible(False)\n",
    "    if n == 0:\n",
    "        splot.axes.get_yaxis().set_visible(True)\n",
    "#         splot.spines['right'].set_visible(False)\n",
    "#         splot.spines['top'].set_visible(False)\n",
    "#         splot.spines['left'].set_visible(False)\n",
    "#         splot.spines['bottom'].set_visible(False)\n",
    "    splot.axes.get_xaxis().set_visible(False)\n",
    "#         splot.axes.get_yaxis().set_visible(False)\n",
    "# plt.subplots_adjust(hspace=0.1)\n",
    "plt.subplots_adjust(wspace=0.25)\n",
    "plt.show()"
   ]
  },
  {
   "cell_type": "code",
   "execution_count": null,
   "metadata": {
    "hidden": true
   },
   "outputs": [],
   "source": []
  },
  {
   "cell_type": "markdown",
   "metadata": {},
   "source": [
    "### Does reorder rate increase upon producer's portfolio size? "
   ]
  },
  {
   "cell_type": "markdown",
   "metadata": {},
   "source": [
    "- Producer must have at least 28 buyers (perc. 25th)\n",
    "- Portfolios above 99th percentile were removed"
   ]
  },
  {
   "cell_type": "markdown",
   "metadata": {},
   "source": [
    "#### Overall"
   ]
  },
  {
   "cell_type": "code",
   "execution_count": null,
   "metadata": {},
   "outputs": [],
   "source": [
    "## https://stats.stackexchange.com/questions/297659/interpretation-of-betareg-coef"
   ]
  },
  {
   "cell_type": "code",
   "execution_count": null,
   "metadata": {
    "ExecuteTime": {
     "end_time": "2022-09-15T12:55:32.316884Z",
     "start_time": "2022-09-15T12:54:26.270612Z"
    }
   },
   "outputs": [],
   "source": [
    "# flag if user repurchase\n",
    "aux1 = df3.copy()\n",
    "aux2 = aux1[['purchase_id', 'producer_id', 'user_buyer_id']].groupby(['producer_id', 'user_buyer_id']).count().reset_index()\n",
    "aux2['repurchase'] = aux2['purchase_id'].apply(lambda x : 1 if x > 1 else 0)\n",
    "# get reorder rate by producer\n",
    "aux3 = aux2[aux2['repurchase'] == 1][['producer_id', 'user_buyer_id']].groupby(['producer_id']).count().reset_index()\n",
    "aux3.columns = ['producer_id', 'buyers_repurchase_num']\n",
    "aux4 = aux1[['producer_id', 'user_buyer_id']].groupby(['producer_id']).nunique().reset_index()\n",
    "aux4.columns = ['producer_id', 'total_buyers']\n",
    "aux5 = aux3.merge(aux4, how = 'left', on = 'producer_id')\n",
    "aux5['reorder_rate'] = aux5['buyers_repurchase_num'] / aux5['total_buyers'] * 100\n",
    "# calc number of products per producer\n",
    "aux6 = aux1[['producer_id', 'product_id']].groupby(['producer_id']).nunique().reset_index()\n",
    "aux6.columns = ['producer_id', 'portfolio_size']\n",
    "aux7 = aux5.merge(aux6, how = 'left', on = 'producer_id')\n",
    "# calc gmv per product\n",
    "aux8 = aux1[['producer_id', 'gmv_value_brl']].groupby('producer_id').sum().reset_index()\n",
    "aux9 = aux7.merge(aux8, how = 'left', on = 'producer_id')\n",
    "# get user country and segment \n",
    "aux10 = aux1[['producer_id', 'segmentation_final_name' , 'user_office_name']].drop_duplicates()\n",
    "aux10 = aux9.merge(aux10, how = 'left', on = 'producer_id')\n",
    "aux10 = aux10[aux10['total_buyers'] > np.percentile(aux10['total_buyers'], 25)] # get only producers with more than 50th perc. of total buyers (~28)\n",
    "# calc gmv per product\n",
    "aux11 = aux1[['producer_id', 'gmv_value_brl']].groupby('producer_id').median().reset_index()\n",
    "aux11.columns = ['producer_id', 'median']\n",
    "aux11 = aux10.merge(aux11, how = 'left', on = 'producer_id')\n",
    "# calc number of club products\n",
    "aux12 = aux1[aux1['is_club'] == 'club'][['producer_id', 'product_id']].groupby(['producer_id']).nunique().reset_index()\n",
    "aux12.columns = ['producer_id', 'count_club_products']\n",
    "aux12 = aux11.merge(aux12, how = 'left', on = 'producer_id')\n",
    "aux12['count_club_products'] = aux12['count_club_products'].fillna(0) \n",
    "# get sum and avg gmv from producers who repurchase\n",
    "aux13 = aux1[['gmv_value_brl', 'producer_id', 'user_buyer_id']].groupby(['producer_id', 'user_buyer_id']).sum().reset_index()\n",
    "aux13 = aux13.merge(aux2, how = 'left', on = ['producer_id', 'user_buyer_id'])\n",
    "aux13 = aux13[aux13['repurchase'] == 1].drop(['repurchase','purchase_id'], axis = 1)\n",
    "aux13.columns = ['producer_id', 'user_buyer_id', 'sum_gmv']\n",
    "aux14 = aux13[['producer_id', 'sum_gmv']].groupby(['producer_id']).sum().reset_index()\n",
    "aux14.columns = ['producer_id', 'sum_repurchase']\n",
    "aux15 = aux13[['producer_id', 'sum_gmv']].groupby(['producer_id']).mean().reset_index()\n",
    "aux15.columns = ['producer_id', 'avg_gmv_repurchase']\n",
    "aux12 = aux12.merge(aux14, how = 'left', on = 'producer_id').merge(aux15, how = 'left', on = 'producer_id')\n",
    "# # remove outlier - producer with 780 products\n",
    "aux12 = aux12[aux12['producer_id'] != 12595061]\n",
    "aux12 = aux12[aux12['producer_id'] != 9944606] # too low gmv vs portfolio\n",
    "# # remove outlier - 100% reorder rate & extreme portfolio size\n",
    "aux12 = aux12[aux12['reorder_rate'] != 100]\n",
    "aux12 = aux12[aux12['portfolio_size'] <= np.percentile(aux12['portfolio_size'], 99)]\n",
    "aux12 = aux12[aux12['gmv_value_brl'] >= np.percentile(aux12['gmv_value_brl'], 25)]\n",
    "# flag filter\n",
    "aux12['is_above_10_entire'] = aux12['gmv_value_brl'].apply(lambda x : 'above' if x >= 10000 else 'below')\n",
    "aux12.to_csv('data/prod_portfolio.csv')"
   ]
  },
  {
   "cell_type": "code",
   "execution_count": null,
   "metadata": {
    "ExecuteTime": {
     "end_time": "2022-09-15T12:55:32.421515Z",
     "start_time": "2022-09-15T12:55:32.323810Z"
    }
   },
   "outputs": [],
   "source": [
    "get_descriptive_statistics(aux12.drop(['producer_id', 'is_above_10_entire', 'segmentation_final_name', 'user_office_name'], axis = 1))"
   ]
  },
  {
   "cell_type": "code",
   "execution_count": null,
   "metadata": {
    "ExecuteTime": {
     "end_time": "2022-09-15T12:57:20.635523Z",
     "start_time": "2022-09-15T12:57:20.611828Z"
    },
    "scrolled": true
   },
   "outputs": [],
   "source": [
    "aux12.sort_values('reorder_rate', ascending=False).head(50)"
   ]
  },
  {
   "cell_type": "code",
   "execution_count": null,
   "metadata": {
    "ExecuteTime": {
     "end_time": "2022-09-15T13:04:06.188991Z",
     "start_time": "2022-09-15T13:04:06.184334Z"
    }
   },
   "outputs": [],
   "source": [
    "# best performing producer (additional gmv)\n",
    "(103338.3000 * 1.06) / 76.0870"
   ]
  },
  {
   "cell_type": "code",
   "execution_count": null,
   "metadata": {
    "ExecuteTime": {
     "end_time": "2022-09-13T19:28:43.937996Z",
     "start_time": "2022-09-13T19:28:43.657240Z"
    }
   },
   "outputs": [],
   "source": [
    "sns.displot(aux12, x=\"reorder_rate\", kind=\"kde\", bw_adjust=2, height = 6, aspect = 3);"
   ]
  },
  {
   "cell_type": "code",
   "execution_count": null,
   "metadata": {
    "ExecuteTime": {
     "end_time": "2022-09-13T20:21:04.845275Z",
     "start_time": "2022-09-13T20:21:04.522294Z"
    }
   },
   "outputs": [],
   "source": [
    "plt.figure(figsize = (20,10))\n",
    "sns.set_style('white')\n",
    "splot = sns.regplot(data= aux12, x=\"portfolio_size\", y = 'reorder_rate', color = '#EF4E23')\n",
    "\n",
    "# splot.set_title(f\"Global: all producers, portfolio size vs reorder rates\" + \"\", color =  '#707780' , fontsize = 35, loc = 'center', pad=30)\n",
    "plt.xlabel(\"Producer's portfolio size\\n\" + \"(global)\", fontsize = 40, labelpad = 30)\n",
    "plt.ylabel(\"Reorder rate (%)\", fontsize = 40, labelpad = 30)\n",
    "# plt.xlim(0, 6)\n",
    "# plt.tick_params(labelsize=30)\n",
    "# plt.yticks(fontsize =20)\n",
    "# plt.xticks(fontsize =40)\n",
    "splot.yaxis.label.set_color('#707780')\n",
    "splot.xaxis.label.set_color('#707780')\n",
    "splot.spines['left'].set_color('#707780')\n",
    "splot.spines['right'].set_color('#707780')\n",
    "splot.spines['top'].set_color('#707780')\n",
    "splot.spines['bottom'].set_color('#707780')\n",
    "splot.tick_params(axis='y', colors='#707780',labelsize=40, pad = 20)\n",
    "splot.tick_params(axis='x', colors='#707780',labelsize=40, pad = 20)\n",
    "plt.show()"
   ]
  },
  {
   "cell_type": "code",
   "execution_count": null,
   "metadata": {
    "ExecuteTime": {
     "end_time": "2022-09-13T19:29:30.628729Z",
     "start_time": "2022-09-13T19:29:30.619351Z"
    }
   },
   "outputs": [],
   "source": [
    "aux12[['reorder_rate', 'portfolio_size']].corr(method='spearman')"
   ]
  },
  {
   "cell_type": "code",
   "execution_count": null,
   "metadata": {
    "ExecuteTime": {
     "end_time": "2022-09-13T19:29:31.203236Z",
     "start_time": "2022-09-13T19:29:30.630970Z"
    }
   },
   "outputs": [],
   "source": [
    "sns.set_style('white')\n",
    "sns.regplot(data= aux12, x=\"portfolio_size\", y = 'total_buyers');"
   ]
  },
  {
   "cell_type": "code",
   "execution_count": null,
   "metadata": {
    "ExecuteTime": {
     "end_time": "2022-09-13T19:29:06.570579Z",
     "start_time": "2022-09-13T19:28:45.157175Z"
    },
    "scrolled": false
   },
   "outputs": [],
   "source": [
    "plt.figure(figsize = (35,20))\n",
    "n = 1\n",
    "while n <= 49:\n",
    "    for f in ['buyers_repurchase_num', 'total_buyers', 'reorder_rate', 'portfolio_size', 'gmv_value_brl', 'median', 'count_club_products']:\n",
    "        for d in ['buyers_repurchase_num', 'total_buyers', 'reorder_rate', 'portfolio_size', 'gmv_value_brl', 'median', 'count_club_products']:\n",
    "            plt.subplot(7,7,n)\n",
    "            n += 1\n",
    "            sns.regplot(x= f, y = d, data = aux12)\n",
    "plt.tight_layout() # Or equivalently,  \"plt.tight_layout()\"\n",
    "plt.show()"
   ]
  },
  {
   "cell_type": "code",
   "execution_count": null,
   "metadata": {
    "ExecuteTime": {
     "end_time": "2022-09-13T19:29:17.057300Z",
     "start_time": "2022-09-13T19:29:06.574123Z"
    }
   },
   "outputs": [],
   "source": [
    "# check whether repurchase could be under club/not-club products\n",
    "aux1 = df3[['is_club', 'user_buyer_id', 'purchase_id']].groupby(['user_buyer_id', 'is_club']).count().reset_index()\n",
    "aux2 = aux1[aux1['purchase_id'] != 1]\n",
    "aux2[['is_club', 'user_buyer_id']].groupby('is_club').nunique()"
   ]
  },
  {
   "cell_type": "code",
   "execution_count": null,
   "metadata": {
    "ExecuteTime": {
     "end_time": "2022-09-13T19:29:24.207209Z",
     "start_time": "2022-09-13T19:29:17.059598Z"
    },
    "scrolled": false
   },
   "outputs": [],
   "source": [
    "# check whether repurchase could be under diff product category\n",
    "aux1 = df3[['product_category', 'user_buyer_id', 'purchase_id']].groupby(['user_buyer_id', 'product_category']).count().reset_index()\n",
    "aux2 = aux1[aux1['purchase_id'] != 1]\n",
    "aux2[['product_category', 'user_buyer_id']].groupby('product_category').nunique().sort_values('user_buyer_id')"
   ]
  },
  {
   "cell_type": "code",
   "execution_count": null,
   "metadata": {
    "ExecuteTime": {
     "end_time": "2022-09-13T19:29:24.701010Z",
     "start_time": "2022-09-13T19:29:24.209692Z"
    }
   },
   "outputs": [],
   "source": [
    "plt.figure(figsize = (20,10))\n",
    "plt.subplot(131)\n",
    "sns.boxplot(x= 'reorder_rate', y = 'segmentation_final_name',  data = aux12)\n",
    "plt.subplot(132)\n",
    "sns.boxplot(x= 'reorder_rate', y = 'user_office_name',  data = aux12)\n",
    "plt.subplot(133)\n",
    "sns.boxplot(x= 'reorder_rate', y = 'is_above_10_entire',  data = aux12)\n",
    "plt.tight_layout() # Or equivalently,  \"plt.tight_layout()\"\n",
    "plt.show()"
   ]
  },
  {
   "cell_type": "code",
   "execution_count": null,
   "metadata": {
    "ExecuteTime": {
     "end_time": "2022-09-13T19:29:27.231041Z",
     "start_time": "2022-09-13T19:29:24.702868Z"
    }
   },
   "outputs": [],
   "source": [
    "plt.figure(figsize = (35,20))\n",
    "n = 1\n",
    "while n <= 8:\n",
    "    for d in (['SEED', 'SMALL', 'MEDIUM', 'LARGE']):\n",
    "        for f in ['buyers_repurchase_num', 'reorder_rate']:\n",
    "            plt.subplot(4,2,n)\n",
    "            plt.title(d)\n",
    "            n += 1\n",
    "            sns.regplot(x= 'portfolio_size', y = f, data = aux12[aux12['segmentation_final_name'] == d])\n",
    "plt.tight_layout() # Or equivalently,  \"plt.tight_layout()\"\n",
    "plt.show()"
   ]
  },
  {
   "cell_type": "code",
   "execution_count": null,
   "metadata": {
    "ExecuteTime": {
     "end_time": "2022-09-13T19:29:30.615738Z",
     "start_time": "2022-09-13T19:29:27.232729Z"
    },
    "scrolled": false
   },
   "outputs": [],
   "source": [
    "plt.figure(figsize = (20,30))\n",
    "n = 1\n",
    "while n <= 12:\n",
    "    for d in aux10['user_office_name'].unique():\n",
    "        for f in ['buyers_repurchase_num', 'reorder_rate']:\n",
    "            plt.subplot(6,2,n)\n",
    "            plt.title(d)\n",
    "            n += 1\n",
    "            sns.regplot(x= 'portfolio_size', y = f, data = aux12[aux12['user_office_name'] == d])\n",
    "plt.tight_layout() # Or equivalently,  \"plt.tight_layout()\"\n",
    "plt.show()"
   ]
  },
  {
   "cell_type": "code",
   "execution_count": null,
   "metadata": {
    "ExecuteTime": {
     "end_time": "2022-09-12T12:15:11.255497Z",
     "start_time": "2022-09-12T12:15:11.250953Z"
    }
   },
   "outputs": [],
   "source": [
    "# aux11[aux11['user_office_name'] == 'MEXICO'].sort_values('portfolio_size', ascending=False).head(50)"
   ]
  },
  {
   "cell_type": "markdown",
   "metadata": {},
   "source": [
    "#### Producer office"
   ]
  },
  {
   "cell_type": "code",
   "execution_count": null,
   "metadata": {
    "ExecuteTime": {
     "end_time": "2022-09-13T19:40:59.237631Z",
     "start_time": "2022-09-13T19:40:19.513506Z"
    }
   },
   "outputs": [],
   "source": [
    "# flag if user repurchase\n",
    "for d in df3['user_office_name'].unique():\n",
    "    aux1 = df3[df3['user_office_name'] == d]\n",
    "    aux2 = aux1[['purchase_id', 'producer_id', 'user_buyer_id']].groupby(['producer_id', 'user_buyer_id']).count().reset_index()\n",
    "    aux2['repurchase'] = aux2['purchase_id'].apply(lambda x : 1 if x > 1 else 0)\n",
    "    # get reorder rate by producer\n",
    "    aux3 = aux2[aux2['repurchase'] == 1][['producer_id', 'user_buyer_id']].groupby(['producer_id']).count().reset_index()\n",
    "    aux3.columns = ['producer_id', 'buyers_repurchase_num']\n",
    "    aux4 = aux1[['producer_id', 'user_buyer_id']].groupby(['producer_id']).nunique().reset_index()\n",
    "    aux4.columns = ['producer_id', 'total_buyers']\n",
    "    aux5 = aux3.merge(aux4, how = 'left', on = 'producer_id')\n",
    "    aux5['reorder_rate'] = aux5['buyers_repurchase_num'] / aux5['total_buyers'] * 100\n",
    "    # calc number of products per producer\n",
    "    aux6 = aux1[['producer_id', 'product_id']].groupby(['producer_id']).nunique().reset_index()\n",
    "    aux6.columns = ['producer_id', 'portfolio_size']\n",
    "    aux7 = aux5.merge(aux6, how = 'left', on = 'producer_id')\n",
    "    # calc gmv per product\n",
    "    aux8 = aux1[['producer_id', 'gmv_value_brl']].groupby('producer_id').sum().reset_index()\n",
    "    aux9 = aux7.merge(aux8, how = 'left', on = 'producer_id')\n",
    "    # get user country and segment \n",
    "    aux10 = aux1[['producer_id', 'segmentation_final_name' , 'user_office_name']].drop_duplicates()\n",
    "    aux10 = aux9.merge(aux10, how = 'left', on = 'producer_id')\n",
    "    aux10 = aux10[aux10['total_buyers'] > np.percentile(aux10['total_buyers'], 25)] # get only producers with more than 50th perc. of total buyers (~28)\n",
    "    # calc gmv per product\n",
    "    aux11 = aux1[['producer_id', 'gmv_value_brl']].groupby('producer_id').median().reset_index()\n",
    "    aux11.columns = ['producer_id', 'median']\n",
    "    aux11 = aux10.merge(aux11, how = 'left', on = 'producer_id')\n",
    "    # calc number of club products\n",
    "    aux12 = aux1[aux1['is_club'] == 'club'][['producer_id', 'product_id']].groupby(['producer_id']).nunique().reset_index()\n",
    "    aux12.columns = ['producer_id', 'count_club_products']\n",
    "    aux12 = aux11.merge(aux12, how = 'left', on = 'producer_id')\n",
    "    aux12['count_club_products'] = aux12['count_club_products'].fillna(0) \n",
    "    # # remove outlier - producer with 780 products\n",
    "    aux12 = aux12[aux12['producer_id'] != 12595061]\n",
    "    aux12 = aux12[aux12['producer_id'] != 9944606] # too low gmv vs portfolio\n",
    "    # # remove outlier - 100% reorder rate & extreme portfolio size\n",
    "    aux12 = aux12[aux12['reorder_rate'] != 100]\n",
    "    aux12 = aux12[aux12['portfolio_size'] <= np.percentile(aux12['portfolio_size'], 99)]\n",
    "    aux12 = aux12[aux12['gmv_value_brl'] >= np.percentile(aux12['gmv_value_brl'], 25)]\n",
    "    # flag filter\n",
    "    aux12['is_above_10_entire'] = aux12['gmv_value_brl'].apply(lambda x : 'above' if x >= 10000 else 'below')\n",
    "    aux12.to_csv(f'data/prod_portfolio_{d}.csv')"
   ]
  },
  {
   "cell_type": "code",
   "execution_count": null,
   "metadata": {
    "ExecuteTime": {
     "end_time": "2022-09-15T12:11:49.939856Z",
     "start_time": "2022-09-15T12:11:49.935518Z"
    }
   },
   "outputs": [],
   "source": [
    "np.log(1.02)"
   ]
  },
  {
   "cell_type": "code",
   "execution_count": null,
   "metadata": {
    "ExecuteTime": {
     "end_time": "2022-09-15T12:11:05.744049Z",
     "start_time": "2022-09-15T12:11:05.739218Z"
    }
   },
   "outputs": [],
   "source": [
    "np.exp(0.041927)"
   ]
  },
  {
   "cell_type": "code",
   "execution_count": null,
   "metadata": {
    "ExecuteTime": {
     "end_time": "2022-09-15T12:24:00.519381Z",
     "start_time": "2022-09-15T12:24:00.515238Z"
    }
   },
   "outputs": [],
   "source": [
    "# get effects (upper bound beta regression)\n",
    "dict_country = {\n",
    "    'Global':(0.041927 / 4) * 100,\n",
    "    'Brazil':(0.039029 / 4) * 100,\n",
    "    'Colombia':(0.039590 / 4) * 100,\n",
    "    'Mexico':(0.052041 / 4) * 100,\n",
    "    'Spain':(0.06696 / 4) * 100,\n",
    "    'USA':(0.07830 / 4) * 100,\n",
    "    'Amsterdam':(0.05701 / 4) * 100\n",
    "               }"
   ]
  },
  {
   "cell_type": "code",
   "execution_count": null,
   "metadata": {
    "ExecuteTime": {
     "end_time": "2022-09-15T12:24:09.252253Z",
     "start_time": "2022-09-15T12:24:09.247542Z"
    }
   },
   "outputs": [],
   "source": [
    "dict_country"
   ]
  },
  {
   "cell_type": "code",
   "execution_count": null,
   "metadata": {},
   "outputs": [],
   "source": []
  },
  {
   "cell_type": "code",
   "execution_count": null,
   "metadata": {
    "ExecuteTime": {
     "end_time": "2022-09-15T15:37:40.840485Z",
     "start_time": "2022-09-15T15:37:40.631540Z"
    }
   },
   "outputs": [],
   "source": [
    "# plot perc changes \n",
    "aux1 = pd.DataFrame(dict_country.items(), columns = ['local', '%'])\n",
    "list_order = list(aux1.sort_values('%', ascending=False)['local'])\n",
    "list_order.remove('Global')\n",
    "list_order.insert(0, 'Global')\n",
    "plt.figure(figsize = (10,15))\n",
    "# plot graph with annotations\n",
    "sns.set_style('white')\n",
    "splot = sns.barplot(y = 'local', x = '%', data = aux1, palette = {'Global': '#EF4E23' , 'Brazil': '#9EA4AC',\n",
    "                                                                 'Colombia': '#9EA4AC', 'Mexico': '#9EA4AC',\n",
    "                                                                 'Spain': '#9EA4AC', 'USA': '#9EA4AC', \n",
    "                                                                 'Amsterdam': '#9EA4AC'} , order = list_order);\n",
    "\n",
    "for p in splot.patches:\n",
    "    splot.annotate(\" %.2f\" % p.get_width() + '%', xy=(p.get_width(), p.get_y()+p.get_height()/2),\n",
    "                   xytext=(5,0), textcoords='offset points', \n",
    "                   ha='left', va='center', fontsize = 50, color = '#707780')\n",
    "\n",
    "# plt.title(f\"Generated GMV by buyers who repurchase\", color =  '#707780' , fontsize = 40)\n",
    "splot.set_title(f\"For each additional product in the\\n\" +  \"portfolio, by how much\\n\" + \"the reorder rates increases\\n\" + \"for the best-performing producer¹?\", color =  '#707780' , fontsize = 40, loc = 'left', pad=30)\n",
    "\n",
    "plt.yticks(fontsize =50)\n",
    "plt.xlabel(\"\")\n",
    "plt.ylabel(\"\")\n",
    "plt.xlim(0, 3)\n",
    "splot.tick_params(labelsize=30)\n",
    "splot.yaxis.label.set_color('#707780')\n",
    "splot.spines['left'].set_color('#707780')\n",
    "splot.tick_params(axis='y', colors='#707780',labelsize=50, pad = 30)\n",
    "#     splot.axes.get_yaxis().set_visible(False)\n",
    "splot.spines['right'].set_visible(False)\n",
    "splot.spines['top'].set_visible(False)\n",
    "splot.spines['left'].set_visible(False)\n",
    "splot.spines['bottom'].set_visible(False)\n",
    "splot.axes.get_xaxis().set_visible(False)\n",
    "plt.show()"
   ]
  },
  {
   "cell_type": "markdown",
   "metadata": {},
   "source": [
    "#### Set df for several scenarios, plot predictions for each additional product on producer's portfolio"
   ]
  },
  {
   "cell_type": "code",
   "execution_count": null,
   "metadata": {
    "ExecuteTime": {
     "end_time": "2022-09-15T13:32:25.741550Z",
     "start_time": "2022-09-15T13:32:25.443418Z"
    }
   },
   "outputs": [],
   "source": [
    "# set df\n",
    "max_num = 20\n",
    "df = pd.DataFrame({'local': ['Global']* (max_num), 'portfolio_size': np.arange(1, max_num+1, 1)})\n",
    "df.to_csv(f'data/global_portfolio.csv', index=False)\n",
    "\n",
    "for n in df3['user_office_name'].unique():\n",
    "    df = pd.DataFrame({'local': [n]* (max_num), 'portfolio_size': np.arange(1, max_num+1, 1)})\n",
    "    df.to_csv(f'data/global_portfolio_{n}.csv', index=False)"
   ]
  },
  {
   "cell_type": "code",
   "execution_count": null,
   "metadata": {
    "ExecuteTime": {
     "end_time": "2022-09-15T15:27:13.044100Z",
     "start_time": "2022-09-15T15:27:13.026055Z"
    }
   },
   "outputs": [],
   "source": [
    "palette_countries = {'Global': '#EF4E23', 'Brazil': 'silver', \n",
    "                     'Colombia': 'darkgrey' , 'Mexico': 'dimgray', \n",
    "                     'USA':'c', 'Amsterdam' : 'darkcyan', 'Spain': 'black'}\n",
    "\n",
    "glob = pd.read_csv(f'data/global_portfolio_predict.csv')\n",
    "br = pd.read_csv(f'data/global_portfolio_predict_BRAZIL.csv')\n",
    "col = pd.read_csv(f'data/global_portfolio_predict_COLOMBIA.csv')\n",
    "mx = pd.read_csv(f'data/global_portfolio_predict_MEXICO.csv')\n",
    "us = pd.read_csv(f'data/global_portfolio_predict_USA.csv')\n",
    "ams = pd.read_csv(f'data/global_portfolio_predict_AMSTERDAM.csv')\n",
    "sp = pd.read_csv(f'data/global_portfolio_predict_SPAIN.csv')\n",
    "pred = pd.concat([glob, br, col, mx, us, ams, sp]).reset_index(drop=True)\n",
    "pred['local'] = pred['local'].map({'Global':'Global', 'BRAZIL': 'Brazil', 'COLOMBIA': 'Colombia', \n",
    "                                   'MEXICO': 'Mexico', \n",
    "                                   'USA': 'USA', 'AMSTERDAM':'Amsterdam', 'SPAIN': 'Spain'})\n",
    "pred['predict'] = pred['predict'] * 100 \n"
   ]
  },
  {
   "cell_type": "code",
   "execution_count": null,
   "metadata": {
    "ExecuteTime": {
     "end_time": "2022-09-15T15:27:13.872551Z",
     "start_time": "2022-09-15T15:27:13.234077Z"
    }
   },
   "outputs": [],
   "source": [
    "plt.figure(figsize = (30,15))\n",
    "\n",
    "sns.set_style('whitegrid')\n",
    "splot= sns.barplot(data = pred[pred['portfolio_size'] <= 10], x = 'portfolio_size', y = 'predict', hue = 'local', palette = palette_countries)\n",
    "splot.set_title(f\"For each additional product in the portfolio, by how much\\n\" +\"does reorder rates increase?\", color =  '#707780' , fontsize = 50, loc = 'center', pad=55)\n",
    "plt.ylabel('Predicted Reorder Rate (%)', fontsize = 50,  labelpad = 20)\n",
    "plt.xlabel('Additional product', fontsize = 50, labelpad = 20)\n",
    "plt.yticks(np.arange(0, 14, 1.0), fontsize = 50)\n",
    "splot.tick_params(labelsize=30)\n",
    "splot.yaxis.label.set_color('#707780')\n",
    "splot.xaxis.label.set_color('#707780')\n",
    "# splot.spines['left'].set_color('#707780')\n",
    "splot.tick_params(axis='y', colors='#707780',labelsize=50, pad = 10)\n",
    "splot.tick_params(axis='x', colors='#707780',labelsize=50, pad = 20)\n",
    "#     splot.axes.get_yaxis().set_visible(False)\n",
    "# splot.spines['right'].set_visible(False)\n",
    "# splot.spines['top'].set_visible(False)\n",
    "# splot.spines['left'].set_visible(False)\n",
    "# splot.spines['bottom'].set_visible(False)\n",
    "# splot.axes.get_xaxis().set_visible(False)\n",
    "plt.legend( bbox_to_anchor=(1.02, 1), fancybox=True)\n",
    "plt.show()"
   ]
  },
  {
   "cell_type": "code",
   "execution_count": null,
   "metadata": {
    "ExecuteTime": {
     "end_time": "2022-09-15T15:43:28.156648Z",
     "start_time": "2022-09-15T15:43:27.837284Z"
    }
   },
   "outputs": [],
   "source": [
    "plt.figure(figsize = (30,15))\n",
    "\n",
    "sns.set_style('whitegrid')\n",
    "splot= sns.barplot(data = pred[(pred['portfolio_size'] <= 10) & (pred['local'] == 'Global')], \n",
    "                   x = 'portfolio_size', y = 'predict', palette = ['#EF4E23'])\n",
    "\n",
    "for p in splot.patches:\n",
    "     splot.annotate(\"%.2f\" % p.get_height() + \"%\", (p.get_x() + p.get_width() / 2., p.get_height()),\n",
    "         ha='center', va='center', fontsize=45, rotation=0, xytext=(0, 20),\n",
    "         textcoords='offset points', color =  '#707780') \n",
    "        \n",
    "splot.set_title(f\"Predicted Reorder Rate (%), by portfolio size (Global)\", color =  '#707780' , fontsize = 50, loc = 'center', pad=55)\n",
    "plt.ylabel('Predicted Reorder Rate (%)', fontsize = 50,  labelpad = 20)\n",
    "plt.xlabel('Portfolio Size', fontsize = 50, labelpad = 20)\n",
    "# plt.yticks(np.arange(0, 14, 1.0), fontsize = 50)\n",
    "splot.tick_params(labelsize=30)\n",
    "splot.yaxis.label.set_color('#707780')\n",
    "splot.xaxis.label.set_color('#707780')\n",
    "# splot.spines['left'].set_color('#707780')\n",
    "\n",
    "splot.axes.get_yaxis().set_visible(False)\n",
    "splot.spines['right'].set_visible(False)\n",
    "splot.spines['top'].set_visible(False)\n",
    "splot.spines['left'].set_visible(False)\n",
    "splot.spines['bottom'].set_visible(False)\n",
    "splot.tick_params(axis='y', colors='#707780',labelsize=50, pad = 10)\n",
    "splot.tick_params(axis='x', colors='#707780',labelsize=50, pad = 30)\n",
    "# splot.axes.get_xaxis().set_visible(False)\n",
    "plt.show()"
   ]
  },
  {
   "cell_type": "code",
   "execution_count": null,
   "metadata": {
    "ExecuteTime": {
     "end_time": "2022-09-15T15:42:30.269609Z",
     "start_time": "2022-09-15T15:42:29.949257Z"
    }
   },
   "outputs": [],
   "source": [
    "country = 'Brazil'\n",
    "plt.figure(figsize = (30,15))\n",
    "\n",
    "sns.set_style('whitegrid')\n",
    "splot= sns.barplot(data = pred[(pred['portfolio_size'] <= 10) & (pred['local'] == country)], \n",
    "                   x = 'portfolio_size', y = 'predict', palette = ['#EF4E23'])\n",
    "\n",
    "for p in splot.patches:\n",
    "     splot.annotate(\"%.2f\" % p.get_height() + \"%\", (p.get_x() + p.get_width() / 2., p.get_height()),\n",
    "         ha='center', va='center', fontsize=45, rotation=0, xytext=(0, 20),\n",
    "         textcoords='offset points', color =  '#707780') \n",
    "        \n",
    "splot.set_title(f\"Predicted Reorder Rate (%), by portfolio size ({country})\", color =  '#707780' , fontsize = 50, loc = 'center', pad=55)\n",
    "plt.ylabel('Predicted Reorder Rate (%)', fontsize = 50,  labelpad = 20)\n",
    "plt.xlabel('Portfolio Size', fontsize = 50, labelpad = 20)\n",
    "# plt.yticks(np.arange(0, 14, 1.0), fontsize = 50)\n",
    "splot.tick_params(labelsize=30)\n",
    "splot.yaxis.label.set_color('#707780')\n",
    "splot.xaxis.label.set_color('#707780')\n",
    "# splot.spines['left'].set_color('#707780')\n",
    "\n",
    "splot.axes.get_yaxis().set_visible(False)\n",
    "splot.spines['right'].set_visible(False)\n",
    "splot.spines['top'].set_visible(False)\n",
    "splot.spines['left'].set_visible(False)\n",
    "splot.spines['bottom'].set_visible(False)\n",
    "splot.tick_params(axis='y', colors='#707780',labelsize=50, pad = 10)\n",
    "splot.tick_params(axis='x', colors='#707780',labelsize=50, pad = 30)\n",
    "# splot.axes.get_xaxis().set_visible(False)\n",
    "plt.show()"
   ]
  },
  {
   "cell_type": "markdown",
   "metadata": {
    "heading_collapsed": true
   },
   "source": [
    "### Why Large producers generate 2x more GMV than other segments?"
   ]
  },
  {
   "cell_type": "markdown",
   "metadata": {
    "heading_collapsed": true,
    "hidden": true
   },
   "source": [
    "##### Repurchase Count is not different among segments"
   ]
  },
  {
   "cell_type": "code",
   "execution_count": null,
   "metadata": {
    "ExecuteTime": {
     "end_time": "2022-09-14T20:42:07.929919Z",
     "start_time": "2022-09-14T20:41:44.054710Z"
    },
    "hidden": true
   },
   "outputs": [],
   "source": [
    "category = ['LARGE', 'MEDIUM', 'SMALL', 'SEED']\n",
    "count_repurchase = pd.DataFrame()\n",
    "\n",
    "for n, d in enumerate(category):\n",
    "    # get number of repurchases\n",
    "    aux1 = temp[temp['segment'] == d]\n",
    "    aux2 = aux1[['user_buyer_id', 'purchase_id']].groupby(['user_buyer_id']).count().reset_index().drop('user_buyer_id', axis = 1)\n",
    "    aux2['segment'] = d\n",
    "    aux2.columns = ['repurchase_count', 'segment']\n",
    "    count_repurchase = pd.concat([count_repurchase, aux2])\n",
    "count_repurchase = count_repurchase[count_repurchase['repurchase_count'] > 1]\n",
    "aux1 = count_repurchase[count_repurchase['segment'] == 'LARGE'].drop('segment', axis = 1)\n",
    "aux1.columns = ['LARGE']\n",
    "aux2 = count_repurchase[count_repurchase['segment'] == 'MEDIUM'].drop('segment', axis = 1)\n",
    "aux2.columns = ['MEDIUM']\n",
    "aux3 = count_repurchase[count_repurchase['segment'] == 'SMALL'].drop('segment', axis = 1)\n",
    "aux3.columns = ['SMALL']\n",
    "aux4 = count_repurchase[count_repurchase['segment'] == 'SEED'].drop('segment', axis = 1)\n",
    "aux4.columns = ['SEED']\n",
    "pd.concat([get_descriptive_statistics(aux1), get_descriptive_statistics(aux2) , get_descriptive_statistics(aux3), get_descriptive_statistics(aux4)])"
   ]
  },
  {
   "cell_type": "markdown",
   "metadata": {
    "heading_collapsed": true,
    "hidden": true
   },
   "source": [
    "##### Avg. Ticket Price between buyers who repurchase vs don't repurchase is not different among segments"
   ]
  },
  {
   "cell_type": "code",
   "execution_count": null,
   "metadata": {
    "ExecuteTime": {
     "end_time": "2022-09-14T21:16:09.955977Z",
     "start_time": "2022-09-14T21:14:12.477356Z"
    },
    "hidden": true
   },
   "outputs": [],
   "source": [
    "category = ['LARGE', 'MEDIUM', 'SMALL', 'SEED']\n",
    "avg_ticket = pd.DataFrame()\n",
    "\n",
    "for n, d in enumerate(category):\n",
    "    # get number of repurchases\n",
    "    aux1 = temp[temp['segment'] == d]\n",
    "    ### flag repurchase\n",
    "    aux2 = aux1[['user_buyer_id', 'purchase_id']].groupby('user_buyer_id').count().reset_index()\n",
    "    aux2.columns = ['user_buyer_id', 'no_repurchase_temp']\n",
    "    aux1 = aux1.merge(aux2, how = 'left', on = 'user_buyer_id')\n",
    "    aux1['repurchase_temp'] = aux1['no_repurchase_temp'].apply(lambda x : 'repurchase' if x > 1 else 'single-purchase')  \n",
    "    \n",
    "    # sum gmv for each buyer\n",
    "    aux2 = aux1[['user_buyer_id', 'repurchase_temp', 'no_repurchase_temp', 'gmv_value_brl']].groupby(['user_buyer_id', 'repurchase_temp', 'no_repurchase_temp']).sum().reset_index()\n",
    "    aux2['segment'] = d\n",
    "    aux2.columns = ['user_buyer_id', 'repurchase_temp', 'no_repurchase_temp', 'sum_gmv', 'segment']\n",
    "    avg_ticket = pd.concat([avg_ticket, aux2])\n",
    "\n",
    "# remove buyers with zero gmv\n",
    "avg_ticket = avg_ticket[avg_ticket['sum_gmv'] > 0]\n",
    "# median_gmv = avg_ticket[(avg_ticket['repurchase_temp'] == 'repurchase') & (avg_ticket['segment'] == 'LARGE')]['sum_gmv'].median()\n",
    "# median_gmv_not = avg_ticket[(avg_ticket['repurchase_temp'] == 'single-purchase') & (avg_ticket['segment'] == 'LARGE')]['sum_gmv'].median()\n",
    "\n",
    "# set df\n",
    "aux1 = avg_ticket[(avg_ticket['segment'] == 'LARGE') & (avg_ticket['repurchase_temp'] == 'repurchase')].drop(['segment', 'repurchase_temp', 'no_repurchase_temp', 'user_buyer_id'], axis = 1)\n",
    "aux1.columns = ['LARGE-repurchase']\n",
    "aux11 = avg_ticket[(avg_ticket['segment'] == 'LARGE') & (avg_ticket['repurchase_temp'] == 'single-purchase')].drop(['segment', 'repurchase_temp','no_repurchase_temp', 'user_buyer_id'], axis = 1)\n",
    "aux11.columns = ['LARGE-single-purchase']\n",
    "aux2 = avg_ticket[(avg_ticket['segment'] == 'MEDIUM') & (avg_ticket['repurchase_temp'] == 'repurchase')].drop(['segment', 'repurchase_temp','no_repurchase_temp', 'user_buyer_id'], axis = 1)\n",
    "aux2.columns = ['MEDIUM-repurchase']\n",
    "aux22 = avg_ticket[(avg_ticket['segment'] == 'MEDIUM') & (avg_ticket['repurchase_temp'] == 'single-purchase')].drop(['segment', 'repurchase_temp','no_repurchase_temp', 'user_buyer_id'], axis = 1)\n",
    "aux22.columns = ['MEDIUM-single-purchase']\n",
    "aux3 = avg_ticket[(avg_ticket['segment'] == 'SMALL') & (avg_ticket['repurchase_temp'] == 'repurchase')].drop(['segment', 'repurchase_temp','no_repurchase_temp', 'user_buyer_id'], axis = 1)\n",
    "aux3.columns = ['SMALL-repurchase']\n",
    "aux33 = avg_ticket[(avg_ticket['segment'] == 'SMALL') & (avg_ticket['repurchase_temp'] == 'single-purchase')].drop(['segment', 'repurchase_temp','no_repurchase_temp', 'user_buyer_id'], axis = 1)\n",
    "aux33.columns = ['SMALL-single-purchase']\n",
    "aux4 = avg_ticket[(avg_ticket['segment'] == 'SEED') & (avg_ticket['repurchase_temp'] == 'repurchase')].drop(['segment', 'repurchase_temp','no_repurchase_temp', 'user_buyer_id'], axis = 1)\n",
    "aux4.columns = ['SEED-repurchase']\n",
    "aux44 = avg_ticket[(avg_ticket['segment'] == 'SEED') & (avg_ticket['repurchase_temp'] == 'single-purchase')].drop(['segment', 'repurchase_temp','no_repurchase_temp', 'user_buyer_id'], axis = 1)\n",
    "aux44.columns = ['SEED-single-purchase']\n",
    "\n",
    "avg_ticket['segment_type'] = avg_ticket['segment'] + '-' + avg_ticket['repurchase_temp']\n",
    "avg_ticket = avg_ticket.reset_index(drop=True)\n",
    "pd.concat([get_descriptive_statistics(aux1), get_descriptive_statistics(aux11) \n",
    "           , get_descriptive_statistics(aux2), get_descriptive_statistics(aux22)\n",
    "           , get_descriptive_statistics(aux3), get_descriptive_statistics(aux33)\n",
    "           , get_descriptive_statistics(aux4), get_descriptive_statistics(aux44)\n",
    "          ])"
   ]
  },
  {
   "cell_type": "code",
   "execution_count": null,
   "metadata": {
    "ExecuteTime": {
     "end_time": "2022-09-14T21:40:37.919219Z",
     "start_time": "2022-09-14T21:40:37.915425Z"
    },
    "hidden": true
   },
   "outputs": [],
   "source": [
    "# # start = round(np.percentile(avg_ticket[['sum_gmv']], 25), 2)\n",
    "# splot = sns.kdeplot(data = avg_ticket[avg_ticket['segment'] == 'LARGE'], x = 'sum_gmv', \n",
    "#         hue = 'repurchase_temp')\n",
    "# plt.title(f'LARGE')\n",
    "# plt.ylabel(\"\")\n",
    "# # plt.legend(\"\")\n",
    "# sns.move_legend(splot,  \"upper left\", bbox_to_anchor=(1, 1))\n",
    "# plt.subplots_adjust(hspace=0.5)\n",
    "# plt.subplots_adjust(wspace=1)\n",
    "# plt.show()"
   ]
  },
  {
   "cell_type": "code",
   "execution_count": null,
   "metadata": {
    "ExecuteTime": {
     "end_time": "2022-09-14T20:12:34.952585Z",
     "start_time": "2022-09-14T20:12:27.917763Z"
    },
    "hidden": true
   },
   "outputs": [],
   "source": [
    "# aux1 = avg_ticket.copy()\n",
    "# # <= np.percentile(avg_ticket['sum_gmv'], 95)\n",
    "# aux2 = aux1[aux1['segment_type'] == 'LARGE-repurchase']\n",
    "# aux2 = aux2[aux2['sum_gmv'] <= np.percentile(aux2['sum_gmv'], 95)]\n",
    "# aux3 = aux1[aux1['segment_type'] == 'LARGE-single-purchase']\n",
    "# aux3 = aux3[aux3['sum_gmv'] <= np.percentile(aux3['sum_gmv'], 95)]\n",
    "\n",
    "# aux4 = aux1[aux1['segment_type'] == 'MEDIUM-repurchase']\n",
    "# aux4 = aux4[aux4['sum_gmv'] <= np.percentile(aux4['sum_gmv'], 95)]\n",
    "# aux5 = aux1[aux1['segment_type'] == 'MEDIUM-single-purchase']\n",
    "# aux5 = aux5[aux5['sum_gmv'] <= np.percentile(aux5['sum_gmv'], 95)]\n",
    "\n",
    "# aux6 = aux1[aux1['segment_type'] == 'SMALL-repurchase']\n",
    "# aux6 = aux6[aux6['sum_gmv'] <= np.percentile(aux6['sum_gmv'], 95)]\n",
    "# aux7 = aux1[aux1['segment_type'] == 'SMALL-single-purchase']\n",
    "# aux7 = aux7[aux7['sum_gmv'] <= np.percentile(aux7['sum_gmv'], 95)]\n",
    "            \n",
    "# aux8 = aux1[aux1['segment_type'] == 'SEED-repurchase']\n",
    "# aux8 = aux8[aux8['sum_gmv'] <= np.percentile(aux8['sum_gmv'], 95)]\n",
    "# aux9 = aux1[aux1['segment_type'] == 'SEED-single-purchase']\n",
    "# aux9 = aux9[aux9['sum_gmv'] <= np.percentile(aux9['sum_gmv'], 95)]\n",
    "# aux10 = pd.concat([aux2,aux3,aux4,aux5,aux6,aux7,aux8,aux9])\n",
    "# get_descriptive_statistics(aux10[['gmv_value_brl']])"
   ]
  },
  {
   "cell_type": "code",
   "execution_count": null,
   "metadata": {
    "ExecuteTime": {
     "end_time": "2022-09-14T20:44:28.486095Z",
     "start_time": "2022-09-14T20:44:28.479240Z"
    },
    "hidden": true
   },
   "outputs": [],
   "source": [
    "ff = df3[['segment', 'gmv_value_brl']]\n",
    "ff = ff[ff['gmv_value_brl'] > 0 ]\n",
    "ff = ff[ff['gmv_value_brl'] < np.percentile(ff['gmv_value_brl'], 95)]\n",
    "# get_descriptive_statistics(ff[['gmv_value_brl']])"
   ]
  },
  {
   "cell_type": "code",
   "execution_count": null,
   "metadata": {
    "ExecuteTime": {
     "end_time": "2022-09-14T16:54:11.769918Z",
     "start_time": "2022-09-14T16:54:11.767022Z"
    },
    "hidden": true
   },
   "outputs": [],
   "source": [
    "# plt.figure(figsize = (30,15))\n",
    "# for d, n in enumerate(['LARGE', 'MEDIUM', 'SMALL', 'SEED']):\n",
    "#     plt.subplot(4, 1, d+1)\n",
    "#     sns.histplot(data = aux10[aux10['segment'] == n], x = 'sum_gmv', \n",
    "#                  palette = {'single-purchase': 'b', 'repurchase': 'darkorange'},\n",
    "#                 hue = 'repurchase_temp', \n",
    "#                 element = 'step')\n",
    "#     plt.title(f'{n}')\n",
    "#     plt.ylabel('')\n",
    "#     if d != 3:\n",
    "#         plt.legend('')\n",
    "# plt.show()"
   ]
  },
  {
   "cell_type": "code",
   "execution_count": null,
   "metadata": {
    "ExecuteTime": {
     "end_time": "2022-09-14T14:00:50.974390Z",
     "start_time": "2022-09-14T14:00:50.971686Z"
    },
    "hidden": true
   },
   "outputs": [],
   "source": [
    "# # show boxplot\n",
    "# sns.boxplot(data = avg_ticket, x = 'sum_gmv', y = 'segment_type');"
   ]
  },
  {
   "cell_type": "markdown",
   "metadata": {
    "heading_collapsed": true,
    "hidden": true
   },
   "source": [
    "##### Generate Table"
   ]
  },
  {
   "cell_type": "code",
   "execution_count": null,
   "metadata": {
    "ExecuteTime": {
     "end_time": "2022-09-14T21:02:12.498294Z",
     "start_time": "2022-09-14T21:00:05.347609Z"
    },
    "hidden": true
   },
   "outputs": [],
   "source": [
    "# calculate repurchase\n",
    "category = ['LARGE', 'MEDIUM', 'SMALL', 'SEED']\n",
    "reorder = pd.DataFrame()\n",
    "share_gmv = pd.DataFrame()\n",
    "avg_gmv = pd.DataFrame()\n",
    "avg_gmv_not = pd.DataFrame()\n",
    "overall_gmv = pd.DataFrame()\n",
    "avg_repurchase = pd.DataFrame()\n",
    "avg_ticket = pd.DataFrame()\n",
    "\n",
    "for n, d in enumerate(category):\n",
    "    ### count purchases per user\n",
    "    aux1 = df3[(df3['segment'] == d)]\n",
    "    ### global median\n",
    "    global_med = pd.DataFrame({'segment' : [d], 'overall_avg_gmv': aux1['gmv_value_brl'].median()})\n",
    "    overall_gmv = pd.concat([overall_gmv, global_med])\n",
    "    ### flag repurchase\n",
    "    aux2 = aux1[['user_buyer_id', 'purchase_id']].groupby('user_buyer_id').count().reset_index()\n",
    "    aux2.columns = ['user_buyer_id', 'no_repurchase_temp']\n",
    "    aux1 = aux1.merge(aux2, how = 'left', on = 'user_buyer_id')\n",
    "    aux1['repurchase_temp'] = aux1['no_repurchase_temp'].apply(lambda x : 'repurchase' if x > 1 else 'single-purchase')    \n",
    "    \n",
    "    ### calculate gmv captured by users who repurchase \n",
    "    share = aux1[['repurchase_temp', 'gmv_value_brl']].groupby('repurchase_temp').sum().reset_index()\n",
    "    share['gmv_share_repurchase'] = share['gmv_value_brl'] / share['gmv_value_brl'].sum() * 100\n",
    "    share = share[share['repurchase_temp'] == 'repurchase']\n",
    "    share['segment'] = d\n",
    "    share.columns = ['repurchase', 'gmv_value_brl_repurchase', 'gmv_share_repurchase', 'segment']\n",
    "    share = share[['segment', 'gmv_share_repurchase', 'gmv_value_brl_repurchase']]\n",
    "    share_gmv = share_gmv.append(share)\n",
    "    \n",
    "    ## calculate median gmv from users who repurchase vs don't repurchase\n",
    "    # sum gmv for each buyer\n",
    "    aux2 = aux1[['user_buyer_id', 'repurchase_temp', 'gmv_value_brl']].groupby(['user_buyer_id', 'repurchase_temp']).sum().reset_index().drop('user_buyer_id', axis = 1)\n",
    "    aux2.columns = ['repurchase_temp', 'sum_gmv']\n",
    "    # remove buyers with zero gmv\n",
    "    aux2 = aux2[aux2['sum_gmv'] > 0]\n",
    "    avg_gmv = pd.concat([avg_gmv, pd.DataFrame({'segment' : [d], 'avg_gmv_repurchase': aux2[(aux2['repurchase_temp'] == 'repurchase')]['sum_gmv'].median()})])\n",
    "    avg_gmv_not = pd.concat([avg_gmv_not, pd.DataFrame({'segment' : [d], 'avg_gmv_repurchase_not': aux2[(aux2['repurchase_temp'] == 'single-purchase')]['sum_gmv'].median()})])\n",
    "\n",
    "    ## calculate median repurchase count from users who repurchase\n",
    "    mr = aux1[aux1['repurchase_temp'] == 'repurchase'][['user_buyer_id', 'purchase_id']].groupby('user_buyer_id').count().reset_index()\n",
    "    avg_repurchase = avg_repurchase.append(pd.DataFrame({'segment': [d], 'mean_repurchase_count': mr['purchase_id'].mean()}))\n",
    "    \n",
    "    # get vol of users with purchase\n",
    "    rr = aux1[['no_repurchase_temp','repurchase_temp',  'user_buyer_id']].groupby(['repurchase_temp','no_repurchase_temp']).nunique().reset_index()\n",
    "    rr['%'] = rr['user_buyer_id'] / rr['user_buyer_id'].sum() * 100\n",
    "    rr = rr.sort_values('%', ascending=False)\n",
    "    # get users who repurchase\n",
    "    rr2 = rr[['repurchase_temp', 'user_buyer_id']].groupby('repurchase_temp').sum().reset_index()\n",
    "    rr2['%'] = rr2['user_buyer_id'] / rr2['user_buyer_id'].sum() * 100\n",
    "    rr3 = rr2[rr2['repurchase_temp'] == 'repurchase'][['%']]\n",
    "    rr3['segment'] = d\n",
    "    rr3 = rr3[['segment', '%']]\n",
    "    reorder = reorder.append(rr3)\n",
    "    \n",
    "# sort df\n",
    "reorder = reorder.sort_values('%', ascending=False)\n",
    "share_gmv = share_gmv.sort_values('gmv_share_repurchase', ascending=False)\n",
    "avg_gmv = avg_gmv.sort_values('avg_gmv_repurchase', ascending=False)\n",
    "avg_gmv_not = avg_gmv_not.sort_values('avg_gmv_repurchase_not', ascending=False)\n",
    "avg_repurchase = avg_repurchase.sort_values('mean_repurchase_count', ascending=False)\n",
    "\n",
    "# set main dataset\n",
    "reorder = reorder.merge(share_gmv, \n",
    "                        how = 'left', \n",
    "                        on = 'segment').merge(avg_gmv, \n",
    "                                                    how = 'left', \n",
    "                                                    on = 'segment').merge(avg_gmv_not,\n",
    "                                                                          how = 'left',\n",
    "                                                                          on = 'segment').merge(avg_repurchase,\n",
    "                                                                          how = 'left',\n",
    "                                                                          on = 'segment').merge(overall_gmv, \n",
    "                                                                                                how = 'left', \n",
    "                                                                                                on = 'segment').sort_values('%', ascending=False)\n",
    "# reorder['median_lower'] = reorder.apply(lambda x: 1 if x['avg_gmv_repurchase'] < x['overall_avg_gmv'] else 0, axis = 1)\n",
    "# reorder['diff_median'] = (reorder['avg_gmv_repurchase'] - reorder['overall_avg_gmv']) / reorder['overall_avg_gmv'] * 100\n",
    "reorder['median_lower'] = reorder.apply(lambda x: 1 if x['avg_gmv_repurchase'] < x['avg_gmv_repurchase_not'] else 0, axis = 1)\n",
    "reorder['diff_median'] = (reorder['avg_gmv_repurchase'] - reorder['avg_gmv_repurchase_not']) / reorder['avg_gmv_repurchase_not'] * 100\n",
    "reorder['diff_median_abs'] = abs(reorder['diff_median'])\n",
    "reorder['order'] = reorder['segment'].map({'LARGE': 4, 'MEDIUM': 3, 'SMALL': 2, 'SEED': 1})\n",
    "reorder = reorder.sort_values('order', ascending=False)\n",
    "\n",
    "# reorder[['gmv_share_repurchase', 'diff_median']].corr()\n",
    "# sns.lmplot(x ='gmv_share_repurchase', y = 'diff_median', data = reorder);\n",
    "\n",
    "# # set palette\n",
    "# palette_categories_analysis = list()\n",
    "# for n in list(reorder['segment']):\n",
    "#     if int(reorder[reorder['segment'] == n]['median_lower']) == 1:\n",
    "#         palette_categories_analysis = palette_categories_analysis + ['r']\n",
    "#     else:\n",
    "#         palette_categories_analysis = palette_categories_analysis + ['g']\n",
    "# set palette\n",
    "palette_categories_analysis = {'LARGE': '#EF4E23', 'MEDIUM':'#9EA4AC', 'SMALL':'#9EA4AC', 'SEED':'#9EA4AC'} # grey, orange\n",
    "\n",
    "fonttitle = 45\n",
    "annotate_size = 45"
   ]
  },
  {
   "cell_type": "code",
   "execution_count": null,
   "metadata": {
    "ExecuteTime": {
     "end_time": "2022-09-14T21:02:13.476704Z",
     "start_time": "2022-09-14T21:02:12.510124Z"
    },
    "hidden": true
   },
   "outputs": [],
   "source": [
    "plt.figure(figsize = (43,40))\n",
    "plt.subplot(151)\n",
    "# plot graph with annotations\n",
    "\n",
    "# '#707780' (grey)\n",
    "\n",
    "sns.set_style('white')\n",
    "splot = sns.barplot(y = 'segment', x = '%', data = reorder, palette = palette_categories_analysis, order = category);\n",
    "\n",
    "for p in splot.patches:\n",
    "    splot.annotate(\" %.2f\" % p.get_width() + '%', xy=(p.get_width(), p.get_y()+p.get_height()/2),\n",
    "                   xytext=(5,0), textcoords='offset points', \n",
    "                   ha='left', va='center', fontsize = annotate_size, color = '#707780')\n",
    "splot.set_title(f\"Reorder Rate (%)\\n\" + \"\\n\" + \" \", color =  '#707780' , fontsize = fonttitle, loc = 'left', pad=40)\n",
    "\n",
    "# plt.yticks(fontsize =20)\n",
    "plt.ylabel(\"\")\n",
    "plt.xlim(0, 50)\n",
    "# splot.tick_params(labelsize=15)\n",
    "splot.yaxis.label.set_color('#707780')\n",
    "splot.spines['left'].set_color('#707780')\n",
    "splot.tick_params(axis='y', colors='#707780',labelsize=50, pad = 30)\n",
    "#     splot.axes.get_yaxis().set_visible(False)\n",
    "splot.spines['right'].set_visible(False)\n",
    "splot.spines['top'].set_visible(False)\n",
    "splot.spines['left'].set_visible(False)\n",
    "splot.spines['bottom'].set_visible(False)\n",
    "splot.axes.get_xaxis().set_visible(False)\n",
    "# plt.xlabel(f\"{aux3['user_buyer_id'].sum():,}\", color = '#707780', fontsize = 30)\n",
    "\n",
    "plt.subplot(152)\n",
    "sns.set_style('white')\n",
    "splot = sns.barplot(y = 'segment', x = 'gmv_share_repurchase', data = reorder, \n",
    "                    palette = palette_categories_analysis, \n",
    "                    order = category);\n",
    "\n",
    "for p in splot.patches:\n",
    "    splot.annotate(\" %.2f\" % p.get_width() + '%', xy=(p.get_width(), p.get_y()+p.get_height()/2),\n",
    "                   xytext=(5,0), textcoords='offset points', \n",
    "                   ha='left', va='center', fontsize = annotate_size, color = '#707780')\n",
    "splot.set_title(f\"Generated GMV (%)\\n\" + \"from buyers\\n\" + \"who repurchase \" , color =  '#707780' , fontsize = fonttitle, loc = 'left', pad=40)\n",
    "\n",
    "# plt.yticks(fontsize =20)\n",
    "plt.ylabel(\"\")\n",
    "plt.xlim(0, 50)\n",
    "# splot.tick_params(labelsize=15)\n",
    "splot.yaxis.label.set_color('#707780')\n",
    "splot.spines['left'].set_color('#707780')\n",
    "# splot.tick_params(axis='y', colors='#707780',labelsize=40, pad = 30)\n",
    "splot.axes.get_yaxis().set_visible(False)\n",
    "splot.spines['right'].set_visible(False)\n",
    "splot.spines['top'].set_visible(False)\n",
    "splot.spines['left'].set_visible(False)\n",
    "splot.spines['bottom'].set_visible(False)\n",
    "splot.axes.get_xaxis().set_visible(False)\n",
    "\n",
    "plt.subplot(153)\n",
    "sns.set_style('white')\n",
    "splot = sns.barplot(y = 'segment', x = 'mean_repurchase_count', data = reorder, \n",
    "                    palette = palette_categories_analysis, \n",
    "                    order = category);\n",
    "\n",
    "for p in splot.patches:\n",
    "    splot.annotate(\" %.4f\" % p.get_width(), xy=(p.get_width(), p.get_y()+p.get_height()/2),\n",
    "                   xytext=(5,0), textcoords='offset points', \n",
    "                   ha='left', va='center', fontsize = annotate_size, color = '#707780')\n",
    "    \n",
    "splot.set_title(f\"Avg. Repurchase\\n\" + \"Count\\n\" + \"\" , color =  '#707780' , fontsize = fonttitle, loc = 'left', pad=40)\n",
    "\n",
    "# plt.yticks(fontsize =20)\n",
    "plt.ylabel(\"\")\n",
    "plt.xlim(2, 3)\n",
    "# splot.tick_params(labelsize=15)\n",
    "splot.yaxis.label.set_color('#707780')\n",
    "splot.spines['left'].set_color('#707780')\n",
    "# splot.tick_params(axis='y', colors='#707780',labelsize=40, pad = 30)\n",
    "splot.axes.get_yaxis().set_visible(False)\n",
    "splot.spines['right'].set_visible(False)\n",
    "splot.spines['top'].set_visible(False)\n",
    "splot.spines['left'].set_visible(False)\n",
    "splot.spines['bottom'].set_visible(False)\n",
    "splot.axes.get_xaxis().set_visible(False)\n",
    "\n",
    "# plt.subplot(154)\n",
    "# sns.set_style('white')\n",
    "# splot = sns.barplot(y = 'segment', x = 'overall_avg_gmv', data = reorder, \n",
    "#                     palette = palette_categories_analysis, \n",
    "#                     order = category);\n",
    "\n",
    "# for p in splot.patches:\n",
    "#     splot.annotate(\" %.1f\" % p.get_width(), xy=(p.get_width(), p.get_y()+p.get_height()/2),\n",
    "#                    xytext=(5,0), textcoords='offset points', \n",
    "#                    ha='left', va='center', fontsize = annotate_size, color = '#707780')\n",
    "# splot.set_title(f\"Global Avg. Ticket\\n\" + \"Price (BRL)\\n\" + \" \" , color =  '#707780' , fontsize = fonttitle, loc = 'left', pad=40)\n",
    "\n",
    "# # plt.yticks(fontsize =20)\n",
    "# plt.ylabel(\"\")\n",
    "# plt.xlim(0, 400)\n",
    "# # splot.tick_params(labelsize=15)\n",
    "# splot.yaxis.label.set_color('#707780')\n",
    "# splot.spines['left'].set_color('#707780')\n",
    "# # splot.tick_params(axis='y', colors='#707780',labelsize=40, pad = 30)\n",
    "# splot.axes.get_yaxis().set_visible(False)\n",
    "# splot.spines['right'].set_visible(False)\n",
    "# splot.spines['top'].set_visible(False)\n",
    "# splot.spines['left'].set_visible(False)\n",
    "# splot.spines['bottom'].set_visible(False)\n",
    "# splot.axes.get_xaxis().set_visible(False)\n",
    "\n",
    "plt.subplot(154)\n",
    "sns.set_style('white')\n",
    "splot = sns.barplot(y = 'segment', x = 'avg_gmv_repurchase_not', data = reorder, \n",
    "                    palette = palette_categories_analysis, \n",
    "                    order = category);\n",
    "\n",
    "for p in splot.patches:\n",
    "    splot.annotate(\" %.1f\" % p.get_width(), xy=(p.get_width(), p.get_y()+p.get_height()/2),\n",
    "                   xytext=(5,0), textcoords='offset points', \n",
    "                   ha='left', va='center', fontsize = annotate_size, color = '#707780')\n",
    "splot.set_title(f\"Avg. Ticket Price (BRL)\\n\" + \"from buyers who\\n\" + \"do not repurchase\" , color =  '#707780' , fontsize = fonttitle, loc = 'left', pad=40)\n",
    "\n",
    "# plt.yticks(fontsize =20)\n",
    "plt.ylabel(\"\")\n",
    "plt.xlim(0, 1500)\n",
    "# splot.tick_params(labelsize=15)\n",
    "splot.yaxis.label.set_color('#707780')\n",
    "splot.spines['left'].set_color('#707780')\n",
    "# splot.tick_params(axis='y', colors='#707780',labelsize=40, pad = 30)\n",
    "splot.axes.get_yaxis().set_visible(False)\n",
    "splot.spines['right'].set_visible(False)\n",
    "splot.spines['top'].set_visible(False)\n",
    "splot.spines['left'].set_visible(False)\n",
    "splot.spines['bottom'].set_visible(False)\n",
    "splot.axes.get_xaxis().set_visible(False)\n",
    "\n",
    "\n",
    "plt.subplot(155)\n",
    "sns.set_style('white')\n",
    "splot = sns.barplot(y = 'segment', x = 'avg_gmv_repurchase', data = reorder, \n",
    "                    palette = palette_categories_analysis, \n",
    "                    order = category);\n",
    "\n",
    "for n, p in zip(reorder['diff_median'], splot.patches):\n",
    "    splot.annotate(\" %.1f\" % p.get_width() + ' ' + \"(%.1f p.p)\" % n, xy=(p.get_width(), \n",
    "                                                                      p.get_y()+p.get_height()/2),xytext=(5,0), \n",
    "    textcoords='offset points', ha='left', va='center', fontsize = annotate_size, color = '#707780')\n",
    "\n",
    "splot.set_title(f\"Avg. Ticket Price (BRL)\\n\" + \"from buyers who repurchase\\n\" + \"\" , color =  '#707780' , fontsize = fonttitle, loc = 'left', pad=40)\n",
    "\n",
    "# plt.yticks(fontsize =20)\n",
    "plt.ylabel(\"\")\n",
    "plt.xlim(0, 1500)\n",
    "# splot.tick_params(labelsize=15)\n",
    "splot.yaxis.label.set_color('#707780')\n",
    "splot.spines['left'].set_color('#707780')\n",
    "# splot.tick_params(axis='y', colors='#707780',labelsize=40, pad = 30)\n",
    "splot.axes.get_yaxis().set_visible(False)\n",
    "splot.spines['right'].set_visible(False)\n",
    "splot.spines['top'].set_visible(False)\n",
    "splot.spines['left'].set_visible(False)\n",
    "splot.spines['bottom'].set_visible(False)\n",
    "splot.axes.get_xaxis().set_visible(False)\n",
    "\n",
    "# plt.subplots_adjust(hspace=0.2)\n",
    "# plt.subplots_adjust(hspace=0.2)\n",
    "plt.subplots_adjust(wspace=0.05)\n",
    "plt.show()"
   ]
  },
  {
   "cell_type": "markdown",
   "metadata": {},
   "source": [
    "## Time"
   ]
  },
  {
   "cell_type": "markdown",
   "metadata": {},
   "source": [
    "### What is the mean time to 2nd purchase? (by producer office, producer segment, producers below 10k BRL LTV)"
   ]
  },
  {
   "cell_type": "markdown",
   "metadata": {},
   "source": [
    "#### Overall"
   ]
  },
  {
   "cell_type": "code",
   "execution_count": null,
   "metadata": {
    "ExecuteTime": {
     "end_time": "2022-08-23T13:58:59.211778Z",
     "start_time": "2022-08-23T13:58:59.209440Z"
    }
   },
   "outputs": [],
   "source": [
    "  \n",
    "  "
   ]
  },
  {
   "cell_type": "markdown",
   "metadata": {},
   "source": [
    "- In this analysis, we are considering all repurchases. Repurchases with delta < 1d were removed."
   ]
  },
  {
   "cell_type": "code",
   "execution_count": null,
   "metadata": {
    "ExecuteTime": {
     "end_time": "2022-09-15T17:04:10.852421Z",
     "start_time": "2022-09-15T17:02:01.960087Z"
    },
    "scrolled": true
   },
   "outputs": [],
   "source": [
    "# get only repurchases\n",
    "aux1 = df3.copy()\n",
    "aux1['purchase_id2'] = aux1.sort_values('purchase_order_datetime').groupby('user_buyer_id')['purchase_id'].shift(-1)\n",
    "aux1['2nd_purchase'] = aux1.sort_values('purchase_order_datetime').groupby('user_buyer_id')['purchase_order_datetime'].shift(-1)\n",
    "aux1 = aux1[aux1['purchase_id2'].notnull()]\n",
    "\n",
    "# delta purchases\n",
    "aux1['delta_days'] = (aux1['2nd_purchase'] - aux1['purchase_order_datetime']).dt.total_seconds() / 60 / 60 /24\n",
    "aux1['delta_sec'] = (aux1['2nd_purchase'] - aux1['purchase_order_datetime']).dt.total_seconds() \n",
    "# pd.concat([get_descriptive_statistics(aux1[['delta_days']]), get_descriptive_statistics(aux1[['delta_sec']])])\n",
    "\n",
    "# get median delta per user\n",
    "aux2 = aux1[['user_buyer_id', 'delta_days']].groupby('user_buyer_id').median().reset_index()\n",
    "aux2.columns = ['user_buyer_id', 'median_delta_days_user']\n",
    "median_threshold= np.percentile(aux2[['median_delta_days_user']], 50)\n",
    "# merge df\n",
    "aux3 = aux1.merge(aux2, how = 'inner', on = 'user_buyer_id')\n",
    "# flag users\n",
    "aux3['class'] = aux3['median_delta_days_user'].apply(lambda x : 'above' if x >= median_threshold\n",
    "                                        else 'below')\n",
    "pd.concat([get_descriptive_statistics(aux2[['median_delta_days_user']]), get_descriptive_statistics(aux3[['delta_days']])])"
   ]
  },
  {
   "cell_type": "code",
   "execution_count": null,
   "metadata": {
    "ExecuteTime": {
     "end_time": "2022-09-15T17:14:38.562725Z",
     "start_time": "2022-09-15T17:14:38.243202Z"
    }
   },
   "outputs": [],
   "source": [
    "get_descriptive_statistics(aux2[['median_delta_days_user']])"
   ]
  },
  {
   "cell_type": "code",
   "execution_count": null,
   "metadata": {
    "ExecuteTime": {
     "end_time": "2022-09-15T16:40:41.382786Z",
     "start_time": "2022-09-15T16:40:41.314174Z"
    }
   },
   "outputs": [],
   "source": [
    "print(f\"5th percentile: {np.percentile(aux2[['median_delta_days_user']], 5):.2f} days\") \n",
    "print(f\"10th percentile: {np.percentile(aux2[['median_delta_days_user']], 10):.2f} days\") \n",
    "print(f\"15th percentile: {np.percentile(aux2[['median_delta_days_user']], 15):.2f} days\") "
   ]
  },
  {
   "cell_type": "code",
   "execution_count": null,
   "metadata": {
    "ExecuteTime": {
     "end_time": "2022-09-15T17:13:59.592285Z",
     "start_time": "2022-09-15T17:13:56.748275Z"
    },
    "scrolled": false
   },
   "outputs": [],
   "source": [
    "sns.set_style('white')\n",
    "splot = sns.kdeplot(data = aux2, x = 'median_delta_days_user', color = '#EF4E23', fill=True, alpha=.1, linewidth=2\n",
    "            )\n",
    "\n",
    "splot.set_title(f\"Median time to repurchase (days) per user\", color =  '#707780' , \n",
    "                fontsize = 50, loc = 'center', pad=70)\n",
    "# plt.ylabel('customers', fontsize = 50,  labelpad = 20)\n",
    "plt.xlabel('Median (days)', fontsize = 50, labelpad = 20)\n",
    "\n",
    "# plt.yticks(np.arange(0, 14, 1.0), fontsize = 50)\n",
    "splot.tick_params(labelsize=30)\n",
    "splot.yaxis.label.set_color('#707780')\n",
    "splot.xaxis.label.set_color('#707780')\n",
    "# splot.spines['left'].set_color('#707780')\n",
    "\n",
    "splot.axes.get_yaxis().set_visible(False)\n",
    "splot.spines['right'].set_visible(False)\n",
    "splot.spines['top'].set_visible(False)\n",
    "splot.spines['left'].set_visible(False)\n",
    "splot.spines['bottom'].set_visible(False)\n",
    "splot.tick_params(axis='y', colors='#707780',labelsize=50, pad = 10)\n",
    "splot.tick_params(axis='x', colors='#707780',labelsize=50, pad = 30)\n",
    "# splot.axes.get_xaxis().set_visible(False)\n",
    "\n",
    "label_median = f\"median: {aux2['median_delta_days_user'].median():.2f}d\"\n",
    "plt.axvline(x=aux2['median_delta_days_user'].median(), label = label_median, color =  '#707780')\n",
    "# plt.legend(bbox_to_anchor=(0.25,0.8))\n",
    "plt.text(70, 0.01, label_median, color = 'white', fontsize = 30, bbox = dict(boxstyle='square', \n",
    "                                                              facecolor='darkcyan', \n",
    "                                                              alpha=1,\n",
    "                                                             pad = 0.8))\n",
    "\n",
    "plt.show()"
   ]
  },
  {
   "cell_type": "code",
   "execution_count": null,
   "metadata": {
    "ExecuteTime": {
     "end_time": "2022-08-23T14:00:32.857099Z",
     "start_time": "2022-08-23T14:00:31.790555Z"
    }
   },
   "outputs": [],
   "source": [
    "sns.set_style('white')\n",
    "sns.histplot(data = aux2[aux2['median_delta_days_user'] <= np.percentile(aux2[['median_delta_days_user']], 25)], x = 'median_delta_days_user', \n",
    "            kde = True, color = 'darkcyan'\n",
    "            )\n",
    "plt.title('Time to repurchase (on avg) per user, below 25th perc.')\n",
    "plt.xlabel('median delta (days)')\n",
    "plt.ylabel('customers')\n",
    "plt.show()"
   ]
  },
  {
   "cell_type": "markdown",
   "metadata": {
    "heading_collapsed": true
   },
   "source": [
    "#### Overall - GMV from users who repurchase above median time vs below"
   ]
  },
  {
   "cell_type": "code",
   "execution_count": null,
   "metadata": {
    "ExecuteTime": {
     "end_time": "2022-08-23T14:02:22.871760Z",
     "start_time": "2022-08-23T14:00:32.858875Z"
    },
    "hidden": true
   },
   "outputs": [],
   "source": [
    "# get df \n",
    "aux4 = df3.merge(aux3[['user_buyer_id', 'class']].drop_duplicates(), how = 'inner', on = 'user_buyer_id')[['user_buyer_id', 'class', 'gmv_value_brl']]\n",
    "# get users below threshold\n",
    "aux5 = aux4[aux4['class'] == 'below'][['user_buyer_id', 'gmv_value_brl']].groupby('user_buyer_id').sum().reset_index()\n",
    "aux5.columns = ['user_buyer_id', 'below']\n",
    "# get users above threshold\n",
    "aux6 = aux4[aux4['class'] == 'above'][['user_buyer_id', 'gmv_value_brl']].groupby('user_buyer_id').sum().reset_index()\n",
    "aux6.columns = ['user_buyer_id', 'above']\n",
    "pd.concat([get_descriptive_statistics(aux5[['below']]), get_descriptive_statistics(aux6[['above']])])"
   ]
  },
  {
   "cell_type": "code",
   "execution_count": null,
   "metadata": {
    "ExecuteTime": {
     "end_time": "2022-08-23T14:02:26.050237Z",
     "start_time": "2022-08-23T14:02:22.876399Z"
    },
    "hidden": true
   },
   "outputs": [],
   "source": [
    "aux7 = aux4[['user_buyer_id', 'class', 'gmv_value_brl']].groupby(['user_buyer_id', 'class']).sum().reset_index()\n",
    "plt.figure(figsize = (30,10))\n",
    "for d, n in enumerate([np.percentile(aux7['gmv_value_brl'], 5), np.percentile(aux7['gmv_value_brl'], 10), \n",
    "                       np.percentile(aux7['gmv_value_brl'], 25), np.percentile(aux7['gmv_value_brl'], 50),\n",
    "                       np.percentile(aux7['gmv_value_brl'], 75), np.percentile(aux7['gmv_value_brl'], 95)]):\n",
    "    plt.subplot(3,2,d+1)\n",
    "    if d == 0:\n",
    "        aux8 = aux7[(aux7['gmv_value_brl'] <= n)]\n",
    "        prev_n = n\n",
    "    else:\n",
    "        aux8 = aux7[(aux7['gmv_value_brl'] > prev_n) & (aux7['gmv_value_brl'] <= n)]\n",
    "    sns.set_style('white')\n",
    "    splot = sns.histplot(data = aux8, x = 'gmv_value_brl', hue = 'class',\n",
    "                                      palette = {'below': 'darkcyan', 'above': 'darkorange'},   element = 'step')\n",
    "    if d == 0:\n",
    "        plt.title(f\"5th perc. (0-{n:.2f} BRL) | Users: {aux8['user_buyer_id'].nunique():,}\")\n",
    "    if d == 1:\n",
    "        plt.title(f\"10th perc. ({(prev_n):.2f}-{n:.2f} BRL) | Users: {aux8['user_buyer_id'].nunique():,}\")\n",
    "        prev_n = n\n",
    "    if d == 2:\n",
    "        plt.title(f\"25th perc. ({(prev_n):.2f}-{n:.2f} BRL) | Users: {aux8['user_buyer_id'].nunique():,}\")\n",
    "        prev_n = n        \n",
    "    if d == 3:\n",
    "        plt.title(f\"50th perc. ({(prev_n):.2f}-{n:.2f} BRL) | Users: {aux8['user_buyer_id'].nunique():,}\")\n",
    "        prev_n = n\n",
    "    if d == 4:\n",
    "        plt.title(f\"75th perc. ({(prev_n):.2f}-{n:.2f} BRL) | Users: {aux8['user_buyer_id'].nunique():,}\")\n",
    "        prev_n = n        \n",
    "    if d == 5:\n",
    "        plt.title(f\"90th perc. ({(prev_n):.2f}-{n:,.2f} BRL) | Users: {aux8['user_buyer_id'].nunique():,}\")\n",
    "        prev_n = n\n",
    "        \n",
    "    splot.axes.get_yaxis().set_visible(False)\n",
    "    if d == 0:\n",
    "        splot.axes.get_yaxis().set_visible(True)\n",
    "        plt.xlabel('')\n",
    "        plt.ylabel('users')\n",
    "    if d == 1:\n",
    "        splot.axes.get_yaxis().set_visible(True)\n",
    "        plt.xlabel('')\n",
    "        plt.ylabel('')\n",
    "    if d == 2:\n",
    "        splot.axes.get_yaxis().set_visible(True)\n",
    "        plt.xlabel('')\n",
    "        plt.ylabel('users')\n",
    "    if d == 3:\n",
    "        splot.axes.get_yaxis().set_visible(True)\n",
    "        plt.xlabel('')\n",
    "        plt.ylabel('')\n",
    "    if d == 4:\n",
    "        splot.axes.get_yaxis().set_visible(True)\n",
    "        plt.xlabel('Customer GMV LTV')\n",
    "        plt.ylabel('users')\n",
    "    if d == 5:\n",
    "        splot.axes.get_yaxis().set_visible(True)\n",
    "        plt.xlabel('Customer GMV LTV')\n",
    "        plt.ylabel('')\n",
    "plt.subplots_adjust(wspace=0.1)\n",
    "plt.subplots_adjust(hspace=0.55)\n",
    "plt.show()"
   ]
  },
  {
   "cell_type": "markdown",
   "metadata": {},
   "source": [
    "#### Producer office"
   ]
  },
  {
   "cell_type": "code",
   "execution_count": null,
   "metadata": {
    "ExecuteTime": {
     "end_time": "2022-09-15T17:44:56.948951Z",
     "start_time": "2022-09-15T17:43:52.455412Z"
    }
   },
   "outputs": [],
   "source": [
    "# get producer office\n",
    "country_list = list(df3[['user_office_name', 'purchase_id']].groupby('user_office_name').count().reset_index().sort_values('purchase_id', ascending=False)['user_office_name'])\n",
    "plt.figure(figsize = (25,15))\n",
    "descr_stats = pd.DataFrame()\n",
    "for n, d in enumerate(country_list):\n",
    "    plt.subplot(2,3,n+1)\n",
    "    # get only repurchases\n",
    "    aux1 = df3[df3['user_office_name'] == d]\n",
    "    aux1['purchase_id2'] = aux1.sort_values('purchase_order_datetime').groupby('user_buyer_id')['purchase_id'].shift(-1)\n",
    "    aux1['2nd_purchase'] = aux1.sort_values('purchase_order_datetime').groupby('user_buyer_id')['purchase_order_datetime'].shift(-1)\n",
    "    aux1 = aux1[aux1['purchase_id2'].notnull()]\n",
    "\n",
    "    # delta\n",
    "    aux1['delta_days'] = (aux1['2nd_purchase'] - aux1['purchase_order_datetime']).dt.total_seconds() / 60 / 60 /24\n",
    "    aux1['delta_sec'] = (aux1['2nd_purchase'] - aux1['purchase_order_datetime']).dt.total_seconds() \n",
    "    # get median delta per user\n",
    "    aux2 = aux1[['user_buyer_id', 'delta_days']].groupby('user_buyer_id').median().reset_index()\n",
    "    aux2.columns = ['user_buyer_id', 'median_delta_days_user']\n",
    "    median_threshold= np.percentile(aux2[['median_delta_days_user']], 50)\n",
    "    aux3 = aux2.copy()\n",
    "    aux3.columns = ['user_buyer_id', d]\n",
    "    descr_stats = descr_stats.append(get_descriptive_statistics(aux3[[d]]))\n",
    "    sns.set_style('white')\n",
    "    splot = sns.kdeplot(data = aux2, x = 'median_delta_days_user', color = '#EF4E23', fill=True, alpha=.1, linewidth=2\n",
    "            )\n",
    "    plt.title(f\"{d} | N: {(len(aux2)):,}\")\n",
    "\n",
    "    label_median = f\"median ({aux2['median_delta_days_user'].median():.1f}d)\"\n",
    "    plt.axvline(x=aux2['median_delta_days_user'].median(), label = label_median, color = 'black')\n",
    "    plt.legend()\n",
    "    plt.xlabel('')\n",
    "    plt.ylabel('')    \n",
    "    if n == 0:\n",
    "        plt.ylabel('buyers') \n",
    "    if n == 3:\n",
    "        plt.xlabel('median delta (days)')\n",
    "        plt.ylabel('buyers') \n",
    "    if n == 4:\n",
    "        plt.xlabel('median delta (days)')\n",
    "    if n == 5:\n",
    "        plt.xlabel('median delta (days)')\n",
    "plt.subplots_adjust(hspace=0.2)\n",
    "plt.subplots_adjust(wspace=0.3)\n",
    "plt.show()\n"
   ]
  },
  {
   "cell_type": "code",
   "execution_count": null,
   "metadata": {
    "ExecuteTime": {
     "end_time": "2022-09-15T17:28:37.978661Z",
     "start_time": "2022-09-15T17:28:37.964067Z"
    }
   },
   "outputs": [],
   "source": [
    "# median time to repurchase\n",
    "descr_stats"
   ]
  },
  {
   "cell_type": "markdown",
   "metadata": {
    "heading_collapsed": true
   },
   "source": [
    "#### Producer office - GMV from users who repurchase above median time vs below"
   ]
  },
  {
   "cell_type": "markdown",
   "metadata": {
    "heading_collapsed": true,
    "hidden": true
   },
   "source": [
    "##### BRAZIL"
   ]
  },
  {
   "cell_type": "code",
   "execution_count": null,
   "metadata": {
    "ExecuteTime": {
     "end_time": "2022-08-23T14:04:31.541600Z",
     "start_time": "2022-08-23T14:03:22.859094Z"
    },
    "hidden": true
   },
   "outputs": [],
   "source": [
    "# get only repurchases\n",
    "name = 'BRAZIL'\n",
    "aux1 = df3[df3['user_office_name'] == name]\n",
    "aux1['purchase_id2'] = aux1.sort_values('purchase_order_datetime').groupby('user_buyer_id')['purchase_id'].shift(-1)\n",
    "aux1['2nd_purchase'] = aux1.sort_values('purchase_order_datetime').groupby('user_buyer_id')['purchase_order_datetime'].shift(-1)\n",
    "aux1 = aux1[aux1['purchase_id2'].notnull()]\n",
    "\n",
    "# delta\n",
    "aux1['delta_days'] = (aux1['2nd_purchase'] - aux1['purchase_order_datetime']).dt.total_seconds() / 60 / 60 /24\n",
    "aux1['delta_sec'] = (aux1['2nd_purchase'] - aux1['purchase_order_datetime']).dt.total_seconds() \n",
    "\n",
    "# get users who have median threshold\n",
    "aux2 = aux1[['user_buyer_id', 'delta_days']].groupby('user_buyer_id').median().reset_index()\n",
    "aux2.columns = ['user_buyer_id', 'median_delta_days_user']\n",
    "median_threshold= np.percentile(aux2[['median_delta_days_user']], 50)\n",
    "print(f\"Number of Repurchases: {len(aux1):,}\") \n",
    "print(f\"50th percentile: {median_threshold:.2f} days\") \n",
    "# merge df\n",
    "aux3 = aux1.merge(aux2, how = 'inner', on = 'user_buyer_id')\n",
    "# flag users\n",
    "aux3['class'] = aux3['median_delta_days_user'].apply(lambda x : 'above' if x >= median_threshold\n",
    "                                        else 'below')\n",
    "get_descriptive_statistics(aux2[['median_delta_days_user']])"
   ]
  },
  {
   "cell_type": "code",
   "execution_count": null,
   "metadata": {
    "ExecuteTime": {
     "end_time": "2022-08-23T14:06:03.596746Z",
     "start_time": "2022-08-23T14:04:31.554441Z"
    },
    "hidden": true
   },
   "outputs": [],
   "source": [
    "# get df \n",
    "aux4 = df3.merge(aux3[['user_buyer_id', 'class']].drop_duplicates(), how = 'inner', on = 'user_buyer_id')\n",
    "aux4 = aux4[aux4['user_office_name'] == name][['user_buyer_id', 'class', 'gmv_value_brl']]\n",
    "# get users below threshold\n",
    "aux5 = aux4[aux4['class'] == 'below'][['user_buyer_id', 'gmv_value_brl']].groupby('user_buyer_id').sum().reset_index()\n",
    "aux5.columns = ['user_buyer_id', 'below']\n",
    "# get users above threshold\n",
    "aux6 = aux4[aux4['class'] == 'above'][['user_buyer_id', 'gmv_value_brl']].groupby('user_buyer_id').sum().reset_index()\n",
    "aux6.columns = ['user_buyer_id', 'above']\n",
    "pd.concat([get_descriptive_statistics(aux5[['below']]), get_descriptive_statistics(aux6[['above']])])"
   ]
  },
  {
   "cell_type": "code",
   "execution_count": null,
   "metadata": {
    "ExecuteTime": {
     "end_time": "2022-08-23T14:06:06.163776Z",
     "start_time": "2022-08-23T14:06:03.598985Z"
    },
    "hidden": true
   },
   "outputs": [],
   "source": [
    "aux7 = aux4[['user_buyer_id', 'class', 'gmv_value_brl']].groupby(['user_buyer_id', 'class']).sum().reset_index()\n",
    "plt.figure(figsize = (30,10))\n",
    "for d, n in enumerate([np.percentile(aux7['gmv_value_brl'], 5), np.percentile(aux7['gmv_value_brl'], 10), \n",
    "                       np.percentile(aux7['gmv_value_brl'], 25), np.percentile(aux7['gmv_value_brl'], 50),\n",
    "                       np.percentile(aux7['gmv_value_brl'], 75), np.percentile(aux7['gmv_value_brl'], 95)]):\n",
    "    plt.subplot(3,2,d+1)\n",
    "    if d == 0:\n",
    "        aux8 = aux7[(aux7['gmv_value_brl'] <= n)]\n",
    "        prev_n = n\n",
    "    else:\n",
    "        aux8 = aux7[(aux7['gmv_value_brl'] > prev_n) & (aux7['gmv_value_brl'] <= n)]\n",
    "    sns.set_style('white')\n",
    "    splot = sns.histplot(data = aux8, x = 'gmv_value_brl', hue = 'class',\n",
    "                                      palette = {'below': 'darkcyan', 'above': 'darkorange'},   element = 'step')\n",
    "    splot.axes.get_yaxis().set_visible(False)\n",
    "    if d == 0:\n",
    "        plt.title(f\"5th perc. (0-{n:.2f} BRL) | Users: {aux8['user_buyer_id'].nunique():,}\")\n",
    "        splot.axes.get_yaxis().set_visible(True)\n",
    "        splot.get_legend().remove()\n",
    "        plt.xlabel('')\n",
    "        plt.ylabel('users')\n",
    "    if d == 1:\n",
    "        plt.title(f\"10th perc. ({(prev_n):.2f}-{n:.2f} BRL) | Users: {aux8['user_buyer_id'].nunique():,}\")\n",
    "        prev_n = n\n",
    "        splot.axes.get_yaxis().set_visible(True)\n",
    "        plt.xlabel('')\n",
    "        plt.ylabel('')\n",
    "        sns.move_legend(splot, \"center left\", bbox_to_anchor=(1, 0.5), title='Species')\n",
    "    if d == 2:\n",
    "        plt.title(f\"25th perc. ({(prev_n):.2f}-{n:.2f} BRL) | Users: {aux8['user_buyer_id'].nunique():,}\")\n",
    "        prev_n = n   \n",
    "        splot.axes.get_yaxis().set_visible(True)\n",
    "        splot.get_legend().remove()\n",
    "        plt.xlabel('')\n",
    "        plt.ylabel('users')\n",
    "    if d == 3:\n",
    "        plt.title(f\"50th perc. ({(prev_n):.2f}-{n:.2f} BRL) | Users: {aux8['user_buyer_id'].nunique():,}\")\n",
    "        prev_n = n\n",
    "        splot.axes.get_yaxis().set_visible(True)\n",
    "        splot.get_legend().remove()\n",
    "        plt.xlabel('')\n",
    "        plt.ylabel('')\n",
    "    if d == 4:\n",
    "        plt.title(f\"75th perc. ({(prev_n):.2f}-{n:.2f} BRL) | Users: {aux8['user_buyer_id'].nunique():,}\")\n",
    "        prev_n = n   \n",
    "        splot.axes.get_yaxis().set_visible(True)\n",
    "        splot.get_legend().remove()\n",
    "        plt.xlabel('Customer GMV LTV')\n",
    "        plt.ylabel('users')\n",
    "    if d == 5:\n",
    "        plt.title(f\"90th perc. ({(prev_n):.2f}-{n:,.2f} BRL) | Users: {aux8['user_buyer_id'].nunique():,}\")\n",
    "        prev_n = n\n",
    "        splot.axes.get_yaxis().set_visible(True)\n",
    "        splot.get_legend().remove()\n",
    "        plt.xlabel('Customer GMV LTV')\n",
    "        plt.ylabel('')\n",
    "plt.subplots_adjust(wspace=0.1)\n",
    "plt.subplots_adjust(hspace=0.55)\n",
    "plt.show()"
   ]
  },
  {
   "cell_type": "markdown",
   "metadata": {
    "heading_collapsed": true,
    "hidden": true
   },
   "source": [
    "##### SPAIN"
   ]
  },
  {
   "cell_type": "code",
   "execution_count": null,
   "metadata": {
    "ExecuteTime": {
     "end_time": "2022-08-23T14:06:08.245562Z",
     "start_time": "2022-08-23T14:06:06.165661Z"
    },
    "hidden": true
   },
   "outputs": [],
   "source": [
    "# get only repurchases\n",
    "name = 'SPAIN'\n",
    "aux1 = df3[df3['user_office_name'] == name]\n",
    "aux1['purchase_id2'] = aux1.sort_values('purchase_order_datetime').groupby('user_buyer_id')['purchase_id'].shift(-1)\n",
    "aux1['2nd_purchase'] = aux1.sort_values('purchase_order_datetime').groupby('user_buyer_id')['purchase_order_datetime'].shift(-1)\n",
    "aux1 = aux1[aux1['purchase_id2'].notnull()]\n",
    "\n",
    "# delta\n",
    "aux1['delta_days'] = (aux1['2nd_purchase'] - aux1['purchase_order_datetime']).dt.total_seconds() / 60 / 60 /24\n",
    "aux1['delta_sec'] = (aux1['2nd_purchase'] - aux1['purchase_order_datetime']).dt.total_seconds() \n",
    "\n",
    "# get users who have median threshold\n",
    "aux2 = aux1[['user_buyer_id', 'delta_days']].groupby('user_buyer_id').median().reset_index()\n",
    "aux2.columns = ['user_buyer_id', 'median_delta_days_user']\n",
    "median_threshold= np.percentile(aux2[['median_delta_days_user']], 50)\n",
    "print(f\"Number of Repurchases: {len(aux1):,}\") \n",
    "print(f\"50th percentile: {median_threshold:.2f} days\") \n",
    "# merge df\n",
    "aux3 = aux1.merge(aux2, how = 'inner', on = 'user_buyer_id')\n",
    "# flag users\n",
    "aux3['class'] = aux3['median_delta_days_user'].apply(lambda x : 'above' if x >= median_threshold\n",
    "                                        else 'below')\n",
    "get_descriptive_statistics(aux2[['median_delta_days_user']])"
   ]
  },
  {
   "cell_type": "code",
   "execution_count": null,
   "metadata": {
    "ExecuteTime": {
     "end_time": "2022-08-23T14:06:12.252932Z",
     "start_time": "2022-08-23T14:06:08.247804Z"
    },
    "hidden": true
   },
   "outputs": [],
   "source": [
    "# get df \n",
    "aux4 = df3.merge(aux3[['user_buyer_id', 'class']].drop_duplicates(), how = 'inner', on = 'user_buyer_id')\n",
    "aux4 = aux4[aux4['user_office_name'] == name][['user_buyer_id', 'class', 'gmv_value_brl']]\n",
    "# get users below threshold\n",
    "aux5 = aux4[aux4['class'] == 'below'][['user_buyer_id', 'gmv_value_brl']].groupby('user_buyer_id').sum().reset_index()\n",
    "aux5.columns = ['user_buyer_id', 'below']\n",
    "# get users above threshold\n",
    "aux6 = aux4[aux4['class'] == 'above'][['user_buyer_id', 'gmv_value_brl']].groupby('user_buyer_id').sum().reset_index()\n",
    "aux6.columns = ['user_buyer_id', 'above']\n",
    "pd.concat([get_descriptive_statistics(aux5[['below']]), get_descriptive_statistics(aux6[['above']])])"
   ]
  },
  {
   "cell_type": "code",
   "execution_count": null,
   "metadata": {
    "ExecuteTime": {
     "end_time": "2022-08-23T14:06:13.921078Z",
     "start_time": "2022-08-23T14:06:12.255646Z"
    },
    "hidden": true
   },
   "outputs": [],
   "source": [
    "aux7 = aux4[['user_buyer_id', 'class', 'gmv_value_brl']].groupby(['user_buyer_id', 'class']).sum().reset_index()\n",
    "plt.figure(figsize = (30,10))\n",
    "for d, n in enumerate([np.percentile(aux7['gmv_value_brl'], 5), np.percentile(aux7['gmv_value_brl'], 10), \n",
    "                       np.percentile(aux7['gmv_value_brl'], 25), np.percentile(aux7['gmv_value_brl'], 50),\n",
    "                       np.percentile(aux7['gmv_value_brl'], 75), np.percentile(aux7['gmv_value_brl'], 95)]):\n",
    "    plt.subplot(3,2,d+1)\n",
    "    if d == 0:\n",
    "        aux8 = aux7[(aux7['gmv_value_brl'] <= n)]\n",
    "        prev_n = n\n",
    "    else:\n",
    "        aux8 = aux7[(aux7['gmv_value_brl'] > prev_n) & (aux7['gmv_value_brl'] <= n)]\n",
    "    sns.set_style('white')\n",
    "    splot = sns.histplot(data = aux8, x = 'gmv_value_brl', hue = 'class',\n",
    "                                      palette = {'below': 'darkcyan', 'above': 'darkorange'},   element = 'step')\n",
    "    splot.axes.get_yaxis().set_visible(False)\n",
    "    if d == 0:\n",
    "        plt.title(f\"5th perc. (0-{n:.2f} BRL) | Users: {aux8['user_buyer_id'].nunique():,}\")\n",
    "        splot.axes.get_yaxis().set_visible(True)\n",
    "        splot.get_legend().remove()\n",
    "        plt.xlabel('')\n",
    "        plt.ylabel('users')\n",
    "    if d == 1:\n",
    "        plt.title(f\"10th perc. ({(prev_n):.2f}-{n:.2f} BRL) | Users: {aux8['user_buyer_id'].nunique():,}\")\n",
    "        prev_n = n\n",
    "        splot.axes.get_yaxis().set_visible(True)\n",
    "        plt.xlabel('')\n",
    "        plt.ylabel('')\n",
    "        sns.move_legend(splot, \"center left\", bbox_to_anchor=(1, 0.5), title='Species')\n",
    "    if d == 2:\n",
    "        plt.title(f\"25th perc. ({(prev_n):.2f}-{n:.2f} BRL) | Users: {aux8['user_buyer_id'].nunique():,}\")\n",
    "        prev_n = n   \n",
    "        splot.axes.get_yaxis().set_visible(True)\n",
    "        splot.get_legend().remove()\n",
    "        plt.xlabel('')\n",
    "        plt.ylabel('users')\n",
    "    if d == 3:\n",
    "        plt.title(f\"50th perc. ({(prev_n):.2f}-{n:.2f} BRL) | Users: {aux8['user_buyer_id'].nunique():,}\")\n",
    "        prev_n = n\n",
    "        splot.axes.get_yaxis().set_visible(True)\n",
    "        splot.get_legend().remove()\n",
    "        plt.xlabel('')\n",
    "        plt.ylabel('')\n",
    "    if d == 4:\n",
    "        plt.title(f\"75th perc. ({(prev_n):.2f}-{n:.2f} BRL) | Users: {aux8['user_buyer_id'].nunique():,}\")\n",
    "        prev_n = n   \n",
    "        splot.axes.get_yaxis().set_visible(True)\n",
    "        splot.get_legend().remove()\n",
    "        plt.xlabel('Customer GMV LTV')\n",
    "        plt.ylabel('users')\n",
    "    if d == 5:\n",
    "        plt.title(f\"90th perc. ({(prev_n):.2f}-{n:,.2f} BRL) | Users: {aux8['user_buyer_id'].nunique():,}\")\n",
    "        prev_n = n\n",
    "        splot.axes.get_yaxis().set_visible(True)\n",
    "        splot.get_legend().remove()\n",
    "        plt.xlabel('Customer GMV LTV')\n",
    "        plt.ylabel('')\n",
    "plt.subplots_adjust(wspace=0.1)\n",
    "plt.subplots_adjust(hspace=0.55)\n",
    "plt.show()"
   ]
  },
  {
   "cell_type": "markdown",
   "metadata": {
    "heading_collapsed": true,
    "hidden": true
   },
   "source": [
    "##### AMSTERDAM"
   ]
  },
  {
   "cell_type": "code",
   "execution_count": null,
   "metadata": {
    "ExecuteTime": {
     "end_time": "2022-08-23T14:06:14.473112Z",
     "start_time": "2022-08-23T14:06:13.923214Z"
    },
    "hidden": true
   },
   "outputs": [],
   "source": [
    "# get only repurchases\n",
    "name = 'AMSTERDAM'\n",
    "aux1 = df3[df3['user_office_name'] == name]\n",
    "aux1['purchase_id2'] = aux1.sort_values('purchase_order_datetime').groupby('user_buyer_id')['purchase_id'].shift(-1)\n",
    "aux1['2nd_purchase'] = aux1.sort_values('purchase_order_datetime').groupby('user_buyer_id')['purchase_order_datetime'].shift(-1)\n",
    "aux1 = aux1[aux1['purchase_id2'].notnull()]\n",
    "\n",
    "# delta\n",
    "aux1['delta_days'] = (aux1['2nd_purchase'] - aux1['purchase_order_datetime']).dt.total_seconds() / 60 / 60 /24\n",
    "aux1['delta_sec'] = (aux1['2nd_purchase'] - aux1['purchase_order_datetime']).dt.total_seconds() \n",
    "\n",
    "# get users who have median threshold\n",
    "aux2 = aux1[['user_buyer_id', 'delta_days']].groupby('user_buyer_id').median().reset_index()\n",
    "aux2.columns = ['user_buyer_id', 'median_delta_days_user']\n",
    "median_threshold= np.percentile(aux2[['median_delta_days_user']], 50)\n",
    "print(f\"Number of Repurchases: {len(aux1):,}\") \n",
    "print(f\"50th percentile: {median_threshold:.2f} days\") \n",
    "# merge df\n",
    "aux3 = aux1.merge(aux2, how = 'inner', on = 'user_buyer_id')\n",
    "# flag users\n",
    "aux3['class'] = aux3['median_delta_days_user'].apply(lambda x : 'above' if x >= median_threshold\n",
    "                                        else 'below')\n",
    "get_descriptive_statistics(aux2[['median_delta_days_user']])"
   ]
  },
  {
   "cell_type": "code",
   "execution_count": null,
   "metadata": {
    "ExecuteTime": {
     "end_time": "2022-08-23T14:06:17.338260Z",
     "start_time": "2022-08-23T14:06:14.475674Z"
    },
    "hidden": true
   },
   "outputs": [],
   "source": [
    "# get df \n",
    "aux4 = df3.merge(aux3[['user_buyer_id', 'class']].drop_duplicates(), how = 'inner', on = 'user_buyer_id')\n",
    "aux4 = aux4[aux4['user_office_name'] == name][['user_buyer_id', 'class', 'gmv_value_brl']]\n",
    "# get users below threshold\n",
    "aux5 = aux4[aux4['class'] == 'below'][['user_buyer_id', 'gmv_value_brl']].groupby('user_buyer_id').sum().reset_index()\n",
    "aux5.columns = ['user_buyer_id', 'below']\n",
    "# get users above threshold\n",
    "aux6 = aux4[aux4['class'] == 'above'][['user_buyer_id', 'gmv_value_brl']].groupby('user_buyer_id').sum().reset_index()\n",
    "aux6.columns = ['user_buyer_id', 'above']\n",
    "pd.concat([get_descriptive_statistics(aux5[['below']]), get_descriptive_statistics(aux6[['above']])])"
   ]
  },
  {
   "cell_type": "code",
   "execution_count": null,
   "metadata": {
    "ExecuteTime": {
     "end_time": "2022-08-23T14:06:18.232877Z",
     "start_time": "2022-08-23T14:06:17.340735Z"
    },
    "hidden": true
   },
   "outputs": [],
   "source": [
    "aux7 = aux4[['user_buyer_id', 'class', 'gmv_value_brl']].groupby(['user_buyer_id', 'class']).sum().reset_index()\n",
    "plt.figure(figsize = (30,10))\n",
    "for d, n in enumerate([np.percentile(aux7['gmv_value_brl'], 5), np.percentile(aux7['gmv_value_brl'], 10), \n",
    "                       np.percentile(aux7['gmv_value_brl'], 25), np.percentile(aux7['gmv_value_brl'], 50),\n",
    "                       np.percentile(aux7['gmv_value_brl'], 75), np.percentile(aux7['gmv_value_brl'], 95)]):\n",
    "    plt.subplot(3,2,d+1)\n",
    "    if d == 0:\n",
    "        aux8 = aux7[(aux7['gmv_value_brl'] <= n)]\n",
    "        prev_n = n\n",
    "    else:\n",
    "        aux8 = aux7[(aux7['gmv_value_brl'] > prev_n) & (aux7['gmv_value_brl'] <= n)]\n",
    "    sns.set_style('white')\n",
    "    splot = sns.histplot(data = aux8, x = 'gmv_value_brl', hue = 'class',\n",
    "                                      palette = {'below': 'darkcyan', 'above': 'darkorange'},   element = 'step')\n",
    "    splot.axes.get_yaxis().set_visible(False)\n",
    "    if d == 0:\n",
    "        plt.title(f\"5th perc. (0-{n:.2f} BRL) | Users: {aux8['user_buyer_id'].nunique():,}\")\n",
    "        splot.axes.get_yaxis().set_visible(True)\n",
    "        splot.get_legend().remove()\n",
    "        plt.xlabel('')\n",
    "        plt.ylabel('users')\n",
    "    if d == 1:\n",
    "        plt.title(f\"10th perc. ({(prev_n):.2f}-{n:.2f} BRL) | Users: {aux8['user_buyer_id'].nunique():,}\")\n",
    "        prev_n = n\n",
    "        splot.axes.get_yaxis().set_visible(True)\n",
    "        plt.xlabel('')\n",
    "        plt.ylabel('')\n",
    "        sns.move_legend(splot, \"center left\", bbox_to_anchor=(1, 0.5), title='Species')\n",
    "    if d == 2:\n",
    "        plt.title(f\"25th perc. ({(prev_n):.2f}-{n:.2f} BRL) | Users: {aux8['user_buyer_id'].nunique():,}\")\n",
    "        prev_n = n   \n",
    "        splot.axes.get_yaxis().set_visible(True)\n",
    "        splot.get_legend().remove()\n",
    "        plt.xlabel('')\n",
    "        plt.ylabel('users')\n",
    "    if d == 3:\n",
    "        plt.title(f\"50th perc. ({(prev_n):.2f}-{n:.2f} BRL) | Users: {aux8['user_buyer_id'].nunique():,}\")\n",
    "        prev_n = n\n",
    "        splot.axes.get_yaxis().set_visible(True)\n",
    "        splot.get_legend().remove()\n",
    "        plt.xlabel('')\n",
    "        plt.ylabel('')\n",
    "    if d == 4:\n",
    "        plt.title(f\"75th perc. ({(prev_n):.2f}-{n:.2f} BRL) | Users: {aux8['user_buyer_id'].nunique():,}\")\n",
    "        prev_n = n   \n",
    "        splot.axes.get_yaxis().set_visible(True)\n",
    "        splot.get_legend().remove()\n",
    "        plt.xlabel('Customer GMV LTV')\n",
    "        plt.ylabel('users')\n",
    "    if d == 5:\n",
    "        plt.title(f\"90th perc. ({(prev_n):.2f}-{n:,.2f} BRL) | Users: {aux8['user_buyer_id'].nunique():,}\")\n",
    "        prev_n = n\n",
    "        splot.axes.get_yaxis().set_visible(True)\n",
    "        splot.get_legend().remove()\n",
    "        plt.xlabel('Customer GMV LTV')\n",
    "        plt.ylabel('')\n",
    "plt.subplots_adjust(wspace=0.1)\n",
    "plt.subplots_adjust(hspace=0.55)\n",
    "plt.show()"
   ]
  },
  {
   "cell_type": "markdown",
   "metadata": {
    "heading_collapsed": true,
    "hidden": true
   },
   "source": [
    "##### USA"
   ]
  },
  {
   "cell_type": "code",
   "execution_count": null,
   "metadata": {
    "ExecuteTime": {
     "end_time": "2022-08-23T14:06:18.825543Z",
     "start_time": "2022-08-23T14:06:18.234647Z"
    },
    "hidden": true
   },
   "outputs": [],
   "source": [
    "# get only repurchases\n",
    "name = 'USA'\n",
    "aux1 = df3[df3['user_office_name'] == name]\n",
    "aux1['purchase_id2'] = aux1.sort_values('purchase_order_datetime').groupby('user_buyer_id')['purchase_id'].shift(-1)\n",
    "aux1['2nd_purchase'] = aux1.sort_values('purchase_order_datetime').groupby('user_buyer_id')['purchase_order_datetime'].shift(-1)\n",
    "aux1 = aux1[aux1['purchase_id2'].notnull()]\n",
    "\n",
    "# delta\n",
    "aux1['delta_days'] = (aux1['2nd_purchase'] - aux1['purchase_order_datetime']).dt.total_seconds() / 60 / 60 /24\n",
    "aux1['delta_sec'] = (aux1['2nd_purchase'] - aux1['purchase_order_datetime']).dt.total_seconds() \n",
    "\n",
    "# get users who have median threshold\n",
    "aux2 = aux1[['user_buyer_id', 'delta_days']].groupby('user_buyer_id').median().reset_index()\n",
    "aux2.columns = ['user_buyer_id', 'median_delta_days_user']\n",
    "median_threshold= np.percentile(aux2[['median_delta_days_user']], 50)\n",
    "print(f\"Number of Repurchases: {len(aux1):,}\") \n",
    "print(f\"50th percentile: {median_threshold:.2f} days\") \n",
    "# merge df\n",
    "aux3 = aux1.merge(aux2, how = 'inner', on = 'user_buyer_id')\n",
    "# flag users\n",
    "aux3['class'] = aux3['median_delta_days_user'].apply(lambda x : 'above' if x >= median_threshold\n",
    "                                        else 'below')\n",
    "get_descriptive_statistics(aux2[['median_delta_days_user']])"
   ]
  },
  {
   "cell_type": "code",
   "execution_count": null,
   "metadata": {
    "ExecuteTime": {
     "end_time": "2022-08-23T14:06:21.854374Z",
     "start_time": "2022-08-23T14:06:18.827733Z"
    },
    "hidden": true
   },
   "outputs": [],
   "source": [
    "# get df \n",
    "aux4 = df3.merge(aux3[['user_buyer_id', 'class']].drop_duplicates(), how = 'inner', on = 'user_buyer_id')\n",
    "aux4 = aux4[aux4['user_office_name'] == name][['user_buyer_id', 'class', 'gmv_value_brl']]\n",
    "# get users below threshold\n",
    "aux5 = aux4[aux4['class'] == 'below'][['user_buyer_id', 'gmv_value_brl']].groupby('user_buyer_id').sum().reset_index()\n",
    "aux5.columns = ['user_buyer_id', 'below']\n",
    "# get users above threshold\n",
    "aux6 = aux4[aux4['class'] == 'above'][['user_buyer_id', 'gmv_value_brl']].groupby('user_buyer_id').sum().reset_index()\n",
    "aux6.columns = ['user_buyer_id', 'above']\n",
    "pd.concat([get_descriptive_statistics(aux5[['below']]), get_descriptive_statistics(aux6[['above']])])"
   ]
  },
  {
   "cell_type": "code",
   "execution_count": null,
   "metadata": {
    "ExecuteTime": {
     "end_time": "2022-08-23T14:06:22.823356Z",
     "start_time": "2022-08-23T14:06:21.858222Z"
    },
    "hidden": true
   },
   "outputs": [],
   "source": [
    "aux7 = aux4[['user_buyer_id', 'class', 'gmv_value_brl']].groupby(['user_buyer_id', 'class']).sum().reset_index()\n",
    "plt.figure(figsize = (30,10))\n",
    "for d, n in enumerate([np.percentile(aux7['gmv_value_brl'], 5), np.percentile(aux7['gmv_value_brl'], 10), \n",
    "                       np.percentile(aux7['gmv_value_brl'], 25), np.percentile(aux7['gmv_value_brl'], 50),\n",
    "                       np.percentile(aux7['gmv_value_brl'], 75), np.percentile(aux7['gmv_value_brl'], 95)]):\n",
    "    plt.subplot(3,2,d+1)\n",
    "    if d == 0:\n",
    "        aux8 = aux7[(aux7['gmv_value_brl'] <= n)]\n",
    "        prev_n = n\n",
    "    else:\n",
    "        aux8 = aux7[(aux7['gmv_value_brl'] > prev_n) & (aux7['gmv_value_brl'] <= n)]\n",
    "    sns.set_style('white')\n",
    "    splot = sns.histplot(data = aux8, x = 'gmv_value_brl', hue = 'class',\n",
    "                                      palette = {'below': 'darkcyan', 'above': 'darkorange'},   element = 'step')\n",
    "    splot.axes.get_yaxis().set_visible(False)\n",
    "    if d == 0:\n",
    "        plt.title(f\"5th perc. (0-{n:.2f} BRL) | Users: {aux8['user_buyer_id'].nunique():,}\")\n",
    "        splot.axes.get_yaxis().set_visible(True)\n",
    "        splot.get_legend().remove()\n",
    "        plt.xlabel('')\n",
    "        plt.ylabel('users')\n",
    "    if d == 1:\n",
    "        plt.title(f\"10th perc. ({(prev_n):.2f}-{n:.2f} BRL) | Users: {aux8['user_buyer_id'].nunique():,}\")\n",
    "        prev_n = n\n",
    "        splot.axes.get_yaxis().set_visible(True)\n",
    "        plt.xlabel('')\n",
    "        plt.ylabel('')\n",
    "        sns.move_legend(splot, \"center left\", bbox_to_anchor=(1, 0.5), title='Species')\n",
    "    if d == 2:\n",
    "        plt.title(f\"25th perc. ({(prev_n):.2f}-{n:.2f} BRL) | Users: {aux8['user_buyer_id'].nunique():,}\")\n",
    "        prev_n = n   \n",
    "        splot.axes.get_yaxis().set_visible(True)\n",
    "        splot.get_legend().remove()\n",
    "        plt.xlabel('')\n",
    "        plt.ylabel('users')\n",
    "    if d == 3:\n",
    "        plt.title(f\"50th perc. ({(prev_n):.2f}-{n:.2f} BRL) | Users: {aux8['user_buyer_id'].nunique():,}\")\n",
    "        prev_n = n\n",
    "        splot.axes.get_yaxis().set_visible(True)\n",
    "        splot.get_legend().remove()\n",
    "        plt.xlabel('')\n",
    "        plt.ylabel('')\n",
    "    if d == 4:\n",
    "        plt.title(f\"75th perc. ({(prev_n):.2f}-{n:.2f} BRL) | Users: {aux8['user_buyer_id'].nunique():,}\")\n",
    "        prev_n = n   \n",
    "        splot.axes.get_yaxis().set_visible(True)\n",
    "        splot.get_legend().remove()\n",
    "        plt.xlabel('Customer GMV LTV')\n",
    "        plt.ylabel('users')\n",
    "    if d == 5:\n",
    "        plt.title(f\"90th perc. ({(prev_n):.2f}-{n:,.2f} BRL) | Users: {aux8['user_buyer_id'].nunique():,}\")\n",
    "        prev_n = n\n",
    "        splot.axes.get_yaxis().set_visible(True)\n",
    "        splot.get_legend().remove()\n",
    "        plt.xlabel('Customer GMV LTV')\n",
    "        plt.ylabel('')\n",
    "plt.subplots_adjust(wspace=0.1)\n",
    "plt.subplots_adjust(hspace=0.55)\n",
    "plt.show()"
   ]
  },
  {
   "cell_type": "markdown",
   "metadata": {
    "heading_collapsed": true,
    "hidden": true
   },
   "source": [
    "##### MEXICO"
   ]
  },
  {
   "cell_type": "code",
   "execution_count": null,
   "metadata": {
    "ExecuteTime": {
     "end_time": "2022-08-23T14:06:24.682520Z",
     "start_time": "2022-08-23T14:06:22.825706Z"
    },
    "hidden": true
   },
   "outputs": [],
   "source": [
    "# get only repurchases\n",
    "name = 'MEXICO'\n",
    "aux1 = df3[df3['user_office_name'] == name]\n",
    "aux1['purchase_id2'] = aux1.sort_values('purchase_order_datetime').groupby('user_buyer_id')['purchase_id'].shift(-1)\n",
    "aux1['2nd_purchase'] = aux1.sort_values('purchase_order_datetime').groupby('user_buyer_id')['purchase_order_datetime'].shift(-1)\n",
    "aux1 = aux1[aux1['purchase_id2'].notnull()]\n",
    "\n",
    "# delta\n",
    "aux1['delta_days'] = (aux1['2nd_purchase'] - aux1['purchase_order_datetime']).dt.total_seconds() / 60 / 60 /24\n",
    "aux1['delta_sec'] = (aux1['2nd_purchase'] - aux1['purchase_order_datetime']).dt.total_seconds() \n",
    "\n",
    "# get users who have median threshold\n",
    "aux2 = aux1[['user_buyer_id', 'delta_days']].groupby('user_buyer_id').median().reset_index()\n",
    "aux2.columns = ['user_buyer_id', 'median_delta_days_user']\n",
    "median_threshold= np.percentile(aux2[['median_delta_days_user']], 50)\n",
    "print(f\"Number of Repurchases: {len(aux1):,}\") \n",
    "print(f\"50th percentile: {median_threshold:.2f} days\") \n",
    "# merge df\n",
    "aux3 = aux1.merge(aux2, how = 'inner', on = 'user_buyer_id')\n",
    "# flag users\n",
    "aux3['class'] = aux3['median_delta_days_user'].apply(lambda x : 'above' if x >= median_threshold\n",
    "                                        else 'below')\n",
    "get_descriptive_statistics(aux2[['median_delta_days_user']])"
   ]
  },
  {
   "cell_type": "code",
   "execution_count": null,
   "metadata": {
    "ExecuteTime": {
     "end_time": "2022-08-23T14:06:29.231104Z",
     "start_time": "2022-08-23T14:06:24.684951Z"
    },
    "hidden": true
   },
   "outputs": [],
   "source": [
    "# get df \n",
    "aux4 = df3.merge(aux3[['user_buyer_id', 'class']].drop_duplicates(), how = 'inner', on = 'user_buyer_id')\n",
    "aux4 = aux4[aux4['user_office_name'] == name][['user_buyer_id', 'class', 'gmv_value_brl']]\n",
    "# get users below threshold\n",
    "aux5 = aux4[aux4['class'] == 'below'][['user_buyer_id', 'gmv_value_brl']].groupby('user_buyer_id').sum().reset_index()\n",
    "aux5.columns = ['user_buyer_id', 'below']\n",
    "# get users above threshold\n",
    "aux6 = aux4[aux4['class'] == 'above'][['user_buyer_id', 'gmv_value_brl']].groupby('user_buyer_id').sum().reset_index()\n",
    "aux6.columns = ['user_buyer_id', 'above']\n",
    "pd.concat([get_descriptive_statistics(aux5[['below']]), get_descriptive_statistics(aux6[['above']])])"
   ]
  },
  {
   "cell_type": "code",
   "execution_count": null,
   "metadata": {
    "ExecuteTime": {
     "end_time": "2022-08-23T14:06:30.188947Z",
     "start_time": "2022-08-23T14:06:29.233270Z"
    },
    "hidden": true
   },
   "outputs": [],
   "source": [
    "aux7 = aux4[['user_buyer_id', 'class', 'gmv_value_brl']].groupby(['user_buyer_id', 'class']).sum().reset_index()\n",
    "plt.figure(figsize = (30,10))\n",
    "for d, n in enumerate([np.percentile(aux7['gmv_value_brl'], 5), np.percentile(aux7['gmv_value_brl'], 10), \n",
    "                       np.percentile(aux7['gmv_value_brl'], 25), np.percentile(aux7['gmv_value_brl'], 50),\n",
    "                       np.percentile(aux7['gmv_value_brl'], 75), np.percentile(aux7['gmv_value_brl'], 95)]):\n",
    "    plt.subplot(3,2,d+1)\n",
    "    if d == 0:\n",
    "        aux8 = aux7[(aux7['gmv_value_brl'] <= n)]\n",
    "        prev_n = n\n",
    "    else:\n",
    "        aux8 = aux7[(aux7['gmv_value_brl'] > prev_n) & (aux7['gmv_value_brl'] <= n)]\n",
    "    sns.set_style('white')\n",
    "    splot = sns.histplot(data = aux8, x = 'gmv_value_brl', hue = 'class',\n",
    "                                      palette = {'below': 'darkcyan', 'above': 'darkorange'},   element = 'step')\n",
    "    splot.axes.get_yaxis().set_visible(False)\n",
    "    if d == 0:\n",
    "        plt.title(f\"5th perc. (0-{n:.2f} BRL) | Users: {aux8['user_buyer_id'].nunique():,}\")\n",
    "        splot.axes.get_yaxis().set_visible(True)\n",
    "        splot.get_legend().remove()\n",
    "        plt.xlabel('')\n",
    "        plt.ylabel('users')\n",
    "    if d == 1:\n",
    "        plt.title(f\"10th perc. ({(prev_n):.2f}-{n:.2f} BRL) | Users: {aux8['user_buyer_id'].nunique():,}\")\n",
    "        prev_n = n\n",
    "        splot.axes.get_yaxis().set_visible(True)\n",
    "        plt.xlabel('')\n",
    "        plt.ylabel('')\n",
    "        sns.move_legend(splot, \"center left\", bbox_to_anchor=(1, 0.5), title='Species')\n",
    "    if d == 2:\n",
    "        plt.title(f\"25th perc. ({(prev_n):.2f}-{n:.2f} BRL) | Users: {aux8['user_buyer_id'].nunique():,}\")\n",
    "        prev_n = n   \n",
    "        splot.axes.get_yaxis().set_visible(True)\n",
    "        splot.get_legend().remove()\n",
    "        plt.xlabel('')\n",
    "        plt.ylabel('users')\n",
    "    if d == 3:\n",
    "        plt.title(f\"50th perc. ({(prev_n):.2f}-{n:.2f} BRL) | Users: {aux8['user_buyer_id'].nunique():,}\")\n",
    "        prev_n = n\n",
    "        splot.axes.get_yaxis().set_visible(True)\n",
    "        splot.get_legend().remove()\n",
    "        plt.xlabel('')\n",
    "        plt.ylabel('')\n",
    "    if d == 4:\n",
    "        plt.title(f\"75th perc. ({(prev_n):.2f}-{n:.2f} BRL) | Users: {aux8['user_buyer_id'].nunique():,}\")\n",
    "        prev_n = n   \n",
    "        splot.axes.get_yaxis().set_visible(True)\n",
    "        splot.get_legend().remove()\n",
    "        plt.xlabel('Customer GMV LTV')\n",
    "        plt.ylabel('users')\n",
    "    if d == 5:\n",
    "        plt.title(f\"90th perc. ({(prev_n):.2f}-{n:,.2f} BRL) | Users: {aux8['user_buyer_id'].nunique():,}\")\n",
    "        prev_n = n\n",
    "        splot.axes.get_yaxis().set_visible(True)\n",
    "        splot.get_legend().remove()\n",
    "        plt.xlabel('Customer GMV LTV')\n",
    "        plt.ylabel('')\n",
    "plt.subplots_adjust(wspace=0.1)\n",
    "plt.subplots_adjust(hspace=0.55)\n",
    "plt.show()"
   ]
  },
  {
   "cell_type": "markdown",
   "metadata": {
    "heading_collapsed": true,
    "hidden": true
   },
   "source": [
    "##### COLOMBIA"
   ]
  },
  {
   "cell_type": "code",
   "execution_count": null,
   "metadata": {
    "ExecuteTime": {
     "end_time": "2022-08-23T14:06:34.106171Z",
     "start_time": "2022-08-23T14:06:30.190812Z"
    },
    "hidden": true
   },
   "outputs": [],
   "source": [
    "# get only repurchases\n",
    "name = 'COLOMBIA'\n",
    "aux1 = df3[df3['user_office_name'] == name]\n",
    "aux1['purchase_id2'] = aux1.sort_values('purchase_order_datetime').groupby('user_buyer_id')['purchase_id'].shift(-1)\n",
    "aux1['2nd_purchase'] = aux1.sort_values('purchase_order_datetime').groupby('user_buyer_id')['purchase_order_datetime'].shift(-1)\n",
    "aux1 = aux1[aux1['purchase_id2'].notnull()]\n",
    "\n",
    "# delta\n",
    "aux1['delta_days'] = (aux1['2nd_purchase'] - aux1['purchase_order_datetime']).dt.total_seconds() / 60 / 60 /24\n",
    "aux1['delta_sec'] = (aux1['2nd_purchase'] - aux1['purchase_order_datetime']).dt.total_seconds() \n",
    "\n",
    "# get users who have median threshold\n",
    "aux2 = aux1[['user_buyer_id', 'delta_days']].groupby('user_buyer_id').median().reset_index()\n",
    "aux2.columns = ['user_buyer_id', 'median_delta_days_user']\n",
    "median_threshold= np.percentile(aux2[['median_delta_days_user']], 50)\n",
    "print(f\"Number of Repurchases: {len(aux1):,}\") \n",
    "print(f\"50th percentile: {median_threshold:.2f} days\") \n",
    "# merge df\n",
    "aux3 = aux1.merge(aux2, how = 'inner', on = 'user_buyer_id')\n",
    "# flag users\n",
    "aux3['class'] = aux3['median_delta_days_user'].apply(lambda x : 'above' if x >= median_threshold\n",
    "                                        else 'below')\n",
    "get_descriptive_statistics(aux2[['median_delta_days_user']])"
   ]
  },
  {
   "cell_type": "code",
   "execution_count": null,
   "metadata": {
    "ExecuteTime": {
     "end_time": "2022-08-23T14:06:41.685571Z",
     "start_time": "2022-08-23T14:06:34.108230Z"
    },
    "hidden": true
   },
   "outputs": [],
   "source": [
    "# get df \n",
    "aux4 = df3.merge(aux3[['user_buyer_id', 'class']].drop_duplicates(), how = 'inner', on = 'user_buyer_id')\n",
    "aux4 = aux4[aux4['user_office_name'] == name][['user_buyer_id', 'class', 'gmv_value_brl']]\n",
    "# get users below threshold\n",
    "aux5 = aux4[aux4['class'] == 'below'][['user_buyer_id', 'gmv_value_brl']].groupby('user_buyer_id').sum().reset_index()\n",
    "aux5.columns = ['user_buyer_id', 'below']\n",
    "# get users above threshold\n",
    "aux6 = aux4[aux4['class'] == 'above'][['user_buyer_id', 'gmv_value_brl']].groupby('user_buyer_id').sum().reset_index()\n",
    "aux6.columns = ['user_buyer_id', 'above']\n",
    "pd.concat([get_descriptive_statistics(aux5[['below']]), get_descriptive_statistics(aux6[['above']])])"
   ]
  },
  {
   "cell_type": "code",
   "execution_count": null,
   "metadata": {
    "ExecuteTime": {
     "end_time": "2022-08-23T14:06:42.645656Z",
     "start_time": "2022-08-23T14:06:41.687873Z"
    },
    "hidden": true
   },
   "outputs": [],
   "source": [
    "aux7 = aux4[['user_buyer_id', 'class', 'gmv_value_brl']].groupby(['user_buyer_id', 'class']).sum().reset_index()\n",
    "plt.figure(figsize = (30,10))\n",
    "for d, n in enumerate([np.percentile(aux7['gmv_value_brl'], 5), np.percentile(aux7['gmv_value_brl'], 10), \n",
    "                       np.percentile(aux7['gmv_value_brl'], 25), np.percentile(aux7['gmv_value_brl'], 50),\n",
    "                       np.percentile(aux7['gmv_value_brl'], 75), np.percentile(aux7['gmv_value_brl'], 95)]):\n",
    "    plt.subplot(3,2,d+1)\n",
    "    if d == 0:\n",
    "        aux8 = aux7[(aux7['gmv_value_brl'] <= n)]\n",
    "        prev_n = n\n",
    "    else:\n",
    "        aux8 = aux7[(aux7['gmv_value_brl'] > prev_n) & (aux7['gmv_value_brl'] <= n)]\n",
    "    sns.set_style('white')\n",
    "    splot = sns.histplot(data = aux8, x = 'gmv_value_brl', hue = 'class',\n",
    "                                      palette = {'below': 'darkcyan', 'above': 'darkorange'},   element = 'step')\n",
    "    splot.axes.get_yaxis().set_visible(False)\n",
    "    if d == 0:\n",
    "        plt.title(f\"5th perc. (0-{n:.2f} BRL) | Users: {aux8['user_buyer_id'].nunique():,}\")\n",
    "        splot.axes.get_yaxis().set_visible(True)\n",
    "        splot.get_legend().remove()\n",
    "        plt.xlabel('')\n",
    "        plt.ylabel('users')\n",
    "    if d == 1:\n",
    "        plt.title(f\"10th perc. ({(prev_n):.2f}-{n:.2f} BRL) | Users: {aux8['user_buyer_id'].nunique():,}\")\n",
    "        prev_n = n\n",
    "        splot.axes.get_yaxis().set_visible(True)\n",
    "        plt.xlabel('')\n",
    "        plt.ylabel('')\n",
    "        sns.move_legend(splot, \"center left\", bbox_to_anchor=(1, 0.5), title='Species')\n",
    "    if d == 2:\n",
    "        plt.title(f\"25th perc. ({(prev_n):.2f}-{n:.2f} BRL) | Users: {aux8['user_buyer_id'].nunique():,}\")\n",
    "        prev_n = n   \n",
    "        splot.axes.get_yaxis().set_visible(True)\n",
    "        splot.get_legend().remove()\n",
    "        plt.xlabel('')\n",
    "        plt.ylabel('users')\n",
    "    if d == 3:\n",
    "        plt.title(f\"50th perc. ({(prev_n):.2f}-{n:.2f} BRL) | Users: {aux8['user_buyer_id'].nunique():,}\")\n",
    "        prev_n = n\n",
    "        splot.axes.get_yaxis().set_visible(True)\n",
    "        splot.get_legend().remove()\n",
    "        plt.xlabel('')\n",
    "        plt.ylabel('')\n",
    "    if d == 4:\n",
    "        plt.title(f\"75th perc. ({(prev_n):.2f}-{n:.2f} BRL) | Users: {aux8['user_buyer_id'].nunique():,}\")\n",
    "        prev_n = n   \n",
    "        splot.axes.get_yaxis().set_visible(True)\n",
    "        splot.get_legend().remove()\n",
    "        plt.xlabel('Customer GMV LTV')\n",
    "        plt.ylabel('users')\n",
    "    if d == 5:\n",
    "        plt.title(f\"90th perc. ({(prev_n):.2f}-{n:,.2f} BRL) | Users: {aux8['user_buyer_id'].nunique():,}\")\n",
    "        prev_n = n\n",
    "        splot.axes.get_yaxis().set_visible(True)\n",
    "        splot.get_legend().remove()\n",
    "        plt.xlabel('Customer GMV LTV')\n",
    "        plt.ylabel('')\n",
    "plt.subplots_adjust(wspace=0.1)\n",
    "plt.subplots_adjust(hspace=0.55)\n",
    "plt.show()"
   ]
  },
  {
   "cell_type": "markdown",
   "metadata": {},
   "source": [
    "#### Producer segment"
   ]
  },
  {
   "cell_type": "code",
   "execution_count": null,
   "metadata": {
    "ExecuteTime": {
     "end_time": "2022-09-15T17:58:20.311437Z",
     "start_time": "2022-09-15T17:57:37.539704Z"
    },
    "scrolled": false
   },
   "outputs": [],
   "source": [
    "# get producer office\n",
    "plt.figure(figsize = (30,10))\n",
    "descr_stats = pd.DataFrame()\n",
    "\n",
    "for n, d in enumerate(['SEED', 'SMALL', 'MEDIUM', 'LARGE']):\n",
    "    plt.subplot(1,4,n+1)\n",
    "    # get only repurchases\n",
    "    aux1 = df3[df3['segment'] == d]\n",
    "    aux1['purchase_id2'] = aux1.sort_values('purchase_order_datetime').groupby('user_buyer_id')['purchase_id'].shift(-1)\n",
    "    aux1['2nd_purchase'] = aux1.sort_values('purchase_order_datetime').groupby('user_buyer_id')['purchase_order_datetime'].shift(-1)\n",
    "    aux1 = aux1[aux1['purchase_id2'].notnull()]\n",
    "\n",
    "    # delta\n",
    "    aux1['delta_days'] = (aux1['2nd_purchase'] - aux1['purchase_order_datetime']).dt.total_seconds() / 60 / 60 /24\n",
    "    aux1['delta_sec'] = (aux1['2nd_purchase'] - aux1['purchase_order_datetime']).dt.total_seconds() \n",
    "    # get median delta per user\n",
    "    aux2 = aux1[['user_buyer_id', 'delta_days']].groupby('user_buyer_id').median().reset_index()\n",
    "    aux2.columns = ['user_buyer_id', 'median_delta_days_user']\n",
    "    median_threshold= np.percentile(aux2[['median_delta_days_user']], 50)\n",
    "    aux3 = aux2.copy()\n",
    "    aux3.columns = ['user_buyer_id', d]\n",
    "    descr_stats = descr_stats.append(get_descriptive_statistics(aux3[[d]]))\n",
    "    \n",
    "    sns.set_style('white')\n",
    "    splot = sns.kdeplot(data = aux2, x = 'median_delta_days_user', color = '#EF4E23', fill=True, alpha=.1, linewidth=2\n",
    "            )\n",
    "    plt.title(f\"{d} | N: {(len(aux2)):,}\")\n",
    "\n",
    "    label_median = f\"median ({aux2['median_delta_days_user'].median():.1f}d)\"\n",
    "    plt.axvline(x=aux2['median_delta_days_user'].median(), label = label_median, color = 'black')\n",
    "    plt.legend()\n",
    "    plt.xlabel('median delta (days)')\n",
    "    plt.ylabel('')    \n",
    "    if n == 0:\n",
    "        plt.ylabel('buyers') \n",
    "\n",
    "# plt.subplots_adjust(hspace=0.3)\n",
    "plt.subplots_adjust(wspace=0.4)\n",
    "plt.show()"
   ]
  },
  {
   "cell_type": "code",
   "execution_count": null,
   "metadata": {
    "ExecuteTime": {
     "end_time": "2022-09-15T17:37:00.437661Z",
     "start_time": "2022-09-15T17:37:00.416733Z"
    },
    "scrolled": true
   },
   "outputs": [],
   "source": [
    "# median time to repurchase\n",
    "descr_stats"
   ]
  },
  {
   "cell_type": "markdown",
   "metadata": {
    "heading_collapsed": true
   },
   "source": [
    "#### Producer segment - GMV from users who repurchase above median time vs below"
   ]
  },
  {
   "cell_type": "markdown",
   "metadata": {
    "heading_collapsed": true,
    "hidden": true
   },
   "source": [
    "##### SEED"
   ]
  },
  {
   "cell_type": "code",
   "execution_count": null,
   "metadata": {
    "ExecuteTime": {
     "end_time": "2022-08-23T14:07:29.615951Z",
     "start_time": "2022-08-23T14:07:21.777356Z"
    },
    "hidden": true
   },
   "outputs": [],
   "source": [
    "# get only repurchases\n",
    "name = 'SEED'\n",
    "aux1 = df3[df3['segment'] == name]\n",
    "aux1['purchase_id2'] = aux1.sort_values('purchase_order_datetime').groupby('user_buyer_id')['purchase_id'].shift(-1)\n",
    "aux1['2nd_purchase'] = aux1.sort_values('purchase_order_datetime').groupby('user_buyer_id')['purchase_order_datetime'].shift(-1)\n",
    "aux1 = aux1[aux1['purchase_id2'].notnull()]\n",
    "\n",
    "# delta\n",
    "aux1['delta_days'] = (aux1['2nd_purchase'] - aux1['purchase_order_datetime']).dt.total_seconds() / 60 / 60 /24\n",
    "aux1['delta_sec'] = (aux1['2nd_purchase'] - aux1['purchase_order_datetime']).dt.total_seconds() \n",
    "\n",
    "# get users who have median threshold\n",
    "aux2 = aux1[['user_buyer_id', 'delta_days']].groupby('user_buyer_id').median().reset_index()\n",
    "aux2.columns = ['user_buyer_id', 'median_delta_days_user']\n",
    "median_threshold= np.percentile(aux2[['median_delta_days_user']], 50)\n",
    "print(f\"Number of Repurchases: {len(aux1):,}\") \n",
    "print(f\"50th percentile: {median_threshold:.2f} days\") \n",
    "# merge df\n",
    "aux3 = aux1.merge(aux2, how = 'inner', on = 'user_buyer_id')\n",
    "# flag users\n",
    "aux3['class'] = aux3['median_delta_days_user'].apply(lambda x : 'above' if x >= median_threshold\n",
    "                                        else 'below')\n",
    "get_descriptive_statistics(aux2[['median_delta_days_user']])"
   ]
  },
  {
   "cell_type": "code",
   "execution_count": null,
   "metadata": {
    "ExecuteTime": {
     "end_time": "2022-08-23T14:07:45.094090Z",
     "start_time": "2022-08-23T14:07:29.617822Z"
    },
    "hidden": true
   },
   "outputs": [],
   "source": [
    "# get df \n",
    "aux4 = df3.merge(aux3[['user_buyer_id', 'class']].drop_duplicates(), how = 'inner', on = 'user_buyer_id')\n",
    "aux4 = aux4[aux4['segment'] == name][['user_buyer_id', 'class', 'gmv_value_brl']]\n",
    "# get users below threshold\n",
    "aux5 = aux4[aux4['class'] == 'below'][['user_buyer_id', 'gmv_value_brl']].groupby('user_buyer_id').sum().reset_index()\n",
    "aux5.columns = ['user_buyer_id', 'below']\n",
    "# get users above threshold\n",
    "aux6 = aux4[aux4['class'] == 'above'][['user_buyer_id', 'gmv_value_brl']].groupby('user_buyer_id').sum().reset_index()\n",
    "aux6.columns = ['user_buyer_id', 'above']\n",
    "pd.concat([get_descriptive_statistics(aux5[['below']]), get_descriptive_statistics(aux6[['above']])])"
   ]
  },
  {
   "cell_type": "code",
   "execution_count": null,
   "metadata": {
    "ExecuteTime": {
     "end_time": "2022-08-23T14:07:46.196459Z",
     "start_time": "2022-08-23T14:07:45.096521Z"
    },
    "hidden": true
   },
   "outputs": [],
   "source": [
    "aux7 = aux4[['user_buyer_id', 'class', 'gmv_value_brl']].groupby(['user_buyer_id', 'class']).sum().reset_index()\n",
    "plt.figure(figsize = (30,10))\n",
    "for d, n in enumerate([np.percentile(aux7['gmv_value_brl'], 5), np.percentile(aux7['gmv_value_brl'], 10), \n",
    "                       np.percentile(aux7['gmv_value_brl'], 25), np.percentile(aux7['gmv_value_brl'], 50),\n",
    "                       np.percentile(aux7['gmv_value_brl'], 75), np.percentile(aux7['gmv_value_brl'], 95)]):\n",
    "    plt.subplot(3,2,d+1)\n",
    "    if d == 0:\n",
    "        aux8 = aux7[(aux7['gmv_value_brl'] <= n)]\n",
    "        prev_n = n\n",
    "    else:\n",
    "        aux8 = aux7[(aux7['gmv_value_brl'] > prev_n) & (aux7['gmv_value_brl'] <= n)]\n",
    "    sns.set_style('white')\n",
    "    splot = sns.histplot(data = aux8, x = 'gmv_value_brl', hue = 'class',\n",
    "                                      palette = {'below': 'darkcyan', 'above': 'darkorange'},   element = 'step')\n",
    "    splot.axes.get_yaxis().set_visible(False)\n",
    "    if d == 0:\n",
    "        plt.title(f\"5th perc. (0-{n:.2f} BRL) | Users: {aux8['user_buyer_id'].nunique():,}\")\n",
    "        splot.axes.get_yaxis().set_visible(True)\n",
    "        splot.get_legend().remove()\n",
    "        plt.xlabel('')\n",
    "        plt.ylabel('users')\n",
    "    if d == 1:\n",
    "        plt.title(f\"10th perc. ({(prev_n):.2f}-{n:.2f} BRL) | Users: {aux8['user_buyer_id'].nunique():,}\")\n",
    "        prev_n = n\n",
    "        splot.axes.get_yaxis().set_visible(True)\n",
    "        plt.xlabel('')\n",
    "        plt.ylabel('')\n",
    "        sns.move_legend(splot, \"center left\", bbox_to_anchor=(1, 0.5), title='Species')\n",
    "    if d == 2:\n",
    "        plt.title(f\"25th perc. ({(prev_n):.2f}-{n:.2f} BRL) | Users: {aux8['user_buyer_id'].nunique():,}\")\n",
    "        prev_n = n   \n",
    "        splot.axes.get_yaxis().set_visible(True)\n",
    "        splot.get_legend().remove()\n",
    "        plt.xlabel('')\n",
    "        plt.ylabel('users')\n",
    "    if d == 3:\n",
    "        plt.title(f\"50th perc. ({(prev_n):.2f}-{n:.2f} BRL) | Users: {aux8['user_buyer_id'].nunique():,}\")\n",
    "        prev_n = n\n",
    "        splot.axes.get_yaxis().set_visible(True)\n",
    "        splot.get_legend().remove()\n",
    "        plt.xlabel('')\n",
    "        plt.ylabel('')\n",
    "    if d == 4:\n",
    "        plt.title(f\"75th perc. ({(prev_n):.2f}-{n:.2f} BRL) | Users: {aux8['user_buyer_id'].nunique():,}\")\n",
    "        prev_n = n   \n",
    "        splot.axes.get_yaxis().set_visible(True)\n",
    "        splot.get_legend().remove()\n",
    "        plt.xlabel('Customer GMV LTV')\n",
    "        plt.ylabel('users')\n",
    "    if d == 5:\n",
    "        plt.title(f\"90th perc. ({(prev_n):.2f}-{n:,.2f} BRL) | Users: {aux8['user_buyer_id'].nunique():,}\")\n",
    "        prev_n = n\n",
    "        splot.axes.get_yaxis().set_visible(True)\n",
    "        splot.get_legend().remove()\n",
    "        plt.xlabel('Customer GMV LTV')\n",
    "        plt.ylabel('')\n",
    "plt.subplots_adjust(wspace=0.1)\n",
    "plt.subplots_adjust(hspace=0.55)\n",
    "plt.show()"
   ]
  },
  {
   "cell_type": "markdown",
   "metadata": {
    "heading_collapsed": true,
    "hidden": true
   },
   "source": [
    "##### SMALL"
   ]
  },
  {
   "cell_type": "code",
   "execution_count": null,
   "metadata": {
    "ExecuteTime": {
     "end_time": "2022-08-23T14:08:04.140061Z",
     "start_time": "2022-08-23T14:07:46.198247Z"
    },
    "hidden": true
   },
   "outputs": [],
   "source": [
    "# get only repurchases\n",
    "name = 'SMALL'\n",
    "aux1 = df3[df3['segment'] == name]\n",
    "aux1['purchase_id2'] = aux1.sort_values('purchase_order_datetime').groupby('user_buyer_id')['purchase_id'].shift(-1)\n",
    "aux1['2nd_purchase'] = aux1.sort_values('purchase_order_datetime').groupby('user_buyer_id')['purchase_order_datetime'].shift(-1)\n",
    "aux1 = aux1[aux1['purchase_id2'].notnull()]\n",
    "\n",
    "# delta\n",
    "aux1['delta_days'] = (aux1['2nd_purchase'] - aux1['purchase_order_datetime']).dt.total_seconds() / 60 / 60 /24\n",
    "aux1['delta_sec'] = (aux1['2nd_purchase'] - aux1['purchase_order_datetime']).dt.total_seconds() \n",
    "\n",
    "# get users who have median threshold\n",
    "aux2 = aux1[['user_buyer_id', 'delta_days']].groupby('user_buyer_id').median().reset_index()\n",
    "aux2.columns = ['user_buyer_id', 'median_delta_days_user']\n",
    "median_threshold= np.percentile(aux2[['median_delta_days_user']], 50)\n",
    "print(f\"Number of Repurchases: {len(aux1):,}\") \n",
    "print(f\"50th percentile: {median_threshold:.2f} days\") \n",
    "# merge df\n",
    "aux3 = aux1.merge(aux2, how = 'inner', on = 'user_buyer_id')\n",
    "# flag users\n",
    "aux3['class'] = aux3['median_delta_days_user'].apply(lambda x : 'above' if x >= median_threshold\n",
    "                                        else 'below')\n",
    "get_descriptive_statistics(aux2[['median_delta_days_user']])"
   ]
  },
  {
   "cell_type": "code",
   "execution_count": null,
   "metadata": {
    "ExecuteTime": {
     "end_time": "2022-08-23T14:08:38.481136Z",
     "start_time": "2022-08-23T14:08:04.143123Z"
    },
    "hidden": true
   },
   "outputs": [],
   "source": [
    "# get df \n",
    "aux4 = df3.merge(aux3[['user_buyer_id', 'class']].drop_duplicates(), how = 'inner', on = 'user_buyer_id')\n",
    "aux4 = aux4[aux4['segment'] == name][['user_buyer_id', 'class', 'gmv_value_brl']]\n",
    "# get users below threshold\n",
    "aux5 = aux4[aux4['class'] == 'below'][['user_buyer_id', 'gmv_value_brl']].groupby('user_buyer_id').sum().reset_index()\n",
    "aux5.columns = ['user_buyer_id', 'below']\n",
    "# get users above threshold\n",
    "aux6 = aux4[aux4['class'] == 'above'][['user_buyer_id', 'gmv_value_brl']].groupby('user_buyer_id').sum().reset_index()\n",
    "aux6.columns = ['user_buyer_id', 'above']\n",
    "pd.concat([get_descriptive_statistics(aux5[['below']]), get_descriptive_statistics(aux6[['above']])])"
   ]
  },
  {
   "cell_type": "code",
   "execution_count": null,
   "metadata": {
    "ExecuteTime": {
     "end_time": "2022-08-23T14:08:39.759893Z",
     "start_time": "2022-08-23T14:08:38.483235Z"
    },
    "hidden": true
   },
   "outputs": [],
   "source": [
    "aux7 = aux4[['user_buyer_id', 'class', 'gmv_value_brl']].groupby(['user_buyer_id', 'class']).sum().reset_index()\n",
    "plt.figure(figsize = (30,10))\n",
    "for d, n in enumerate([np.percentile(aux7['gmv_value_brl'], 5), np.percentile(aux7['gmv_value_brl'], 10), \n",
    "                       np.percentile(aux7['gmv_value_brl'], 25), np.percentile(aux7['gmv_value_brl'], 50),\n",
    "                       np.percentile(aux7['gmv_value_brl'], 75), np.percentile(aux7['gmv_value_brl'], 95)]):\n",
    "    plt.subplot(3,2,d+1)\n",
    "    if d == 0:\n",
    "        aux8 = aux7[(aux7['gmv_value_brl'] <= n)]\n",
    "        prev_n = n\n",
    "    else:\n",
    "        aux8 = aux7[(aux7['gmv_value_brl'] > prev_n) & (aux7['gmv_value_brl'] <= n)]\n",
    "    sns.set_style('white')\n",
    "    splot = sns.histplot(data = aux8, x = 'gmv_value_brl', hue = 'class',\n",
    "                                      palette = {'below': 'darkcyan', 'above': 'darkorange'},   element = 'step')\n",
    "    splot.axes.get_yaxis().set_visible(False)\n",
    "    if d == 0:\n",
    "        plt.title(f\"5th perc. (0-{n:.2f} BRL) | Users: {aux8['user_buyer_id'].nunique():,}\")\n",
    "        splot.axes.get_yaxis().set_visible(True)\n",
    "        splot.get_legend().remove()\n",
    "        plt.xlabel('')\n",
    "        plt.ylabel('users')\n",
    "    if d == 1:\n",
    "        plt.title(f\"10th perc. ({(prev_n):.2f}-{n:.2f} BRL) | Users: {aux8['user_buyer_id'].nunique():,}\")\n",
    "        prev_n = n\n",
    "        splot.axes.get_yaxis().set_visible(True)\n",
    "        plt.xlabel('')\n",
    "        plt.ylabel('')\n",
    "        sns.move_legend(splot, \"center left\", bbox_to_anchor=(1, 0.5), title='Species')\n",
    "    if d == 2:\n",
    "        plt.title(f\"25th perc. ({(prev_n):.2f}-{n:.2f} BRL) | Users: {aux8['user_buyer_id'].nunique():,}\")\n",
    "        prev_n = n   \n",
    "        splot.axes.get_yaxis().set_visible(True)\n",
    "        splot.get_legend().remove()\n",
    "        plt.xlabel('')\n",
    "        plt.ylabel('users')\n",
    "    if d == 3:\n",
    "        plt.title(f\"50th perc. ({(prev_n):.2f}-{n:.2f} BRL) | Users: {aux8['user_buyer_id'].nunique():,}\")\n",
    "        prev_n = n\n",
    "        splot.axes.get_yaxis().set_visible(True)\n",
    "        splot.get_legend().remove()\n",
    "        plt.xlabel('')\n",
    "        plt.ylabel('')\n",
    "    if d == 4:\n",
    "        plt.title(f\"75th perc. ({(prev_n):.2f}-{n:.2f} BRL) | Users: {aux8['user_buyer_id'].nunique():,}\")\n",
    "        prev_n = n   \n",
    "        splot.axes.get_yaxis().set_visible(True)\n",
    "        splot.get_legend().remove()\n",
    "        plt.xlabel('Customer GMV LTV')\n",
    "        plt.ylabel('users')\n",
    "    if d == 5:\n",
    "        plt.title(f\"90th perc. ({(prev_n):.2f}-{n:,.2f} BRL) | Users: {aux8['user_buyer_id'].nunique():,}\")\n",
    "        prev_n = n\n",
    "        splot.axes.get_yaxis().set_visible(True)\n",
    "        splot.get_legend().remove()\n",
    "        plt.xlabel('Customer GMV LTV')\n",
    "        plt.ylabel('')\n",
    "plt.subplots_adjust(wspace=0.1)\n",
    "plt.subplots_adjust(hspace=0.55)\n",
    "plt.show()"
   ]
  },
  {
   "cell_type": "markdown",
   "metadata": {
    "heading_collapsed": true,
    "hidden": true
   },
   "source": [
    "##### MEDIUM"
   ]
  },
  {
   "cell_type": "code",
   "execution_count": null,
   "metadata": {
    "ExecuteTime": {
     "end_time": "2022-08-23T14:08:56.268503Z",
     "start_time": "2022-08-23T14:08:39.761748Z"
    },
    "hidden": true
   },
   "outputs": [],
   "source": [
    "# get only repurchases\n",
    "name = 'MEDIUM'\n",
    "aux1 = df3[df3['segment'] == name]\n",
    "aux1['purchase_id2'] = aux1.sort_values('purchase_order_datetime').groupby('user_buyer_id')['purchase_id'].shift(-1)\n",
    "aux1['2nd_purchase'] = aux1.sort_values('purchase_order_datetime').groupby('user_buyer_id')['purchase_order_datetime'].shift(-1)\n",
    "aux1 = aux1[aux1['purchase_id2'].notnull()]\n",
    "\n",
    "# delta\n",
    "aux1['delta_days'] = (aux1['2nd_purchase'] - aux1['purchase_order_datetime']).dt.total_seconds() / 60 / 60 /24\n",
    "aux1['delta_sec'] = (aux1['2nd_purchase'] - aux1['purchase_order_datetime']).dt.total_seconds() \n",
    "\n",
    "# get users who have median threshold\n",
    "aux2 = aux1[['user_buyer_id', 'delta_days']].groupby('user_buyer_id').median().reset_index()\n",
    "aux2.columns = ['user_buyer_id', 'median_delta_days_user']\n",
    "median_threshold= np.percentile(aux2[['median_delta_days_user']], 50)\n",
    "print(f\"Number of Repurchases: {len(aux1):,}\") \n",
    "print(f\"50th percentile: {median_threshold:.2f} days\") \n",
    "# merge df\n",
    "aux3 = aux1.merge(aux2, how = 'inner', on = 'user_buyer_id')\n",
    "# flag users\n",
    "aux3['class'] = aux3['median_delta_days_user'].apply(lambda x : 'above' if x >= median_threshold\n",
    "                                        else 'below')\n",
    "get_descriptive_statistics(aux2[['median_delta_days_user']])"
   ]
  },
  {
   "cell_type": "code",
   "execution_count": null,
   "metadata": {
    "ExecuteTime": {
     "end_time": "2022-08-23T14:09:27.597192Z",
     "start_time": "2022-08-23T14:08:56.271225Z"
    },
    "hidden": true
   },
   "outputs": [],
   "source": [
    "# get df \n",
    "aux4 = df3.merge(aux3[['user_buyer_id', 'class']].drop_duplicates(), how = 'inner', on = 'user_buyer_id')\n",
    "aux4 = aux4[aux4['segment'] == name][['user_buyer_id', 'class', 'gmv_value_brl']]\n",
    "# get users below threshold\n",
    "aux5 = aux4[aux4['class'] == 'below'][['user_buyer_id', 'gmv_value_brl']].groupby('user_buyer_id').sum().reset_index()\n",
    "aux5.columns = ['user_buyer_id', 'below']\n",
    "# get users above threshold\n",
    "aux6 = aux4[aux4['class'] == 'above'][['user_buyer_id', 'gmv_value_brl']].groupby('user_buyer_id').sum().reset_index()\n",
    "aux6.columns = ['user_buyer_id', 'above']\n",
    "pd.concat([get_descriptive_statistics(aux5[['below']]), get_descriptive_statistics(aux6[['above']])])"
   ]
  },
  {
   "cell_type": "code",
   "execution_count": null,
   "metadata": {
    "ExecuteTime": {
     "end_time": "2022-08-23T14:09:28.885815Z",
     "start_time": "2022-08-23T14:09:27.599020Z"
    },
    "hidden": true
   },
   "outputs": [],
   "source": [
    "aux7 = aux4[['user_buyer_id', 'class', 'gmv_value_brl']].groupby(['user_buyer_id', 'class']).sum().reset_index()\n",
    "plt.figure(figsize = (30,10))\n",
    "for d, n in enumerate([np.percentile(aux7['gmv_value_brl'], 5), np.percentile(aux7['gmv_value_brl'], 10), \n",
    "                       np.percentile(aux7['gmv_value_brl'], 25), np.percentile(aux7['gmv_value_brl'], 50),\n",
    "                       np.percentile(aux7['gmv_value_brl'], 75), np.percentile(aux7['gmv_value_brl'], 95)]):\n",
    "    plt.subplot(3,2,d+1)\n",
    "    if d == 0:\n",
    "        aux8 = aux7[(aux7['gmv_value_brl'] <= n)]\n",
    "        prev_n = n\n",
    "    else:\n",
    "        aux8 = aux7[(aux7['gmv_value_brl'] > prev_n) & (aux7['gmv_value_brl'] <= n)]\n",
    "    sns.set_style('white')\n",
    "    splot = sns.histplot(data = aux8, x = 'gmv_value_brl', hue = 'class',\n",
    "                                      palette = {'below': 'darkcyan', 'above': 'darkorange'},   element = 'step')\n",
    "    splot.axes.get_yaxis().set_visible(False)\n",
    "    if d == 0:\n",
    "        plt.title(f\"5th perc. (0-{n:.2f} BRL) | Users: {aux8['user_buyer_id'].nunique():,}\")\n",
    "        splot.axes.get_yaxis().set_visible(True)\n",
    "        splot.get_legend().remove()\n",
    "        plt.xlabel('')\n",
    "        plt.ylabel('users')\n",
    "    if d == 1:\n",
    "        plt.title(f\"10th perc. ({(prev_n):.2f}-{n:.2f} BRL) | Users: {aux8['user_buyer_id'].nunique():,}\")\n",
    "        prev_n = n\n",
    "        splot.axes.get_yaxis().set_visible(True)\n",
    "        plt.xlabel('')\n",
    "        plt.ylabel('')\n",
    "        sns.move_legend(splot, \"center left\", bbox_to_anchor=(1, 0.5), title='Species')\n",
    "    if d == 2:\n",
    "        plt.title(f\"25th perc. ({(prev_n):.2f}-{n:.2f} BRL) | Users: {aux8['user_buyer_id'].nunique():,}\")\n",
    "        prev_n = n   \n",
    "        splot.axes.get_yaxis().set_visible(True)\n",
    "        splot.get_legend().remove()\n",
    "        plt.xlabel('')\n",
    "        plt.ylabel('users')\n",
    "    if d == 3:\n",
    "        plt.title(f\"50th perc. ({(prev_n):.2f}-{n:.2f} BRL) | Users: {aux8['user_buyer_id'].nunique():,}\")\n",
    "        prev_n = n\n",
    "        splot.axes.get_yaxis().set_visible(True)\n",
    "        splot.get_legend().remove()\n",
    "        plt.xlabel('')\n",
    "        plt.ylabel('')\n",
    "    if d == 4:\n",
    "        plt.title(f\"75th perc. ({(prev_n):.2f}-{n:.2f} BRL) | Users: {aux8['user_buyer_id'].nunique():,}\")\n",
    "        prev_n = n   \n",
    "        splot.axes.get_yaxis().set_visible(True)\n",
    "        splot.get_legend().remove()\n",
    "        plt.xlabel('Customer GMV LTV')\n",
    "        plt.ylabel('users')\n",
    "    if d == 5:\n",
    "        plt.title(f\"90th perc. ({(prev_n):.2f}-{n:,.2f} BRL) | Users: {aux8['user_buyer_id'].nunique():,}\")\n",
    "        prev_n = n\n",
    "        splot.axes.get_yaxis().set_visible(True)\n",
    "        splot.get_legend().remove()\n",
    "        plt.xlabel('Customer GMV LTV')\n",
    "        plt.ylabel('')\n",
    "plt.subplots_adjust(wspace=0.1)\n",
    "plt.subplots_adjust(hspace=0.55)\n",
    "plt.show()"
   ]
  },
  {
   "cell_type": "markdown",
   "metadata": {
    "heading_collapsed": true,
    "hidden": true
   },
   "source": [
    "##### LARGE"
   ]
  },
  {
   "cell_type": "code",
   "execution_count": null,
   "metadata": {
    "ExecuteTime": {
     "end_time": "2022-08-23T14:09:33.048860Z",
     "start_time": "2022-08-23T14:09:28.888714Z"
    },
    "hidden": true
   },
   "outputs": [],
   "source": [
    "# get only repurchases\n",
    "name = 'LARGE'\n",
    "aux1 = df3[df3['segment'] == name]\n",
    "aux1['purchase_id2'] = aux1.sort_values('purchase_order_datetime').groupby('user_buyer_id')['purchase_id'].shift(-1)\n",
    "aux1['2nd_purchase'] = aux1.sort_values('purchase_order_datetime').groupby('user_buyer_id')['purchase_order_datetime'].shift(-1)\n",
    "aux1 = aux1[aux1['purchase_id2'].notnull()]\n",
    "\n",
    "# delta\n",
    "aux1['delta_days'] = (aux1['2nd_purchase'] - aux1['purchase_order_datetime']).dt.total_seconds() / 60 / 60 /24\n",
    "aux1['delta_sec'] = (aux1['2nd_purchase'] - aux1['purchase_order_datetime']).dt.total_seconds() \n",
    "\n",
    "# get users who have median threshold\n",
    "aux2 = aux1[['user_buyer_id', 'delta_days']].groupby('user_buyer_id').median().reset_index()\n",
    "aux2.columns = ['user_buyer_id', 'median_delta_days_user']\n",
    "median_threshold= np.percentile(aux2[['median_delta_days_user']], 50)\n",
    "print(f\"Number of Repurchases: {len(aux1):,}\") \n",
    "print(f\"50th percentile: {median_threshold:.2f} days\") \n",
    "# merge df\n",
    "aux3 = aux1.merge(aux2, how = 'inner', on = 'user_buyer_id')\n",
    "# flag users\n",
    "aux3['class'] = aux3['median_delta_days_user'].apply(lambda x : 'above' if x >= median_threshold\n",
    "                                        else 'below')\n",
    "get_descriptive_statistics(aux2[['median_delta_days_user']])"
   ]
  },
  {
   "cell_type": "code",
   "execution_count": null,
   "metadata": {
    "ExecuteTime": {
     "end_time": "2022-08-23T14:09:41.003265Z",
     "start_time": "2022-08-23T14:09:33.052041Z"
    },
    "hidden": true
   },
   "outputs": [],
   "source": [
    "# get df \n",
    "aux4 = df3.merge(aux3[['user_buyer_id', 'class']].drop_duplicates(), how = 'inner', on = 'user_buyer_id')\n",
    "aux4 = aux4[aux4['segment'] == name][['user_buyer_id', 'class', 'gmv_value_brl']]\n",
    "# get users below threshold\n",
    "aux5 = aux4[aux4['class'] == 'below'][['user_buyer_id', 'gmv_value_brl']].groupby('user_buyer_id').sum().reset_index()\n",
    "aux5.columns = ['user_buyer_id', 'below']\n",
    "# get users above threshold\n",
    "aux6 = aux4[aux4['class'] == 'above'][['user_buyer_id', 'gmv_value_brl']].groupby('user_buyer_id').sum().reset_index()\n",
    "aux6.columns = ['user_buyer_id', 'above']\n",
    "pd.concat([get_descriptive_statistics(aux5[['below']]), get_descriptive_statistics(aux6[['above']])])"
   ]
  },
  {
   "cell_type": "code",
   "execution_count": null,
   "metadata": {
    "ExecuteTime": {
     "end_time": "2022-08-23T14:09:41.996573Z",
     "start_time": "2022-08-23T14:09:41.005530Z"
    },
    "hidden": true
   },
   "outputs": [],
   "source": [
    "aux7 = aux4[['user_buyer_id', 'class', 'gmv_value_brl']].groupby(['user_buyer_id', 'class']).sum().reset_index()\n",
    "plt.figure(figsize = (30,10))\n",
    "for d, n in enumerate([np.percentile(aux7['gmv_value_brl'], 5), np.percentile(aux7['gmv_value_brl'], 10), \n",
    "                       np.percentile(aux7['gmv_value_brl'], 25), np.percentile(aux7['gmv_value_brl'], 50),\n",
    "                       np.percentile(aux7['gmv_value_brl'], 75), np.percentile(aux7['gmv_value_brl'], 95)]):\n",
    "    plt.subplot(3,2,d+1)\n",
    "    if d == 0:\n",
    "        aux8 = aux7[(aux7['gmv_value_brl'] <= n)]\n",
    "        prev_n = n\n",
    "    else:\n",
    "        aux8 = aux7[(aux7['gmv_value_brl'] > prev_n) & (aux7['gmv_value_brl'] <= n)]\n",
    "    sns.set_style('white')\n",
    "    splot = sns.histplot(data = aux8, x = 'gmv_value_brl', hue = 'class',\n",
    "                                      palette = {'below': 'darkcyan', 'above': 'darkorange'},   element = 'step')\n",
    "    splot.axes.get_yaxis().set_visible(False)\n",
    "    if d == 0:\n",
    "        plt.title(f\"5th perc. (0-{n:.2f} BRL) | Users: {aux8['user_buyer_id'].nunique():,}\")\n",
    "        splot.axes.get_yaxis().set_visible(True)\n",
    "        splot.get_legend().remove()\n",
    "        plt.xlabel('')\n",
    "        plt.ylabel('users')\n",
    "    if d == 1:\n",
    "        plt.title(f\"10th perc. ({(prev_n):.2f}-{n:.2f} BRL) | Users: {aux8['user_buyer_id'].nunique():,}\")\n",
    "        prev_n = n\n",
    "        splot.axes.get_yaxis().set_visible(True)\n",
    "        plt.xlabel('')\n",
    "        plt.ylabel('')\n",
    "        sns.move_legend(splot, \"center left\", bbox_to_anchor=(1, 0.5), title='Species')\n",
    "    if d == 2:\n",
    "        plt.title(f\"25th perc. ({(prev_n):.2f}-{n:.2f} BRL) | Users: {aux8['user_buyer_id'].nunique():,}\")\n",
    "        prev_n = n   \n",
    "        splot.axes.get_yaxis().set_visible(True)\n",
    "        splot.get_legend().remove()\n",
    "        plt.xlabel('')\n",
    "        plt.ylabel('users')\n",
    "    if d == 3:\n",
    "        plt.title(f\"50th perc. ({(prev_n):.2f}-{n:.2f} BRL) | Users: {aux8['user_buyer_id'].nunique():,}\")\n",
    "        prev_n = n\n",
    "        splot.axes.get_yaxis().set_visible(True)\n",
    "        splot.get_legend().remove()\n",
    "        plt.xlabel('')\n",
    "        plt.ylabel('')\n",
    "    if d == 4:\n",
    "        plt.title(f\"75th perc. ({(prev_n):.2f}-{n:.2f} BRL) | Users: {aux8['user_buyer_id'].nunique():,}\")\n",
    "        prev_n = n   \n",
    "        splot.axes.get_yaxis().set_visible(True)\n",
    "        splot.get_legend().remove()\n",
    "        plt.xlabel('Customer GMV LTV')\n",
    "        plt.ylabel('users')\n",
    "    if d == 5:\n",
    "        plt.title(f\"90th perc. ({(prev_n):.2f}-{n:,.2f} BRL) | Users: {aux8['user_buyer_id'].nunique():,}\")\n",
    "        prev_n = n\n",
    "        splot.axes.get_yaxis().set_visible(True)\n",
    "        splot.get_legend().remove()\n",
    "        plt.xlabel('Customer GMV LTV')\n",
    "        plt.ylabel('')\n",
    "plt.subplots_adjust(wspace=0.1)\n",
    "plt.subplots_adjust(hspace=0.55)\n",
    "plt.show()"
   ]
  },
  {
   "cell_type": "markdown",
   "metadata": {
    "heading_collapsed": true
   },
   "source": [
    "#### Producers < 10k BRL LTV"
   ]
  },
  {
   "cell_type": "code",
   "execution_count": null,
   "metadata": {
    "ExecuteTime": {
     "end_time": "2022-08-23T14:10:41.491060Z",
     "start_time": "2022-08-23T14:09:41.998557Z"
    },
    "hidden": true
   },
   "outputs": [],
   "source": [
    "# get producer office\n",
    "plt.figure(figsize = (30,10))\n",
    "descr_stats = pd.DataFrame()\n",
    "for n, d in enumerate(['below', 'above']):\n",
    "    plt.subplot(1,2,n+1)\n",
    "    # get only repurchases\n",
    "    aux1 = df3[df3['is_below_10_entire'] == d]\n",
    "    aux1['purchase_id2'] = aux1.sort_values('purchase_order_datetime').groupby('user_buyer_id')['purchase_id'].shift(-1)\n",
    "    aux1['2nd_purchase'] = aux1.sort_values('purchase_order_datetime').groupby('user_buyer_id')['purchase_order_datetime'].shift(-1)\n",
    "    aux1 = aux1[aux1['purchase_id2'].notnull()]\n",
    "\n",
    "    # delta\n",
    "    aux1['delta_days'] = (aux1['2nd_purchase'] - aux1['purchase_order_datetime']).dt.total_seconds() / 60 / 60 /24\n",
    "    aux1['delta_sec'] = (aux1['2nd_purchase'] - aux1['purchase_order_datetime']).dt.total_seconds() \n",
    "    # get median delta per user\n",
    "    aux2 = aux1[['user_buyer_id', 'delta_days']].groupby('user_buyer_id').median().reset_index()\n",
    "    aux2.columns = ['user_buyer_id', 'median_delta_days_user']\n",
    "    median_threshold= np.percentile(aux2[['median_delta_days_user']], 50)\n",
    "    aux3 = aux2.copy()\n",
    "    aux3.columns = ['user_buyer_id', d]\n",
    "    descr_stats = descr_stats.append(get_descriptive_statistics(aux3[[d]]))\n",
    "\n",
    "\n",
    "    sns.set_style('white')\n",
    "    sns.histplot(data = aux2, x = 'median_delta_days_user', \n",
    "                kde = True, color = 'darkcyan'\n",
    "                )\n",
    "    plt.title(f\"{d} | N: {(len(aux2)):,}\")\n",
    "\n",
    "    label_median = f\"median ({aux2['median_delta_days_user'].median():.1f}d)\"\n",
    "    plt.axvline(x=aux2['median_delta_days_user'].median(), label = label_median, color = 'black')\n",
    "    plt.legend()\n",
    "    plt.xlabel('delta (days)')\n",
    "    plt.ylabel('')    \n",
    "    if n == 0:\n",
    "        plt.ylabel('customers') \n",
    "\n",
    "plt.subplots_adjust(hspace=0.3)\n",
    "# plt.subplots_adjust(wspace=0.2)\n",
    "plt.show()"
   ]
  },
  {
   "cell_type": "code",
   "execution_count": null,
   "metadata": {
    "ExecuteTime": {
     "end_time": "2022-08-23T14:10:41.518168Z",
     "start_time": "2022-08-23T14:10:41.498116Z"
    },
    "hidden": true
   },
   "outputs": [],
   "source": [
    "# median time to repurchase\n",
    "descr_stats"
   ]
  },
  {
   "cell_type": "markdown",
   "metadata": {
    "heading_collapsed": true
   },
   "source": [
    "#### Producers < 10k BRL LTV - GMV from users who repurchase above median time vs below"
   ]
  },
  {
   "cell_type": "markdown",
   "metadata": {
    "heading_collapsed": true,
    "hidden": true
   },
   "source": [
    "##### below"
   ]
  },
  {
   "cell_type": "code",
   "execution_count": null,
   "metadata": {
    "ExecuteTime": {
     "end_time": "2022-08-23T14:10:47.214918Z",
     "start_time": "2022-08-23T14:10:41.520898Z"
    },
    "hidden": true
   },
   "outputs": [],
   "source": [
    "# get only repurchases\n",
    "name = 'below'\n",
    "aux1 = df3[df3['is_below_10_entire'] == name]\n",
    "aux1['purchase_id2'] = aux1.sort_values('purchase_order_datetime').groupby('user_buyer_id')['purchase_id'].shift(-1)\n",
    "aux1['2nd_purchase'] = aux1.sort_values('purchase_order_datetime').groupby('user_buyer_id')['purchase_order_datetime'].shift(-1)\n",
    "aux1 = aux1[aux1['purchase_id2'].notnull()]\n",
    "\n",
    "# delta\n",
    "aux1['delta_days'] = (aux1['2nd_purchase'] - aux1['purchase_order_datetime']).dt.total_seconds() / 60 / 60 /24\n",
    "aux1['delta_sec'] = (aux1['2nd_purchase'] - aux1['purchase_order_datetime']).dt.total_seconds() \n",
    "\n",
    "# get users who have median threshold\n",
    "aux2 = aux1[['user_buyer_id', 'delta_days']].groupby('user_buyer_id').median().reset_index()\n",
    "aux2.columns = ['user_buyer_id', 'median_delta_days_user']\n",
    "median_threshold= np.percentile(aux2[['median_delta_days_user']], 50)\n",
    "print(f\"Number of Repurchases: {len(aux1):,}\") \n",
    "print(f\"50th percentile: {median_threshold:.2f} days\") \n",
    "# merge df\n",
    "aux3 = aux1.merge(aux2, how = 'inner', on = 'user_buyer_id')\n",
    "# flag users\n",
    "aux3['class'] = aux3['median_delta_days_user'].apply(lambda x : 'above' if x >= median_threshold\n",
    "                                        else 'below')\n",
    "get_descriptive_statistics(aux2[['median_delta_days_user']])"
   ]
  },
  {
   "cell_type": "code",
   "execution_count": null,
   "metadata": {
    "ExecuteTime": {
     "end_time": "2022-08-23T14:10:52.453143Z",
     "start_time": "2022-08-23T14:10:47.217467Z"
    },
    "hidden": true
   },
   "outputs": [],
   "source": [
    "# get df \n",
    "aux4 = df3.merge(aux3[['user_buyer_id', 'class']].drop_duplicates(), how = 'inner', on = 'user_buyer_id')\n",
    "aux4 = aux4[aux4['is_below_10_entire'] == name][['user_buyer_id', 'class', 'gmv_value_brl']]\n",
    "# get users below threshold\n",
    "aux5 = aux4[aux4['class'] == 'below'][['user_buyer_id', 'gmv_value_brl']].groupby('user_buyer_id').sum().reset_index()\n",
    "aux5.columns = ['user_buyer_id', 'below']\n",
    "# get users above threshold\n",
    "aux6 = aux4[aux4['class'] == 'above'][['user_buyer_id', 'gmv_value_brl']].groupby('user_buyer_id').sum().reset_index()\n",
    "aux6.columns = ['user_buyer_id', 'above']\n",
    "pd.concat([get_descriptive_statistics(aux5[['below']]), get_descriptive_statistics(aux6[['above']])])"
   ]
  },
  {
   "cell_type": "code",
   "execution_count": null,
   "metadata": {
    "ExecuteTime": {
     "end_time": "2022-08-23T14:10:53.476635Z",
     "start_time": "2022-08-23T14:10:52.455940Z"
    },
    "hidden": true
   },
   "outputs": [],
   "source": [
    "aux7 = aux4[['user_buyer_id', 'class', 'gmv_value_brl']].groupby(['user_buyer_id', 'class']).sum().reset_index()\n",
    "plt.figure(figsize = (30,10))\n",
    "for d, n in enumerate([np.percentile(aux7['gmv_value_brl'], 5), np.percentile(aux7['gmv_value_brl'], 10), \n",
    "                       np.percentile(aux7['gmv_value_brl'], 25), np.percentile(aux7['gmv_value_brl'], 50),\n",
    "                       np.percentile(aux7['gmv_value_brl'], 75), np.percentile(aux7['gmv_value_brl'], 95)]):\n",
    "    plt.subplot(3,2,d+1)\n",
    "    if d == 0:\n",
    "        aux8 = aux7[(aux7['gmv_value_brl'] <= n)]\n",
    "        prev_n = n\n",
    "    else:\n",
    "        aux8 = aux7[(aux7['gmv_value_brl'] > prev_n) & (aux7['gmv_value_brl'] <= n)]\n",
    "    sns.set_style('white')\n",
    "    splot = sns.histplot(data = aux8, x = 'gmv_value_brl', hue = 'class',\n",
    "                                      palette = {'below': 'darkcyan', 'above': 'darkorange'},   element = 'step')\n",
    "    splot.axes.get_yaxis().set_visible(False)\n",
    "    if d == 0:\n",
    "        plt.title(f\"5th perc. (0-{n:.2f} BRL) | Users: {aux8['user_buyer_id'].nunique():,}\")\n",
    "        splot.axes.get_yaxis().set_visible(True)\n",
    "        splot.get_legend().remove()\n",
    "        plt.xlabel('')\n",
    "        plt.ylabel('users')\n",
    "    if d == 1:\n",
    "        plt.title(f\"10th perc. ({(prev_n):.2f}-{n:.2f} BRL) | Users: {aux8['user_buyer_id'].nunique():,}\")\n",
    "        prev_n = n\n",
    "        splot.axes.get_yaxis().set_visible(True)\n",
    "        plt.xlabel('')\n",
    "        plt.ylabel('')\n",
    "        sns.move_legend(splot, \"center left\", bbox_to_anchor=(1, 0.5), title='Species')\n",
    "    if d == 2:\n",
    "        plt.title(f\"25th perc. ({(prev_n):.2f}-{n:.2f} BRL) | Users: {aux8['user_buyer_id'].nunique():,}\")\n",
    "        prev_n = n   \n",
    "        splot.axes.get_yaxis().set_visible(True)\n",
    "        splot.get_legend().remove()\n",
    "        plt.xlabel('')\n",
    "        plt.ylabel('users')\n",
    "    if d == 3:\n",
    "        plt.title(f\"50th perc. ({(prev_n):.2f}-{n:.2f} BRL) | Users: {aux8['user_buyer_id'].nunique():,}\")\n",
    "        prev_n = n\n",
    "        splot.axes.get_yaxis().set_visible(True)\n",
    "        splot.get_legend().remove()\n",
    "        plt.xlabel('')\n",
    "        plt.ylabel('')\n",
    "    if d == 4:\n",
    "        plt.title(f\"75th perc. ({(prev_n):.2f}-{n:.2f} BRL) | Users: {aux8['user_buyer_id'].nunique():,}\")\n",
    "        prev_n = n   \n",
    "        splot.axes.get_yaxis().set_visible(True)\n",
    "        splot.get_legend().remove()\n",
    "        plt.xlabel('Customer GMV LTV')\n",
    "        plt.ylabel('users')\n",
    "    if d == 5:\n",
    "        plt.title(f\"90th perc. ({(prev_n):.2f}-{n:,.2f} BRL) | Users: {aux8['user_buyer_id'].nunique():,}\")\n",
    "        prev_n = n\n",
    "        splot.axes.get_yaxis().set_visible(True)\n",
    "        splot.get_legend().remove()\n",
    "        plt.xlabel('Customer GMV LTV')\n",
    "        plt.ylabel('')\n",
    "plt.subplots_adjust(wspace=0.1)\n",
    "plt.subplots_adjust(hspace=0.55)\n",
    "plt.show()"
   ]
  },
  {
   "cell_type": "markdown",
   "metadata": {
    "heading_collapsed": true,
    "hidden": true
   },
   "source": [
    "##### above"
   ]
  },
  {
   "cell_type": "code",
   "execution_count": null,
   "metadata": {
    "ExecuteTime": {
     "end_time": "2022-08-23T14:12:17.673221Z",
     "start_time": "2022-08-23T14:10:53.479681Z"
    },
    "hidden": true
   },
   "outputs": [],
   "source": [
    "# get only repurchases\n",
    "name = 'above'\n",
    "aux1 = df3[df3['is_below_10_entire'] == name]\n",
    "aux1['purchase_id2'] = aux1.sort_values('purchase_order_datetime').groupby('user_buyer_id')['purchase_id'].shift(-1)\n",
    "aux1['2nd_purchase'] = aux1.sort_values('purchase_order_datetime').groupby('user_buyer_id')['purchase_order_datetime'].shift(-1)\n",
    "aux1 = aux1[aux1['purchase_id2'].notnull()]\n",
    "\n",
    "# delta\n",
    "aux1['delta_days'] = (aux1['2nd_purchase'] - aux1['purchase_order_datetime']).dt.total_seconds() / 60 / 60 /24\n",
    "aux1['delta_sec'] = (aux1['2nd_purchase'] - aux1['purchase_order_datetime']).dt.total_seconds() \n",
    "\n",
    "# get users who have median threshold\n",
    "aux2 = aux1[['user_buyer_id', 'delta_days']].groupby('user_buyer_id').median().reset_index()\n",
    "aux2.columns = ['user_buyer_id', 'median_delta_days_user']\n",
    "median_threshold= np.percentile(aux2[['median_delta_days_user']], 50)\n",
    "print(f\"Number of Repurchases: {len(aux1):,}\") \n",
    "print(f\"50th percentile: {median_threshold:.2f} days\") \n",
    "# merge df\n",
    "aux3 = aux1.merge(aux2, how = 'inner', on = 'user_buyer_id')\n",
    "# flag users\n",
    "aux3['class'] = aux3['median_delta_days_user'].apply(lambda x : 'above' if x >= median_threshold\n",
    "                                        else 'below')\n",
    "get_descriptive_statistics(aux2[['median_delta_days_user']])"
   ]
  },
  {
   "cell_type": "code",
   "execution_count": null,
   "metadata": {
    "ExecuteTime": {
     "end_time": "2022-08-23T14:14:02.250143Z",
     "start_time": "2022-08-23T14:12:17.678250Z"
    },
    "hidden": true
   },
   "outputs": [],
   "source": [
    "# get df \n",
    "aux4 = df3.merge(aux3[['user_buyer_id', 'class']].drop_duplicates(), how = 'inner', on = 'user_buyer_id')\n",
    "aux4 = aux4[aux4['is_below_10_entire'] == name][['user_buyer_id', 'class', 'gmv_value_brl']]\n",
    "# get users below threshold\n",
    "aux5 = aux4[aux4['class'] == 'below'][['user_buyer_id', 'gmv_value_brl']].groupby('user_buyer_id').sum().reset_index()\n",
    "aux5.columns = ['user_buyer_id', 'below']\n",
    "# get users above threshold\n",
    "aux6 = aux4[aux4['class'] == 'above'][['user_buyer_id', 'gmv_value_brl']].groupby('user_buyer_id').sum().reset_index()\n",
    "aux6.columns = ['user_buyer_id', 'above']\n",
    "pd.concat([get_descriptive_statistics(aux5[['below']]), get_descriptive_statistics(aux6[['above']])])"
   ]
  },
  {
   "cell_type": "code",
   "execution_count": null,
   "metadata": {
    "ExecuteTime": {
     "end_time": "2022-08-23T14:14:05.118376Z",
     "start_time": "2022-08-23T14:14:02.254819Z"
    },
    "hidden": true
   },
   "outputs": [],
   "source": [
    "aux7 = aux4[['user_buyer_id', 'class', 'gmv_value_brl']].groupby(['user_buyer_id', 'class']).sum().reset_index()\n",
    "plt.figure(figsize = (30,10))\n",
    "for d, n in enumerate([np.percentile(aux7['gmv_value_brl'], 5), np.percentile(aux7['gmv_value_brl'], 10), \n",
    "                       np.percentile(aux7['gmv_value_brl'], 25), np.percentile(aux7['gmv_value_brl'], 50),\n",
    "                       np.percentile(aux7['gmv_value_brl'], 75), np.percentile(aux7['gmv_value_brl'], 95)]):\n",
    "    plt.subplot(3,2,d+1)\n",
    "    if d == 0:\n",
    "        aux8 = aux7[(aux7['gmv_value_brl'] <= n)]\n",
    "        prev_n = n\n",
    "    else:\n",
    "        aux8 = aux7[(aux7['gmv_value_brl'] > prev_n) & (aux7['gmv_value_brl'] <= n)]\n",
    "    sns.set_style('white')\n",
    "    splot = sns.histplot(data = aux8, x = 'gmv_value_brl', hue = 'class',\n",
    "                                      palette = {'below': 'darkcyan', 'above': 'darkorange'},   element = 'step')\n",
    "    splot.axes.get_yaxis().set_visible(False)\n",
    "    if d == 0:\n",
    "        plt.title(f\"5th perc. (0-{n:.2f} BRL) | Users: {aux8['user_buyer_id'].nunique():,}\")\n",
    "        splot.axes.get_yaxis().set_visible(True)\n",
    "        splot.get_legend().remove()\n",
    "        plt.xlabel('')\n",
    "        plt.ylabel('users')\n",
    "    if d == 1:\n",
    "        plt.title(f\"10th perc. ({(prev_n):.2f}-{n:.2f} BRL) | Users: {aux8['user_buyer_id'].nunique():,}\")\n",
    "        prev_n = n\n",
    "        splot.axes.get_yaxis().set_visible(True)\n",
    "        plt.xlabel('')\n",
    "        plt.ylabel('')\n",
    "        sns.move_legend(splot, \"center left\", bbox_to_anchor=(1, 0.5), title='Species')\n",
    "    if d == 2:\n",
    "        plt.title(f\"25th perc. ({(prev_n):.2f}-{n:.2f} BRL) | Users: {aux8['user_buyer_id'].nunique():,}\")\n",
    "        prev_n = n   \n",
    "        splot.axes.get_yaxis().set_visible(True)\n",
    "        splot.get_legend().remove()\n",
    "        plt.xlabel('')\n",
    "        plt.ylabel('users')\n",
    "    if d == 3:\n",
    "        plt.title(f\"50th perc. ({(prev_n):.2f}-{n:.2f} BRL) | Users: {aux8['user_buyer_id'].nunique():,}\")\n",
    "        prev_n = n\n",
    "        splot.axes.get_yaxis().set_visible(True)\n",
    "        splot.get_legend().remove()\n",
    "        plt.xlabel('')\n",
    "        plt.ylabel('')\n",
    "    if d == 4:\n",
    "        plt.title(f\"75th perc. ({(prev_n):.2f}-{n:.2f} BRL) | Users: {aux8['user_buyer_id'].nunique():,}\")\n",
    "        prev_n = n   \n",
    "        splot.axes.get_yaxis().set_visible(True)\n",
    "        splot.get_legend().remove()\n",
    "        plt.xlabel('Customer GMV LTV')\n",
    "        plt.ylabel('users')\n",
    "    if d == 5:\n",
    "        plt.title(f\"90th perc. ({(prev_n):.2f}-{n:,.2f} BRL) | Users: {aux8['user_buyer_id'].nunique():,}\")\n",
    "        prev_n = n\n",
    "        splot.axes.get_yaxis().set_visible(True)\n",
    "        splot.get_legend().remove()\n",
    "        plt.xlabel('Customer GMV LTV')\n",
    "        plt.ylabel('')\n",
    "plt.subplots_adjust(wspace=0.1)\n",
    "plt.subplots_adjust(hspace=0.55)\n",
    "plt.show()"
   ]
  },
  {
   "cell_type": "markdown",
   "metadata": {
    "heading_collapsed": true
   },
   "source": [
    "### Do customers repurchase more in a specific period?"
   ]
  },
  {
   "cell_type": "markdown",
   "metadata": {
    "heading_collapsed": true
   },
   "source": [
    "### Which period do customers increase their LTV the most?"
   ]
  },
  {
   "cell_type": "markdown",
   "metadata": {
    "heading_collapsed": true
   },
   "source": [
    "### For how long (on avg.) a single customer generates revenue for a specific producer?"
   ]
  },
  {
   "cell_type": "markdown",
   "metadata": {
    "heading_collapsed": true
   },
   "source": [
    "## Sales Type (Launch vs Evergreen) (ON-HOLD)"
   ]
  },
  {
   "cell_type": "markdown",
   "metadata": {
    "heading_collapsed": true
   },
   "source": [
    "## Payment Type (Subscriptions vs single-payments)"
   ]
  },
  {
   "cell_type": "markdown",
   "metadata": {
    "heading_collapsed": true,
    "hidden": true
   },
   "source": [
    "### How many customers repurchase a 2nd time given that 1st purchase was a subscription?\n"
   ]
  },
  {
   "cell_type": "markdown",
   "metadata": {
    "heading_collapsed": true,
    "hidden": true
   },
   "source": [
    "### How many customers repurchase a 2nd time given that 1st purchase was a single-payment?\n",
    "\n"
   ]
  },
  {
   "cell_type": "markdown",
   "metadata": {
    "heading_collapsed": true,
    "hidden": true
   },
   "source": [
    "### What is the most successful payment method in terms of re-order rate?\n",
    "\n"
   ]
  },
  {
   "cell_type": "markdown",
   "metadata": {
    "heading_collapsed": true,
    "hidden": true
   },
   "source": [
    "### Is GMV from monthly subscriptions higher than annual? How about ticket price?\n",
    "\n"
   ]
  },
  {
   "cell_type": "markdown",
   "metadata": {
    "heading_collapsed": true,
    "hidden": true
   },
   "source": [
    "### How many customers do not renew their subscription? \n",
    "\n"
   ]
  },
  {
   "cell_type": "markdown",
   "metadata": {
    "heading_collapsed": true,
    "hidden": true
   },
   "source": [
    "### When a product is expensive, do customers tend to pay at 2x or more installments? (remove split code)\n",
    "\n"
   ]
  },
  {
   "cell_type": "markdown",
   "metadata": {
    "heading_collapsed": true,
    "hidden": true
   },
   "source": [
    "### Do expensive products increase credit card approval rate?"
   ]
  },
  {
   "cell_type": "markdown",
   "metadata": {
    "heading_collapsed": true
   },
   "source": [
    "## Coupon"
   ]
  },
  {
   "cell_type": "markdown",
   "metadata": {
    "heading_collapsed": true,
    "hidden": true
   },
   "source": [
    "### Does coupon at 1st purchase increase the probability of recurrence?\n"
   ]
  },
  {
   "cell_type": "markdown",
   "metadata": {
    "heading_collapsed": true
   },
   "source": [
    "## Recovery Tools (ON-HOLD)"
   ]
  },
  {
   "cell_type": "markdown",
   "metadata": {
    "heading_collapsed": true,
    "hidden": true
   },
   "source": [
    "### How impactful recovery tools are on LTV per customer?\n"
   ]
  },
  {
   "cell_type": "markdown",
   "metadata": {
    "heading_collapsed": true,
    "hidden": true
   },
   "source": [
    "### Customers who were recovered: do they purchase a 2nd time?\n"
   ]
  },
  {
   "cell_type": "markdown",
   "metadata": {
    "heading_collapsed": true
   },
   "source": [
    "## Producer"
   ]
  },
  {
   "cell_type": "markdown",
   "metadata": {
    "heading_collapsed": true,
    "hidden": true
   },
   "source": [
    "### Do customers repurchase a 2nd time from the same producer if ticket price is lower (in comparison to 1st product)?\n"
   ]
  },
  {
   "cell_type": "markdown",
   "metadata": {
    "heading_collapsed": true,
    "hidden": true
   },
   "source": [
    "### How many users who purchased at 1st time have signed-up beforehand? If size is relevant, do users purchase more products from the same niche, same producer, or different?\n"
   ]
  },
  {
   "cell_type": "markdown",
   "metadata": {
    "heading_collapsed": true
   },
   "source": [
    "## Product"
   ]
  },
  {
   "cell_type": "markdown",
   "metadata": {
    "heading_collapsed": true,
    "hidden": true
   },
   "source": [
    "### Do customers with high LTV purchase products with higher avg. ticket price? Or do they have high LTV due to recurrence? \n",
    "\n"
   ]
  },
  {
   "cell_type": "markdown",
   "metadata": {
    "heading_collapsed": true,
    "hidden": true
   },
   "source": [
    "### Do customers who bought a high rating product repurchase more? (Club)\n",
    "\n",
    "\n"
   ]
  },
  {
   "cell_type": "markdown",
   "metadata": {
    "heading_collapsed": true
   },
   "source": [
    "## Customer"
   ]
  },
  {
   "cell_type": "markdown",
   "metadata": {
    "heading_collapsed": true,
    "hidden": true
   },
   "source": [
    "### Does age influence LTV? (ON-HOLD)\n"
   ]
  },
  {
   "cell_type": "markdown",
   "metadata": {
    "heading_collapsed": true,
    "hidden": true
   },
   "source": [
    "### Does a specific device influence LTV?\n"
   ]
  },
  {
   "cell_type": "markdown",
   "metadata": {
    "heading_collapsed": true
   },
   "source": [
    "## Checkout - Conversion Rate"
   ]
  },
  {
   "cell_type": "markdown",
   "metadata": {
    "heading_collapsed": true,
    "hidden": true
   },
   "source": [
    "### How many users ask for a reimbursement right after purchasing? (check 1st purchase)\n"
   ]
  },
  {
   "cell_type": "markdown",
   "metadata": {
    "heading_collapsed": true
   },
   "source": [
    "## Traffic & Product Type (ON-HOLD)"
   ]
  }
 ],
 "metadata": {
  "colab": {
   "collapsed_sections": [
    "TXMLTNu-CJk_",
    "vpNDSEXECJlb",
    "F2ii2a-jCJmO",
    "E2QeAiObCJms",
    "u8Szzz0zCJnP",
    "ddkFKrXfCJn4",
    "vsOn95sMCJoT",
    "IBe2oThwCJo2",
    "7jjQUKjyCJpO",
    "Az2h8__mCJpn",
    "o8vzYOgPCJp1",
    "somQLmuYCJp2",
    "nlV0efJnCJqB",
    "9jaZQO-0CJqL",
    "GbuL8AZsCJqW",
    "2T1HAOMyCJqe",
    "KeeM5eChCJqo",
    "94EjnH4TCJrD",
    "mWQtak5OCJrL",
    "ukXihIuwCJrT",
    "IQwZmn9zCJrc",
    "oaVZo0YFCJrl",
    "O-eJNoJAl6Di",
    "j_XumS2wZT_v",
    "dYxf3VWUCJs3"
   ],
   "name": "cycle02_rossmann_sales_prediction.ipynb",
   "provenance": [],
   "toc_visible": true
  },
  "hide_input": false,
  "kernelspec": {
   "display_name": "Python 3 (ipykernel)",
   "language": "python",
   "name": "python3"
  },
  "language_info": {
   "codemirror_mode": {
    "name": "ipython",
    "version": 3
   },
   "file_extension": ".py",
   "mimetype": "text/x-python",
   "name": "python",
   "nbconvert_exporter": "python",
   "pygments_lexer": "ipython3",
   "version": "3.8.9"
  }
 },
 "nbformat": 4,
 "nbformat_minor": 1
}
